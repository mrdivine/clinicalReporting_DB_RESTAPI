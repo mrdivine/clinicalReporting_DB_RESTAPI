{
 "cells": [
  {
   "cell_type": "markdown",
   "metadata": {
    "deletable": true,
    "editable": true
   },
   "source": [
    "# Putting the gene annotation together for the Disrupt/Biograph project\n",
    "\n",
    "After extensive discussion with Sebastian, we have decided to make everything in our database to reflect a \"graph-like\" structure. We would start with the gene_id being a primary structure, which needs to be annotated. Then follows patients, and patient specific graphs.\n",
    "\n",
    "For a specific gene, we will have the following:\n",
    "    \n",
    "   - meta_information\n",
    "   - node (strictly calculable)\n",
    "   - edges (empty)\n",
    "   \n",
    "\"Strictly Calculable\" means that it's a number, and can be directly brought into machine learning and kernel applications. Now, the issue that I am considering at the moment is how to combine the different data sources.\n",
    "\n",
    "The driver annotation will be pivotal to the database information. This I have put together from various sources, and is already in the clinical reporting database.\n",
    "\n",
    "The next thing would be drug interactions and target information. This could go into the meta data. However, I would really like to place the one-hot vectors into the node field for categorical data. (Then do it)\n",
    "\n",
    "\n",
    "\n",
    "\n",
    "driver_consensus_score\n",
    "    "
   ]
  },
  {
   "cell_type": "markdown",
   "metadata": {
    "deletable": true,
    "editable": true
   },
   "source": [
    "# Gene Module\n",
    "## gene_id: mongodb\n",
    "### meta_information\n",
    "    \n",
    "   * node_type (string) [\"Gene\",...]\n",
    "   * species (string) [\"hsa\",...]\n",
    "   * cellular_process (string)\n",
    "   * core_pathway (string) [\"Genome Maintenance\",...] \n",
    "   * gene_symbol (string) [\"DNA Damage Control\",...]\n",
    "   * entrez_id (string)\n",
    "   * gene_family_id (string)\n",
    "   * ensembl_id (string)\n",
    "   * uniprot_id (string)\n",
    "   * cancer\n",
    "     * driver_type [None, TSG, Oncogene, Unkown, TSG/Oncogene]\n",
    "     * driver_pmid [None]\n",
    "     * driver_source [None]\n",
    "   * \n",
    "   \n",
    "### Node\n",
    "\n",
    "   * is_driver (bool) [True,False]\n",
    "   * driver_OncodriveROLE_prob (float) [None, 0...1]\n",
    "   * driver_consensus_score (int) [None,#]\n",
    "   \n",
    "    "
   ]
  },
  {
   "cell_type": "markdown",
   "metadata": {
    "deletable": true,
    "editable": true
   },
   "source": [
    "# Patient  Module\n",
    "### meta_information\n",
    "   * patient_id (string)\n",
    "   * disease_type (string)[\"Cancer\",...\n",
    "   * disease_sub_type (string)[\"HCC\",...]\n",
    "   * vep_polyphen_category (string) [None, benign,...]\n",
    "   * vep_sift_category (string) [None, tolerated,...]\n",
    "   * vep_impact (string) [None, MODERATE,...]\n",
    "   * vep_consequence (string) [None, missense_variant]\n",
    "\n",
    "### Node   \n",
    "   * gene_id\n",
    "       * tumor_af (float) [None, 0...1]\n",
    "       * vep_LOFtool (float) [None, 0...1]\n",
    "       * vep_polyphen (float) [None, 0...1]\n",
    "       * vep_sift (float) [None, 0...1]\n",
    "       \n",
    "   * gene_id   \n",
    "       * ..."
   ]
  },
  {
   "cell_type": "code",
   "execution_count": null,
   "metadata": {
    "collapsed": true
   },
   "outputs": [],
   "source": [
    "import pandas as pd"
   ]
  },
  {
   "cell_type": "markdown",
   "metadata": {
    "deletable": true,
    "editable": true
   },
   "source": [
    "# Import Driver gene tables"
   ]
  },
  {
   "cell_type": "code",
   "execution_count": 3,
   "metadata": {
    "collapsed": true
   },
   "outputs": [],
   "source": [
    "df_scored = pd.read_pickle(\"/Users/Heisenberg/pythonProjects/biograph_seeding/data/driver_genes_DataFrame.pkl\")"
   ]
  },
  {
   "cell_type": "code",
   "execution_count": 6,
   "metadata": {
    "collapsed": false
   },
   "outputs": [
    {
     "data": {
      "text/html": [
       "<div>\n",
       "<table border=\"1\" class=\"dataframe\">\n",
       "  <thead>\n",
       "    <tr style=\"text-align: right;\">\n",
       "      <th></th>\n",
       "      <th>Core pathway</th>\n",
       "      <th>OncodriveROLE_prob</th>\n",
       "      <th>Process</th>\n",
       "      <th>driver_type</th>\n",
       "      <th>gene_symbol</th>\n",
       "      <th>pmid</th>\n",
       "      <th>source_name</th>\n",
       "      <th>score</th>\n",
       "    </tr>\n",
       "  </thead>\n",
       "  <tbody>\n",
       "    <tr>\n",
       "      <th>0</th>\n",
       "      <td>NaN</td>\n",
       "      <td>NaN</td>\n",
       "      <td>NaN</td>\n",
       "      <td>TSG</td>\n",
       "      <td>ABI1</td>\n",
       "      <td>14993899</td>\n",
       "      <td>Cosmic</td>\n",
       "      <td>1</td>\n",
       "    </tr>\n",
       "    <tr>\n",
       "      <th>1</th>\n",
       "      <td>NaN</td>\n",
       "      <td>NaN</td>\n",
       "      <td>NaN</td>\n",
       "      <td>Oncogene</td>\n",
       "      <td>ABL1</td>\n",
       "      <td>14993899</td>\n",
       "      <td>Cosmic</td>\n",
       "      <td>4</td>\n",
       "    </tr>\n",
       "    <tr>\n",
       "      <th>616</th>\n",
       "      <td>Cell Cycle/Apoptosis</td>\n",
       "      <td>NaN</td>\n",
       "      <td>Cell Survival</td>\n",
       "      <td>Oncogene</td>\n",
       "      <td>ABL1</td>\n",
       "      <td>23539594</td>\n",
       "      <td>Vogelstein</td>\n",
       "      <td>4</td>\n",
       "    </tr>\n",
       "    <tr>\n",
       "      <th>2135</th>\n",
       "      <td>NaN</td>\n",
       "      <td>NaN</td>\n",
       "      <td>NaN</td>\n",
       "      <td>Oncogene</td>\n",
       "      <td>ABL1</td>\n",
       "      <td>14681372</td>\n",
       "      <td>Uniprot</td>\n",
       "      <td>4</td>\n",
       "    </tr>\n",
       "    <tr>\n",
       "      <th>2367</th>\n",
       "      <td>NaN</td>\n",
       "      <td>NaN</td>\n",
       "      <td>NaN</td>\n",
       "      <td>Oncogene</td>\n",
       "      <td>ABL1</td>\n",
       "      <td>25759023</td>\n",
       "      <td>Rubio-Perez</td>\n",
       "      <td>4</td>\n",
       "    </tr>\n",
       "  </tbody>\n",
       "</table>\n",
       "</div>"
      ],
      "text/plain": [
       "              Core pathway OncodriveROLE_prob        Process driver_type  \\\n",
       "0                      NaN                NaN            NaN         TSG   \n",
       "1                      NaN                NaN            NaN    Oncogene   \n",
       "616   Cell Cycle/Apoptosis                NaN  Cell Survival    Oncogene   \n",
       "2135                   NaN                NaN            NaN    Oncogene   \n",
       "2367                   NaN                NaN            NaN    Oncogene   \n",
       "\n",
       "     gene_symbol      pmid  source_name  score  \n",
       "0           ABI1  14993899       Cosmic      1  \n",
       "1           ABL1  14993899       Cosmic      4  \n",
       "616         ABL1  23539594   Vogelstein      4  \n",
       "2135        ABL1  14681372      Uniprot      4  \n",
       "2367        ABL1  25759023  Rubio-Perez      4  "
      ]
     },
     "execution_count": 6,
     "metadata": {},
     "output_type": "execute_result"
    }
   ],
   "source": [
    "df_scored.head()"
   ]
  },
  {
   "cell_type": "markdown",
   "metadata": {
    "deletable": true,
    "editable": true
   },
   "source": [
    "# prototype the driver insert"
   ]
  },
  {
   "cell_type": "code",
   "execution_count": 4,
   "metadata": {
    "collapsed": false,
    "deletable": true,
    "editable": true
   },
   "outputs": [],
   "source": [
    "gene_symbol = \"B2M\"\n",
    "driver_score = df_scored[\"score\"].groupby(df_scored[\"gene_symbol\"]).mean().loc[gene_symbol]\n",
    "driver_oncodriveROLE = df_scored[\"OncodriveROLE_prob\"].groupby(df_scored[\"gene_symbol\"]).any().replace({False:None}).loc[gene_symbol]\n",
    "\n",
    "driver_source = []\n",
    "\n",
    "for driver_info in df_scored.loc[df_scored[\"gene_symbol\"]==gene_symbol].iterrows():\n",
    "    if driver_info[1][\"source_name\"] == \"Vogelstein\":\n",
    "        driver_source.append(driver_info[1][['driver_type','source_name','pmid',\"Core pathway\",\"Process\"]].to_dict())\n",
    "    else:\n",
    "        driver_source.append(driver_info[1][['driver_type','source_name','pmid']].to_dict())"
   ]
  },
  {
   "cell_type": "code",
   "execution_count": 5,
   "metadata": {
    "collapsed": false,
    "deletable": true,
    "editable": true
   },
   "outputs": [
    {
     "name": "stdout",
     "output_type": "stream",
     "text": [
      "EGFR is a driver found something\n"
     ]
    }
   ],
   "source": [
    "if  not df_scored.loc[df_scored[\"gene_symbol\"]==\"EGFR\"].empty:\n",
    "    print(\"EGFR is a driver found something\")"
   ]
  },
  {
   "cell_type": "code",
   "execution_count": 15,
   "metadata": {
    "collapsed": false,
    "deletable": true,
    "editable": true
   },
   "outputs": [
    {
     "data": {
      "text/plain": [
       "Series([], Name: gene_symbol, dtype: object)"
      ]
     },
     "execution_count": 15,
     "metadata": {},
     "output_type": "execute_result"
    }
   ],
   "source": [
    "df_scored.loc[df_scored[\"gene_symbol\"]==\"NaN\",\"gene_symbol\"]\n"
   ]
  },
  {
   "cell_type": "markdown",
   "metadata": {
    "deletable": true,
    "editable": true
   },
   "source": [
    "# Make the important important.\n",
    "### Do that funky import thang whitey"
   ]
  },
  {
   "cell_type": "code",
   "execution_count": 5,
   "metadata": {
    "collapsed": true,
    "deletable": true,
    "editable": true
   },
   "outputs": [],
   "source": [
    "# start with hsa_copy collection\n",
    "import pymongo\n",
    "from pymongo import MongoClient\n",
    "import numpy as np\n",
    "from bson.objectid import ObjectId\n",
    "from bson.dbref import DBRef\n",
    "from bson.json_util import loads"
   ]
  },
  {
   "cell_type": "code",
   "execution_count": 6,
   "metadata": {
    "collapsed": false,
    "deletable": true,
    "editable": true
   },
   "outputs": [
    {
     "data": {
      "text/plain": [
       "[u'__py_biograph_id_mapping__', u'admin', u'drivers', u'local', u'test']"
      ]
     },
     "execution_count": 6,
     "metadata": {},
     "output_type": "execute_result"
    }
   ],
   "source": [
    "client = MongoClient()\n",
    "client.database_names()"
   ]
  },
  {
   "cell_type": "code",
   "execution_count": 7,
   "metadata": {
    "collapsed": true,
    "deletable": true,
    "editable": true
   },
   "outputs": [],
   "source": [
    "db = client[\"__py_biograph_id_mapping__\"]"
   ]
  },
  {
   "cell_type": "code",
   "execution_count": 8,
   "metadata": {
    "collapsed": true,
    "deletable": true,
    "editable": true
   },
   "outputs": [],
   "source": [
    "# biograph gene structure\n",
    "biograph_gene_dict = {\"meta_information\":{},\n",
    "    \"nodes\":{},\n",
    "    \"edges\":{}}\n",
    "drivers_gene_dict = {\"meta_information\":{},\n",
    "    \"nodes\":{},\n",
    "    \"edges\":{}}"
   ]
  },
  {
   "cell_type": "markdown",
   "metadata": {
    "deletable": true,
    "editable": true
   },
   "source": [
    "# Create the biograph_gene collection"
   ]
  },
  {
   "cell_type": "code",
   "execution_count": 16,
   "metadata": {
    "collapsed": true,
    "deletable": true,
    "editable": true
   },
   "outputs": [],
   "source": [
    "# iterate through the Charlotta my_drug collection, re-structuring and adding driver information where necessary\n",
    "search_filter = {}\n",
    "for charlotta_pointer in db.charlotta.find(search_filter,projection={\"_id\":0,\"cancer\":0}):\n",
    "    # reset the dictionary to avoid duplicate entries\n",
    "    biograph_gene_dict = {\"meta_information\":{},\n",
    "                          \"nodes\":{},\n",
    "                          \"edges\":{}}\n",
    "    # reconfigure charlotta to biograph model\n",
    "    biograph_gene_dict[\"meta_information\"] = charlotta_pointer\n",
    "    # change the key from \"gene_symbol\" to \"symbol\"\n",
    "    biograph_gene_dict[\"meta_information\"][\"symbol\"] = biograph_gene_dict[\"meta_information\"].pop(\"gene_symbol\")\n",
    "    gene_symbol = biograph_gene_dict[\"meta_information\"][\"symbol\"]\n",
    "    # insert species and node type for all genes\n",
    "    biograph_gene_dict[\"meta_information\"][\"species\"] = \"hsa\"\n",
    "    biograph_gene_dict[\"meta_information\"][\"node_type\"] = \"gene\"\n",
    "    \n",
    "    #check to see if it's in the driver list and append accordingly\n",
    "    if not df_scored.loc[df_scored[\"gene_symbol\"]==gene_symbol].empty:\n",
    "        biograph_gene_dict[\"nodes\"][\"is_driver\"] = True\n",
    "        biograph_gene_dict[\"nodes\"][\"driver_score\"] = df_scored[\"score\"].groupby(df_scored[\"gene_symbol\"]).mean().loc[gene_symbol]\n",
    "        biograph_gene_dict[\"nodes\"][\"driver_oncodriveROLE\"] = df_scored[\"OncodriveROLE_prob\"].groupby(df_scored[\"gene_symbol\"]).any().replace({False:None}).loc[gene_symbol]\n",
    "\n",
    "        \n",
    "        driver_source = []\n",
    "\n",
    "        for driver_info in df_scored.loc[df_scored[\"gene_symbol\"]==gene_symbol].iterrows():\n",
    "            if driver_info[1][\"source_name\"] == \"Vogelstein\":\n",
    "                driver_source.append(driver_info[1][['driver_type','source_name','pmid',\"Core pathway\",\"Process\"]].to_dict())\n",
    "            else:\n",
    "                driver_source.append(driver_info[1][['driver_type','source_name','pmid']].to_dict())\n",
    "        \n",
    "        biograph_gene_dict[\"meta_information\"][\"driver_information\"]=driver_source\n",
    "    else:\n",
    "        biograph_gene_dict[\"nodes\"][\"is_driver\"] = False\n",
    "\n",
    "    # create unique _id for each entry\n",
    "    biograph_gene_dict[\"_id\"] = ObjectId()\n",
    "    # inject into database\n",
    "    db.biograph_genes.insert_one(biograph_gene_dict)\n"
   ]
  },
  {
   "cell_type": "code",
   "execution_count": null,
   "metadata": {
    "collapsed": true,
    "deletable": true,
    "editable": true
   },
   "outputs": [],
   "source": []
  },
  {
   "cell_type": "code",
   "execution_count": null,
   "metadata": {
    "collapsed": true,
    "deletable": true,
    "editable": true
   },
   "outputs": [],
   "source": []
  },
  {
   "cell_type": "code",
   "execution_count": null,
   "metadata": {
    "collapsed": true,
    "deletable": true,
    "editable": true
   },
   "outputs": [],
   "source": []
  },
  {
   "cell_type": "code",
   "execution_count": null,
   "metadata": {
    "collapsed": true,
    "deletable": true,
    "editable": true
   },
   "outputs": [],
   "source": []
  },
  {
   "cell_type": "markdown",
   "metadata": {
    "deletable": true,
    "editable": true
   },
   "source": [
    "# upload the TCGA patients to the database"
   ]
  },
  {
   "cell_type": "code",
   "execution_count": 14,
   "metadata": {
    "collapsed": true,
    "deletable": true,
    "editable": true
   },
   "outputs": [],
   "source": [
    "#create dictionary strucutre for uploading to database\n",
    "biograph_TCGA_patient_dict = {\"meta_information\":{},\n",
    "    \"nodes\":{},\n",
    "    \"edges\":{}}\n",
    "# import the pandas dataframe containing the patient annotated VCFs \n",
    "save_path = \"/Users/Heisenberg/pythonProjects/disrupt/data/graphs/TCGA_LIHC_VCFs_vep_to_DB.pkl\"\n",
    "VCFs = pd.read_pickle(save_path)\n",
    "# iterate through dataframe on a patient basis, creating a json for each variant\n",
    "patient_ids = VCFs[\"patient_id\"].unique()\n",
    "node_keys = ['LoFtool','POLYPHEN_score','SIFT_score']"
   ]
  },
  {
   "cell_type": "code",
   "execution_count": 8,
   "metadata": {
    "collapsed": true,
    "deletable": true,
    "editable": true
   },
   "outputs": [],
   "source": [
    "#for patient_df in patient_ids:\n",
    "        \n",
    "    for n in node_keys:\n",
    "        biograph_TCGA_patient_dict[\"meta_information\"][\"symbol\"] = \\\\\n",
    "            biograph_TCGA_patient_dict[\"meta_information\"].pop(\"gene_symbol\")\n",
    "    \n",
    "# match this variant to the database and retrieve db _id for later gene matching\n",
    "\n",
    "# insert patient as document"
   ]
  },
  {
   "cell_type": "code",
   "execution_count": 11,
   "metadata": {
    "collapsed": false,
    "deletable": true,
    "editable": true
   },
   "outputs": [
    {
     "data": {
      "text/plain": [
       "{'Allele': 'A',\n",
       " 'Amino_acids': 'L',\n",
       " 'BIOTYPE': 'protein_coding',\n",
       " 'CANONICAL': 'YES',\n",
       " 'CDS_position': '684',\n",
       " 'CLIN_SIG': '',\n",
       " 'Codons': 'ttG/ttA',\n",
       " 'Consequence': 'synonymous_variant',\n",
       " 'DISTANCE': '',\n",
       " 'DOMAINS': 'Pfam_domain:PF14954&hmmpanther:PTHR31139',\n",
       " 'ENSP': 'ENSP00000358314',\n",
       " 'EXON': '4/6',\n",
       " 'Existing_variation': 'COSM4937220',\n",
       " 'FLAGS': '',\n",
       " 'Feature': 'ENST00000369308',\n",
       " 'Feature_type': 'Transcript',\n",
       " 'GENE_PHENO': '',\n",
       " 'Gene': 'ENSG00000152022',\n",
       " 'HGNC_ID': '28715',\n",
       " 'HGVS_OFFSET': '',\n",
       " 'HGVSc': 'ENST00000369308.3:c.684G>A',\n",
       " 'HGVSp': 'ENSP00000358314.3:p.Leu228%3D',\n",
       " 'IMPACT': 'LOW',\n",
       " 'INTRON': '',\n",
       " 'LoF': '',\n",
       " 'LoF_filter': '',\n",
       " 'LoF_flags': '',\n",
       " 'LoF_info': '',\n",
       " 'LoFtool': '0.405',\n",
       " 'PHENO': '1',\n",
       " 'PICK': '1',\n",
       " 'POLYPHEN_outcome': 'unknown',\n",
       " 'POLYPHEN_score': nan,\n",
       " 'PUBMED': '',\n",
       " 'PolyPhen': 'unknown',\n",
       " 'Protein_position': '228',\n",
       " 'SIFT': 'unknown',\n",
       " 'SIFT_outcome': 'unknown',\n",
       " 'SIFT_score': nan,\n",
       " 'SOMATIC': '1',\n",
       " 'STRAND': '1',\n",
       " 'SWISSPROT': 'Q8IVB5',\n",
       " 'SYMBOL': 'LIX1L',\n",
       " 'SYMBOL_SOURCE': 'HGNC',\n",
       " 'TREMBL': '',\n",
       " 'TSL': '',\n",
       " 'UNIPARC': 'UPI0000074663',\n",
       " 'VARIANT_CLASS': 'SNV',\n",
       " 'cDNA_position': '758',\n",
       " 'patient_id': '9681d501-d5be-4b4d-8587-69b0a4f9eb3a'}"
      ]
     },
     "execution_count": 11,
     "metadata": {},
     "output_type": "execute_result"
    }
   ],
   "source": [
    "VCFs.iloc[0].to_dict()"
   ]
  },
  {
   "cell_type": "code",
   "execution_count": 21,
   "metadata": {
    "collapsed": false,
    "deletable": true,
    "editable": true
   },
   "outputs": [],
   "source": [
    "# can you send a list of genes to the hsa_copy collection, recieving the _id\n",
    "patients_genes = VCFs.loc[VCFs[\"patient_id\"]==patient_ids[0],\"SYMBOL\"].values\n",
    "search_filter = {\"$and\":[{\"symbol\":{\"$ne\":\"\"}},{\"symbol\":{\"$exists\":True}},{\"symbol\":{\"$in\":list(patients_genes)}}]}\n",
    "G = db.hsa_copy.find(search_filter,projection={\"_id\":1})"
   ]
  },
  {
   "cell_type": "code",
   "execution_count": 20,
   "metadata": {
    "collapsed": false,
    "deletable": true,
    "editable": true
   },
   "outputs": [
    {
     "data": {
      "text/plain": [
       "array(['LIX1L', 'TTC4', 'CHD5', 'ITGA10', 'CNKSR1', 'CCDC28B', 'COL16A1',\n",
       "       'TGFB2', 'UBR4', 'HNRNPCL1', 'SPEN', 'SLC9C2', 'ENO1', 'EPHA10',\n",
       "       'NOTCH2', 'FAM89A', 'PTPRU', 'CTSK', 'TCTEX1D4', 'COL11A1', 'KPNA6',\n",
       "       'ABCB10', 'ADORA3', 'LCE1F', 'AK2', 'ARID1A', 'LYST', 'NEBL',\n",
       "       'RTKN2', 'TACC2', 'FBXW4', 'PNLIP', 'TRIM22', 'TRIM66', 'RCE1',\n",
       "       'ATM', 'RP11-399J13.3', 'WNK1', 'FGF6', 'KRT4', 'ABCC4', 'PDX1',\n",
       "       'SPTLC2', 'SYNE2', 'RIN3', 'NYNRIN', 'FAM71D', 'ZFYVE1', 'KIAA0586',\n",
       "       'ARHGEF40', 'PLCG2', 'CCDC135', 'ITGAM', 'RBL2', 'OGFOD3', 'KIF19',\n",
       "       'MYH4', 'KRTAP4-11', 'MTMR4', 'MRC2', 'AANAT', 'QRICH2', 'ACE',\n",
       "       'AFMID', 'ALOX12', 'ALPK2', 'SOCS6', 'TXNL1', 'ZNF112', 'USHBP1',\n",
       "       'MUC16', 'MBOAT7', 'NFKBIB', 'CPT1C', 'RESP18', 'LRP2', 'NPHP1',\n",
       "       'XPO1', 'HTRA2', 'NMUR1', 'ST6GAL2', 'VWA3B', 'USP40', 'NEU2',\n",
       "       'MYO3B', 'PUS10', 'TMEM131', 'WDFY1', 'SCN3A', 'PIKFYVE', 'HDLBP',\n",
       "       'E2F6', 'GPR148', 'CYP27C1', 'CPS1', 'COBLL1', 'HK2', 'ECEL1',\n",
       "       'ADAM17', 'FIGN', 'ASAP2', 'ARHGAP25', 'CLASP1', 'MOCS3', 'NCOA6',\n",
       "       'RP4-785G19.5', 'RPRD1B', 'TRIOBP', 'MN1', 'PANX2', 'FNDC3B',\n",
       "       'RAB6B', 'TUSC2', 'PPP2R3A', 'LAMB2', 'DPPA2', 'DBR1', 'PLXNA1',\n",
       "       'COL6A6', 'CNOT10', 'BHLHE40', 'WDR5B', 'SCN10A', 'PLOD2', 'FGD5',\n",
       "       'PIK3R4', 'HEG1', 'MLH1', 'GHSR', 'TMPRSS11B', 'FAM184B', 'FAT1',\n",
       "       'CENPE', 'GRID2', 'NR3C2', 'GALNTL6', 'PRMT10', 'AFF1', 'POLN',\n",
       "       'GAB1', 'ATP10B', 'VCAN', 'TRIO', 'TRIO', 'TBC1D9B', 'GABRG2',\n",
       "       'WDR55', 'CCNB1', 'ADAMTS19', 'PCDHGA12', 'FTMT', 'GABRG2', 'ZFR',\n",
       "       'SRSF3', 'WDR46', 'SLC22A23', 'UTRN', 'MYLIP', 'TCF21', 'KHDC3L',\n",
       "       'SCAND3', 'STK19', 'SPATS1', 'GRM1', 'POU5F1', 'OPRM1', 'FAM180A',\n",
       "       'MIR153-2', 'KIAA1324L', 'KMT2C', 'MAK16', 'PPP1R3B', 'EXTL3',\n",
       "       'KCNB2', 'TMEM64', 'PPP1R16A', 'MROH6', 'MROH6', 'PTK2B', 'MUSK',\n",
       "       'RLN2', 'HAUS6', 'JAK2', 'FAM47A', 'ZDHHC9', 'MAP7D2'], dtype=object)"
      ]
     },
     "execution_count": 20,
     "metadata": {},
     "output_type": "execute_result"
    }
   ],
   "source": [
    "patients_genes = VCFs.loc[VCFs[\"patient_id\"]==patient_ids[0],\"SYMBOL\"].values\n",
    "patients_genes"
   ]
  },
  {
   "cell_type": "code",
   "execution_count": null,
   "metadata": {
    "collapsed": true,
    "deletable": true,
    "editable": true
   },
   "outputs": [],
   "source": []
  },
  {
   "cell_type": "code",
   "execution_count": 26,
   "metadata": {
    "collapsed": false,
    "deletable": true,
    "editable": true
   },
   "outputs": [],
   "source": [
    "#patients_genes\n",
    "for g in G:\n",
    "    print(g[u'_id'])"
   ]
  },
  {
   "cell_type": "code",
   "execution_count": 29,
   "metadata": {
    "collapsed": false,
    "deletable": true,
    "editable": true
   },
   "outputs": [],
   "source": [
    "oi = g[u'_id']"
   ]
  },
  {
   "cell_type": "code",
   "execution_count": 32,
   "metadata": {
    "collapsed": false,
    "deletable": true,
    "editable": true
   },
   "outputs": [
    {
     "data": {
      "text/plain": [
       "<bound method type.is_valid of <class 'bson.objectid.ObjectId'>>"
      ]
     },
     "execution_count": 32,
     "metadata": {},
     "output_type": "execute_result"
    }
   ],
   "source": [
    "oi.is_valid"
   ]
  },
  {
   "cell_type": "code",
   "execution_count": 41,
   "metadata": {
    "collapsed": false,
    "deletable": true,
    "editable": true
   },
   "outputs": [
    {
     "name": "stdout",
     "output_type": "stream",
     "text": [
      "\"LIX1L\",\"TTC4\",\"CHD5\",\"ITGA10\",\"CNKSR1\",\"CCDC28B\",\"COL16A1\",\"TGFB2\",\"UBR4\",\"HNRNPCL1\",\"SPEN\",\"SLC9C2\",\"ENO1\",\"EPHA10\",\"NOTCH2\",\"FAM89A\",\"PTPRU\",\"CTSK\",\"TCTEX1D4\",\"COL11A1\",\"KPNA6\",\"ABCB10\",\"ADORA3\",\"LCE1F\",\"AK2\",\"ARID1A\",\"LYST\",\"NEBL\",\"RTKN2\",\"TACC2\",\"FBXW4\",\"PNLIP\",\"TRIM22\",\"TRIM66\",\"RCE1\",\"ATM\",\"RP11-399J13.3\",\"WNK1\",\"FGF6\",\"KRT4\",\"ABCC4\",\"PDX1\",\"SPTLC2\",\"SYNE2\",\"RIN3\",\"NYNRIN\",\"FAM71D\",\"ZFYVE1\",\"KIAA0586\",\"ARHGEF40\",\"PLCG2\",\"CCDC135\",\"ITGAM\",\"RBL2\",\"OGFOD3\",\"KIF19\",\"MYH4\",\"KRTAP4-11\",\"MTMR4\",\"MRC2\",\"AANAT\",\"QRICH2\",\"ACE\",\"AFMID\",\"ALOX12\",\"ALPK2\",\"SOCS6\",\"TXNL1\",\"ZNF112\",\"USHBP1\",\"MUC16\",\"MBOAT7\",\"NFKBIB\",\"CPT1C\",\"RESP18\",\"LRP2\",\"NPHP1\",\"XPO1\",\"HTRA2\",\"NMUR1\",\"ST6GAL2\",\"VWA3B\",\"USP40\",\"NEU2\",\"MYO3B\",\"PUS10\",\"TMEM131\",\"WDFY1\",\"SCN3A\",\"PIKFYVE\",\"HDLBP\",\"E2F6\",\"GPR148\",\"CYP27C1\",\"CPS1\",\"COBLL1\",\"HK2\",\"ECEL1\",\"ADAM17\",\"FIGN\",\"ASAP2\",\"ARHGAP25\",\"CLASP1\",\"MOCS3\",\"NCOA6\",\"RP4-785G19.5\",\"RPRD1B\",\"TRIOBP\",\"MN1\",\"PANX2\",\"FNDC3B\",\"RAB6B\",\"TUSC2\",\"PPP2R3A\",\"LAMB2\",\"DPPA2\",\"DBR1\",\"PLXNA1\",\"COL6A6\",\"CNOT10\",\"BHLHE40\",\"WDR5B\",\"SCN10A\",\"PLOD2\",\"FGD5\",\"PIK3R4\",\"HEG1\",\"MLH1\",\"GHSR\",\"TMPRSS11B\",\"FAM184B\",\"FAT1\",\"CENPE\",\"GRID2\",\"NR3C2\",\"GALNTL6\",\"PRMT10\",\"AFF1\",\"POLN\",\"GAB1\",\"ATP10B\",\"VCAN\",\"TRIO\",\"TRIO\",\"TBC1D9B\",\"GABRG2\",\"WDR55\",\"CCNB1\",\"ADAMTS19\",\"PCDHGA12\",\"FTMT\",\"GABRG2\",\"ZFR\",\"SRSF3\",\"WDR46\",\"SLC22A23\",\"UTRN\",\"MYLIP\",\"TCF21\",\"KHDC3L\",\"SCAND3\",\"STK19\",\"SPATS1\",\"GRM1\",\"POU5F1\",\"OPRM1\",\"FAM180A\",\"MIR153-2\",\"KIAA1324L\",\"KMT2C\",\"MAK16\",\"PPP1R3B\",\"EXTL3\",\"KCNB2\",\"TMEM64\",\"PPP1R16A\",\"MROH6\",\"MROH6\",\"PTK2B\",\"MUSK\",\"RLN2\",\"HAUS6\",\"JAK2\",\"FAM47A\",\"ZDHHC9\",\"MAP7D2\"\n"
     ]
    }
   ],
   "source": [
    "print('\"' + '\",\"'.join(patients_genes)+'\"')"
   ]
  },
  {
   "cell_type": "code",
   "execution_count": null,
   "metadata": {
    "collapsed": true,
    "deletable": true,
    "editable": true
   },
   "outputs": [],
   "source": []
  },
  {
   "cell_type": "code",
   "execution_count": null,
   "metadata": {
    "collapsed": true,
    "deletable": true,
    "editable": true
   },
   "outputs": [],
   "source": []
  },
  {
   "cell_type": "markdown",
   "metadata": {
    "deletable": true,
    "editable": true
   },
   "source": [
    "# Miscellaneous code so I don't forget what I know"
   ]
  },
  {
   "cell_type": "code",
   "execution_count": 106,
   "metadata": {
    "collapsed": false,
    "deletable": true,
    "editable": true
   },
   "outputs": [
    {
     "name": "stderr",
     "output_type": "stream",
     "text": [
      "/Users/Heisenberg/anaconda/lib/python2.7/site-packages/ipykernel/__main__.py:1: DeprecationWarning: remove is deprecated. Use delete_one or delete_many instead.\n",
      "  if __name__ == '__main__':\n"
     ]
    },
    {
     "data": {
      "text/plain": [
       "{u'n': 37208, u'ok': 1.0}"
      ]
     },
     "execution_count": 106,
     "metadata": {},
     "output_type": "execute_result"
    }
   ],
   "source": [
    "db.biograph_genes.remove()"
   ]
  },
  {
   "cell_type": "code",
   "execution_count": 94,
   "metadata": {
    "collapsed": false,
    "deletable": true,
    "editable": true
   },
   "outputs": [
    {
     "name": "stderr",
     "output_type": "stream",
     "text": [
      "/Users/Heisenberg/anaconda/lib/python2.7/site-packages/ipykernel/__main__.py:1: DeprecationWarning: remove is deprecated. Use delete_one or delete_many instead.\n",
      "  if __name__ == '__main__':\n"
     ]
    },
    {
     "data": {
      "text/plain": [
       "{u'n': 3527, u'ok': 1.0}"
      ]
     },
     "execution_count": 94,
     "metadata": {},
     "output_type": "execute_result"
    }
   ],
   "source": [
    "db.biograph_driver_genes.remove()"
   ]
  },
  {
   "cell_type": "code",
   "execution_count": 5,
   "metadata": {
    "collapsed": true,
    "deletable": true,
    "editable": true
   },
   "outputs": [],
   "source": [
    "#make a copy of hsa\n",
    "#pipeline = [ {\"$match\": {}}, \n",
    "#             {\"$out\": \"hsa_copy\"},\n",
    "#]\n",
    "#db.hsa.aggregate(pipeline)"
   ]
  },
  {
   "cell_type": "code",
   "execution_count": 6,
   "metadata": {
    "collapsed": true,
    "deletable": true,
    "editable": true
   },
   "outputs": [],
   "source": [
    "pipeline = [{\"$match\":{\"ensembl_gene_id\":\"ENSG00000243989\"}},\n",
    "            {\"$project\":{\"cancer.source_name\":1,\n",
    "                         \"cancer.driver_type\":1}},\n",
    "            {\"$addFields\":{\"node_type\":\"gene\",\n",
    "                           \"species\":\"hsa\"}}\n",
    "           ]"
   ]
  },
  {
   "cell_type": "code",
   "execution_count": 8,
   "metadata": {
    "collapsed": false,
    "deletable": true,
    "editable": true
   },
   "outputs": [],
   "source": [
    "r = db.charlotta.aggregate(pipeline)"
   ]
  },
  {
   "cell_type": "code",
   "execution_count": 9,
   "metadata": {
    "collapsed": true,
    "deletable": true,
    "editable": true
   },
   "outputs": [],
   "source": [
    "pipeline = [{\"$unwind\":\"$nodes\"},\n",
    "            {\"$lookup\":\n",
    "             {\"from\":\"drivers\",\n",
    "             \"localField\":\"ensembl_gene_id\",\n",
    "             \"foreignField\":\"ensembl\",\n",
    "             \"as\":\"combined\"}\n",
    "            },\n",
    "            {\"$out\":\"combined\"}\n",
    "             ]"
   ]
  }
 ],
 "metadata": {
  "kernelspec": {
   "display_name": "Python 2",
   "language": "python",
   "name": "python2"
  },
  "language_info": {
   "codemirror_mode": {
    "name": "ipython",
    "version": 2
   },
   "file_extension": ".py",
   "mimetype": "text/x-python",
   "name": "python",
   "nbconvert_exporter": "python",
   "pygments_lexer": "ipython2",
   "version": "2.7.12"
  }
 },
 "nbformat": 4,
 "nbformat_minor": 0
}
