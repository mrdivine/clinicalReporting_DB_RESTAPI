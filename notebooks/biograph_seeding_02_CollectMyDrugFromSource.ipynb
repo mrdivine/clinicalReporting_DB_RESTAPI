{
 "cells": [
  {
   "cell_type": "markdown",
   "metadata": {
    "deletable": true,
    "editable": true
   },
   "source": [
    "# Collect Driver Genes from Various Sources\n",
    "\n",
    "Collect the various driver genes from the various sources listed in the README.md, placing them into\n",
    "the predifined json-schema outlined in \"driversValidationSchemaLight.json\". Start\n",
    "at the top of the list in the README, and just collect...\n",
    "\n",
    "When collecting, try to stay with a particular column naming\n",
    "\n",
    "\"gene_symbol\",\"driver_type\",\"pmid\",\"source_name\""
   ]
  },
  {
   "cell_type": "code",
   "execution_count": 1,
   "metadata": {
    "collapsed": true,
    "deletable": true,
    "editable": true,
    "run_control": {
     "frozen": false,
     "read_only": false
    }
   },
   "outputs": [],
   "source": [
    "import pandas as pd\n",
    "import os\n",
    "import datetime\n",
    "import numpy as np"
   ]
  },
  {
   "cell_type": "code",
   "execution_count": 2,
   "metadata": {
    "collapsed": false,
    "deletable": true,
    "editable": true
   },
   "outputs": [],
   "source": [
    "import lxml.etree as ET\n",
    "import codecs\n",
    "import subprocess\n",
    "from rdkit import Chem\n",
    "import gzip\n",
    "import requests\n",
    "from functools import reduce"
   ]
  },
  {
   "cell_type": "code",
   "execution_count": 3,
   "metadata": {
    "collapsed": true,
    "deletable": true,
    "editable": true,
    "run_control": {
     "frozen": false,
     "read_only": false
    }
   },
   "outputs": [],
   "source": [
    "def combine_cols(series, colname):\n",
    "    ret_val = np.nan\n",
    "    for col in colname:\n",
    "        if not pd.isnull(series[col]):\n",
    "            ret_val = series[col]\n",
    "            break\n",
    "    return ret_val"
   ]
  },
  {
   "cell_type": "markdown",
   "metadata": {
    "deletable": true,
    "editable": true
   },
   "source": [
    "# Download gene data"
   ]
  },
  {
   "cell_type": "code",
   "execution_count": 4,
   "metadata": {
    "collapsed": false,
    "deletable": true,
    "editable": true
   },
   "outputs": [
    {
     "name": "stdout",
     "output_type": "stream",
     "text": [
      "/Users/Heisenberg/DockerStation/clinicalReporting_01/Data\n"
     ]
    }
   ],
   "source": [
    "%cd /Users/Heisenberg/DockerStation/clinicalReporting_01/Data"
   ]
  },
  {
   "cell_type": "code",
   "execution_count": 5,
   "metadata": {
    "collapsed": true,
    "deletable": true,
    "editable": true,
    "run_control": {
     "frozen": false,
     "read_only": false
    }
   },
   "outputs": [],
   "source": [
    "HGNC_DOWNLOAD = \"ftp://ftp.ebi.ac.uk/pub/databases/genenames/new/tsv/hgnc_complete_set.txt\"\n",
    "UNIPROT_DOWNLOAD = \"http://www.uniprot.org/uniprot/?query=reviewed:yes+AND+organism:9606&format=tab&compress=yes&columns=id,entry%20name,reviewed,protein%20names,genes,organism,length,sequence,ec,feature(ACTIVE%20SITE),feature(BINDING%20SITE),comment(TISSUE%20SPECIFICITY),go(biological%20process),go(molecular%20function),go(cellular%20component),go-id,comment(BIOTECHNOLOGY),comment(DISEASE),comment(PHARMACEUTICAL),feature(MUTAGENESIS),comment(DISRUPTION%20PHENOTYPE),last-modified,created,database(CCDS),database(EMBL),database(RefSeq),database(HGNC)\""
   ]
  },
  {
   "cell_type": "code",
   "execution_count": 6,
   "metadata": {
    "collapsed": false,
    "deletable": true,
    "editable": true,
    "run_control": {
     "frozen": false,
     "read_only": false
    }
   },
   "outputs": [
    {
     "name": "stderr",
     "output_type": "stream",
     "text": [
      "/Users/Heisenberg/anaconda/envs/clinicalreporting/lib/python3.5/site-packages/IPython/core/interactiveshell.py:2717: DtypeWarning: Columns (32,34,38) have mixed types. Specify dtype option on import or set low_memory=False.\n",
      "  interactivity=interactivity, compiler=compiler, result=result)\n"
     ]
    }
   ],
   "source": [
    "genes = pd.read_csv(HGNC_DOWNLOAD, sep=\"\\t\").rename(columns={'symbol': 'gene_symbol'})\n",
    "genes[\"hgnc_id\"] = pd.to_numeric(genes[\"hgnc_id\"].str.replace(\"HGNC:\", \"\"))"
   ]
  },
  {
   "cell_type": "code",
   "execution_count": 7,
   "metadata": {
    "collapsed": false,
    "deletable": true,
    "editable": true,
    "run_control": {
     "frozen": false,
     "read_only": false
    }
   },
   "outputs": [],
   "source": [
    "gene_synonyms = [(s[\"hgnc_id\"], x)\n",
    "                 for i, s in genes[[\"hgnc_id\", \"alias_symbol\"]].dropna(subset=[\"alias_symbol\"]).iterrows()\n",
    "                 for x in s[\"alias_symbol\"].split(\"|\") if x not in genes[\"gene_symbol\"].tolist()]"
   ]
  },
  {
   "cell_type": "code",
   "execution_count": 8,
   "metadata": {
    "collapsed": false,
    "deletable": true,
    "editable": true
   },
   "outputs": [],
   "source": [
    "gene_synonyms += [(s[\"hgnc_id\"], x)\n",
    "                  for i, s in genes[[\"hgnc_id\", \"prev_symbol\"]].dropna(subset=[\"prev_symbol\"]).iterrows()\n",
    "                  for x in s[\"prev_symbol\"].split(\"|\") if x not in genes[\"gene_symbol\"].tolist()]"
   ]
  },
  {
   "cell_type": "code",
   "execution_count": 9,
   "metadata": {
    "collapsed": false,
    "deletable": true,
    "editable": true
   },
   "outputs": [],
   "source": [
    "gene_synonym_df = pd.concat([genes[[\"hgnc_id\", \"gene_symbol\"]],\n",
    "                             pd.DataFrame(gene_synonyms, columns=[\"hgnc_id\", \"gene_symbol\"])])"
   ]
  },
  {
   "cell_type": "code",
   "execution_count": 10,
   "metadata": {
    "collapsed": false,
    "deletable": true,
    "editable": true
   },
   "outputs": [],
   "source": [
    "all_genes = genes[['hgnc_id', 'gene_symbol', 'name', 'status', 'locus_group', 'locus_type',\n",
    "                   'gene_family', 'alias_symbol', 'prev_symbol', 'location', 'uniprot_ids',\n",
    "                   'entrez_id', 'ensembl_gene_id', 'date_approved_reserved', 'date_modified',\n",
    "                   'date_symbol_changed']].set_index('hgnc_id', drop=False).to_dict('index')"
   ]
  },
  {
   "cell_type": "code",
   "execution_count": 11,
   "metadata": {
    "collapsed": true,
    "deletable": true,
    "editable": true
   },
   "outputs": [],
   "source": [
    "genes2entrez = genes[[\"hgnc_id\", \"entrez_id\"]].dropna()"
   ]
  },
  {
   "cell_type": "code",
   "execution_count": 12,
   "metadata": {
    "collapsed": false,
    "deletable": true,
    "editable": true
   },
   "outputs": [],
   "source": [
    "genes2uniprot = genes[[\"hgnc_id\", \"uniprot_ids\"]].dropna()"
   ]
  },
  {
   "cell_type": "code",
   "execution_count": 13,
   "metadata": {
    "collapsed": true,
    "deletable": true,
    "editable": true,
    "run_control": {
     "frozen": false,
     "read_only": false
    }
   },
   "outputs": [],
   "source": [
    "#name some global variables\n",
    "columns_to_db = [\"hgnc_id\", \"gene_symbol\",\"driver_type\",\"pmid\",\"source_name\"]\n",
    "source_container = {}\n",
    "#set data path with your own\n",
    "data_path = \"/Users/Heisenberg/DockerStation/clinicalReporting_01/Data\""
   ]
  },
  {
   "cell_type": "markdown",
   "metadata": {
    "deletable": true,
    "editable": true
   },
   "source": [
    "# Vogelstein et al."
   ]
  },
  {
   "cell_type": "code",
   "execution_count": 14,
   "metadata": {
    "collapsed": false,
    "deletable": true,
    "editable": true,
    "run_control": {
     "frozen": false,
     "read_only": false
    }
   },
   "outputs": [],
   "source": [
    "path_name = os.path.join(data_path,'Vogelstein_CancerGenomeLandscape_Science_2013.csv')\n",
    "vogelstein_df = pd.read_csv(path_name,delimiter=';')\n",
    "vogelstein_pmid = '23539594'\n",
    "vogelstein_name = \"Vogelstein\"\n",
    "vogelstein_df = vogelstein_df.assign(pmid=vogelstein_pmid,source_name=vogelstein_name)\n",
    "# correct names for later mergin'\n",
    "vogelstein_df = vogelstein_df.rename(index=str,columns={\"Gene Symbol\":\"gene_symbol\",\"Classification*\":\"driver_type\"})\n",
    "vogelstein_df = vogelstein_df.merge(gene_synonym_df)\n",
    "\n",
    "vogelstein_df=vogelstein_df[columns_to_db]\n",
    "vogelstein_df['driver_type'].unique()\n",
    "\n",
    "source_container[vogelstein_name]=vogelstein_df"
   ]
  },
  {
   "cell_type": "markdown",
   "metadata": {
    "deletable": true,
    "editable": true
   },
   "source": [
    "# Rubio-Perez et al."
   ]
  },
  {
   "cell_type": "code",
   "execution_count": 15,
   "metadata": {
    "collapsed": true,
    "deletable": true,
    "editable": true,
    "run_control": {
     "frozen": false,
     "read_only": false
    }
   },
   "outputs": [],
   "source": [
    "path_name = os.path.join(data_path,'Drivers_type_role.tsv')\n",
    "rubiop_df = pd.read_csv(path_name,delimiter='\\t',comment='#')\n",
    "rubiop_pmid = \"25759023\"\n",
    "rubiop_name = \"Rubio-Perez\"\n",
    "rubiop_df = rubiop_df.assign(pmid=rubiop_pmid,source_name=rubiop_name)\n",
    "rubiop_df = rubiop_df.rename(index=str,columns={\"geneHGNCsymbol\":\"gene_symbol\",\"Driver_type\":\"driver_type\"})\n",
    "rubiop_df = rubiop_df.merge(gene_synonym_df)\n",
    "\n",
    "rubiop_df['Role'].unique()\n",
    "rubiop_df['driver_type'].unique()\n",
    "mapper = dict(zip(rubiop_df['Role'].unique(),[\"Oncogene\",\"TSG\",\"Unknown\",\"Oncogene\"]))\n",
    "rubiop_df[\"driver_type\"]=rubiop_df[\"Role\"].map(mapper)\n",
    "# rubiop_df.loc[rubiop_df['Role']=='A']\n",
    "\n",
    "rubiop_df= rubiop_df[columns_to_db]\n",
    "\n",
    "source_container[rubiop_name]=rubiop_df"
   ]
  },
  {
   "cell_type": "markdown",
   "metadata": {
    "deletable": true,
    "editable": true
   },
   "source": [
    "# Uniprot"
   ]
  },
  {
   "cell_type": "code",
   "execution_count": 16,
   "metadata": {
    "collapsed": false,
    "deletable": true,
    "editable": true,
    "run_control": {
     "frozen": false,
     "read_only": false
    }
   },
   "outputs": [],
   "source": [
    "oncogene_path_name = os.path.join(data_path,'uniprot-keyword%3A%22Proto-oncogene+%5BKW-0656%5D%22.tab')\n",
    "tsg_path_name = os.path.join(data_path,'uniprot-keyword%3A%22Tumor+suppressor+%5BKW-0043%5D%22.tab')\n",
    "\n",
    "uniprot_oncogene_df = pd.read_csv(oncogene_path_name,'\\t')\n",
    "uniprot_oncogene_df[\"driver_type\"]=\"Oncogene\"\n",
    "uniprot_tsg_df = pd.read_csv(tsg_path_name,'\\t')\n",
    "uniprot_tsg_df[\"driver_type\"]=\"TSG\"\n",
    "\n",
    "uniprot_df = pd.concat([uniprot_tsg_df,uniprot_oncogene_df],axis=0)\n",
    "uniprot_df[\"gene_symbol\"]=uniprot_df[\"Gene names\"].apply(lambda x: x.split(\" \")[0])\n",
    "\n",
    "uniprot_df = uniprot_df.merge(genes2uniprot, left_on=\"Entry\", right_on=\"uniprot_ids\").drop(\"uniprot_ids\", axis=1)\n",
    "\n",
    "uniprot_name = \"Uniprot\"\n",
    "uniprot_pmid = \"14681372\"\n",
    "uniprot_df = uniprot_df.assign(pmid=uniprot_pmid,source_name=uniprot_name)\n",
    "\n",
    "uniprot_df = uniprot_df[columns_to_db]\n",
    "\n",
    "source_container[uniprot_name] = uniprot_df"
   ]
  },
  {
   "cell_type": "markdown",
   "metadata": {
    "deletable": true,
    "editable": true
   },
   "source": [
    "# Cosmic Census"
   ]
  },
  {
   "cell_type": "code",
   "execution_count": 17,
   "metadata": {
    "collapsed": true,
    "deletable": true,
    "editable": true,
    "run_control": {
     "frozen": false,
     "read_only": false
    }
   },
   "outputs": [],
   "source": [
    "path_name = os.path.join(data_path,'Census_allTue Mar 14 14_33_17 2017.tsv')\n",
    "cosmic_df = pd.read_csv(path_name,\"\\t\")\n",
    "cosmic_name = \"Cosmic\"\n",
    "cosmic_pmid = \"14993899\"\n",
    "cosmic_df = cosmic_df.assign(source_name=cosmic_name,pmid=cosmic_pmid)\n",
    "\n",
    "cosmic_df[\"Role in Cancer\"].unique()\n",
    "mapper = dict(zip(cosmic_df[\"Role in Cancer\"].unique(),[\"TSG\",\"Oncogene\",\"Unknown\",\"Oncogene/TSG\"]))\n",
    "\n",
    "cosmic_df[\"driver_type\"]=cosmic_df[\"Role in Cancer\"].map(mapper)\n",
    "cosmic_df = cosmic_df.rename(index=str, columns={\"Gene Symbol\":\"gene_symbol\"})\n",
    "cosmic_df = cosmic_df.merge(genes2entrez, left_on=\"Entrez GeneId\", right_on=\"entrez_id\").drop(\"entrez_id\", axis=1)\n",
    "cosmic_df = cosmic_df[columns_to_db]\n",
    "\n",
    "source_container[cosmic_name]=cosmic_df"
   ]
  },
  {
   "cell_type": "markdown",
   "metadata": {
    "deletable": true,
    "editable": true
   },
   "source": [
    "# TSgene"
   ]
  },
  {
   "cell_type": "code",
   "execution_count": 18,
   "metadata": {
    "collapsed": false,
    "deletable": true,
    "editable": true,
    "run_control": {
     "frozen": false,
     "read_only": false
    }
   },
   "outputs": [],
   "source": [
    "tsgene_pathname = os.path.join(data_path,'Human_TSGs.txt')\n",
    "tsgene_df = pd.read_csv(tsgene_pathname,delimiter=\"\\t\")\n",
    "tsgene_df[:1]\n",
    "\n",
    "tsgene_name = \"TSgene\"\n",
    "tsgene_pmid = \"23066107\"\n",
    "\n",
    "tsgene_df= tsgene_df.assign(source_name=tsgene_name,pmid=tsgene_pmid,driver_type=\"TSG\")\n",
    "tsgene_df = tsgene_df.rename(index=str,columns={\"GeneSymbol\":\"gene_symbol\"})\n",
    "tsgene_df = tsgene_df.merge(genes2entrez, left_on=\"GeneID\", right_on=\"entrez_id\").drop(\"entrez_id\", axis=1)\n",
    "tsgene_df = tsgene_df[columns_to_db]\n",
    "\n",
    "source_container[tsgene_name]=tsgene_df"
   ]
  },
  {
   "cell_type": "markdown",
   "metadata": {
    "deletable": true,
    "editable": true
   },
   "source": [
    "# Putting it all together"
   ]
  },
  {
   "cell_type": "code",
   "execution_count": 19,
   "metadata": {
    "collapsed": false,
    "deletable": true,
    "editable": true,
    "run_control": {
     "frozen": false,
     "read_only": false
    }
   },
   "outputs": [
    {
     "data": {
      "text/plain": [
       "dict_keys(['Rubio-Perez', 'Uniprot', 'TSgene', 'Vogelstein', 'Cosmic'])"
      ]
     },
     "execution_count": 19,
     "metadata": {},
     "output_type": "execute_result"
    }
   ],
   "source": [
    "# check the keys to see if it all went down according to plan\n",
    "source_container.keys()"
   ]
  },
  {
   "cell_type": "code",
   "execution_count": 20,
   "metadata": {
    "collapsed": false,
    "deletable": true,
    "editable": true,
    "run_control": {
     "frozen": false,
     "read_only": false
    }
   },
   "outputs": [],
   "source": [
    "# put the containers together \n",
    "df_final = reduce(lambda left,right: pd.concat([left,right],ignore_index=True), source_container.values())\n",
    "# some duplicates showed up??\n",
    "df_final.drop_duplicates(inplace=True)\n",
    "\n",
    "# this seems a little too hacked for my tast. Don't know, feel free to change it and let me know what you did\n",
    "df_scored = pd.merge(df_final,df_final.groupby(\"gene_symbol\").count()[\"pmid\"].to_frame(),left_on=\"gene_symbol\",right_index=True)\n",
    "df_scored = df_scored.rename(index=str,columns=dict(zip([\"pmid_x\",\"pmid_y\"],[\"pmid\",\"score\"])))"
   ]
  },
  {
   "cell_type": "code",
   "execution_count": 21,
   "metadata": {
    "collapsed": true,
    "deletable": true,
    "editable": true
   },
   "outputs": [],
   "source": [
    "group_cols = [\"hgnc_id\"]\n",
    "exclude_cols = group_cols + [\"gene_symbol\"]\n",
    "groups = df_scored.groupby([\"hgnc_id\"])\n",
    "for n, g in groups:\n",
    "    all_genes[int(n)]['cancer'] = g[[c for c in g.columns if c not in exclude_cols]].to_dict('records')"
   ]
  },
  {
   "cell_type": "markdown",
   "metadata": {
    "deletable": true,
    "editable": true
   },
   "source": [
    "# Do a little \"speed vali-dating\""
   ]
  },
  {
   "cell_type": "code",
   "execution_count": 22,
   "metadata": {
    "collapsed": false,
    "deletable": true,
    "editable": true,
    "run_control": {
     "frozen": false,
     "read_only": false
    }
   },
   "outputs": [
    {
     "data": {
      "text/plain": [
       "array([4, 2, 1, 3, 5])"
      ]
     },
     "execution_count": 22,
     "metadata": {},
     "output_type": "execute_result"
    }
   ],
   "source": [
    "# only have 5 pmids i.e. can't be seven like when there were duplicates still in the dataframe\n",
    "df_scored[\"score\"].unique()"
   ]
  },
  {
   "cell_type": "code",
   "execution_count": 23,
   "metadata": {
    "collapsed": false,
    "deletable": true,
    "editable": true,
    "run_control": {
     "frozen": false,
     "read_only": false
    }
   },
   "outputs": [
    {
     "data": {
      "text/plain": [
       "array(['ABL1', 'ABL2', 'ACACA', ..., 'ZNF331', 'ZNF384', 'ZRSR2'], dtype=object)"
      ]
     },
     "execution_count": 23,
     "metadata": {},
     "output_type": "execute_result"
    }
   ],
   "source": [
    "df_final[\"gene_symbol\"].unique()"
   ]
  },
  {
   "cell_type": "code",
   "execution_count": 24,
   "metadata": {
    "collapsed": false,
    "deletable": true,
    "editable": true,
    "run_control": {
     "frozen": false,
     "read_only": false
    }
   },
   "outputs": [
    {
     "data": {
      "text/html": [
       "<div>\n",
       "<table border=\"1\" class=\"dataframe\">\n",
       "  <thead>\n",
       "    <tr style=\"text-align: right;\">\n",
       "      <th></th>\n",
       "      <th>hgnc_id</th>\n",
       "      <th>gene_symbol</th>\n",
       "      <th>driver_type</th>\n",
       "      <th>pmid</th>\n",
       "      <th>source_name</th>\n",
       "      <th>score</th>\n",
       "    </tr>\n",
       "  </thead>\n",
       "  <tbody>\n",
       "    <tr>\n",
       "      <th>153</th>\n",
       "      <td>3236</td>\n",
       "      <td>EGFR</td>\n",
       "      <td>Oncogene</td>\n",
       "      <td>25759023</td>\n",
       "      <td>Rubio-Perez</td>\n",
       "      <td>4</td>\n",
       "    </tr>\n",
       "    <tr>\n",
       "      <th>734</th>\n",
       "      <td>3236</td>\n",
       "      <td>EGFR</td>\n",
       "      <td>Oncogene</td>\n",
       "      <td>14681372</td>\n",
       "      <td>Uniprot</td>\n",
       "      <td>4</td>\n",
       "    </tr>\n",
       "    <tr>\n",
       "      <th>2156</th>\n",
       "      <td>3236</td>\n",
       "      <td>EGFR</td>\n",
       "      <td>Oncogene</td>\n",
       "      <td>23539594</td>\n",
       "      <td>Vogelstein</td>\n",
       "      <td>4</td>\n",
       "    </tr>\n",
       "    <tr>\n",
       "      <th>2395</th>\n",
       "      <td>3236</td>\n",
       "      <td>EGFR</td>\n",
       "      <td>Unknown</td>\n",
       "      <td>14993899</td>\n",
       "      <td>Cosmic</td>\n",
       "      <td>4</td>\n",
       "    </tr>\n",
       "  </tbody>\n",
       "</table>\n",
       "</div>"
      ],
      "text/plain": [
       "      hgnc_id gene_symbol driver_type      pmid  source_name  score\n",
       "153      3236        EGFR    Oncogene  25759023  Rubio-Perez      4\n",
       "734      3236        EGFR    Oncogene  14681372      Uniprot      4\n",
       "2156     3236        EGFR    Oncogene  23539594   Vogelstein      4\n",
       "2395     3236        EGFR     Unknown  14993899       Cosmic      4"
      ]
     },
     "execution_count": 24,
     "metadata": {},
     "output_type": "execute_result"
    }
   ],
   "source": [
    "# typical query\n",
    "df_scored.loc[df_scored[\"gene_symbol\"]==\"EGFR\"]"
   ]
  },
  {
   "cell_type": "code",
   "execution_count": 25,
   "metadata": {
    "collapsed": false,
    "deletable": true,
    "editable": true
   },
   "outputs": [
    {
     "data": {
      "text/plain": [
       "{'alias_symbol': 'ERBB1',\n",
       " 'cancer': [{'driver_type': 'Oncogene',\n",
       "   'pmid': '25759023',\n",
       "   'score': 4,\n",
       "   'source_name': 'Rubio-Perez'},\n",
       "  {'driver_type': 'Oncogene',\n",
       "   'pmid': '14681372',\n",
       "   'score': 4,\n",
       "   'source_name': 'Uniprot'},\n",
       "  {'driver_type': 'Oncogene',\n",
       "   'pmid': '23539594',\n",
       "   'score': 4,\n",
       "   'source_name': 'Vogelstein'},\n",
       "  {'driver_type': 'Unknown',\n",
       "   'pmid': '14993899',\n",
       "   'score': 4,\n",
       "   'source_name': 'Cosmic'}],\n",
       " 'date_approved_reserved': '1986-01-01',\n",
       " 'date_modified': '2017-03-24',\n",
       " 'date_symbol_changed': nan,\n",
       " 'ensembl_gene_id': 'ENSG00000146648',\n",
       " 'entrez_id': 1956.0,\n",
       " 'gene_family': 'Erb-b2 receptor tyrosine kinases',\n",
       " 'gene_symbol': 'EGFR',\n",
       " 'hgnc_id': 3236,\n",
       " 'location': '7p11.2',\n",
       " 'locus_group': 'protein-coding gene',\n",
       " 'locus_type': 'gene with protein product',\n",
       " 'name': 'epidermal growth factor receptor',\n",
       " 'prev_symbol': 'ERBB',\n",
       " 'status': 'Approved',\n",
       " 'uniprot_ids': 'P00533'}"
      ]
     },
     "execution_count": 25,
     "metadata": {},
     "output_type": "execute_result"
    }
   ],
   "source": [
    "all_genes[3236]"
   ]
  },
  {
   "cell_type": "markdown",
   "metadata": {
    "deletable": true,
    "editable": true
   },
   "source": [
    "# Target stuff"
   ]
  },
  {
   "cell_type": "code",
   "execution_count": 26,
   "metadata": {
    "collapsed": true,
    "deletable": true,
    "editable": true
   },
   "outputs": [],
   "source": [
    "drug_data_containers = {}"
   ]
  },
  {
   "cell_type": "markdown",
   "metadata": {
    "deletable": true,
    "editable": true
   },
   "source": [
    "## DrugBank"
   ]
  },
  {
   "cell_type": "code",
   "execution_count": 27,
   "metadata": {
    "collapsed": false,
    "deletable": true,
    "editable": true,
    "run_control": {
     "frozen": false,
     "read_only": false
    }
   },
   "outputs": [],
   "source": [
    "DRUGBANK_DOWNLOAD = \"http://www.drugbank.ca/releases/latest/downloads/all-full-database\"\n",
    "DRUGBANK_STRUCTURES_DOWNLOAD = \"http://www.drugbank.ca/releases/latest/downloads/all-structures\"\n",
    "DRUGBANK_XREFS_DOWNLAOD = \"http://www.drugbank.ca/releases/latest/downloads/all-drug-links\"\n",
    "DRUGBANK_USER = \"c.schaerfe@gmail.com\"\n",
    "DRUGBANK_PASSWORD = \"themirrorcracked\""
   ]
  },
  {
   "cell_type": "code",
   "execution_count": 28,
   "metadata": {
    "collapsed": true,
    "deletable": true,
    "editable": true,
    "run_control": {
     "frozen": false,
     "read_only": false
    }
   },
   "outputs": [],
   "source": [
    "DRUGBANK_FILE = os.path.join(data_path, \"drugbank.xml.zip\")\n",
    "DRUGBANK_SDF_FILE = os.path.join(data_path, \"drugbank_molecules.sdf.zip\")\n",
    "DRUGBANK_XREF_FILE = os.path.join(data_path, \"drugbank_xrefs.csv.zip\")"
   ]
  },
  {
   "cell_type": "code",
   "execution_count": 29,
   "metadata": {
    "collapsed": false,
    "deletable": true,
    "editable": true
   },
   "outputs": [
    {
     "data": {
      "text/plain": [
       "'/Users/Heisenberg/DockerStation/clinicalReporting_01/Data/drugbank.xml.zip'"
      ]
     },
     "execution_count": 29,
     "metadata": {},
     "output_type": "execute_result"
    }
   ],
   "source": [
    "DRUGBANK_FILE"
   ]
  },
  {
   "cell_type": "code",
   "execution_count": 30,
   "metadata": {
    "collapsed": false,
    "deletable": true,
    "editable": true,
    "run_control": {
     "frozen": false,
     "read_only": false
    }
   },
   "outputs": [
    {
     "name": "stdout",
     "output_type": "stream",
     "text": [
      "xml 0\n",
      "sdf 0\n",
      "xref 0\n",
      "trying now for round number 1\n",
      "trying now for round number 2\n",
      "trying now for round number 3\n",
      "trying now for round number 4\n",
      "trying now for round number 5\n",
      "trying now for round number 6\n",
      "trying now for round number 7\n",
      "trying now for round number 8\n",
      "trying now for round number 9\n",
      "trying now for round number 10\n"
     ]
    }
   ],
   "source": [
    "i = 0\n",
    "exit_code_xml, exit_code_sdf, exit_code_xref = 1, 1, 1\n",
    "while exit_code_xml + exit_code_sdf + exit_code_xref > 0 or i < 10:\n",
    "    if exit_code_xml > 0:\n",
    "        exit_code_xml = subprocess.call(['curl', '-L', '-H', \n",
    "                                         '\"Accept: application/xml\"', \n",
    "                                         '-o', DRUGBANK_FILE,\n",
    "                                         '-u', DRUGBANK_USER + ':' + DRUGBANK_PASSWORD,\n",
    "                                         DRUGBANK_DOWNLOAD])\n",
    "        if exit_code_xml == 0:\n",
    "            exit_code_xml = subprocess.call(\"unzip -p \" + DRUGBANK_FILE +\" \\*.xml | cat > \" + DRUGBANK_FILE.replace(\".zip\", \"\"), shell=True)\n",
    " \n",
    "        print(\"xml\", exit_code_xml)\n",
    "    if exit_code_sdf > 0:\n",
    "        exit_code_sdf = subprocess.call(['curl', '-L', \n",
    "                                         '-o', DRUGBANK_SDF_FILE,\n",
    "                                         '-u', DRUGBANK_USER + ':' + DRUGBANK_PASSWORD,\n",
    "                                         DRUGBANK_STRUCTURES_DOWNLOAD])\n",
    "        if exit_code_sdf == 0:\n",
    "            exit_code_sdf = subprocess.call(\"unzip -p \" + DRUGBANK_SDF_FILE +\" \\*.sdf | cat > \" + DRUGBANK_SDF_FILE.replace(\".zip\", \"\"), shell=True)\n",
    "        print(\"sdf\", exit_code_sdf)\n",
    "    if exit_code_xref > 0:\n",
    "        exit_code_xref= subprocess.call(['curl', '-L',\n",
    "                                         '-o', DRUGBANK_XREF_FILE,\n",
    "                                         '-u', DRUGBANK_USER + ':' + DRUGBANK_PASSWORD,\n",
    "                                         DRUGBANK_XREFS_DOWNLAOD])\n",
    "        if exit_code_xref == 0:\n",
    "            exit_code_xref = subprocess.call(\"unzip -p \" + DRUGBANK_XREF_FILE +\" \\*.csv | cat > \" + DRUGBANK_XREF_FILE.replace(\".zip\", \"\"), shell=True)\n",
    " \n",
    "        print(\"xref\", exit_code_xref)\n",
    "    i += 1\n",
    "    print(\"trying now for round number {}\".format(i))"
   ]
  },
  {
   "cell_type": "code",
   "execution_count": 31,
   "metadata": {
    "collapsed": false,
    "deletable": true,
    "editable": true
   },
   "outputs": [
    {
     "name": "stdout",
     "output_type": "stream",
     "text": [
      "0\n"
     ]
    }
   ],
   "source": [
    "print(exit_code_sdf)"
   ]
  },
  {
   "cell_type": "code",
   "execution_count": 32,
   "metadata": {
    "collapsed": false,
    "deletable": true,
    "editable": true
   },
   "outputs": [
    {
     "name": "stdout",
     "output_type": "stream",
     "text": [
      "sdf 0\n",
      "trying now for round number 1\n",
      "trying now for round number 2\n",
      "trying now for round number 3\n",
      "trying now for round number 4\n",
      "trying now for round number 5\n",
      "trying now for round number 6\n",
      "trying now for round number 7\n",
      "trying now for round number 8\n",
      "trying now for round number 9\n",
      "trying now for round number 10\n"
     ]
    }
   ],
   "source": [
    "i = 0\n",
    "exit_code_xml, exit_code_sdf, exit_code_xref = 1, 1, 1\n",
    "while exit_code_sdf  > 0 or i < 10:\n",
    "    if exit_code_sdf > 0:\n",
    "        exit_code_sdf = subprocess.call(['curl', '-L', \n",
    "                                         '-o', DRUGBANK_SDF_FILE,\n",
    "                                         '-u', DRUGBANK_USER + ':' + DRUGBANK_PASSWORD,\n",
    "                                         DRUGBANK_STRUCTURES_DOWNLOAD])\n",
    "        if exit_code_sdf == 0:\n",
    "            exit_code_sdf = subprocess.call(\"unzip -p \" + DRUGBANK_SDF_FILE +\" \\*.sdf | cat > \" + DRUGBANK_SDF_FILE.replace(\".zip\", \"\"), shell=True)\n",
    "        print(\"sdf\", exit_code_sdf)\n",
    "    i += 1\n",
    "    print(\"trying now for round number {}\".format(i))"
   ]
  },
  {
   "cell_type": "code",
   "execution_count": 33,
   "metadata": {
    "collapsed": false,
    "deletable": true,
    "editable": true,
    "run_control": {
     "frozen": false,
     "read_only": false
    }
   },
   "outputs": [
    {
     "name": "stdout",
     "output_type": "stream",
     "text": [
      "1 0 1\n"
     ]
    }
   ],
   "source": [
    "print( exit_code_xml, exit_code_sdf, exit_code_xref )"
   ]
  },
  {
   "cell_type": "markdown",
   "metadata": {
    "deletable": true,
    "editable": true
   },
   "source": [
    "Reading the drug molecules"
   ]
  },
  {
   "cell_type": "code",
   "execution_count": 34,
   "metadata": {
    "collapsed": false,
    "deletable": true,
    "editable": true,
    "run_control": {
     "frozen": false,
     "read_only": false
    }
   },
   "outputs": [],
   "source": [
    "DRUGBANK_FILE = DRUGBANK_FILE.replace(\".zip\", \"\")\n",
    "DRUGBANK_SDF_FILE = DRUGBANK_SDF_FILE.replace(\".zip\", \"\")\n",
    "DRUGBANK_XREF_FILE = DRUGBANK_XREF_FILE.replace(\".zip\", \"\")"
   ]
  },
  {
   "cell_type": "code",
   "execution_count": 35,
   "metadata": {
    "collapsed": false,
    "deletable": true,
    "editable": true
   },
   "outputs": [
    {
     "data": {
      "text/plain": [
       "'/Users/Heisenberg/DockerStation/clinicalReporting_01/Data/drugbank_molecules.sdf'"
      ]
     },
     "execution_count": 35,
     "metadata": {},
     "output_type": "execute_result"
    }
   ],
   "source": [
    "DRUGBANK_SDF_FILE"
   ]
  },
  {
   "cell_type": "code",
   "execution_count": 36,
   "metadata": {
    "collapsed": false,
    "deletable": true,
    "editable": true,
    "run_control": {
     "frozen": false,
     "read_only": false
    }
   },
   "outputs": [],
   "source": [
    "drug_smiles = {}\n",
    "structures = Chem.SDMolSupplier(DRUGBANK_SDF_FILE)\n",
    "for s in structures:\n",
    "    if s is not None:\n",
    "        db_id = s.GetPropsAsDict().get(\"DRUGBANK_ID\")\n",
    "        smi = Chem.MolToSmiles(s)\n",
    "        drug_smiles[db_id] = smi\n",
    "drugbank2smiles = pd.DataFrame(list(drug_smiles.items()), columns=[\"drugbank_id\", \"SMILES\"])"
   ]
  },
  {
   "cell_type": "code",
   "execution_count": 37,
   "metadata": {
    "collapsed": false,
    "deletable": true,
    "editable": true
   },
   "outputs": [
    {
     "data": {
      "text/html": [
       "<div>\n",
       "<table border=\"1\" class=\"dataframe\">\n",
       "  <thead>\n",
       "    <tr style=\"text-align: right;\">\n",
       "      <th></th>\n",
       "      <th>drugbank_id</th>\n",
       "      <th>SMILES</th>\n",
       "    </tr>\n",
       "  </thead>\n",
       "  <tbody>\n",
       "    <tr>\n",
       "      <th>0</th>\n",
       "      <td>DB09178</td>\n",
       "      <td>CCC(=O)N(c1ccccc1)C1CC(C)N(CCc2ccccc2)CC1C</td>\n",
       "    </tr>\n",
       "    <tr>\n",
       "      <th>1</th>\n",
       "      <td>DB00954</td>\n",
       "      <td>CCC1OC(=O)C(C)C(OC2CC(C)(OC)C(O)C(C)O2)C(C)C(O...</td>\n",
       "    </tr>\n",
       "    <tr>\n",
       "      <th>2</th>\n",
       "      <td>DB00751</td>\n",
       "      <td>NC1=NCC2c3ccccc3Cc3ccccc3N12</td>\n",
       "    </tr>\n",
       "    <tr>\n",
       "      <th>3</th>\n",
       "      <td>DB04533</td>\n",
       "      <td>Cc1ccc(O)c(N)c1</td>\n",
       "    </tr>\n",
       "    <tr>\n",
       "      <th>4</th>\n",
       "      <td>DB03018</td>\n",
       "      <td>Cc1ccc(N)cc1C</td>\n",
       "    </tr>\n",
       "    <tr>\n",
       "      <th>5</th>\n",
       "      <td>DB01321</td>\n",
       "      <td>COC1C(OC(C)=O)CC(=O)OC(C)CC=CC=CC(O)C(C)CC(CC=...</td>\n",
       "    </tr>\n",
       "    <tr>\n",
       "      <th>6</th>\n",
       "      <td>DB08484</td>\n",
       "      <td>Nc1ccc(S(=O)(=O)NC(=O)NCCS)cc1</td>\n",
       "    </tr>\n",
       "    <tr>\n",
       "      <th>7</th>\n",
       "      <td>DB01676</td>\n",
       "      <td>Cc1c([N+](=O)[O-])cc([N+](=O)[O-])cc1[N+](=O)[O-]</td>\n",
       "    </tr>\n",
       "    <tr>\n",
       "      <th>8</th>\n",
       "      <td>DB01624</td>\n",
       "      <td>OCCN1CCN(CCC=C2c3ccccc3Sc3ccc(Cl)cc32)CC1</td>\n",
       "    </tr>\n",
       "    <tr>\n",
       "      <th>9</th>\n",
       "      <td>DB00436</td>\n",
       "      <td>NS(=O)(=O)c1cc2c(cc1C(F)(F)F)NC(Cc1ccccc1)NS2(...</td>\n",
       "    </tr>\n",
       "    <tr>\n",
       "      <th>10</th>\n",
       "      <td>DB07457</td>\n",
       "      <td>NCCCn1cc(C2=C(c3c[nH]c4ccccc34)C(=O)NC2=O)c2cc...</td>\n",
       "    </tr>\n",
       "    <tr>\n",
       "      <th>11</th>\n",
       "      <td>DB07560</td>\n",
       "      <td>CC(C)C(NC(=O)C1CCCCC1)C(=O)Nc1ccncc1</td>\n",
       "    </tr>\n",
       "    <tr>\n",
       "      <th>12</th>\n",
       "      <td>DB03818</td>\n",
       "      <td>Cc1ccc(S(=O)(=O)N2CCCC2C(=O)NCCS)cc1</td>\n",
       "    </tr>\n",
       "    <tr>\n",
       "      <th>13</th>\n",
       "      <td>DB06725</td>\n",
       "      <td>CN1C(C(=O)Nc2ccccn2)=C(O)c2sc(Cl)cc2S1(=O)=O</td>\n",
       "    </tr>\n",
       "    <tr>\n",
       "      <th>14</th>\n",
       "      <td>DB03450</td>\n",
       "      <td>COC(=O)CC1=C(C(=O)O)NC(C(C=O)NC(=O)Cc2cccs2)SC1</td>\n",
       "    </tr>\n",
       "    <tr>\n",
       "      <th>15</th>\n",
       "      <td>DB07210</td>\n",
       "      <td>Brc1cnn2c(NCc3ccncc3)cc(-c3ccccc3)nc12</td>\n",
       "    </tr>\n",
       "    <tr>\n",
       "      <th>16</th>\n",
       "      <td>DB08565</td>\n",
       "      <td>CC(=O)NC(Cc1cccc2ccccc12)[B-](O)(O)O</td>\n",
       "    </tr>\n",
       "    <tr>\n",
       "      <th>17</th>\n",
       "      <td>DB01184</td>\n",
       "      <td>O=c1[nH]c2ccccc2n1CCCN1CCC(n2c(=O)[nH]c3cc(Cl)...</td>\n",
       "    </tr>\n",
       "    <tr>\n",
       "      <th>18</th>\n",
       "      <td>DB09166</td>\n",
       "      <td>CCc1cc2c(s1)-n1c(C)nnc1CN=C2c1ccccc1Cl</td>\n",
       "    </tr>\n",
       "    <tr>\n",
       "      <th>19</th>\n",
       "      <td>DB01051</td>\n",
       "      <td>COC1C(OC(N)=O)C(O)C(Oc2ccc3c(O)c(NC(=O)c4ccc(O...</td>\n",
       "    </tr>\n",
       "    <tr>\n",
       "      <th>20</th>\n",
       "      <td>DB09188</td>\n",
       "      <td>CNCCCC1(C)C(=O)N(c2ccccc2)c2ccccc21</td>\n",
       "    </tr>\n",
       "    <tr>\n",
       "      <th>21</th>\n",
       "      <td>DB02571</td>\n",
       "      <td>NC(CCCC=O)C(=O)O</td>\n",
       "    </tr>\n",
       "    <tr>\n",
       "      <th>22</th>\n",
       "      <td>DB03231</td>\n",
       "      <td>Nc1nc(O)c2nn(-c3cccc(C(=O)NCc4ccccc4Sc4ccccc4C...</td>\n",
       "    </tr>\n",
       "    <tr>\n",
       "      <th>23</th>\n",
       "      <td>DB08266</td>\n",
       "      <td>CCCC(C)=CC=C(C)C(=O)C1C(=O)C=C(C(C)CCCC=NC(=O)...</td>\n",
       "    </tr>\n",
       "    <tr>\n",
       "      <th>24</th>\n",
       "      <td>DB05791</td>\n",
       "      <td>FC(F)(F)C(F)(F)C(F)(F)C(F)(F)C(F)(F)C(F)(F)C(F...</td>\n",
       "    </tr>\n",
       "    <tr>\n",
       "      <th>25</th>\n",
       "      <td>DB02614</td>\n",
       "      <td>CC(=O)NC(Cc1cccc(C(=O)O)c1)B(O)O</td>\n",
       "    </tr>\n",
       "    <tr>\n",
       "      <th>26</th>\n",
       "      <td>DB06698</td>\n",
       "      <td>CNCCc1ccccn1</td>\n",
       "    </tr>\n",
       "    <tr>\n",
       "      <th>27</th>\n",
       "      <td>DB07773</td>\n",
       "      <td>O=P(O)(O)OCCCc1c[nH]c2ccc(F)cc12</td>\n",
       "    </tr>\n",
       "    <tr>\n",
       "      <th>28</th>\n",
       "      <td>DB01468</td>\n",
       "      <td>CCN(C)C(C)C=C(c1cccs1)c1cccs1</td>\n",
       "    </tr>\n",
       "    <tr>\n",
       "      <th>29</th>\n",
       "      <td>DB02678</td>\n",
       "      <td>NC1C(O)OC(CO)C(O)C1O</td>\n",
       "    </tr>\n",
       "    <tr>\n",
       "      <th>...</th>\n",
       "      <td>...</td>\n",
       "      <td>...</td>\n",
       "    </tr>\n",
       "    <tr>\n",
       "      <th>7080</th>\n",
       "      <td>DB03624</td>\n",
       "      <td>CC(N)C(CCCCCC(=O)O)NC(=O)O</td>\n",
       "    </tr>\n",
       "    <tr>\n",
       "      <th>7081</th>\n",
       "      <td>DB01930</td>\n",
       "      <td>CC(C)(CO)C(O)C(=O)[O-]</td>\n",
       "    </tr>\n",
       "    <tr>\n",
       "      <th>7082</th>\n",
       "      <td>DB12332</td>\n",
       "      <td>CNCc1ccc(-c2[nH]c3cc(F)cc4c3c2CCNC4=O)cc1</td>\n",
       "    </tr>\n",
       "    <tr>\n",
       "      <th>7083</th>\n",
       "      <td>DB03849</td>\n",
       "      <td>COc1ccc(C2(C#N)CCC(C(=O)O)CC2)cc1OC1CCCC1</td>\n",
       "    </tr>\n",
       "    <tr>\n",
       "      <th>7084</th>\n",
       "      <td>DB05266</td>\n",
       "      <td>CC(C)C(=O)c1c(C(C)C)nn2ccccc12</td>\n",
       "    </tr>\n",
       "    <tr>\n",
       "      <th>7085</th>\n",
       "      <td>DB04360</td>\n",
       "      <td>OB(O)c1cc2ccccc2s1</td>\n",
       "    </tr>\n",
       "    <tr>\n",
       "      <th>7086</th>\n",
       "      <td>DB07642</td>\n",
       "      <td>Nc1nc(N)c2c(OCC3CCN(Cc4ccccc4F)CC3)cccc2n1</td>\n",
       "    </tr>\n",
       "    <tr>\n",
       "      <th>7087</th>\n",
       "      <td>DB07693</td>\n",
       "      <td>Cc1cccc(C)c1C(=O)Nc1cc(Br)c(O)c(Br)c1</td>\n",
       "    </tr>\n",
       "    <tr>\n",
       "      <th>7088</th>\n",
       "      <td>DB03331</td>\n",
       "      <td>COc1cc(OC)cc(C(=O)NC2C(O)C(CO)OC2n2cnc3c(NCc4c...</td>\n",
       "    </tr>\n",
       "    <tr>\n",
       "      <th>7089</th>\n",
       "      <td>DB04796</td>\n",
       "      <td>CC(CC#CC(C)(C)O)C1CCC2C(=CC=C3CC(O)CC(O)C3)CCC...</td>\n",
       "    </tr>\n",
       "    <tr>\n",
       "      <th>7090</th>\n",
       "      <td>DB04404</td>\n",
       "      <td>CN(C)C1=NC2C(O)C(O)C(CO)C2O1</td>\n",
       "    </tr>\n",
       "    <tr>\n",
       "      <th>7091</th>\n",
       "      <td>DB01843</td>\n",
       "      <td>NN1C(=O)NC2(OC(CO)C(O)C(O)C2O)C1=O</td>\n",
       "    </tr>\n",
       "    <tr>\n",
       "      <th>7092</th>\n",
       "      <td>DB03292</td>\n",
       "      <td>NC(CP(=O)(O)O)C(=O)O</td>\n",
       "    </tr>\n",
       "    <tr>\n",
       "      <th>7093</th>\n",
       "      <td>DB02408</td>\n",
       "      <td>CCCCC(N)C(O)(O)CNC1CC1</td>\n",
       "    </tr>\n",
       "    <tr>\n",
       "      <th>7094</th>\n",
       "      <td>DB06884</td>\n",
       "      <td>CC(C)c1ccc(CNNC(=O)c2ccc(O)cc2)cc1</td>\n",
       "    </tr>\n",
       "    <tr>\n",
       "      <th>7095</th>\n",
       "      <td>DB08145</td>\n",
       "      <td>COc1cccc(OC)c1-c1cc2cnc(N)nc2nc1N</td>\n",
       "    </tr>\n",
       "    <tr>\n",
       "      <th>7096</th>\n",
       "      <td>DB01892</td>\n",
       "      <td>CC(C)=CCCC1(C)C(CC=C(C)C)CC2(CC=C(C)C)C(=O)C(C...</td>\n",
       "    </tr>\n",
       "    <tr>\n",
       "      <th>7097</th>\n",
       "      <td>DB02954</td>\n",
       "      <td>O=C(O)CN(O)C(=O)O</td>\n",
       "    </tr>\n",
       "    <tr>\n",
       "      <th>7098</th>\n",
       "      <td>DB08376</td>\n",
       "      <td>CCCCCCC(=O)OCC(COP(=O)(O)O)OC(=O)CCCCCC</td>\n",
       "    </tr>\n",
       "    <tr>\n",
       "      <th>7099</th>\n",
       "      <td>DB07627</td>\n",
       "      <td>CC(C)CC(NC(=S)Nc1ccccc1)C(=O)NC1COC(O)C1</td>\n",
       "    </tr>\n",
       "    <tr>\n",
       "      <th>7100</th>\n",
       "      <td>DB08373</td>\n",
       "      <td>CS(=O)(=O)c1cc(Cl)c(-c2cc(Cl)c(S(C)(=O)=O)cc2C...</td>\n",
       "    </tr>\n",
       "    <tr>\n",
       "      <th>7101</th>\n",
       "      <td>DB02598</td>\n",
       "      <td>CC(=O)NC(Cc1cc(I)c(O)c(I)c1)C(=O)NCC(=O)O</td>\n",
       "    </tr>\n",
       "    <tr>\n",
       "      <th>7102</th>\n",
       "      <td>DB02237</td>\n",
       "      <td>O=CC(O)C(O)C(OC1OC(CO)C(OC2OC(CO)C(OC3OC(CO)C(...</td>\n",
       "    </tr>\n",
       "    <tr>\n",
       "      <th>7103</th>\n",
       "      <td>DB08752</td>\n",
       "      <td>CN1CCC(C#N)(NC(=O)C(CC2CCCCC2)NC(=O)N2CCOCC2)CC1</td>\n",
       "    </tr>\n",
       "    <tr>\n",
       "      <th>7104</th>\n",
       "      <td>DB07604</td>\n",
       "      <td>CC(=O)C1=C(O)N2C(C1=O)C1c3c[nH]c4cccc(c34)CC1C...</td>\n",
       "    </tr>\n",
       "    <tr>\n",
       "      <th>7105</th>\n",
       "      <td>DB00591</td>\n",
       "      <td>CC1(C)OC2CC3C4CC(F)C5=CC(=O)C=CC5(C)C4(F)C(O)C...</td>\n",
       "    </tr>\n",
       "    <tr>\n",
       "      <th>7106</th>\n",
       "      <td>DB07598</td>\n",
       "      <td>O=C1c2cc3c(cc2OC2CCCN12)OCCO3</td>\n",
       "    </tr>\n",
       "    <tr>\n",
       "      <th>7107</th>\n",
       "      <td>DB07150</td>\n",
       "      <td>ON=Cc1ccc(-c2ccc(O)cc2)c2ccccc12</td>\n",
       "    </tr>\n",
       "    <tr>\n",
       "      <th>7108</th>\n",
       "      <td>DB04697</td>\n",
       "      <td>NC(=O)C(CCCCN=C(N)N)NC(=O)C(Cc1ccc(O)cc1)NC(=O...</td>\n",
       "    </tr>\n",
       "    <tr>\n",
       "      <th>7109</th>\n",
       "      <td>DB04687</td>\n",
       "      <td>COP(O)(=S)OC</td>\n",
       "    </tr>\n",
       "  </tbody>\n",
       "</table>\n",
       "<p>7110 rows × 2 columns</p>\n",
       "</div>"
      ],
      "text/plain": [
       "     drugbank_id                                             SMILES\n",
       "0        DB09178         CCC(=O)N(c1ccccc1)C1CC(C)N(CCc2ccccc2)CC1C\n",
       "1        DB00954  CCC1OC(=O)C(C)C(OC2CC(C)(OC)C(O)C(C)O2)C(C)C(O...\n",
       "2        DB00751                       NC1=NCC2c3ccccc3Cc3ccccc3N12\n",
       "3        DB04533                                    Cc1ccc(O)c(N)c1\n",
       "4        DB03018                                      Cc1ccc(N)cc1C\n",
       "5        DB01321  COC1C(OC(C)=O)CC(=O)OC(C)CC=CC=CC(O)C(C)CC(CC=...\n",
       "6        DB08484                     Nc1ccc(S(=O)(=O)NC(=O)NCCS)cc1\n",
       "7        DB01676  Cc1c([N+](=O)[O-])cc([N+](=O)[O-])cc1[N+](=O)[O-]\n",
       "8        DB01624          OCCN1CCN(CCC=C2c3ccccc3Sc3ccc(Cl)cc32)CC1\n",
       "9        DB00436  NS(=O)(=O)c1cc2c(cc1C(F)(F)F)NC(Cc1ccccc1)NS2(...\n",
       "10       DB07457  NCCCn1cc(C2=C(c3c[nH]c4ccccc34)C(=O)NC2=O)c2cc...\n",
       "11       DB07560               CC(C)C(NC(=O)C1CCCCC1)C(=O)Nc1ccncc1\n",
       "12       DB03818               Cc1ccc(S(=O)(=O)N2CCCC2C(=O)NCCS)cc1\n",
       "13       DB06725       CN1C(C(=O)Nc2ccccn2)=C(O)c2sc(Cl)cc2S1(=O)=O\n",
       "14       DB03450    COC(=O)CC1=C(C(=O)O)NC(C(C=O)NC(=O)Cc2cccs2)SC1\n",
       "15       DB07210             Brc1cnn2c(NCc3ccncc3)cc(-c3ccccc3)nc12\n",
       "16       DB08565               CC(=O)NC(Cc1cccc2ccccc12)[B-](O)(O)O\n",
       "17       DB01184  O=c1[nH]c2ccccc2n1CCCN1CCC(n2c(=O)[nH]c3cc(Cl)...\n",
       "18       DB09166             CCc1cc2c(s1)-n1c(C)nnc1CN=C2c1ccccc1Cl\n",
       "19       DB01051  COC1C(OC(N)=O)C(O)C(Oc2ccc3c(O)c(NC(=O)c4ccc(O...\n",
       "20       DB09188                CNCCCC1(C)C(=O)N(c2ccccc2)c2ccccc21\n",
       "21       DB02571                                   NC(CCCC=O)C(=O)O\n",
       "22       DB03231  Nc1nc(O)c2nn(-c3cccc(C(=O)NCc4ccccc4Sc4ccccc4C...\n",
       "23       DB08266  CCCC(C)=CC=C(C)C(=O)C1C(=O)C=C(C(C)CCCC=NC(=O)...\n",
       "24       DB05791  FC(F)(F)C(F)(F)C(F)(F)C(F)(F)C(F)(F)C(F)(F)C(F...\n",
       "25       DB02614                   CC(=O)NC(Cc1cccc(C(=O)O)c1)B(O)O\n",
       "26       DB06698                                       CNCCc1ccccn1\n",
       "27       DB07773                   O=P(O)(O)OCCCc1c[nH]c2ccc(F)cc12\n",
       "28       DB01468                      CCN(C)C(C)C=C(c1cccs1)c1cccs1\n",
       "29       DB02678                               NC1C(O)OC(CO)C(O)C1O\n",
       "...          ...                                                ...\n",
       "7080     DB03624                         CC(N)C(CCCCCC(=O)O)NC(=O)O\n",
       "7081     DB01930                             CC(C)(CO)C(O)C(=O)[O-]\n",
       "7082     DB12332          CNCc1ccc(-c2[nH]c3cc(F)cc4c3c2CCNC4=O)cc1\n",
       "7083     DB03849          COc1ccc(C2(C#N)CCC(C(=O)O)CC2)cc1OC1CCCC1\n",
       "7084     DB05266                     CC(C)C(=O)c1c(C(C)C)nn2ccccc12\n",
       "7085     DB04360                                 OB(O)c1cc2ccccc2s1\n",
       "7086     DB07642         Nc1nc(N)c2c(OCC3CCN(Cc4ccccc4F)CC3)cccc2n1\n",
       "7087     DB07693              Cc1cccc(C)c1C(=O)Nc1cc(Br)c(O)c(Br)c1\n",
       "7088     DB03331  COc1cc(OC)cc(C(=O)NC2C(O)C(CO)OC2n2cnc3c(NCc4c...\n",
       "7089     DB04796  CC(CC#CC(C)(C)O)C1CCC2C(=CC=C3CC(O)CC(O)C3)CCC...\n",
       "7090     DB04404                       CN(C)C1=NC2C(O)C(O)C(CO)C2O1\n",
       "7091     DB01843                 NN1C(=O)NC2(OC(CO)C(O)C(O)C2O)C1=O\n",
       "7092     DB03292                               NC(CP(=O)(O)O)C(=O)O\n",
       "7093     DB02408                             CCCCC(N)C(O)(O)CNC1CC1\n",
       "7094     DB06884                 CC(C)c1ccc(CNNC(=O)c2ccc(O)cc2)cc1\n",
       "7095     DB08145                  COc1cccc(OC)c1-c1cc2cnc(N)nc2nc1N\n",
       "7096     DB01892  CC(C)=CCCC1(C)C(CC=C(C)C)CC2(CC=C(C)C)C(=O)C(C...\n",
       "7097     DB02954                                  O=C(O)CN(O)C(=O)O\n",
       "7098     DB08376            CCCCCCC(=O)OCC(COP(=O)(O)O)OC(=O)CCCCCC\n",
       "7099     DB07627           CC(C)CC(NC(=S)Nc1ccccc1)C(=O)NC1COC(O)C1\n",
       "7100     DB08373  CS(=O)(=O)c1cc(Cl)c(-c2cc(Cl)c(S(C)(=O)=O)cc2C...\n",
       "7101     DB02598          CC(=O)NC(Cc1cc(I)c(O)c(I)c1)C(=O)NCC(=O)O\n",
       "7102     DB02237  O=CC(O)C(O)C(OC1OC(CO)C(OC2OC(CO)C(OC3OC(CO)C(...\n",
       "7103     DB08752   CN1CCC(C#N)(NC(=O)C(CC2CCCCC2)NC(=O)N2CCOCC2)CC1\n",
       "7104     DB07604  CC(=O)C1=C(O)N2C(C1=O)C1c3c[nH]c4cccc(c34)CC1C...\n",
       "7105     DB00591  CC1(C)OC2CC3C4CC(F)C5=CC(=O)C=CC5(C)C4(F)C(O)C...\n",
       "7106     DB07598                      O=C1c2cc3c(cc2OC2CCCN12)OCCO3\n",
       "7107     DB07150                   ON=Cc1ccc(-c2ccc(O)cc2)c2ccccc12\n",
       "7108     DB04697  NC(=O)C(CCCCN=C(N)N)NC(=O)C(Cc1ccc(O)cc1)NC(=O...\n",
       "7109     DB04687                                       COP(O)(=S)OC\n",
       "\n",
       "[7110 rows x 2 columns]"
      ]
     },
     "execution_count": 37,
     "metadata": {},
     "output_type": "execute_result"
    }
   ],
   "source": [
    "drugbank2smiles"
   ]
  },
  {
   "cell_type": "code",
   "execution_count": 38,
   "metadata": {
    "collapsed": false,
    "deletable": true,
    "editable": true
   },
   "outputs": [
    {
     "data": {
      "text/plain": [
       "dict_items([('DB09178', 'CCC(=O)N(c1ccccc1)C1CC(C)N(CCc2ccccc2)CC1C'), ('DB00954', 'CCC1OC(=O)C(C)C(OC2CC(C)(OC)C(O)C(C)O2)C(C)C(OC2OC(C)CC(N(C)C)C2O)C(C)(O)CC(C)C2NC(COCCOC)OC(C2C)C1(C)O'), ('DB00751', 'NC1=NCC2c3ccccc3Cc3ccccc3N12'), ('DB04533', 'Cc1ccc(O)c(N)c1'), ('DB03018', 'Cc1ccc(N)cc1C'), ('DB01321', 'COC1C(OC(C)=O)CC(=O)OC(C)CC=CC=CC(O)C(C)CC(CC=O)C1OC1OC(C)C(OC2CC(C)(O)C(OC(=O)CC(C)C)C(C)O2)C(N(C)C)C1O'), ('DB08484', 'Nc1ccc(S(=O)(=O)NC(=O)NCCS)cc1'), ('DB01676', 'Cc1c([N+](=O)[O-])cc([N+](=O)[O-])cc1[N+](=O)[O-]'), ('DB01624', 'OCCN1CCN(CCC=C2c3ccccc3Sc3ccc(Cl)cc32)CC1'), ('DB00436', 'NS(=O)(=O)c1cc2c(cc1C(F)(F)F)NC(Cc1ccccc1)NS2(=O)=O'), ('DB07457', 'NCCCn1cc(C2=C(c3c[nH]c4ccccc34)C(=O)NC2=O)c2ccccc21'), ('DB07560', 'CC(C)C(NC(=O)C1CCCCC1)C(=O)Nc1ccncc1'), ('DB03818', 'Cc1ccc(S(=O)(=O)N2CCCC2C(=O)NCCS)cc1'), ('DB06725', 'CN1C(C(=O)Nc2ccccn2)=C(O)c2sc(Cl)cc2S1(=O)=O'), ('DB03450', 'COC(=O)CC1=C(C(=O)O)NC(C(C=O)NC(=O)Cc2cccs2)SC1'), ('DB07210', 'Brc1cnn2c(NCc3ccncc3)cc(-c3ccccc3)nc12'), ('DB08565', 'CC(=O)NC(Cc1cccc2ccccc12)[B-](O)(O)O'), ('DB01184', 'O=c1[nH]c2ccccc2n1CCCN1CCC(n2c(=O)[nH]c3cc(Cl)ccc32)CC1'), ('DB09166', 'CCc1cc2c(s1)-n1c(C)nnc1CN=C2c1ccccc1Cl'), ('DB01051', 'COC1C(OC(N)=O)C(O)C(Oc2ccc3c(O)c(NC(=O)c4ccc(O)c(CC=C(C)C)c4)c(=O)oc3c2C)OC1(C)C'), ('DB09188', 'CNCCCC1(C)C(=O)N(c2ccccc2)c2ccccc21'), ('DB02571', 'NC(CCCC=O)C(=O)O'), ('DB03231', 'Nc1nc(O)c2nn(-c3cccc(C(=O)NCc4ccccc4Sc4ccccc4CO)c3)nc2n1'), ('DB08266', 'CCCC(C)=CC=C(C)C(=O)C1C(=O)C=C(C(C)CCCC=NC(=O)OC)OC1=O'), ('DB05791', 'FC(F)(F)C(F)(F)C(F)(F)C(F)(F)C(F)(F)C(F)(F)C(F)(F)C(F)(F)Br'), ('DB02614', 'CC(=O)NC(Cc1cccc(C(=O)O)c1)B(O)O'), ('DB06698', 'CNCCc1ccccn1'), ('DB07773', 'O=P(O)(O)OCCCc1c[nH]c2ccc(F)cc12'), ('DB01468', 'CCN(C)C(C)C=C(c1cccs1)c1cccs1'), ('DB02678', 'NC1C(O)OC(CO)C(O)C1O'), ('DB00818', 'CC(C)c1cccc(C(C)C)c1O'), ('DB08147', 'O=C(O)C(=O)CC(=O)c1cccc(N(Cc2ccccc2)Cc2ccccc2)c1'), ('DB07071', 'N=C(N)NCCc1ccc(B2OCC(CO)O2)cc1'), ('DB08823', 'CCC1CCCC(OC2CCC(N(C)C)C(C)O2)C(C)C(=O)C2=CC3C(C=CC4CC(OC5CC(C)C(OC)C(OC)C5OC)CC43)C2CC(=O)O1'), ('DB04718', 'NCC1OC(OC2C(CO)OC(OC3C(O)C(N)CC(N)C3OC3OC(CO)C(O)C(O)C3N)C2OCCNCC2CCCNC2)C(N)C(O)C1O'), ('DB02660', 'COc1ccc(C(C)=NOC(N)=O)cc1OC1CCCC1'), ('DB00902', 'CN1CCC(CN2c3ccccc3Sc3ccccc32)C1'), ('DB04683', 'CCCCCCC=CCCCCCCCC(=O)OC(COC(=O)CCCCCCCC=CCCCCCCCC)COP(=O)(O)OCC(O)CO'), ('DB00518', 'CCCSc1ccc2nc(NC(=O)OC)[nH]c2c1'), ('DB08523', 'OCN(O)CCCc1ccccc1'), ('DB07395', 'O=C(NC(=O)c1cc(F)c(F)cc1Cl)Nc1ccc(C(=O)O)cc1OC(F)(F)F'), ('DB02186', 'CC(=O)NC1C(O)OC(COS(=O)(=O)O)C(O)C1O'), ('DB08196', 'COc1cc(N=Nc2ccccc2C(=O)O)cc(OC)c1O'), ('DB06288', 'CCN1CCCC1CNC(=O)c1cc(S(=O)(=O)CC)c(N)cc1OC'), ('DB08901', 'Cc1ccc(C(=O)Nc2ccc(CN3CCN(C)CC3)c(C(F)(F)F)c2)cc1C#Cc1cnc2cccnn12'), ('DB08240', 'O=C(Nc1ccc(Cl)cc1)c1cc2ccccc2cc1OP(=O)(O)O'), ('DB03566', 'NCCCCNCCCN'), ('DB02199', 'C=CC1=C(C=C)C2=[N+]3C1=Cc1c(C=C)c(C=C)c4n1[Fe]31n3c(c(C)c(CCC(=O)O)c3=CC3=[N+]1C(=C4)C(C)=C3CCC(=O)O)=C2'), ('DB01970', 'CCCCCCCCC(=O)N(CCO)CC(O)C(O)C(O)C(O)CO'), ('DB01174', 'CCC1(c2ccccc2)C(=O)NC(=O)NC1=O'), ('DB03925', 'CC(C)C(NC(=O)Cn1c(-c2ccccc2)ncc(N)c1=O)C(O)c1nnc(C(C)(C)C)o1'), ('DB06824', 'NCCNCCNCCN'), ('DB03728', 'O=C(O)c1ccc(Cl)cc1'), ('DB08930', 'CC1CCOC2Cn3cc(C(=O)NCc4ccc(F)cc4F)c(=O)c(O)c3C(=O)N12'), ('DB03794', 'NC(C(=O)O)C(F)(F)F'), ('DB08552', 'O=C(Cc1cccs1)NC(B(O)O)c1ccccc1'), ('DB08534', 'Fc1ccccc1-c1cc(NCc2ccncc2)n2nccc2n1'), ('DB03917', 'CCNC(=O)C=C(C)C=CC=C(C)C=CC1=C(C)CCCC1(C)C'), ('DB04948', 'CC(Oc1c(Cl)cccc1Cl)C1=NCCN1'), ('DB03680', 'O=C([O-])C(O)C(=O)[O-]'), ('DB07824', 'CCc1c(C)[nH]n(-c2nnn[nH]2)c1=O'), ('DB07668', 'CCN(CC)c1ccc(C=C(C)C(=O)O)c(O)c1'), ('DB08179', 'COC(=O)c1c(C)cc(Oc2cc(C)cc(O)c2O)cc1O'), ('DB03298', 'O=P(O)(O)Oc1ccccc1'), ('DB04073', 'NCCCN1CCN(CCCNC(=O)c2cc(OC3OC(CO)C(O)C(O)C3O)cc([N+](=O)[O-])c2)CC1'), ('DB00428', 'CN(N=O)C(=O)NC1C(O)OC(CO)C(O)C1O'), ('DB08934', 'CC(C)OC(=O)C(C)NP(=O)(OCC1OC(n2ccc(=O)[nH]c2=O)C(C)(F)C1O)Oc1ccccc1'), ('DB09335', 'CC(N)C(=O)NC(C)C(=O)NC1C2CN(c3nc4c(cc3F)c(=O)c(C(=O)O)cn4-c3ccc(F)cc3F)CC21'), ('DB03984', 'O=CC(CSCc1ccccc1)NC(=O)C(Cc1ccccc1)NC(=O)N1CCOCC1'), ('DB00250', 'Nc1ccc(S(=O)(=O)c2ccc(N)cc2)cc1'), ('DB04014', 'O=C1Cc2c([nH]c3ccc([N+](=O)[O-])cc23)-c2ccccc2N1'), ('DB02462', 'CN(C)CCCOc1cc(=O)sc2ccccc12'), ('DB00560', 'CN(C)c1cc(NC(=O)CNC(C)(C)C)c(O)c2c1CC1CC3C(N(C)C)C(O)=C(C(N)=O)C(=O)C3(O)C(O)=C1C2=O'), ('DB03406', 'COC1OC(CO)C(S)C(O)C1O'), ('DB00813', 'CCC(=O)N(c1ccccc1)C1CCN(CCc2ccccc2)CC1'), ('DB08672', 'CC(CCc1ccc(C(N)=O)cc1)NCC(=O)c1ccc(F)cc1'), ('DB03454', 'Cc1cccc(O)c1O'), ('DB07546', 'CC(C)Nc1ccc2cnn(-c3cncc(-n4ccc(CC(=O)O)c4)n3)c2c1'), ('DB08000', 'O=C(O)CN1C(=O)c2c(c(C(=O)O)cc3ccccc23)S1(=O)=O'), ('DB04839', 'CC(=O)OC1(C(C)=O)CCC2C3C=C(Cl)C4=CC(=O)C5CC5C4(C)C3CCC21C'), ('DB02421', 'O=c1nc(O)ccn1C1OC(COP(=O)(O)OP(=O)(O)OC2OC(CO)C(O)C(O)C2O)C(O)C1O'), ('DB01552', 'CCC(=O)OC1(c2ccccc2)CCN(C)CC1CC'), ('DB00589', 'CCN(CC)C(=O)NC1C=C2c3cccc4[nH]cc(c34)CC2N(C)C1'), ('DB00749', 'CCc1cccc2c3c([nH]c12)C(CC)(CC(=O)O)OCC3'), ('DB04276', 'CC(C)CC(NC(=O)C(O)CC(=O)O)C(=O)NCCCCNC(N)=[NH2+]'), ('DB04797', 'CC(C)c1nnc2ccc(-c3ocnc3-c3ccc(F)cc3)cn12'), ('DB06768', 'CC(O)C(=O)[O-].[NH4+]'), ('DB04762', 'Cc1ncc(COP(=O)(O)O)c(CNC(CCC(=O)O)C(=O)O)c1O'), ('DB02121', 'CCCC(N)=O'), ('DB06689', 'CCCCCCCCC=CCCCCCCCC(=O)O.NCCO'), ('DB04743', 'CS(=O)(=O)Nc1ccc([N+](=O)[O-])cc1Oc1ccccc1'), ('DB03549', 'O=C(CCCCC1SCC2NC(=O)NC21)Nc1ccc([N+](=O)[O-])cc1'), ('DB00669', 'CNS(=O)(=O)Cc1ccc2[nH]cc(CCN(C)C)c2c1'), ('DB02837', 'O=S(=O)(O)OC1C(CO)OC(O)C(O)C1O'), ('DB03412', 'NC(CCCCO)C(=O)O'), ('DB02418', 'CC(O)C(C)O'), ('DB08617', 'NC(Cc1ccc(CC(F)(F)F)cc1)C(=O)O'), ('DB06207', 'CC(Cc1cc2c(c(C(N)=O)c1)N(CCCO)CC2)NCCOc1ccccc1OCC(F)(F)F'), ('DB04016', 'CN(C(=O)c1cc2ccccc2cc1C(=O)C(c1cccc2ccccc12)P(=O)(O)O)C1CCN(C(=O)c2ccc3ccccc3c2)CC1'), ('DB01994', 'OCCNc1ncnc2c1nc1ccccn12'), ('DB04223', 'N=C(NCCCC(N)C(=O)O)N[N+](=O)[O-]'), ('DB04299', 'O=C(O)C=CC(=O)O'), ('DB07760', 'O=C(O)c1cccc(C=NOCCON=Cc2cc(=O)[nH]c(=O)[nH]2)c1'), ('DB07378', 'CCCCCCCCOC1OC(CO)C(O)C(N)C1O'), ('DB02734', 'O=C(O)C1=CC(O)C(O)C(O)O1'), ('DB08844', 'O=c1[nH]c(=O)c2[nH]c(=O)[nH]c2[nH]1'), ('DB04696', 'O=C1OC(c2ccc(O)c(Br)c2)(c2ccc(O)c(Br)c2)c2cccc3c(Cl)ccc1c23'), ('DB08984', 'O=C(OCCOCCO)c1ccccc1Nc1cccc(C(F)(F)F)c1'), ('DB03510', 'O=P(O)(O)OCC1OC(n2cnc3c(OP(=O)(O)O)ncnc32)C(O)C1O'), ('DB03577', 'O=P(O)(O)C(NCc1ccccc1)c1ccccc1'), ('DB02799', 'CCN(CC)c1ccc2cc(C(=O)NC=CN3C(=O)CCC3=O)c(=O)oc2c1'), ('DB01529', 'CC(CN1CCOCC1)C(C(=O)N1CCCC1)(c1ccccc1)c1ccccc1'), ('DB03267', 'C=CCn1c(=O)c2[nH]c(Cc3ccc(NC(C)=O)cc3)nc2n(CCCC)c1=O'), ('DB07549', 'Cc1ccnc(CNC(=O)Cn2c(C)c[nH+]c(NCC(F)(F)c3cccc[nH+]3)c2=O)c1F'), ('DB06862', 'O=C(O)c1cc(S(=O)(=O)NCCS)ccc1O'), ('DB08190', 'COc1ccc2[nH]c(I)c(CCNC(C)=O)c2c1'), ('DB02887', 'Cc1cn(C2C=CC(COP(=O)(O)OP(=O)(O)OP(=O)(O)O)O2)c(=O)[nH]c1=O'), ('DB04581', 'c1ccc(Cn2ccnc2)cc1'), ('DB02345', 'NC(C[SeH])C(=O)O'), ('DB08529', 'CCCCCC=CCC(CC=CCCCCC)(P(=O)(O)O)P(=O)(O)O'), ('DB11363', 'CCc1cc2c(cc1N1CCC(N3CCOCC3)CC1)C(C)(C)c1[nH]c3cc(C#N)ccc3c1C2=O'), ('DB04613', 'CCOC(=O)C=CC(CC1CCNC1=O)NC(=O)C(CC(C)C)NC(=O)C(NC(=O)C(NC(=O)c1ccoc1)C(C)C)C(C)C'), ('DB04488', 'CC(=O)OCC1CSC2C(NC(=O)CCCCC(NC(=O)C[NH3+])C(=O)[O-])C(=O)N2C1C(=O)[O-]'), ('DB01328', 'O=C(O)C1=C(CSc2nnnn2CS(=O)(=O)O)CSC2C(NC(=O)C(O)c3ccccc3)C(=O)N12'), ('DB07400', 'CCOC(=O)NC(Cc1ccccc1)C(=O)N1CCCC1C(=O)NNCCCCN'), ('DB01117', 'O=C1C(O)=C(C2CCC(c3ccc(Cl)cc3)CC2)C(=O)c2ccccc21'), ('DB00309', 'CCC1(O)CC2CN(CCc3c([nH]c4ccccc34)C(C(=O)OC)(c3cc4c(cc3OC)N(C)C3C(O)(C(N)=O)C(O)C5(CC)C=CCN6CCC43C65)C2)C1'), ('DB03751', 'Cc1cn(C2CC(O)C(COP(=O)(O)OP(=O)(O)OC3OC(CO)C(O)C(O)C3O)O2)c(=O)[nH]c1=O'), ('DB00900', 'O=c1nc[nH]c2c1ncn2C1CCC(CO)O1'), ('DB03306', 'COc1cccc(C=O)c1OP(=O)(O)O'), ('DB00578', 'CC1(C)SC2C(NC(=O)C(C(=O)O)c3ccccc3)C(=O)N2C1C(=O)O'), ('DB04280', 'O=C1NC(O)C=CN1C1CC(O)C(COP(=O)(O)O)O1'), ('DB01454', 'CNC(C)Cc1ccc2c(c1)OCO2'), ('DB08489', 'CC(C)CC(CC(=O)NO)C(=O)NC1Cc2cn(c3ccccc23)CCCCCCNC1=O'), ('DB00937', 'CCN(CC)C(C)C(=O)c1ccccc1'), ('DB00187', 'COC(=O)CCc1ccc(OCC(O)CNC(C)C)cc1'), ('DB05864', 'COC1C(OC(=O)NC(C(N)=O)C(C)C)CCC2(CO2)C1C1(C)OC1CC=C(C)C'), ('DB01758', 'NC(Cc1ccc(O)c(I)c1)C(=O)O'), ('DB08405', 'CCCCCCC(=O)SCCNC(=O)CCNC(=O)C(O)C(C)(C)CO[PH](=O)O'), ('DB04218', 'Nc1ccnc2c1ncn2C1OC(CO)C(O)C1O'), ('DB03863', 'COC1C(O)OC(C)C(O)C1O'), ('DB03683', 'CC(C)CC(CN(O)C=O)C(=O)O'), ('DB09068', 'Cc1ccc(Sc2ccccc2N2CC[NH2+]CC2)c(C)c1'), ('DB02456', 'Nc1ccn(C2OC(COP(=O)(O)O)C(O)C2O)c(=O)n1'), ('DB03931', 'Nc1nc2c(ncn2C2OC(COP(=O)(O)OP(=O)(O)OP(=O)(O)OCC3OC(n4cnc5c(=O)[nH]c(N)nc54)C(O)C3O)C(O)C2O)c(=O)[nH]1'), ('DB07622', 'Cc1nc(C)c(-c2[nH]nc3c2C(=O)c2c(NC(=O)NN4CCN(C)CC4)cccc2-3)s1'), ('DB07859', 'Clc1ccc(C2(c3ccc(-c4cn[nH]c4)cc3)CCNCC2)cc1'), ('DB07768', 'CC12CCC(=O)C=C1CCC1C2CCC2(C)C(O)CCC12'), ('DB06833', 'Cc1ccc(-n2cc(CNCC3CCCCC3)c3ccccc32)cc1'), ('DB07507', 'Cc1cccc2c1C(=O)N(c1cc(-c3ccccc3)ccc1O)C2=O'), ('DB08759', 'CC(CO)CC(C)C(O)C(C)C(=O)C[PH](=O)O'), ('DB03042', 'O=C(O)C(O)C(O)C(O)COP(=O)(O)O'), ('DB01842', 'Nc1ncnc2c1ncn2C1OC(COP(=O)(O)OP(=O)(O)O)C(OP(=O)(O)O)C1O'), ('DB09198', 'COc1ccc(Oc2cc(N(C)CCOc3ccc(CC4SC(=O)NC4=O)cc3)ncn2)cc1'), ('DB07748', 'O=P(O)(O)OCCNS(=O)(=O)c1ccc(OC(F)(F)F)cc1'), ('DB03508', 'CCOCCOCCOC'), ('DB00837', 'N=C(O)CCCN=C(c1ccc(Cl)cc1)c1cc(F)ccc1O'), ('DB01699', 'CC=C(N)CCC(=O)O'), ('DB03408', 'NC(CCC(=O)NC(CS)C(=O)O)C(=O)O'), ('DB01961', 'Nc1ccn(C2OC(CO)C(OP(=O)(O)O)C2O)c(=O)n1'), ('DB09189', 'CNCCCC1(C)CN(c2ccccc2)c2ccccc21'), ('DB02087', 'NS(=O)(=O)c1cc(F)cc(F)c1'), ('DB08794', 'CCOC(=O)C(c1c(O)c2ccccc2oc1=O)c1c(O)c2ccccc2oc1=O'), ('DB08144', 'Nc1ncc2cc(-c3c(Br)cccc3Br)c(N)nc2n1'), ('DB00242', 'Nc1nc(Cl)nc2c1ncn2C1CC(O)C(CO)O1'), ('DB09273', 'Cn1c(=O)c2c(ncn2CC2OCCO2)n(C)c1=O'), ('DB00988', 'NCCc1ccc(O)c(O)c1'), ('DB08927', 'CCNC(=O)N1CCN(CCCC(c2ccc(F)cc2)c2ccc(F)cc2)CC1'), ('DB01445', 'CN(C)CCc1c[nH]c2ccc(O)cc12'), ('DB01742', 'CC(=O)N1CCCC(C)C1'), ('DB01301', 'CN(C)C1C(O)=C(C(=O)NCN2CCCC2)C(=O)C2(O)C(O)=C3C(=O)c4c(O)cccc4C(C)(O)C3CC12'), ('DB02526', 'NC(=[NH2+])c1ccc2[nH]c(-c3cccc(OC4CCCC4)c3[O-])nc2c1'), ('DB09262', 'Cc1nccn1CCC(C(N)=O)(c1ccccc1)c1ccccc1'), ('DB02520', 'CCN(CC)C(=S)S'), ('DB03046', 'COc1ccc2ccc(C(=N)N)cc2c1-c1cnn(S(C)(=O)=O)c1'), ('DB01822', 'OC1CSSCC1O'), ('DB04424', 'COC(=O)C(Cc1cccc(C(=N)N)c1)C(C)NC(=O)c1ccc(-c2cccc(CN)c2)cc1'), ('DB01998', 'CCCCCCCC(O)CC1OC(CO)(OC2OC(CO)C(O)C(O)C2O)C(O)C1O'), ('DB08192', 'CC(C)c1sc(C2Cc3ccccc3CN2)nc1C(=O)O'), ('DB02381', 'N=C(NO)NCCC(N)C(=O)O'), ('DB00898', 'CCO'), ('DB07515', 'CC1NC(N)CCC1CNCCN1C(Cl)=CN=C(NCC(F)(F)c2ccccn2)C1O'), ('DB09300', 'CCCC[N+]1(C)C2CC(OC(=O)C(CO)c3ccccc3)CC1C1OC12.[Br-]'), ('DB09299', 'CC(C)OC(=O)C(C)NP(=O)(COC(C)Cn1cnc2c(N)ncnc21)Oc1ccccc1'), ('DB07008', 'c1cn(-c2ccc(Oc3nccc(Oc4ccc5c(c4)OCO5)n3)cc2)cn1'), ('DB09324', 'CC1(C)C(C(=O)O)N2C(=O)CC2S1(=O)=O'), ('DB01715', 'CC(N)C(N)CCCCCC(=O)O'), ('DB02338', 'NC(=O)C1=CN(C2OC(COP(=O)(O)OP(=O)(O)OCC3OC(n4cnc5c(N)ncnc54)C(OP(=O)(O)O)C3O)C(O)C2O)C=CC1'), ('DB04323', 'NC(CSC1CC(C(N)C(=O)O)ON1)C(=O)O'), ('DB00495', 'Cc1cn(C2CC(N=[N+]=[N-])C(CO)O2)c(=O)[nH]c1=O'), ('DB08498', 'CC(=O)OC(C(=O)Nc1cccc2c1C(=O)C(=O)NC2=O)c1cccc(Cl)c1'), ('DB03832', 'CCCCCCCC(=O)OC(CC(=O)O)C[N+](C)(C)C'), ('DB01069', 'CC(CN1c2ccccc2Sc2ccccc21)N(C)C'), ('DB08317', 'Cc1c(-c2ccccc2)ccc2nc(N)nc(N)c12'), ('DB01382', 'COCCOc1cnc(NS(=O)(=O)c2ccccc2)nc1'), ('DB03631', 'N=C1C=C(CC(N)C(=O)O)C(=O)C=C1O'), ('DB03313', 'CC(=O)OCC1=C(C(=O)O)N2C(=O)C(NC(=O)CCCC([NH3+])C(=O)O)C2SC1'), ('DB08300', 'Cn1nc(-c2ccc3ccccc3c2)c2c(N)ncnc21'), ('DB04063', 'CC(C)CC(C)(N)C(=O)O'), ('DB03083', 'COc1cc(OC)c(C=C2C(=O)Nc3ccccc32)c(OC)c1'), ('DB02029', 'O=C(Nc1ccc(I)cc1)NC1CCCCC1'), ('DB04054', 'CCCCn1c(Cc2cc(OC)ccc2OC)nc2c(N)nc(F)nc21'), ('DB04408', 'CNC1C(OC2C3=CC#CC4OC4(C4COC(=O)O4)C#CC3=CC2OC(=O)c2c(O)ccc3c(C)cc(OC)cc23)OC(C)C(O)C1O'), ('DB00680', 'CCOC(=O)Nc1ccc2c(c1)N(C(=O)CCN1CCOCC1)c1ccccc1S2'), ('DB01476', 'O=C1CN2CCOC2(c2ccccc2F)c2cc(Br)ccc2N1'), ('DB04677', 'C=CCN(C)C(C)Cc1ccccc1'), ('DB08135', 'O=C(Nc1ccccc1)c1cc[nH]n1'), ('DB03379', 'O=C(O)CCP(=O)(O)O'), ('DB08824', 'COC(=O)C1C(c2ccc(I)cc2)CC2CCC1N2CCCF'), ('DB02627', 'OB(O)c1ccc(-c2ccc(B(O)O)cc2)cc1'), ('DB09173', 'CCCC(=O)N(c1ccccc1)C1CCN(CCc2ccccc2)CC1'), ('DB03059', 'CC(=O)CC(=O)SCCNC(=O)CCNC(=O)C(O)C(C)(C)COP(=O)(O)OP(=O)(O)OCC1OC(n2cnc3c(N)ncnc32)C(O)C1OP(=O)(O)O'), ('DB03550', 'CC1(C)SC2C(NC(=O)CCCC(N)C(=O)O)C(=O)N2C1C(=O)O'), ('DB07095', 'N=C(N)c1ccc(CNC(=O)C2CCCN2C(=O)CCC2CCCC2)cc1'), ('DB05297', 'CCC=CCC=CCC=CCC=CCC=CCC=CCCC(=O)OC(C(=O)OC1CC2(O)C(OC(=O)c3ccccc3)C3C4(OC(C)=O)COC4CC(O)C3(C)C(=O)C(OC(C)=O)C(=C1C)C2(C)C)C(NC(=O)c1ccccc1)c1ccccc1'), ('DB01041', 'O=C1CCC(N2C(=O)c3ccccc3C2=O)C(=O)N1'), ('DB02632', 'O=[N+]([O-])c1ccc(OC2OC(CO)C(O)C(O)C2O)cc1'), ('DB08421', 'CC(C)(C)NC(=O)C1CCCCN1'), ('DB07263', 'O=C(c1ccccc1)C(Cc1ccc(C(F)(F)P(=O)(O)O)c(Br)c1)c1ccccc1'), ('DB08449', 'O=C(O)Cn1cc(Cc2nc3c(F)c(F)cc(F)c3s2)c2cccnc21'), ('DB02026', 'CN(Cc1coc2nc(N)nc(N)c12)c1ccc(C(=O)NC(CCC(=O)O)C(=O)O)cc1'), ('DB08337', 'CC(C)C(NC(=O)OC(C)(C)C)c1nnco1'), ('DB09177', 'CCC(=O)N(c1ccc(F)cc1)C1CCN(CCc2ccccc2)CC1'), ('DB01766', 'NC(Cc1ccc2ccccc2c1)C(=O)O'), ('DB03215', 'O=C(O)CC1CCC(C(=O)O)N1'), ('DB07541', 'O=C(O)c1ccc(B(O)O)cc1NS(=O)(=O)c1cc(S(=O)(=O)c2ccccc2)cs1'), ('DB03021', 'COC(CC1OC(=O)CC(O)CCCC(=O)CC(C)c2coc(n2)-c2coc(n2)-c2coc(n2)C=CCC(OC)C1C)C(C)CCC(=O)C(C)C(OC(C)=O)C(C)C=CN(C)CO'), ('DB04841', 'Fc1ccc(C(c2ccc(F)cc2)N2CCN(CC=Cc3ccccc3)CC2)cc1'), ('DB00463', 'CCC1(CC)C(=O)NC(=O)N(C)C1=O'), ('DB04825', 'CC(Cc1ccccc1)NCCC(c1ccccc1)c1ccccc1'), ('DB03784', 'CCCCCCCCC=CCCCCCCCC(N)=O'), ('DB07031', 'CC1(C)CCC(C)(C)c2cc(C(O)C(=O)Nc3ccc(C(=O)O)cc3F)ccc21'), ('DB06714', 'CNC(C)CC1CCCCC1'), ('DB00446', 'O=C(NC(CO)C(O)c1ccc([N+](=O)[O-])cc1)C(Cl)Cl'), ('DB01172', 'NCC1OC(OC2C(N)CC(N)C(OC3OC(CO)C(O)C(N)C3O)C2O)C(O)C(O)C1O'), ('DB08754', 'O=C(C=Cc1ccc(O)c(O)c1)NCCc1ccc(O)cc1'), ('DB03219', 'CCC1(O)CC(OC2CC(N(C)C)C(OC3CC(O)C(OC4CCC(=O)C(C)O4)C(C)O3)C(C)O2)c2c(cc3c(c2O)C(=O)c2c(O)cccc2C3=O)C1O'), ('DB03391', 'CSCCC(N)C1=NC(=Cc2ccc(O)cc2)C(=O)N1CC=O'), ('DB02109', 'O=CN(O)CC(=O)O'), ('DB03544', 'NC(CSP(=O)(O)O)C(=O)O'), ('DB02329', 'CC1(C(=O)O)CCC2(C)CCC3(C)C(=CC(=O)C4C5(C)CCC(OC(=O)CCC(=O)O)C(C)(C)C5CCC43C)C2C1'), ('DB08842', 'CC(=O)OC(CC(=O)O)C[N+](C)(C)C'), ('DB06925', 'Cc1ccc(C(=O)Nc2cccc(C(F)(F)F)c2)cc1-c1ccc2nc(N)ncc2c1'), ('DB08015', 'O=C1C(=NO)c2c(-c3ccccc3)cccc2N1Cc1cc(F)cc2c1OCOC2'), ('DB06839', 'CCOC(=O)NC(CC(C)C)C(=O)O'), ('DB07500', 'COc1cc(O)c(C(=O)C=Cc2ccc(O)cc2)cc1CC=C(C)C'), ('DB01057', 'CCOP(=O)(OCC)SCC[N+](C)(C)C'), ('DB03109', 'CC(O)=NC1C(O)OC(CO)C(O)C1O'), ('DB09346', 'CC(=O)Nc1c(I)c(C(=O)O)c(I)c(N(C)C(C)=O)c1I'), ('DB02048', 'NC(=[NH2+])n1cncn1'), ('DB04033', 'CC(NC(=O)OCc1ccccc1)C(=O)N1CCCC1C(=O)O'), ('DB01472', 'COc1ccc(CC(C)N)cc1'), ('DB04251', 'CC(C)O[PH](=O)O'), ('DB07751', 'CN(C)CC(O)COc1ccc(Nc2cc(Nc3c(F)cccc3F)ncn2)cc1'), ('DB00264', 'COCCc1ccc(OCC(O)CNC(C)C)cc1'), ('DB04850', 'O=C(C(O)CO)N1CC=C(c2c(F)cc(N3CC(COc4ccon4)OC3=O)cc2F)CC1'), ('DB00925', 'CC(COc1ccccc1)N(CCCl)Cc1ccccc1'), ('DB03518', 'CC(O)(CCO)CC(=O)[O-]'), ('DB01232', 'CC(C)(C)N=C(O)C1CC2CCCCC2CN1CC(O)C(Cc1ccccc1)N=C(O)C(CC(=N)O)NC(=O)c1ccc2ccccc2n1'), ('DB08998', 'CNCCON=c1c2ccccc2ccc2ccccc12'), ('DB08683', 'O=C1NC(=O)c2c1c1c3ccccc3n3c1c1c2c2ccccc2n1C1CCC3O1'), ('DB08362', 'CC(=O)Nc1cccc(Nc2nc(Nc3ccccc3)n3ncc(C#N)c3n2)c1'), ('DB02659', 'CC(CCC(=O)O)C1CCC2C3C(O)CC4CC(O)CCC4(C)C3CC(O)C12C'), ('DB03438', 'CCCCCCCCCCCCCCCC(=O)OCC(O)COP(=O)([O-])OCC(O)CO'), ('DB08827', 'O=C(NC1CCN(CCCCC2(C(=O)NCC(F)(F)F)c3ccccc3-c3ccccc32)CC1)c1ccccc1-c1ccc(C(F)(F)F)cc1'), ('DB01466', 'CCOc1ccc2c3c1OC1C(O)C=CC4C(C2)N(C)CCC341'), ('DB01173', 'Cc1ccccc1C(OCCN(C)C)c1ccccc1'), ('DB06816', 'Cc1cc(C=Cc2ccc3cc(N(C)C)ccc3[n+]2C)c(C)n1-c1ccccc1'), ('DB03253', 'NCC1CCCN1'), ('DB08487', 'N=C(N)c1cccc(CN2CCN(S(=O)(=O)c3cc4ccc(Cl)cc4s3)CC2=O)c1'), ('DB02650', 'O=CC(Cl)(Cl)Cl'), ('DB02879', 'O=S(=O)(O)OC1C(O)OC(CO)C(O)C1OS(=O)(=O)O'), ('DB09027', 'COC(O)=NC(C(=O)N1CC2(CC2)CC1c1ncc(-c2ccc3c(c2)C(F)(F)c2cc(-c4ccc5nc(C6C7CCC(C7)N6C(=O)C(N=C(O)OC)C(C)C)[nH]c5c4)ccc2-3)[nH]1)C(C)C'), ('DB02413', 'NC(CSCCO)C(=O)O'), ('DB04262', 'O=C(O)CCc1nc2c(=O)[nH]c(=O)nc-2n(CC(O)C(O)C(O)CO)c1O'), ('DB01816', 'OC1CN2CCC(O)C2C(O)C1O'), ('DB01645', 'O=c1c(-c2ccc(O)cc2)coc2cc(O)cc(O)c12'), ('DB08799', 'c1ccc(CN(CC2=NCCN2)c2ccccc2)cc1'), ('DB04106', 'CCOP(=O)(OCC)C(C)NC(=O)N(CCCl)N=O'), ('DB08030', 'N#Cc1ccc(-c2ccc(OCCC(=O)NO)cc2)cc1'), ('DB00628', 'O=C(O)C1N=C(c2ccccc2)c2cc(Cl)ccc2NC1=O'), ('DB00535', 'C=CC1=C(C(=O)O)N2C(=O)C(NC(=O)C(=NO)c3csc(N)n3)C2SC1'), ('DB02626', 'CC(=O)N(O)CCCC1NC(=O)CNC(=O)C(Cc2ccccc2)NC(=O)CNC(=O)C(CCCN(O)C(C)=O)NC(=O)C(CCCN(O)C(C)=O)NC1=O.[Fe]'), ('DB07294', 'CC1(C)CCC(C)(C)c2cc(C(O)C(=O)Nc3ccc(C(=O)O)cc3F)ccc21'), ('DB01233', 'CCN(CC)CCNC(=O)c1cc(Cl)c(N)cc1OC'), ('DB00499', 'CC(C)C(=O)Nc1ccc([N+](=O)[O-])c(C(F)(F)F)c1'), ('DB02160', 'CCCC(=O)SCC(N)C(=O)O'), ('DB01154', 'C=CCC1(C(C)CCC)C(=O)NC(=S)NC1=O'), ('DB02877', 'CC(=Cc1ccc(C(=O)O)cc1)c1ccc2c(c1)C(C)(C)CCC2(C)C'), ('DB01522', 'CCC(OC(C)=O)C(CC(C)N(C)C)(c1ccccc1)c1ccccc1'), ('DB04623', 'CCOCCOC(=O)NC(Cc1ccccc1)C(O)CC1(Cc2ccccc2)NC=C(C2c3ccccc3C3NC(=O)OC32)C1=O'), ('DB03642', 'CC(C)CC(NC(=O)c1cc2ccccc2o1)C(=O)NC1CCCN(S(=O)(=O)c2ccccn2)CC1=O'), ('DB07787', 'O=c1[nH]c(=O)n(CCCCN2CC=C(c3ccccc3)CC2)c2cccc(F)c12'), ('DB00389', 'CCOC(=O)n1ccn(C)c1=S'), ('DB03244', 'CC(C)CC(C(=O)O)n1cc(CN)nn1'), ('DB07957', 'COC(=O)C(OC(C)=O)c1ccc(N)cc1C(=O)O'), ('DB00091', 'CC=CCC(C)C(O)C1C(=O)NC(CC)C(=O)N(C)CC(=O)N(C)C(CC(C)C)C(=O)NC(C(C)C)C(=O)N(C)C(CC(C)C)C(=O)NC(C)C(=O)NC(C)C(=O)N(C)C(CC(C)C)C(=O)N(C)C(CC(C)C)C(=O)N(C)C(C(C)C)C(=O)N1C'), ('DB08515', 'CC12OCCC1C(=O)NC2(C=O)C(O)C1C=CCCC1'), ('DB04852', 'Cc1cc(C)c2c3ccccc3n(Cc3cccc(C(C(=O)NC(CO)c4ccccc4)C4CCCC4)c3)c2n1'), ('DB07635', 'O=C(c1ccc(O)cc1)c1ccc(O)cc1'), ('DB07611', 'CCCCCCCCCCS'), ('DB04653', 'CC(=O)C(Cc1ccc(O)cc1)NC(=O)C(CC(C)C)NC(O)C(CC(C)C)NC(=O)OCc1ccccc1'), ('DB04566', 'O=c1[nH]cnc2c1ncn2C1OC(COP(=O)(O)O)C(O)C1O'), ('DB04143', 'O=P(O)(O)OCC(O)C(O)c1c[nH]c2ccccc12'), ('DB07681', 'CCCCCCCCCCCCS(=O)(=O)[O-]'), ('DB07960', 'CC(=O)NC1C(O)C=C(C(=O)O)OC1OCC(C)C'), ('DB08098', 'O=C(O)CSc1nnc(-c2ccc([N+](=O)[O-])o2)o1'), ('DB02019', 'O=C(O)Cc1ccc2c(c1O)C(=O)c1c(O)cccc1C2'), ('DB02585', 'N=C(N)c1ccc(CO)cc1'), ('DB00456', 'CC(=O)OCC1=C(C(=O)O)N2C(=O)C(NC(=O)Cc3cccs3)C2SC1'), ('DB06757', '[Mn+2]'), ('DB02438', 'COC(C(=O)CO)C(O)C(O)CO'), ('DB03955', 'OCC1NCC(O)C(O)C1O'), ('DB02998', 'CC1(O)CCC2C3CCC4=CC(=O)CCC4=C3C=CC21C'), ('DB04874', 'Cc1ccccn1.N.[Cl-].[Cl-].[Pt+2]'), ('DB04594', 'O=C(O)CC(O)CC(=O)O'), ('DB07871', 'CC(C)c1c(OC2CCCCC2)c2cc(Cl)ccc2[nH]c1=O'), ('DB02225', 'CCCCC(=O)OCC(COP(=S)([S-])OCC[N+](C)(C)C)OC(=O)CCCC'), ('DB01741', 'NC(=[NH2+])c1ccc2[nH]c(-c3cc(C(CC(=O)[O-])C(=O)[O-])cc(-c4ccccc4F)c3[O-])nc2c1'), ('DB07919', 'COc1ccc2c(c1)[nH]c1c(C)nccc12'), ('DB09181', 'CCC(=O)N(c1ccccc1F)C1(c2ccccc2)CCN(CCn2nnn(CC)c2=O)CC1'), ('DB00277', 'Cn1c(=O)c2[nH]cnc2n(C)c1=O'), ('DB03903', 'CN(C)C1=CCC2=C(c3ccc(N4C(=O)C=CC4=O)cc3C(=O)O)c3ccc(N(C)C)cc3OC2=C1'), ('DB07879', 'O=C(NO)c1ccc(C(=O)N2CCn3c(-c4ccccc4)cnc3C2)s1'), ('DB09472', 'O=S(=O)([O-])[O-].[Na+].[Na+]'), ('DB04037', 'Clc1ccc(CN(Cc2ccc(Cl)cc2)c2nn[nH]n2)cc1'), ('DB08181', 'Cc1cc(N=Nc2ccccc2C(=O)O)ccc1O'), ('DB03559', 'O=CNC1CCCCC1'), ('DB00985', 'C[NH+](C)CCOC(c1ccccc1)c1ccccc1.Cn1c(=O)c2[n-]c(Cl)nc2n(C)c1=O'), ('DB02331', 'O=C(O)C(Cc1ccccc1)N(Cc1ccc(-c2cc3ccccc3o2)s1)C(=O)c1ccc(Cl)cc1Cl'), ('DB04135', 'O=C1NC=C(F)C(O)N1'), ('DB08219', 'Cc1nc(N)sc1C1=NC(=Nc2ccc(N3CCOCC3)cc2)N=CC1'), ('DB02902', 'Nc1ncnc2c1ncn2C1OC(COP(=O)(O)OS(=O)(=O)O)C(OP(=O)(O)O)C1O'), ('DB07145', 'Cc1cc(COc2ccc(C3(C)CCN(C(C)C(=O)NO)C3=O)cc2)c2ccccc2n1'), ('DB08085', 'C=CC(=O)c1ccc(CCCCCC)cc1'), ('DB07180', 'CNC(=O)c1c(C)[nH]c(C=C2C(=O)Nc3ccc(Cl)cc32)c1C'), ('DB04328', 'O=C(O)C1=CC(OP(=O)(O)O)C(O)C(O)C1'), ('DB02166', 'CC[N+](C)(CC)CCC[n+]1c(-c2ccccc2)c2cc(N)ccc2c2ccc(N)cc21'), ('DB01633', '[O-]C1OC(CO)C(OC2OC(CO)C(OC3OC(CO)C(O)C(O)C3O)C(O)C2O)C(O)C1F'), ('DB01578', 'CC(=O)N(C)c1c(I)c(N=C(C)O)c(I)c(C(O)=NC(C=O)C(O)C(O)C(O)CO)c1I'), ('DB07911', 'O=C([O-])C(=O)C=CCC(=O)c1ccccc1'), ('DB06820', 'Clc1ccc(CSC(Cn2ccnc2)c2ccc(Cl)cc2Cl)cc1'), ('DB01574', 'O.O.O.O.[AlH3+3].[Mg+2].[O-2].[O-2].[O-2].[O-2].[O-2].[O-2].[O-2].[O-2].[O-2].[O-2].[OH-].[SiH8+4].[SiH8+4].[SiH8+4].[SiH8+4]'), ('DB02373', 'Nc1ncnc2c1ncn2C1OC(CO[W](=O)(O)O)C(O)C1O'), ('DB07148', 'O=C(C1C=Cc2c(Cl)nc(OCc3ccc(F)cc3)c(=O)n21)N1CCCC1'), ('DB02776', 'CCCCCCCCCCCCCCCCS(=O)(=O)O'), ('DB00175', 'CCC(C)C(=O)OC1CC(O)C=C2C=CC(C)C(CCC(O)CC(O)CC(=O)O)C21'), ('DB03340', 'CC(CP(=O)(O)C(N)CC(=O)O)C(=O)O'), ('DB02553', 'NCCCCNCCCNC(=O)CNC(=O)C(CSSCC(NC(=O)CCC(N)C(=O)O)C(=O)NCC(=O)NCCCNCCCCN)NC(=O)CCC(N)C(=O)O'), ('DB04101', 'Cc1nc(C)c(-c2ccnc(NC=NO)n2)s1'), ('DB03812', 'O=c1[nH]c(=O)c2c([nH]1)n(CC(O)C(O)C(O)CO)c(=O)n2CCCOP(=O)(O)O'), ('DB03809', 'CCCCn1c(Cc2cccc(OC)c2)nc2c(N)ncnc21'), ('DB02006', 'O=C1N2C=C(c3ccc(O)cc3)NC(Cc3ccccc3)C2=NC1(Cc1ccc(Br)cc1)OO'), ('DB00619', 'Cc1ccc(NC(=O)c2ccc(CN3CCN(C)CC3)cc2)cc1Nc1nccc(-c2cccnc2)n1'), ('DB08588', 'N#Cc1ccccc1Cn1c(N2CCCC(N)C2)nc2ccccc2c1=O'), ('DB03864', 'OCC(O)CS'), ('DB00772', 'CCOC(=O)CC(SP(=S)(OC)OC)C(=O)OCC'), ('DB00604', 'COc1cc(N)c(Cl)cc1C(=O)NC1CCN(CCCOc2ccc(F)cc2)CC1OC'), ('DB00530', 'C#Cc1cccc(Nc2ncnc3cc(OCCOC)c(OCCOC)cc23)c1'), ('DB07502', 'Oc1ccc2c(-c3cc(Br)c(O)cc3O)noc2c1'), ('DB07340', 'c1nc2c(NC3CCCCC3)nc(Nc3ccc(N4CCOCC4)cc3)nc2[nH]1'), ('DB04465', 'OCC1OC(OC2C(CO)OC(O)C(O)C2O)C(O)C(O)C1O'), ('DB00814', 'Cc1cnc(NC(=O)C2=C(O)c3ccccc3S(=O)(=O)N2C)s1'), ('DB03986', 'Cn1cnc2c(C3OC(CO)C(O)C3O)nnc-2c1N'), ('DB03096', 'NCCN1CCOCC1'), ('DB08657', 'O=C(O)COc1ccc(-c2c[nH]c(CNC(=O)Nc3ncc(Sc4ccccn4)s3)n2)cc1'), ('DB01195', 'O=C(NCC1CCCCN1)c1cc(OCC(F)(F)F)ccc1OCC(F)(F)F'), ('DB05806', 'CCC1(O)C(=O)OCc2c1cc1n(c2=O)Cc2c-1nc1ccccc1c2CC[Si](C)(C)C'), ('DB00418', 'C=CCC1(C(C)CCC)C(=O)NC(=O)NC1=O'), ('DB02156', 'O=C(O)C(=O)CS(=O)(=O)O'), ('DB03532', 'Nc1nc2c(ncn2C2OC(COP(=O)(O)CP(=O)(O)OP(=O)(O)O)C(O)C2O)c(=O)[nH]1'), ('DB02428', 'O=C(O)c1ccc2ccccc2n1'), ('DB08067', 'O=C(Nc1c[nH]nc1-c1nc2ccc(C[NH+]3CCOCC3)cc2[nH]1)NC1CC1'), ('DB08746', 'O=S(=O)(C=Cc1ccc(Cl)cc1)N1CCN(CC2CCN(c3ccncc3)CC2)CC1'), ('DB01177', 'CC(=O)C1(O)Cc2c(O)c3c(c(O)c2C(OC2CC(N)C(O)C(C)O2)C1)C(=O)c1ccccc1C3=O'), ('DB07307', 'Cc1ccc(C(=O)NC2CC2)cc1-c1ccc2c(-c3ccccc3C)nncc2c1'), ('DB08658', 'CCOP(=O)(O)N(CC)CC'), ('DB00576', 'Cc1nnc(NS(=O)(=O)c2ccc(N)cc2)s1'), ('DB02382', 'O=C(O)c1ccc[n+](C2OC(COP(=O)([O-])O)C(O)C2O)c1'), ('DB07118', 'Cc1cc(=O)oc2cc(O)ccc12'), ('DB03918', 'CC(O)C(O)C1CNc2[nH]c(=N)nc(O)c2N1'), ('DB07212', 'Cc1c(O)cccc1C(=O)Nc1cccc2ccc(C(=N)N)cc12'), ('DB09305', 'CN1CCN2c3ccccc3Cn3cccc3C2C1'), ('DB02123', 'CC(CCC(=O)NCC(=O)O)C1CCC2C3C(O)CC4CC(O)CCC4(C)C3CCC12C'), ('DB04194', 'CC(=O)NC1C(O)OC(CO)C(OC2OC(CO)C(OC3OC(CO)C(O)C(O)C3NC(C)=O)C(O)C2NC(C)=O)C1O'), ('DB00332', 'CC(C)[N+]1(C)C2CCC1CC(OC(=O)C(CO)c1ccccc1)C2.[Br-]'), ('DB03524', 'NCCCN1CCN(CCCNC(=O)c2cc(NC(=O)Cc3cccs3)cc(OC3OC(CO)C(O)C(O)C3O)c2)CC1'), ('DB03617', 'CC1OC(OC2C(CO)OC(OC3C(CO)=CC(NC4C(C)OC(OC5C(CO)OC(OC6C(C)OC(O)C(O)C6O)C(O)C5O)C(O)C4O)C(O)C3O)C(O)C2O)C(O)C(O)C1O'), ('DB04238', 'N=C(N)c1cccc(CC(NS(=O)(=O)c2ccc3ccccc3c2)C(=O)N2CCCCC2C(=O)O)c1'), ('DB07344', 'CCOCCOCCOCCOCCOCCO'), ('DB07716', 'OCC1OC2C=CC3OC4C(CC3OC2CC=CC1O)OC1CC=CCOC1C4O'), ('DB07503', 'O=C1NC(=O)C(=Cc2ccc3c(c2)OC(F)(F)O3)S1'), ('DB09247', 'CC(C)NNC(=O)COc1ccc(Cl)cc1'), ('DB08202', 'CN1CCN(NC(=S)Nc2ccc(S(N)(=O)=O)cc2)CC1'), ('DB03671', 'CC12CCC(O)CC1CCC1C2CC(O)C2(C)C(C3=CC(=O)OC3)CCC12O'), ('DB06857', 'Cc1cc(I)c(O)c(C(=O)Nc2ccc(C(=N)N)c(Cl)c2)c1'), ('DB07517', 'CCCc1oc(CCC(=O)O)c(C(=O)O)c1C'), ('DB11093', 'O=C([O-])CC(O)(CC(=O)[O-])C(=O)[O-].O=C([O-])CC(O)(CC(=O)[O-])C(=O)[O-].[Ca+2].[Ca+2].[Ca+2]'), ('DB04961', 'N=c1ccn(C2COC(CO)O2)c(O)n1'), ('DB02004', 'COc1cc(OC)cc(-c2nc(N)c(CN)c(-c3ccc(Cl)cc3Cl)n2)c1'), ('DB05271', 'CCCN(CCc1cccs1)C1CCc2c(O)cccc2C1'), ('DB00875', 'OCCN1CCN(CCC=C2c3ccccc3SC3C=CC(C(F)(F)F)=CC23)CC1'), ('DB04381', 'CC=CC=O'), ('DB01782', 'O=C1c2ccccc2-c2n[nH]c3cccc1c23'), ('DB02643', 'CCCCCCCCCCCC[N+](C)(C)CCCS(=O)(=O)O'), ('DB07054', 'CN(C)CC(O)COc1ccc(Nc2cc(Nc3cc(C(F)(F)F)ccc3F)ncn2)cc1'), ('DB00536', 'N=C(N)N'), ('DB06202', 'Oc1ccc2c(c1)CCC(c1ccccc1)C2c1ccc(OCCN2CCCC2)cc1'), ('DB04165', 'CCCC(CCC)C(N)=O'), ('DB02731', 'CC[Hg]Sc1ccccc1C(=O)O'), ('DB08635', 'CN(CCCCC(=O)O)c1ccc(C=Cc2ccc([N+](=O)[O-])cc2)cc1'), ('DB04726', 'Cc1cc2nc3c(=O)[nH]c(=O)nc-3n(C)c2cc1C'), ('DB00217', 'CN=C(NC)NCc1ccccc1'), ('DB07913', 'CC(=O)C(N)CCc1ccccc1'), ('DB01764', 'CCN(CC)CCS(=O)(=O)C1CCN2C(=O)c3coc(n3)CC(=O)CC(O)C=C(C)C=CCNC(=O)C=CC(C)C(C(C)C)OC(=O)C12'), ('DB01772', 'Cn1cc(C2=C(c3cccc(NCC(O)CO)c3)C(=O)NC2=O)c2cc(F)ccc21'), ('DB08881', 'CCCS(=O)(=O)Nc1ccc(F)c(C(=O)c2c[nH]c3ncc(-c4ccc(Cl)cc4)cc23)c1F'), ('DB09132', 'O=C([O-])CN1CCN(CC(=O)[O-])CCN(CC(=O)O)CCN(CC(=O)[O-])CC1.[Gd+3]'), ('DB06796', 'Cc1nc(COP(=O)(O)O)cc(CN(CCN(CC(=O)[O-])Cc2cc(COP(=O)(O)O)nc(C)c2O)CC(=O)[O-])c1O.[Mn+2]'), ('DB03419', 'O=c1cc[nH]c(=O)[nH]1'), ('DB09022', 'CC(Cc1cccc(C(F)(F)F)c1)NCCOC(=O)c1ccccc1'), ('DB00983', 'COc1ccc(CC(C)NCC(O)c2ccc(O)c(NC=O)c2)cc1'), ('DB01357', 'C#CC1(O)CCC2C3CCc4cc(OC)ccc4C3CCC21C'), ('DB07318', 'NC1=NC(CCNC(=O)c2ccoc2)Nc2c(F)ccc(F)c21'), ('DB00422', 'COC(=O)C(c1ccccc1)C1CCCCN1'), ('DB02263', 'O=CC(O)COP(=O)(O)O'), ('DB00188', 'CC(C)CC(NC(=O)C(Cc1ccccc1)NC(=O)c1cnccn1)B(O)O'), ('DB04815', 'Oc1c(I)cc(Cl)c2cccnc12'), ('DB04326', 'O=C(CO)COP(=O)(O)O'), ('DB07895', 'CC(C)CCCC(C)CCCC(C)CC(O)P(=O)(O)O'), ('DB00244', 'Nc1ccc(O)c(C(=O)O)c1'), ('DB01547', 'COc1ccc2c(c1OC)C13CCN(C)C(C2)C1(O)CCC(O)C3'), ('DB07106', 'CN(C)CCCCSC(=N)N'), ('DB03591', 'CC(=O)NC(Cc1ccc(C(F)(F)P(=O)(O)O)cc1)C(=O)NC1CCCCN(Cc2ccc(-c3ccccc3)cc2)C1=O'), ('DB08570', 'CC(=O)Nc1c(O)cc(C(=O)O)cc1[N+](=O)[O-]'), ('DB03400', 'Cc1ccc(CCC(=O)O)cc1'), ('DB03192', 'CCCCCCCC(O)CC(=O)SCCNC(=O)CCNC(=O)C(O)C(C)(C)COP(=O)(O)OP(=O)(O)OCC1OC(n2cnc3c(N)ncnc32)C(O)C1OP(=O)(O)O'), ('DB01700', 'NC(=O)c1ncn(C2OC(COP(=O)(O)O)C(O)C2O)c1N'), ('DB08589', 'COC(=O)c1cc(OC)c(O)c(OC)c1'), ('DB11126', 'O=C([O-])C(O)C(O)C(O)C(O)CO.O=C([O-])C(O)C(O)C(O)C(O)CO.[Ca+2]'), ('DB02628', 'CNC(C)C(=O)NC(C(=O)N1CCCC1C(=O)NC1CCCc2ccccc21)C(C)(C)C'), ('DB04517', 'CC1=NC(CC2=NCC(CCC(=O)O)=C2CC(=O)O)C(CCC(=O)O)=C1CC(=O)O'), ('DB02948', 'O=CN(O)CCCP(=O)(O)O'), ('DB04983', 'Nc1ccn(C2CC(O)C(COP(=O)(O)OP(=O)(O)OP(=O)(O)OP(=O)(O)OCC3OC(n4ccc(=O)[nH]c4=O)C(O)C3O)O2)c(=O)n1'), ('DB03208', 'O=C(OCC1OC(OC(=O)c2cc(O)c(O)c(O)c2)C(OC(=O)c2cc(O)c(O)c(O)c2)C(OC(=O)c2cc(O)c(O)c(O)c2)C1OC(=O)c1cc(O)c(O)c(O)c1)c1cc(O)c(O)c(O)c1'), ('DB09047', 'N#Cc1c(N2CC3NCCOC3C2)c(F)cc2c(=O)c(C(=O)O)cn(C3CC3)c12'), ('DB06410', 'C=C1C(=CC=C2CCCC3(C)C2CCC3C(C)C=CC(C)C(C)C)CC(O)CC1O'), ('DB04688', 'COC(=O)C1C(O)CC2CCC1N2C'), ('DB01903', 'O=c1[nH]c(=O)n(C2CC(O)C(COP(=O)(O)O)O2)cc1Br'), ('DB03590', 'NC(CCCC(N)C(=O)O)C(=O)O'), ('DB04471', 'Oc1ccc2c(c1)CCN(c1ccccc1)C2c1ccc(OCCN2CCCCC2)cc1'), ('DB04406', 'O=C(O)c1ncccc1CP(=O)(O)O'), ('DB02509', 'CC(C)=CCCC(C)=CCCC(C)=CCO'), ('DB08803', 'Cc1ccc(C(C)C)c(OCC2=NCCN2)c1'), ('DB03494', 'CC(C)COc1cccc(-c2nc3cc(C(N)=[NH2+])c(F)cc3[nH]2)c1[O-]'), ('DB04177', 'CC12CCC(O)CC1CCC1C2CCC2(C)C(C3=CC(=O)OC3)CCC12O'), ('DB08258', 'O=C(O)CCCCCNC(=O)NC1CCCCC1'), ('DB03479', 'CN1C(=O)NC2(OC(CO)C(O)C(O)C2O)C1=O'), ('DB03511', 'O=C(O)C1OC(O)C(O)C(O)C1O'), ('DB03401', 'O=P(O)(O)OC1C(O)C(O)C(OP(=O)(O)O)C(OP(=O)(O)O)C1O'), ('DB08018', 'Cc1cc(N)nc(CC2CNCC2NCCNCc2ccc(Cl)cc2)c1'), ('DB02508', 'CC(C)CCOP(=O)(O)OP(=O)(O)O'), ('DB08321', 'CCCCCCCCNC1C=C(CO)C(O)C(O)C1O'), ('DB03201', 'NC(CS)C(=O)O'), ('DB00160', 'CC(N)C(=O)O'), ('DB02941', 'CC(N)C(CCCCCC(=O)O)CC(=O)O'), ('DB03374', 'NC(Cc1cc(I)c(O)c(I)c1)C(=O)O'), ('DB08420', 'N#Cc1cccc(CC(NC(=O)C2CCCN2C(=O)C(N)Cc2ccccc2)B(O)O)c1'), ('DB08024', 'NCC1CCCN1C(=O)C(N)Cc1ccc(-c2ccccc2)cc1'), ('DB01409', 'C[N+]1(C)C2CC(OC(=O)C(O)(c3cccs3)c3cccs3)CC1C1OC12'), ('DB01951', 'CCC(C)(C)C(=O)C(=O)N1CCCC1C(=O)OCCCc1cccnc1'), ('DB00301', 'Cc1onc(-c2c(F)cccc2Cl)c1C(=O)NC1C(=O)N2C1SC(C)(C)C2C(=O)O'), ('DB07583', 'O=S(=O)(NCC1CC(OCc2ccc(Cl)cc2)CN1)c1cccc2cnccc12'), ('DB01555', 'CCC(OC(C)=O)C(CC(C)N(C)C)(c1ccccc1)c1ccccc1'), ('DB07901', 'Cc1nc(-c2ccccn2)nc(NCCc2ccccc2)c1Cl'), ('DB07509', 'CCCCCCCCc1ccc2n1[B-](F)(F)[N+]1=C(CCCCC(=O)O)C=CC1=C2'), ('DB08207', 'Cc1cc(C)cc(-c2nc3ccccc3o2)c1'), ('DB00618', 'CN(C)C1C(O)=C(C(N)=O)C(=O)C2(O)C(O)=C3C(=O)c4c(O)ccc(Cl)c4C(O)C3CC12'), ('DB04479', 'O=C1C=Cc2c1cccc2[N+](=O)[O-]'), ('DB00181', 'NCC(CC(=O)O)c1ccc(Cl)cc1'), ('DB08622', 'OC1(c2ccc(Cl)cc2)CCN(CCCC2(c3ccc(F)cc3)SCCS2)CC1'), ('DB07000', 'CCS(=O)(=O)Nc1ccc(F)c(C(=O)c2c[nH]c3ncc(-c4cccnc4)cc23)c1F'), ('DB01444', 'CC(C=C(c1cccs1)c1cccs1)N(C)C'), ('DB03275', 'NC(=O)C(N)CS'), ('DB06176', 'CC=C1N=C(O)C2CSSCCC=CC(CC(O)=NC(C(C)C)C(O)=N2)OC(=O)C(C(C)C)N=C1O'), ('DB03403', 'Nc1ccn(C2OC(COP(=O)(O)O)C(O)C2O)c(=O)n1'), ('DB09201', 'CC1(COc2ccc(CC3SC(=O)NC3=O)cc2)CCCCC1'), ('DB08780', 'c1nc(N2CCOCC2)c2nc[nH]c2n1'), ('DB04938', 'OCCOc1ccc(C(=C(CCCl)c2ccccc2)c2ccccc2)cc1'), ('DB02182', 'C=Cc1c(C)c2n3c1C=C1C(C)=C(CCC(=O)O)C4=[N+]1[Fe]31n3c(c(C)c(CCC(=O)O)c3=C4)=CC3=[N+]1C(=C2)C(CC)=C3C'), ('DB01613', 'O=[N+]([O-])OCC(O[N+](=O)[O-])C(CO[N+](=O)[O-])O[N+](=O)[O-]'), ('DB03399', 'C#[N+]CC'), ('DB08091', 'O=C(Nc1ccc2[nH]cc(CCc3ccncc3)c2c1)c1cc(F)cc(N2CCOCC2)c1'), ('DB06885', 'O=C(O)CCON=Cc1ccccc1C(F)(F)F'), ('DB01830', 'CC(=O)NC(Cc1ccc(P(=O)(O)O)c(P(=O)(O)O)c1)C(=O)NC1CCCCc2cc(OCC3CCCCC3)c(C(N)=O)cc21'), ('DB03932', 'CCC(C)C(=O)OC1CC(C)C=C2C=CC(C)C(CCC3CC(O)CC(=O)N3Cc3ccc4c(CO)c(OC)ccc4c3)C21'), ('DB08918', 'CCN(CC)C(=O)C1(c2ccccc2)CC1CN'), ('DB07639', 'CCOC(=O)C(Cc1ccc2ccc(C(N)N)cc2c1)c1ccc(OC2CCNC2)cc1'), ('DB08357', 'CCOCCOCCOCC'), ('DB04136', 'CCCCCCCCCCCCCCC(O)OCC(O)COP(=O)(O)OCC(N)C(=O)O'), ('DB00877', 'COC1CC2CCC(C)C(O)(O2)C(=O)C(=O)N2CCCCC2C(=O)OC(C(C)CC2CCC(O)C(OC)C2)CC(=O)C(C)C=C(C)C(O)C(OC)C(=O)C(C)CC(C)C=CC=CC=C1C'), ('DB01050', 'CC(C)Cc1ccc(C(C)C(=O)O)cc1'), ('DB06732', 'O=c1cc(-c2ccccc2)oc2ccc3ccccc3c12'), ('DB09534', 'CC1(C)C2CCC1(CS(=O)(=O)O)C(=O)C2=Cc1ccc(C=C2C(=O)C3(CS(=O)(=O)O)CCC2C3(C)C)cc1'), ('DB05265', 'CC(C)c1cc2c(cc1S(=O)(=O)O)C1(C)CCCC(C)(C(=O)O)C1CC2'), ('DB04885', 'Cc1nccn1CC1CCc2c(c3cccc4c3n2CCC4)C1=O'), ('DB09182', 'CCC(=O)N(c1ccccc1)C1CCN(Cc2ccccc2)CC1'), ('DB09207', 'CCN1CCN(C)CC(NC(=O)c2cc(Br)c(NC)cc2OC)C1'), ('DB03534', 'CC(=O)N(C)Cc1cc(C(=O)N(C)Cc2cc3ccccc3n2C)ccc1N'), ('DB03646', 'CC(C)CCCC(C)CCCC(C)CCCC(C)CCOCC(CO)OCCC(C)CCCC(C)CCCC(C)CCCC(C)C'), ('DB08316', 'CC1(C)CC(=O)c2c(N)ncnc2C1'), ('DB01090', 'C[N+]1(CCCCC[N+]2(C)CCCC2)CCCC1'), ('DB08182', 'CCCOc1ccnc2[nH]cc(-c3ccnc(N)n3)c12'), ('DB04786', 'Cc1ccc(C(=O)Nc2ccc(S(=O)(=O)O)c3cc(S(=O)(=O)O)cc(S(=O)(=O)O)c23)cc1NC(=O)c1cccc(NC(=O)Nc2cccc(C(=O)Nc3cc(C(=O)Nc4ccc(S(=O)(=O)O)c5cc(S(=O)(=O)O)cc(S(=O)(=O)O)c45)ccc3C)c2)c1'), ('DB08869', 'CCC=CCC(=O)NC(Cc1ccc(O)cc1)C(=O)NC(C)C(=O)NC(CC(=O)O)C(=O)NC(C)C(=O)NC(C(=O)NC(Cc1ccccc1)C(=O)NC(C(=O)NC(CC(N)=O)C(=O)NC(CO)C(=O)NC(Cc1ccc(O)cc1)C(=O)NC(CCCNC(=N)N)C(=O)NC(CCCCN)C(=O)NC(C(=O)NC(CC(C)C)C(=O)NCC(=O)NC(CCC(N)=O)C(=O)NC(CC(C)C)C(=O)NC(CO)C(=O)NC(C)C(=O)NC(CCCNC(=N)N)C(=O)NC(CCCCN)C(=O)NC(CC(C)C)C(=O)NC(CC(C)C)C(=O)NC(CCC(N)=O)C(=O)NC(CC(=O)O)C(=O)NC(C(=O)NC(CCSC)C(=O)NC(CO)C(=O)NC(CCCNC(=N)N)C(=O)NC(CCC(N)=O)C(=O)NC(CCC(N)=O)C(=O)NCC(=O)NC(CCC(N)=O)C(=O)NC(CO)C(=O)NC(CC(N)=O)C(=O)NC(CCC(N)=O)C(=O)NC(CCCNC(=N)N)C(=O)NCC(=O)NC(C)C(=O)NC(CCCNC(=N)N)C(=O)NC(C)C(=O)NC(CCCNC(=N)N)C(=O)NC(CC(C)C)C(N)=O)C(C)CC)C(C)C)C(C)O)C(C)CC'), ('DB08186', 'CC(=O)C=Cc1cn(C)c2ccccc12'), ('DB02033', 'O=c1oc2c(c(O)c1C(c1cccc(NS(=O)(=O)c3ccccc3)c1)C1CC1)CCCCCC2'), ('DB00348', 'O=C1CCCC(=O)C1C(=O)c1ccc(C(F)(F)F)cc1[N+](=O)[O-]'), ('DB03641', 'O=c1ccn(C2CC(O)C(COP(=O)(O)NP(=O)(O)O)O2)c(=O)[nH]1'), ('DB04225', 'CC=C(NC)C(=O)O'), ('DB04735', 'CCCCCCCCCCCCCCCC(=O)OC(COC(=O)CCCCCCCCCCCC)COC1OC(CO)C(O)C(O)C1O'), ('DB02488', 'CC(C)CC1=NC(O)(C(N)C(C)O)N(CC=O)C1=O'), ('DB08142', 'O=C(NC1CCNCC1)c1n[nH]cc1NC(=O)c1c(Cl)cccc1Cl'), ('DB07259', 'NCc1ccc(-c2cccs2)cc1'), ('DB03489', 'O=C(O)C(=O)CC(O)C(O)CO'), ('DB09194', 'CCc1nn(CCCN2CCN(c3cccc(Cl)c3)CC2)c(=O)n1CC'), ('DB04917', 'COc1c(C(=O)NC2CCN3CCCC2C3)ccc(N)c1Cl'), ('DB08386', 'c1ccc2nc(COc3ccc(-c4n[nH]cc4-c4ccncc4)cc3)ccc2c1'), ('DB00211', 'COc1ccc(OC)c(C(O)CNC(=O)CN)c1'), ('DB00385', 'CCCCC(=O)OCC(=O)C1(O)Cc2c(O)c3c(c(O)c2C(OC2CC(NC(=O)C(F)(F)F)C(O)C(C)O2)C1)C(=O)c1c(OC)cccc1C3=O'), ('DB00545', 'CN(C)C(=O)Oc1ccc[n+](C)c1'), ('DB00959', 'CC1CC2C(C(O)CC3(C)C2CCC3(O)C(=O)CO)C2(C)C=CC(=O)C=C12'), ('DB00331', 'CN(C)C(=N)NC(=N)N'), ('DB08680', 'Cc1occc1C(=S)Nc1ccc(Cl)c(C=NOC(C)(C)C)c1'), ('DB11562', 'CN1CCc2cc3c(cc2C1C1OC(=O)c2c1ccc1c2OCO1)OCO3'), ('DB07052', 'CCSCC1OC(n2cnc3c(N)ncnc32)C(O)C1O'), ('DB02393', 'O=P(O)(O)CC1OC(COP(=O)(O)O)C(O)C1O'), ('DB00620', 'CC12C=CC(=O)C=C1CCC1C3CC(O)C(O)(C(=O)CO)C3(C)CC(O)C12F'), ('DB08244', 'NC(C(=O)N1CC(c2cc(F)ccc2F)=CC1c1ccccc1)C1CC1'), ('DB03915', 'CC(=O)C(N)C(=O)O'), ('DB08912', 'CC(C)(C)c1nc(-c2cccc(NS(=O)(=O)c3c(F)cccc3F)c2F)c(-c2ccnc(N)n2)s1'), ('DB03499', 'O=C(O)CC(O)C(=O)[O-]'), ('DB06412', 'CC12CC(=CO)C(=O)CC1CCC1C2CCC2(C)C1CCC2(C)O'), ('DB03779', 'NC1C(OC2C(O)C(O)C(O)C(O)C2O)OC(CO)C(O)C1O'), ('DB08548', 'C=CCCCCP(=O)(O)OCC1COC(C)(C)O1'), ('DB01790', 'Nc1ncnc2c1ncn2C1OC2COP(O)(=S)OC2C1O'), ('DB06917', 'O=C(c1ccncc1)c1ccc(F)cc1'), ('DB00753', 'FC(F)OC(Cl)C(F)(F)F'), ('DB02336', 'CC(=O)NC(Cc1ccc(P(=O)(O)O)c(P(=O)(O)O)c1)C(=O)NC1CCCCN(Cc2ccc(-c3ccccc3)cc2)C1=O'), ('DB07260', 'c1ccc(CNc2ccc(OCC3CCCN3)cc2)cc1'), ('DB00726', 'CC(CN(C)C)CN1c2ccccc2CCc2ccccc21'), ('DB03610', 'Oc1ccc(C(F)(F)F)cc1'), ('DB01534', 'CC(CC(C)(C)O)OC(O)C(Cl)(Cl)Cl'), ('DB08097', 'CC(C)n1c(Nc2ccccc2F)nc2cnc(Oc3c(F)cccc3F)nc21'), ('DB11596', 'Nc1nc(=O)c2c([nH]1)NCC(CNc1ccc(C(=O)NC(CCC(=O)O)C(=O)O)cc1)N2C=O'), ('DB07665', 'N#Cc1ccc(NCC(F)(F)c2ccccn2)c(F)c1CC(=O)NCCONC(=N)N'), ('DB07983', 'COc1ccc2c(c1)c(CC(=O)O)c(C)n2C(=O)c1ccc(I)cc1'), ('DB13139', 'CC(C)(C)NCC(O)c1ccc(O)c(CO)c1'), ('DB01426', 'CCC1C2CC3C4N(C)c5ccccc5C45CC(C2C5O)N3C1O'), ('DB04665', 'O=c1ccc2ccccc2o1'), ('DB04794', 'c1ccc(-c2ccc(C(c3ccccc3)n3ccnc3)cc2)cc1'), ('DB04609', 'O=C(Nc1nccs1)c1cccc(CN2C(=O)N(CC3CC3)C(Cc3ccccc3)C(O)C(O)C2Cc2ccccc2)c1'), ('DB00340', 'CN1CCCC(CC2c3ccccc3Sc3ccccc32)C1'), ('DB08924', 'CC(Cc1ccccc1)N=CC(Cl)(Cl)Cl'), ('DB02841', 'CCOc1ccc2ccccc2c1C(=O)NCB(O)O'), ('DB01212', 'CON=C(C(=O)NC1C(=O)N2C(C(=O)O)=C(CSc3nc(=O)c(=O)[nH]n3C)CSC12)c1csc(N)n1'), ('DB06937', 'Oc1ccc(-c2noc3cc(O)ccc23)c(O)c1'), ('DB02396', 'CCNC'), ('DB07915', 'O=C(O)C(O)=CC=CC(=O)c1ccccc1'), ('DB01783', 'CC(C)(CO)C(O)C(=O)NCCC(=O)O'), ('DB09202', 'c1ccc(C2CC2)c(OCC2=NCCN2)c1'), ('DB02987', 'NC(=O)CSCC(N)C(=O)O'), ('DB07850', 'O=C(O)C1CCCCC1c1n[nH]c(=S)[nH]1'), ('DB07339', 'CN1CC(O)C2=CC(=O)C(=O)C=C21'), ('DB00865', 'CC(Cc1ccccc1)N(C)Cc1ccccc1'), ('DB09219', 'O=C1Nc2ccccc2OC1(c1ccc(O)cc1)c1ccc(O)cc1'), ('DB03390', 'CCCNC(=O)C(O)C(O)C(=O)O'), ('DB07087', 'CC1CCC2(CO)COC(c3ccc(O)cc3)C1C2C'), ('DB02187', 'CC12CCC3C(=CCc4cc(O)ccc43)C1CCC2=O'), ('DB03951', 'CC(=O)NC1C(O)OC(COP(=O)(O)O)C(O)C1O'), ('DB02312', 'O=P(O)(O)OCC1OC(O)C(O)C(O)C1O'), ('DB05129', 'COC1C(N)C(OC2C(Oc3cccc4c(O)c5c(=O)oc6ccc(C)c7c(=O)oc(c34)c5c67)OC(C)C(O)C2(C)O)OC(C)C1O'), ('DB08490', 'O=C(NO)C1(CS(=O)(=O)c2ccc(Oc3ccc(Cl)cc3)cc2)CCOCC1'), ('DB03478', 'CC(=O)OC1C(O)OC(COP(=O)(O)OP(=O)(O)OCC2OC(n3cnc4c(N)ncnc43)C(O)C2O)C1O'), ('DB00667', 'NCCc1cnc[nH]1.O=P(O)(O)O.O=P(O)(O)O'), ('DB02690', 'Cc1nc2c(O)cccc2c(=O)[nH]1'), ('DB04728', 'NCC1OC(OC2C(CO)OC(OC3C(O)C(N)CC(N)C3OC3OC(CO)C(O)CC3N)C2O)C(N)C(O)C1OC1OC(CO)C(O)C(O)C1O'), ('DB04154', 'CC(=O)N(C)c1cccc(-c2nnc3ccc(-c4ccccc4)nn23)c1'), ('DB02800', 'Nc1nc(=O)c2c([nH]1)N=CC(CNc1ccc(C(=O)NC(CCC(=O)O)C(=O)O)cc1)N2CO'), ('DB04908', 'O=c1[nH]c2ccccc2n1CCN1CCN(c2cccc(C(F)(F)F)c2)CC1'), ('DB07707', 'COCC1CC2(C)C(O)CCC2C2CCc3cc(O)ccc3C12'), ('DB07733', 'Cn1nc(C(F)(F)F)c2cc(C(=O)NCCS)sc21'), ('DB07670', 'Cc1ccc(S(=O)(=O)N(C)c2ccnn2-c2ccccc2)cc1'), ('DB07155', 'O=C(Nc1ccccc1)C1CC(=O)N(C2CCCCC2)C1'), ('DB03295', 'NCCCCNCCCNC(=O)CNC(=O)C(CS)NC(=O)CCC(N)C(=O)O'), ('DB07930', 'CCCCCCCCCC(O)CC(=O)O'), ('DB00538', 'COCCNC(=O)CN(CCN(CCN(CC(=O)[O-])CC(=O)NCCOC)CC(=O)[O-])CC(=O)[O-].[Gd+3]'), ('DB09080', 'COc1ccc(CC(C)(C)NCC(O)c2cc(O)cc3c2OCC(=O)N3)cc1'), ('DB07274', 'COc1cc2nccc(Oc3ccc4c(C(=O)NC5CC5)cccc4c3)c2cc1OC'), ('DB02994', 'C[As](C)(=O)O'), ('DB08559', 'CC1(C)C(C(=O)O)N2C(=O)C(NC(=O)Cc3ccccc3)C2[SH]1O'), ('DB00846', 'CC1(C)OC2CC3C4CC(F)C5=CC(=O)CCC5(C)C4C(O)CC3(C)C2(C(=O)CO)O1'), ('DB09054', 'CCC(Nc1ncnc2[nH]cnc12)c1nc2cccc(F)c2c(=O)n1-c1ccccc1'), ('DB03051', 'O=C(O)C1CCCO1'), ('DB06684', 'N#Cc1ccc2[nH]cc(CCCCN3CCN(c4ccc5oc(C(N)=O)cc5c4)CC3)c2c1'), ('DB04273', 'Clc1ccc2c(c1Cl)CNCCC2'), ('DB03462', 'Cc1c[nH]c(=O)[nH]c1=O'), ('DB03704', 'O=C(O)CCCCCCCCCCCO'), ('DB08444', 'Cc1cc(C#N)cc(Oc2ccc(Cc3n[nH]c4nnccc34)cc2Br)c1'), ('DB01703', 'O=C1CCC(=O)N1CCC12C3=C4C5=C1[Fe]45321678C2=C1C6C7=C28'), ('DB02164', 'Cc1cc2c(cc1C)[n+](S(=O)(=O)[O-])c1c(=O)[nH]c(=O)nc-1n2CC(O)C(O)C(O)COP(=O)(O)O'), ('DB07446', 'CC(C)CC(NS(=O)(=O)c1ccc(-c2ccccc2)cc1)C(=O)O'), ('DB07514', 'Cc1ccn(-c2ccc3c(c2)NCC3(C)C)c(=O)c1-c1ccc2nc(N)ncc2c1'), ('DB04267', 'O=C(O)c1cccc(C(=O)O)n1'), ('DB00266', 'O=c1oc2ccccc2c(O)c1Cc1c(O)c2ccccc2oc1=O'), ('DB02341', 'CC(C)C(NC(=O)c1ccc(C(=O)N2CCOCC2)cc1)C(=O)N1CCCC1C(=O)NC(C(=O)C(F)(F)C(F)(F)F)C(C)C'), ('DB08612', 'CCCCCCCCSCC(=O)C(F)(F)F'), ('DB01084', 'CCOCCn1c(N2CCCN(C)CC2)nc2ccccc21'), ('DB03900', 'CC(C)(C)O'), ('DB03860', 'CCCCN(C)C(=O)CCCCCCCCCCC1Cc2cc(O)ccc2C2CCC3(C)C(O)CCC3C12'), ('DB03867', 'NC(Cc1ccc(O)c([N+](=O)[O-])c1)C(=O)O'), ('DB04070', 'CCC1OC(=O)C(C)C(O)C(C)C(O)C(C)CC(C)C(=O)C(C)C(O)C1C'), ('DB04864', 'CC=C1C2C=C(C)CC1(N)c1ccc(=O)[nH]c1C2'), ('DB04871', 'CC1CNCCc2ccc(Cl)cc21'), ('DB01540', 'CC1(O)CCC2C3CCC4=C(O)C(=O)CCC4C3CCC21C'), ('DB01921', 'ON=C1NCC(O)C(O)C1O'), ('DB07746', 'CCc1ccc(NS(=O)(=O)c2ccc(F)cc2)c(C(=O)O)c1C'), ('DB03174', 'O=CCP(=O)(O)O'), ('DB06954', 'NS(=O)(=O)Oc1ccc2c(c1)S(=O)(=O)C(CC1CCCCCC1)=C2'), ('DB04862', 'COc1cc(NC(=O)Nc2cccc(CNC(=O)OC3CCOC3)c2)ccc1-c1cnco1'), ('DB08306', 'O=C(O)c1sccc1S(=O)(=O)Nc1cccc([N+](=O)[O-])c1'), ('DB07441', 'CN1c2ccccc2C(C#N)(C(=O)NCCC(=O)O)c2ccccc21'), ('DB07615', 'COc1ccc(C=CC(=O)Nc2ccccc2C(=O)O)cc1OC'), ('DB07887', 'N=C(N)NCc1ccc(B2OCC(CO)O2)cc1'), ('DB01206', 'O=NN(CCCl)C(=O)NC1CCCCC1'), ('DB07780', 'CC(C)=CCCC(C)=CCCC(C)=CCOP(=O)(O)OP(=O)(O)O'), ('DB02578', 'CC(NC(=O)C(C)NC(=O)CCCCC(NC(=O)C[NH3+])C(=O)[O-])C(=O)O'), ('DB00621', 'CC12COC(=O)CC1CCC1C2CCC2(C)C1CCC2(C)O'), ('DB07822', 'CC(O[PH](C)=O)C(C)(C)C'), ('DB06767', '[Cl-].[NH4+]'), ('DB07143', 'NC(Cc1ccccc1)C(=O)N1CCCC1C(=O)NCc1ccccc1'), ('DB02817', 'CC12CC(O)C(CC1=O)C2(C)C'), ('DB03491', 'Nc1nc2c(ncn2C2CC(O)C(COP(=O)(O)OP(=O)(O)O)O2)c(=O)[nH]1'), ('DB01609', 'O=C(O)c1ccc(-n2nc(-c3ccccc3O)nc2-c2ccccc2O)cc1'), ('DB08884', 'CCOc1ccc(CC(CN(CCN(CC(=O)[O-])CC(=O)[O-])CC(=O)[O-])N(CC(=O)O)CC(=O)O)cc1.[Gd+3]'), ('DB00249', 'O=c1[nH]c(=O)n(C2CC(O)C(CO)O2)cc1I'), ('DB08938', 'O=S(=O)([O-])[O-].[AlH3+3].[Mg+2].[OH-]'), ('DB07528', 'Cc1ccn(-c2cccc(C(F)(F)F)c2)c(=O)c1-c1ccc2nc(N)ncc2c1'), ('DB07574', 'COc1cc2c(c(OC)c1OC)-c1ccc(OC)c(=O)cc1C(NC(=O)CS)CC2'), ('DB03183', 'CCOC(=O)c1c(C)nn(-c2ccc(N)cc2)c1C'), ('DB03569', 'O=C(O)C1=CC(O)C(O)C(O)O1'), ('DB03736', 'CC(C=O)CC1CC1'), ('DB02314', 'CC(=O)NC1C(OP(=O)(O)OP(=O)(O)OCC2OC(n3ccc(=O)[nH]c3=O)C(O)C2O)OC(CO)C(O)C1OC(C)C(=O)NC(C)C(=O)NC(CCC(=O)O)C(=O)O'), ('DB03383', 'O=C(NC(Cc1ccc(F)cc1)C(=O)N1CCC(O)CC1)c1cc2cc(Cl)ccc2[nH]1'), ('DB01815', 'NC(CCCCNC(C(=O)O)C(=O)O)C(=O)O'), ('DB02287', 'NC(=[NH2+])c1ccc2nc(-c3ccccc3O)[nH]c2c1'), ('DB04005', 'O=c1ccn(C2OC(COP(=O)(O)OP(=O)(O)OP(=O)(O)O)C(O)C2O)c(=O)[nH]1'), ('DB07023', 'N=C(N)NCC(OC(=O)c1cccnc1)c1ccc(B2OCC(CO)O2)cc1'), ('DB08722', 'Cc1cc(CCCCCCCOc2ccc(C3=NC(C)CO3)cc2Cl)on1'), ('DB00894', 'CC12CCC3C(CCC4=CC(=O)C=CC43C)C1CCC(=O)O2'), ('DB07931', 'CCC(c1ccc(O)cc1)C(CC)c1ccc(O)cc1'), ('DB00136', 'C=C1C(=CC=C2CCCC3(C)C2CCC3C(C)CCCC(C)(C)O)CC(O)CC1O'), ('DB08835', 'CC(=O)NC(CC(=O)NC(CCC(=O)O)C(=O)O)C(=O)O'), ('DB02875', 'NC(=[NH2+])c1ccc2[nH]c(-c3cc(F)ccc3[O-])nc2c1'), ('DB07927', 'O=C(O)c1ccc(NS(=O)(=O)c2ccsc2C(=O)O)c(O)c1'), ('DB04869', 'NCCCCC(N=C(O)C(Cc1cc(Br)c(O)c(Br)c1)N=C(O)N1CCC(N2Cc3ccccc3N=C2O)CC1)C(=O)N1CCN(c2ccncc2)CC1'), ('DB08431', 'CCC(O)C(C)C(=O)C[PH](=O)O'), ('DB11610', 'CNC(C)C(O)c1ccc(O)cc1'), ('DB04567', 'CC(O)C(N)C1=NC(=Cc2ccc(O)cc2)C(=O)N1CC=O'), ('DB08685', 'CN1CCN(C)c2cc(CN)ccc21'), ('DB03092', 'OCC1=CC(O)C(O)C(O)C1O'), ('DB01538', 'COc1ccc2c3c1OC1C(OC(C)=O)CCC4C(C2)N(C)CCC341'), ('DB02102', 'Nc1cccc(CN2C(Cc3ccccc3)C(O)C(O)C(Cc3ccccc3)N(Cc3cccc(N)c3)C2O)c1'), ('DB07173', 'CC1OC(n2cc(I)c3c(N)ncnc32)C(O)C1O'), ('DB08218', 'O=[N+]([O-])c1cccc(N=C2N=CCC(c3cccc(Cn4cncn4)c3)=N2)c1'), ('DB01348', 'CCOC(=O)C(CCc1ccccc1)NC(C)C(=O)N1CC2(CC1C(=O)O)SCCS2'), ('DB04090', 'CC1=C(N2CC2)C(=O)C(CO)=C(N2CC2)C1=O'), ('DB03714', 'NC(=O)C(CCC(=O)O)NC(=O)c1ccc2cc(C(F)(F)P(=O)(O)O)ccc2c1'), ('DB02400', 'COC1=CC(=O)c2c(c(COc3ccc([N+](=O)[O-])cc3)c(C)n2C)C1=O'), ('DB01181', 'O=P1(NCCCl)OCCCN1CCCl'), ('DB02779', 'CCCCCCCCCCCC[N+](C)(C)C'), ('DB00854', 'CN1CCC23CCCCC2C1Cc1ccc(O)cc13'), ('DB00946', 'CCC(c1ccccc1)c1c(O)c2ccccc2oc1=O'), ('DB01373', '[CaH2]'), ('DB08756', 'CC(N)C1CCC(C(=O)Nc2ccncc2)CC1'), ('DB03753', 'COC(=O)C(C)c1ccc(-c2ccccc2)c(F)c1'), ('DB07677', 'Cc1nc2c(c(=O)[nH]1)CSCC2'), ('DB08694', 'Nc1nccc(-c2c3c(O)ccnc3n3c(N)nccc23)n1'), ('DB02447', 'O=C1NC2(OC(CO)C(O)C(O)C2O)C(=O)N1O'), ('DB03370', 'CC(O)C(CCc1cccc(Cl)c1Cl)n1cnc(C(N)=O)c1'), ('DB03195', 'Cc1cn(C2CC(F)C(COP(=O)(O)O)O2)c(=O)[nH]c1=O'), ('DB02407', 'Nc1nc(OCC2CCCCC2)c2nc[nH]c2n1'), ('DB03930', 'CC1C=CNC1C(=O)O'), ('DB04798', 'CC(C)(C)c1snc([O-])c1CC([NH3+])C(=O)O'), ('DB06700', 'CN(C)CC(c1ccc(O)cc1)C1(O)CCCCC1'), ('DB00281', 'CCN(CC)CC(=O)Nc1c(C)cccc1C'), ('DB08655', 'CC(=O)n1c2c(c3ccccc31)CCCC2=O'), ('DB04493', 'O=P(O)(O)OCC1OC(O)(CO)C(O)C1O'), ('DB02099', 'CC(C)=CCC[NH+](C)C1CC=C(C)CC1'), ('DB04715', 'CC(=O)c1cccc(-c2cnc3ccc(NCC4CC4)nn23)c1'), ('DB04331', 'CCOC(=O)C1=C(C)NC(=S)NC1c1cccc(O)c1'), ('DB04523', 'CC(C)(C)OC(=O)NC(C=O)C1CCCCC1'), ('DB02639', 'Cc1cc(=O)oc2cc(OC3OC(CO)C(O)C(O)C3O)ccc12'), ('DB01122', 'CC[N+](CC)(CCNC(=O)C(=O)NCC[N+](CC)(CC)Cc1ccccc1Cl)Cc1ccccc1Cl'), ('DB07694', 'O=C(Nc1cc(Br)c(O)c(Br)c1)c1cc(Cl)ccc1Cl'), ('DB06961', 'CCNC(=O)c1noc(-c2cc(Cl)c(O)cc2O)c1-c1ccc(CN2CCOCC2)cc1'), ('DB03024', 'CC(C=O)Cc1csc(N)n1'), ('DB08351', 'Cc1ccc(C(=O)NC2CC2)cc1-c1ccc2nc(NCCN3CCOCC3)ncc2c1'), ('DB06802', 'NC(=O)Cc1cccc(C(=O)c2ccccc2)c1N'), ('DB06201', 'NC(=O)c1cn(Cc2c(F)cccc2F)nn1'), ('DB00582', 'CC(c1ncncc1F)C(O)(Cn1cncn1)c1ccc(F)cc1F'), ('DB00489', 'CC(C)NCC(O)c1ccc(NS(C)(=O)=O)cc1'), ('DB00539', 'CN(C)CCOc1ccc(C(=C(CCCl)c2ccccc2)c2ccccc2)cc1'), ('DB07834', 'Cc1nnc(-c2ccc(C)c(-c3ccc(C(=O)NCC4CC4)cc3)c2)o1'), ('DB04040', 'O=C(NC(CN1CCOCC1)CN1CCOCC1)c1cc(OC2OC(CO)C(O)C(O)C2O)cc([N+](=O)[O-])c1'), ('DB08561', 'O=C(OCc1ccccc1)c1cn2c(=O)n(Cc3ccccc3)c(=O)cc2s1'), ('DB00354', 'CC(C)(C)c1ccc(CN2CCN(C(c3ccccc3)c3ccc(Cl)cc3)CC2)cc1'), ('DB03303', 'O=C(O)C(O)CC(O)C(O)CO'), ('DB09268', 'O=S(=O)(O)Oc1ccc(C(c2ccc(OS(=O)(=O)O)cc2)c2ccccn2)cc1'), ('DB06835', 'CC(C)C(NS(=O)(=O)CCc1ccccc1)P(=O)(O)CC(C(=O)O)c1cccc(CN)c1'), ('DB07575', 'NC(Cc1ccccc1)C(O)C(N)Cc1ccccc1'), ('DB01182', 'CCCNCC(O)COc1ccccc1C(=O)CCc1ccccc1'), ('DB08978', 'C[N+]1(CC(=O)c2ccc(-c3ccccc3)cc2)C2CCC1CC(OC(=O)C(CO)c1ccccc1)C2'), ('DB08282', 'O=C1c2ccccc2C(=O)N1CCOC(=S)Nc1ccc(Cl)cc1'), ('DB04866', 'O=C(CC1NCCCC1O)Cn1cnc2cc(Br)c(Cl)cc2c1=O'), ('DB08139', 'CC(C)Nc1cc(Cl)nc2c(C#N)cnn12'), ('DB00661', 'COc1ccc(CCN(C)CCCC(C#N)(c2ccc(OC)c(OC)c2)C(C)C)cc1OC'), ('DB02222', 'CC(Cn1cnc2c(N)nc(N)nc21)OCP(=O)([O-])[O-]'), ('DB07179', 'Cc1ccccc1-c1cc(NCc2ccc[n+]([O-])c2)n2ncc(Br)c2n1'), ('DB07228', 'COc1ccc(Cl)cc1NC(=O)Nc1cncc(OC(C)CN(C)C)n1'), ('DB07855', 'NC(c1ccccc1)c1ccc(-c2ncnc3[nH]cnc23)cc1'), ('DB04241', 'Cc1ncc(COP(=O)(O)O)c(CNC(C)(C)C(=O)O)c1O'), ('DB04393', 'Oc1cc(Cl)ccc1Oc1ccc(Cl)cc1'), ('DB09116', '[Ca+2].[N-]=C=[N-]'), ('DB01765', 'O=C(O)Cc1c2ccccc2n2c1[nH]c(=O)c1ccccc12'), ('DB03628', 'CCc1ccc(NC(=O)P(=O)(O)O)cc1'), ('DB02047', 'CC(C(=O)O)c1ccc(-c2ccccc2)cc1'), ('DB08255', 'CCCC1=NC2C(OC(CO)C(O)C2O)S1'), ('DB01143', 'NCCCNCCSP(=O)(O)O'), ('DB04271', 'CCOC(=O)c1c(C)n[nH]c1C'), ('DB01947', 'O=Cc1ccccc1OP(=O)(O)O'), ('DB08201', 'CCCCCCP(=O)(O)OC1CC(C)CCC1C(C)C'), ('DB00119', 'CC(=O)C(=O)O'), ('DB02924', 'C=C(C)C1CCC2(C)OC2C1'), ('DB08238', 'Nc1cccc2cc(S(=O)(=O)O)ccc12'), ('DB01224', 'OCCOCCN1CCN(C2=Nc3ccccc3Sc3ccccc32)CC1'), ('DB07899', 'CC(=O)NC(C)C(=O)NC(Cc1ccccc1)C(=O)CCCl'), ('DB07826', 'O=C(COc1ccc(Cl)cc1C(=O)c1ccccc1)Nc1ccccc1'), ('DB07835', 'Cc1ccc(C(=O)NC2CC2)cc1-c1ccc(C(=O)NCC2CC2)cc1'), ('DB08113', 'c1ccc2c(-c3ccncc3)n[nH]c2c1'), ('DB09138', 'O.O.O=P([O-])([O-])CP(=O)([O-])[O-].[Tc+4]'), ('DB02072', 'O=C(O)C(=O)Nc1sc2c(c1C(=O)O)CCSC2'), ('DB03423', 'Nc1ncnc2c1ncn2C1OC(C[Se]CCC(N)C(=O)O)C(O)C1O'), ('DB08973', 'CC1(C)OC2CC3C4CC(F)C5=CC(=O)C=CC5(C)C4(Cl)C(Cl)CC3(C)C2(C(=O)CO)O1'), ('DB01823', 'O=C1NC(=O)C2(N1)OC(CO)C(O)C(O)C2O'), ('DB08508', 'CC(NC(=O)c1ccccc1)C(=O)O'), ('DB00605', 'CC1=C(CC(=O)O)c2cc(F)ccc2C1=Cc1ccc(S(C)=O)cc1'), ('DB06870', 'CCC1(O)CCC2C3CCC4=CC(=O)CCC4=C3C=CC21CC'), ('DB00253', 'CC(=O)C1CCC2C3CC(C)C4=CC(=O)CCC4(C)C3C(O)CC12C'), ('DB08153', 'O=C1CCCCCC=CCCOC(=O)c2c(O)cc(O)c(Cl)c2C1'), ('DB00300', 'CC(Cn1cnc2c(N)ncnc21)OCP(=O)(O)O'), ('DB02248', 'CC1CC(S(=O)(=O)O)NC1C(=O)O'), ('DB04304', 'O=C(O)C(O)C(O)C(O)C(O)CO'), ('DB03197', 'Nc1nc2ncc(CO)nc2c(=O)[nH]1'), ('DB01763', 'N=C([S-])c1ccc[n+](C2OC(COP(=O)(O)OP(=O)(O)OCC3OC(n4cnc5c(N)ncnc54)C(OP(=O)(O)O)C3O)C(O)C2O)c1'), ('DB09050', 'Cn1c(N)c(NC(=O)NCCN)c[n+]1CC1=C(C(=O)[O-])N2C(=O)C(NC(=O)C(=NOC(C)(C)C(=O)O)c3nsc(N)n3)C2SC1'), ('DB07288', 'O=C(Nc1ccc(Cl)cc1)c1ccccc1NCc1ccncc1'), ('DB07726', 'CC(C)(C)c1cc(O)ccc1O'), ('DB03084', 'CCCn1c(C2CCN(C)CC2)nc(-c2ccc(Cl)c(Cl)c2)c1-c1ccnc(NC2CC2)n1'), ('DB04573', 'CC12CCC3c4ccc(O)cc4CCC3C1CC(O)C2O'), ('DB01990', 'CC(C)CCCC(C)C1CCC2C3CC=C4CC(OS(=O)(=O)O)CCC4(C)C3CCC12C'), ('DB03878', 'Cc1ccc(NC(=O)c2cccnc2)cc1Nc1nccc(-c2cccnc2)n1'), ('DB07381', 'CC(O)(C(=O)O)c1ccccc1'), ('DB02985', 'N=c1nc(O)c2nc(I)[nH]c2[nH]1'), ('DB03883', 'O=C(O)CCc1nc2c(=O)[nH]c(=O)[nH]c2n(CC(O)C(O)C(O)CO)c1=O'), ('DB01289', 'Cc1cc(C(=O)NCCc2ccc(S(=O)(=O)NC(=O)NN3CCCCCC3)cc2)no1'), ('DB08577', 'Cc1c[nH]c(C=C2C(=O)Nc3ccccc32)c1CCC(=O)O'), ('DB06936', 'CC(C)CCC(=O)N1CCCC1C(=O)NCc1ccc(C(=N)N)cc1'), ('DB07463', 'CCCCSCC1CN(Cc2c[nH]c3c(N)ncnc23)CC1O'), ('DB00874', 'COc1ccccc1OCC(O)CO'), ('DB04682', 'CC(C)(C)CC(C)(C)c1ccc(OCCOCCOCCOCCO)cc1'), ('DB00349', 'CN1C(=O)CC(=O)N(c2ccccc2)c2cc(Cl)ccc21'), ('DB00408', 'CN1CCN(C2=Nc3ccccc3Oc3ccc(Cl)cc32)CC1'), ('DB02600', 'CCC(CC)OC1C=C(C(=O)O)CC(N)C1NC(C)=O'), ('DB03773', 'CC1OC(O)C(O)C(O)C1O'), ('DB04086', 'O=[N+]([O-])c1ccc(OC2OC(CO)C(OC3OC(CO)C(O)C(O)C3O)C(O)C2F)c([N+](=O)[O-])c1'), ('DB04263', 'CNC1C(O)C(OC2C(N)CC(N)C(OC3OC(C(C)O)C(O)C(O)C3N)C2O)OCC1(C)O'), ('DB00603', 'CC(=O)OC1(C(C)=O)CCC2C3CC(C)C4=CC(=O)CCC4(C)C3CCC21C'), ('DB08385', 'O=C(O)N1CCC(Cc2cnc3ccccc3c2)CC1'), ('DB00450', 'O=C(CCCN1CC=C(n2c(=O)[nH]c3ccccc32)CC1)c1ccc(F)cc1'), ('DB00643', 'COC(=O)Nc1nc2ccc(C(=O)c3ccccc3)cc2[nH]1'), ('DB09243', 'NNc1ccc(C(N)=O)nn1'), ('DB04879', 'Clc1ccc(Nc2nnc(Cc3ccncc3)c3ccccc23)cc1'), ('DB01619', 'CN1CCC2=C(C1)C(c1ccccc1)c1ccccc12'), ('DB07922', 'O=NC(=O)CNS(=O)(=O)c1ccccc1'), ('DB09321', 'O=[Zn]'), ('DB00873', 'CC12C=CC(=O)C=C1CCC1C2C(O)CC2(C)C1CCC2(O)C(=O)OCCl'), ('DB04249', 'CC=c1c(C)c2n3c1=Cc1c(C)c(CCC(=O)O)c4n1[Zn]31n3c(c(C)c(=CC)c3=C2)C=c2c(C)c(CCC(=O)O)c(n21)=C4'), ('DB06916', 'Cc1cc(N2CCCC2C(=O)NCCc2ccc3c(c2)OCO3)nc(-n2ccnc2)n1'), ('DB09332', 'Cc1cc(OP(=O)([O-])[O-])c2ccccc2c1OP(=O)([O-])[O-].[Na+].[Na+].[Na+].[Na+]'), ('DB03712', 'CC(=O)NC(Cc1ccc(CC(=O)O)c(C(=O)O)c1)C(=O)NC1CCCCN(Cc2ccc(-c3ccccc3)cc2)C1=O'), ('DB07648', 'OCC(O)CNc1ncnc2[nH]c(-c3ccccc3)c(-c3ccccc3)c12'), ('DB07449', 'CC(=N)NCCCC(NC(=O)c1ccccc1)C(N)=O'), ('DB00241', 'C=CCC1(CC(C)C)C(=O)NC(=O)NC1=O'), ('DB00710', 'CCCCCN(C)CCC(O)(P(=O)(O)O)P(=O)(O)O'), ('DB02703', 'CC(=O)OC1CC2(C)C(CC(O)C3C4(C)CCC(O)C(C)C4CCC32C)C1=C(CCC=C(C)C)C(=O)O'), ('DB08544', 'CNCCC(Oc1ccc(C(F)(F)F)cc1)c1ccccc1'), ('DB02525', 'OCC1NC(=NO)C(O)C(O)C1O'), ('DB07671', 'CCCCCC(C)c1cc([N+](=O)[O-])cc([N+](=O)[O-])c1O'), ('DB03186', 'Nc1ncnc2c1ncn2C1OC(COP(=O)(O)OP(=O)(O)OC2CC(n3ccc(=O)[nH]c3=O)OC2COP(=O)(O)O)C(OP(=O)(O)O)C1O'), ('DB04069', 'Nc1cc2c(nn1)-c1ccccc1CC2'), ('DB07672', 'C[N+]1([O-])CCC([Si](C)(C)c2ccccc2)CC1'), ('DB05786', 'CC1=C(CO)C2=C(C)C3(CC3)C(C)(O)C(=O)C2=C1'), ('DB07430', 'Cc1ccc(-c2ccc3c(ccc4sc5c(c43)NCC(C)NC5=O)n2)cn1'), ('DB07675', 'CCOC(Cc1ccc(OCCN2c3ccccc3Oc3ccccc32)cc1)C(=O)O'), ('DB00169', 'C=C1CCC(O)CC1=CC=C1CCCC2(C)C1CCC2C(C)CCCC(C)C'), ('DB06077', 'CN1CCN2c3c(cccc31)C1CN(CCCC(=O)c3ccc(F)cc3)CCC12'), ('DB06929', 'CCCC(=O)N1CCCC1C(=O)NCc1ccc(C(=N)N)cc1'), ('DB08598', 'CC(C)=CCN1Cc2cc(Cl)cc3[nH]c(=S)n(c23)CC1C'), ('DB07285', 'COc1ccc(S(=O)(=O)C(CC(=O)O)C(F)F)cc1'), ('DB03572', 'NC(=O)c1cn(C(CO)CCc2cccc3ccccc23)cn1'), ('DB06150', 'COc1cc(NS(=O)(=O)c2ccc(N)cc2)nc(OC)n1'), ('DB07673', 'CC(Cc1ccccc1)C(=O)O'), ('DB09078', 'COc1cc2nccc(Oc3ccc(NC(O)=NC4CC4)c(Cl)c3)c2cc1C(=N)O'), ('DB09327', 'O=c1[nH]c(=O)n(C2CCCO2)cc1F.O=c1cc[nH]c(=O)[nH]1'), ('DB00980', 'CCC(=O)NCCC1CCc2ccc3c(c21)CCO3'), ('DB01441', 'COc1ccc2[nH]cc(CCN(C(C)C)C(C)C)c2c1'), ('DB07265', 'O=C(O)CCn1c2ccc(O)cc2c2c3c(c(-c4ccccc4)cc21)C(=O)NC3=O'), ('DB01086', 'CCOC(=O)c1ccc(N)cc1'), ('DB01295', 'COc1ccc(CCNCC(O)COc2cccc(C)c2)cc1OC'), ('DB04224', 'CCCCCCCCC=CCCCCCCCC(=O)O'), ('DB08942', 'Cc1cc(=NC(=O)C2=C(O)c3ccccc3S(=O)(=O)N2C)[nH]o1'), ('DB04474', 'O=S(=O)(O)c1cccc2cccc(Nc3ccccc3)c12'), ('DB07743', 'O=C(Sc1nnc(C(F)(F)F)[nH]1)c1ccc(C#Cc2ccccc2)o1'), ('DB01579', 'CC1C(c2ccccc2)OCCN1C'), ('DB00199', 'CCC1OC(=O)C(C)C(OC2CC(C)(OC)C(O)C(C)O2)C(C)C(OC2OC(C)CC(N(C)C)C2O)C(C)(O)CC(C)C(=O)C(C)C(O)C1(C)O'), ('DB01196', 'CC12CCC3c4ccc(OC(=O)N(CCCl)CCCl)cc4CCC3C1CCC2O'), ('DB01518', 'CCOC(=O)C1(c2ccccc2)CCN(CCOCc2ccccc2)CC1'), ('DB01931', 'O=C(O)c1cc(O)c2c(Cl)cc(Cl)cc2n1'), ('DB08131', 'CC(C)C(NC(=O)c1ccc(CCc2c[nH]c3nc(N)[nH]c(=O)c23)cc1)C(=O)O'), ('DB03756', 'CCC=CCC=CCC=CCC=CCC=CCC=CCCC(=O)O'), ('DB00291', 'O=C(O)CCCc1ccc(N(CCCl)CCCl)cc1'), ('DB02849', 'Cc1ncc(COP(=O)(O)O)c(CNC2(C(=O)O)CC2)c1O'), ('DB01955', 'OCCCCO'), ('DB04858', 'Nc1n[n+]([O-])c2ccccc2[n+]1[O-]'), ('DB01035', 'CCN(CC)CCNC(=O)c1ccc(N)cc1'), ('DB08883', 'N#Cc1ccccc1-c1cc(-c2ccccn2)cn(-c2ccccc2)c1=O'), ('DB00128', 'NC(CC(=O)O)C(=O)O'), ('DB08413', 'CP(=O)(O)Oc1ccc([N+](=O)[O-])cc1'), ('DB07841', 'CC(C)=CCCC(C)=CCCC(C)=CCCC(C)=CCOP(=O)(O)OP(=O)(O)O'), ('DB08564', 'CN(C)CC=CC(=O)Nc1ccc2ncnc(Nc3cccc(Br)c3)c2c1'), ('DB00172', 'O=C(O)C1CCCN1'), ('DB01299', 'COc1ncnc(NS(=O)(=O)c2ccc(N)cc2)c1OC'), ('DB06745', 'CC1C(=O)OC2C(O)C34C5OC(=O)C3(OC3OC(=O)C(O)C34C(C(C)(C)C)C5O)C12O'), ('DB00950', 'CC(C)(C(=O)O)c1ccc(C(O)CCCN2CCC(C(O)(c3ccccc3)c3ccccc3)CC2)cc1'), ('DB06977', 'NC(COc1cncc(-c2ccc3[nH]ncc3c2)c1)CC1=C2C=CC=CC2N=C1'), ('DB00315', 'CN(C)CCc1c[nH]c2ccc(CC3COC(=O)N3)cc12'), ('DB07698', 'Nc1cccc(-c2cnn3ccc(Nc4cccc(Cl)c4)nc23)c1'), ('DB09288', 'CCN(CC)CC(=O)Oc1ccc(NC(C)=O)cc1'), ('DB06837', 'O=C(CC(Cc1cccc(O)c1)C(=O)NC1c2ccccc2CC1O)NO'), ('DB04835', 'Cc1nnc(C(C)C)n1C1CC2CCC(C1)N2CCC(N=C(O)C1CCC(F)(F)CC1)c1ccccc1'), ('DB03063', 'COc1cc(C(=O)NC(Cc2ccccc2)C(O)CN(CCC2CCC3OCOC3C2)C(=O)CCN2C(=O)c3ccccc3C2=O)cc(OC)c1OCc1ccccc1'), ('DB01040', 'N=C(N)c1ccc(C=Cc2ccc(C(=N)N)cc2O)cc1.O=S(=O)(O)CCO.O=S(=O)(O)CCO'), ('DB00770', 'CCCCCC(O)C=CC1C(O)CC(=O)C1CCCCCCC(=O)O'), ('DB00659', 'CC(=O)NCCCS(=O)(=O)O'), ('DB00841', 'CC(CCc1ccc(O)cc1)NCCc1ccc(O)c(O)c1'), ('DB07967', 'N#Cc1nc(Nc2ccccc2OCCCn2ccnc2)c2ncn(C3CCCC3)c2n1'), ('DB04758', 'CCS(=O)(=O)NC(Cc1c[nH]c2ccccc12)C(=O)NC(CCC(N)=O)C(=O)NCc1ccc(C(=N)N)cc1'), ('DB09253', 'CC(CCc1ccc2c(c1)OCO2)NN'), ('DB01887', 'O=C(NC1COC(CO)C1)C(OCc1ccccc1)C(O)C(O)C(OCc1ccccc1)C(=O)NC1c2ccccc2CC1O'), ('DB01422', 'O=[N+]([O-])c1ccc(O)c2ncccc12'), ('DB00324', 'CC(=O)C1(O)CCC2C3CC(C)C4=CC(=O)C=CC4(C)C3(F)C(O)CC21C'), ('DB03076', 'CNC(=O)c1cccc(CN2C(COc3ccccc3)C(O)C(O)C(COc3ccccc3)N(Cc3ccccc3)S2(=O)=O)c1'), ('DB00162', 'CC(C=CC1=C(C)CCCC1(C)C)=CC=CC(C)=CCO'), ('DB03137', 'C#CCCCn1c(Cc2cc(OC)ccc2OC)nc2c(N)nc(F)nc21'), ('DB04366', 'Nc1ncnc2c1ncn2C1OC(COP(=O)(O)OP(=O)(O)O)C(N)C1O'), ('DB07296', 'O=C1OC(=Cc2cccc3ccccc23)C(O)=C1c1ccc(Cl)cc1'), ('DB09357', 'CC(C)(CO)C(O)C(=O)NCCCO'), ('DB06787', 'C[N+]1(C)CCN(CC(O)(c2ccccc2)C2CCCCC2)CC1'), ('DB01025', 'CC(C)c1ccc2oc3nc(N)c(C(=O)O)cc3c(=O)c2c1'), ('DB04887', 'Cc1nc(COc2ccc(CC(NC(=O)OC3COC4OCCC34)C(O)CN(CC(C)C)S(=O)(=O)c3ccc4c(c3)OCO4)cc2)cs1'), ('DB00475', 'CNC1=Nc2ccc(Cl)cc2C(c2ccccc2)=[N+]([O-])C1'), ('DB02827', 'O=C(O)C(=O)Nc1sc2c(c1C(=O)O)CCOC2COC1=NS(=O)(=O)c2ccccc21'), ('DB06712', 'COC(=O)C1=C(C#N)NC(C)=C(C(=O)OC(C)C)C1c1cccc([N+](=O)[O-])c1'), ('DB09094', 'COc1cc(C2c3cc4c(cc3C(O)C(CO)C2C(=O)O)OCO4)cc(OC)c1OC.COc1cc(C2c3cc4c(cc3C(O)C(CO)C2C(=O)O)OCO4)cc(OC)c1OC.COc1cc(C2c3cc4c(cc3C(O)C3COC(=O)C23)OCO4)cc(OC)c1OC.COc1cc(C2c3cc4c(cc3C(O)C3COC(=O)C23)OCO4)cc(OC)c1OC'), ('DB02619', 'OCCCCCCCCCCCCBr'), ('DB04496', 'O=C(NO)C(O)C(O)COP(=O)(O)O'), ('DB08041', 'O=C(NC(Cc1ccccc1)C(O)C(=O)O)OCc1ccccc1'), ('DB09011', 'O=C(CCCl)NCc1ccccc1'), ('DB09246', 'CC(NNC(=O)c1ccccc1)c1ccccc1'), ('DB01253', 'CC(CO)NC(=O)C1C=C2c3cccc4[nH]cc(c34)CC2N(C)C1'), ('DB02134', 'O=c1[nH]c(=O)c2[nH]cnc2[nH]1'), ('DB02126', 'O=C(O)C=Cc1ccc(C(=O)O)cc1'), ('DB02028', 'O=C(CO)COP(=O)(O)OC1C(O)C(O)C(OP(=O)(O)O)C(OP(=O)(O)O)C1O'), ('DB03410', 'O=c1cc(O)c2ccccc2o1'), ('DB08327', 'O=C(O)Cc1cc(O)ccc1O'), ('DB07616', 'Cc1cc(-c2csc(Nc3ccc(C(=O)O)c(O)c3)n2)ccc1F'), ('DB00526', 'O=C1O[Pt]2(NC3CCCCC3N2)OC1=O'), ('DB07781', 'CCOc1ccnc(CCNC(=S)Nc2ccc(C#N)cn2)c1F'), ('DB00596', 'CC1CC2C3CC(F)C4=CC(=O)C=CC4(C)C3(F)C(O)CC2(C)C1(O)C(=O)CCl'), ('DB09338', 'COC(CNC(=O)c1ccccc1OCC(=O)O)C[Hg]O'), ('DB04258', 'C=C1C(=CC=C2CCCC3(C)C2CCC3C(C)C=CC=CC(O)(CC)CC)CC(O)CC1O'), ('DB07852', 'Cc1nc(C(=O)O)nn1-c1cc(Cl)cc(Cl)c1'), ('DB01927', 'CC1=C(C)C(=O)C(C)=C(C)C1=O'), ('DB08696', 'C=C1C(O)CC(=CC=C2CCCC3(C)C2CCC3C(C)CC)CC1O'), ('DB02213', 'O=[N+]([O-])c1cccc(OC2OC(CO)C(O)C(O)C2O)c1'), ('DB01542', 'C=CCC1CN(C)CCC1(OC(=O)CC)c1ccccc1'), ('DB07348', 'CC1CCCC=CC2CC(O)CC2C(O)C=CC(=O)O1'), ('DB00414', 'CC(=O)c1ccc(S(=O)(=O)NC(=O)NC2CCCCC2)cc1'), ('DB00624', 'CC12CCC(=O)C=C1CCC1C2CCC2(C)C(O)CCC12'), ('DB03651', 'O=[N+]([O-])c1cc([N+](=O)[O-])c(O)c([N+](=O)[O-])c1'), ('DB09488', 'Cc1ccc(C(=CCN2CCCC2)c2cccc(C=CC(=O)O)n2)cc1'), ('DB08083', 'NS(=O)(=O)c1ccc2[nH]c(-c3cscn3)nc2c1'), ('DB07946', 'N=C(N)NOCCNC(=O)Cc1c(Cl)ccc(NCC(F)(F)c2ccccc2)c1F'), ('DB01776', 'Cc1cccc(O)c1'), ('DB04061', 'NC(C(=O)O)C1Cc2ccccc2C1'), ('DB03422', 'O=C(O)c1cscn1'), ('DB03656', 'COC(=O)c1ccccc1S(=O)(=O)NC(=O)N(C)c1nc(C)nc(OC)n1'), ('DB00465', 'O=C(c1ccccc1)c1ccc2n1CCC2C(=O)O'), ('DB00571', 'CC(C)NCC(O)COc1cccc2ccccc12'), ('DB04024', 'Nc1ncnc2c1ncn2C1OC(CO)C(NC(=O)C(N)CO)C1O'), ('DB06237', 'COc1ccc(CNc2nc(N3CCCC3CO)ncc2C(=O)NCc2ncccn2)cc1Cl'), ('DB03696', 'CC(C)=CCCC(C)C1CCC2(C)C3=C(CCC12C)C1(C)CCC(O)C(C)(C)C1CC3'), ('DB01009', 'CC(C(=O)O)c1cccc(C(=O)c2ccccc2)c1'), ('DB07755', 'CN(C)CC(O)COc1ccc(Nc2nccc(Nc3cc(Cl)ccc3Cl)n2)cc1'), ('DB04486', 'NCCCCCCC(N)C(=O)O'), ('DB00395', 'CCCC(C)(COC(N)=O)COC(=O)NC(C)C'), ('DB03700', 'CC(O)C(N)C(=O)O'), ('DB08264', 'OC1C=Cc2ccccc2C1O'), ('DB04254', 'CCCCn1c(Cc2ccc3c(c2)OCO3)nc2c(N)nc(F)nc21'), ('DB06882', 'CC(C)(C)c1cc(NC(=O)Nc2cccc3ccccc23)n(-c2cccc(N)c2)n1'), ('DB08775', 'CC(=O)C(C)NC(=O)C(Cc1ccc(O)cc1)NC(=O)OCc1ccccc1'), ('DB03065', 'N=C(N)n1cc2cccc([N+](=O)[O-])c2n1'), ('DB07508', 'Cn1c(Cc2ccc(C(=N)N)cc2)nc2cc(NS(=O)(=O)c3ccccc3)ccc21'), ('DB03654', 'CCCSSCC(N)C=O'), ('DB02490', 'CN(CC(=O)O)C(N)N'), ('DB01083', 'CCCCCCCCCCCC(CC1OC(=O)C1CCCCCC)OC(=O)C(CC(C)C)NC=O'), ('DB08634', 'CC(C)c1c(Cc2ccccc2)n(COCc2ccccc2)c(=O)[nH]c1=O'), ('DB03089', 'NC(CC(=O)O)C(=O)[O-]'), ('DB00304', 'C#CC1(O)CCC2C3CCC4=CCCCC4C3C(=C)CC21CC'), ('DB07870', 'CC(Oc1ccc(Oc2ncc(C(F)(F)F)cc2Cl)cc1)C(=O)O'), ('DB01420', 'CCC(=O)OC1CCC2C3CCC4=CC(=O)CCC4(C)C3CCC12C'), ('DB07584', 'Cc1nnc(-c2ccccc2Nc2ncnc3[nH]ccc23)[nH]1'), ('DB07455', 'CC(CNS(C)(=O)=O)c1ccc(-c2ccc(C(C)CNS(C)(=O)=O)cc2)cc1'), ('DB03395', 'COc1ccc(CC(NC(=O)CC(C)(C)N)C(=O)NC(Cc2cnc[nH]2)C(=O)NC(CC2CCCCC2)C(O)C(O)CC(C)C)cc1'), ('DB08955', 'CC(C)Cc1ccc(C(C)C(O)=NO)cc1'), ('DB00492', 'CCC(=O)OC(OP(=O)(CCCCc1ccccc1)CC(=O)N1CC(C2CCCCC2)CC1C(=O)O)C(C)C'), ('DB01704', 'O=C(O)C=Cc1ccc(O)cc1O'), ('DB09316', '[Cl-].[TlH2+]'), ('DB08102', 'Oc1c(Br)cc(-c2ccccc2)cc1Br'), ('DB02557', 'CC(C)CC(NP(=O)(O)OC1OC(C)C(O)C(O)C1O)C(O)=NC(Cc1c[nH]c2ccccc12)C(=O)O'), ('DB02636', 'COc1c(O)ccc2c1cc([N+](=O)[O-])c1c(C(=O)O)cc3c(c12)OCO3'), ('DB08607', 'Cc1c(C)c2c(c(C)c1O)CCC(C)(COc1ccc(CC3SC(=O)NC3=O)cc1)O2'), ('DB02278', 'CC1(C)Nc2nc(N)[nH]c(=O)c2N=C1O'), ('DB04597', 'CC1(C(=O)O)OCC2OC(O)C(O)C(O)C2O1'), ('DB01622', 'CN1CCN(CCCN2c3ccccc3Sc3ccc(S(=O)(=O)N(C)C)cc32)CC1'), ('DB00833', 'NC(C(=O)NC1C(=O)N2C(C(=O)O)=C(Cl)CSC12)c1ccccc1'), ('DB08433', 'C=CS(=O)(=O)Oc1ccccc1'), ('DB04896', 'CCN(CC)C(=O)C1(c2ccccc2)CC1CN'), ('DB04478', 'CN(C)S(=O)(=O)N1CCN(c2ccnc(CO)n2)CC1'), ('DB03442', 'Cc1cc(S(=O)(=O)O)ccc1-n1nc(C)c(N=Nc2cc(S(=O)(=O)O)ccc2C(=O)O)c1O'), ('DB03502', 'NC(C=O)CSC(O)CC(N)C(=O)O'), ('DB00651', 'Cn1c(=O)c2c(ncn2CC(O)CO)n(C)c1=O'), ('DB07474', 'Cc1cc(-n2ccnc2)cc2[nH]c(-c3c(NCc4ccccn4)cc[nH]c3=O)nc12'), ('DB07014', 'COc1ccc(CSc2nnc(-c3ccc4c(c3)OCO4)o2)cc1F'), ('DB11609', 'CCC(=O)C(CCN(C)C)(c1ccccc1)c1ccccc1'), ('DB08174', 'O=C(NC1CCCC1NC(=O)c1ccc(Cl)s1)c1ccc(-n2ccccc2=O)cc1'), ('DB03919', 'CCNC(=O)OC'), ('DB00134', 'CSCCC(N)C(=O)O'), ('DB09076', 'OC(c1ccccc1)(c1ccccc1)C12CC[N+](CCOCc3ccccc3)(CC1)CC2'), ('DB07452', 'Nc1nc2cc3nc(N)[nH]c3cc2c(=O)[nH]1'), ('DB03118', 'O=C(C=C(O)c1nn[nH]n1)c1c[nH]c2ccc(Cl)cc12'), ('DB02969', 'Cc1ncsc1CCO'), ('DB01145', 'O=S(O)CNc1ccc(S(=O)(=O)c2ccc(NCS(=O)O)cc2)cc1'), ('DB08252', 'O=C(O)c1ccccc1N=Nc1ccc(O)c2ccccc12'), ('DB04977', 'CCC(C)C1NC(=O)C(NC(=O)C(CC(C)C)N(C)C(=O)C2CCCN2C(=O)C(C)=O)C(C)OC(=O)C(Cc2ccc(OC)cc2)N(C)C(=O)C2CCCN2C(=O)C(CC(C)C)NC(=O)C(C)C(=O)C(C(C)C)OC(=O)CC1O'), ('DB02774', 'OCCCO'), ('DB08671', 'N=C1N=NC(N)=C1N=Nc1ccccc1C(F)(F)F'), ('DB04416', 'COCC#CCC(NS(=O)(=O)c1ccc(-c2ccc(OC)cc2)cc1)C(=O)O'), ('DB04128', 'O=Nc1c(NCC(O)C(O)C(O)CO)[nH]c(=O)[nH]c1=O'), ('DB04141', 'CCCCCCOC1OC(CO)C(O)C(O)C1O'), ('DB01015', 'Cc1cc(NS(=O)(=O)c2ccc(N)cc2)no1'), ('DB04651', 'Nc1ncnc2c1ncn2C1OC(COP(=O)(O)OCCCCCC2SCC3NC(=O)NC32)C(O)C1O'), ('DB03630', 'SCc1ccccc1I'), ('DB07637', 'NC(Cc1cc(Br)c(O)c(Br)c1)C(=O)O'), ('DB01810', 'CC(C=CC(=O)C=O)NC(=O)C(Cc1ccccc1)NC(=O)OCc1ccccc1'), ('DB04710', 'CCOC(=O)C=CC(CC1CCNC1=O)NC(=O)C(CC(C)C)NC(=O)C(NC(=O)C(C)NC(=O)c1cc(C)on1)C(C)C'), ('DB00570', 'CCC1(O)CC2CN(CCc3c([nH]c4ccccc34)C(C(=O)OC)(c3cc4c(cc3OC)N(C)C3C(O)(C(=O)OC)C(OC(C)=O)C5(CC)C=CCN6CCC43C65)C2)C1'), ('DB00363', 'CN1CCN(C2=Nc3cc(Cl)ccc3Nc3ccccc32)CC1'), ('DB02694', 'CC(C)(CO)C(O)C(=O)OP(=O)(O)OCC1OC(n2cnc3c(N)ncnc32)C(O)C1O'), ('DB07011', 'c1cn(-c2ccc(OC3CCCN(Cc4ccc5c(c4)OCO5)C3)cc2)cn1'), ('DB07120', 'N=C(N)NNC(=O)N(c1ccccc1)c1ccccc1'), ('DB00706', 'CCOc1ccccc1OCCNC(C)Cc1ccc(OC)c(S(N)(=O)=O)c1'), ('DB01852', 'O=c1c(O)c(-c2ccc(O)cc2)oc2cc(O)cc(O)c12'), ('DB07563', 'CN1CCN(c2ccc(Cc3cc4cnc(CN)nc4n3C3CCCCC3)cc2)CC1'), ('DB04452', 'Cc1cc(N)c2cc(NC(=O)Nc3ccc4nc(C)cc(N)c4c3)ccc2n1'), ('DB00290', 'Cc1c(N)nc(C(CC(N)=O)NCC(N)C(N)=O)nc1C(=O)NC(C(=O)NC(C)C(O)C(C)C(=O)NC(C(=O)NCCc1nc(-c2nc(C(=O)NCCC[S+](C)C)cs2)cs1)C(C)O)C(OC1OC(CO)C(O)C(O)C1OC1OC(CO)C(O)C(OC(N)=O)C1O)c1cnc[nH]1'), ('DB02599', 'CCCSCc1cc(N)cc2c(=O)[nH]c(N)nc12'), ('DB01175', 'CN(C)CCCC1(c2ccc(F)cc2)OCc2cc(C#N)ccc21'), ('DB02820', 'NC(=O)C1=CN(C2OC(COP(=O)([O-])OP(=O)([O-])OCC3OC(n4cnc5c(N)ncnc54)C([O-])C3[O-])C(O)C2O)C=CC1n1cc2c(=S)n(C(C(=O)N3CCCCCC3)c3ccccc3)cnc2n1'), ('DB00093', 'NCCCCC(NC(=O)C1CCCN1C(=O)C1CSSCC(N)C(=O)NC(Cc2ccccc2)C(=O)NC(Cc2ccccc2)C(=O)NC(CCC(N)=O)C(=O)NC(CC(N)=O)C(=O)N1)C(=O)NCC(N)=O'), ('DB08138', 'O=C(Nc1ccc(F)cc1)c1n[nH]cc1NC(=O)c1c(F)cccc1F'), ('DB06695', 'CCCCCCOC(=O)N=C(N)c1ccc(NCc2nc3cc(C(=O)N(CCC(=O)OCC)c4ccccn4)ccc3n2C)cc1'), ('DB01775', 'O=C(CO)CO'), ('DB00844', 'Oc1ccc2c3c1OC1C(O)CCC4(O)C(C2)N(CC2CCC2)CCC314'), ('DB00887', 'CCCCNc1cc(C(=O)O)cc(S(N)(=O)=O)c1Oc1ccccc1'), ('DB02809', 'COc1cc(Cc2c[nH+]c(N)nc2N)cc(OCCCC(CCC(=O)[O-])C(=O)[O-])c1Br'), ('DB07409', 'O=P(O)(O)C(O)(Cc1cccc(-c2ccc(-c3ccccc3)cc2)c1)P(=O)(O)O'), ('DB03826', 'Nc1[nH]c(=O)[nH]c(=O)c1N'), ('DB03111', 'NC1C(OP(=O)(O)O)OC(CO)C(O)C1O'), ('DB01031', 'C#CC1(OC(N)=O)CCCCC1'), ('DB03414', 'NC1SC(CO)C(O)C(O)C1O'), ('DB01637', 'CC(C)CCCC(C)CCCC(C)CCCC(C)CCO'), ('DB08599', 'COc1ccc(S(=O)(=O)NC(C)C(=O)O)cc1'), ('DB07744', 'CC(=O)C(CC(=O)O)NC(=O)C(C)NC(=O)C(NC(=O)OCc1ccccc1)C(C)C'), ('DB02522', 'O=C(O)C(=O)CP(=O)(O)O'), ('DB01192', 'CN1CCC23c4c5ccc(O)c4OC2C(=O)CCC3(O)C1C5'), ('DB07238', 'CNC(=O)c1c(-c2ccc(F)cc2)oc2cc(N(CCO)S(C)(=O)=O)c(C3CC3)cc12'), ('DB04339', 'NC(CSCC(=O)O)C(=O)O'), ('DB09170', 'CCC(=O)N(c1ccccc1)C1CCN(CC(O)c2cccs2)CC1'), ('DB09242', 'COc1nc(C)nc(Cl)c1NC1=NCCN1'), ('DB08262', 'O=C(O)c1ccc2cc(C(=O)O)ccc2c1'), ('DB01126', 'CC12C=CC(=O)NC1CCC1C2CCC2(C)C(C(=O)Nc3cc(C(F)(F)F)ccc3C(F)(F)F)CCC12'), ('DB05448', 'CCC(C)SSc1ncc[nH]1'), ('DB05296', 'CC(=O)[O-].CC(=O)[O-].CCc1c(CC)c2cc3nc(cnc4cc(OCCOCCOCCOC)c(OCCOCCOCCOC)cc4ncc4nc(cc1[n-]2)c(CCCO)c4C)c(C)c3CCCO.O.[Lu+3]'), ('DB08350', 'COc1ccccc1-c1c[nH]c2ncc(-c3cncc(C(=O)N(C)C)c3)cc12'), ('DB04212', 'CC(=[NH2+])C(=O)[O-]'), ('DB08281', 'O=C1c2ccccc2C(=O)N1CCOC(=S)Nc1ccc(Br)cc1'), ('DB02603', 'Nc1cc2[nH]cnc2c(OCC2CCCCC2)n1'), ('DB08430', 'O=[N+]([O-])c1ccc(SC2OC(CO)C(O)C(O)C2O)cc1'), ('DB00897', 'Cc1nnc2n1-c1ccc(Cl)cc1C(c1ccccc1Cl)=NC2'), ('DB03031', 'CN(C)c1cccc2c(S(=O)(=O)NCCCCCCCCNC(=O)C34CC5CC(CC(C5)C3)C4)cccc12'), ('DB01684', 'OCC(O)CSO'), ('DB07397', 'NC(=O)CC1CCCc2sc3nc(C(=O)NCc4ccc5c(c4)NC(=O)CO5)[nH]c(=O)c3c21'), ('DB01737', 'COC(=O)C(Cc1cccc(C(=N)N)c1)NC(=O)CNS(=O)(=O)c1ccc(C)cc1'), ('DB00485', 'Cc1onc(-c2c(Cl)cccc2Cl)c1C(=O)NC1C(=O)N2C1SC(C)(C)C2C(=O)O'), ('DB09200', 'COc1ccc2nc(COc3ccc(CC4SC(=O)NC4=O)cc3)n(C)c2c1'), ('DB08187', 'CNC(Cc1ccccc1)C(=O)N1CCCC1C(=O)NCC1CCC(N)CC1'), ('DB03433', 'Cc1ncc(COP(=O)(O)O)c(CNCC(C)OP(=O)(O)O)c1O'), ('DB07950', 'O=C(O)Cc1c[nH]c2ccccc12'), ('DB08627', 'CC=CC(C)=CC1(C)SC(=O)C(C)=C1O'), ('DB00866', 'C=CCc1ccccc1OCC(O)CNC(C)C'), ('DB04457', 'Nc1nc(=O)c2ncn(C3CC(O)C(COP(=O)(O)O)O3)c2[nH]1'), ('DB07849', 'CCCCCCCCCSCC(N)C(=O)O'), ('DB00166', 'O=C(O)CCCCC1CCSS1'), ('DB08637', 'COc1ccccc1C=CC(=O)C(=O)O'), ('DB08846', 'O=c1oc2c(O)c(O)cc3c(=O)oc4c(O)c(O)cc1c4c23'), ('DB07996', 'CC1CNCCN1S(=O)(=O)c1cccc2cnccc12'), ('DB07497', 'O=CCCCCC1SCC2NC(=O)NC21'), ('DB04089', 'NS(=O)(=O)c1cc2c(s1)S(=O)(=O)N(Cc1cccs1)CC2O'), ('DB03996', 'CC(=O)N1N=C(c2ccccc2Cl)CC1c1cccc(O)c1'), ('DB06772', 'COC1C(=O)C2(C)C(OC)CC3OCC3(OC(C)=O)C2C(OC(=O)c2ccccc2)C2(O)CC(OC(=O)C(O)C(NC(=O)OC(C)(C)C)c3ccccc3)C(C)=C1C2(C)C'), ('DB07720', 'Clc1ccc(C2CC3CCC2N3)cn1'), ('DB02852', 'CC(=CC=CC(C)C(=O)O)C1CNC(C(=O)O)C1CC(=O)O'), ('DB08783', 'COC(=O)C(Cc1ccc(C[Se](=O)O)cc1)NC(=O)OC(C)(C)C'), ('DB00184', 'CN1CCCC1c1cccnc1'), ('DB00452', 'NCC1OC(OC2C(CO)OC(OC3C(O)C(N)CC(N)C3OC3OC(CN)C(O)C(O)C3N)C2O)C(N)C(O)C1O'), ('DB07536', 'CC(O)C(NC(=O)c1ccc(C#Cc2ccc(CN3CCOCC3)cc2)cc1)C(=O)NO'), ('DB08168', 'Cc1cc(=O)oc2cc(N)ccc12'), ('DB06791', 'CC(C)C1NC(=O)C(CCCCN)NC(=O)C(Cc2c[nH]c3ccccc23)NC(=O)C(Cc2ccc(O)cc2)NC(=O)C(NC(=O)C(N)Cc2ccc3ccccc3c2)CSSCC(C(=O)NC(C(N)=O)C(C)O)NC1=O'), ('DB02148', 'CC(=O)C(N)COCc1ccccc1'), ('DB08163', 'C=Cc1nc2c(N)ncnc2n1C1OC(CN(C)CCCCON)C(O)C1O'), ('DB00192', 'CC(C)NCCCC1(C(N)=O)c2ccccc2-c2ccccc21'), ('DB02479', 'CC(CNC(=O)c1ccc(S(N)(=O)=O)cc1)Cn1ccc2ccccc21'), ('DB03262', 'NS(=O)(=O)c1cc2c(s1)S(=O)(=O)N(c1cccc(O)c1)C(CN1CCOCC1)=C2'), ('DB06605', 'COc1ccc(-n2nc(C(N)=O)c3c2C(=O)N(c2ccc(N4CCCCC4=O)cc2)CC3)cc1'), ('DB04120', 'Cc1ccc(O)c(O)c1'), ('DB01982', 'O=C(O)C1OC(O)C(O)C(O)C1O'), ('DB08681', 'CC(C)OC(=O)c1cc(NC(=S)OC(C)C)ccc1Cl'), ('DB08288', 'CC(C)OC(=O)C(O)C(N)CC1CCCCC1'), ('DB09347', 'CC(=O)Nc1c(I)cc(I)c(C(=O)O)c1I'), ('DB00511', 'CC(=O)OC1CC(OC2C(O)CC(OC3C(O)CC(OC4CCC5(C)C(CCC6C5CCC5(C)C(C7=CC(=O)OC7)CCC65O)C4)OC3C)OC2C)OC(C)C1O'), ('DB00652', 'CC(C)=CCN1CCC2(C)c3cc(O)ccc3CC1C2C'), ('DB04034', 'O=C(CO)C(O)C(O)COP(=O)(O)O'), ('DB03876', 'NC(=[NH2+])c1cc2cccnc2s1'), ('DB00294', 'C#CC1(O)CCC2C3CCC4=CC(=O)CCC4C3C(=C)CC21CC'), ('DB07754', 'O=C(O)CCC(NC(=O)NC(CSCc1ccc(F)cc1)C(=O)O)C(=O)O'), ('DB00637', 'COc1ccc(CCN2CCC(Nc3nc4ccccc4n3Cc3ccc(F)cc3)CC2)cc1'), ('DB03310', 'NC(CCC(=O)NC(CSSCC(NC(=O)CCC(N)C(=O)O)C(=O)NCC(=O)O)C(=O)NCC(=O)O)C(=O)O'), ('DB00922', 'CC1CC(=O)NN=C1c1ccc(NN=C(C#N)C#N)cc1'), ('DB02214', 'O=c1[nH]c(=O)c2[nH]c(=O)c(=O)n(CC(O)C(O)C(O)CO)c2[nH]1'), ('DB00537', 'O=C(O)c1cn(C2CC2)c2cc(N3CCNCC3)c(F)cc2c1=O'), ('DB09083', 'COc1cc2c(cc1OC)CC(=O)N(CCCN(C)CC1Cc3cc(OC)c(OC)cc31)CC2'), ('DB04015', 'CSCCC(N)[PH](=O)O'), ('DB02367', 'CCCCOc1ccc(S(=O)(=O)N2CC(NS(C)(=O)=O)CC2C(=O)NO)cc1'), ('DB00984', 'CC12CCC3C4CCC(=O)C=C4CCC3C1CCC2OC(=O)CCc1ccccc1'), ('DB08457', 'Cc1cc(C)cc(Oc2c(CSCc3ccco3)c(C)[nH]c(=O)c2I)c1'), ('DB04676', 'CN(C)c1cccc2c(S(=O)(=O)NCCCCC(N)C(=O)O)cccc12'), ('DB00616', 'COCCOCC(CC1(C(=O)NC2CCC(C(=O)O)CC2)CCCC1)C(=O)Oc1ccc2c(c1)CCC2'), ('DB08272', 'NC(CC(Cc1ccc2ccccc2c1)C(=O)O)C(=O)O'), ('DB01594', 'N#CCCN1C(=O)C(O)N=C(c2ccccc2F)c2cc(Cl)ccc21'), ('DB00174', 'NC(=O)CC(N)C(=O)O'), ('DB03893', 'NC(=S)c1ccc[n+](C2OC(COP(=O)([O-])OP(=O)(O)OCC3OC(n4cnc5c(N)ncnc54)C(O)C3O)C(O)C2O)c1'), ('DB03472', 'OCC1OC(OC2C(CO)OC(OCCCCCCC3CCCCC3)C(O)C2O)C(O)C(O)C1O'), ('DB08838', 'N=C(N)NCCCCN'), ('DB03899', 'CCCCn1c(Cc2ccc(OC)cc2)nc2c(N)ncnc21'), ('DB02778', 'O=P(O)(O)OCC1OC(COP(=O)(O)O)C(O)C1O'), ('DB00701', 'CC(C)CN(CC(O)C(Cc1ccccc1)NC(=O)OC1CCOC1)S(=O)(=O)c1ccc(N)cc1'), ('DB08676', 'N#CC1CC=C2CC1Oc1ccc3cccc(c3c1)N1CCC(NCCc3cncn3C2)C1=O'), ('DB01601', 'Cc1cccc(C)c1OCC(=O)NC(Cc1ccccc1)C(O)CC(Cc1ccccc1)NC(=O)C(C(C)C)N1CCCNC1=O'), ('DB07039', 'CC(O)(COc1ccc(C#N)cc1)C(=O)Nc1ccc(C#N)c(I)c1'), ('DB07553', 'O=C(CCCCCCC(=O)C(F)(F)F)Nc1ccccc1'), ('DB07137', 'CC(C(=O)N=C1C=C(C2CC2)N=N1)c1ccc(N2CCNC2=O)cc1'), ('DB02252', 'Ic1ccccc1'), ('DB08199', 'O=C(O)CNC(=O)C(CS)NC(=O)OCc1ccccc1'), ('DB07481', 'CC(C)(C)OC(=O)NCc1c[nH]c2nc(N)[nH]c(=O)c12'), ('DB02094', 'O=C(Cc1cccs1)NCB(O)O'), ('DB02295', 'CC(C)c1sc(NC(=O)c2cc(NC(=O)c3cc(NC=O)cn3C)cn2C)nc1C(=O)NCCCN(C)C'), ('DB09225', 'CN(C)CCOC1=Cc2ccccc2Sc2ccc(Cl)cc21'), ('DB05990', 'CCC1C(O)C2C3CCC(C(C)CCC(=O)O)C3(C)CCC2C2(C)CCC(O)CC12'), ('DB07169', 'O=C1C(Cc2ccc(Cl)c(Cl)c2)SC(=S)N1NS(=O)(=O)c1cccs1'), ('DB03816', 'NC(CCSC(F)F)C(=O)O'), ('DB01878', 'O=C(c1ccccc1)c1ccccc1'), ('DB09017', 'Cc1nnc2n1-c1sc(Br)cc1C(c1ccccc1Cl)=NC2'), ('DB06866', 'COc1cccc(-c2ccc3c(c2)CC(O)C3C(CCCCC(=N)N)C(=O)O)c1'), ('DB08704', 'CCCCC(=O)NC1C(=NOC(=O)Nc2ccccc2)OC(CO)C(O)C1O'), ('DB02461', 'NC(CSCP(=O)(O)O)C(=O)O'), ('DB08999', 'CC(=O)C1(C)CCC2C3CCC4=CC(=O)CCC4=C3CCC21C'), ('DB03287', 'Cc1ncc(COP(=O)(O)O)c(CNC(C=COCCN)C(=O)O)c1O'), ('DB02706', 'O=C(O)C(=NC(=O)C(CS)CCc1ccccc1)c1ccc(Cn2cnnn2)s1'), ('DB07343', 'N#Cc1ccc(Nc2nc(N)nc(Oc3c(Cl)cccc3Cl)n2)cc1'), ('DB04529', 'CNC(CC(C)C)C(=O)NC1C(=O)NC(CC(N)=O)C(=O)NC2C(=O)NC3C(=O)NC(C(=O)NC(C(=O)O)c4cc(O)cc(O)c4-c4cc3ccc4O)C(O)c3ccc(c(Cl)c3)Oc3cc2cc(c3OC2OC(CO)C(O)C(O)C2O)Oc2ccc(cc2Cl)C1O'), ('DB05327', 'O=C1CC2(C(=O)N1)C(=O)N(Cc1ccc(Br)cc1F)C(=O)c1cccn12'), ('DB02226', 'Nc1ccc2c(c1)c(-c1ccccc1)[n+](CCCCCCc1cn(CCNc3c4c(nc5ccccc35)CCCC4)nn1)c1cc(N)ccc21'), ('DB02472', 'OCC1OC(N2CNc3c(O)ncnc32)C(O)C1O'), ('DB08928', 'CC(=O)Nc1cc([As]2SCC(CO)S2)ccc1O'), ('DB08438', 'CCCCCCCCCCCCCCCC(=O)OCC(O)C(O)C(O)=C(O)C(=O)O'), ('DB03693', 'NCCNS(=O)(=O)c1ccc(Cl)c2ccncc12'), ('DB03819', 'O=C(NO)c1ccccc1O'), ('DB03719', 'CCNC(=O)C1OC(n2cnc3c(N)ncnc32)C(O)C1O'), ('DB00396', 'CC(=O)C1CCC2C3CCC4=CC(=O)CCC4(C)C3CCC12C'), ('DB04418', 'O=C(O)CC(Nc1ncnc2c1ncn2C1OC(COP(=O)(O)O)C(O)C1O)C(=O)O'), ('DB08338', 'O=C1CCCCc2cnn3c(NC4CC4)nc(nc23)Nc2cccc(c2)N1'), ('DB04784', 'CC(O)c1ccccc1'), ('DB05248', 'Nc1nc(=O)n(C2OC(COP(=O)(O)O)C(O)C2O)cc1Br'), ('DB01981', 'O=S(=O)(O)OC1C(O)OC2COC1C2O'), ('DB02457', 'CCCCCCCCCCC[PH](=O)OCCCC'), ('DB04889', 'Cc1ccc(C23CNCC2C3)cc1'), ('DB03738', 'CC(C)(CO)C(O)C(=O)NCCC(=O)NC=CS'), ('DB04395', 'Nc1ncnc2c1ncn2C1OC(COP(=O)(O)OP(=O)(O)NP(=O)(O)O)C(O)C1O'), ('DB07968', 'COc1ccc(O)cc1NC(=O)NC(=O)c1ccc(F)cc1Cl'), ('DB11591', 'CCOCCn1c(C2CCN(CCc3ccc(C(C)(C)C(=O)O)cc3)CC2)nc2ccccc21'), ('DB08593', 'O=C1CN(c2ccccc2)S(=O)(=O)N1'), ('DB01214', 'CC(=O)Oc1c(C)cc(OCC(O)CNC(C)C)c(C)c1C'), ('DB04361', 'CN=N'), ('DB05869', 'CCOC(=O)C(C)=O'), ('DB03972', 'NC1Oc2ccccc2C(O)S1'), ('DB01207', 'O=C(O)CCCCON=C(c1cccnc1)c1cccc(C(F)(F)F)c1'), ('DB03327', 'Cc1ncc(COP(=O)(O)O)c(CNC(C)P(=O)(O)O)c1O'), ('DB01227', 'CCC(OC(C)=O)C(CC(C)N(C)C)(c1ccccc1)c1ccccc1'), ('DB09015', 'CC12CCC(=O)C=C1C=CC1C2CCC2(C)C1CCC2(O)CCC(=O)O'), ('DB04290', 'C[N+](C)(C)CCOP(=O)([O-])OP(=O)(O)OCC1OC(n2ccc(N)nc2=O)C(O)C1O'), ('DB04583', 'NC(=O)c1cc(C(=O)O)cc(-c2ccc(-c3ccccc3)cc2)c1'), ('DB07926', 'CNC(=O)C(Cc1ccc(OC)cc1)NC(=O)C(CC(=O)NO)CC(C)C'), ('DB00948', 'CC1(C)SC2C(NC(=O)C(NC(=O)N3CCN(S(C)(=O)=O)C3=O)c3ccccc3)C(=O)N2C1C(=O)O'), ('DB08254', 'O=S(=O)(O)c1ccc2ccccc2c1'), ('DB02685', 'Cc1cccc(CC(N)C(=O)O)c1'), ('DB03614', 'CC1=C2[N+]3=C(C=C4[N+]5=C(C(C)=C6N7C8C(CC(N)=O)C6(C)CCC(=O)NCC(C)OP(=O)([O-])OC6C(CO)OC(C6O)n6c[n+](c9cc(C)c(C)cc96)[Co-3]753(C)[N+]3=C1C(CCC(N)=O)C(C)(CC(N)=O)C83C)C(CCC(N)=O)C4(C)C)C(CCC(N)=O)C2(C)CC(N)=O'), ('DB07271', 'NC(CC(=O)N1CCCNC(=O)C1CC(F)(F)F)Cc1cc(F)c(F)cc1F'), ('DB03817', 'NCCC(N)C(=O)O'), ('DB02577', 'C=CC1=C(C)C2=[N+]3C1=Cc1c(C)c(C=C)c4n1[Fe]31n3c(c(C)c(CCC(=O)O)c3=CC3=[N+]1C(=C4)C(C)=C3CCC(=O)O)=C2'), ('DB00764', 'CC1CC2C3CCC4=CC(=O)C=CC4(C)C3(Cl)C(O)CC2(C)C1(O)C(=O)CCl'), ('DB02740', 'O=C(O)CCCc1c[nH]c2ccccc12'), ('DB08057', 'Cc1cccc(Cl)c1Nc1nc2ccc(N3CCNC(C)C3)cc2n2cncc12'), ('DB00986', 'C[N+]1(C)CCC(OC(=O)C(O)(c2ccccc2)C2CCCC2)C1'), ('DB02965', 'NC(CCCNP(N)(=O)NS(=O)(=O)O)C(=O)O'), ('DB02950', 'NC1=NC(=O)C(C2CCNC(=O)C3=NC(Br)=CC32)=N1'), ('DB04291', 'NC(C(=O)O)c1ccc(O)cc1'), ('DB02973', 'NS(=O)(=O)c1ccc(N=NC2=c3cc(Br)ccc3=NC2=O)cc1'), ('DB06693', 'CCC(C)C(=O)OC1CCC=C2C=CC(C)C(CCC3CC(O)CC(=O)O3)C21'), ('DB01520', 'c1csc(C2(N3CCCCC3)CCCCC2)c1'), ('DB00931', 'C=C1c2cccc(O)c2C(=O)C2=C(O)C3(O)C(=O)C(C(N)=O)=C(O)C(N(C)C)C3C(O)C12'), ('DB08809', 'O=C(O)C(Cl)Cl'), ('DB01008', 'CS(=O)(=O)OCCCCOS(C)(=O)=O'), ('DB08248', 'NS(=O)(=O)c1cccc(Nc2nc(OCC3CCCCC3)c3nc[nH]c3n2)c1'), ('DB08034', 'COc1ccc2ccccc2c1C=NNC(=O)c1ccc(O)c(O)c1'), ('DB04055', 'CC[n+]1c(C)c(C(=O)OC(C)C)c(-c2ccccc2Cl)c(C(=O)O)c1C(=O)O'), ('DB03772', 'CCCCCCOC1OC(CO)C(O)CC1O'), ('DB03249', 'COC1C(C)C(COP(=O)(O)O)OC1n1cc(C)c(=O)[nH]c1=O'), ('DB04373', 'Cc1cccc(C)c1OCC(=O)NC(Cc1ccccc1)C(O)CC(CC(C)C)NC(=O)c1cccc(N)c1'), ('DB07643', 'Nc1nc(N)c2c(OCC3CCN(Cc4cccc(Cl)c4Cl)CC3)cccc2n1'), ('DB01856', 'O=C(O)CCCCCC(=O)O'), ('DB01240', 'CCCCCC(O)C=CC1C(O)CC2OC(=CCCCC(=O)O)CC21'), ('DB03108', 'O=C(O)C(O)C(O)COP(=O)(O)O'), ('DB03798', 'Nc1ccn(C2CC(O)C(COP(=O)(O)O)O2)c(=O)n1'), ('DB01950', 'COc1ccc(CNC(=O)Nc2ncc([N+](=O)[O-])s2)cc1'), ('DB05630', 'O.O.O.O.O.O.O.O.O.O=C([O-])C1O[Sb]2([O-])(O[Sb]34(O)OC(C(=O)[O-])C(O3)C(C(O)CO)O4)OC(C(O)CO)C1O2.[Na+].[Na+].[Na+]'), ('DB07847', 'CC(C(=O)N1CCOCC1)N1CCC(NS(=O)(=O)c2ccc3cc(Cl)ccc3c2)C1=O'), ('DB00997', 'COc1cccc2c1C(=O)c1c(O)c3c(c(O)c1C2=O)CC(O)(C(=O)CO)CC3OC1CC(N)C(O)C(C)O1'), ('DB00633', 'Cc1cccc(C(C)c2c[nH]cn2)c1C'), ('DB08241', 'NC(=O)c1ccc(Nc2nc(OCC3CCCCC3)c3nc[nH]c3n2)cc1'), ('DB08651', 'Cc1cn(C2CC(S)C(COP(=O)(O)O)O2)c(=O)[nH]c1=O'), ('DB04296', 'CC(=O)CCC(N)C(=O)O'), ('DB00236', 'O=C(CCBr)N1CCN(C(=O)CCBr)CC1'), ('DB04584', 'NC(=Cc1ccccc1)C(=O)O'), ('DB01254', 'Cc1nc(Nc2ncc(C(=O)Nc3c(C)cccc3Cl)s2)cc(N2CCN(CCO)CC2)n1'), ('DB08412', 'O=C(O)CCCCCNC(=O)CCCP(=O)(O)Oc1ccc([N+](=O)[O-])cc1'), ('DB03228', 'NC(=O)c1cc(N(CCCl)CCCl)c([N+](=O)[O-])cc1[N+](=O)[O-]'), ('DB07936', 'Cc1ncc(-c2nc(Nc3ccc(C(=O)N4CCC(N(C)C)C4)cc3)ncc2F)n1C(C)C'), ('DB01053', 'CC1(C)SC2C(NC(=O)Cc3ccccc3)C(=O)N2C1C(=O)O'), ('DB08021', 'C#CCN1CCN(c2c(Cl)cccc2NC(=O)c2ccc(Br)o2)CC1'), ('DB07374', 'COc1ccc(CC2NCC(O)C2OC(C)=O)cc1'), ('DB03175', 'CCCO'), ('DB08434', 'CNC(=O)C1C(C(=O)O)C1c1ccc(OP(=O)(O)O)cc1'), ('DB02735', 'NC(C(=O)O)C(=O)OS(=O)(=O)O'), ('DB06144', 'O=C1NCCN1CCN1CCC(c2cn(-c3ccc(F)cc3)c3ccc(Cl)cc23)CC1'), ('DB03170', 'CC(C)(COP(=O)(O)OP(=O)(O)OCC1OC(n2cnc3c(N)ncnc32)C(O)C1O)C(O)C(=O)NCCC(=O)NCCS'), ('DB05384', 'C=CC(=O)O'), ('DB03127', 'NC(=[NH2+])c1ccccc1'), ('DB04464', 'CSCCC(NC=O)C(=O)O'), ('DB07030', 'O=C(O)COc1cc(Cl)ccc1C(=O)NCc1cccc([N+](=O)[O-])c1'), ('DB04293', 'NC(C(=O)NC1C(=O)N2C(C(=O)O)=C(Cl)CCC12)c1ccccc1'), ('DB01429', 'CCN(CC)CCCN(c1ccccc1)C1Cc2ccccc2C1'), ('DB08065', 'c1ccc2[nH]c(-c3cc[nH]n3)nc2c1'), ('DB03080', 'COC1C=CC=C(C)C(=O)NC2=CC(=O)C(NCCN(C)C)=C(CC(C)CC(OC)C(O)C(C)C=C(C)C1OC(N)=O)C2=O'), ('DB08217', 'CC1(C)C=C(CS)C(C)(C)N1O'), ('DB03564', 'CC(O)CC(C)(C)O'), ('DB05154', 'O=[N+]([O-])c1cn2c(n1)OCC(OCc1ccc(OC(F)(F)F)cc1)C2'), ('DB07721', 'CCOP(=O)(OCC)Oc1ccc(OC)cc1'), ('DB06897', 'CC(Nc1cc2c(-c3cc(Cl)cc(CCCO)c3)noc2cn1)c1ccccc1'), ('DB08284', 'O=C1c2ccccc2C(=O)N1CCOC(=S)Nc1ccc(I)cc1'), ('DB05800', 'NCCC(=O)NCCSSCCNC(=O)CCN'), ('DB02830', 'NC(=O)c1cn(C(CO)CCn2ccc3ccc(NC(=O)NCc4ccccc4)cc32)cn1'), ('DB07794', 'Nc1n[nH]c2nnc(-c3c(-c4ccccc4)nn4ccccc34)cc12'), ('DB08330', 'COC=C(C(=O)OC)c1ccccc1C=Cc1ccccc1'), ('DB07375', 'CC12CCC3C(CCC4CC(=O)CCC43C)C1CCC2=O'), ('DB07176', 'Nc1cccc2c(S(=O)(=O)O)cccc12'), ('DB00558', 'CC(=O)NC1C(N=C(N)N)C=C(C(=O)O)OC1C(O)C(O)CO'), ('DB02138', 'CCOP(=O)(Cc1ccc(C)cc1)OCC'), ('DB00365', 'Cc1c(F)c(N2CCNC(C)C2)cc2c1c(=O)c(C(=O)O)cn2C1CC1'), ('DB04637', 'OCCCCCCBr'), ('DB09286', 'NC(=O)C1(N2CCCCC2)CCN(CCCC(=O)c2ccc(F)cc2)CC1'), ('DB01459', 'CCC(=O)n1c(=O)n(C2CCN(CCC(C#N)(c3ccccc3)c3ccccc3)CC2)c2ccccc21'), ('DB07872', 'O=C(CN1CCC(NC(=O)c2ccc(Cl)s2)C1)Nc1ccc(-n2ccccc2=O)cc1F'), ('DB03575', 'c1ccc(C2(N3CCCCC3)CCCCC2)cc1'), ('DB04453', 'CC1OC(OC2C(CO)OC(O)C(O)C2O)C(O)C(O)C1NC1C=C(CO)C(OC2OC(CO)C(OC3OC(CO)C(O)C(O)C3O)C(O)C2O)C(O)C1O'), ('DB09139', 'O=P(O)(O)C(O)P(=O)(O)O.[Tc]'), ('DB03067', 'O=C(Nc1ccc(Oc2ccc(C(=O)O)c(C(=O)O)c2)c(NC(=O)c2cccc([N+](=O)[O-])c2)c1)c1cccc([N+](=O)[O-])c1'), ('DB03873', 'CC1(C)C=CC(C)(C)c2cc(NC(=O)c3ccc(C(=O)O)cc3)ccc21'), ('DB02146', 'CCNc1nc(NC(C)C)nc(SCC(NC(=O)CCC(N)C(=O)O)C(=O)NCC(=O)O)n1'), ('DB02555', 'CC(=O)Nc1ccc(COc2ccc(-c3cc(C4CCN(C(=O)CNC(=O)C(CC(C)C)N=C(N)N)CC4)n(C)n3)c(Cl)c2Cl)cc1'), ('DB07732', 'O=P(O)(O)OCCNS(=O)(=O)c1ccc2ccccc2c1'), ('DB02210', 'OCCCCCCO'), ('DB09275', 'O=C([O-])CC(O)(CC(=O)O)C(=O)O.O=C([O-])CC(O)(CC(=O)O)C(=O)O.[BiH6+3].[K+].[K+].[K+]'), ('DB00202', 'C[N+](C)(C)CCOC(=O)CCC(=O)OCC[N+](C)(C)C'), ('DB00483', 'CC[N+](CC)(CC)CCOc1cccc(OCC[N+](CC)(CC)CC)c1OCC[N+](CC)(CC)CC.[I-].[I-].[I-]'), ('DB08031', 'CC(C)(NC(=O)c1ccc2c(C3CCCCC3)c3n(c2c1)CCOc1ccccc1-3)C(=O)O'), ('DB04788', 'CC(=O)OC1C(N)C(OP(=O)(O)O)C2(C(=O)O)CSC(O)(C(N)=O)C1O2'), ('DB04333', 'NCCCCCCCCN'), ('DB01870', 'OCC1OC(S)C(O)C(O)C1S'), ('DB00427', 'Cc1ccc(C(=CCN2CCCC2)c2ccccn2)cc1'), ('DB03607', 'CC(=O)NC(Cc1ccc(Cl)cc1)[B-](O)(O)OCC(N)C(=O)O'), ('DB06940', 'CCNC(=O)c1cn2ncnc(Nc3cc(C(=O)NOC)ccc3C)c2c1C'), ('DB04501', 'CC12CCC(CC1)C2(C)C'), ('DB04302', 'C=CC(C)=CC1(C)SC(=O)C(C)=C1O'), ('DB08165', 'NS(=O)(=O)c1ccc2c(c1)CCC2'), ('DB00276', 'COc1cc(NS(C)(=O)=O)ccc1Nc1c2ccccc2nc2ccccc12'), ('DB03426', 'CCCCCCCCCCCCCCCCCC(=O)OCC(COC1OC(COC2OC(CO)C(O)C(O)C2O)C(O)C(O)C1O)OC(=O)CCCCCCCCCCCCCCCCC'), ('DB01600', 'CC(C(=O)O)c1ccc(C(=O)c2ccccc2)s1'), ('DB08946', 'CCC(Cc1c(I)cc(I)c(N)c1I)C(=O)O'), ('DB03697', 'NCCCCNC(=O)c1ccc(S(N)(=O)=O)cc1'), ('DB02513', 'Cc1ccc(C(C)C)c(O)c1'), ('DB03221', 'CNC1CN(c2cccc(OC)c2)S(=O)(=O)c2sc(S(N)(=O)=O)cc21'), ('DB06401', 'Cc1c(-c2ccc(O)cc2)n(Cc2ccc(OCCN3CCCCCC3)cc2)c2ccc(O)cc12'), ('DB02321', 'NC(CCSCC1OC(O)C(O)C1O)C(=O)O'), ('DB04221', 'CCCCCCCCCC[N+](C)(C)CCCCCCCCCC'), ('DB07096', 'Nc1ccc2c3c(cccc13)C(=O)NC2=O'), ('DB03710', 'CCCC(=[NH2+])NCCCC(N)C(=O)O'), ('DB02035', 'CCCCCCCCCCCCCCCCS(=O)(=O)F'), ('DB00607', 'CCOc1ccc2ccccc2c1C(=O)NC1C(=O)N2C1SC(C)(C)C2C(=O)O'), ('DB08743', 'Cn1c(=O)c2c(nc(N3CCCC(N)C3)n2Cc2ccccc2C#N)n(C)c1=O'), ('DB04648', 'NCCCSCC(N)CO'), ('DB07079', 'CC#CCOc1ccc(S(=O)(=O)CCCS)cc1'), ('DB03073', 'COc1cccc(C(N)=O)c1'), ('DB04605', 'Nc1cccc2cnccc12'), ('DB09351', 'CC(C)NCC(O)COc1ccc(CCOCC2CC2)cc1'), ('DB06219', 'CNC1C(=O)NC2Cc3ccc(cc3)Oc3cc4cc(c3OC3OC(C(=O)O)C(O)C(O)C3NC(=O)CCCCCCCCC(C)C)Oc3ccc(cc3Cl)C(O)C3NC(=O)C(NC(=O)C4NC(=O)C(NC2=O)c2cc(cc(O)c2Cl)Oc2cc1ccc2O)c1ccc(O)c(c1)-c1c(OC2OC(CO)C(O)C(O)C2O)cc(O)cc1C(C(=O)NCCCN(C)C)NC3=O'), ('DB01424', 'Cc1c(N(C)C)c(=O)n(-c2ccccc2)n1C'), ('DB00384', 'Nc1nc(N)c2nc(-c3ccccc3)c(N)nc2n1'), ('DB02034', 'OC1CN2CCCC(O)C2C1O'), ('DB03755', 'Nc1ncnc2c1ncn2C1OC(COP(=O)(O)OP(=O)(O)CP(=O)(O)OP(=O)(O)O)C(O)C1O'), ('DB09209', 'CN1CCC23c4c5ccc(OCCN6CCOCC6)c4OC2C(O)C=CC3C1C5'), ('DB02093', 'O=C(NO)C(O)C(O)C(O)COP(=O)(O)O'), ('DB03466', 'CC1(C)CCC(C)(C)c2cc(C(O)c3ccc4cc(C(=O)O)ccc4c3)ccc21'), ('DB02198', 'O=C(O)CBr'), ('DB07801', 'CCCCNC(=O)c1cccc(NC(=O)CCCCCNc2ncnc3[nH]cnc23)c1'), ('DB02104', 'COc1cc(N(C)Cc2cnc3nc(N)nc(N)c3c2C)cc(OC)c1OC'), ('DB01760', 'COc1nccnc1C(C)C'), ('DB03699', 'CC(C)(COP(=O)(O)OP(=O)(O)OCC1OC(n2cnc3c(N)ncnc32)C(O)C1OP(=O)(O)O)C(O)C(=O)NCCC(=O)NCCSC(=O)CCC(=O)O'), ('DB02175', 'O=C(O)CC(=O)O'), ('DB00546', 'CN(C)Cc1nnc2n1-c1ccc(Cl)cc1C(c1ccccc1)=NC2'), ('DB07573', 'Cc1ccc(C)c(OCC(O)CN2CCOCC2)c1'), ('DB07530', 'CC1(CCC#CC(O)(C(F)(F)F)C(F)(F)F)CCC(C=CC=C2CC(O)CC(O)C2)C1(C)C'), ('DB07020', 'O=C(Nc1cccc(-c2n[nH]c3ccc(-c4nc[nH]n4)cc23)c1)c1ccco1'), ('DB00759', 'CN(C)C1C(O)=C(C(N)=O)C(=O)C2(O)C(O)=C3C(=O)c4c(O)cccc4C(C)(O)C3CC12'), ('DB03542', 'O=P([O-])([O-])OC1C(O)C(O)C(O)C(O)C1O'), ('DB00555', 'Nc1nnc(-c2cccc(Cl)c2Cl)c(N)n1'), ('DB07805', 'CC(C)(CCl)C(=O)Nc1ccc(C(F)(F)F)cc1'), ('DB07763', 'CC1(c2ccc(F)cc2F)OC(=O)N(Nc2ccccc2)C1=O'), ('DB06715', '[I-].[K+]'), ('DB07881', 'O=C(O)CCCC(=O)NC(Cc1ccccc1)P(=O)(O)OCC(=O)NCCc1ccccc1'), ('DB02711', 'O=c1[nH]c(=O)c2c([nH]1)n(CC(O)C(O)C(O)CO)c(=O)n2CCCCOP(=O)(O)O'), ('DB07706', 'CC12CCC3c4cc(O)c(O)cc4CCC3C1CCC2O'), ('DB07444', 'Cc1ccc2c(c1)c1c3c(c(C)cc1n2CCCN)C(=O)NC3=O'), ('DB00438', 'CC(C)(ON=C(C(=O)NC1C(=O)N2C(C(=O)[O-])=C(C[n+]3ccccc3)CSC12)c1csc(N)n1)C(=O)O'), ('DB01367', 'C#CCNC1CCc2ccccc21'), ('DB07902', 'CC(C)(C)OC(=O)Nc1cccnc1C(=O)Nc1nccs1'), ('DB06957', 'CS(=O)(=O)c1ccc(CN2CCN(c3cn[nH]c3-c3cc(Cl)c(O)cc3O)CC2)cc1'), ('DB01164', '[Ca+2].[Cl-].[Cl-]'), ('DB02397', 'CC(=O)NC1C(OCC(N)C(=O)O)OC(CO)C(O)C1O'), ('DB07059', 'CCc1nc(N)nc(N)c1-c1ccc2c(c1)N(CCNC(C)=O)C(=O)C(C)(C)O2'), ('DB05868', 'COc1ccc2c(OC3CC4C(=O)NC5(C(=O)O)CC5C=CCCCCCC(NC(=O)OC5CCCC5)C(=O)N4C3)cc(-c3csc(NC(C)C)n3)nc2c1'), ('DB02720', 'NC(=O)C1OC(CO)C(O)C(O)C1O'), ('DB06709', 'CC(=O)OC(C)C[N+](C)(C)C'), ('DB00597', 'CC(O)CN1CCN(CC(=O)[O-])CCN(CC(=O)[O-])CCN(CC(=O)[O-])CC1.[Gd+3]'), ('DB03752', 'CC(C(=O)O)c1ccc(C(=O)c2ccc(I)s2)cc1'), ('DB02327', 'OCCOCCOCCO'), ('DB08463', 'CCC(CO)Nc1nc(NCc2ccc(-c3ccccn3)cc2)c2ncn(C(C)C)c2n1'), ('DB06203', 'Cn1c(=O)cc(N2CCCC(N)C2)n(Cc2ccccc2C#N)c1=O'), ('DB02903', 'NC(COC(=O)NCCNc1c(NCCCN2CCN(CCCNC(=O)c3cc(OC4OC(CO)C(O)C(O)C4O)cc([N+](=O)[O-])c3)CC2)c(=O)c1=O)COC(=O)NCCNc1c(NCCCN2CCN(CCCNC(=O)c3cc(OC4OC(CO)C(O)C(O)C4O)cc([N+](=O)[O-])c3)CC2)c(=O)c1=O'), ('DB07032', 'Oc1ccc(-c2cc3cc(O)ccc3o2)cc1'), ('DB08516', 'CC(N=Cc1ccc(OCc2cccc(F)c2)cc1)C(N)=O'), ('DB00915', 'NC12CC3CC(CC(C3)C1)C2'), ('DB02435', '[NH3+]CC1CCCCC1'), ('DB01082', 'CNC1C(OC2C(OC3C(O)C(O)C(NC(=N)N)C(O)C3NC(=N)N)OC(C)C2(O)C=O)OC(CO)C(O)C1O'), ('DB04753', 'O=c1nc[nH]c2c(C3OC(CO)C4OC(CP(=O)(O)O)OC34)c[nH]c12'), ('DB08666', 'N=C1N=NC(N)=C1N=Nc1cccc(C(F)(F)F)c1'), ('DB07924', 'CCCCCCCCOC1OC(CO)C(O)C(O)C1O'), ('DB04733', 'O=P(O)(O)OCC(O)C(O)C(O)C(O)COP(=O)(O)O'), ('DB08504', 'CN(C)C(=O)C(c1ccc(-c2ccc3ncnn3c2)cc1)C(N)C(=O)N1CCC(F)C1'), ('DB01463', 'CCNC1C2CCC(C2)C1c1ccccc1'), ('DB06218', 'COCC(NC(C)=O)C(=O)NCc1ccccc1'), ('DB05340', 'CC12C=CC(=O)C=C1CCC1C2C(O)CC2(C)C1CCC2(O)C(=O)COC(=O)c1cccc(S(=O)(=O)[O-])c1.[Na+]'), ('DB03967', 'CCCCCCCCCCCCOS(=O)(=O)O'), ('DB02749', 'O=C(O)c1cc(C(=O)O)c(C(=O)O)cc1C(=O)O'), ('DB02240', 'COc1ccc2[nH]c3cc(Cl)ccc3c(=NC(C)CCCN(CCCl)CCCl)c2c1'), ('DB09217', 'CC1(C)OC(=O)C(OCC2CC2)=C1c1ccc(S(C)(=O)=O)cc1'), ('DB06992', 'Cc1ccc(-c2cccc(C(=O)N3CCCC(C)(C)C3)n2)cc1F'), ('DB04242', 'O=C(O)c1ccc(O)cc1'), ('DB02060', 'O=C1CCCCC1'), ('DB02140', 'CN(C)C(=O)C(Cc1ccccc1)NC(=O)C(=O)CC(=O)NCCc1ccccn1'), ('DB02797', 'O=[N+]([O-])c1cccc(B(O)O)c1'), ('DB07363', 'Cc1ccc(CNS(=O)(=O)c2ccc(S(N)(=O)=O)s2)cc1'), ('DB04604', 'Nc1ncnc2c1c(I)cn2C1OC(CO)C(O)C1O'), ('DB04793', 'N=C(N)c1ccc(OC2COC3C(Oc4cccc(C(=N)N)c4)COC23)cc1'), ('DB02039', 'CC(=O)SCC(N)C(=O)O'), ('DB04324', 'COC1C(=O)CCC(C)(O)C1(O)C1(C)OC1CC=C(C)C'), ('DB06727', 'C1CCN2CC3CC(CN4CCCCC34)C2C1'), ('DB04391', 'CCC(C)C(NC(=O)C(O)Cc1ccc(O)cc1)C(=O)N1C(C(=O)NCCCCNC(=N)N)CC2CCC(OS(=O)(=O)O)CC21'), ('DB00308', 'CCCCCCCN(CC)CCCC(O)c1ccc(NS(C)(=O)=O)cc1'), ('DB03405', 'CC(C)CC(NC(=O)OCc1ccccc1)C(=O)NC1CN(C(=O)C(CC(C)C)NC(=O)OCc2ccccc2)CC1=O'), ('DB02755', 'O=P(O)(O)OCC1OC(OC2C(O)C(CO)OC(OC3C(O)C(O)OC(CO)C3O)C2O)C(O)C(O)C1O'), ('DB03993', 'CC(C)CCC(=O)O'), ('DB02894', 'CC1(C)OC2C3OS(=O)(=O)OC3COC2(COS(N)(=O)=O)O1'), ('DB00825', 'CC1CCC(C(C)C)C(O)C1'), ('DB04654', 'O=CCCCC1CCNCC1'), ('DB00683', 'Cc1ncc2n1-c1ccc(Cl)cc1C(c1ccccc1F)=NC2'), ('DB08094', 'COc1ccc(F)c(F)c1C(=O)c1cnc(NC2CCN(S(C)(=O)=O)CC2)nc1N'), ('DB08555', 'COc1cc2c(cc1Cl)C(c1cccc(Br)c1)=NCC2'), ('DB03546', 'NC1NC(=O)C(CCCC(c2ccc(C(=O)NC(CCC(=O)O)C(=O)O)cc2)C(O)(O)C(F)(F)F)C(N)N1'), ('DB04417', 'O=[N+]([O-])c1ccc(O)cc1'), ('DB00375', 'ClCC1CO1.NCCNCCNCCNCCN'), ('DB00769', 'CCN(CC)CC(=O)OCC(=O)C1(O)CCC2C3CCC4=CC(=O)CCC4(C)C3C(O)CC21C'), ('DB01992', 'CC(C)(COP(=O)(O)OP(=O)(O)OCC1OC(n2cnc3c(N)ncnc32)C(O)C1OP(=O)(O)O)C(O)C(=O)NCCC(=O)NCCS'), ('DB01249', 'CC(=O)N(CC(O)CN(C(C)=O)c1c(I)c(C(=O)NCC(O)CO)c(I)c(C(=O)NCC(O)CO)c1I)c1c(I)c(C(=O)NCC(O)CO)c(I)c(C(=O)NCC(O)CO)c1I'), ('DB04462', 'Brc1c(Br)c(Br)c2n[nH]nc2c1Br'), ('DB01284', 'CSCCC(NC(=O)C(CO)NC(=O)C(Cc1ccc(O)cc1)NC(=O)C(N)CO)C(=O)NC(CCC(=O)O)C(=O)NC(Cc1cnc[nH]1)C(=O)NC(Cc1ccccc1)C(=O)NC(CCCNC(=N)N)C(=O)NC(Cc1c[nH]c2ccccc12)C(=O)NCC(=O)NC(CCCCN)C(=O)N1CCCC1C(=O)NC(C(=O)NCC(=O)NC(CCCCN)C(=O)NC(CCCCN)C(=O)NC(CCCNC(=N)N)C(=O)NC(CCCNC(=N)N)C(=O)N1CCCC1C(=O)NC(C(=O)NC(CCCCN)C(=O)NC(C(=O)NC(Cc1ccc(O)cc1)C(=O)N1CCCC1C(=O)O)C(C)C)C(C)C)C(C)C'), ('DB03257', 'COC(=O)C1CC(C(=O)O)OC1C(CC(C)C)NC(C)=O'), ('DB07624', 'CC1CN(CC2(C(N)=O)CC2)CCN1S(=O)(=O)c1ccc(C(C)(O)C(F)(F)F)cc1'), ('DB08367', 'CCCCC(=O)OCC(COP(=O)(O)O)OC=O'), ('DB03842', 'C=C1C=CC=C(C)C1N'), ('DB08001', 'COC(=O)c1c(O)cccc1OCC=Cc1cccc(-c2onc(C(=O)O)c2CO)c1'), ('DB03592', 'Nc1nc2ncc(COP(=O)(O)O)nc2c(=O)[nH]1'), ('DB08740', 'CC(C)CC(O)C(O)C(N)CC1CCCCC1'), ('DB02419', 'CCOC(=O)C(=O)N1CCCCC1'), ('DB07131', 'N=C(N)c1ccc(CNC(=O)C2CCCN2C(=O)CCC2CCCCC2)cc1'), ('DB07470', 'O=C1c2ccccc2N=C2N(c3ccccc3)CCC12O'), ('DB04003', 'CC(=O)NC(Cc1ccc(OCC(=O)O)c(P(=O)(O)O)c1)C(=O)NC(C)c1ccc(OCC2CCCCC2)c(C(N)=O)c1'), ('DB06733', 'COC1=CC(C)=CC(C)C(O)C(C)CC(C)=CC=CC(OC)C(C(C)C(O)C(C)C2(O)CC(O)C(C)C(C(C)C)O2)OC1=O'), ('DB03623', 'Oc1ccc(-c2cnc3ccc4ccncc4c3c2)cc1'), ('DB00906', 'Cc1ccsc1C(=CCCN1CCCC(C(=O)O)C1)c1sccc1C'), ('DB02596', 'Nc1ncnc2c1ncn2C1OC(COP(=O)(O)CP(=O)(O)OP(=O)(O)O)C(O)C1O'), ('DB08143', 'O=C(CN1CC(F)C(NC(=O)c2ccc(Cl)s2)C1)Nc1ccc(-n2ccccc2=O)cc1F'), ('DB04531', 'NC(CSCc1ccccc1)C(=O)O'), ('DB03950', 'CC(CNC(=O)c1ccc(S(N)(=O)=O)cc1)Cn1ccc2ccccc21'), ('DB07729', 'O=C(Nc1cccc(-c2nnn[nH]2)c1)c1cccc(F)c1'), ('DB06736', 'O=C(O)COC(=O)Cc1ccccc1Nc1c(Cl)cccc1Cl'), ('DB03512', 'O=c1ccn(C2OC(CO)C3O[V](=O)(O)(O)OC32)c(=O)[nH]1'), ('DB03718', 'O=c1cnn(C2OC(COP(=O)(O)O)C(O)C2O)c(=O)[nH]1'), ('DB01688', 'Cc1ccc(O)cc1'), ('DB08970', 'C=C1CC2C3CCC4=CC(=O)C=CC4(C)C3(F)C(O)CC2(C)C1(O)C(=O)CO'), ('DB02829', 'CC(=O)Nc1ccc(C(=O)O)cc1NC(=O)C[NH3+]'), ('DB02510', 'Nc1ncnc2c1ncn2C1OC(COS(=O)(=O)NC(=O)C2CCCN2)C(O)C1O'), ('DB00346', 'COc1cc2nc(N(C)CCCNC(=O)C3CCCO3)nc(N)c2cc1OC'), ('DB04065', 'O=CN(C1CCCC1)C1CCC1'), ('DB09490', 'Cl[In](Cl)Cl'), ('DB03116', 'CC(OC1CC(C(=O)O)=CC(OP(=O)(O)O)C1O)(OP(=O)(O)O)C(=O)O'), ('DB04068', 'O=c1ccn(C2CC(F)C(COP(=O)(O)OP(=O)(O)O)O2)c(=O)[nH]1'), ('DB04125', 'CC(=O)N1CCN(C(=O)C(Cc2cccc(C(=N)N)c2)NS(=O)(=O)c2ccc3ccccc3c2)CC1'), ('DB04722', 'CC(NC(=O)Cc1c(Cl)ccc(NCC(F)(F)c2cccc[n+]2[O-])[n+]1[O-])c1cccc(Cl)c1'), ('DB01817', 'CC(OC(O)CC(N)C(=O)O)C(N)C(=O)O'), ('DB07171', 'OCCCCC(CCO)CCCCO'), ('DB03514', 'C=Cc1ccc(O)c(OC)c1'), ('DB07949', 'O=C(O)CON=C1C2=CC=CCC2=NC1=C1C(=O)N=C2CC=CC=C21'), ('DB06764', 'c1ccc2c(c1)CCCC2C1=NCCN1'), ('DB09097', 'CCCN1CC(NS(=O)(=O)N(CC)CC)CC2Cc3c(O)cccc3CC21'), ('DB01941', 'Cc1cc2c(cc1C1(c3ccc(C(=O)O)cn3)CC1)C(C)(C)CCC2(C)C'), ('DB01136', 'COc1ccccc1OCCNCC(O)COc1cccc2[nH]c3ccccc3c12'), ('DB05318', 'COc1cc(CNC(=O)CCCCC=CC(C)C)ccc1O'), ('DB05426', 'COC(=O)C(Cc1ccc(O)cc1)NC(=O)CNC(=O)C(CO)NC(=O)CNC(=O)C(CC(C)C)NC(=O)C(N)Cc1ccc(O)cc1'), ('DB03669', 'OCCc1ccc(F)cc1'), ('DB07277', 'CC(C(=O)N1CCOCC1)N1CCC(NS(=O)(=O)CCc2ccc(Cl)s2)C1=O'), ('DB06854', 'N=C(N)c1ccc2[nH]c(-c3cccc(-c4ccccc4)c3O)nc2c1'), ('DB01960', 'CN1CN(C2OC(COP(=O)(O)OP(=O)(O)O)C(O)C2O)c2nc(N)[nH]c(=O)c21'), ('DB04707', 'O=S(=O)(c1cccc2c(O)nccc12)N1CCCNCC1'), ('DB07403', 'CN(C)C(=O)c1ccc(S(=O)(=O)c2ccc(NC(=O)C(C)(O)C(F)(F)F)c(Cl)c2)cc1'), ('DB08528', 'Cc1cc(C)cc(S(=O)(=O)c2cccc(N)c2C#N)c1'), ('DB01273', 'c1cnc2cc3c(cc2n1)C1CNCC3C1'), ('DB07117', 'O=C1NC(=O)C(c2ccc(Oc3ccccc3)cc2)(N2CCN(c3ncccn3)CC2)C(=O)N1'), ('DB04806', 'OCC1OC(Oc2c[nH]c3ccc(Br)c(Cl)c23)C(O)C(O)C1O'), ('DB04952', 'CC(C)CC=CC=CC(=O)NC(CC(N)=O)C(=O)NC1C(=O)NC(c2ccc(O)cc2)C(=O)NC(CCCN)C(=O)NC(C(C)O)C(=O)NC(c2ccc(O)cc2)C(=O)NC(c2ccc(O)cc2)C(=O)NC(C(C)O)C(=O)NC(Cc2ccccc2)C(=O)NC(CCCN)C(=O)NC(c2ccc(OC3OC(CO)C(O)C(O)C3OC3OC(CO)C(O)C(O)C3O)cc2)C(=O)NC(C(C)O)C(=O)NC(c2ccc(O)cc2)C(=O)NCC(=O)NC(CC(C)C)C(=O)NC(C)C(=O)NC(c2ccc(O)c(Cl)c2)C(=O)OC1C(N)=O'), ('DB01099', 'Nc1[nH]c(=O)ncc1F'), ('DB02895', 'C=CCS(=O)CC=CS'), ('DB08649', 'NC(O)Cc1c[nH]c2ccccc12'), ('DB00318', 'COc1ccc2c3c1OC1C(O)C=CC4C(C2)N(C)CCC341'), ('DB07428', 'COc1ccc(C)c(OCc2ccncc2)c1'), ('DB04297', 'CC(C=CC(=O)NO)=CC(C)C(=O)c1ccc(N(C)C)cc1'), ('DB01889', 'CC12C=CCC1C1CCC3CC(O)CCC3(C)C1CC2'), ('DB00443', 'CC1CC2C3CCC4=CC(=O)C=CC4(C)C3(F)C(O)CC2(C)C1(O)C(=O)CO'), ('DB04051', 'O=C(O)CCCCc1ccccc1'), ('DB01638', 'OCC(O)C(O)C(O)C(O)CO'), ('DB08401', 'O=C(O)CCC(=NOCC(NC(=O)COc1ccccc1)C(=O)O)C(=O)O'), ('DB09142', 'CSCCC(NC(=O)C(Cc1ccc(OS(=O)(=O)O)cc1)NC(=O)C(N)CC(=O)O)C(=O)NCC(=O)NC(Cc1c[nH]c2ccccc12)C(=O)NC(CCSC)C(=O)NC(CC(=O)O)C(=O)NC(Cc1ccccc1)C(N)=O'), ('DB02766', 'N#[N+]CC(=O)C(Cc1ccccc1)NC(=O)OCc1ccccc1'), ('DB01877', 'CONC1CC(C(=O)NO)N(S(=O)(=O)c2ccc(OC)cc2)C1'), ('DB08249', 'CCCCCCCCOCCOCCOCCOCCOCCO'), ('DB09120', 'COc1cc(CNC(=O)CCCCC=CC(C)C)ccc1O'), ('DB00317', 'COc1cc2ncnc(Nc3ccc(F)c(Cl)c3)c2cc1OCCCN1CCOCC1'), ('DB08387', 'Cn1cc(-c2ccncc2)c(-c2ccc(OCc3ccc4ccccc4n3)cc2)n1'), ('DB02892', 'C=C(CCCC(N)C(=O)O)C(=O)O'), ('DB01938', 'NC(Cc1cnc[nH]1)C(=O)Nc1ccc2ccccc2c1'), ('DB03214', 'C=CC(N)C(=O)O'), ('DB08492', 'CCCCCCC#Cc1ccccc1C=CC(=O)O'), ('DB09095', 'CC1CC2C3CC(F)C4=CC(=O)C=CC4(C)C3(F)C(O)CC2(C)C1C(=O)CO'), ('DB05013', 'CC=C(C)C(=O)OC1C(C)=CC23C(=O)C(C=C(CO)C(O)C12O)C1C(CC3C)C1(C)C'), ('DB08913', 'Cl[Ra]Cl'), ('DB08222', 'CCCCCCCCCCCP(=O)(O)OC'), ('DB03799', 'NC(CCSC(F)(F)F)C(=O)O'), ('DB07845', 'COc1cc(CS(C)(=O)=O)ccc1Nc1nc(Nc2cccc(F)c2C(N)=O)c2cc[nH]c2n1'), ('DB07181', 'NC(=O)c1cccc(-c2ccc(C(N)Cc3cc(F)ccc3F)cc2)c1'), ('DB01667', 'Nc1nc(O)c2[nH]nnc2n1'), ('DB02529', 'CCN(CC)C(=O)C1OC(C(=O)O)CC(N)C1NC(C)=O'), ('DB03856', 'NCCCC(N)(C(=O)O)C(F)F'), ('DB03682', 'O=C(O)c1cccc2c1oc1c(C(=O)O)cccc12'), ('DB00195', 'CC(C)NCC(O)COc1ccc(CCOCC2CC2)cc1'), ('DB01834', 'NC(CCC(=O)NC(CSC1c2ccccc2-c2ccccc2C1O)C(=O)NCC(=O)O)C(=O)O'), ('DB08053', 'COc1ccc(-c2nn(C3CCC3)c3ncnc(N)c23)cc1OC'), ('DB04431', 'C[NH2+]C(CC(C)C)C(=O)NC1C(=O)NC(CC(N)=O)C(=O)NC2C(=O)NC3C(=O)NC(C(=O)NC(C(=O)O)c4cc(O)cc(O)c4-c4cc3ccc4O)C(OC3CC(C)([NH3+])C(O)C(C)O3)c3ccc(c(Cl)c3)Oc3cc2cc(c3OC2OC(CO)C(O)C(O)C2OC2CC(C)([NH3+])C(O)C(C)O2)Oc2ccc(cc2Cl)C1O'), ('DB06932', 'COc1cc2ncc3c(N)nc4c(C)c(N)ccc4c3c2cc1OC'), ('DB07029', 'Cc1cc(Oc2ccc3c(c2)OCO3)nc(Oc2ccc(-n3ccnc3)cc2)n1'), ('DB06206', 'O=C(O)CCSCC1OC2OC3C(CSCCC(=O)O)OC(OC4C(CSCCC(=O)O)OC(OC5C(CSCCC(=O)O)OC(OC6C(CSCCC(=O)O)OC(OC7C(CSCCC(=O)O)OC(OC8C(CSCCC(=O)O)OC(OC9C(CSCCC(=O)O)OC(OC1C(O)C2O)C(O)C9O)C(O)C8O)C(O)C7O)C(O)C6O)C(O)C5O)C(O)C4O)C(O)C3O'), ('DB02567', 'CSc1cccc(Nc2ncc3cc(-c4c(Cl)cccc4Cl)c(=O)n(C)c3n2)c1'), ('DB07050', 'NS(=O)(=O)c1nnc(NS(=O)(=O)c2ccccc2)s1'), ('DB03777', 'CN(C)CCCn1cc(C2=C(c3c[nH]c4ccccc34)C(=O)NC2=O)c2ccccc21'), ('DB07429', 'CCN(CC)S(=O)(=O)c1cc(C(=O)Nc2ccccc2C(=O)O)ccc1Br'), ('DB08538', 'CCc1cnn2c(NCc3cnc(N)nc3)cc(-c3c(F)cccc3F)nc12'), ('DB02313', 'CCOC(=O)CCC(CC1CCNC1=O)NC(=O)C(CC(=O)C(NC(=O)c1cc(C)on1)C(C)C)Cc1ccc(F)cc1'), ('DB04791', 'N=C(N)c1ccc(OC2COC3C(Oc4cccc(C(=N)N)c4)COC23)cc1'), ('DB04521', 'CCCCCC1OC(O)CC1SCC(NC(=O)CCC(N)C(=O)O)C(=O)NCC(=O)O'), ('DB01642', 'COC1OC(CO)C(O)C(O)C1O'), ('DB07784', 'CC(=O)Nc1ccc(N2C(=O)C3C4CCC(NC(=O)OCC(=O)O)(CC4)C3C2=O)cc1'), ('DB04365', 'COC(=O)C1=CCCN(C)C1'), ('DB07955', 'Nc1ccc(CC(=O)OCCBr)c(C=O)c1'), ('DB00372', 'CCSc1ccc2c(c1)N(CCCN1CCN(C)CC1)c1ccccc1S2'), ('DB07790', 'COCCNS(=O)(=O)c1ccc(Nc2nccc(-c3cnc(C)n3C(C)C)n2)cc1'), ('DB00714', 'CN1CCc2cccc3c2C1Cc1ccc(O)c(O)c1-3'), ('DB00933', 'CN1CCCCC1CCN1c2ccccc2Sc2ccc(S(C)=O)cc21'), ('DB01425', 'C=CCN1CCCC1CNC(=O)c1cc2n[nH]nc2cc1OC'), ('DB07742', 'NS(=O)(=O)c1ccc(C(=O)NCc2cccc(F)c2F)cc1'), ('DB04911', 'CNC(CC(C)C)C(=O)NC1C(=O)NC(CC(N)=O)C(=O)NC2C(=O)NC3C(=O)NC(C(=O)NC(C(=O)O)c4cc(O)cc(O)c4-c4cc3ccc4O)C(OC3CC(C)(N)C(O)C(C)O3)c3ccc(c(Cl)c3)Oc3cc2cc(c3OC2OC(CO)C(O)C(O)C2OC2CC(C)(NCc3ccc(-c4ccc(Cl)cc4)cc3)C(O)C(C)O2)Oc2ccc(cc2Cl)C1O'), ('DB00951', 'NNC(=O)c1ccncc1'), ('DB04437', 'NC(CSCC(=O)Nc1cc2cccnc2c2ncccc12)C(=O)O'), ('DB01049', 'CC1C(=O)N2CCCC2C2(O)OC(NC(=O)C3CC4c5cccc6[nH]cc(c56)CC4N(C)C3)(C(C)C)C(=O)N12.CS(=O)(=O)O'), ('DB02347', 'CC(C)(C)c1onc(OCP(=O)(O)O)c1CC(N)C(=O)O'), ('DB08648', 'O=C(O)C1CC2(C(=O)O)C=CC(O)C(C2)O1'), ('DB03337', 'N=C(N)c1ccc(NC(=O)Nc2ccc(Oc3ccccc3)cc2)cc1'), ('DB01499', 'CCC(=O)OC1(c2ccccc2)CCN(C)CC1CC'), ('DB07745', 'O=C(NCCOP(=O)(O)O)c1ccc(OC(F)(F)F)cc1'), ('DB08054', 'CC(C)n1nc(-c2ccc3ncccc3c2)c2c(N)ncnc21'), ('DB07434', 'CC(NC(=O)C(Cc1ccccc1)C(=O)NO)C(=O)NCC(=O)Nc1ccc([N+](=O)[O-])cc1'), ('DB03481', 'CC1Nc2nc(N)[nH]c(=O)c2N2CN(c3ccc(CC(O)C(O)C(O)COC4OC(COP(=O)(O)OC(CCC(=O)O)C(=O)O)C(O)C4O)cc3)C(C)C12'), ('DB04345', 'Cc1cc2nc3[nH]c(=O)[nH]c(=O)c3nc2cc1C'), ('DB09172', 'CCn1nnn(CCN2CCC(N(C(=O)COC)c3ccccc3F)C(C)C2)c1=O'), ('DB00934', 'CNCCCC12CCC(c3ccccc31)c1ccccc12'), ('DB07146', 'c1ccc(-c2oc3nccc(NCCN4CCNCC4)c3c2-c2ccccc2)cc1'), ('DB07243', 'CN1C2CCC1CC(OC(=O)c1c[nH]c3ncccc13)C2'), ('DB00878', 'N=C(NCCCCCCNC(=N)NC(=N)Nc1ccc(Cl)cc1)NC(=N)Nc1ccc(Cl)cc1'), ('DB00991', 'O=C(O)CCc1nc(-c2ccccc2)c(-c2ccccc2)o1'), ('DB00811', 'NC(=O)c1ncn(C2OC(CO)C(O)C2O)n1'), ('DB01159', 'FC(F)(F)C(Cl)Br'), ('DB08652', 'NC(=O)Cc1c[nH]c2ccccc12'), ('DB06210', 'CC1=NN(c2ccc(C)c(C)c2)C(=O)C1=NNc1cccc(-c2cccc(C(=O)O)c2)c1O'), ('DB01124', 'CCCCNC(=O)NS(=O)(=O)c1ccc(C)cc1'), ('DB07208', 'CCCCCC=CCC(O)C=CCC(=O)CCCCC(=O)O'), ('DB00758', 'COC(=O)C(c1ccccc1Cl)N1CCc2sccc2C1'), ('DB08359', 'CC(=O)c1sc(Nc2ccccc2)nc1C'), ('DB00413', 'CCCNC1CCc2nc(N)sc2C1'), ('DB01744', 'CC12CCC(CC1=O)C2(C)C'), ('DB03115', 'O=C(NOCC(O)CO)c1cc(Br)c(F)c(F)c1Nc1ccc(I)cc1F'), ('DB03854', 'NCCCCCN'), ('DB08459', 'N#Cc1cc(Cl)cc(Oc2cc(OCc3n[nH]c4ncccc34)ccc2Cl)c1'), ('DB04321', 'CCCCCCP(=O)(O)OCC'), ('DB00612', 'CC(C)NCC(O)COc1ccc(COCCOC(C)C)cc1'), ('DB03264', 'CCCCCCCCCCCC(=O)SCCNC(=O)CCNC(=O)C(O)C(C)(C)COP(=O)(O)OP(=O)(O)OCC1OC(n2cnc3c(N)ncnc32)C(O)C1OP(=O)(O)O'), ('DB08750', 'NCc1ccc(C(=O)N2CCC3(CC2)N=C(N)c2c(F)cccc2N3)cc1'), ('DB01014', 'O=C(O)CCNC(=O)c1ccc(N=Nc2ccc(O)c(C(=O)O)c2)cc1'), ('DB01597', 'CC1(C)CC1C(=O)NC(=CCCCCSCC(N)C(=O)O)C(=O)O'), ('DB00014', 'CC(C)CC(NC(=O)C(COC(C)(C)C)NC(=O)C(Cc1ccc(O)cc1)NC(=O)C(CO)NC(=O)C(Cc1c[nH]c2ccccc12)NC(=O)C(Cc1cnc[nH]1)NC(=O)C1CCC(=O)N1)C(=O)NC(CCCN=C(N)N)C(=O)N1CCCC1C(=O)NNC(N)=O'), ('DB03973', 'O=c1n(CC(O)C(O)C(O)CO)c2nc(O)nc(O)c2n1CCCOP(=O)(O)O'), ('DB07359', 'Cc1csc(NC(=O)c2nc(Sc3nncn3C)ccc2Sc2ccc(F)cc2)n1'), ('DB00727', 'O=[N+]([O-])OCC(CO[N+](=O)[O-])O[N+](=O)[O-]'), ('DB06809', 'c1cc(CN2CCCNCCNCCCNCC2)ccc1CN1CCCNCCNCCCNCC1'), ('DB04161', 'CCC(N)=O'), ('DB04882', 'O=C1c2c(c3c4ccc(O)cc4n(C4OC(CO)C(O)C(O)C4O)c3c3[nH]c4cc(O)ccc4c23)C(=O)N1NC(CO)CO'), ('DB09096', 'O=C(OOC(=O)c1ccccc1)c1ccccc1'), ('DB04736', 'CC(=O)NC1C(OC2C3COC(O3)C(NC(C)=O)C2OC(C)C(=O)NC(C)C(=O)NC(CCC(=O)NC(CCCC(N)C(=O)O)C(=O)NC(C)C(=O)O)C(=O)O)OC(CO)C(O)C1O'), ('DB02743', 'OCC1OC(OC2C(CO)OC(O)C(O)C2O)C(O)C(O)C1O'), ('DB08556', 'CC(=O)c1ccc(-c2cc(NS(=O)(=O)c3ccc(C)cc3C)c(C(=O)O)s2)s1'), ('DB02527', 'Nc1ncnc2c1ncn2C1OC2COP(=O)(O)OC2C1O'), ('DB00709', 'Nc1ccn(C2CSC(CO)O2)c(=O)n1'), ('DB03441', 'O=C(O)C(CI)Cc1ccccc1'), ('DB08761', 'O=C1NC(Cc2ccc(O)cc2)C(=O)NC1Cc1ccc(O)cc1'), ('DB04255', 'CNC(=O)C(NC(=O)C(OCc1ccccc1)C(O)C(O)C(OCc1ccccc1)C(=O)NC1c2ccccc2CC1O)C(C)C'), ('DB07827', 'Cn1c(=O)n(Cc2ccc(C(=O)O)cc2)c(=O)c2cc(C#CCc3ccccc3)ccc21'), ('DB01969', 'CC(C)(COP(=O)(O)OP(=O)(O)OCC1OC(n2cnc3c(N)ncnc32)C(O)C1OP(=O)(O)O)C(O)C(=O)NCCC(=O)NCCSCC(=O)C(F)(F)F'), ('DB05861', 'COc1cccc2c1c(O)c(C(=O)N(C)c1ccc(C(F)(F)F)cc1)c(=O)n2C'), ('DB01390', 'O=C([O-])O.[Na+]'), ('DB08039', 'CN(C)S(=O)(=O)c1ccc2c(c1)C(=Cc1cc3c([nH]1)CCCC3)C(=O)N2'), ('DB04277', 'O=C(CO)C(O)C(O)C(O)COP(=O)(O)O'), ('DB07695', 'Cc1cc(C(=O)Nc2cc(Br)c(O)c(Br)c2)cc(C)c1O'), ('DB00229', 'CN(C)CCn1nnnc1SCC1=C(C(=O)O)N2C(=O)C(NC(=O)Cc3csc(N)n3)C2SC1'), ('DB00876', 'CCCCc1ncc(C=C(Cc2cccs2)C(=O)O)n1Cc1ccc(C(=O)O)cc1'), ('DB06915', 'Oc1cc(O)c2c(O)cc(O)c(O)c2c1'), ('DB06926', 'CCCCCC(O)C=CC=CCCCCCCCC(=O)O'), ('DB04519', 'CCCCCCCC(=O)O'), ('DB01904', 'OCC(O)C(O)C(O)CO'), ('DB06817', 'Cc1nnc(C(=O)NC(C)(C)c2nc(C(=O)NCc3ccc(F)cc3)c(O)c(=O)n2C)o1'), ('DB04369', 'OB1OCCO1'), ('DB04018', 'CC(C)SC(=N)N'), ('DB01958', 'CC(C)(C)c1ccc(Sc2cccc3nc(N)nc(N)c23)cc1'), ('DB08822', 'CCOc1nc2cccc(C(=O)OCc3oc(=O)oc3C)c2n1Cc1ccc(-c2ccccc2-c2noc(=O)[nH]2)cc1'), ('DB01639', 'Cc1c(O)c(C=O)c(COP(=O)(O)O)c[n+]1C'), ('DB07062', 'CC(C)CCn1c(=O)c(C2=Nc3ccc(NS(C)(=O)=O)cc3S(=O)(=O)N2)c(O)c2cccn21'), ('DB03604', 'O=C(O)Cc1cc(I)c(Oc2ccc(O)c(I)c2)c(I)c1'), ('DB07309', 'O=C(O)c1cc(Br)ccc1NS(=O)(=O)c1ccc(Cl)cc1'), ('DB07853', 'N#CCC1C=CC(=Nc2nc(Nc3cc(C4CC4)[nH]n3)c3ccccc3n2)C=C1'), ('DB02833', 'Cc1nc(N)sc1-c1ccnc(Nc2cccc([N+](=O)[O-])c2)n1'), ('DB08784', 'O=C(O)c1cccnc1Nc1ccc(Cl)cc1'), ('DB00544', 'O=c1[nH]cc(F)c(=O)[nH]1'), ('DB06965', 'CCCCCCP(=O)(O)OCC(C)Cc1ccccc1'), ('DB07284', 'Nc1ncccc1NCc1cccc(-c2cccnc2)c1'), ('DB00150', 'NC(Cc1c[nH]c2ccccc12)C(=O)O'), ('DB00509', 'NC(Cc1cc(I)c(Oc2cc(I)c(O)c(I)c2)c(I)c1)C(=O)O'), ('DB06878', 'CCC(N)C(=O)N1CCCC1C(=O)NCc1cccc(Cl)c1'), ('DB08323', 'CCCCCCCCCC(=O)CC(=O)NC1CCNC1=O'), ('DB07273', 'Cc1cc(S(=O)(=O)N2CCCC2C(=O)O)c(N)cc1Cl'), ('DB09197', 'Cc1cc(CCN2CCN(c3cccc(Cl)c3)CC2)n[nH]1'), ('DB04196', 'Nc1nc(O)c2nc(CNc3ccc(C(=O)O)cc3)cnc2n1'), ('DB03879', 'COC1OC(C)C(O)C(O)C1O'), ('DB07362', 'Cn1ncc2ncnc(NCCc3cnc(NC(=O)Nc4cccc(C(F)(F)F)c4)s3)c21'), ('DB08763', 'N=C(N)c1ccc(C(NC(=O)OCc2ccccc2)P(=O)(O)O)cc1'), ('DB05416', 'Cc1cc(SCc2sc(-c3ccc(C(F)(F)F)cc3)nc2C)ccc1OCC(=O)O'), ('DB04645', 'Cc1c(NC(=O)NC(=O)c2ccc(Cl)cc2Cl)cccc1OCCCCC(=O)O'), ('DB01223', 'Cn1c(=O)c2[nH]cnc2n(C)c1=O.Cn1c(=O)c2[nH]cnc2n(C)c1=O.NCCN'), ('DB00143', 'NC(CCC(=O)NC(CS)C(=O)NCC(=O)O)C(=O)O'), ('DB09320', 'CC1(C)SC2C(NC(=O)Cc3ccccc3)C(=O)N2C1C(=O)O.CCN(CC)CCOC(=O)c1ccc(N)cc1'), ('DB09216', 'Cc1c(Cl)cccc1Nc1ccccc1C(=O)O'), ('DB01005', 'NC(=O)NO'), ('DB08807', 'Cc1cc2c(OCC(CNC(C)(C)C)OC(=O)c3ccccc3)cccc2[nH]1'), ('DB03397', 'CC(=O)NC1C(OP(=O)(O)OP(=O)(O)OCC2OC(n3ccc(=O)[nH]c3=O)C(O)C2O)OC(CO)C(O)C1O'), ('DB04347', 'O=C(O)C1C=C(O)C(O)C(O)C1'), ('DB08121', 'O=C(O)C(Cc1ccccc1)Oc1ccc(-c2ccccc2)cc1'), ('DB02808', 'CC(C)=CCCC(C)=CCCC(=CCOP(=O)(O)OP(=O)(O)O)C(F)(F)F'), ('DB08453', 'CCCCCCCCCc1cc(O)c2ccccc2[n+]1[O-]'), ('DB07299', 'CC(C)CCC(=O)NC(C(=O)NC(CCCNC(N)N)C(=O)c1nccs1)C(C)C'), ('DB04048', 'CC(NC(N)=O)C(=O)O'), ('DB02293', 'CC(C)CCCC(C)CCCC(C)CCCC(C)CCOCC(COP(=O)([O-])OCC(O)COP(=O)([O-])O)OCCC(C)CCCC(C)CCCC(C)CCCC(C)C'), ('DB04622', 'CC(=O)NCCc1cnc[nH]1'), ('DB06967', 'CCc1nc(N)nc(N)c1-c1ccc2c3ccccc3n(CCCOC)c2c1'), ('DB00152', 'Cc1ncc(C[n+]2csc(CCO)c2C)c(N)n1'), ('DB03309', 'O=S(=O)(O)CCNC1CCCCC1'), ('DB03302', 'O=C1OCc2c(Cl)c(Cl)c(Cl)c(Cl)c21'), ('DB03087', 'CCC(C)c1nccs1'), ('DB02302', 'CN=C(NC)NCCCC(N)C(=O)O'), ('DB02725', 'NC1C=CC(CCC(N)C(=O)O)C=C1'), ('DB04538', 'CC(C(=O)O)C(N)C(=O)O'), ('DB08259', 'O=C(O)CCCCCCNC(=O)NC1CCCCC1'), ('DB04924', 'COc1ccc(C(=O)NCc2ccc(OCCN(C)C)cc2)cc1OC'), ('DB00341', 'O=C(O)COCCN1CCN(C(c2ccccc2)c2ccc(Cl)cc2)CC1'), ('DB03785', 'CCC(C)C(=O)OC1CC(C)C=C2C=CC(C)C(CCC(O)CC(O)CC(=O)O)C21'), ('DB00649', 'Cc1cn(C2C=CC(CO)O2)c(=O)[nH]c1=O'), ('DB08951', 'CC(C(=O)O)c1ccc(N2Cc3ccccc3C2=O)cc1'), ('DB00335', 'CC(C)NCC(O)COc1ccc(CC(N)=O)cc1'), ('DB11558', 'Cc1ccccc1'), ('DB04960', 'Cn1cncc1C(N)(c1ccc(Cl)cc1)c1ccc2c(c1)c(-c1cccc(Cl)c1)cc(=O)n2C'), ('DB00399', 'O=P(O)(O)C(O)(Cn1ccnc1)P(=O)(O)O'), ('DB01509', 'CC(N)Cc1ccc2c(c1)OCO2'), ('DB07018', 'CCc1c(C)[nH]c(=O)c(N(C)CCOC)c1Cc1cccc(C)c1'), ('DB09298', 'COc1cc(C2Oc3cc(C4Oc5cc(O)cc(O)c5C(=O)C4O)ccc3OC2CO)ccc1O'), ('DB00488', 'CN(C)c1nc(N(C)C)nc(N(C)C)n1'), ('DB07297', 'c1ccc(-c2oc3ncnc(NCCN4CCNCC4)c3c2-c2ccccc2)cc1'), ('DB04244', 'CC(C)CC(C(=O)NCC(O)CNS(=O)(=O)c1ccccn1)c1cccc(-c2ccccc2)c1'), ('DB02873', 'O=C1NCc2c(-c3ccc(F)cc3F)cc(N3CCNCC3)cc2N1c1c(Cl)cccc1Cl'), ('DB06262', 'NC(C(=O)O)C(O)c1ccc(O)c(O)c1'), ('DB00957', 'C#CC1(OC(C)=O)CCC2C3CCC4=CC(=NO)CCC4C3CCC21CC'), ('DB03583', 'CC1(O)C(=C2C(=O)Nc3ccc(S(=O)(=O)N4CCC(O)CC4)cc32)Nc2ccccc21'), ('DB03268', 'CC(=O)NC(Cc1ccc(C(=O)O)c(C=O)c1)C(=O)NC1CCCCN(Cc2ccc(-c3ccccc3)cc2)C1=O'), ('DB01908', 'CC(=O)NC(Cc1ccc(OCC(=O)O)c(P(=O)(O)O)c1)C(=O)NC1CCCCN(Cc2ccc(-c3ccccc3)cc2)C1=O'), ('DB01217', 'CC(C)(C#N)c1cc(Cn2cncn2)cc(C(C)(C)C#N)c1'), ('DB04756', 'O=C(O)c1ccccc1Nc1cc(Cl)c(OOO)c(Cl)c1'), ('DB03166', 'CC(=O)[O-]'), ('DB03929', 'NC(CO)C(=O)O'), ('DB01169', 'O=[As][As](=O)=O'), ('DB03260', 'NCCCCCCN'), ('DB00961', 'Cc1cccc(C)c1NC(=O)C1CCCCN1C'), ('DB01718', 'CCCCCCCCCCCCCCCC[N+](C)(C)C'), ('DB04213', 'O=C(NCCCc1ccccc1)NC1CCCCC1'), ('DB03573', 'CC(C)CCNC(=O)C(CCc1ccccc1)NC(=O)C(O)CC(=O)O'), ('DB01860', 'Nc1ncnc2c1ncn2C1OC(COP(=O)(O)OP(=O)(O)OP(=O)(O)O)CC1O'), ('DB08391', 'COc1cc2ncnc(N3CCC(Oc4cnc5ccccc5n4)C3)c2cc1OC'), ('DB04447', 'OC(CS)C(O)CS'), ('DB08867', 'CC(=O)C1(O)CCC2C3CCC4=CC(=O)CCC4=C3C(c3ccc(N(C)C)cc3)CC21C'), ('DB08608', 'CC1CN(C(=O)C(C)(O)C(F)(F)F)C(C)CN1C(=O)c1ccc(C#N)cc1'), ('DB07638', 'Oc1ccc(C2Oc3ccc(O)cc3C3CC(F)(F)CC32)cc1'), ('DB07559', 'CC(O)=C(C#N)C(=O)Nc1ccc(-c2ccccc2Cl)c(Cl)c1'), ('DB01446', 'CC(N)Cc1c[nH]c2ccccc12'), ('DB08604', 'Oc1cc(Cl)ccc1Oc1ccc(Cl)cc1Cl'), ('DB07771', 'CC(C)=CCCC(C)=CCCC(C)=CCONC(=O)CP(=O)(O)O'), ('DB01110', 'Clc1ccc(COC(Cn2ccnc2)c2ccc(Cl)cc2Cl)c(Cl)c1'), ('DB08554', 'CCCC(NC(=O)CCC(=O)O)C(=O)O'), ('DB06946', 'O=C(O)C(O)C(O)c1ccc(F)cc1'), ('DB02751', 'N=C(N)NCC(=O)O'), ('DB01125', 'COc1ccc(C2C(=O)c3ccccc3C2=O)cc1'), ('DB03458', 'CN(CCC(N)C(=O)O)CC1OC(n2cnc3c(N)ncnc32)C(O)C1O'), ('DB09272', 'COc1ccc(CN(C(=O)C(N)Cc2c(C)cc(C(N)=O)cc2C)C(C)c2nc(-c3ccccc3)c[nH]2)cc1C(=O)O'), ('DB06918', 'Cc1ccccc1-c1cc2ccc(C(=N)N)cc2[nH]1'), ('DB00629', 'NC(N)=NN=Cc1c(Cl)cccc1Cl'), ('DB00981', 'CNC(=O)Oc1ccc2c(c1)C1(C)CCN(C)C1N2C'), ('DB02275', 'NCC1=NC(CC2C=CC(=O)C=C2)C(=O)N1CC=O'), ('DB03890', 'CC(C)C(C=O)C1C(NS(C)(=O)=O)CCN1C(=O)C=CCN1CCCCC1'), ('DB00357', 'CCC1(c2ccc(N)cc2)CCC(=O)NC1=O'), ('DB01346', 'C=CC1CN2CCC1CC2C(O)c1ccnc2ccc(OC)cc12.CCC1(c2ccccc2)C(=O)NC(=O)NC1=O'), ('DB04843', 'C[N+]1(C)CCCC(OC(=O)C(O)(c2ccccc2)c2ccccc2)C1'), ('DB04568', 'Nc1cncn1C1OC(CO)C(O)C1O'), ('DB03227', 'NC(=O)c1ccc[n+](C2OC(COP(=O)(O)O)C(O)C2O)c1'), ('DB00793', 'Clc1cc(Cl)c(OCC#CI)cc1Cl'), ('DB02474', 'COC(=O)NCCCCCC(=O)NC1OC(CO)C(O)C(O)C1O'), ('DB03935', 'O=C(O)C1CC(O)C(OS(=O)(=O)O)CO1'), ('DB00737', 'Cc1cccc(CN2CCN(C(c3ccccc3)c3ccc(Cl)cc3)CC2)c1'), ('DB07944', 'Cc1cc(NS(=O)(=O)c2ccccc2)cc(OCCNc2cc[nH+]cc2)c1'), ('DB08602', 'CSc1nc2ccccc2c(=O)n1-c1c(F)cccc1F'), ('DB07078', 'COc1cc(-c2ccc3c(c2)NC(=O)C3=Cc2ccc[nH]2)ccc1O'), ('DB02959', 'NC(Cc1c[nH]c2ccc(O)cc12)C(=O)O'), ('DB08560', 'O=S(=O)(Nc1cc(-c2cccs2)nn1-c1ccc(F)cc1)c1cccc(F)c1'), ('DB07494', 'C[N+]1(C)C2CCC1CC(OC1c3ccccc3CCc3ccccc31)C2'), ('DB07865', 'O=C1C=C(Nc2nnn[nH]2)CCC1'), ('DB00215', 'CN(C)CCCC1(c2ccc(F)cc2)OCc2cc(C#N)ccc21'), ('DB02280', 'O=C(O)C(O)c1ccccc1'), ('DB02515', 'O=P(O)(O)OCC(O)CO'), ('DB02812', 'CC(=O)N1CC(O)CC1C(=O)NC(CCCNC(=N)N)C(=O)c1nc2ccccc2s1'), ('DB02354', 'Cc1nc2ccccc2n1Cc1ccc2c(c1)nc(CNc1ccc(C(=N)N)cc1)n2C'), ('DB03315', 'Nc1nc2c(ncn2C2OC(CO)C(OP(=O)(O)O)C2O)c(=O)[nH]1'), ('DB01851', 'CCCC[N+](CCCC)(CCCC)CCCC'), ('DB08776', 'CC(=O)Nc1nc2c(s1)C(=O)NCCC2'), ('DB00442', 'C=C1C(CO)C(O)CC1n1cnc2c(=O)nc(N)[nH]c21'), ('DB00826', 'CC1CC=CC=CC=CC=CC(OC2OC(C)C(O)C(N)C2O)CC2OC(O)(CC(O)CC3OC3C=CC(=O)O1)CC(O)C2C(=O)O'), ('DB06947', 'CCC(N)C(=O)N1CCCC1C(=O)NCc1ccc(C(=N)N)cc1'), ('DB02250', 'c1cc(C[N+]23CCCN4CCN5CCCN(CC2)[Cu]543)ccc1C[N+]12CCCN3CCN4CCCN(CC1)[Cu]432'), ('DB09031', 'CCCCCCCCCCCCCCCCOP(=O)([O-])OCC[N+](C)(C)C'), ('DB01238', 'O=C1CCc2ccc(OCCCCN3CCN(c4cccc(Cl)c4Cl)CC3)cc2N1'), ('DB00644', 'CC(C)CC(NC(=O)CNC(=O)C(Cc1ccc(O)cc1)NC(=O)C(CO)NC(=O)C(Cc1c[nH]c2ccccc12)NC(=O)C(Cc1cnc[nH]1)NC(=O)C1CCC(=O)N1)C(=O)NC(CCCN=C(N)N)C(=O)N1CCCC1C(=O)NCC(N)=O'), ('DB02445', 'NC(CO)C(O)C(O)C(O)COP(=O)(O)O'), ('DB04308', 'NC(C(=O)O)c1ccc(O)cc1'), ('DB09148', 'CNc1ccc(C=Cc2ccc(OCCOCCOCCF)cc2)cc1'), ('DB03593', 'C[n+]1cn(C2OC(COP(=O)(O)O)C(O)C2O)c2nc(N)[nH]c(=O)c21'), ('DB06859', 'C=CCN(C(=O)c1cc(Cl)cc(OCCCONC(=N)N)c1)C1CCCC1'), ('DB08345', 'N#Cc1cnn2c(NCCc3cnc[nH]3)nc(Nc3ccccc3)nc12'), ('DB03357', 'O=C(O)C(O)c1ccccc1'), ('DB02190', 'O=C(O)CC(C(=O)O)C(=O)C(=O)O'), ('DB00687', 'CC12CCC(=O)C=C1CCC1C3CCC(O)(C(=O)CO)C3(C)CC(O)C12F'), ('DB01197', 'CC(CS)C(=O)N1CCCC1C(=O)O'), ('DB02305', 'O=C(O)C1=CC(O)C(O)C(O)O1'), ('DB08360', 'CCN1CCN(c2nc(Nc3ccccc3)n3ncc(C#N)c3n2)CC1'), ('DB07100', 'Oc1cc(O)c(-c2[nH]ncc2N2CCNCC2)cc1Cl'), ('DB08723', 'Cc1cc(CCCCCOc2c(Cl)cc(C3=NCCO3)cc2Cl)on1'), ('DB08989', 'CCN(CC)C(=O)c1ccc(O)c(OC)c1'), ('DB06921', 'CC(C)C(NS(=O)(=O)c1ccccc1)P(=O)(O)CC(C(=O)O)c1cccc(CN)c1'), ('DB08273', 'O=C([O-])CCCCCNC(=O)Cc1cc(I)c(O)c([N+](=O)[O-])c1'), ('DB04185', 'CCCC(N)C(=O)O'), ('DB02351', 'CCC(C)C(NC(=O)C(CCC(=O)O)NC(=O)C(CCC(=O)O)NC(=O)C(Cc1ccccc1)NC(=O)C(CC(=O)O)NC(=O)CNC(=O)C(CC(N)=O)NC(=O)CNC(=O)CNC(=O)CNC(=O)CNC(=O)C1CCCN1C(=O)C(CCCNC(=N)N)NC(=O)C1CCCN1C(=O)C(N)Cc1ccccc1)C(=O)N1CCCC1C(=O)NC(CCC(=O)O)C(=O)NC(CCC(=O)O)C(=O)NC(Cc1ccc(O)cc1)C(=O)NC(CC(C)C)C(=O)O'), ('DB06842', 'CCCCOc1cc(CC2CNC(=O)N2)ccc1OC'), ('DB00819', 'CC(=O)Nc1nnc(S(N)(=O)=O)s1'), ('DB11614', 'Cc1cncc(CN2CCC(=C3c4ccc(Cl)cc4CCc4cccnc43)CC2)c1'), ('DB04270', 'CCOC(Cc1ccc(OCCn2c3ccccc3c3ccccc32)cc1)C(=O)O'), ('DB04698', 'O=c1c2ccccc2oc2ccc(S(=O)(=O)N=c3[nH]nn[nH]3)cc12'), ('DB08522', 'Fc1ccc(-c2ncn(CC3CC3)c2-c2ccncc2)cc1'), ('DB02101', 'N=C(O)C1CC2(N=C(O)N=C2O)c2cc(F)ccc2O1'), ('DB08992', 'CCc1ccc(C(=O)C(C)CN2CCCCC2)cc1'), ('DB03350', 'N[Co+3](N)(N)(N)(N)N'), ('DB07550', 'O=C(Cn1c(Cl)cnc(NCC(F)(F)c2cccc[n+]2[O-])c1=O)NCc1ccccc1F'), ('DB07951', 'O=C(O)CC(NC(=O)Cc1c[nH]c2ccccc12)C(=O)O'), ('DB07164', 'c1cnn2ncc(-c3ccnc(NC4CC4)n3)c2c1'), ('DB02437', 'NC(CO)CCCCNC(=O)O'), ('DB01280', 'COc1nc(N)nc2c1ncn2C1OC(CO)C(O)C1O'), ('DB07305', 'O=C(O)c1ccc(-c2ccc([N+](=O)[O-])cc2Cl)o1'), ('DB00796', 'CCOc1nc2cccc(C(=O)O)c2n1Cc1ccc(-c2ccccc2-c2nn[nH]n2)cc1'), ('DB07121', 'CC1(C)SCCN(S(=O)(=O)c2ccc(OCC#CCN)cc2)C1C(=O)NO'), ('DB01045', 'COC1C=COC2(C)Oc3c(C)c(O)c4c(O)c(c(C=NN5CCN(C)CC5)c(O)c4c3C2=O)NC(=O)C(C)=CC=CC(C)C(O)C(C)C(O)C(C)C(OC(C)=O)C1C'), ('DB03019', 'Nc1nccc(-c2cc(Cl)sc2Cl)n1'), ('DB07770', 'Cc1ccc(S(=O)(=O)Nc2cc(-c3ccc(F)cc3)sc2C(=O)O)cc1'), ('DB04145', 'OCc1cccnc1'), ('DB08494', 'Cc1ccc2c(c1)CCCN2C(=O)SCC(=O)Nc1ccc(S(N)(=O)=O)cc1Cl'), ('DB00599', 'CCCC(C)C1(CC)C(=O)NC(=S)NC1=O'), ('DB00416', 'COc1ccc2cc1Oc1cc3c(cc1OC)CC[N+](C)(C)C3Cc1ccc(cc1)Oc1c(OC)c(OC)cc3c1C(C2)[N+](C)(C)CC3.[I-].[I-]'), ('DB02115', 'O=c1c(-c2ccc(O)cc2)coc2cc(OC3OC(CO)C(O)C(O)C3O)ccc12'), ('DB07269', 'CC(C)C(NC(=O)OCc1ccccc1)P(=O)(O)CC(C(=O)O)c1cccc(CN)c1'), ('DB04494', 'O=[Mo+6](O)O'), ('DB03776', 'CC(O)C=O'), ('DB08418', 'CC12CCC3c4ccc(OS(N)(=O)=O)cc4CCC3C1CC(=O)N(Cc1cccnc1)C2=O'), ('DB07531', 'NS(=O)(=O)c1ccc(-c2ccc(C=C3SC(=O)NC3=O)o2)cc1'), ('DB04524', 'CC(C)(COP(=O)(O)OP(=O)(O)OCC1OC(n2cnc3c(N)ncnc32)C(O)C1OP(=O)(O)O)C(O)C(=O)NCCC(=O)NCCSC(=O)CC(=O)O'), ('DB08517', 'COc1cc(O)c2c(c1)OC(c1ccc(O)cc1)CC2=O'), ('DB07629', 'CN1CCc2nc(C(=O)NC3CCCCC3NC(=O)c3cc4cc(Cl)ccc4[nH]3)sc2C1'), ('DB08175', 'COC(C)(C)CCCC(C)CC=CC(C)=CC(=O)O'), ('DB02147', 'O=[V]1([O-])O[V](=O)([O-])O[V](=O)([O-])O[V](=O)([O-])O1'), ('DB08816', 'CCCSc1nc(NC2CC2c2ccc(F)c(F)c2)c2nnn(C3CC(OCCO)C(O)C3O)c2n1'), ('DB00967', 'Clc1ccc2c(c1)CCc1cccnc1C2=C1CCNCC1'), ('DB06998', 'CCOc1cc(CC2SC(=S)N(CC(=O)O)C2=O)c(Br)c(Br)c1O'), ('DB00334', 'Cc1cc2c(s1)Nc1ccccc1N=C2N1CCN(C)CC1'), ('DB03533', 'O=C1NC2NC(=O)NC2N1'), ('DB00320', 'CN1CC(C(=O)NC2(C)OC3(O)C4CCCN4C(=O)C(Cc4ccccc4)N3C2=O)CC2c3cccc4[nH]cc(c34)CC21'), ('DB01171', 'O=C(NCCN1CCOCC1)c1ccc(Cl)cc1'), ('DB02727', 'CCCCNC(=N)NO'), ('DB07422', 'CC(O)(COc1c(F)c(F)c(F)c(F)c1F)C(=O)Nc1ccc([N+](=O)[O-])c(C(F)(F)F)c1'), ('DB00437', 'O=c1ncnc2[nH][nH]cc1-2'), ('DB01436', 'C=C1C(=CC=C2CCCC3(C)C2CCC3C(C)CCCC(C)C)CC(O)CC1O'), ('DB02045', 'CCCCCN'), ('DB02942', 'O=P(O)(O)OC1C(O)C(O)C(O)C(OP(=O)(O)O)C1O'), ('DB04013', 'COC(=O)NC1(C(N)=O)OC(CO)C(O)C(O)C1O'), ('DB03017', 'CCCCCCCCCCCC(=O)O'), ('DB02914', 'C=CC(C)=CC=CC(C)=CC=C1C(C)=CCCC1(C)C'), ('DB03747', 'CC1=NC2C(OC(CO)C(O)C2O)S1'), ('DB05219', 'N#Cc1ccc(Oc2ccc3c(c2)COB3O)cc1'), ('DB04495', 'CC(=O)NC(Cc1ccc(OP(=O)(O)O)cc1)C(=O)NC1CCCCN(Cc2ccc(-c3ccccc3)cc2)C1=O'), ('DB03495', 'CC1OC(OC2C(CO)OC(OCC3OC(O)C(O)C(O)C3O)C(O)C2O)C(O)C(O)C1NC1C=C(CO)C(O)C(O)C1O'), ('DB04799', 'CCCCCCCCCCCC1=C(O)C(=O)c2scnc2C1=O'), ('DB08663', 'CCC(c1ccccc1)c1c(O)c2ccc(OC)cc2oc1=O'), ('DB02893', 'CSCCC(N)C(=O)O'), ('DB07524', 'c1ccc(Nc2c[nH]c3ncccc23)cc1'), ('DB08023', 'CN(c1nccc(-c2cnc3ccccn23)n1)C1CCCCC1'), ('DB07564', 'Nc1nc2cc3[nH]c(NCCN4CCOCC4)nc3cc2c(=O)[nH]1'), ('DB09090', 'COc1cc(Br)c(C[N+]2(CCOCCC3CCC4CC3C4(C)C)CCOCC2)cc1OC'), ('DB04383', 'CC(C)C(N)CO'), ('DB04169', 'Nc1cc(N)c2c(=O)[nH][nH]c(=O)c2c1'), ('DB09270', 'COC1=C(OC)C(=O)C(CC=C(C)CCC=C(C)CCC=C(C)CCC=C(C)CCC=C(C)CCC=C(C)CCC=C(C)CCC=C(C)CCC=C(C)CCC=C(C)C)=C(C)C1=O'), ('DB00376', 'OC(CCN1CCCCC1)(c1ccccc1)C1CCCCC1'), ('DB02103', 'Nc1nc(Cl)nc2c1ncn2C1CCC(CO)O1'), ('DB03648', 'CCCCC(CNNCC(CCCC)C(=O)NC(CCCCN)C(=O)Nc1ccccc1)C(=O)NC(CCCCN)C(=O)Nc1ccccc1'), ('DB04115', 'COc1ccc2cc3[n+](cc2c1OC)CCc1cc2c(cc1-3)OCO2'), ('DB04846', 'CCN(CC)C(=O)Nc1ccc(OCC(O)CNC(C)(C)C)c(C(C)=O)c1'), ('DB00129', 'NCCCC(N)C(=O)O'), ('DB04282', 'OCC1OC(O)C(F)C(O)C1O'), ('DB00626', 'CCC(C)C(N)C1=NC(C(=O)NC(CC(C)C)C(=O)NC(CCC(=O)O)C(=O)NC(C(=O)NC2CCCCNC(=O)C(CC(N)=O)NC(=O)C(CC(=O)O)NC(=O)C(Cc3c[nH]cn3)NC(=O)C(Cc3ccccc3)NC(=O)C(C(C)CC)NC(=O)C(CCCN)NC2=O)C(C)CC)CS1'), ('DB02110', 'C=CC1=C(C)C2=[N+]3C1=Cc1c(C)c(CCC(=O)O)c4n1[Co]31n3c(c(C)c(C=C)c3=C2)=CC2=[N+]1C(=C4)C(CCC(=O)O)=C2C'), ('DB04658', 'OC1C2CCC(O)(N2)C(O)C1O'), ('DB04158', 'Nc1nc2c(c(=O)[nH]1)N=C(COP(=O)(O)OP(=O)(O)OP(=O)(O)OP(=O)(O)OCC1OC(n3cnc4c(N)ncnc43)C(O)C1O)CN2'), ('DB06707', 'CC(N)C(O)c1ccc(O)c(O)c1'), ('DB04539', 'O=C(O)C[NH2+]CP(=O)(O)O'), ('DB03526', 'COc1ccc(CNS(=O)(=O)c2ccc(S(N)(=O)=O)s2)cc1'), ('DB07281', 'Nc1ncccc1NCc1ccccc1'), ('DB03768', 'CC(C)CCN(CC(O)C1Cc2ccc(cc2)OCCCC(=O)NC(C(C)C)C(=O)N1)S(=O)(=O)c1ccccc1'), ('DB01028', 'COC(F)(F)C(Cl)Cl'), ('DB06190', 'O=C(O)c1cccc(-c2cccc(NCCNCC(O)c3cccc(Cl)c3)c2)c1'), ('DB08899', 'CNC(=O)c1ccc(N2C(=S)N(c3ccc(C#N)c(C(F)(F)F)c3)C(=O)C2(C)C)cc1F'), ('DB01623', 'CN1CCN(CCC=C2c3ccccc3Sc3ccc(S(=O)(=O)N(C)C)cc32)CC1'), ('DB04122', 'O=P(O)(O)OCC1OC(O)C(O)C(O)C1O'), ('DB05488', 'O=C(O)c1cn(C2CC2)c2cc(N3CCNCC3)c(F)cc2c1=O'), ('DB07711', 'CCCCCCC(C(C)O)n1cnc2c(N)ncnc21'), ('DB01861', 'O=c1ccn(C2OC(COP(=O)(O)OP(=O)(O)OC3OC(CO)C(O)C(O)C3O)C(O)C2O)c(=O)[nH]1'), ('DB06949', 'O=C(NN=Cc1cc(Br)c(O)c(Br)c1O)c1ccc2ccccc2c1'), ('DB02814', 'Cc1cc(N)c(C[n+]2csc(CCOP(=O)(O)OP(=O)([O-])O)c2C)cn1'), ('DB01698', 'CC1OC(OCC2OC(Oc3c(-c4ccc(O)c(O)c4)oc4cc(O)cc(O)c4c3=O)C(O)C(O)C2O)C(O)C(O)C1O'), ('DB01234', 'CC1CC2C3CCC4=CC(=O)C=CC4(C)C3(F)C(O)CC2(C)C1(O)C(=O)CO'), ('DB04891', 'C=C1C(O)CC(=CC=C2CCCC3(C)C2CCC3C(C)CC)CC1O'), ('DB08714', 'Cc1cc(CCCOc2c(C)cc(-n3nnc(C)n3)cc2C)on1'), ('DB07702', 'CC12CCC3c4ccc(O)cc4CCC3C1CC(O)C2O'), ('DB02422', 'COC1OC(CO)C(O)C(O)C1SC1OC(CO)C(O)C(O)C1O'), ('DB09175', 'O=C(c1ccco1)N(c1cnccn1)C1CCN(CCc2ccccc2)CC1'), ('DB03351', 'Cc1c(CNc2cccc3ncccc23)cnc2nc(N)nc(N)c12'), ('DB02360', 'O=C(c1ccc2ccccc2c1)C(c1cccc2ccccc12)P(=O)(O)O'), ('DB07660', 'CC(=O)NC(Cc1ccccc1)C(=O)N1CCCC1C(=O)NC(CCCN)B(O)O'), ('DB07485', 'Oc1ccc(C2(c3ccc(O)cc3)CCCCC2)cc1'), ('DB04093', 'CCCCCCCCCCC=O'), ('DB08155', 'CC(=O)NCCc1ccc(S(N)(=O)=O)cc1'), ('DB04640', 'O=S(=O)(O)c1ccc2cc(S(=O)(=O)O)ccc2c1'), ('DB02289', 'NC(C(=O)O)C(=O)O'), ('DB08702', 'O=C(O)c1c(-c2ccccc2)oc(-c2ccccc2)c1C(=O)O'), ('DB07657', 'CCCCCCCCCCCC(=O)NC(CCCC)COP(=O)(O)OCCO'), ('DB06594', 'COc1ccc2cccc(CCNC(C)=O)c2c1'), ('DB00790', 'CCCC(NC(C)C(=O)N1C(C(=O)O)CC2CCCCC21)C(=O)OCC'), ('DB02979', 'CSC(N)=NCCCCCCCCCCCCCCN=C(N)SC'), ('DB07149', 'Nc1nccc(-c2cc3c([nH]2)C(CCF)CNC3=O)n1'), ('DB00231', 'CN1C(=O)C(O)N=C(c2ccccc2)c2cc(Cl)ccc21'), ('DB07110', 'Fc1ccc(CC2CCNCC2)cc1'), ('DB03904', 'NC(N)=O'), ('DB02201', 'O=C([O-])CC(=O)[O-]'), ('DB08787', 'Nc1ncc(N=Nc2ccccc2)c(-c2ccc(Cl)cc2Cl)n1'), ('DB08667', 'N=C1N=NC(N)=C1N=Nc1ccc(F)cc1'), ('DB01806', 'CCC1(O)Cc2cc3c(c(O)c2C(OC2CC(N(C)C)C(OC4CC(O)C(OC5CCC(=O)C(C)O5)C(C)O4)C(C)O2)C1)C(=O)c1c(O)cccc1C3=O'), ('DB00508', 'CN(C)CCCN1c2ccccc2Sc2ccc(C(F)(F)F)cc21'), ('DB02704', 'O=C(NC1c2ccccc2CC1O)C(CCc1ccccc1)C(O)C(O)C(CCc1ccccc1)C(=O)NC1c2ccccc2CC1O'), ('DB03369', 'Nc1cc2ccccc2c2ccccc12'), ('DB07168', 'CNc1cc(Nc2cc(C3CC3)[nH]n2)nc(Nc2ccc(CC#N)cc2)n1'), ('DB07322', 'O=C(O)c1c(NS(=O)(=O)c2ccccc2)ccc2c1CCCC2'), ('DB06785', 'CCNC(=NCCCCC(NC(=O)C(Cc1ccc(O)cc1)NC(=O)C(CO)NC(=O)C(Cc1cccnc1)NC(=O)C(Cc1ccc(Cl)cc1)NC(=O)C(Cc1ccc2ccccc2c1)NC(C)=O)C(=O)NC(CC(C)C)C(=O)NC(CCCCN=C(NCC)NCC)C(=O)N1CCCC1C(=O)NC(C)C(N)=O)NCC'), ('DB03927', 'CC(NC(=O)CCCCC(NC(=O)C[NH3+])C(=O)[O-])C(=O)O'), ('DB03035', 'O=C1c2c(O)cccc2C(=O)c2c([N+](=O)[O-])ccc(O)c21'), ('DB08183', 'CC1CCN(C(=O)CC#N)CC1N(C)c1ncnc2[nH]ccc12'), ('DB04772', 'CC(C)CC(NS(=O)(=O)Cc1ccccc1)C(=O)N1CCCC1C(=O)NCCCCN=C(N)N'), ('DB01946', 'Cn1cc(C2=C(c3cn(CCCN)c4ccccc34)C(=O)NC2=O)c2ccccc21'), ('DB02162', 'CCNS(=O)(=O)OCC1OC(n2cnc3c(N)ncnc32)C(O)C1O'), ('DB07749', 'CC(=O)NC(CC(C)C)C(=O)NC(C=O)Cc1ccccc1'), ('DB03609', 'Nc1nc2c(ncn2C2OC(CO)CC2O)c(=O)[nH]1'), ('DB03528', 'Nc1ncnc2c1ncn2C1OC(CO)C(O)C1O'), ('DB03771', 'C=CCN(C)CC=CCOc1ccc2c(-c3ccc(Br)cc3)coc2c1'), ('DB08766', 'CC(CS)C(=O)N1CC(Sc2ccccc2)CC1C(=O)O'), ('DB08549', 'CNC(=O)C1Cc2ccc(NS(=O)(=O)O)cc2CN1C(=O)OCc1ccccc1'), ('DB08331', 'c1c[nH]c(Nc2ccc(Nc3ccc(Nc4ncc[nH]4)cc3)cc2)n1'), ('DB07792', 'O=C(CN1C(=O)C(NC(=O)c2cc3cc(Cl)sc3[nH]2)Cc2ccccc21)NCCO'), ('DB03389', 'OC1COC(O)C(O)C1O'), ('DB06849', 'NCc1ccc2c(c1)C1(CCN(C(=O)C=Cc3ccccc3)CC1)CO2'), ('DB00550', 'CCCc1cc(=O)[nH]c(=S)[nH]1'), ('DB00783', 'CC12CCC3c4ccc(O)cc4CCC3C1CCC2O'), ('DB03142', 'OCC1OC(O)C(O)C1O'), ('DB08322', 'O=C(O)CC(OC(=O)C=Cc1ccc(O)cc1)C(OC(=O)C=Cc1ccc(O)cc1)C(=O)O'), ('DB08757', 'NNC(=O)c1ccc(-c2ccccc2Cl)o1'), ('DB09184', 'COc1ccc(F)cc1CC(O)(C1CCOCC1)C1CNCCO1'), ('DB04001', 'O=C(O)C(=O)Nc1cc2[nH]ccc2cc1C(=O)O'), ('DB04415', 'NC(Cc1ccccc1)C(O)CCl'), ('DB01527', 'CC(C)(N)Cc1ccccc1Cl'), ('DB00182', 'CC(N)Cc1ccccc1'), ('DB07287', 'Oc1cc(Cc2ccccn2)ccc1Oc1ccc(Cl)cc1Cl'), ('DB08539', 'c1ccc(-c2cc(NCc3cccnc3)n3ncc(C4CC4)c3n2)cc1'), ('DB03209', 'O=C(O)c1nc(=O)[nH]c(=O)[nH]1'), ('DB07016', 'CC1CNc2c(cccc2[SH](=O)=O)C1'), ('DB03515', 'CC12CCc3c(ccc4cc(O)ccc34)C1CCC2=O'), ('DB08611', 'OCCOc1ccccc1-c1ccc(F)c(F)c1F'), ('DB07127', 'Cc1nc(C(Cc2ccccc2)(Cc2ccc(NS(=O)(=O)O)cc2)c2noc(C)n2)no1'), ('DB06898', 'Cn1c(N)nc2ncc(-c3ccc(O)cc3)cc21'), ('DB01298', 'CCn1ccc(NS(=O)(=O)c2ccc(N)cc2)nc1=O'), ('DB07013', 'CC#CCNc1ccc(S(=O)(=O)CC2(C(=O)NO)CCN(C(=O)OC(C)(C)C)CC2)cc1'), ('DB00798', 'CNC(C)C1CCC(N)C(OC2C(N)CC(N)C(OC3OCC(C)(O)C(NC)C3O)C2O)O1'), ('DB13155', 'O=c1ccc2cc(OC3OC(CO)C(O)C(O)C3O)c(O)cc2o1'), ('DB01983', 'NC(CCCC[B-](O)(O)O)C(=O)O'), ('DB00279', 'NC(Cc1cc(I)c(Oc2ccc(O)c(I)c2)c(I)c1)C(=O)O'), ('DB01846', 'CC(C)(COP(=O)(O)OP(=O)(O)OCC1OC(n2cnc3c(N)ncnc32)C(O)C1OP(=O)(O)O)C(O)C(=O)NCCC(=O)NCCSO'), ('DB07301', 'c1ccc2c(c1)[nH]c1ccccc12'), ('DB03355', 'CC(O)C(N)C(=O)NS(=O)(=O)OCC1OC(n2cnc3c(N)ncnc32)C(O)C1O'), ('DB02232', 'Oc1ccccc1O'), ('DB02523', 'C[S+](CCON)CC1OC(n2cnc3c(N)ncnc32)C(O)C1O'), ('DB03977', 'C[N+](C)(C)CCCCC(N)C(=O)O'), ('DB07353', 'NC(O)CCC(N)Cc1ccc(O)cc1'), ('DB01461', 'CCOC(C(=O)OCCN(C)C)(c1ccccc1)c1ccccc1'), ('DB01088', 'CC#CCC(C)C(O)C=CC1C(O)CC2CC(=CCCCC(=O)O)CC21'), ('DB09271', 'C[N+]1(CC2CC2)C2CC(OC(=O)C(CO)c3ccccc3)CC1C1OC12'), ('DB01129', 'COCCCOc1ccnc(CS(=O)c2nc3ccccc3[nH]2)c1C'), ('DB02901', 'CC12CCC3C(CCC4CC(=O)CCC43C)C1CCC2O'), ('DB06830', 'CCCCCCC(O)(P(=O)(O)O)P(=O)(O)O'), ('DB00327', 'CN1CCC23c4c5ccc(O)c4OC2C(=O)CCC3C1C5'), ('DB03469', 'Cc1c(CCC(=O)O)c2n3c1C=C1[N+]4=C(C=C5[N+]6=C(C=c7c(C)c(CCC(=O)O)c(n7[Fe]346)=C2)C(=O)C5(C)CC(=O)O)C(=O)C1(C)CC(=O)O'), ('DB01322', 'COC1=CC(=O)OC(C=CC2=CCCC=C2)C1'), ('DB06941', 'CN1CCN(c2ccccc2CN=NC(N)=S)CC1'), ('DB03159', 'NC(=[NH2+])c1ccc2[nH]c(-c3cccc(-c4ccccc4)c3[O-])cc2c1'), ('DB03332', 'Nc1nc2c(c(=O)[nH]1)N1C(=O)OCC1CN2'), ('DB05095', 'COc1ccc(-c2c(Cl)ncn2-c2ccc(S(N)(=O)=O)cc2)cc1F'), ('DB09227', 'COC(=O)C1=C(C)NC(C)=C(C(=O)OC2CCN(Cc3ccccc3)C2)C1c1cccc([N+](=O)[O-])c1'), ('DB06879', 'CCN1c2c(F)ccc(F)c2C(N)=NC12CCN(C(=O)C1=CN=C(C#N)CC1)CC2'), ('DB00496', 'NC(=O)C(c1ccccc1)(c1ccccc1)C1CCN(CCc2ccc3c(c2)CCO3)C1'), ('DB08603', 'Cc1ccc(S(=O)(=O)NC(CCCCN)C(=O)CCl)cc1'), ('DB07360', 'O=C(Nc1cccc(C(F)(F)F)c1)Nc1ncc(CCNc2ncnc3ccsc23)s1'), ('DB01167', 'CCC(C)n1ncn(-c2ccc(N3CCN(c4ccc(OCC5COC(Cn6cncn6)(c6ccc(Cl)cc6Cl)O5)cc4)CC3)cc2)c1=O'), ('DB08477', 'O=C(NCC1CN(c2ccc(N3CCOCC3=O)cc2)C(=O)O1)c1ccc(Cl)s1'), ('DB03732', 'O=P(O)(O)OC1C(O)C(COP(=O)(O)OP(=O)(O)OCC2OC(O)C(O)C2O)OC1n1cnc2c1ncn1ccnc21'), ('DB08541', 'CC1=C2C(=O)c3c(O)cccc3C=C2CC(CC(=O)O)O1'), ('DB03263', 'OCC1OC(SC2C(CO)OC(O)C(O)C2O)C(O)C(O)C1O'), ('DB09414', 'O=P([O-])([O-])O.[K+].[K+]'), ('DB08022', 'N#CC(c1ccnc(NCCc2cccnc2)n1)c1nc2ccccc2s1'), ('DB02922', 'OC(O)(C(F)(F)F)C(F)(F)F'), ('DB00736', 'COc1ccc2[nH]c(S(=O)Cc3ncc(C)c(OC)c3C)nc2c1'), ('DB02606', 'CCC(C)O'), ('DB03273', 'Nc1ncnc2c1ncn2C1OC(CO)C(=O)C1O'), ('DB03960', 'O=C1N2C=C(c3ccc(O)cc3)NC(CC3CCCC3)C2=NC1(Cc1ccc(O)cc1)OO'), ('DB07111', 'CCC=CCC=CCC=CCC=CCC=CC=CC(O)CCC(=O)O'), ('DB08906', 'CC1CC2C3CC(F)C4=CC(=O)C=CC4(C)C3(F)C(O)CC2(C)C1(OC(=O)c1ccco1)C(=O)SCF'), ('DB03172', 'Nc1ncnc2c1ccn2C1OC(CO)C(O)C1O'), ('DB07085', 'CC(=O)c1cc(F)c(Cl)cc1NCC(=O)Nc1ccccc1C(=O)O'), ('DB08109', 'CCCCOC1CCCC2C1=C(C(=O)O)NC2C(C=O)CC'), ('DB06414', 'Cc1cc(C#N)cc(C)c1Oc1nc(Nc2ccc(C#N)cc2)nc(N)c1Br'), ('DB00572', 'CN1C2CCC1CC(OC(=O)C(CO)c1ccccc1)C2'), ('DB01019', 'CC(C[N+](C)(C)C)OC(N)=O'), ('DB05478', 'CS(=O)(=O)O.Nc1ncnc2c1ncn2CCOCP1(=O)OCCC(c2cccc(Cl)c2)O1'), ('DB02068', '[NH3+]CCCCC(=O)O'), ('DB00200', 'CC1=C2N3=C(C=C4N5=C(C(C)=C6N7C8C(CC(N)=O)C6(C)CCC(=O)NCC(C)OP(=O)([O-])OC6C(CO)OC(C6O)n6cn(c9cc(C)c(C)cc96)~[Co+]7~5~3(O)~N3=C1C(CCC(N)=O)C(C)(CC(N)=O)C83C)C(CCC(N)=O)C4(C)C)C(CCC(N)=O)C2(C)CC(N)=O'), ('DB04066', 'O=C(O)C=Cc1ccc(O)cc1'), ('DB07237', 'O=C(c1ccc(OCC2CCCN2)cc1)c1ccc(-c2ccsc2)cc1'), ('DB07370', 'CCCCCCCCN=C1SCC2C(O)C(O)C(O)C(O)N12'), ('DB01873', 'CC1=CCC(C(C)=Cc2csc(C)n2)OC(=O)CC(O)C(C)(C)C(=O)C(C)C(O)C(C)CCC1'), ('DB04936', 'O=C(CO)C(O)C(O)C(O)CO'), ('DB02548', 'O=P(O)(O)OCC(O)C(O)C(O)C(O)CO'), ('DB05824', 'CSc1cccc(N(C)C(N)=Nc2cc(SC)ccc2Cl)c1'), ('DB00227', 'CCC(C)C(=O)OC1CC(C)C=C2C=CC(C)C(CCC3CC(O)CC(=O)O3)C21'), ('DB07239', 'Cn1cnc2cc(C#N)c(-c3ccccc3Cl)c(CN)c21'), ('DB01840', 'O=P(O)(O)C=CC(O)C(O)C(O)CCO'), ('DB00588', 'CCC(=O)OC1(C(=O)SCF)C(C)CC2C3CC(F)C4=CC(=O)C=CC4(C)C3(F)C(O)CC21C'), ('DB07175', 'Cc1ccc(Nc2cc(-c3ccccc3)ncn2)cc1NS(C)(=O)=O'), ('DB07172', 'CCC=CCC=CCC=CCC=CC=CC(O)CCCC(=O)O'), ('DB01953', 'c1ccc2c(CCc3ccncc3)c[nH]c2c1'), ('DB06865', 'N=C(N)CCCCC(C(=O)O)C1c2cc(-c3ccc(O)cc3)ccc2CC1O'), ('DB07040', 'NC(=O)c1cc2c(=O)c3cc(F)ccc3oc2nc1N'), ('DB08114', 'Nc1ncc(Cc2ccccc2)s1'), ('DB08406', 'Nc1nc(N)c2nc(CN3c4ccccc4C=Cc4ccccc43)cnc2n1'), ('DB08126', 'N=C(N)NS(=O)(=O)c1ccc(NC=C2C(=O)Nc3ccccc32)cc1'), ('DB07788', 'COc1cc(O)c2c(c1)C=CCC(O)C(O)C(=O)C=CCC(C)OC2=O'), ('DB06589', 'Cc1ccc(Nc2nccc(N(C)c3ccc4c(C)n(C)nc4c3)n2)cc1S(N)(=O)=O'), ('DB01060', 'CC1(C)SC2C(NC(=O)C(N)c3ccc(O)cc3)C(=O)N2C1C(=O)O'), ('DB03970', 'O=C(O)C1=CN=C(C(=O)O)CSC1c1cn2c3c(sc2n1)CCC3'), ('DB07556', 'COc1ccc(S(=O)(=O)N(Cc2cccnc2)C(C(=O)NO)C(C)C)cc1'), ('DB08626', 'O=C(O)CNC(=O)C(CS)Cc1ccccc1'), ('DB02657', 'NC1C(O)OC(COP(=O)(O)O)C(O)C1O'), ('DB01717', 'Nc1ncnc2c1ncn2C1OC(COP(=O)(O)OP(=O)(O)OP(=O)(O)OP(=O)(O)OP(=O)(O)OCC2OC(n3cnc4c(N)ncnc43)C(O)C2O)C(O)C1O'), ('DB00771', 'C[N+]12CCC(CC1)C(OC(=O)C(O)(c1ccccc1)c1ccccc1)C2'), ('DB04554', 'Nc1ncnc2c1nc(Br)n2C1OC(COP(=O)(O)OP(=O)(O)O)C(O)C1O'), ('DB02604', 'O=P(O)(O)OCC1OC(O)CC(O)C1O'), ('DB03861', 'CC(=O)NC1NCC(CO)C(O)C1O'), ('DB04137', 'Nc1nc2c(ncn2C2OC(COP(=O)(O)OP(=O)(O)OP(=O)(O)O)C(O)C2O)c(=O)[nH]1'), ('DB08997', 'O=C1N=C(O)CCC1(c1ccccc1)C1CCN(Cc2ccccc2)CC1'), ('DB02700', 'NC1CC(O)C(CO)OC1O'), ('DB00908', 'C=CC1CN2CCC1CC2C(O)c1ccnc2ccc(OC)cc12'), ('DB08204', 'O=C1OC(c2ccc(O)cc2)(c2ccc(O)cc2)c2ccc([N+](=O)[O-])c3cccc1c23'), ('DB00568', 'C(=Cc1ccccc1)CN1CCN(C(c2ccccc2)c2ccccc2)CC1'), ('DB09306', 'COc1ccc2c(c1)c1c3n2CCN(C)C3=NCC1'), ('DB02480', 'CC(O)(CBr)CCOP(=O)(O)OP(=O)(O)O'), ('DB02558', 'CC(NC(=O)C(Cc1ccccc1)NC(=O)C(S)Cc1ccccc1)C(=O)O'), ('DB01707', 'CCCCCCCCCCCC(=O)OCC(O)COP(=O)(O)OCC[N+](C)(C)C'), ('DB09460', 'O=C([O-])[O-].[Na+].[Na+]'), ('DB04586', 'Oc1ccccc1Br'), ('DB07601', 'Oc1cc(O)c(-c2noc3ccc(NCCN4CCOCC4)cc23)cc1Cl'), ('DB02412', 'C1CCOCC1'), ('DB08948', 'CC(O)=NCc1c(I)c(N=C(C)O)c(I)c(C(=O)O)c1I'), ('DB03942', 'O=P(O)(O)OCC1CC(OP(=O)(O)OP(=O)(O)O)C(O)C1O'), ('DB08440', 'CC(=O)Nc1cc2cccnc2c2ncccc12'), ('DB07778', 'CC1(c2ccc(Oc3ccccc3)cc2)OC(=O)N(Nc2ccccc2)C1=O'), ('DB07392', 'CCNc1nc(Cl)nc(NC(C)C)n1'), ('DB02465', 'CCCCCC=CCC=CCC=CCC=CCCCCP(=O)(F)OC'), ('DB03916', 'Cc1ccc(Nc2nccc(-c3ccnc(N4CCN(CCN)CC4)c3)n2)cc1Cl'), ('DB09251', 'CC(COc1ccccc1)NN'), ('DB04545', 'OCC1CNCC(O)C1O'), ('DB09314', 'O=[Tc](=O)(=O)[O-].[Na+]'), ('DB04350', 'CC(=O)NC(N)=NCCCC1NC(=O)C(CCCC(=O)O)NC(=O)C(Cc2cnc[nH]2)N2C(=O)C(CC2O)NC(=O)C2CCCN2C1=O'), ('DB06148', 'CN1CCN2c3ccccc3Cc3ccccc3C2C1'), ('DB04819', 'CN(C)CCN(Cc1cccs1)c1ccccn1.Cl'), ('DB07200', 'CC(C)CC1(C(=O)O)CC(C(=O)O)C(c2cccs2)N1C(=O)c1ccc(C(F)(F)F)cc1'), ('DB00563', 'CN(Cc1cnc2nc(N)nc(N)c2n1)c1ccc(C(=O)NC(CCC(=O)O)C(=O)O)cc1'), ('DB00474', 'C=CCC1(C(C)C#CCC)C(=O)NC(=O)N(C)C1=O'), ('DB01239', 'CN(C)CCC=C1c2ccccc2Sc2ccc(Cl)cc21'), ('DB00132', 'CCC=CCC=CCC=CCCCCCCCC(=O)O'), ('DB08772', 'O=C(O)Cc1nn(Cc2nc3cc(C(F)(F)F)ccc3s2)c(=O)c2ccccc12'), ('DB04460', 'O=C(O)C(CCCN1C(=O)NC2(OC(COP(=O)(O)O)C(O)C2O)C1=O)N(O)CO'), ('DB06803', 'O=C(Nc1ccc([N+](=O)[O-])cc1Cl)c1cc(Cl)ccc1O'), ('DB08751', 'CC(=O)N(C)CCN(C)c1ccc([N+](=O)[O-])c2nonc12'), ('DB08188', 'CCOCn1c(Cc2ccccc2)c(C(C)C)c(=O)[nH]c1=O'), ('DB07647', 'CC(O)CNc1ncnc2[nH]c(-c3ccccc3)c(-c3ccccc3)c12'), ('DB00542', 'CCOC(=O)C(CCc1ccccc1)NC1CCc2ccccc2N(CC(=O)O)C1=O'), ('DB07730', 'O=C1C=C(c2cccc(O)c2)S(=O)(=O)N1'), ('DB08609', 'CCN(c1ccccc1)S(=O)(=O)c1ccc(NC(=O)C(C)(O)C(F)(F)F)c(C)c1'), ('DB09146', 'O.O.O.OCC1OC(OC2(CO)OC(CO)C(O)C2O)C(O)C(O)C1O.[Fe+3].[Fe+3].[Fe+3].[Fe+3].[Fe+3].[Na+].[Na+].[O-2].[O-2].[O-2].[O-2].[O-2].[O-2].[O-2].[O-2].[OH-]'), ('DB04429', 'O=C1CC(c2ccc(O)cc2)Oc2ccccc21'), ('DB08355', 'Cn1nc(C(=O)O)c2c1-c1nc(Nc3ccccc3)ncc1CC2'), ('DB01464', 'CCOC(=O)C1(c2ccccc2)CCN(CCOCC2CCCO2)CC1'), ('DB01502', 'CCC(=O)N(CC(C)N(C)CCc1ccccc1)c1ccccc1'), ('DB04199', 'CCCCCC(=O)OCC(O)COP(=O)(O)O'), ('DB00326', 'O=C([O-])C(O)C(O)C(O)C(O)C(O)CO.O=C([O-])C(O)C(O)C(O)C(O)C(O)CO.[Ca+2]'), ('DB08575', 'SCC(Cc1ccccc1)c1nc2c[nH+]ccc2[nH]1'), ('DB01351', 'CCC1(CCC(C)C)C(=O)NC(=O)NC1=O'), ('DB03068', 'O=c1ncccn1C1OC(CO)C(O)C1O'), ('DB04334', 'NC(CC1=CC(=O)C(O)=CC1=O)C(=O)O'), ('DB08035', 'Cc1ccc(C)c(Cc2nn(C(C)(C)C)c3ncnc(N)c23)c1'), ('DB01131', 'CC(C)N=C(N)N=C(N)Nc1ccc(Cl)cc1'), ('DB07811', 'Cc1nnc(-c2ccc(-c3cc(C(=O)NC4CC4)ccc3C)c(C)c2)o1'), ('DB08299', 'O=C(O)c1ccc(-c2cc3cccnc3c(-c3cccc([N+](=O)[O-])c3)n2)cc1'), ('DB00718', 'CC(C)(C)C(=O)OCOP(=O)(COCCn1cnc2c(N)ncnc21)OCOC(=O)C(C)(C)C'), ('DB01812', 'Nc1ncnc2c1ncn2C1OC(COP(=O)(O)O)C(OP(=O)(O)O)C1O'), ('DB07662', 'C=CC(=O)Nc1ccc2ncnc(Nc3cccc(Br)c3)c2c1'), ('DB00292', 'CCOC(=O)c1cncn1C(C)c1ccccc1'), ('DB08501', 'CCOC(=O)NCCCNC(=O)OCC'), ('DB06616', 'COc1cc(Nc2c(C#N)cnc3cc(OCCCN4CCN(C)CC4)c(OC)cc23)c(Cl)cc1Cl'), ('DB03279', 'CCCCCCCCCCCCOC1OC(CO)C(OC2OC(CO)C(O)C(O)C2O)C(O)C1O'), ('DB07075', 'N#Cc1ccc2c(-c3cc4cc(CN5CCC(CN)CC5)ccc4[nH]3)n[nH]c2c1'), ('DB07128', 'CCCCNc1cc(C)nc2nc(Nc3cc(Cl)ccc3C)nn12'), ('DB02017', 'OCC1OC(OC2C(O)C(O)c3nccn3C2CO)C(O)C(O)C1O'), ('DB09510', 'N=C(N)O'), ('DB07393', 'c1ccc(-p2c(-c3ccccn3)c3c(c2-c2ccccn2)CCCC3)cc1'), ('DB04561', 'CC(=O)NC1C(O)CC(P(=O)(O)O)OC1C(O)C(O)CO'), ('DB04787', 'Cn1c(C#N)ccc1-c1ccc2c(c1)C(C)(C)OC(=S)N2'), ('DB07607', 'CS(=O)c1ccc(-c2nc(-c3ccncc3)c(-c3cccc(I)c3)[nH]2)cc1'), ('DB08712', 'O=C(O)CCCCCCCCCCOC(=O)S'), ('DB07645', 'O=C(O)CCCCCCCCC(=O)O'), ('DB01980', 'NC(Cc1ccc(I)cc1)C(=O)NO'), ('DB07839', 'COc1ccc(NCCNC(=O)C(CC2CCCCC2)Nc2nc3ccccc3o2)cc1'), ('DB04450', 'CCCCCCCSC1OC(CO)C(O)C(O)C1O'), ('DB00804', 'CCN(CC)CCOC(=O)C1(C2CCCCC2)CCCCC1'), ('DB01218', 'CCCCN(CCCC)CCC(O)c1cc2c(Cl)cc(Cl)cc2c2cc(C(F)(F)F)ccc12'), ('DB03284', 'O=C(O)C1=CC(O)C(O)CO1'), ('DB02315', 'Nc1nc2c(ncn2C2OC3COP(=O)(O)OC3C2O)c(=O)[nH]1'), ('DB08926', 'Nc1ccc(S(=O)(=O)c2ccc(NCC(=O)O)cc2)cc1'), ('DB00695', 'NS(=O)(=O)c1cc(C(=O)O)c(NCc2ccco2)cc1Cl'), ('DB02378', 'CC(C)CC(NC(=O)C1CC(=O)NCCCCCCOC(=O)NC(C(C)C)C(=O)N1)C(O)CC(C)C(=O)NC(C(=O)NCc1ccccc1)C(C)C'), ('DB08233', 'Oc1ccc(Nc2nc(OCC3CCCCC3)c3nc[nH]c3n2)cc1'), ('DB03959', 'O=S(=O)(O)NC1C(O)OC(COS(=O)(=O)O)C(O)C1O'), ('DB04082', 'CCCCCCCCCCOCO'), ('DB08375', 'C=C1CSC(C(NC(=O)C(=NOC)c2csc(N)n2)C(=O)O)N=C1C(=O)O'), ('DB01618', 'CCc1c(C)[nH]c2c1C(=O)C(CN1CCOCC1)CC2'), ('DB09118', 'CC(C)(C)C(O)C=Cc1ccc2c(c1)OCO2'), ('DB01118', 'CCCCc1oc2ccccc2c1C(=O)c1cc(I)c(OCCN(CC)CC)c(I)c1'), ('DB02184', 'OC(CS)C(O)CS'), ('DB06971', 'CN(CCOc1ccc(-c2ccc(C#N)cc2)cc1)C(=O)NO'), ('DB09039', 'CCCCCCCC(O)=NC(CN1CCCC1)C(O)c1ccc2c(c1)OCCO2'), ('DB06922', 'O=C(O)c1ccc2c(c1)C(=O)N(C(Cc1cccc3ccccc13)C(=O)O)C2=O'), ('DB00355', 'CC1C(NC(=O)C(=NOC(C)(C)C(=O)O)c2csc([NH3+])n2)C(=O)N1S(=O)(=O)[O-]'), ('DB01553', 'O=C1CN2CCOC2(c2ccccc2Cl)c2cc(Cl)ccc2N1'), ('DB06603', 'Cc1[nH]c2ccccc2c1CCNCc1ccc(C=CC(O)=NO)cc1'), ('DB02016', 'C=CCN(C)CCCCCCOc1ccc(C(=O)c2ccc(Br)cc2)c(F)c1'), ('DB01320', 'O=C1NC(c2ccccc2)(c2ccccc2)C(=O)N1COP(=O)(O)O'), ('DB01400', 'CN(C)C(=O)Oc1cccc([N+](C)(C)C)c1'), ('DB08280', 'COc1ccc(OC(C)(C)C(=O)NC2C3CC4CC2CC(C(N)=O)(C4)C3)cc1'), ('DB06813', 'C#CCC(Cc1cnc2nc(N)nc(N)c2n1)c1ccc(C(=O)NC(CCC(=O)O)C(=O)O)cc1'), ('DB03333', 'NS(=O)(=O)c1ccc(NC(=S)OCCc2ccsc2)cc1'), ('DB02417', 'Oc1c(Br)cc(Br)cc1Br'), ('DB08573', 'O=C(O)c1sccc1S(=O)(=O)Nc1ccc(Cl)cc1'), ('DB07796', 'NC(=[NH2+])c1ccc(C2C3C(=O)N(Cc4ccc(F)cc4)C(=O)C3C3CCCN32)cc1'), ('DB05109', 'COc1cc2c(cc1O)CCNC21CSC2c3c(OC(C)=O)c(C)c4c(c3C(COC1=O)N1C(O)C3Cc5cc(C)c(OC)c(O)c5C(C21)N3C)OCO4'), ('DB08211', 'NC(=O)c1[nH]c2ccc(Br)cc2c1S(=O)(=O)N1CCCC1'), ('DB02217', 'Cc1cn(C2CC3OC(c4ccccc4)(P(=O)(O)O)OCC3O2)c(=O)[nH]c1=O'), ('DB04729', 'CNC1C(O)C(OC2C(N)CC(N)C(OC3OC(CN)CCC3N)C2O)OCC1(C)O'), ('DB02092', 'CCCCCC=CCC=CCCCCCCCC(=O)OC1CCC2(C)C(=CCC3C2CCC2(C)C(C(C)CCCC(C)C)CCC32)C1'), ('DB08462', 'C=CC(=O)Nc1ccc2ncnc(Nc3ccccc3)c2c1'), ('DB03286', '[N-]=[N+]=NC1(C(N)O)OC(CO)C(O)C(O)C1O'), ('DB08749', 'CN(C(=O)CCN1Cc2cc(C(=O)c3ccccc3)ccc2N=C1N)C1CCCCC1'), ('DB08370', 'NC(CSCc1ccc(Br)cc1)C(=O)O'), ('DB00879', 'Nc1nc(=O)n(C2CSC(CO)O2)cc1F'), ('DB01093', 'CS(C)=O'), ('DB03318', 'CN1C=Nc2c(ncn2C2OC(COP(=O)(O)O)C(O)C2O)C1N'), ('DB03678', 'CC(Nc1ncnc2cc(F)c(F)cc12)C(c1ccccc1)c1ccccc1'), ('DB08535', 'Brc1cnn2c(NCc3cccnc3)cc(-c3ccccc3)nc12'), ('DB03135', 'O=CN(O)CCP(=O)(O)O'), ('DB07009', 'Oc1ccc2nc(-c3cccc4c(O)cccc34)oc2c1'), ('DB03113', 'O=C(O)C(CF)OP(=O)(O)O'), ('DB00901', 'Cc1ccc(C(=O)Oc2ccc(C(O)CNC(C)(C)C)cc2OC(=O)c2ccc(C)cc2)cc1'), ('DB07102', 'NC(CCC(=O)Nc1ccc(OCc2ccccc2)cc1)C(=O)O'), ('DB00945', 'CC(=O)Oc1ccccc1C(=O)O'), ('DB08451', 'CS(=O)(=O)Nc1cccc2cccnc12'), ('DB01713', 'O=c1ccn(C2OC(COP(=O)(O)OP(=O)(O)OC3OCC(O)C(O)C3O)C(O)C2O)c(=O)[nH]1'), ('DB01339', 'CC(=O)OC1CC2CCC3C(CCC4(C)C3CC([N+]3(C)CCCCC3)C4OC(C)=O)C2(C)CC1N1CCCCC1'), ('DB03382', 'NC(C[S]=O)C(=O)O'), ('DB02459', 'N=C(N)Nc1ccc(C(=O)O)cc1'), ('DB06942', 'N=C(N)c1ccc(CNC(=O)C2CCCN2C(=O)CCc2ccccc2)cc1'), ('DB04548', 'O=C(O)C1CC(O)C(O)C(O)O1'), ('DB04317', 'O=C(O)C(CP(=O)(O)O)=C(Cl)Cl'), ('DB06944', 'O=C(Cc1ccc2ccccc2c1)Nc1cc(C2CC2)n[nH]1'), ('DB04618', 'CC1OC(OC2C(CO)OC(OC3C(CO)OC(O)C(O)C3O)C(O)C2O)C(O)C(O)C1NC1C=C(CO)C(OC2OC(CO)C(OC3OC(CO)C(O)C(O)C3O)C(O)C2O)C(O)C1O'), ('DB03975', 'O=C(O)c1ccc([Hg])cc1'), ('DB02878', 'NCCC(CC(=O)O)C(CN)CCC(=O)O'), ('DB08645', 'NS(=O)(=O)c1cc2c(cc1Cl)NC(C(Cl)Cl)NS2(=O)=O'), ('DB03316', 'C1COCCO1'), ('DB04888', 'O=c1[nH]c2cccc(N3CCN(Cc4cccc(-c5ccccc5)c4)CC3)c2o1'), ('DB08208', 'C#Cc1ccc(Nc2c(C(=O)NOCCO)ccc(F)c2F)c(F)c1'), ('DB09038', 'OCC1OC(c2ccc(Cl)c(Cc3ccc(OC4CCOC4)cc3)c2)C(O)C(O)C1O'), ('DB07562', 'Cc1nc(C)c(-c2ccnc(Nc3ccc(N(C)C)cc3)n2)s1'), ('DB08661', 'Cc1cn(C2CC(O)C(CN3CCCC3)O2)c(=O)[nH]c1=O'), ('DB00222', 'CCC1=C(C)CN(C(=O)NCCc2ccc(S(=O)(=O)NC(=O)NC3CCC(C)CC3)cc2)C1=O'), ('DB03110', 'Oc1ccccc1Cl'), ('DB04967', 'CCN(CC)CCNc1ccc(C)c2sc3ccccc3c(=O)c12'), ('DB07490', 'CC(c1ccc(Cl)cc1)c1cc([N+](=O)[O-])cc([N+](=O)[O-])c1O'), ('DB02086', 'Oc1ccc([As+](c2ccccc2)(c2ccccc2)c2ccccc2)cc1O'), ('DB03667', 'CC(=O)ONC(=O)c1ccccc1O'), ('DB02574', 'NC(COC(=O)NCCCN1CCN(CCCNC(=O)c2cc(OC3OC(CO)C(O)C(O)C3O)cc([N+](=O)[O-])c2)CC1)COC(=O)NCCCN1CCN(CCCNC(=O)c2cc(OC3OC(CO)C(O)C(O)C3O)cc([N+](=O)[O-])c2)CC1'), ('DB07860', 'NCC(c1ccccc1)c1ccc(Cl)cc1'), ('DB01245', 'C[N+](C)(C)CCCCCCCCCC[N+](C)(C)C'), ('DB02756', 'O=C1CCc2cccc3c2N1CC3'), ('DB02043', 'CCCCCCCCCCCCCCCC(=O)OCC(COP(=O)(O)OCC(O)CO)OC(=O)CCCCCCCCCCCCCCC'), ('DB02098', 'Nc1ncnc2c1ncn2C1OC(COP(=O)(O)O)C(O)C1OP(=O)(O)O'), ('DB02256', 'O=c1ccn(C2CC(O)C(CO)O2)c(=O)[nH]1'), ('DB07103', 'Cc1ccc(OCC[PH](=O)[O-])cc1'), ('DB07064', 'Cc1ccc2c(c1C)CN(C(=O)N(C)C)CC2c1cccc(O)c1'), ('DB04764', 'NCc1cccc(C2CCN(C(=O)c3cncc(CCc4ccccc4)c3)CC2)c1'), ('DB00703', 'CC(=O)N=c1sc(S(N)(=O)=O)nn1C'), ('DB04801', 'CCCCCCC=CCCCCCCCCCC(=O)O'), ('DB07337', 'N#Cc1ccc(Nc2nc(N)nc(Cc3c(Cl)ccc4[nH]ccc34)n2)cc1'), ('DB03308', 'CC(C)CC(N)C(=O)NO'), ('DB04805', 'CCC1NC(=O)C(NC(=O)c2ncccc2O)C(C)OC(=O)C(c2ccccc2)NC(=O)C2CC(=O)CCN2C(=O)C(Cc2ccccc2)N(C)C(=O)C2CCCN2C1=O'), ('DB02268', 'CC(=O)Nc1ccc(C(=O)O)cc1N'), ('DB04240', 'CCC(C)c1ccc2cc3c(c(O)c2c1O)C(=O)CC(C(OC)C(=O)C(O)C(C)O)C3'), ('DB05855', 'CNCCC=Cc1cccnc1'), ('DB08830', 'O=C1OC(C(O)CO)C(=O)C1=O'), ('DB00270', 'COC(=O)C1=C(C)NC(C)=C(C(=O)OC(C)C)C1c1cccc2nonc12'), ('DB09157', 'O=C=O'), ('DB01024', 'COc1c(C)c2c(c(O)c1CC=C(C)CCC(=O)O)C(=O)OC2'), ('DB08265', 'Cc1ccc(S(=O)(=O)N2N=Cc3ccccc3B2O)cc1'), ('DB03413', 'O=c1ccn(C2CC(O)C(COP(=O)(O)OP(=O)(O)O)O2)c(=O)[nH]1'), ('DB07328', 'COC(=O)c1ccc(NC(=O)NCC2CCC(C(=O)N3CCCC3CN)N2)cc1'), ('DB01105', 'CC(C)CC(N(C)C)C1(c2ccc(Cl)cc2)CCC1'), ('DB02011', 'NC(CCCNC(=O)CP(=O)(O)O)C(=O)O'), ('DB04731', 'CC(=O)OCC(O)COP(=O)(O)OCC[NH3+]'), ('DB01920', 'O=[N+]([O-])c1ccccc1OC1OC(CO)C(O)C(O)C1O'), ('DB00493', 'CON=C(C(=O)NC1C(=O)N2C(C(=O)O)=C(COC(C)=O)CSC12)c1csc(N)n1'), ('DB01897', 'O=c1[nH][nH]c(=O)c2cc(-[n+]3nc(C=Cc4ccccc4)nn3-c3nc4ccccc4s3)ccc12'), ('DB02401', 'O=C(O)c1nonc1O'), ('DB02234', 'CCSC(=N)N'), ('DB07231', 'CCC(C)C(NC(=O)C1OC1C(=O)NCc1ccccc1)C(=O)N1CCCC1C(=O)O'), ('DB00932', 'CCCC1(CCc2ccccc2)CC(O)=C(C(CC)c2cccc(NS(=O)(=O)c3ccc(C(F)(F)F)cn3)c2)C(=O)O1'), ('DB09053', 'C=CC(=O)N1CCCC(n2nc(-c3ccc(Oc4ccccc4)cc3)c3c(N)ncnc32)C1'), ('DB03956', 'O=P(O)(O)OC1C(O)C(O)C(OP(=O)(O)O)C(OP(=O)(O)O)C1O'), ('DB01747', 'CC(=CC(=O)N([O-])CCCC(N=C(C)O)C(=O)OCCC(C)=CC(=O)N([O-])CCCC1N=C(O)C(CCCN([O-])C(=O)C=C(C)CCO)N=C1O)CCO.[Fe+3]'), ('DB09013', 'CC(=O)C1Cc2cccc(OCC(O)CNC(C)C)c2O1'), ('DB00435', '[N]=O'), ('DB07295', 'O=C(O)C(=O)N(c1ccccc1C(=O)O)c1cccc2ccc(O)cc12'), ('DB04430', 'N#CC(=CNc1ccc(Nc2ccccc2)cc1)c1nn[nH]n1'), ('DB08699', 'Cc1cccc(Cc2nn(C(C)(C)C)c3ncnc(N)c23)c1'), ('DB07807', 'OCC1CN(CCCc2ccccc2)CC(O)C1O'), ('DB07539', 'N=C1NC(=O)C(=Cc2ccc(-c3ccc(C(=O)O)cc3)o2)S1'), ('DB07903', 'CC(C)(C)C(=O)Nc1cccnc1C(=O)Nc1nccs1'), ('DB04340', 'O=C([O-])c1ccccc1O[PH](=O)[O-]'), ('DB08646', 'NC(C=O)Cc1c[nH]c2c(O)c(NNc3ccccc3)ccc12'), ('DB03565', 'CCCCCCCCOCC(COP(=O)(O)OCCN)OP(=O)(O)CCCCCCC'), ('DB03622', 'O=C1N=C(O)NC(=O)C1(c1ccccc1)N1CCC(CCO)CC1'), ('DB02309', 'O=c1[nH]c(=O)c2[nH+]cn(C3OC(COP(=O)(O)O)C(O)C3O)c2[nH]1'), ('DB02127', 'CC(C)OP(C)(=O)OC(C)C'), ('DB07025', 'NCC1CCN(Cc2ccc3[nH]c(-c4cc5ccccc5[nH]c4=O)cc3c2)CC1'), ('DB03962', 'NC(=O)c1ccc[n+](C2OC(COP(=O)([O-])OP(=O)(O)OCC3OC(n4c(Br)nc5c(N)ncnc54)C(OP(=O)(O)O)C3O)C(O)C2O)c1'), ('DB02742', 'O=C1NC2C(O)C(O)C(O)C(CO)N2C1=O'), ('DB07167', 'CC1CCN(c2ccc(CO)cc2NC(=O)c2ccc(C#N)o2)CC1'), ('DB01583', 'NC(Cc1cc(I)c(Oc2cc(I)c(O)c(I)c2)c(I)c1)C(=O)[O-].NC(Cc1cc(I)c(Oc2ccc(O)c(I)c2)c(I)c1)C(=O)[O-].[Na+].[Na+]'), ('DB05360', 'CCCn1c(=O)c2[nH]c(C34CC5CC(CC3C5)C4)nc2n(CCC)c1=O'), ('DB07592', 'CCCCC(C=O)NC(=O)OC(Cc1ccccc1)C(C)C'), ('DB07641', 'CCCCCCCCCCP(C)(C)=O'), ('DB02429', 'NS(=O)(=O)c1ccc(C(=O)NCc2ccc(F)cc2)cc1'), ('DB07315', 'O=C(Nc1ccc(C(O)CO)cc1)c1cc2cc(Cl)ccc2[nH]1'), ('DB08706', 'CCc1ccc(C=C2SC(NC(C(=O)O)c3ccc(F)cc3)=NC2=O)o1'), ('DB00035', 'N=C(N)NCCCC(NC(=O)C1CCCN1C(=O)C1CSSCCC(=O)NC(Cc2ccc(O)cc2)C(=O)NC(Cc2ccccc2)C(=O)NC(CCC(N)=O)C(=O)NC(CC(N)=O)C(=O)N1)C(=O)NCC(N)=O'), ('DB03987', 'COc1cc(CN(C)c2cnc3nc(N)nc(N)c3c2)cc(OC)c1'), ('DB00502', 'O=C(CCCN1CCC(O)(c2ccc(Cl)cc2)CC1)c1ccc(F)cc1'), ('DB07136', 'CC(C)C(NS(=O)(=O)CCCc1ccccc1)P(=O)(O)CC(C(=O)O)c1cccc(CN)c1'), ('DB00956', 'COc1ccc2c3c1OC1C(=O)CCC4C(C2)N(C)CCC314'), ('DB05398', 'CCCCCCCCCCCC[N+](C)(C)CC(=O)[O-].CCCCCCCCCCCC[N+](C)(C)[O-]'), ('DB06871', 'CC1(O)CCC2c3ccc4cc(O)ccc4c3CCC21C'), ('DB03703', 'OC1CCCCC1'), ('DB03294', 'Cn1sc(=O)c2cc(S(N)(=O)=O)ccc21'), ('DB04741', 'COC(=CC(N)=O)C(C)C(C=Cc1csc(-c2csc(C(C)C=CC=CC(C)C)n2)n1)OC'), ('DB03319', 'CC(C)(C)c1onc([O-])c1CC([NH3+])C(=O)[O-]'), ('DB00561', 'CCN1CC(CCN2CCOCC2)C(c2ccccc2)(c2ccccc2)C1=O'), ('DB02613', 'CCCCCCCCCC[N+](C)(C)[O-]'), ('DB07423', 'CC(=O)Nc1ccc(OCC(C)(O)C(=O)Nc2ccc([N+](=O)[O-])c(C(F)(F)F)c2)cc1'), ('DB01498', 'CCC(O)C(CC(C)N(C)C)(c1ccccc1)c1ccccc1'), ('DB01497', 'CCCC(C)(O)C1CC23C=CC1(OC)C1Oc4c(O)ccc5c4C12CCN(C)C3C5'), ('DB07989', 'COC(=O)C(CC(C)C)N(O)C(C)=O'), ('DB09257', 'O=c1cc(O)c(Cl)c[nH]1'), ('DB00916', 'Cc1ncc([N+](=O)[O-])n1CCO'), ('DB02537', 'Cc1ccc(OCC(=CC=O)Nc2cc(CC(N)C(=O)O)c(O)cc2O)cc1'), ('DB03990', 'O=[N+]([O-])c1ccc(OC2OC(CO)C(O)C(OC3OC(CO)C(O)C(SC4OC(CO)C(O)C(O)C4O)C3O)C2O)cc1'), ('DB09244', 'Cc1ccc2c(c1)c1c3n2CCNC3CCC1'), ('DB08162', 'O=S(=O)(c1cccc2cnccc12)N1CCCNCC1'), ('DB00723', 'COc1ccc(OC)c(C(O)C(C)N)c1'), ('DB02090', 'COCCN1CCCCC(NC(=O)C(CC(C)C)C(CCCO)C(=O)NO)C1=O'), ('DB02301', 'Nc1nc(=O)c2c([nH]1)N=CC1CN(c3ccc(C(=O)NC(CCC(=O)O)C(=O)O)cc3)CN21'), ('DB00121', 'O=C(O)CCCCC1SCC2NC(=O)NC21'), ('DB07365', 'NC(Cc1cccc2ccccc12)C(=O)O'), ('DB09343', 'N=C1CCCN1Cc1[nH]c(=O)[nH]c(=O)c1Cl'), ('DB00665', 'CC1(C)NC(=O)N(c2ccc([N+](=O)[O-])c(C(F)(F)F)c2)C1=O'), ('DB07266', 'CCN1C(=O)C(C)(C)c2cc3[nH]c4c(c3cc21)CCCc1c(C)n[nH]c1-4'), ('DB06743', 'CC1C(=O)OC2CC34C5CC(C(C)(C)C)C36C(OC(=O)C6O)OC4(C(=O)O5)C21O'), ('DB06774', 'COc1cc(CNC(=O)CCCCC=CC(C)C)ccc1O'), ('DB03940', 'NC(=O)C(=O)O'), ('DB07211', 'CC(=CS(=O)(=O)NC1CCN(C(C)C(=O)N2CCOCC2)C1=O)c1ccc(Cl)s1'), ('DB02881', 'CC(C)c1cc(Sc2ccc(O)c(C(C)C)c2)ccc1O'), ('DB07504', 'CN(C)CC(O)COc1ccc(Nc2ncc(Br)c(Nc3ccccc3)n2)cc1'), ('DB02477', 'Cc1nccn1CCCCc1ccc(CC(=O)NC(CO)C(=O)NC(CCCCN)C(=O)NCCC2CCCCC2)cc1'), ('DB02020', 'O=C(O)CN1C(=O)c2cccc3cccc(c23)C1=O'), ('DB03757', 'CC(NC(=O)C(C)NC(=O)OC(C)(C)C)C(N)=O'), ('DB08771', 'CC(C)C1SC(Nc2ccccc2F)=NC1=O'), ('DB01063', 'CC(=O)c1ccc2c(c1)N(CCCN1CCN(CCO)CC1)c1ccccc1S2'), ('DB03477', 'NS(=O)(=O)c1ccc(-n2nc(C(F)(F)F)cc2-c2ccc(Br)cc2)cc1'), ('DB07974', 'CC(C)N1CCC(NC(=O)c2cc3ccccc3n2CC(=O)Nc2ccc(Cl)cc2)CC1'), ('DB09241', 'CN(C)c1ccc2nc3ccc(N(C)C)cc3[s+]c2c1.[Cl-]'), ('DB03835', 'CC(=O)NN1C(=O)NC2(OC(CO)C(O)C(O)C2O)C1=O'), ('DB02633', 'Nc1c(S(=O)(=O)O)cc(Nc2ccc(Nc3nc(Cl)nc(Nc4ccccc4S(=O)(=O)O)n3)c(S(=O)(=O)O)c2)c2c1C(=O)c1ccccc1C2=O'), ('DB02831', 'O=P([O-])(O)O'), ('DB04616', 'c1ccc2c(NCCCCCCCCNc3c4c(nc5ccccc35)CCCC4)ccnc2c1'), ('DB04352', 'O=P(O)(O)OCC1OC(O)C(O)C1O'), ('DB08509', 'COc1ccc(OCCCCCCn2ccnc2)c(Cl)c1'), ('DB04650', 'O=C(O)CCCCC1SCC2NC(=O)NC21'), ('DB02018', 'N=C(N)c1ccc(CC(=O)C(=O)O)cc1'), ('DB01893', 'O=P(O)(O)OP(=O)(O)OCC1OC(n2cnc3c(NCc4ccccc4)ncnc32)C(O)C1O'), ('DB01116', 'O=C1N(Cc2ccccc2)C2C[S+]3CCCC3C2N1Cc1ccccc1'), ('DB08525', 'Cc1cccc(CCCN(O)C=O)n1'), ('DB08154', 'N#Cc1cc(Cl)cc(Oc2cc(OCc3n[nH]c4ccccc34)ccc2Cl)c1'), ('DB07358', 'Cc1csc(NC(=O)c2cc(Sc3nncn3C)ccc2N)n1'), ('DB01246', 'CC(CN(C)C)CN1c2ccccc2Sc2ccccc21'), ('DB00265', 'CC=CC(=O)N(CC)c1ccccc1C'), ('DB07739', 'O=S(=O)(c1ccc2c(c1)CNC(CF)C2)N1CCSCC1'), ('DB00426', 'CC(=O)OCC(CCn1cnc2cnc(N)nc21)COC(C)=O'), ('DB01536', 'CC12CCC3C(CCC4=CC(=O)CCC43C)C1CCC2=O'), ('DB00255', 'CCC(=C(CC)c1ccc(O)cc1)c1ccc(O)cc1'), ('DB09252', 'CC(C)(C)C(=O)NNCc1ccccc1'), ('DB01336', 'COc1ccc2cc1Oc1cc3c(cc1OC)CC[N+](C)(C)C3Cc1ccc(cc1)Oc1c(OC)c(OC)cc3c1C(C2)[N+](C)(C)CC3'), ('DB04542', 'Cc1cn(C2CC(N=[N+]=[N-])C(COP(=O)(O)OP(=O)(O)O)O2)c(=O)[nH]c1=O'), ('DB03803', 'CC(C)C(NC(=O)C(OCc1ccccc1)C(O)C(O)C(OCc1ccccc1)C(=O)NC(C(=O)NCc1ccccn1)C(C)C)C(=O)NCc1ccccn1'), ('DB08047', 'C=CCn1nc(-c2ccc(O)cc2O)c2cccc(C(F)(F)F)c21'), ('DB01489', 'CN(C)C(=O)OC1N=C(c2ccccc2)c2cc(Cl)ccc2N(C)C1=O'), ('DB00487', 'CCn1cc(C(=O)O)c(=O)c2cc(F)c(N3CCN(C)CC3)cc21'), ('DB03947', 'O=C(CO)C(O)C(O)CO'), ('DB06958', 'CCNC(=O)c1n[nH]c(-c2cc(Cl)c(O)cc2O)c1N1CCNCC1'), ('DB03226', 'OCC(F)(F)F'), ('DB08911', 'CC(=O)Nc1cccc(-n2c(=O)n(C3CC3)c(=O)c3c(Nc4ccc(I)cc4F)n(C)c(=O)c(C)c32)c1'), ('DB01940', 'O=C(NC1CNCCCC1OC(=O)c1ccc(C(=O)c2ccccc2O)cc1)c1ccc(O)cc1'), ('DB02368', 'CC(=O)NC(CCCNC(N)=O)C(=O)O'), ('DB00734', 'Cc1nc2n(c(=O)c1CCN1CCC(c3noc4cc(F)ccc34)CC1)CCCC2'), ('DB07385', 'CC1CN1C1=CC(=O)c2c(c(CO)c(-c3ccccc3)n2C)C1=O'), ('DB03670', 'O=C(O)C(=O)Nc1sc2c(c1C(=O)O)CCNC2'), ('DB03760', 'O=C(O)CCCCC(S)CCS'), ('DB06795', 'NCc1ccc(S(N)(=O)=O)cc1'), ('DB07426', 'O=P(O)(O)C(O)(COc1cccc(-c2cccc(-c3ccccc3)c2)c1)P(=O)(O)O'), ('DB07516', 'O=C(O)C(O)=C(Cl)C=CC(=O)c1ccccc1'), ('DB01789', 'NC1C=C(CO)CC(O)C1O'), ('DB05804', 'CC12CCC3C(CC=C4CC(OS(=O)(=O)O)CCC43C)C1CCC2=O'), ('DB00344', 'CNCCCC1c2ccccc2C=Cc2ccccc21'), ('DB01194', 'CCNC1CN(CCCOC)S(=O)(=O)c2sc(S(N)(=O)=O)cc21'), ('DB04322', 'Nc1nc(O)c2c(n1)NCC(CCc1ccc(C(=O)NC(CCC(=O)O)C(=O)O)cc1)C2'), ('DB01262', 'Nc1ncn(C2CC(O)C(CO)O2)c(=O)n1'), ('DB00553', 'COc1c2occc2cc2ccc(=O)oc12'), ('DB05790', 'CC(C)Oc1cccc(CC(=O)N2CCCC(CC[N+]34CCC(c5ccccc5)(CC3)CC4)(c3ccc(Cl)c(Cl)c3)C2)c1.[Cl-]'), ('DB07568', 'O=C(Nc1ccncc1)C(NS(=O)(=O)c1cccc2nsnc12)c1ccccc1'), ('DB01686', 'CN(C)C(N)=NCCCC(N)C(=O)O'), ('DB00699', 'COC12CC(COC(=O)c3cncc(Br)c3)CN(C)C1Cc1cn(C)c3cccc2c13'), ('DB01020', 'O=[N+]([O-])OC1COC2C(O)COC12'), ('DB02464', 'NCc1ccccc1'), ('DB02802', 'NC(=O)c1cc(OC2OC(CO)C(O)C(O)C2O)cc([N+](=O)[O-])c1'), ('DB01701', 'CC(Cl)CCl'), ('DB04701', 'CSCC(NC(=O)CCC(N)C(=O)O)C(=O)NCC(=O)O'), ('DB08198', 'CC1=C(C(=O)c2ccccc2)C(c2cccc(O)c2)NC(=S)N1C'), ('DB06705', 'O=C([O-])CN(CCN(CC(=O)[O-])CC(COP(=O)([O-])OC1CCC(c2ccccc2)(c2ccccc2)CC1)N(CC(=O)[O-])CC(=O)[O-])CC(=O)[O-].[Gd+3].[Na+].[Na+].[Na+]'), ('DB02542', 'CC(CF)CC(N)C(=O)O'), ('DB00815', 'CCCCCCCCCCCCOS(=O)(=O)[O-].[Na+]'), ('DB06964', 'CCNC(=O)c1noc(-c2cc(Cl)c(O)cc2O)c1-c1ccc(OC)cc1'), ('DB07389', 'Cc1cc(N)nc(CCNC(=O)c2ccc(C#N)cc2)c1'), ('DB03070', 'NC(=O)c1c[se]c(C2OC(COP(=O)(O)OP(=O)(O)OCC3OC(n4cnc5c(N)ncnc54)C(O)C3O)C(O)C2O)n1'), ('DB03795', 'CC(C)(CO)C(=O)C(=O)O'), ('DB04382', 'OCC1OC(O)CC(O)C1O'), ('DB02618', 'CC[N+](C)(C)CCCS(=O)(=O)[O-]'), ('DB01470', 'CCC(=O)N(c1ccccc1)C1CCN(C(C)Cc2cccs2)CC1'), ('DB07586', 'Cc1ccc(C(=O)Nc2cc(C(=O)N(C)C)cc(-c3ccc(C(=O)NO)cc3)c2)cc1'), ('DB05884', 'CNC(=O)c1c(-c2ccc(F)cc2)oc2cc(NS(C)(=O)=O)c(OC(C)C)cc12'), ('DB07431', 'COc1ccc2sc3c(c2c1)NCC(CN)NC3=O'), ('DB07420', 'O=P(O)(O)C(CCCc1cccc(Oc2ccccc2)c1)S(=O)(=O)O'), ('DB00608', 'CCN(CC)CCCC(C)Nc1ccnc2cc(Cl)ccc12'), ('DB02765', 'CC(O)Cn1cnc2c(N)ncnc21'), ('DB07856', 'Clc1ccc(C2(c3ccc(-c4ncnc5[nH]cnc45)cc3)CCNCC2)cc1'), ('DB03106', 'OC1C(O)C(O)C(O)C(O)C1O'), ('DB02896', 'CSc1ncnc2c1ncn2C1OC(CO)C(O)C1O'), ('DB00369', 'Nc1ccn(CC(CO)OCP(=O)(O)O)c(=O)n1'), ('DB01237', 'CN(C)CCOC(c1ccccc1)c1ccc(Br)cc1'), ('DB01692', 'OC(CS)C(O)CS'), ('DB02288', 'Cc1cc(Br)c([O-])c(-c2nc3cc(C(N)=[NH2+])ccc3[nH]2)c1'), ('DB03848', 'O=S(O)c1ccccc1'), ('DB00432', 'O=c1[nH]c(=O)n(C2CC(O)C(CO)O2)cc1C(F)(F)F'), ('DB06831', 'COc1ccccc1-n1c(CSc2ncnc3[nH]cnc23)nc2cccc(Cl)c2c1=O'), ('DB00449', 'CNCC(O)c1ccc(OC(=O)C(C)(C)C)c(OC(=O)C(C)(C)C)c1'), ('DB07501', 'CN(C)CC(O)COc1ccc(Nc2ncc(Br)c(Nc3ccccc3)n2)cc1'), ('DB03047', 'CC=CCCC=CCCC=CCCCCCCC(=O)OCC(COP(=O)(O)OCCN)OC(=O)CCCCCCCC=CCC=CCCC'), ('DB04425', 'Nc1nc(=O)c2c([nH]1)N=C(C(O)C(O)CO)CN2'), ('DB07800', 'O=C(Nc1ccccc1S(=O)(=O)Nc1ccc(Cl)cn1)c1ccc(-n2ccccc2=O)cc1'), ('DB02074', 'CC=CC(=O)O'), ('DB02752', 'Cc1ccc(S(=O)(=O)N2CCCC2C(=O)O)cc1'), ('DB01097', 'Cc1oncc1C(=O)Nc1ccc(C(F)(F)F)cc1'), ('DB02372', 'Cc1ncc(C)c(N)n1'), ('DB03460', 'CC(C=CC=C(C)C=CC12OC1(C)CC(O)CC2(C)C)=CC=CC=C(C)C=CC=C(C)C=CC12OC1(C)CC(O)CC2(C)C'), ('DB01839', 'CC(O)CO'), ('DB02540', 'Nc1nc2ccc(CC(C(=O)O)c3ccc(C(=O)NC(CCC(=O)O)C(=O)O)cc3)cc2c(=O)[nH]1'), ('DB00522', 'O=C(O)c1ccc(NC(=O)C(Cc2ccc(O)cc2)NC(=O)c2ccccc2)cc1'), ('DB02984', 'COc1cc2ncnc(Nc3cccc(SC)c3)c2cc1OC'), ('DB03562', 'O=C1CCN(C2CC(O)C(CO)O2)C(=O)N1'), ('DB08480', 'C=CC=NC1CCc2c(O)cccc21'), ('DB02452', 'Cc1cn(C2CC(O)C(COP(=O)(O)OP(=O)(O)OP(=O)(O)O)O2)c(=O)[nH]c1=O'), ('DB03603', 'O=C([O-])C(O)C(O)C(O)C(O)C(=O)[O-]'), ('DB08105', 'CCCCOc1ccc2cc(S(=O)(=O)NC(CCC(=O)O)C(=O)O)ccc2c1'), ('DB08221', 'Cc1ccc(NC(=O)c2cccc(C(F)(F)F)c2)cc1Nc1ncccc1-c1ccncn1'), ('DB03836', 'Clc1cc(Cl)cc(Cl)c1'), ('DB01480', 'COC12C=CC3(CC1C(C)(C)O)C1Cc4ccc(O)c5c4C3(CCN1CC1CC1)C2O5'), ('DB02180', 'CCCCCCCCCCCCCC(=O)SCCNC(=O)CCNC(=O)C(O)C(C)(C)COP(=O)(O)OP(=O)(O)OCC1OC(n2cnc3c(N)ncnc32)C(O)C1OP(=O)(O)O'), ('DB04776', 'CCC(CO)Nc1nc(N(C)Cc2ccccc2)c2ncn(C(C)C)c2n1'), ('DB01954', 'COc1ccc(C2CN=C(O)C2)cc1OC1CCCC1'), ('DB07048', 'CCCC(CCC)C(=O)NC1Cc2ccc(S(N)(=O)=O)cc2C1'), ('DB02369', 'CC(C)=CCCN(C)CCOP(=O)([O-])OP(=O)([O-])[O-]'), ('DB04630', 'CC12CCC(=O)C=C1CCC1C2C(O)CC2(C=O)C(C(=O)CO)CCC12'), ('DB04448', 'OCc1ccc(F)cc1F'), ('DB00832', 'CN1C(=O)CC(c2ccccc2)C1=O'), ('DB07060', 'O=C(O)C(O)Cc1c[nH]c2ccccc12'), ('DB03685', 'O=c1ccn(C2OC(COP(=O)(O)O)C(O)C2O)c(=O)[nH]1'), ('DB00412', 'CN(CCOc1ccc(CC2SC(=O)NC2=O)cc1)c1ccccn1'), ('DB03722', 'Cc1cccc2c1CCNC2=O'), ('DB05105', 'Cc1cc(CCCOc2c(C)cc(-c3noc(C(F)(F)F)n3)cc2C)on1'), ('DB07122', 'N=C(N)Nc1ccc(CC(=O)c2ccccc2)cc1'), ('DB02786', 'O=C(O)C1(O)C=C(F)C(O)C(O)C1'), ('DB00345', 'Nc1ccc(C(=O)NCC(=O)O)cc1'), ('DB01740', 'CCCCC1=NC(N)=[Se]=C1CCC'), ('DB02062', 'CC(NC(=O)C(Cc1ccc(-c2ccccc2)cc1)CP(=O)(O)C(C)N)C(=O)O'), ('DB09420', '[I-]'), ('DB02137', 'Nc1nc(=O)c2c([nH]1)NC1OC(COP(=O)([O-])[O-])C3=C(S[Mo](=O)([O-])S3)C1N2'), ('DB01524', 'CC12CCC(O)CC1=CCC1C2CCC2(C)C(O)CCC12'), ('DB01629', 'O=c1[nH]c(=O)n(C2OC(CO)C(O)C2O)cc1F'), ('DB06883', 'CC(C)(C)c1cc(NC(=O)Nc2ccccc2)n(-c2cccc(N)c2)n1'), ('DB06267', 'CCCOc1ccc(S(=O)(=O)NCCC2CCCN2C)cc1-c1nc(=O)c2c([nH]1)c(CCC)nn2C'), ('DB08251', 'O=CC(CC(=O)O)NC(=O)c1cncc(-c2ccc(C(=O)O)cc2)c1'), ('DB00761', '[Cl-].[K+]'), ('DB09449', 'O=P([O-])(O)O.[Na+]'), ('DB07019', 'CC1CCc2cccc(c2)CC(C)(N)C(=O)OCc2cc(nc(N(C)S(C)(=O)=O)c2)CC1'), ('DB00559', 'COc1ccccc1Oc1c(NS(=O)(=O)c2ccc(C(C)(C)C)cc2)nc(-c2ncccn2)nc1OCCO'), ('DB01077', 'CC(O)(P(=O)(O)O)P(=O)(O)O'), ('DB02949', 'C=CC1C2=Cc3c(C)c(CCC(=O)O)c4n3[Fe]35N2C(=C1C)C=C1C(C(=C)O)C(C)=C(C=c2c(C)c(CCC(=O)O)c(n23)=C4)N15'), ('DB06335', 'N#CC1CC2CC2N1C(=O)C(N)C12CC3CC(CC(O)(C3)C1)C2'), ('DB02911', 'Nc1nc(N)c2c(n1)NCC(c1ccccc1)N2'), ('DB06987', 'CC(C)NCC(O)COc1ccc(CC(N)=O)cc1'), ('DB04217', 'C#CC(N)C(=O)O'), ('DB08167', 'CN(C)c1ccc2nc3ccc(N(C)C)cc3[s+]c2c1'), ('DB02668', 'Cc1ccccc1CNC(=O)C1N(C(=O)C(O)C(Cc2ccccc2)NC(=O)c2cccc(O)c2C)CSC1(C)C'), ('DB04873', 'CCCCN1CCC(CNC(=O)c2c3n(c4ccccc24)CCCO3)CC1'), ('DB11622', 'CC(CCC(=O)O)C1CCC2C3C(=O)CC4CC(=O)CCC4(C)C3CC(=O)C12C'), ('DB01610', 'CC(C)C(N)C(=O)OCC(CO)OCn1cnc2c(=O)nc(N)[nH]c21'), ('DB00296', 'CCCN1CCCCC1C(=O)Nc1c(C)cccc1C'), ('DB08488', 'O=C1CN(S(=O)(=O)C=Cc2ccc(Cl)s2)CCN1Cc1cc2cnccc2[nH]1'), ('DB01340', 'CCOC(=O)C(CCc1ccccc1)NC1CCCN2CCCC(C(=O)O)N2C1=O'), ('DB00145', 'NCC(=O)O'), ('DB04126', 'CC(C)CCNC(=O)C(CC(C)C)NC(=O)C(O)CC(=O)O'), ('DB04231', 'O[Cu+](O)(n1ccnc1)(n1ccnc1)(n1ccnc1)n1ccnc1'), ('DB00504', 'C=CCN1CCC23CCCCC2C1Cc1ccc(O)cc13'), ('DB07894', 'O=P(O)(O)C=CCCSc1cc(F)ccc1O'), ('DB01261', 'NC(CC(=O)N1CCn2c(nnc2C(F)(F)F)C1)Cc1cc(F)c(F)cc1F'), ('DB01418', 'CC(=O)CC(c1ccc([N+](=O)[O-])cc1)c1c(O)c2ccccc2oc1=O'), ('DB00942', 'OC(CCN1CCCCC1)(c1ccccc1)C1CCCC1'), ('DB06928', 'O=C(O)CCC(CP(=O)(O)Cc1ccc(I)cc1)C(=O)O'), ('DB09034', 'Cc1ccc(-n2nccn2)c(C(=O)N2CCN(c3nc4cc(Cl)ccc4o3)CCC2C)c1'), ('DB07993', 'Nc1ncccc1NCc1cccc(-c2ccc3cc[nH]c3c2)c1'), ('DB00722', 'NCCCCC(NC(CCc1ccccc1)C(=O)O)C(=O)N1CCCC1C(=O)O'), ('DB04837', 'CN(C)CCC(O)(c1ccccc1)c1ccccc1Cl'), ('DB02885', 'C=C1C=NC(C(F)(F)F)=NC1=N'), ('DB03066', 'CC(O)C(=O)O'), ('DB07540', 'CC(=C1SC(=N)NC1=O)c1ccc(-c2ccc(S(N)(=O)=O)cc2)o1'), ('DB00622', 'COC(=O)C1=C(C)NC(C)=C(C(=O)OCCN(C)Cc2ccccc2)C1c1cccc([N+](=O)[O-])c1'), ('DB06827', 'N=C1NC(O)CC(C2NC(=O)C(=CNC(N)=O)NC(=O)C(CO)NC(=O)C(CO)NC(=O)C(NC(=O)CC(N)CCCN)CNC2=O)N1'), ('DB04107', 'CCOC(=O)CON=C(c1ccccn1)C1(c2ccc3c(c2)nc(CNc2ccc(C(=N)N)cc2)n3C)CC1'), ('DB01152', 'CC1C=CC=CC=CC=CC=CC=CC=CC(OC2OC(C)C(O)C(N)C2O)CC2OC(O)(CC(O)CC(O)CC(O)CC(=O)CCCC(=O)CC(=O)OC1C(C)CC(C)C(O)CC(=O)c1ccc(N)cc1)CC(O)C2C(=O)O'), ('DB07803', 'O=C(O)c1c[nH]c(-c2ccccc2)n1'), ('DB03687', 'CC(O)(CO)C(O)COP(=O)(O)OP(=O)(O)OCC1OC(n2ccc(N)nc2=O)C(O)C1O'), ('DB08059', 'COCC1OC(=O)c2coc3c2C1(C)C1=C(C3=O)C2CCC(=O)C2(C)CC1OC(C)=O'), ('DB08678', 'CCc1ccc(NS(=O)(=O)O)cc1'), ('DB09137', 'Cc1cc(C)c(NC(=O)CN(CC(=O)O)CC(=O)O)c(C)c1Br.[Tc]'), ('DB07105', 'N=C(N)Nc1ccc(CC(NC(=O)CSc2ccc(Cl)cc2)C(N)=O)cc1'), ('DB08601', 'CCCC[SnH](CCCC)CCCC'), ('DB04445', 'I[Hg]I'), ('DB03347', 'CCOP(=O)(OCC)OCC'), ('DB07354', 'COc1cc2c[nH+]c3c(c2cc1OC)Cc1cc2c(cc1-3)OCO2'), ('DB02701', 'NC(=O)c1cccnc1'), ('DB00928', 'Nc1ncn(C2OC(CO)C(O)C2O)c(=O)n1'), ('DB03928', 'O=C(O)CSc1nc(-c2cccc(Cl)c2)no1'), ('DB00775', 'CCCCS(=O)(=O)NC(Cc1ccc(OCCCCC2CCNCC2)cc1)C(=O)O'), ('DB00460', 'C=Cc1c(C)c2cc3nc(cc4[nH]c(cc5nc(cc1[nH]2)c(C)c5CCC(=O)O)c(CCC(=O)OC)c4C)C1(C)C3=CC=C(C(=O)OC)C1C(=O)OC'), ('DB08017', 'COc1ccc(N2CCN(c3cccc(C)c3)CC2)nn1'), ('DB04761', 'O=C(NCc1cccnc1)c1cc(C(=O)NCc2cccnc2)ncn1'), ('DB01885', 'O=C1OC(CO)C(O)C(O)C1O'), ('DB07723', 'COc1ccc2[nH]cc(CCC(=O)O)c2c1'), ('DB03831', 'CCCCCCCCC=CCCCCCCCCOC(=O)C(O)CO'), ('DB07069', 'O=C(O)CNC(=O)c1cccc(O)c1'), ('DB03290', 'CC(=O)NC(Cc1cccc2ccccc12)[B-](O)(O)OCC(N)C(=O)O'), ('DB09001', 'CCC1(c2ccccc2)C(O)=NC(=O)N=C1O.CNC(C)CC1CCCCC1'), ('DB01012', 'CC(NCCCc1cccc(C(F)(F)F)c1)c1cccc2ccccc12'), ('DB03387', 'CC(C)N(O)C(=O)C(=O)O'), ('DB02732', 'CC(=O)Cc1cc[n+](C2OC(COP(=O)([O-])OP(=O)(O)OCC3OC(n4cnc5c(N)ncnc54)C(O)C3O)C(O)C2O)cc1C(N)=O'), ('DB04483', 'OCC1OC(O)C(F)C(O)C1O'), ('DB02590', 'CC1OC(O)C(O)CC1O'), ('DB02664', 'CCCCB(O)O'), ('DB11366', 'CN(C(=O)c1c(O)c2ccccc2n(C)c1=O)c1ccccc1'), ('DB00692', 'Cc1ccc(N(CC2=NCCN2)c2cccc(O)c2)cc1'), ('DB01059', 'CCn1cc(C(=O)O)c(=O)c2cc(F)c(N3CCNCC3)cc21'), ('DB04257', 'CCCCCCC=CCCCCCCCC(=O)O'), ('DB03770', 'N=C(N)NO'), ('DB04288', 'NC1CCC(Nc2nc(NCc3ccccc3)c3ncn(C4CCCC4)c3n2)CC1'), ('DB08136', 'CC(=O)Nc1c[nH]nc1C(=O)Nc1ccc(F)cc1'), ('DB00973', 'O=C1C(CCC(O)c2ccc(F)cc2)C(c2ccc(O)cc2)N1c1ccc(F)cc1'), ('DB00920', 'CN1CCC(=C2c3ccccc3CC(=O)c3sccc32)CC1'), ('DB01160', 'CCCCCC(O)C=CC1C(O)CC(O)C1CC=CCCCC(=O)O.NC(CO)(CO)CO'), ('DB03179', 'COc1cc(C=CC(=O)SCCNC(=O)CCNC(=O)C2(O)C(OP(=O)(O)OP(=O)(O)OCC3OC(n4cnc5c(N)ncnc54)C(O)C3OP(=O)(O)O)C2(C)C)cc(OC)c1O'), ('DB03558', 'O=C(O)CCNC(=O)C1CCCN1S(=O)(=O)c1ccc(C(=O)NC(CCC(=O)O)C(=O)O)cc1'), ('DB07526', 'CN(C)c1cccc2c(S(=O)(=O)NCCCCNC(=O)CCS)cccc12'), ('DB00919', 'CNC1C(O)C(NC)C2OC3(O)C(=O)CC(C)OC3OC2C1O'), ('DB07291', 'N#Cc1cnn(-c2ccc(Cl)cc2)c1N'), ('DB07776', 'O=c1cc(-c2ccccc2)oc2ccccc12'), ('DB01780', 'C=CC(C)(C)OCC1OC(OC2C3=C(C(C)COC(C)=O)CC(O)C3(C)C=C3C(COC)CCC3C(C)C2O)C(O)C(OC(C)=O)C1O'), ('DB04214', 'O=[N+]([O-])c1ccc(OP(=O)(O)O)cc1'), ('DB02442', 'NC(C[Se](=O)=O)C(=O)O'), ('DB02283', 'O=S(=O)(O)CCNc1ccccc1'), ('DB07170', 'Nc1ncnc2c1ncn2C1CC(O)C(CF)O1'), ('DB07280', 'CN(C)c1ccc(-c2c(N)ncnc2C#Cc2ccc(N3CCOCC3)nc2)cc1'), ('DB01148', 'Cc1c(-c2ccccc2)oc2c(C(=O)OCCN3CCCCC3)cccc2c1=O'), ('DB00918', 'CN(C)CCc1c[nH]c2ccc(CS(=O)(=O)N3CCCC3)cc12'), ('DB07738', 'COc1cc(Br)cc(CN2CCC(NC(=O)CCCS)CC2)c1OC'), ('DB02956', '[S-]SSS[S-]'), ('DB08512', 'Nc1nc2cc3[nH]c(NCc4cccc5ccccc45)nc3cc2c(=O)[nH]1'), ('DB07819', 'O=C(C=Cc1ccc(Cl)cc1)NO'), ('DB04909', 'CCN(CC)CCCCCCNc1cc(OC)cc2c(C)ccnc12'), ('DB03759', 'O=c1[nH]c2cc([N+](=O)[O-])c([N+](=O)[O-])cc2[nH]c1=O'), ('DB02971', 'NCCOCCC(N)C(=O)O'), ('DB08216', 'CC(C)(C)c1cc(N=Nc2ccccc2C(=O)O)ccc1O'), ('DB04077', 'OCC(O)CO'), ('DB04546', 'Nc1nccc2c1ncn2C1OC(CO)C(O)C1O'), ('DB08795', 'CC1(C)SC2C(NC(=O)C(N=[N+]=[N-])c3ccccc3)C(=O)N2C1C(=O)O'), ('DB08314', 'Nc1ncc(C(=O)c2cccc(Br)c2)o1'), ('DB03673', 'NC(Cc1cccs1)C(=O)O'), ('DB04027', 'NC(=[NH2+])NCCCC(N)C(=O)O'), ('DB00149', 'CC(C)CC(N)C(=O)O'), ('DB03187', 'NCSCCC(CCCCC(=O)O)SSCCO'), ('DB06905', 'COC(Cc1ccccc1)C(C)C=C(C)C=CC(N)C(C)C(=O)O'), ('DB00168', 'COC(=O)C(Cc1ccccc1)NC(=O)C(N)CC(=O)O'), ('DB03071', 'Cc1nc(C(C)N)n(CC(=O)O)c1O'), ('DB02304', 'CCCCCC(O)C=CC1=C(CC=CCCCC(=O)O)C(=O)CC1'), ('DB08081', 'CCCCCC(=O)CC(=O)NC1CCOC1=O'), ('DB02531', 'CC(C)C(=O)O'), ('DB08428', 'CC(O)C(N)Cc1ccccc1'), ('DB00617', 'CCC1(C)OC(=O)N(C)C1=O'), ('DB01411', 'O=C(Nc1cccc2c(=O)cc(-c3nn[nH]n3)oc12)c1ccc(OCCCCc2ccccc2)cc1'), ('DB03026', 'O=C(COP(=O)(O)O)NO'), ('DB01636', 'C=Cc1c(C)c2cc3nc(cc4[n-]c(cc5nc(cc1[n-]2)c(C)c5CCC(=O)O)c(CCC(=O)O)c4C)c(C)c3C=O.[Fe+2]'), ('DB06968', 'c1cn(CCCCCCn2ccnc2)cn1'), ('DB00303', 'CC(O)C1C(=O)N2C(C(=O)O)=C(SC3CNC(C(=O)Nc4cccc(C(=O)O)c4)C3)C(C)C12'), ('DB07873', 'CCCCCCCCCCCC(O)(P(=O)(O)O)P(=O)(O)O'), ('DB01134', 'CC(C)(C)C(=O)OCC(=O)C1CCC2C3CCC4=CC(=O)CCC4(C)C3CCC12C'), ('DB08940', 'CC(=O)CCC1C(=O)N(c2ccccc2)N(c2ccccc2)C1=O'), ('DB02431', 'Nc1ccn(C2OC(COP(=O)(O)OP(=O)(O)OP(=O)(O)O)C(O)C2O)c(=O)n1'), ('DB08513', 'Cc1cccc(Nc2nc(Nc3ccc(CC(=O)O)cc3)ncc2C(N)=O)c1'), ('DB07914', 'O=C(O)C(O)=CC=CC(=O)c1ccccc1'), ('DB07476', 'NS(=O)(=O)c1ccc(NC(=O)c2ccccc2S)cc1'), ('DB02646', 'CCN=O'), ('DB03095', 'C[N+](C)(C)C'), ('DB02398', 'N=C(N)c1ccc2cc(C(=O)Nc3ccc(CN)cc3)ccc2c1'), ('DB00476', 'CNCCC(Oc1cccc2ccccc12)c1cccs1'), ('DB06480', 'COCCCN1CCC(NC(=O)c2cc(Cl)c(N)c3c2OCC3)CC1'), ('DB04229', 'O=C(O)CN(CCN(CC(=O)O)CC(=O)NCCS)CCN(CC(=O)O)CC(=O)NCCS'), ('DB07314', 'COc1cc(OC)c(NC(=O)Nc2cnc(C#N)cn2)cc1Cl'), ('DB04489', 'N=C(N)NCCSC(CC(=O)O)C(=O)O'), ('DB02580', 'COCCOCCOCCOCCOCCOC'), ('DB07254', 'CS(=O)(=O)Nc1cccc(Nc2nccc(Nc3c(Cl)ccc4c3OCO4)n2)c1'), ('DB00316', 'CC(=O)Nc1ccc(O)cc1'), ('DB02496', 'CC(=O)C(O)C(O)COP(=O)(O)O'), ('DB07947', 'O=S(=O)(NCCNCCOCc1ccc(Cl)cc1)c1cccc2cnccc12'), ('DB07316', 'CC(O)(c1ccc(C(=O)N(C2CC2)C2CCN(CC3(C(N)=O)CC3)CC2)cc1)C(F)(F)F'), ('DB02434', 'O=C(O)CCCc1cccs1'), ('DB08532', 'Fc1ccccc1-c1cn2ccnc2c(NCc2cccnc2)n1'), ('DB07074', 'COC(=O)c1cc(NC(=O)c2cccc(O)c2C)c2cc(C(=N)N)ccc2c1'), ('DB04768', 'Cc1ncc(C[n+]2cccc(CCOP(=O)(O)OP(=O)(O)O)c2C)c(N)n1'), ('DB07003', 'CC1CN=C(N)c2sccc2O1'), ('DB09150', 'O=CC(F)C(O)C(O)C(O)CO'), ('DB01551', 'COc1ccc2c3c1OC1C(O)CCC4C(C2)N(C)CCC341'), ('DB07473', 'COC(=O)C1CSC2(c3ccccc3)c3ccccc3C(=O)N12'), ('DB00816', 'CC(C)NCC(O)c1cc(O)cc(O)c1'), ('DB03181', 'Cc1cc(-n2ncc(=O)[nH]c2=O)cc(C)c1Oc1ccc(O)c(C(C)C)c1'), ('DB03211', 'C=C(C=O)CCP(=O)(O)O'), ('DB01731', 'CN(C)CC(O)Cn1c2ccc(Br)cc2c2cc(Br)ccc21'), ('DB08860', 'O=C(O)CC(O)CC(O)C=Cc1c(C2CC2)nc2ccccc2c1-c1ccc(F)cc1'), ('DB09350', 'CCCCOCCOCCOCc1cc2c(cc1CCC)OCO2'), ('DB01564', 'CC1CC2=CC(=O)CCC2(C)C2CCC3(C)C(CCC3(C)O)C12'), ('DB00180', 'CC1(C)OC2CC3C4CC(F)C5=CC(=O)C=CC5(C)C4C(O)CC3(C)C2(C(=O)CO)O1'), ('DB00505', 'CC[N+](CC)(CC)CCC(O)(c1ccccc1)C1CCCCC1'), ('DB02770', 'Nc1ncc2c(ncn2C2OC(COP(=O)(O)O)C(O)C2O)n1'), ('DB01252', 'O=C(O)C(CC(=O)N1CC2CCCCC2C1)Cc1ccccc1'), ('DB05288', 'CC(=O)OCC(=O)C1(O)CCC2C3CCC4=CC(=O)CCC4(C)C3=CCC21C'), ('DB09048', 'Cc1ccccc1-c1cc(N2CCN(C)CC2)ncc1N(C)C(=O)C(C)(C)c1cc(C(F)(F)F)cc(C(F)(F)F)c1'), ('DB08308', 'CC12CCC3C4CCC(=O)C=C4CCC3C1CCC2OC(=O)CCC(=O)O'), ('DB02176', 'CC(=O)O[Hg+]'), ('DB02630', 'O=P(O)(O)OCC(O)C(O)C(O)CO'), ('DB08624', 'N=C(N)NCCCC(N)C(=O)c1nc2ccccc2s1'), ('DB02669', 'O=C(NCC(=O)N1C(C(=O)O)CCC1c1ccccc1)C(S)Cc1ccccc1'), ('DB03381', 'CCCCCCCCCCCCCCCC=O'), ('DB02424', 'COC1=C2CC(C)CC(OC)C(O)C(C)C=C(C)C(OC(=N)O)C(OC)C=CC=C(C)C(O)=NC(=CC1=O)C2=O'), ('DB07189', 'O=C(O)C1CC12CC(c1ccc(OCc3cc(-c4ccccc4)nc4ccccc34)cc1)NC2=O'), ('DB04160', 'O=P([O-])([O-])OP(=O)([O-])[O-]'), ('DB03049', 'NC(CS[SeH])C(=O)O'), ('DB06713', 'C#CC1(O)CCC2C3CCC4=CC(=NO)CCC4C3CCC21CC'), ('DB04026', 'CN1C2CCC1CC(O)C2'), ('DB07545', 'O=C(Nc1cccc(Nc2nccc(Nc3cccc(C(F)(F)F)c3)n2)c1)C1CC1'), ('DB01033', 'S=c1nc[nH]c2nc[nH]c12'), ('DB00366', 'CN(C)CCOC(C)(c1ccccc1)c1ccccn1'), ('DB00766', 'O=C(O)C1C(=CCO)OC2CC(=O)N21'), ('DB07613', 'c1ccc(-c2cc(-c3cc[nH]n3)on2)cc1'), ('DB00939', 'Cc1ccc(Cl)c(Nc2ccccc2C(=O)O)c1Cl'), ('DB00647', 'CCC(=O)OC(Cc1ccccc1)(c1ccccc1)C(C)CN(C)C'), ('DB08004', 'CC(C)C(CO)Nc1ccc2ncc(-c3cccc(N)c3)n2n1'), ('DB02318', 'OCC1OC(F)C(F)C(O)C1O'), ('DB02785', 'CC1CCC(O)C1NC(=O)C(Cc1ccccc1)CC(O)CN1CCN(C(=O)c2cnc(N3CCN(C)CC3)c(Cl)n2)CC1C(=O)NC(C)(C)C'), ('DB00708', 'CCC(=O)N(c1ccccc1)C1(COC)CCN(CCc2cccs2)CC1'), ('DB03619', 'CC(CCC(=O)O)C1CCC2C3CCC4CC(O)CCC4(C)C3CC(O)C12C'), ('DB02746', 'O=C(O)c1ccccc1C(=O)O'), ('DB04314', 'Cn1ccc(N)nc1=O'), ('DB08159', 'O=C(O)CCCn1c2c(c3ccccc3c1=O)C(=O)c1ccccc1-2'), ('DB01995', 'Cc1cn(C2OC(COP(=O)(O)O)C(O)C2O)c(=O)nc1N'), ('DB03980', 'Nc1nccc(-c2c(-c3ccc(F)cc3)ncn2CC2CC2)n1'), ('DB05885', 'CCC(C(N)=O)N1CC(C=C(F)F)CC1=O'), ('DB00586', 'O=C(O)Cc1ccccc1Nc1c(Cl)cccc1Cl'), ('DB02589', 'CC[Se]C(=N)N'), ('DB02481', 'O=CNCc1ccccc1'), ('DB08166', 'Cn1c2c(c3ccc(Cl)cc31)C(C#N)C1(CCNCC1)NC2=O'), ('DB01535', 'CCC(=O)N(c1ccccc1)C1(C(=O)OC)CCN(CCc2ccccc2)CC1'), ('DB00888', 'CN(CCCl)CCCl'), ('DB03985', 'CC(C)=CCC[NH+](C)C1CC=C(C)CC1'), ('DB03163', 'CC(=O)CSCCS(=O)(=O)O'), ('DB02116', 'Cn1cnc2c(NCc3ccccc3)nc(NCCO)nc21'), ('DB02096', 'NC(=O)c1cn(C(CO)CCc2ccccc2)cn1'), ('DB04174', 'CC(=O)NC1C(OP(=O)(O)OP(=O)(O)OCC2OC(n3ccc(=O)[nH]c3=O)C(O)C2O)OC(CO)C(O)C1OC(C)(OP(=O)(O)O)C(=O)O'), ('DB00233', 'Nc1ccc(C(=O)O)c(O)c1'), ('DB09079', 'COC(=O)c1ccc2c(c1)N=C(O)C2=C(Nc1ccc(N(C)C(=O)CN2CCN(C)CC2)cc1)c1ccccc1'), ('DB07848', 'CC(C(=O)N1CCOCC1)N1CCC(NS(=O)(=O)c2cc3cc(Cl)ccc3[nH]2)C1=O'), ('DB03570', 'C[N+](CO)(CO)CO'), ('DB03430', 'N#CC(O)c1ccc(O)cc1'), ('DB05414', 'Cc1c(-c2ccc(O)cc2)n(Cc2ccc(OCCN3CCCCC3)cc2)c2ccc(O)cc12'), ('DB00104', 'CC(O)C(CO)NC(=O)C1CSSCC(NC(=O)C(N)Cc2ccccc2)C(=O)NC(Cc2ccccc2)C(=O)NC(Cc2c[nH]c3ccccc23)C(=O)NC(CCCCN)C(=O)NC(C(C)O)C(=O)N1'), ('DB01121', 'NC(=O)NC(=O)Cc1ccccc1'), ('DB08119', 'CC(=O)NC(CC(C)C)C(=O)NC(Cc1ccccc1)C(=O)C(F)(F)F'), ('DB03168', 'NC(=O)c1c[n+](C2OC(COP(=O)([O-])OP(=O)(O)OCC3OC(n4cnc5c(N)ncnc54)C(O)C3O)C(O)C2O)ccc1C1CCCCC1=O'), ('DB00339', 'NC(=O)c1cnccn1'), ('DB07785', 'CC(O)C(CCOc1ccc2ccccc2c1)n1cnc(C(N)=O)c1'), ('DB02780', 'NCC(CS)C(=O)O'), ('DB03853', 'O=S(=O)(O)c1ccc(O)c(N=Nc2c(S(=O)(=O)O)cc3c(S(=O)(=O)O)c(Nc4ncnc(Nc5ccc6c(O)c(N=Nc7cc(S(=O)(=O)O)ccc7O)c(S(=O)(=O)O)cc6c5S(=O)(=O)O)n4)ccc3c2O)c1'), ('DB00306', 'C=CCC1(C(C)CC)C(=O)NC(=O)NC1=O'), ('DB08693', 'CC(=O)NC(Cc1ccc(Cl)cc1)[B-](O)(O)O'), ('DB09495', 'COc1ccc(C(=O)CC(=O)c2ccc(C(C)(C)C)cc2)cc1'), ('DB03814', 'O=S(=O)([O-])CC[NH+]1CCOCC1'), ('DB09295', 'O=C1OC(OC(=O)c2cccnc2Nc2cccc(C(F)(F)F)c2)c2ccccc21'), ('DB05719', 'CN(NC(=O)CC(=O)NN(C)C(=S)c1ccccc1)C(=S)c1ccccc1'), ('DB03136', 'NC(=[NH2+])c1cc2c(I)cccc2s1'), ('DB02458', 'NC(CCC(=O)NC(CSc1ccc([N+](=O)[O-])cc1[N+](=O)[O-])C(=O)NCC(=O)O)C(=O)O'), ('DB02265', 'CC[Si](C)(C)C'), ('DB08392', 'COc1ccc(-c2oc3ncnc(NCCO)c3c2-c2ccc(OC)cc2)cc1'), ('DB04234', 'CCCCC(C=O)NC(=O)C(CC(C)C)NC(=O)OCc1ccc(Br)cc1'), ('DB03923', 'COc1cc(C=CC(=O)SCCNC(=O)CCNC(=O)C(O)C(C)(C)COP(=O)(O)OP(=O)(O)OCC2OC(n3cnc4c(N)ncnc43)C(O)C2OP(=O)(O)O)cc(O)c1O'), ('DB03037', 'O=C(O)Cc1ccc2c(c1O)C(=O)c1c(O)cccc1C2=O'), ('DB02945', 'O=C(O)C1OC(O)C(O)C(O)C1O'), ('DB02838', 'O=C([O-])C1=[NH+]CCC1'), ('DB00251', 'CC(C)N1CCN(c2ccc(OCC3COC(Cn4cncn4)(c4ccc(Cl)cc4Cl)O3)cc2)CC1'), ('DB07240', 'O=C(O)CCON=C1c2ccccc2-c2ccccc21'), ('DB01029', 'CCCCC1=NC2(CCCC2)C(=O)N1Cc1ccc(-c2ccccc2-c2nn[nH]n2)cc1'), ('DB00664', 'COc1nccnc1NS(=O)(=O)c1ccc(N)cc1'), ('DB02530', 'NCCCC(=O)O'), ('DB03611', 'COC=CC(N)C(=O)O'), ('DB00141', 'CC(=O)NC(C=O)C(O)C(O)C(O)CO'), ('DB04104', 'Cn1cnc(N)c2ncnc1-2'), ('DB01531', 'CN1CCC23c4c5ccc(O)c4OC2CCCC3C1C5'), ('DB07795', 'O=c1c(O)c(-c2ccc(O)c(O)c2)oc2cc(O)ccc12'), ('DB08193', 'O=C(O)Cc1cccc([N+](=O)[O-])c1'), ('DB00254', 'CC1c2cccc(O)c2C(=O)C2=C(O)C3(O)C(=O)C(C(N)=O)=C(O)C(N(C)C)C3C(O)C21'), ('DB03720', 'CC=C(N)C(=O)O'), ('DB04716', 'CC(C)(C)c1nc2c3ccc(F)cc3c3c(=O)[nH]ccc3c2[nH]1'), ('DB01614', 'CC(=O)c1ccc2c(c1)N(CCCN(C)C)c1ccccc1S2'), ('DB03138', '[O-][Cl+3]([O-])([O-])[O-]'), ('DB06746', 'CC1C(=O)OC2CC34C5OC(=O)C3(OC3OC(=O)C(O)C34C(C(C)(C)C)C5O)C21O'), ('DB07599', 'CON=C(C(=O)NCB(O)O)c1csc(N)n1'), ('DB08620', 'N#CN=C1SCCN1Cc1ccc(Cl)nc1'), ('DB03496', 'CN1CCC(c2c(O)cc(O)c3c(=O)cc(-c4ccccc4Cl)oc23)C(O)C1'), ('DB06811', 'CCCCCCCCCCCCOCCOCCOCCOCCOCCOCCOCCOCCOCCO'), ('DB08735', 'CC(O)CC(c1ccccc1)c1c(O)c2ccccc2oc1=O'), ('DB04782', 'O=[N+]([O-])c1ccc(C2CO2)cc1'), ('DB04725', 'CC1(C)Cc2c(-c3ccccc3)c(-c3ccc(Cl)cc3)c(CC(=O)O)n2C1'), ('DB07051', 'CCOC(=O)c1c(C)[nH+]n(-c2ccccc2)c1C'), ('DB07414', 'CC(C)C1C(O)=C(C2=NS(=O)(=O)c3ccccc32)C(=O)N1Cc1ccccc1'), ('DB07391', 'CC(N)C(=O)c1nnc(C(C)(C)C)o1'), ('DB03487', 'NC1CC(=O)NC1=O'), ('DB08792', 'CN(C(=O)C(Cl)Cl)c1ccc(O)cc1'), ('DB01188', 'Cc1cc(C2CCCCC2)n(O)c(=O)c1'), ('DB07649', 'Nc1ncnc2c(CN3CC(O)C(CSCc4ccccc4)C3)c[nH]c12'), ('DB00896', 'CCC(=O)C1(C)C(C)CC2C3CCC4=CC(=O)C=CC4(C)C3C(O)CC21C'), ('DB04818', 'CC(C)NNC(=O)c1ccncc1'), ('DB02426', 'C=C1C2CCC3C4(C)CC(OC5OC(COO)C(OS(=O)(=O)O)C(OS(=O)(=O)O)C5OC(=O)CC(C)C)CC(C(=O)O)(C(=O)O)C4CCC3(C2)C1O'), ('DB02963', 'CS(=O)(=O)c1ccc(Nc2cc(Cl)nc3ccnn23)cc1'), ('DB03598', 'COc1cccc(N2C(CN3CCOCC3)=Cc3cc(S(N)(=O)=O)sc3S2(=O)=O)c1'), ('DB01482', 'CC(Cc1ccccc1)NCCn1cnc2c1c(=O)n(C)c(=O)n2C.Cl'), ('DB03652', 'O=C(O)C1OC(O)C(O)C(O)C1O'), ('DB00179', 'CC(Cc1ccc(O)c(O)c1)C(C)Cc1ccc(O)c(O)c1'), ('DB00780', 'NNCCc1ccccc1'), ('DB07335', 'CC(C)n1nc(-c2cccc(O)c2)c2c(N)ncnc21'), ('DB05245', 'Nc1ccc(S(=O)(=O)[N-]c2ncccn2)cc1.[Ag+]'), ('DB04930', 'CC1(C)C(C=C(Cl)Cl)C1C(=O)OCc1cccc(Oc2ccccc2)c1'), ('DB09156', 'COCC(O)=Nc1c(I)c(C(=O)N(C)CC(O)CO)c(I)c(C(O)=NCC(O)CO)c1I'), ('DB03020', 'NC(=O)c1c[nH+]cc(C2OC(COP(=O)([O-])OP(=O)(O)OCC3OC(n4cnc5c(N)ncnc54)C(O)C3O)C(O)C2O)c1'), ('DB07679', 'CC(C)C1NC(=O)CCCCOc2ccc(cc2)CC(C(=O)O)NC1=O'), ('DB08016', 'O=c1[nH]c(Cl)c(CCCCOP(=O)(O)O)c(=O)[nH]1'), ('DB03895', 'CN(C)c1ccc(C(=C2C=CC(=[N+](C)C)C=C2)c2ccccc2)cc1'), ('DB00478', 'CC(N)C12CC3CC(CC(C3)C1)C2'), ('DB04856', 'CCCCCN(CCCOC)C(=O)C(CCC(=O)O)NC(=O)c1ccc(Cl)c(Cl)c1'), ('DB03543', 'O=C(O)c1ccccc1NCC(O)C(O)C(O)COP(=O)(O)O'), ('DB04778', 'CC(NC(NCC(O)O)Nc1ccc(CN)cc1)c1ccccc1'), ('DB01621', 'CN(C)S(=O)(=O)c1ccc2c(c1)N(CCCN1CCC(CCO)CC1)c1ccccc1S2'), ('DB08046', 'NS(=O)(=O)c1cc(C2(O)NC(=O)c3ccccc32)ccc1Cl'), ('DB08636', 'O=C(O)C(=O)C=Cc1ccccc1O'), ('DB03483', 'NC(=O)C(Cc1ccc(C(F)(F)P(=O)(O)O)cc1)NC(=O)C(Cc1ccc(C(F)(F)P(=O)(O)O)cc1)NC(=O)C(CCC(=O)O)NC(=O)c1ccccc1'), ('DB06873', 'O=c1[nH]c(=O)n(COCCO)cc1Cc1cccc(OCc2ccccc2)c1'), ('DB07109', 'COc1ccc(C=CC(=O)O)cc1O'), ('DB03626', 'COC1=CC(=O)c2c(c(COc3ccccc3)c(C)n2C)C1=O'), ('DB08747', 'CC(=O)N1c2cccc(O)c2NC2=C(C(=O)CC(C)(C)C2)C1c1ccc(Cl)cc1Cl'), ('DB02183', 'Nc1ncnc2c1ncn2C1OC(CO[W](=O)(O)O[W](=O)(O)O)C(O)C1O'), ('DB00890', 'CC=C(C(=CC)c1ccc(O)cc1)c1ccc(O)cc1'), ('DB01635', 'CC1(C)NC(C(=O)O)CS1'), ('DB04386', 'CC1(C(=O)O)OCC2OC(O)C(O)C(O)C2O1'), ('DB04376', 'CC(=O)OC12C(O)C(C)C3(O)C(C=C(CO)CC4(O)C(=O)C(C)=CC43)C1C2(C)C'), ('DB01650', 'O=C(O)C=Cc1ccccc1O'), ('DB01236', 'FCOC(C(F)(F)F)C(F)(F)F'), ('DB07963', 'O=C(O)CCNC(=O)c1cc(-c2ccc(F)cc2F)cc(I)c1O'), ('DB06243', 'NCCCC(N)(C(=O)O)C(F)F'), ('DB00491', 'OCCN1CC(O)C(O)C(O)C1CO'), ('DB01864', 'Nc1nc2c(ncn2C2OC(COP(=O)(O)OP(=O)(O)OP(O)(O)=S)C(O)C2O)c(=O)[nH]1'), ('DB03146', 'O=P(O)(O)OCC1OC(n2cnc3c(SP(=O)(O)O)[nH+]cnc32)C(O)C1O'), ('DB01062', 'CCN(CC)CC#CCOC(=O)C(O)(c1ccccc1)C1CCCCC1'), ('DB03571', 'Nc1nc(O)c2nn(-c3cccc(C(=O)NCc4cc(Cl)cc(Cl)c4)c3)nc2n1'), ('DB02502', 'Nc1nc2c(nc(O)n2C2CC(O)C(CO)O2)c(=O)[nH]1'), ('DB01736', 'CCCCCCCCCCCC(=O)NCCC[N+](C)(C)[O-]'), ('DB04751', 'CC(C)C(CO)Nc1nc(Nc2cccc(Cl)c2)c2ncn(C(C)C)c2n1'), ('DB04029', 'NC(=O)C(N)Cc1ccccc1'), ('DB03098', 'C[Se]CC(=O)[O-]'), ('DB08916', 'CN(C)CC=CC(=O)Nc1cc2c(Nc3ccc(F)c(Cl)c3)ncnc2cc1OC1CCOC1'), ('DB00762', 'CCc1c2c(nc3ccc(OC(=O)N4CCC(N5CCCCC5)CC4)cc13)-c1cc3c(c(=O)n1C2)COC(=O)C3(O)CC'), ('DB00144', 'CCCC(=O)OC(COC(=O)CC)COP(=O)(O)OCC(N)C(=O)O'), ('DB02821', 'NOCCC(N)C(=O)O'), ('DB07689', 'COC(=O)C1CCN(C(=O)c2ccc(NCc3cnc4nc(N)nc(N)c4n3)cc2)CC1'), ('DB07521', 'OC1C(NCCC2CCCCN2)=NCC(Cl)N1CCNCc1csc2ccc(Cl)cc12'), ('DB07909', 'O=C(O)CCCNC(=O)c1ccc(C2CCC(c3ccccc3)CC2O)cc1'), ('DB00118', 'C[S+](CCC(N)C(=O)O)CC1OC(n2cnc3c(N)ncnc32)C(O)C1O'), ('DB08095', 'COc1ccc(N(C(=O)Nc2ccccc2Cl)c2ccnc(NC(C)C(C)(C)O)n2)cc1'), ('DB08922', 'O=C1C2CCCCC2C(=O)N1CCCCN1CCN(c2nsc3ccccc23)CC1'), ('DB08347', 'CC(C)(C)NCC(O)COc1cccc2c1CC(C#N)=N2'), ('DB00302', 'NCC1CCC(C(=O)O)CC1'), ('DB03627', 'C1C2CC3CC1CC(C2)C3'), ('DB03380', 'NC(=O)C(N)Cc1ccc(O)cc1'), ('DB00131', 'Nc1ncnc2c1ncn2C1OC(COP(=O)(O)O)C(O)C1O'), ('DB04411', 'Nc1ccc(C(O)C(CO)NC(=O)C(Cl)Cl)cc1'), ('DB03323', 'O=CC(O)C(O)C(OC1OC(CO)C(O)C(O)C1O)C(O)CO'), ('DB02390', 'C[NH+](C)CCNC(=O)c1cccc2c(N)c3cccc(Br)c3[nH+]c12'), ('DB05479', 'CSCCC(NC(=O)C(CO)NC(=O)C(Cc1ccc(O)cc1)NC(=O)C(CO)NC(C)=O)C(=O)NC(CCC(=O)O)C(=O)NC(Cc1cnc[nH]1)C(=O)NC(Cc1ccccc1)C(=O)NC(CCCNC(=N)N)C(=O)NC(Cc1c[nH]c2ccccc12)C(=O)NCC(=O)NC(CCCCN)C(=O)N1CCCC1C(=O)NC(C(N)=O)C(C)C'), ('DB00884', 'O=P(O)(O)C(O)(Cc1cccnc1)P(=O)(O)O'), ('DB08618', 'COC(=O)C1C(OP(=O)(O)c2ccccc2)CC2CCC1N2C'), ('DB01416', 'COCC1=C(C(=O)O)N2C(=O)C(NC(=O)C(=NOC)c3csc(N)n3)C2SC1'), ('DB07264', 'O=C(NC(CO)c1ccc(F)c(Cl)c1)c1cc(-c2n[nH]cc2-c2cccc(Cl)c2)c[nH]1'), ('DB01030', 'CCC1(O)C(=O)OCc2c1cc1n(c2=O)Cc2cc3c(CN(C)C)c(O)ccc3nc2-1'), ('DB08324', 'CCCCCCCCCC(=O)CC(=O)NC1CCOC1=O'), ('DB08820', 'CC(C)(C)c1cc(C(C)(C)C)c(NC(=O)c2c[nH]c3ccccc3c2=O)cc1O'), ('DB08214', 'Oc1ccc(-n2ccnc2)cc1'), ('DB08558', 'CCCCCCCCSC1OC(CO)C(O)C(O)C1O'), ('DB01732', 'O=C1N(Cc2ccccc2)C(COc2ccccc2)C(O)C(O)C(COc2ccccc2)N1Cc1ccccc1'), ('DB09348', 'O=C1CCO1'), ('DB00774', 'NS(=O)(=O)c1cc2c(cc1C(F)(F)F)NCNS2(=O)=O'), ('DB00787', 'Nc1nc(=O)c2ncn(COCCO)c2[nH]1'), ('DB04957', 'CN1CCN(CCCCN2C(=O)CN(N=Cc3ccc(-c4ccc(Cl)cc4)o3)C2=O)CC1'), ('DB00513', 'NCCCCCC(=O)O'), ('DB08733', 'CNC(=O)C(NC(=O)C(CC(C)C)C(CNC(=O)c1nccs1)C(=O)NO)C(C)(C)C'), ('DB07235', 'CNc1nccc(-c2ccc(C(=O)NC(CN)Cc3ccc(Cl)cc3Cl)s2)n1'), ('DB09234', 'CCOC(=O)C1=C(C)NC(C)=C(C(=O)OCC)C1c1cccc2nonc12'), ('DB02658', 'O=[N+]([O-])c1ccc(OC2OC(CO)C(O)C(O)C2F)c([N+](=O)[O-])c1'), ('DB01541', 'CC12C=CC(=O)C=C1CCC1C2CCC2(C)C(O)CCC12'), ('DB09462', 'OCC(O)CO'), ('DB02518', 'CC(=O)NC(C)C(=O)O'), ('DB07619', 'CC(O)(c1ccc(C(=O)N(C2CCC(c3cccnc3)CC2)C2CC2)cc1)C(F)(F)F'), ('DB09125', 'O=C([O-])CC(O)(CC(=O)[O-])C(=O)[O-].[K+].[K+].[K+]'), ('DB08052', 'Nc1ncnc2c1c(-c1cnc3[nH]ccc3c1)nn2C1CCCC1'), ('DB00186', 'O=C1Nc2ccc(Cl)cc2C(c2ccccc2Cl)=NC1O'), ('DB08072', 'CC(C)Oc1cccc(NC(=O)c2cc(Cl)c(OCCN)c(Cl)c2)c1'), ('DB06924', 'O=C(O)C(Cc1ccccc1)C[N+](=O)[O-]'), ('DB00288', 'CC(=O)OCC(=O)C12OC3(CCCC3)OC1CC1C3CCC4=CC(=O)C=CC4(C)C3(F)C(O)CC12C'), ('DB02105', 'O=[N+]([O-])c1cc(O)c(O)c([N+](=O)[O-])c1'), ('DB08785', 'Cc1cc(=O)oc2ccccc12'), ('DB03196', 'O=[N+]([O-])c1ccc(OC2OC(CO)C(O)C2O)cc1'), ('DB02507', 'CC(=O)CC(c1ccccc1)c1c(O)c2ccccc2oc1=O'), ('DB08972', 'CC1CCc2cc(F)cc3c(=O)c(C(=O)O)cn1c23'), ('DB01259', 'CS(=O)(=O)CCNCc1ccc(-c2ccc3ncnc(Nc4ccc(OCc5cccc(F)c5)c(Cl)c4)c3c2)o1'), ('DB08212', 'COc1ccc(C(C)=O)c(O)c1C1CC1NC(=S)Nc1ccc(C#N)cn1'), ('DB01183', 'C=CCN1CCC23c4c5ccc(O)c4OC2C(=O)CCC3(O)C1C5'), ('DB08090', 'CCCCCCCCN=C1OCC2C(O)C(O)C(O)C(O)N12'), ('DB07869', 'CCCc1c(S(=O)C2CCCCC2)c2cc(Cl)ccc2[nH]c1=O'), ('DB03167', 'Oc1c(Br)c(Br)c(Br)c(Br)c1Br'), ('DB01392', 'COC(=O)C1C(O)CCC2CN3CCc4c([nH]c5ccccc45)C3CC21'), ('DB01739', 'CCC(C)C(N)C(=O)O'), ('DB01793', 'O=C1NC(=O)C(c2cccc(Cl)c2)=C1Nc1ccc(Cl)c(C(=O)O)c1'), ('DB06843', 'CC1OC(n2cnc3c(N)ncnc32)CC1OP(=O)(O)O'), ('DB07435', 'OC1Cc2c(cc3ccc4cccc5ccc2c3c45)C(O)C1O'), ('DB03808', 'N=C(N)c1ccc(OCCCCCCOc2ccc(C(=N)N)cc2)cc1'), ('DB07044', 'O=C(NN=Cc1cc(Br)c(O)c(Br)c1O)c1cccc(Br)c1'), ('DB04951', 'Cc1ccc(=O)n(-c2ccccc2)c1'), ('DB03393', 'CCC1CC(C)C2(NC1=O)OC(CC(O)C(C)CCC=CC=C(C)C1CC=CC=CC(O)C(C)C(O)C(CCC(C)=O)C(=O)NC(C(C)C)C(=O)NC(Cc3cccc(O)c3)C(=O)N3CCCC(N3)C(=O)O1)C(C)C(O)C2C'), ('DB03278', 'OCC(O)C(O)CO'), ('DB02249', 'CCOCCO'), ('DB03103', 'Cc1cn(C2CC(O)C(COP(=O)(O)OP(=O)(O)O)O2)c(=O)[nH]c1=O'), ('DB01255', 'CC(Cc1ccccc1)NC(=O)C(N)CCCCN'), ('DB01072', 'COC(=O)NC(C(=O)NC(Cc1ccccc1)C(O)CN(Cc1ccc(-c2ccccn2)cc1)NC(=O)C(NC(=O)OC)C(C)(C)C)C(C)(C)C'), ('DB04491', 'CC(C)O[PH](=O)OC(C)C'), ('DB07737', 'O=C(NCCCS)C1CN(Cc2ccc(F)cc2)CCN1'), ('DB06913', 'N#CC(C(N)=O)C(S)Nc1cc(C(F)(F)F)cc(C(F)(F)F)c1'), ('DB08235', 'Cc1[nH]c2ccccc2c1CCNC(=O)c1cccs1'), ('DB06920', 'COC1CC(C(=O)Nc2ccc(-n3ccccc3=O)cc2F)N(C(=O)Nc2ccc(Cl)cc2)C1'), ('DB01937', 'Nc1nc2c(ncn2C2OC(CO)C(O)C2OP(=O)(O)O)c(=O)[nH]1'), ('DB04379', 'CC(c1ccccc1)N(C)C=O'), ('DB02640', 'COC1C(OC(=O)C=CC=CC=CC=CC(=O)O)CCC(C)(O)C1C1(C)OC1CC=C(C)C'), ('DB07587', 'N#CC1(NC(=O)C(CS(=O)(=O)CC2CCC(=O)N2)NC(c2ccc(F)cc2)C(F)(F)F)CC1'), ('DB07529', 'N=C1NC(=O)C(=Cc2ccccn2)S1'), ('DB04109', 'NC(=[NH2+])c1ccc(COB2OCCO2)cc1'), ('DB09114', 'CCCCCCCCCCCCCCCC(=O)OCC(COP(=O)([O-])OCC[N+](C)(C)C)OC(=O)CCCCCCCCCCCCCCC'), ('DB06678', 'CN1CCN2c3ncccc3Cc3ccccc3C2C1'), ('DB08472', 'CNCCC(Oc1ccc(C(F)(F)F)cc1)c1ccccc1'), ('DB07015', 'NC1CN(C(=O)c2cnc3ccccc3n2)CC1C(=O)N1CCCC1'), ('DB00682', 'CC(=O)CC(c1ccccc1)c1c(O)c2ccccc2oc1=O'), ('DB03868', 'O=C1CC(O)(C(=O)O)CC(O)C1O'), ('DB07270', 'COc1cc(-c2cccc(N)c2)c2oc(NS(=O)(=O)c3cc(Cl)ccc3Cl)nc2c1'), ('DB03898', 'NC(C(=O)O)c1ccc(O)c(Cl)c1'), ('DB08365', 'Cn1c(C(=O)NCCO)c(Br)c2c3c(c(-c4ccccc4Cl)cc21)C(=O)NC3=O'), ('DB01794', 'Nc1nc(=O)c2c([nH]1)NC1OC(COP(=O)([O-])[O-])C([S-])=C([S-])C1N2.Nc1nc(=O)c2c([nH]1)NC1OC(COP(=O)([O-])[O-])C([S-])=C([S-])C1N2.[Mg+2].[W]'), ('DB09195', 'FC(F)(F)c1cccc(N2CCN(CCc3nnc4n3CC3CCCC43)CC2)c1'), ('DB03437', 'CON=C(C(=O)NC(C=O)C1NC(C(=O)O)C(C)(C)S1)c1csc(N)n1'), ('DB08066', 'O=C(Nc1c[nH]nc1-c1nc2ccccc2[nH]1)c1ccccc1'), ('DB04575', 'C#CC1(O)CCC2C3CCc4cc(OC5CCCC5)ccc4C3CCC21C'), ('DB00273', 'CC1(C)OC2COC3(COS(N)(=O)=O)OC(C)(C)OC3C2O1'), ('DB08639', 'Cc1cc(C)c(Nc2ccnc(Nc3ccc(C#N)cc3)n2)c(C)c1'), ('DB08737', 'Oc1ccc(C2Oc3cccc(O)c3C3CCCC32)cc1'), ('DB07890', 'O=P(O)(O)C=CCCSc1ccccc1O'), ('DB00891', 'Nc1ccc(S(=O)(=O)Nc2ccccn2)cc1'), ('DB01647', 'CCCOc1cc(C2(C)CNC(=O)O2)ccc1OC'), ('DB08873', 'CC(C)(C)NC(=O)NC(C(=O)N1CC2C(C1C(=O)NC(CC1CCC1)C(=O)C(N)=O)C2(C)C)C(C)(C)C'), ('DB06852', 'O=c1[nH]c2ccc(Cl)cc2c(NC2CN3CCC2CC3)c1-c1nc2ccccc2[nH]1'), ('DB03913', 'CC(OP(=O)(O)OCC(O)C(O)C(O)Cn1c2nc(=O)[nH]c(=O)c-2cc2ccc(O)cc21)C(=O)NC(CCC(=O)NC(CCC(=O)O)C(=O)O)C(=O)O'), ('DB02673', 'COc1ccc2c3c1OC1CC(O)C=CC31CC[N+](CCCCCCCCN1C(=O)c3ccccc3C1=O)=C2'), ('DB07352', 'O=c1cc(-c2ccc(O)cc2)oc2cc(O)cc(O)c12'), ('DB03839', 'NC(Cc1ccc(O)cc1)C(=O)O'), ('DB07495', 'CCNC(=O)c1n[nH]c(-c2cc(Cl)c(O)cc2O)c1-c1ccc(OC)cc1'), ('DB02695', 'CCCCCOC1OC(CO)C(O)C(O)C1O'), ('DB07099', 'NCC(=O)Nc1ccc(OCc2ccccc2)cc1'), ('DB03766', 'CCC(=O)O'), ('DB08514', 'Nc1nc2cc3nc(NCc4cccs4)[nH]c3cc2c(=O)[nH]1'), ('DB01729', 'O=P(O)(O)OC1C(O)C(O)C(OP(=O)(O)O)C(OP(=O)(O)O)C1O'), ('DB07634', 'Cc1cccc(C)c1OCC(=O)O'), ('DB05871', 'CC(C)=CCOc1cc(NC(=S)c2ccoc2C)ccc1Cl'), ('DB02236', 'NCC(=O)NC1OC(COP(=O)([O-])[O-])C(O)C1O'), ('DB01023', 'CCOC(=O)C1=C(C)NC(C)=C(C(=O)OC)C1c1cccc(Cl)c1Cl'), ('DB03522', 'NC(CC(=O)OCC(=O)O)C(=O)O'), ('DB02485', 'CC(=O)NC1C(O)CC(OP(=O)(O)OCC2OC(n3ccc(N)nc3=O)C(O)C2O)(C(=O)O)OC1C(O)C(O)CO'), ('DB13158', 'CC1CC2C3CCC4=CC(=O)C=CC4(C)C3(F)C(=O)CC2(C)C1(O)C(=O)CCl'), ('DB02582', 'C=C(C)C(NC(=O)C(CS)NC(=O)CCCC(N)C(=O)O)C(=O)O'), ('DB08802', 'CC(CN1c2ccccc2Sc2cccnc21)N(C)C'), ('DB00246', 'O=C1Cc2cc(CCN3CCN(c4nsc5ccccc45)CC3)c(Cl)cc2N1'), ('DB03989', 'OCC1OC(O)C(O)C(O)C1O'), ('DB03417', 'CC(C)(C)NC(=O)N1CCN(C(=O)NC(C(=O)O)C(C=O)CCCNC(=N)N)CC1'), ('DB04712', 'OCC1C(O)C(O)C(O)c2nc(CNc3ccccc3)cn21'), ('DB02038', 'Cc1ncc(COP(=O)(O)O)c(CNC2CONC2=O)c1O'), ('DB07806', 'CC1(C)SC(C(NC(=O)Cc2ccccc2)C(=O)NCc2ccccc2)NC1C(=O)O'), ('DB00748', 'CN(C)CCOC(c1ccc(Cl)cc1)c1ccccn1'), ('DB01115', 'COC(=O)C1=C(C)NC(C)=C(C(=O)OC)C1c1ccccc1[N+](=O)[O-]'), ('DB08638', 'NC(CO)Cc1cn(OO)c2ccccc12'), ('DB02196', 'CC(=O)NC1C(OP(=O)(O)OP(=O)(O)OCC2OC(n3ccc(=O)[nH]c3=O)C(O)C2O)OC(CO)C(O)C1O'), ('DB04617', '[NH3+]CCCCCCCCNc1c2c([nH+]c3ccccc13)CCCC2'), ('DB02469', 'CC1OC(O)C(O)C(O)C1N'), ('DB08318', 'Nc1nc(N)nc(OCCOc2ccccc2)n1'), ('DB04814', 'CCCC(=O)Nc1c(I)cc(I)c(C=C(CC)C(=O)O)c1I'), ('DB02242', 'O=C(O)CCC1CCCCC1'), ('DB00394', 'CCC(=O)OCC(=O)C1(OC(=O)CC)C(C)CC2C3CCC4=CC(=O)C=CC4(C)C3(Cl)C(O)CC21C'), ('DB08974', 'COC(O)=Nc1nc2ccc(C(=O)c3ccc(F)cc3)cc2[nH]1'), ('DB09030', 'CCOC(O)=NC1CCC2C(C1)CC1C(=O)OC(C)C1C2C=Cc1ccc(-c2cccc(F)c2)cn1'), ('DB08250', 'CCNC(=O)N1N=C(c2cc(F)ccc2F)CC1(CCCN)c1ccccc1'), ('DB04041', 'NC(COC(=O)C(NC(=O)Cc1cccs1)C1NC(C(=O)[O-])=C(C=Cc2ccc([N+](=O)[O-])cc2[N+](=O)[O-])CS1)C(=O)[O-]'), ('DB01648', 'COC1OC(CO)C(S)C(O)C1O'), ('DB03301', 'C=CCc1cccc(C)c1O'), ('DB00173', 'Nc1ncnc2nc[nH]c12'), ('DB07310', 'CC(NC1=NC(=O)C(C)(C(F)(F)F)S1)c1ccccc1F'), ('DB05232', 'NC1=[NH+]C(O)C2C3OC4([O-])OC(C(O)C2(N1)C4O)C3(O)CO'), ('DB04146', 'O=C1N2C=C(c3ccc(O)cc3)NC(Cc3ccccc3)C2=NC1(Cc1ccc(I)cc1)OO'), ('DB07842', 'CCc1ccc(OC(Cc2ccccc2)C(=O)O)cc1'), ('DB00623', 'OCCN1CCN(CCCN2c3ccccc3Sc3ccc(C(F)(F)F)cc32)CC1'), ('DB02061', 'OCC1OC(OC2C(CO)OC(O)C(O)C2O)C(O)C(O)C1O'), ('DB08580', 'Nc1ccc(Br)cc1C(=O)N1CCCC1Cc1ccccc1Cl'), ('DB02251', 'O=C(O)CCC(=O)c1ccccc1C(=O)O'), ('DB02681', 'O=[V]([O-])[O+]([V](=O)O[V](=O)(=O)O[V](=O)(=O)[O+]([V](=O)[O-])[V](=O)(=O)=O)[V](=O)(=O)=O'), ('DB00551', 'CC(=O)NO'), ('DB02568', 'Nc1nc(=O)c2[nH]cc(Cc3cccnc3)c2[nH]1'), ('DB01221', 'CNC1(c2ccccc2Cl)CCCCC1=O'), ('DB03048', 'O=C(O)Cc1cc(=O)[nH]c(=O)[nH]1'), ('DB04023', 'Nc1nc2c(ncn2C2OC(COP(=O)(O)OP(=O)(O)OC3OC(C(=O)O)C(O)C(O)C3O)C(O)C2O)c(=O)[nH]1'), ('DB04098', 'O=C(NC1CNCCCC1OC(=O)c1cc(O)c(C(=O)c2c(O)cccc2C(=O)O)c(O)c1)c1ccc(O)cc1'), ('DB00681', 'CC1C=CC=CC=CC=CC=CC=CC=CC(OC2OC(C)C(O)C(N)C2O)CC2OC(O)(CC(O)CC(O)C(O)CCC(O)CC(O)CC(=O)OC(C)C(C)C1O)CC(O)C2C(=O)O'), ('DB04817', 'Cc1c(N(C)CS(=O)(=O)[O-])c(=O)n(-c2ccccc2)n1C.[Na+]'), ('DB00743', 'O=C([O-])CN(CCN(CC(=O)[O-])CC(=O)[O-])CCN(CC(=O)O)C(COCc1ccccc1)C(=O)O.[Gd+3]'), ('DB02443', 'COc1cccc(OC)c1C(=O)NC(C(=O)OCC(N)C(=O)[O-])C1NC(C(=O)[O-])C(C)(C)S1'), ('DB09204', 'CC(C)(C)NCC(O)CSc1nc(-c2ccc(C(N)=O)s2)cs1'), ('DB07492', 'O=C(NC(CO)C(O)c1ccc([N+](=O)[O-])cc1)C(Br)Br'), ('DB03388', 'CC(C)N(C(=O)c1ccc(Cl)cc1Cl)c1cc(-c2ccccc2)sc1C(=O)O'), ('DB07081', 'CC1c2nc(C(F)(F)F)nn2CCN1C(=O)CC(N)Cc1cc(F)c(F)cc1F'), ('DB03009', 'O=C(CSc1nc(O)cc(C(F)(F)F)n1)N1CCCCC1'), ('DB03402', 'CC(C)CCCC(C)CCCC(C)CCCC(C)CCOCC(COP(=O)(O)O)OCCC(C)CCCC(C)CCCC(C)CCCC(C)C'), ('DB00831', 'CN1CCN(CCCN2c3ccccc3Sc3ccc(C(F)(F)F)cc32)CC1'), ('DB02964', 'O=C1NC(=S)NC12OC(CO)C(O)C(O)C2O'), ('DB07594', 'CCc1cc(-c2[nH]nc(C)c2-c2ccc3c(c2)OCCO3)c(O)cc1O'), ('DB07877', 'CC(C)NCCCn1c(Sc2cc3c(cc2Br)OCO3)nc2c(N)ncnc21'), ('DB02430', 'O=P(O)(O)OCC1OC(OC2OC(CO)C(O)C(O)C2O)C(O)C(O)C1O'), ('DB01831', 'Nc1ncnc2c1ncn2C1OC(COP(=O)(O)OC(=O)C(N)Cc2c[nH]c3ccccc23)C(O)C1O'), ('DB01545', 'CCOC(=O)C1N=C(c2ccccc2F)c2cc(Cl)ccc2NC1=O'), ('DB07722', 'O=[N+]([O-])c1ccc(OCCCO)cc1'), ('DB08301', 'Cc1ccc(S(=O)(=O)NC(=O)Nc2ccc(S(N)(=O)=O)cc2)cc1'), ('DB03553', 'O=C(O)CCCC(=O)O'), ('DB06995', 'Nc1cc(Oc2ccc(NC(=O)NC(=O)Cc3ccc(F)cc3)cc2F)ccn1'), ('DB06930', 'N=C(N)NC(=O)Cn1c(-c2ccccc2)ccc1-c1ccccc1'), ('DB08721', 'OCCOCOCc1cc(CCCCCOc2c(Cl)cc(C3=NCCO3)cc2Cl)on1'), ('DB04371', 'COc1cccc(N2C=Cc3cc(S(N)(=O)=O)sc3S2(=O)=O)c1'), ('DB02266', 'O=C(O)c1ccccc1Nc1cccc(C(F)(F)F)c1'), ('DB06911', 'CC(C)CC(N)C(=O)N1CCCC1C(=O)NCc1cccc(Cl)c1'), ('DB02726', 'O=C(O)COP(=O)(O)O'), ('DB03585', 'CCCCC1C(=O)N(c2ccccc2)N(c2ccc(O)cc2)C1=O'), ('DB09110', 'O=S(=O)([O-])CCS.[Na+]'), ('DB08348', 'CN(C)CC(=O)Nc1ccc2[nH]c(=O)c3ccccc3c2c1'), ('DB07250', 'COc1cc(Nc2nccc(Nc3c(Cl)ccc4c3OCO4)n2)cc(OC)c1OC'), ('DB01256', 'C=CC1(C)CC(OC(=O)CSC2CC3CCC(C2)N3C)C2(C)C(C)CCC3(CCC(=O)C32)C(C)C1O'), ('DB04694', 'O=C(O)C1OC(C(O)C(O)CO)C(O)C(O)C1F'), ('DB09395', 'CC(=O)[O-].[Na+]'), ('DB07581', 'CC(C)C(CC(O)C(N)CC1CCCCC1)C(=O)O'), ('DB03905', 'CC(C)(COP(=O)(O)OP(=O)(O)OCC1OC(n2cnc3c(N)ncnc32)C(O)C1OP(=O)(O)O)C(O)C(=O)NCCC(=O)NCCNC(=O)CCC(=O)O'), ('DB01378', '[Mg+2]'), ('DB00853', 'Cn1nnc2c(C(N)=O)ncn2c1=O'), ('DB04700', 'NC(CCC(=O)NC(CS(=O)O)C(=O)NCC(=O)O)C(=O)O'), ('DB02851', 'CC12CCC(CC1=S)C2(C)C'), ('DB02900', 'O=P(O)(O)OCC1OC(O)C(O)C(O)C1O'), ('DB03132', 'O=S(=O)(O)CCCSc1nc2ccccc2s1'), ('DB03820', 'CC1(C)SC2C(NC(=O)CCCCC(NC(=O)C[NH3+])C(=O)[O-])C(=O)N2C1C(=O)[O-]'), ('DB03896', 'O=P(O)(O)OP(=O)(O)OP(=O)(O)O'), ('DB02975', 'CNC(=O)CC1NC(=O)c2csc(n2)-c2ccc(-c3nc(C4=NC(C(=O)N5CCCC5C(N)=O)CO4)cs3)nc2-c2csc(n2)-c2csc(n2)C(C(O)c2ccccc2)NC(=O)CNC(=O)c2nc(sc2COC)C(C(C)C)NC(=O)c2nc1sc2C'), ('DB04512', 'COc1nccnc1CC(C)C'), ('DB01865', 'CN(Cc1cc2ccccc2n1C)C(=O)C=Cc1ccc(N)nc1'), ('DB03911', 'OC1COC(O)C(O)C1O'), ('DB03588', 'O=C(O)C(c1ccccc1)c1ccccc1'), ('DB02923', 'Oc1cccc(-c2ccccc2)c1O'), ('DB01168', 'CNNCc1ccc(C(=O)NC(C)C)cc1'), ('DB02139', 'C=CCN(C)CC=CCOc1cc2c(cc1F)c(-c1ccc(Br)cc1)nn2C'), ('DB08731', 'O=C(O)CC(Cc1cccc2ccccc12)N1C(=O)c2ccc(C(=O)O)cc2C1=O'), ('DB00579', 'OC1(c2ccc(Cl)cc2)c2ccccc2C2=NCCN21'), ('DB04167', 'CC(=O)NC(CCC(N)=O)C(=O)O'), ('DB04230', 'CC(C)(COP(=O)(O)OP(=O)(O)OCC1OC(n2cnc3c(N)ncnc32)C(O)C1OP(=O)(O)O)C(O)C(=O)NCCC(=O)NCCC[N+](=O)[O-]'), ('DB04330', 'Cc1ccc2c(c1)C(=O)C1(OC(c3ccc(Cl)c(Cl)c3)C(C(=O)Nc3ccc(-c4csnn4)cc3)C1C(=O)O)C2=O'), ('DB11491', 'O=C(O)c1cn(-c2ccc(F)cc2)c2cc(N3CCNCC3)c(F)cc2c1=O'), ('DB04481', 'OCC(O)C(O)CO'), ('DB01291', 'CC(C)(C)NCC(O)c1ccc(O)c(CO)n1'), ('DB07650', 'CCCCCCCCCCOC=O'), ('DB03117', 'CC(CSCCNC(=O)CCNC(=O)C(O)C(C)(C)COP(=O)(O)OP(=O)(O)OCC1OC(n2cnc3c(N)ncnc32)C(O)C1OP(=O)(O)O)C(=O)O'), ('DB00310', 'NS(=O)(=O)c1cc(C2(O)NC(=O)c3ccccc32)ccc1Cl'), ('DB00523', 'CC(C=CC1=C(C)CCCC1(C)C)=CC=CC(C)=CC(=O)O'), ('DB01399', 'O=C(Oc1ccccc1C(=O)O)c1ccccc1O'), ('DB01898', 'CC(CC(=O)O)C(N)C(=O)O'), ('DB06213', 'CNC(=O)c1cnn(-c2nc(N)c3ncn(C4OC(CO)C(O)C4O)c3n2)c1'), ('DB04695', 'CC(C)=CCCC(C)=CCCC(C)=CCSP(=O)(O)OP(=O)(O)O'), ('DB08127', 'CC=C(C)C=CC1=C(C)CCCC1(C)C'), ('DB04918', 'Nc1nc(C(=NO)C(=O)NC2C(=O)N3C(C(=O)O)=C(C=C4CCN(C5CCNC5)C4=O)CSC23)ns1'), ('DB07097', 'CC(C)(C)c1ccc(C(=O)NN=Cc2cc(Br)c(O)c(Br)c2O)cc1'), ('DB00473', 'CC(CNC1CCCCC1)OC(=O)c1ccccc1'), ('DB00712', 'CC(C(=O)O)c1ccc(-c2ccccc2)c(F)c1'), ('DB02194', 'O=C1N2C=C(c3ccc(O)cc3)N=C(Cc3ccccc3)C2=NC1(O)Cc1ccc(O)cc1'), ('DB01915', 'NC(CSO)C(=O)O'), ('DB08738', 'O=C(C1CCCN1C(=O)CCn1c(=O)c(-c2ccccc2)nc2ccccc21)N1CCCC1'), ('DB04763', 'Cc1cc(C)[n+](CCc2ccc(S(N)(=O)=O)cc2)c(C)c1'), ('DB07956', 'CC(C)C(NC(=O)OC(C)(C)C)C(=O)Nc1cccc(Cl)c1C=O'), ('DB09075', 'CN1CCc2nc(C(=O)NC3CC(C(=O)N(C)C)CCC3NC(=O)C(=O)Nc3ccc(Cl)cn3)sc2C1'), ('DB04059', 'N=C(N)c1ccc2cccc(Nc3ncccn3)c2c1'), ('DB02866', 'CN(C)c1cccc2c(S(N)(=O)=O)cccc12'), ('DB03428', 'COc1ccc2c(c1)C(=Cc1cnc[nH]1)C(=O)N2'), ('DB07253', 'CS(=O)(=O)c1cccc(Nc2nccc(Nc3c(Cl)ccc4c3OCO4)n2)c1'), ('DB04497', 'Nc1nc[nH+]c2c1ncn2C1OC(COP(=O)(O)OP(=O)(O)OCC2OC(O)C(O)C2O)C(O)C1OP(=O)(O)O'), ('DB00958', 'N.N.O=C1O[Pt]OC(=O)C12CCC2'), ('DB02310', 'Cc1cnc2c(c1)c(C)c(C)c1cc(C)c[n+](C)c12'), ('DB13141', 'Cn1c(=O)c2c(ncn2CC(=O)O)n(C)c1=O.Nc1c(Br)cc(Br)cc1CNC1CCC(O)CC1'), ('DB06853', 'N=C(N)c1ccc(CNC(=O)C2CCCN2C(=O)CNC2CCCCCC2)cc1'), ('DB03160', 'Cc1ncc(COP(=O)(O)O)c(CNC(C)C(=O)CCCCCC(=O)O)c1O'), ('DB08026', 'CNC(=O)CN1CCC(Nc2nccc(-c3cnc4ccccn34)n2)CC1'), ('DB03612', 'CC(O)CC(=O)SCCNC(=O)CCNC(=O)C(O)C(C)(C)COP(=O)(O)OP(=O)(O)OCC1OC(n2cnc3c(N)ncnc32)C(O)C1OP(=O)(O)O'), ('DB03758', 'CC1CC2OC2CCCCC(=O)CC2C(Cl)C(=O)CC(=O)C2C(=O)O1'), ('DB07089', 'CCCOc1ccc(-c2csc(-c3ccccc3Cl)c2CC(=O)NC(=N)N)cc1'), ('DB02489', 'Cn1cnc2c(O)nc(N)nc21'), ('DB01406', 'C#CC1(O)CCC2C3CCC4=Cc5oncc5CC4(C)C3CCC21C'), ('DB07158', 'CCn1c(=O)c2c(C)n[nH]c2c2ccccc21'), ('DB08140', 'CC(C)Nc1cc(NC2CCC(N)CC2)nc2c(C#N)cnn12'), ('DB04419', 'CCCCC(N)C(=O)O'), ('DB06956', 'CC(=O)c1ccc(NC(=O)c2cn[nH]c2-c2cc(Cl)c(O)cc2O)cc1'), ('DB01560', 'CC(N)C(=O)c1ccccc1'), ('DB09003', 'N=C(O)C1(N2CCCCC2)CCN(CCCN2c3ccccc3CCc3ccc(Cl)cc32)CC1'), ('DB13157', 'CCCCCCCCCCCCOC(=O)CS(=O)(=O)[O-].[Na+]'), ('DB04592', 'C=C(Br)CCO'), ('DB08425', 'CC(O)C(N)Cc1ccccc1'), ('DB04045', 'CC(C(=O)O)C(=O)SCCNC(=O)CCNC(=O)C(O)C(C)(C)COP(=O)(O)OP(=O)(O)OCC1OC(n2cnc3c(N)ncnc32)C(O)C1OP(=O)(O)O'), ('DB07226', 'O=CNc1ccc2[nH]c3cc(-c4ccccc4Cl)c4c(c3c2c1)C(=O)NC4=O'), ('DB02097', 'Nc1ccn(C2OC(CO)C(O)C2O)c(=O)n1'), ('DB07453', 'O=c1cc(-c2ccccc2)oc2c1ccc1ccccc12'), ('DB08223', 'CNC(=O)CCC(=O)NC(Cc1ccccc1)C(O)CN(CC1CC1)S(=O)(=O)c1ccco1'), ('DB03690', 'CCCCCCCCC=CCCCCCCCC(=O)OCC(COP(=O)(O)OCC[N+](C)(C)C)OC(=O)CCCCCCCC=CCCCCCCCC'), ('DB08092', 'O=C(Nc1ccc2[nH]ccc2c1)c1cc(F)cc(N2CCOCC2)c1'), ('DB04385', 'Nc1ccn(C2OC(CO)C(O)C2O)c(=O)c1'), ('DB02793', 'C=C(OC1=CC=CC(C(=O)O)C1O)C(=O)O'), ('DB08056', 'Cc1cccc(C)c1Nc1ncc(-c2ccccc2)n2cncc12'), ('DB00697', 'Clc1ccc2nsnc2c1NC1=NCCN1'), ('DB08396', 'O=C(O)C=CCNC=C1N=C(c2ccccc2)OC1=O'), ('DB04434', 'Cc1cccc(C2=C(c3ccc4ncccc4n3)CNN2)n1'), ('DB00256', 'CN(C)C1C(O)=C(C(=O)NCNCCCCC(N)C(=O)O)C(=O)C2(O)C(O)=C3C(=O)c4c(O)cccc4C(C)(O)C3CC12'), ('DB03376', 'CC(N)C(=O)NS(=O)(=O)OCC1OC(n2cnc3c(N)ncnc32)C(O)C1O'), ('DB07202', 'Cc1cc(-c2c(-c3ccccc3)c3cc(Cl)ccc3[nH]c2=O)on1'), ('DB00830', 'CC1NCCOC1c1ccccc1'), ('DB02059', 'Nc1ncnc2c1ncn2C1OC(COP(=O)(O)OP(=O)(O)OCC2OC(O)C(O)C2O)C(O)C1O'), ('DB07959', 'c1ccc2[nH]c(-c3n[nH]c4ccccc34)nc2c1'), ('DB09121', 'OCC1OC(S[Au])C(O)C(O)C1O'), ('DB05186', 'CC(C)=CCCC(C)=CCNCCNC1C2CC3CC(C2)CC1C3'), ('DB07973', 'COc1cccc(Cn2c(C(=O)NC3CCN(C(C)C)CC3)cc3ccccc32)c1'), ('DB08197', 'Cc1nc(N)nc2c1C(=NO)CC(c1ccc(F)cc1-c1cccnc1)C2'), ('DB00969', 'Cc1[nH]cnc1CN1CCc2c(c3ccccc3n2C)C1=O'), ('DB07278', 'CC(C(=O)N1CCOCC1)N1CCC(NS(=O)(=O)C=Cc2ccc(Cl)s2)C1=O'), ('DB06962', 'NCc1ccc2c(c1)C1(CCN(C(=O)c3ccc(C#Cc4ccccc4)o3)CC1)CO2'), ('DB08897', 'O=C(OC1C[N+]2(CCCOc3ccccc3)CCC1CC2)C(O)(c1cccs1)c1cccs1'), ('DB08585', 'CCCCCC(=O)SCCNC(=O)CCNC(=O)C(O)C(C)(C)COP(=O)(O)O'), ('DB02343', 'CCOCCOCCOCCOCCOCC'), ('DB03539', 'C=NC1=NC2C(O)C(O)C(CO)C2O1'), ('DB03869', 'Nc1ncnc2c1ncn2C1OC(COS(=O)(=O)NC(=O)C(N)CO)C(O)C1O'), ('DB04268', 'CC(=O)NC1C(OC2C(CO)OC(OC3C(CO)OC(Oc4ccc5c(C)cc(=O)oc5c4)C(NC(C)=O)C3O)C(NC(C)=O)C2O)OC(CO)C(O)C1O'), ('DB01260', 'CC1(C)OC2CC3C4CCC5=CC(=O)C=CC5(C)C4C(O)CC3(C)C2(C(=O)CO)O1'), ('DB03276', 'NC(=O)CC1NC(=O)C2(CCCCC2)NC(=O)CC(c2ccc(CP(=O)(O)O)cc2)C=CCC(Cc2cccc3ccccc23)CNC1=O'), ('DB07218', 'Cc1nn(C)c2c1c(=O)c1cc(Cl)ccc1n2O'), ('DB00154', 'CCCCCC=CCC=CCC=CCCCCCCC(=O)O'), ('DB08426', 'O=C1C(NS(=O)(=O)c2cc3ncccc3s2)CCN1Cc1cc2ccncc2[nH]1'), ('DB04388', 'NC(CCC=O)C(=O)O'), ('DB07683', 'CC(C)C(NS(=O)(=O)c1ccc2c(c1)sc1ccccc12)C(=O)O'), ('DB01034', 'CC=CCC=CCCC(=O)C1OC1C(N)=O'), ('DB01361', 'COC1CC(OC2C(C)C(=O)OC(C)C(C)C(OC(C)=O)C(C)C(=O)C3(CO3)CC(C)C(OC3OC(C)CC(N(C)C)C3OC(C)=O)C2C)OC(C)C1OC(C)=O'), ('DB09536', 'O=[Ti]=O'), ('DB09179', 'CCC(=O)N(c1ccccc1)C1(COC)CCN(CCc2ccccc2)CC1'), ('DB07565', 'O=C(O)CCC(=O)OCC(NC(=O)C(Cl)Cl)C(O)c1ccc([N+](=O)[O-])cc1'), ('DB02169', 'C=C1C(O)C2OC3(CCC(C=CC(C)C4CC(C)=CC5(OC(CC(C)(O)C(=O)O)CCC5O)O4)O3)CCC2OC1C(O)CC(C)C1OC2(CCCCO2)CCC1C'), ('DB01755', 'CCC(C)C(N)C(=O)NS(=O)(=O)NCC1OC(n2cnc3c(N)ncnc32)C(O)C1O'), ('DB02002', 'C=C(N)C(N)=O'), ('DB04298', 'Cc1cc(SC2=C(O)CC(CCc3ccc(O)cc3)(C3CCCC3)OC2=O)c(C(C)(C)C)cc1N'), ('DB09292', 'CCOC(=O)C(C)CC(Cc1ccc(-c2ccccc2)cc1)NC(=O)CCC(=O)O'), ('DB02056', 'CCCCCC(O)C=CC1C(=O)CC(O)C1CC=CCCCC(=O)O'), ('DB08295', 'O=C([O-])CCCCCNC(=O)Cc1ccc(O)c([N+](=O)[O-])c1'), ('DB01036', 'Cc1ccc(O)c(C(CCN(C(C)C)C(C)C)c2ccccc2)c1'), ('DB05837', 'Cl.Nc1ccn(C2(O)OC(CO)C(O)C2O)c(=S)n1'), ('DB01589', 'Fc1ccccc1C1=NCC(=S)N(CC(F)(F)F)c2ccc(Cl)cc21'), ('DB08479', 'COc1cc(NC(=N)NC(=N)N)cc(OC)c1'), ('DB04628', 'CC(=O)NC1C(OC2C(CO)OC(OC3C(O)C4N=C(N(C)C)OC4C3CO)C(NC(C)=O)C2O)OC(CO)C(O)C1O'), ('DB08551', 'O=C(Cc1cccs1)NC(B(O)O)c1cccc(C(=O)O)c1'), ('DB03145', 'Cc1ncsc1CCOP(=O)(O)O'), ('DB02055', 'CCCCNS(=O)(=O)c1ccccc1'), ('DB07644', 'CC(Oc1cccc2nc(N)nc(N)c12)c1cccc(Cl)c1'), ('DB08836', 'CCOC(=O)C(CCc1ccccc1)NC1CSC(c2cccs2)CN(CC(=O)O)C1=O'), ('DB07197', 'O=C(O)COc1c(C(=O)O)sc(-c2ccc(O)cc2)c1Br'), ('DB09167', 'CN(C)CCC=C1c2ccccc2CSc2ccccc21'), ('DB04673', 'O=C(c1ncc(-c2ccncc2)cn1)N1CCN(S(=O)(=O)c2cc3cc(Cl)ccc3[nH]2)CC1'), ('DB00721', 'CCN(CC)CCOC(=O)c1ccc(N)cc1'), ('DB02980', 'Cc1cn(C2CC(O)C(COP(=O)(S)S)O2)c(=O)[nH]c1=O'), ('DB08485', 'O=C(O)C1(O)C=C(c2cccc(Sc3ccccc3)c2)C(O)C(O)C1'), ('DB01098', 'CC(C)c1nc(N(C)S(C)(=O)=O)nc(-c2ccc(F)cc2)c1C=CC(O)CC(O)CC(=O)O'), ('DB04002', 'NS(=O)(=O)c1ccc(C(=O)NCCCCNCS)cc1'), ('DB02328', 'Cc1ncc(COP(=O)(O)O)c(CN=C(C=CCP(=O)(O)O)C(=O)O)c1O'), ('DB02493', 'O=C1NC(=O)C2(N1)OC(COP(=O)(O)O)C(O)C2O'), ('DB09297', 'Cc1cnc(C(=O)NC2CCCCCC=CC3CC3(C(=O)NS(=O)(=O)C3CC3)NC(=O)C3CC(Oc4nc5ccccc5c5ccccc45)CN3C2=O)cn1'), ('DB06292', 'CCOc1ccc(Cc2cc(C3OC(CO)C(O)C(O)C3O)ccc2Cl)cc1'), ('DB07333', 'COc1ccc(S(=O)(=O)NCC2CC2)cc1Nc1ncc(-c2cccc(-c3cccnc3)c2)o1'), ('DB08115', 'NCCOC(=O)Cc1cccc2ccccc12'), ('DB08014', 'CCOC(=O)c1ccc(OCCCCC2CCN(c3ccc(C)nn3)CC2)cc1'), ('DB03193', 'CCCCCCCCCCCCCCCCCC(=O)O'), ('DB07154', 'CC1C(=O)NCCCN1C(=O)CC(N)Cc1cc(F)c(F)cc1F'), ('DB01013', 'CCC(=O)OC1(C(=O)CCl)C(C)CC2C3CCC4=CC(=O)C=CC4(C)C3(F)C(O)CC21C'), ('DB00457', 'COc1cc2nc(N3CCN(C(=O)c4ccco4)CC3)nc(N)c2cc1OC'), ('DB07413', 'CCCCCCCCCCNCCSCC1OC(n2cnc3c(N)ncnc32)C(O)C1O'), ('DB02937', 'Nc1ncnc2c1ncn2C1OC(COP(=O)(O)OP(=O)(O)C[As](O)(O)O)C(O)C1O'), ('DB01945', 'NC(=O)C1=C([O-])N(C2OC(COP(=O)([O-])[O-])C(O)C2O)C[NH2+]1'), ('DB02697', 'CC(C)C(N)C(=O)NO'), ('DB03269', 'CC1OC(O)C(O)C(O)C1NC1C=C(CO)C(O)C(O)C1O'), ('DB02258', 'CC1(C)CCC(C)(C)c2cc(C(=NO)c3ccc4cc(C(=O)O)ccc4c3)ccc21'), ('DB08932', 'CCCNS(=O)(=O)Nc1ncnc(OCCOc2ncc(Br)cn2)c1-c1ccc(Br)cc1'), ('DB08987', 'CCCN(CC)C(CC)C(O)=Nc1c(C)cccc1C'), ('DB07984', 'CCC(CO)NC(=O)Cc1c(C)n(C(=O)c2ccc(Cl)cc2)c2ccc(OC)cc12'), ('DB00670', 'CN1CCN(CC(=O)N2c3ccccc3C(=O)Nc3cccnc32)CC1'), ('DB08398', 'Cn1c(N)nc2ncc(-c3ccccc3)cc21'), ('DB00282', 'NCCC(O)(P(=O)(O)O)P(=O)(O)O'), ('DB07349', 'CCCCCCCC(=O)OC(COC(=O)CCCC)COP(=O)([O-])OCC(O)CO'), ('DB01756', 'O=C(O)C(O)C(O)COP(=O)(O)O'), ('DB04473', 'CC1OC(O)C(O)C(O)C1O'), ('DB02919', 'COc1cc(CN(C)c2cnc3nc(N)nc(N)c3c2)cc(OC)c1OC'), ('DB03360', 'CC(=O)N1CCCC1C(=O)O'), ('DB04243', 'Cc1cn(C2OC(COP(=O)(O)O)C(O)C2O)c(=O)[nH]c1=O'), ('DB09009', 'CCCNC(C)C(O)=Nc1c(C)csc1C(=O)OC'), ('DB08736', 'CC(O)CC(c1ccccc1)c1c(O)c2ccccc2oc1=O'), ('DB07846', 'CCc1ccccc1NC(=O)Oc1ccc2c(c1)C1(C)CC[N+](C)([O-])C1N2C'), ('DB02260', 'O=C(O)CCCCCC(=O)CCC(=O)O'), ('DB04181', 'CON=C(C(=O)NC(C=O)C1NC(C(=O)O)=C(CC(=O)OC)CS1)c1csc(N)n1'), ('DB02686', 'CCCCCCCCCCCOC1OC(CO)C(OC2OC(CO)C(O)C(O)C2O)C(O)C1O'), ('DB04036', 'CC(C)(COP(=O)(O)OP(=O)(O)OCC1OC(n2cnc3c(N)ncnc32)C(O)C1OP(=O)(O)O)C(O)C(=O)NCCC(=O)NCCSS'), ('DB02563', 'CCCCCC(=O)SCCNC(=O)CCNC(=O)C(O)C(C)(C)COP(=O)(O)OP(=O)(O)OCC1OC(n2cnc3c(N)ncnc32)C(O)C1OP(=O)(O)O'), ('DB07461', 'NC1(Cc2ccccc2)CCN2CCC(C=O)N2C1=O'), ('DB03317', 'CC=c1c(C)c2n3c1=Cc1c(C)c(CCC(=O)O)c4n1[Fe]31n3c(c(C)c(=CC)c3=C2)C=c2c(C)c(CCC(=O)O)c(n21)=C4'), ('DB04467', 'Cc1ncc(COP(=O)(O)O)c(CNC(C)C(=O)O)c1O'), ('DB08526', 'COCC(O)C(CC(C)C)NC(=O)C(CC(C)C)NC(=O)OCc1ccccc1'), ('DB08732', 'CC(NC(=O)C(Cc1ccccc1)NC(=O)OCc1ccccc1)C(=O)CCO'), ('DB06851', 'c1ccc(NCc2cccnc2)cc1'), ('DB04884', 'CN(C)C(CCOc1cccc2ccccc12)c1ccccc1'), ('DB08320', 'CCOC(=O)C1C2OC(C(c3ccc(O)cc3)=C2c2ccc(O)cc2)C1C(=O)OCC'), ('DB03676', 'C[As](C)(=O)SCC(N)C(=O)O'), ('DB07327', 'CC(=O)c1ccc(C)cc1NC(C(N)=O)c1c(Br)cccc1Br'), ('DB08660', 'O=C1c2ccc(O)c(O)c2C(=O)c2c(O)ccc(O)c21'), ('DB02057', 'Cc1onc(O)c1CC(N)C(=O)O'), ('DB08878', 'Nc1nc(N)c2nc(CNc3ccc(C(=O)NC(CCC(=O)O)C(=O)O)cc3)cnc2n1'), ('DB07433', 'CC(NC=O)NC(=O)C(C)NC(=O)OC(C)(C)C'), ('DB07220', 'O=C(Cc1ccc(N2CCCCC2)cc1)Nc1n[nH]c2ccc(N3CCCS3(=O)=O)cc12'), ('DB04982', 'CC(=O)N1N=C(c2ccc(N)cc2)c2cc3c(cc2CC1C)OCO3'), ('DB04838', 'CC1CC(OC(=O)C(O)c2ccccc2)CC(C)(C)C1'), ('DB08382', 'O=C(C1CC(N2CCN(c3ncccn3)CC2)CN1)N1CCC(F)(F)C1'), ('DB02910', 'CCCCCCCC(=O)SCCNC(=O)CCNC(=O)C(O)C(C)(C)COP(=O)(O)OP(=O)(O)OCC1OC(n2cnc3c(N)ncnc32)C(O)C1OP(=O)(O)O'), ('DB07542', 'CC(C)CC(CC(O)C(N)CC1CCCCC1)C(=O)O'), ('DB02996', 'CC(C)CC(CS)C(=O)O'), ('DB04375', 'CN1c2c(nc(N)[nH]c2=O)NCC1CNc1ccc(C(=O)NC(CCC(=O)O)C(=O)O)cc1'), ('DB07341', 'CCCCCCCCOC1OC(CO)C(O)C(N)C1OC1CC(O)C(O)C(C)O1'), ('DB00615', 'COC1C=COC2(C)Oc3c(C)c(O)c4c(c3C2=O)C2=NC3(CCN(CC(C)C)CC3)NC2=C(NC(=O)C(C)=CC=CC(C)C(O)C(C)C(O)C(C)C(OC(C)=O)C1C)C4=O'), ('DB03320', 'NC(C[NH3+])C(=O)O'), ('DB02245', 'Nc1nc2c(c(=O)[nH]1)CC=N2'), ('DB09342', 'CCCOc1cc(N)ccc1C(=O)OCCN(CC)CC'), ('DB00243', 'COc1ccccc1OCC(O)CN1CCN(CC(=O)Nc2c(C)cccc2C)CC1'), ('DB07558', 'CCCCC(C=O)NC(=O)C(CC(C)C)NC(=O)C(CC(C)C)NC(C)=O'), ('DB03248', 'CCC(OP(=O)(O)O)C(=O)O'), ('DB01863', 'O=P(O)(O)OC1C(O)C(OP(=O)(O)O)C(OP(=O)(O)O)C(OP(=O)(O)O)C1O'), ('DB02683', 'CNC(=O)C(NC(=O)C(OCc1ccc(-c2cccnc2)cc1)C(O)C(O)C(OCc1ccc(-c2cccnc2)cc1)C(=O)NC(C(=O)NC)C(C)C)C(C)C'), ('DB01714', 'CNCCCCC(N)C(=O)O'), ('DB03407', 'O=[N+]([O-])c1ccc(O)c(O)c1'), ('DB09112', 'O=N[O-].[Na+]'), ('DB04831', 'O=C(O)COc1ccc(C(=O)c2cccs2)c(Cl)c1Cl'), ('DB07183', 'O=C(Nc1ccc(Oc2ccccc2)cc1)c1cccnc1NCc1ccncc1'), ('DB05316', 'CC(C)COc1ccc(CNC(=O)N(Cc2ccc(F)cc2)C2CCN(C)CC2)cc1'), ('DB03726', 'O=P(O)(O)OCC1OC(n2cnc3cncnc32)C(O)C1O'), ('DB04028', 'CC1OC(O)C(O)CC1O'), ('DB02202', 'CC(O)CCO'), ('DB04633', 'CCCNCCCNCCCNCC'), ('DB04674', 'O=C(O)c1cc(I)cc(I)c1O'), ('DB03239', 'CC(=O)NC(Cc1ccc(Oc2cc([N+](=O)[O-])c(O)c([N+](=O)[O-])c2)cc1)C(=O)O'), ('DB03774', '[NH3+]C(CCC=O)C(=O)O'), ('DB09081', 'COC1=C(OC)C(=O)C(CCCCCCCCCCO)=C(C)C1=O'), ('DB03270', 'NS(=O)(=O)c1c(F)cccc1F'), ('DB01380', 'CC(=O)OCC(=O)C1(O)CCC2C3CCC4=CC(=O)CCC4(C)C3C(=O)CC21C'), ('DB08692', 'CC(=O)NC(Cc1ccc(Cl)cc1)[B-](O)(O)O'), ('DB03064', 'CCCCCCCCCCC1=C(O)C(=O)NC1=O'), ('DB01568', 'COc1ccc2c3c1OC1C(O)C=CC4C(C2)[N+](C)([O-])CCC341'), ('DB02015', 'Nc1nc(=O)c2c([nH]1)NCC(CNc1ccc(C(=O)NC(CCC(=O)O)C(=O)O)cc1)=N2'), ('DB04049', 'O=C(Cc1ccc(O)cc1)Nc1ncc(-c2ccc(O)cc2)nc1Cc1ccccc1'), ('DB07997', 'CNCCNS(=O)(=O)c1cccc2cnccc12'), ('DB05381', 'Cl.Cl.NCCc1cnc[nH]1'), ('DB08773', 'Oc1ccc(-c2cc3ccc(O)cc3s2)cc1'), ('DB08742', 'C=C1C(=CC=C2CCCC3(C)C(C#CC#CC(C)(C)O)CCC23)CC(O)CC1O'), ('DB08315', 'Nc1ncc(C(=O)N(Cc2ccccc2)Cc2ccccc2)o1'), ('DB08372', 'CCOc1ccnc(CCNC(=S)Nc2ccc(C)cn2)c1F'), ('DB04010', 'COc1cccc(-c2nc3c(C(N)=O)cccc3[nH]2)c1'), ('DB07701', 'COc1cc2c(cc1OC)C(=O)C(CC1CCN(Cc3ccccc3)CC1)C2'), ('DB06775', 'NC(=O)NC(CCC(=O)O)C(=O)O'), ('DB07195', 'CC1=CC(C)C2(CO)COC(c3ccc(O)cc3)C1C2C'), ('DB04454', 'CCC(N)C(=O)O'), ('DB01826', '[C-]#[N+]CCCC'), ('DB04370', 'NC(CSS(=O)(=O)O)C(=O)O'), ('DB06844', 'O=C1N=c2ccc3ncsc3c2=C1CNc1ccc(S(=O)(=O)Nc2ccccn2)cc1'), ('DB08777', 'O=c1[nH]cnc2sc3c(c12)CCCC3'), ('DB02083', 'CN(C)CC(=O)O'), ('DB02475', 'N=C(N)NCCCC(C(=O)O)N1CCC1=O'), ('DB06016', 'CN(C)C(=O)NC1CCC(CCN2CCN(c3cccc(Cl)c3Cl)CC2)CC1'), ('DB04807', 'O=[N+]([O-])c1ccc(OC2OC(CSC3OCC(O)C(O)C3O)C(O)C(O)C2O)cc1'), ('DB01660', 'Nc1ncnc2c1ncn2C1OC(COP(=O)(O)OP(=O)(O)OP(O)(O)=S)C(O)C1O'), ('DB07138', 'O=c1ncn2nc(Sc3ccc(F)cc3F)ccc2c1-c1c(Cl)cccc1Cl'), ('DB06729', 'Nc1ccc(S(=O)(=O)Nc2ccnn2-c2ccccc2)cc1'), ('DB11245', 'O=C1CCC(C(=O)O)N1'), ('DB02276', 'CCCCC(OP(=O)(O)O)C(=O)NC(CC(C)C)C(=O)Nc1ccc([N+](=O)[O-])cc1'), ('DB00809', 'CCN(Cc1ccncc1)C(=O)C(CO)c1ccccc1'), ('DB02399', 'CC(O)C(O)C(O)C(O)CO'), ('DB08510', 'CC(=O)C1CCC2C3CCC4CC(OC(=O)CCC(=O)O)CCC4(C)C3CCC12C'), ('DB00297', 'CCCCN1CCCCC1C(=O)Nc1c(C)cccc1C'), ('DB06846', 'CC(C)n1c(CCC(O)CC(O)CC(=O)O)c(-c2ccc(F)cc2)c2ccccc21'), ('DB04000', 'NC(Cn1cc(Br)c(=O)[nH]c1=O)C(=O)O'), ('DB01895', 'Nc1ncnc2c1ncn2C1OC(COP(=O)(O)OC(=O)C(N)CC(=O)O)C(O)C1O'), ('DB07244', 'CCc1nc(N)nc(N)c1-c1ccc(NCc2cc(F)cc(F)c2)cc1'), ('DB01010', 'CC[N+](C)(C)c1cccc(O)c1'), ('DB04615', 'O=c1ccc2c([nH]1)CCCC2NCCCCCCCCCCNc1c2c(nc3ccccc13)CCCC2'), ('DB07388', 'CCOC(=O)N1CCC(Nc2cc(C)ccn2)CC1'), ('DB03180', 'Cc1cc(N)c(N)cc1C'), ('DB07766', 'O=C1Nc2ccccc2C1=C1Nc2ccccc2C1=NOCCC(O)CO'), ('DB00431', 'ClC1C(Cl)C(Cl)C(Cl)C(Cl)C1Cl'), ('DB00198', 'CCOC(=O)C1=CC(OC(CC)CC)C(NC(C)=O)C(N)C1'), ('DB04860', 'Nc1nc(=O)c2sc(=O)n(C3OC(CO)C(O)C3O)c2[nH]1'), ('DB01773', 'CN(CCCC1CCCCC1)C(=O)C(CCC(=O)O)NC(=O)N(CC(=O)O)Cc1ccc(OP(=O)(O)O)cc1'), ('DB01750', 'O=C(O)Cc1cccc2ccccc12'), ('DB02915', 'Cc1nc(C)c(-c2ccnc(Nc3ccc(C(F)(F)F)cc3)n2)s1'), ('DB04833', 'Cc1ccccc1-n1c(C)nc2ccccc2c1=O'), ('DB04553', 'CCC(=O)C(=O)O'), ('DB04834', 'C=CC[N+]1(C2CC3C4CCC5CC(OC(C)=O)C(N6CCCCC6)CC5(C)C4CCC3(C)C2OC(=O)CC)CCCCC1'), ('DB07038', 'O=C(O)c1ccccc1NC1CCCCC1'), ('DB06943', 'CC#CCOc1ccc(S(=O)(=O)N2CCC(S)C2)cc1'), ('DB01661', 'N=c1c2ncn(C3OC(COP(=O)([O-])OP(=O)([O-])OP(=O)([O-])[O-])C(O)C3O)c2ncn1C1OC(COP(=O)([O-])[O-])C(O)C1O'), ('DB02602', 'COc1cccc(N2CCc3cc(S(N)(=O)=O)sc3S2(=O)=O)c1'), ('DB00274', 'COC1(NC(=O)CSCC#N)C(=O)N2C(C(=O)O)=C(CSc3nnnn3C)CSC21'), ('DB07978', 'O=C(O)C1=C(C(=O)Nc2c(F)c(F)c(-c3cccc(OC(F)(F)F)c3)c(F)c2F)C=CC1'), ('DB08037', 'CN1CCC(N(C)C(=O)N2CC(c3cc(F)ccc3F)=CC2(CO)c2ccccc2)C(F)C1'), ('DB04770', 'CCC(CO)Nc1nc(OCc2ccccc2)c2ncn(C(C)C)c2n1'), ('DB06910', 'C=CCN1C(=O)N(CC=C)C(Cc2ccccc2)C(O)C(O)C1Cc1ccccc1'), ('DB02561', 'OCC1(O)OCC(O)C(O)C1O'), ('DB02929', 'COc1ccc2c(c1)CN(C(=O)CCN1CCC(Cc3ccccc3)CC1)CCS2'), ('DB03792', 'Nc1c[nH]c(=O)[nH]c1=O'), ('DB04780', 'CCCCCCCCCCCCCC=CC(O)C(COC1OC(CO)C(O)C(OS(=O)(=O)O)C1O)NC(=O)C(O)CCCCCCCCCCCCCCCCCCCCCC'), ('DB03595', 'NC(=[NH2+])c1ccc2[nH]c(-c3cc(OC(F)(F)F)ccc3[O-])nc2c1'), ('DB07156', 'O=C1NC(=O)c2ccc(Br)cc2C1=CNc1ccc(CN2CCCC2)cc1'), ('DB03150', 'Cc1cn(C2CCC(COP(=O)(O)O)O2)c(=O)[nH]c1=O'), ('DB04398', 'CC(O)C(=O)O'), ('DB02839', 'O=C(O)c1ccc(O)cc1O'), ('DB01435', 'Cc1cc(=O)n(-c2ccccc2)n1C'), ('DB00634', 'CC(=O)NS(=O)(=O)c1ccc(N)cc1'), ('DB07572', 'Cc1ccc(S(=O)(=O)NCCCOC(=O)Nc2ccncc2)cc1'), ('DB02506', 'COC(Cc1ccccc1)C(C)CC(C)CCC(N)C(C)C(=O)O'), ('DB04275', 'CC(=O)NCCc1c[nH]c2ccc(O)cc12'), ('DB07001', 'CCCC1COc2ccsc2C(=N)N1'), ('DB07017', 'CC(NC1=NC(=O)C(C)(C(C)(C)O)S1)c1ccc(F)cc1'), ('DB07483', 'O=S(O)c1ccccc1-c1ccccc1'), ('DB09269', 'O=C(O)Cc1ccccc1'), ('DB03056', 'C1CCN(C2CCNCC2)CC1'), ('DB09087', 'O=S(=O)([O-])[O-].O=S(=O)([O-])[O-].[AlH3+3].[K+]'), ('DB08633', 'COC1C(OC(=O)NC(=O)CCl)CCC2(CO2)C1C1(C)OC1CC=C(C)C'), ('DB01469', 'CCCC(C)(O)C1CC23C=CC1(OC)C1Oc4c(OC(C)=O)ccc5c4C12CCN(C)C3C5'), ('DB01157', 'COc1cc(NCc2ccc3nc(N)nc(N)c3c2C)cc(OC)c1OC'), ('DB07065', 'N#CSc1cnn2c(NCc3ccncc3)cc(-c3cccc(Cl)c3Cl)nc12'), ('DB09183', 'COc1c(-c2ccc3cc(NS(C)(=O)=O)ccc3c2)cc(-n2ccc(=O)[nH]c2=O)cc1C(C)(C)C'), ('DB00480', 'Nc1cccc2c1CN(C1CCC(=O)NC1=O)C2=O'), ('DB07789', 'Cc1cc(NC(=O)N=c2[nH]cc(CCNc3cc(Nc4nc[nH]n4)ncn3)s2)c(C(F)(F)F)o1'), ('DB08511', 'Cc1nc2cc3nc(N)[nH]c(=O)c3cc2[nH]1'), ('DB04401', 'C[N+](C)(C)CC=O'), ('DB00733', 'C[n+]1ccccc1C=NO'), ('DB07258', 'OC(c1ccncc1)c1ccc(OCCN2CCCC2)cc1'), ('DB00694', 'COc1cccc2c1C(=O)c1c(O)c3c(c(O)c1C2=O)CC(O)(C(C)=O)CC3OC1CC(N)C(O)C(C)O1'), ('DB06737', 'CC(C(=O)O)c1ccc2c(c1)CC(=O)c1ccccc1S2'), ('DB07261', 'Nc1nccc2ccc(CN3CCC(NS(=O)(=O)c4cc5ncccc5s4)C3=O)cc12'), ('DB07247', 'NC(=O)NCc1cccc(-c2cccc(-c3cc4cnccc4[nH]3)c2O)c1'), ('DB07700', 'CC1(C)CCC2(CCC3C4CCc5cc(C(N)=O)ccc5C4CCC32C)OC1=O'), ('DB08662', 'CC(C)C(c1ccc(Br)cc1)c1c(O)c2ccccc2oc1=O'), ('DB04647', 'CC(NC(=O)C(CCCCNC(=O)OCc1ccccc1)NC(=O)CCC(NC(=O)OC(C)(C)C)C(=O)O)B(O)O'), ('DB00970', 'Cc1c2oc3c(C)ccc(C(=O)NC4C(=O)NC(C(C)C)C(=O)N5CCCC5C(=O)N(C)CC(=O)N(C)C(C(C)C)C(=O)OC4C)c3nc-2c(C(=O)NC2C(=O)NC(C(C)C)C(=O)N3CCCC3C(=O)N(C)CC(=O)N(C)C(C(C)C)C(=O)OC2C)c(N)c1=O'), ('DB01549', 'c1ccc(C2(N3CCCC3)CCCCC2)cc1'), ('DB02864', 'C=Cc1c(C=C2NC(=O)C(CCC(=O)O)=C2C)[nH]c(C=c2[nH]c(=CC3=NC(=O)C(CCC(=O)O)=C3C)c(C)c2C=C)c1C'), ('DB01047', 'CC(=O)OCC(=O)C12OC(C)(C)OC1CC1C3CC(F)C4=CC(=O)C=CC4(C)C3(F)C(O)CC12C'), ('DB07863', 'O=C(Nc1ccccc1)c1cc([N+](=O)[O-])ccc1Cl'), ('DB07194', 'Cc1cc(C)cc(Nc2nccc(-c3nc(C)c(C(=O)NC(C)CO)s3)n2)c1'), ('DB03435', 'O=c1ccn(C2OC(COP(=O)(O)OP(=O)(O)O)C(O)C2O)c(=O)[nH]1'), ('DB07049', 'CC1CN(c2ccc([N+](=O)[O-])cc2)CCN1S(=O)(=O)c1ccc(C(C)(C)C)cc1'), ('DB02112', 'CC(=N)N1CCC(Oc2ccc3c4ccccc4n(Cc4ccc5ccc(C(=N)N)cc5c4)c3c2)CC1'), ('DB08253', 'NC(=O)C(N)Cc1cccc2ccccc12'), ('DB08774', 'NCC1CN(c2c(-c3ccccc3)cnc3[nH]ncc23)CCO1'), ('DB06282', 'O=C(O)COCCN1CCN(C(c2ccccc2)c2ccc(Cl)cc2)CC1'), ('DB02712', 'O=C1NC(=O)C2(CCOc3ccc(F)cc32)N1'), ('DB00993', 'Cn1cnc([N+](=O)[O-])c1Sc1ncnc2nc[nH]c12'), ('DB09211', 'CCCCC(C)CC(O)C=CC1C(O)CC(=O)C1CCCCC=CC(=O)O'), ('DB02933', 'CSCC1OC(n2ccc3c(N)ncnc32)C(O)C1O'), ('DB03567', 'CC(=O)NC1C(O)OC(CO)C(O)C1O'), ('DB09093', 'CN(C)C1C(O)=C(C(=N)O)C(=O)C2(O)C(O)=C3C(=O)c4c(O)ccc(Cl)c4C(C)(O)C3CC12'), ('DB00926', 'CCOC(=O)C=C(C)C=CC=C(C)C=Cc1c(C)cc(OC)c(C)c1C'), ('DB02637', 'O=C([O-])CC(=O)C(=O)O'), ('DB02709', 'Oc1ccc(C=Cc2cc(O)cc(O)c2)cc1'), ('DB02870', 'C=CCNc1ccccc1'), ('DB04516', 'O=P(O)(O)OCC(O)C(O)C(O)CCO'), ('DB09215', 'CN1c2c(oc(=O)n(-c3ccccn3)c2=O)-c2ccccc2S1(=O)=O'), ('DB02754', 'CCCCn1c(Cc2cc(OC)c(OC)c(OC)c2)nc2c(N)ncnc21'), ('DB04720', 'CSc1nc2c(Br)c(Br)c(Br)c(Br)c2[nH]1'), ('DB08889', 'CC(C)CC(NC(=O)C(CCc1ccccc1)NC(=O)CN1CCOCC1)C(=O)NC(Cc1ccccc1)C(=O)NC(CC(C)C)C(=O)C1(C)CO1'), ('DB09290', 'Cn1cc(C(=O)C2CCc3[nH]cnc3C2)c2ccccc21'), ('DB08132', 'NS(=O)(=O)c1cccc2c(O)cccc12'), ('DB07510', 'O=C(O)C(O)=C(F)C=CC(=O)c1ccc(F)cc1'), ('DB00899', 'CCC(=O)N(c1ccccc1)C1(C(=O)OC)CCN(CCC(=O)OC)CC1'), ('DB00883', 'O=[N+]([O-])OC1COC2C(O[N+](=O)[O-])COC12'), ('DB07160', 'CCOC(=O)C1OC1C(=O)NC(C(=O)O)C(C)CC'), ('DB02255', 'CNC(=O)C(Cc1c[nH]c2ccccc12)NC(=O)C(CC(=O)NO)CC(C)C'), ('DB08594', 'CN(C#N)NC(=O)OC(C)(C)C'), ('DB08887', 'CCC=CCC=CCC=CCC=CCC=CCCCC(=O)OCC'), ('DB02085', 'NC1(C(=O)O)CC1'), ('DB00963', 'Nc1c(CC(=O)O)cccc1C(=O)c1ccc(Br)cc1'), ('DB00201', 'Cn1c(=O)c2c(ncn2C)n(C)c1=O'), ('DB09289', 'CN1c2ccccc2C(NCCCCCCC(=O)O)c2ccc(Cl)cc2S1(=O)=O'), ('DB00370', 'CN1CCN2c3ncccc3Cc3ccccc3C2C1'), ('DB04190', 'O=C(NC1c2ccccc2CC1O)C(CC(O)C(OCc1ccccc1)C(=O)NC1c2ccccc2CC1O)OCc1ccccc1'), ('DB03094', 'CC(N)C1NC(CN)C(=O)N1CC(=O)O'), ('DB07384', 'CC(=O)N1CCCCC1C(=O)O'), ('DB04306', 'Cc1ccc(Sc2cccc3nc(N)nc(N)c23)cc1'), ('DB03199', 'CCC1(O)CC(OC2CC(N(C)C)C(O)C(C)O2)c2c(O)c3c(c(O)c2C1C(=O)OC)C(=O)c1cccc(OC)c1C3=O'), ('DB02501', 'N=C(N)NCCCC(NC(=O)CCC(=O)O)C(=O)O'), ('DB02932', 'CC(O)(CS(=O)(=O)c1ccc(F)cc1)C(=O)Nc1ccc(C#N)c(C(F)(F)F)c1'), ('DB04750', 'O=C(O)c1ccc(-c2c3cc(F)c(=O)cc-3oc3cc(O)c(F)cc23)c(C(=O)O)c1'), ('DB07246', 'NC(CS(=O)(=O)c1ccc(Oc2ccccc2)cc1)(C(=O)NO)C(F)(F)F'), ('DB08605', 'CCCS(=O)(=O)N1N=Cc2sc(C)cc2B1O'), ('DB00913', 'CCOC(=O)C1(c2ccccc2)CCN(CCc2ccc(N)cc2)CC1'), ('DB00791', 'O=c1[nH]cc(N(CCCl)CCCl)c(=O)[nH]1'), ('DB05413', 'CCC(C)C(NC(=O)C(CCC(N)=O)NC(=O)C(C)NC(=O)C(CCC(N)=O)NC(=O)C(CCC(=O)O)NC(=O)C(CC(C)C)NC(=O)C(CC(C)C)NC(=O)C(C)NC(=O)C(NC(=O)C(NC(=O)C(CCCCN)NC(=O)C(CCC(N)=O)NC(=O)C(CCC(=O)O)NC(=O)C(Cc1c[nH]c2ccccc12)NC(=O)C(CCC(=O)O)NC(=O)C(CCC(N)=O)NC(=O)C(Cc1c[nH]c2ccccc12)NC(C)=O)C(C)CC)C(C)O)C(=O)NC(CCC(N)=O)C(=O)NC(CCC(N)=O)C(=O)NC(CCC(=O)O)C(=O)NC(CCCCN)C(=O)NC(CC(N)=O)C(=O)NC(CCC(=O)O)C(=O)NC(Cc1ccc(O)cc1)C(=O)NC(CCC(=O)O)C(=O)NC(CC(C)C)C(=O)NC(CCC(N)=O)C(=O)NC(CCCCN)C(=O)NC(CC(C)C)C(=O)NC(CC(=O)O)C(=O)NC(CCCCN)C(=O)NC(Cc1c[nH]c2ccccc12)C(=O)NC(C)C(=O)NC(CO)C(=O)NC(CC(C)C)C(=O)NC(Cc1c[nH]c2ccccc12)C(=O)NC(CCC(=O)O)C(=O)NC(Cc1c[nH]c2ccccc12)C(=O)NC(Cc1ccccc1)C(N)=O'), ('DB03185', 'O=C1NC=CC=CN1C1OC(CO)C(O)C1O'), ('DB03763', 'Cn1cc(C2CC(O)C(CO)O2)c(=O)[nH]c1=O'), ('DB03723', 'Cc1cn(C2CC(O)C(COP(=O)(O)OP(=O)(O)OC3OC(C)C(O)C(O)C3O)O2)c(=O)[nH]c1=O'), ('DB07163', 'NCCNc1cc(-c2ccc[nH]2)c2c3c(ccc(F)c13)NC2=O'), ('DB00679', 'CSc1ccc2c(c1)N(CCC1CCCCN1C)c1ccccc1S2'), ('DB06274', 'CC1CN(CC(Cc2ccccc2)C(=O)NCC(=O)O)CCC1(C)c1cccc(O)c1'), ('DB02925', 'NS(=O)(=O)c1cc(C(=O)O)cc(N2CCCC2)c1Oc1ccccc1'), ('DB00464', 'CCCCC(CC)CCC(CC(C)C)OS(=O)(=O)[O-].[Na+]'), ('DB07862', 'CCC(CC)n1ccc2c3c(N)nc(N)nc3ccc21'), ('DB00587', 'CCC(CC)(CC(=O)Nc1cccc(C=Cc2nc(C3CCC3)cs2)c1)C(=O)O'), ('DB02077', 'N=C(NCCCC(N)C(=O)NC1CNC(C(N)=O)C1)N[N+](=O)[O-]'), ('DB08909', 'O=C(CCCc1ccccc1)OCC(COC(=O)CCCc1ccccc1)OC(=O)CCCc1ccccc1'), ('DB03344', 'O=P(O)(O)OC1C(O)C(OP(=O)(O)O)C(OP(=O)(O)O)C(OP(=O)(O)O)C1OP(=O)(O)O'), ('DB04470', 'CC(C)COc1cccc(-c2nc3cc(C(N)=[NH2+])ccc3[nH]2)c1[O-]'), ('DB00239', 'Clc1ccc(CON=C(Cn2ccnc2)c2ccc(Cl)cc2Cl)c(Cl)c1'), ('DB04572', 'S=P(N1CC1)(N1CC1)N1CC1'), ('DB03105', 'NC(CCCO)C(=O)O'), ('DB03601', 'O=C1CC(c2ccc(O)cc2)Oc2cc(O)ccc21'), ('DB00688', 'COc1c(C)c2c(c(O)c1CC=C(C)CCC(=O)OCCN1CCOCC1)C(=O)OC2'), ('DB07544', 'O=C(NNS(=O)(=O)c1ccccc1C(F)(F)F)c1cc2cc(Cl)ccc2o1'), ('DB00757', 'O=C(OC1CC2CC3CC(C1)N2CC3=O)c1c[nH]c2ccccc12'), ('DB01827', 'COc1c(F)c(F)c(C(N)=O)c(F)c1F'), ('DB00176', 'COCCCCC(=NOCCN)c1ccc(C(F)(F)F)cc1'), ('DB08414', 'CC(Sc1nc(N)cc(Cl)n1)c1cc2ccoc2cn1'), ('DB01156', 'CC(NC(C)(C)C)C(=O)c1cccc(Cl)c1'), ('DB02135', 'O=c1[nH]c(=O)c2c([nH]1)n(CC(O)C(O)C(O)CO)c(=O)n2CCCCOP(=O)(O)O'), ('DB07346', 'CCc1cc(CCN)ccc1O'), ('DB08903', 'COc1nc2ccc(Br)cc2cc1C(c1ccccc1)C(O)(CCN(C)C)c1cccc2ccccc12'), ('DB03749', 'CCc1cc(-c2n[nH]cc2-c2c[nH]cn2)c(O)cc1O'), ('DB06730', 'C#CC1(O)C=CC2C3CCC4=CC(=O)CCC4C3CCC21CC'), ('DB01430', 'C=CCNc1nc(NCC=C)nc(N2CCN(C(c3ccc(F)cc3)c3ccc(F)cc3)CC2)n1'), ('DB04595', 'Cc1cc(C(=O)NC(C)C(=O)NC(C(=O)NC(CC(C)C)C(=O)NC(C=CC(=O)OCc2ccccc2)CC2CCNC2=O)C(C)C)no1'), ('DB04719', 'CN(C)c1nc2c(Br)c(Br)c(Br)c(Br)c2[nH]1'), ('DB02365', 'c1cnc2c(c1)ccc1cccnc12'), ('DB08995', 'COc1ccc(-c2cc(=O)c3c(O)cc(OC4OC(COC5OC(C)C(O)C(O)C5O)C(O)C(O)C4O)cc3o2)cc1O'), ('DB07747', 'O=S(=O)(Nc1ccc(Cl)cc1)c1ccc2c(c1)CNC(CO)C2'), ('DB09171', 'CCC(=O)N(c1ccccc1)C1CCN(CC(C)c2ccccc2)CC1'), ('DB04423', 'Cc1c(CCC(=O)O)c2n3c1C=c1c(CCC(=O)O)c(C)c4n1[Co]31n3c(c(C)c(CCC(=O)O)c3C=4)C=c3c(CCC(=O)O)c(C)c(n31)=C2'), ('DB01901', 'O=S(=O)(O)OCC1OC(OC2(COS(=O)(=O)O)OC(COS(=O)(=O)O)C(OS(=O)(=O)O)C2OS(=O)(=O)O)C(OS(=O)(=O)O)C(OS(=O)(=O)O)C1OS(=O)(=O)O'), ('DB01711', 'OCc1c(F)c(F)c(F)c(F)c1F'), ('DB07797', 'CCOc1ccnc(CCNC(=S)Nc2ccc(Cl)cn2)c1F'), ('DB07373', 'CC12C=CC(=O)C=C1CCC1C2CCC2(C)C(=O)CCC12'), ('DB02416', 'Nc1ncnc2c1C(I)NN2C1OC(CO)C(O)C1O'), ('DB11613', 'COCC1CC(c2ncc(-c3ccc4c(c3)COc3cc5c(ccc6nc(C7CCC(C)N7C(=O)C(N=C(O)OC)C(C)C)[nH]c65)cc3-4)[nH]2)N(C(=O)C(N=C(O)OC)c2ccccc2)C1'), ('DB00459', 'COc1cc(C)c(C=CC(C)=CC=CC(C)=CC(=O)O)c(C)c1C'), ('DB08768', 'CC(C)=CCNc1ncnc2[nH]cnc12'), ('DB03444', 'O=C1Nc2cc(Br)ccc2C1=C1Nc2ccccc2C1=NO'), ('DB04845', 'CC(=Cc1csc(C)n1)C1CC2OC2(C)CCCC(C)C(O)C(C)C(=O)C(C)(C)C(O)CC(=O)N1'), ('DB08944', 'CC(CC(C#N)(c1ccccc1)C(C)C)N(C)C.O=C(O)CC(O)(CC(=O)O)C(=O)O'), ('DB04503', 'O=C(O)CCC(NC(=O)c1ccc(S(=O)(=O)N2CCCC2C(=O)O)cc1)C(=O)O'), ('DB02698', 'O=C(O)c1cccc2c1Oc1c(C(=O)O)cccc1N2c1cccc(C(F)(F)F)c1'), ('DB06836', 'CC(=O)N=c1[nH]c(C)c(-c2ccc(Cl)c(S(=O)(=O)NCCO)c2)s1'), ('DB01871', 'O=C(NC(Cc1ccccc1)C(=O)NC(Cc1ccccc1)C(=O)CO)OCc1ccccc1'), ('DB06823', 'CC(S)C(O)=NCC(=O)O'), ('DB03647', 'Cc1ccc(C(=O)N(c2cc(-c3ccccc3)sc2C(=O)O)C(C)C)cc1'), ('DB00498', 'O=C1c2ccccc2C(=O)C1c1ccccc1'), ('DB01944', 'Cc1ccc2c(c1)C(=O)C1(O)CCN(c3ccccc3)C1=N2'), ('DB02789', 'CC(=O)C1CCC2C3CC=C4CC(O)CCC4(C)C3CCC12C'), ('DB00673', 'CC(OC1OCCN(Cc2n[nH]c(=O)[nH]2)C1c1ccc(F)cc1)c1cc(C(F)(F)F)cc(C(F)(F)F)c1'), ('DB00834', 'CC#CC1(O)CCC2C3CCC4=CC(=O)CCC4=C3C(c3ccc(N(C)C)cc3)CC21C'), ('DB06810', 'COC(C(=O)C(O)C(C)O)C1Cc2cc3cc(OC4CC(OC5CC(O)C(O)C(C)O5)C(O)C(C)O4)c(C)c(O)c3c(O)c2C(=O)C1OC1CC(OC2CC(OC3CC(C)(O)C(O)C(C)O3)C(O)C(C)O2)C(O)C(C)O1'), ('DB07921', 'O=NC(=O)CNS(=O)(=O)c1ccc(F)cc1'), ('DB03639', 'NCCCCCCCNC(N)N'), ('DB01649', 'Cn1c[n+](C2OC(COP(=O)(O)OP(=O)(O)OP(=O)(O)OCC3OC(n4cnc5c(N)ncnc54)C(O)C3O)C(O)C2O)c2[nH]c(N)nc(=O)c21'), ('DB02928', 'Nc1cc(CC(N)C(=O)O)c(O)cc1O'), ('DB00990', 'C=C1CC2C(CCC3(C)C(=O)CCC23)C2(C)C=CC(=O)C=C12'), ('DB07488', 'COc1ccc(N=c2[nH]c(N)c(C(=O)c3ccc(OC)cc3)s2)cc1'), ('DB00006', 'CCC(C)C(NC(=O)C(CCC(=O)O)NC(=O)C(CCC(=O)O)NC(=O)C(Cc1ccccc1)NC(=O)C(CC(=O)O)NC(=O)CNC(=O)C(CC(N)=O)NC(=O)CNC(=O)CNC(=O)CNC(=O)CNC(=O)C1CCCN1C(=O)C(CCCNC(=N)N)NC(=O)C1CCCN1C(=O)C(N)Cc1ccccc1)C(=O)N1CCCC1C(=O)NC(CCC(=O)O)C(=O)NC(CCC(=O)O)C(=O)NC(Cc1ccc(O)cc1)C(=O)NC(CC(C)C)C(=O)O'), ('DB04343', 'O=CC(=O)O'), ('DB04970', 'Clc1cnn(CCCCN2CCN(c3ncccn3)CC2)c1'), ('DB00397', 'CC(N)C(O)c1ccccc1'), ('DB02777', 'CCCCCCCCCCCC(=O)OCC(COP(=O)(O)OCC[N+](C)(C)C)OC(=O)CCCCCCCCCCC'), ('DB04067', 'CC(C)(COP(=O)(O)OP(=O)(O)OCC1OC(n2cnc3c(N)ncnc32)C(O)C1OP(=O)(O)O)C(O)C(=O)NCCC(=O)NCCSCc1ccc(O)cc1'), ('DB07880', 'O=C(O)c1ccccc1N=Nc1ccc(O)cc1'), ('DB06856', 'CC1CCCCC1Oc1cccc(-c2cc3cc(C(=N)N)c(F)cc3[nH]2)c1O'), ('DB03613', 'CC(C)(COP(=O)(O)OP(=O)(O)OCC1OC(n2cnc3c(N)ncnc32)C(O)C1OP(=O)(O)O)C(O)C(=O)NCCC(=O)NCCSCC(=O)c1ccc(O)cc1'), ('DB08270', 'CC(C)CC(NC(c1ccc(-c2ccc(S(N)(=O)=O)cc2)cc1)C(F)(F)F)C(=O)NCCN'), ('DB05444', 'c1cncc(C2=NC(CN3CCCCC3)CON2)c1'), ('DB03739', 'O=C(O)C1(O)CC(=NO)C(O)C(O)C1'), ('DB04830', 'CCCCN=C(N)N=C(N)N'), ('DB07005', 'NC(=[NH2+])c1ccc(CNC(=O)C2CCCN2C(=O)C(N)Cc2ccccc2)cc1'), ('DB08583', 'CCn1nccc1-c1c[nH]c2ncc(-c3ccc(N)c(C(=O)N(C)C)c3)cc12'), ('DB02906', 'CC1C(=O)CC(CC(O)O)C1(C)C'), ('DB03125', 'COc1cc(Cc2c[nH+]c(N)nc2N)cc(OC)c1OC'), ('DB02968', 'CC1(C)SC(C(NC(=O)Cc2ccccc2)C(=O)OCC(N)C(=O)[O-])NC1C(=O)[O-]'), ('DB01670', 'CCCOC(C)=O'), ('DB03006', 'Nc1ccc([As](=O)(O)O)cc1'), ('DB07114', 'CS(=O)(=O)Nc1ccc(C(=O)O)cc1'), ('DB02107', 'CC(C)CC(C)N'), ('DB00778', 'CCC1OC(=O)C(C)C(OC2CC(C)(OC)C(O)C(C)O2)C(C)C(OC2OC(C)CC(N(C)C)C2O)C(C)(O)CC(C)C(=NOCOCCOC)C(C)C(O)C1(C)O'), ('DB07762', 'CCC(CC)C(=O)Nc1cc(C(=O)O)ccc1NC(C)=O'), ('DB02303', 'O=C1NCC(I)C(=O)N1'), ('DB08726', 'Cc1cc(CCCCCCCOc2ccc(C3=NCCO3)cc2)on1'), ('DB02844', 'NCC=C(CCCCCN)SCC1OC(n2cnc3c(N)ncnc32)C(O)C1O'), ('DB01413', 'CON=C(C(=O)NC1C(=O)N2C(C(=O)[O-])=C(C[N+]3(C)CCCC3)CSC12)c1csc(N)n1'), ('DB03362', 'CN(C)CCCCC(N)C(=O)O'), ('DB03741', 'CCC(C)C(=O)O'), ('DB07326', 'O=C(Nc1cncnc1)c1c(Cl)ccc2c(Nc3cccc(C(F)(F)F)c3)noc12'), ('DB08344', 'COCCCN(C(=O)c1ccc(Cl)cc1)C1CCCN(CCc2ccccc2)C1'), ('DB02132', 'O=C(O)Cn1c(=O)n(Cc2ccc(Br)cc2F)c(=O)c2ccc(Cl)cc21'), ('DB06939', 'CC(=O)N(C)C1CCC(C(C)C(N)C(=O)N2CCC(F)C2)CC1'), ('DB02524', 'Nc1ncnc2c1ncn2C1OC(COP(=O)(O)OP(=O)(O)OP(=O)(O)O)C2OC3(OC21)C([N+](=O)[O-])=CC(=[N+]([O-])[O-])C=C3[N+](=O)[O-]'), ('DB08755', 'CC(C#N)(COCc1ccccc1)NC(=O)C(CC1CCCCC1)NC(=O)N1CCOCC1'), ('DB08765', 'NS(=O)(=O)c1nc2ccc(O)cc2s1'), ('DB08543', 'OC(COc1ccc(C2CCCCC2)cc1)CN1CCN(c2ccccn2)CC1'), ('DB02113', 'Cc1ncnc2nc[nH]c12'), ('DB03634', '[N-]=[N+]=NCc1cc(C(=O)NCCCOC2OC(CO)C(O)C(O)C2O)cc(C(=O)NCCCOC2OC(CO)C(O)C(O)C2O)c1'), ('DB05076', 'CC(C=CC1=C(C)CCCC1(C)C)=CC=CC(C)=CC(=O)Nc1ccc(O)cc1'), ('DB03530', 'C=C1CSC(C(C=O)NC(=O)C(=NOC(C)(C)C(=O)O)c2csc(N)n2)N=C1C(=O)O'), ('DB04732', 'CC(C)CC(NC(=O)C(Cc1cccc2ccccc12)NC(=O)N1CCOCC1)B(O)O'), ('DB07630', 'CN1CCc2nc(C(=O)NC3CCCCC3NC(=O)c3cc4cc(Cl)ccc4[nH]3)sc2C1'), ('DB09196', 'Fc1ccc(OCC2CNCCO2)c2c1CCC2'), ('DB07704', 'COc1ccc(CCc2c3nc[nH]c3cc3c(=O)[nH]c(N)nc23)cc1'), ('DB06990', 'O=C(O)c1ccc(C=NOCCON=Cc2cc(=O)[nH]c(=O)[nH]2)cc1'), ('DB04211', 'CC(=O)NC1C(O)C(F)C(C(=O)O)OC1C(O)C(O)CO'), ('DB03902', 'O=C(O)C(=O)O'), ('DB02151', 'CSCCC(N)P(=O)(O)O'), ('DB04699', 'O=C1CCCO1'), ('DB08864', 'Cc1cc(C=CC#N)cc(C)c1Nc1ccnc(Nc2ccc(C#N)cc2)n1'), ('DB08226', 'CCCCC(C)=CC=C(C)C(=O)c1c(O)cc(CCCC=CNC(=O)OC)oc1=O'), ('DB04256', 'CC(N)(C(=O)O)c1ccc(C(=O)O)cc1'), ('DB01595', 'O=C1CN=C(c2ccccc2)c2cc([N+](=O)[O-])ccc2N1'), ('DB00157', 'NC(=O)C1=CN(C2OC(COP(=O)(O)OP(=O)(O)OCC3OC(n4cnc5c(N)ncnc54)C(O)C3O)C(O)C2O)C=CC1'), ('DB02470', 'O=P(O)(O)OCC(O)C1OC(O)C(O)C(O)C1O'), ('DB01557', 'CCC(=O)N(c1ccccc1)C1CCN(C(C)Cc2ccccc2)CC1'), ('DB03153', 'Oc1ncnc2c1N=NC2'), ('DB03365', 'COc1cc2ncnc(Nc3cccc(O)c3)c2cc1OC'), ('DB01977', 'N=C(N)c1ccc2cc(C(=O)Nc3ccccc3)ccc2c1'), ('DB07028', 'O=C(O)COc1cc(Cl)ccc1C(=O)NCc1ccc(Br)cc1F'), ('DB04557', 'CCCCCC=CCC=CCC=CCC=CCCCC(=O)O'), ('DB08826', 'Cc1c(O)c(=O)ccn1C'), ('DB05424', 'C=CC(=O)Nc1cc2c(Nc3ccc(F)c(Cl)c3)ncnc2cc1OCCCN1CCOCC1'), ('DB07152', 'CC(=O)Nc1nc(-c2ccc(F)c(C)n2)c(-c2ccc3nccnc3c2)[nH]1'), ('DB09236', 'CCOC(=O)C1=C(C)NC(C)=C(C(=O)OCC)C1c1ccccc1C=CC(=O)OC(C)(C)C'), ('DB06697', 'COC1OC2OC3(C)CCC4C(C)CCC(C1C)C24OO3'), ('DB07836', 'CCCCCCCCCCOCC(COCC(F)(F)F)OP(=O)(O)OC'), ('DB00871', 'CC(C)(C)NCC(O)c1cc(O)cc(O)c1'), ('DB04183', 'CC(C(=O)O)C(=O)O'), ('DB00666', 'CC(C)CC(NC(=O)C(Cc1ccc2ccccc2c1)NC(=O)C(Cc1ccc(O)cc1)NC(=O)C(CO)NC(=O)C(Cc1c[nH]c2ccccc12)NC(=O)C(Cc1cnc[nH]1)NC(=O)C1CCC(=O)N1)C(=O)NC(CCCN=C(N)N)C(=O)N1CCCC1C(=O)NCC(N)=O'), ('DB00668', 'CNCC(O)c1ccc(O)c(O)c1'), ('DB00364', 'O=S(=O)(OCC1OC(OC2(COS(=O)(=O)O[AlH3](O)O)OC(OS(=O)(=O)O[AlH3](O)O)C(OS(=O)(=O)O[AlH3](O)O)C2OS(=O)(=O)O[AlH3](O)O)C(OS(=O)(=O)O[AlH3](O)O)C(OS(=O)(=O)O[AlH3](O)O)C1OS(=O)(=O)O[AlH3](O)O)O[AlH3](O)O'), ('DB00440', 'COc1cc(Cc2cnc(N)nc2N)cc(OC)c1OC'), ('DB04359', 'C=CS(=O)(=O)O'), ('DB08571', 'CC(=O)Nc1c(N)cc(C(=O)O)cc1O'), ('DB04264', 'Nc1nc(O)c2cc(CC(C(=O)O)c3ccc(C(=O)NC(CCC(=O)O)C(=O)O)cc3)ccc2n1'), ('DB07499', 'N=C(N)NCCCCNC(=O)c1csc(-c2cscn2)n1'), ('DB01838', 'Cc1c(-c2cc(Br)c(O)c(Br)c2)oc2ccc(O)cc2c1=O'), ('DB09104', '[Mg+2].[OH-].[OH-]'), ('DB00728', 'C=CC[N+]1(C2CC3C4CCC5CC(O)C(N6CCOCC6)CC5(C)C4CCC3(C)C2OC(C)=O)CCCC1'), ('DB03012', 'NS(=O)(=O)NC(Cc1ccccc1)C(=O)O'), ('DB04946', 'COc1cc(C(C)=O)ccc1OCCCN1CCC(c2noc3cc(F)ccc23)CC1'), ('DB09256', 'O=c1[nH]c(=O)n(C2CCCO2)cc1F'), ('DB07116', 'Cc1cccc2c1ccn2C1CC(O)C(COP(=O)(O)O)O1'), ('DB06696', 'NCCC(O)C(=O)NC1CC(N)C(OC2OC(CN)CCC2N)C(O)C1OC1OC(CO)C(O)C(N)C1O'), ('DB07361', 'O=C(Nc1cccc(Cl)c1)Nc1ncc(CCNc2ncnc3ccsc23)s1'), ('DB07347', 'NCCc1ccc(S(=O)(=O)F)cc1'), ('DB07479', 'OC1Cc2c(ccc3ccc4ccccc4c23)C(O)C1O'), ('DB01925', 'Oc1cccc(-c2ccccc2Cl)c1O'), ('DB03645', 'O=C(CP(=O)(O)O)NO'), ('DB01587', 'CC1=CC(=O)N2CC(=O)N(C)c3ccc(Cl)cc3C2(c2ccccc2)O1'), ('DB02744', 'N=C(N)c1ccc(O)c(CN2CCC(NS(=O)(=O)c3cc4ncccc4s3)C2=O)c1'), ('DB08567', 'CNC1CCC(c2ccc(Cl)c(Cl)c2)c2ccccc21'), ('DB01331', 'COC1(NC(=O)Cc2cccs2)C(=O)N2C(C(=O)O)=C(COC(N)=O)CSC21'), ('DB00715', 'Fc1ccc(C2CCNCC2COc2ccc3c(c2)OCO3)cc1'), ('DB06794', 'N#Cc1cc(NC(=O)C(=O)O)c(Cl)c(NC(=O)C(=O)O)c1'), ('DB05465', 'COc1cc2c(N3CCN(C(=O)Nc4ccc(OC(C)C)cc4)CC3)ncnc2cc1OCCCN1CCCCC1'), ('DB01119', 'CC1=NS(=O)(=O)c2cc(Cl)ccc2N1'), ('DB03003', 'NC(CCC(=O)NC(CS(=O)(=O)O)C(=O)NCC(=O)O)C(=O)O'), ('DB01477', 'COc1ccc2c3c1OC1C(O)C=CC4C(C2)[N+](C)(C)CCC341.[Br-]'), ('DB00167', 'CCC(C)C(N)C(=O)O'), ('DB01726', 'Nc1ccccc1O'), ('DB03885', 'NC(CCC(=O)NC(CSCc1cccc2ccccc12)C(=O)NCC(=O)O)C(=O)O'), ('DB02960', '[NH3+]Cc1ccc(CNCCC(=O)O)cc1'), ('DB00461', 'COc1ccc2cc(CCC(C)=O)ccc2c1'), ('DB04543', 'Nc1cc(CSc2ncc[nH]2)c2nc(N)[nH]c(=O)c2c1'), ('DB07764', 'O=C(O)c1ccccc1C1c2ccc(O)cc2Oc2cc(O)ccc21'), ('DB00843', 'COc1cc2c(cc1OC)C(=O)C(CC1CCN(Cc3ccccc3)CC1)C2'), ('DB04202', 'COc1ccc2c(=O)c(-c3ccc(O)cc3)coc2c1'), ('DB02411', 'CC(C)CCN(CC(O)C1Cc2ccc(cc2)OCCCC(=O)NC(CC(N)=O)C(=O)N1)S(=O)(=O)c1ccccc1'), ('DB08283', 'CCCCCCCCCN1CC(O)C(O)C(O)C1CO'), ('DB01668', 'CC1OC2CC(=O)OC2C2=C1C(=O)c1c(O)cccc1C2=O'), ('DB00280', 'CC(C)N(CCC(C(N)=O)(c1ccccc1)c1ccccn1)C(C)C'), ('DB02405', 'O=C(O)CCCCCCCCCCCBr'), ('DB04570', 'COC1(NC(=O)C(C(=O)O)c2ccc(O)cc2)C(=O)N2C(C(=O)O)=C(CSc3nnnn3C)COC21'), ('DB03493', 'C[n+]1cn(C2OC(CO)C(O)C2O)c2nc(N)[nH]c(=O)c21'), ('DB07714', 'CC1=C(CCCCCC(=O)O)C(=O)c2ccccc2C1=O'), ('DB01532', 'CC(=O)N(c1ccccc1)C1CCN(C(C)Cc2ccccc2)CC1'), ('DB01748', 'NS(=O)(=O)c1ccc(C(=O)NCc2ccccc2)cc1'), ('DB04520', 'O=C1NC(Cc2ccc(O)cc2)C(=O)N2CCCC12'), ('DB00359', 'Nc1ccc(S(=O)(=O)Nc2ncccn2)cc1'), ('DB06960', 'CCCCCCCCCCCCCC=CC(O)C(CO)NC(C)=O'), ('DB03349', 'Nc1ncnc2c1nc(Br)n2C1OC(COP(=O)(O)O)C(O)C1O'), ('DB03663', 'CC(C)C(=O)COc1nc(N)nc2nc[nH]c12'), ('DB08711', 'COC(=O)c1ccc(O)c(OC)c1'), ('DB08847', 'O=C(O)C1CC(O)CN1'), ('DB02352', 'Nc1ncccc1OCc1ccccc1'), ('DB01450', 'CCCC(C)(O)C1CC23CCC1(OC)C1Oc4c(O)ccc5c4C12CCN(C)C3C5'), ('DB03912', 'CC(C)(COP(=O)(O)O)C(O)C(=O)NCCC(=O)NCCS'), ('DB08537', 'Brc1cnc2c(NCc3cncnc3)cc(-c3ccccc3)cn12'), ('DB06855', 'CC(C)COc1cccc(-c2nc3cc(C(N)=[NH2+])c(F)cc3[nH]2)c1[O-]'), ('DB01569', 'CC12C=C(C=O)C(=O)C=C1CCC1C2C(O)CC2(C)C1CCC2(C)O'), ('DB08173', 'O=C(NCCNC(=O)c1ccc(Cl)s1)c1ccc(-n2ccccc2=O)cc1'), ('DB08234', 'CCc1nc(N)nc(N)c1C#CCc1cc(OC)ccc1OC'), ('DB08104', 'O=C(Nc1cc(Br)c(O)c(Br)c1)c1ccccc1'), ('DB08302', 'CCCC(=Cc1ccc(-c2cccc(C(=O)O)c2)o1)[N+](=O)[O-]'), ('DB08461', 'CC(C)(C)n1nc(Cc2cccc(O)c2)c2c(N)ncnc21'), ('DB07115', 'CN(Cc1ccc(Cl)cc1)S(=O)(=O)c1ccc(S(N)(=O)=O)cc1'), ('DB03924', 'Nc1ccc(N)c2c1C(=O)c1c(O)ccc(O)c1C2=O'), ('DB09174', 'CCC(=O)N(c1ccccc1)C1(C(=O)OC)CCN(CCc2ccccc2)CC1C'), ('DB06704', 'NC(N)=NCc1cccc(I)c1'), ('DB01599', 'CC(C)(Sc1cc(C(C)(C)C)c(O)c(C(C)(C)C)c1)Sc1cc(C(C)(C)C)c(O)c(C(C)(C)C)c1'), ('DB04058', 'NC(=O)NC(Cc1ccccc1)C(=O)O'), ('DB07330', 'CCCN1CCC(c2nc3cccc(C(N)=O)c3[nH]2)CC1'), ('DB00828', 'CC1OC1P(=O)(O)O'), ('DB07905', 'COc1cc(O)c2c(c1)C1OC1CC(O)C(O)C(=O)C=CCC(C)OC2=O'), ('DB01071', 'c1ccc2c(c1)Sc1ccccc1N2CC1CN2CCC1CC2'), ('DB11362', 'CC(C)N(CCCCOCC(=O)NS(C)(=O)=O)c1cnc(-c2ccccc2)c(-c2ccccc2)n1'), ('DB08941', 'CC(COc1ccccc1)NC(C)C(O)c1ccc(O)cc1'), ('DB04337', '[C-]#[N+]C'), ('DB03578', 'CC(=O)C(N)=O'), ('DB01604', 'CC(C)(C)C(=O)OCOC(=O)C1N2C(=O)C(NC(=O)C(N)c3ccccc3)C2SC1(C)C'), ('DB08964', 'CCCCC(C)(C)C(O)C=CC1C(O)CC(=O)C1CCCCC=CC(=O)OC'), ('DB01091', 'CN(Cc1ccc(C(C)(C)C)cc1)Cc1cccc2ccccc12'), ('DB03681', 'Cl[Fe]O[Fe]'), ('DB07941', 'CNC(=O)c1ccc(C)c(-n2c(C)cc(OCc3ccc(F)cc3F)c(Br)c2=O)c1'), ('DB07928', 'CCCCCCCC(=O)NC1CCOC1=O'), ('DB07092', 'CN(C)C(=O)C(C1CCC(c2ccc3ncnn3c2)CC1)C(N)C(=O)N1CCC(F)(F)C1'), ('DB01514', 'CC12Cc3nonc3CC1CCC1C2CCC2(C)C1CCC2(C)O'), ('DB06996', 'CC(C)CC(N)C(=O)N1CCCC1C(=O)NCc1ccc(C(=N)N)cc1'), ('DB04042', 'COC(O)c1ccc(CN2C(COc3ccccc3)C(O)C(O)C(COc3ccccc3)N(Cc3ccc(CO)cc3)S2(=O)=O)cc1'), ('DB08146', 'Nc1ncc2cc(-c3ccccc3)c(N3CC=CC3)nc2n1'), ('DB11593', 'O=c1[nH]c2ccccc2c(=O)o1'), ('DB04035', 'CC(C)(ON=C(C(=O)NCB(O)O)c1csc(N)n1)C(=O)O'), ('DB02573', 'Nc1ccn(C2CC(OP(=O)(O)OCC3OC(n4cnc5c(N)ncnc54)CC3O)C(CO)O2)c(=O)n1'), ('DB04823', 'O=C1Nc2ccccc2C1(c1ccc(O)cc1)c1ccc(O)cc1'), ('DB08407', 'CC12CC34C=CC(=O)C(C)(CCC(=O)Nc5c(O)ccc(C(=O)O)c5O)C3C(CC1C4)O2'), ('DB02588', 'COC1(NC(=O)C(C(=O)O)c2ccc(O)cc2)C(=O)N2C(C(=O)O)=C(C)COC21'), ('DB00208', 'Clc1ccccc1CN1CCc2sccc2C1'), ('DB01483', 'CCC1(CC)C(=O)NC(=O)NC1=O'), ('DB01475', 'CCOC(=O)C(CCN1CCOCC1)(c1ccccc1)c1ccccc1'), ('DB08708', 'FC(F)(F)c1cccc(-c2nnc3ccc(NC4CCCCC4)nn23)c1'), ('DB00556', 'FC(F)(F)C(F)(F)C(F)(F)F'), ('DB00116', 'Nc1nc(=O)c2c([nH]1)NCC(CNc1ccc(C(=O)NC(CCC(=O)O)C(=O)O)cc1)N2'), ('DB03330', 'NC(CCC(=O)NC(CSC(O)N(O)c1ccc(I)cc1)C(=O)NCC(=O)O)C(=O)O'), ('DB07578', 'Cc1nc2cnccc2n1-c1ccc(Cn2c(=O)sc3ccccc32)cc1'), ('DB05137', 'CN1C(CC(=O)c2ccccc2)CCCC1CC(O)c1ccccc1'), ('DB08668', 'N=C1N=NC(N)=C1N=Nc1cccc(C(=O)O)c1'), ('DB04239', 'NCc1cc(CSc2ccccc2)c2nc(N)[nH]c(=O)c2c1'), ('DB00802', 'CCC(=O)N(c1ccccc1)C1(COC)CCN(CCn2nnn(CC)c2=O)CC1'), ('DB04472', '[N-]=[N+]=NCC(O)c1ccc([N+](=O)[O-])cc1'), ('DB04466', 'CCOP(=O)(OCC)C(=Cc1cc(C(C)(C)C)c(O)c(C(C)(C)C)c1)P(=O)(OCC)OCC'), ('DB02111', 'O=C(O)c1conc1O'), ('DB01191', 'CCNC(C)Cc1cccc(C(F)(F)F)c1'), ('DB06637', 'N=c1cc[nH]cc1'), ('DB01848', 'O=C(O)CC(C(=O)O)C(O[Ca])C(=O)O'), ('DB04737', 'N#CC(O)c1ccccc1'), ('DB02499', 'NC(=NCC(N)C(=O)O)NO'), ('DB00745', 'NC(=O)CS(=O)C(c1ccccc1)c1ccccc1'), ('DB02999', 'NC(Cn1oc(=O)[nH]c1=O)C(=O)O'), ('DB03787', 'Cc1ncc(COP(=O)(O)O)c(CN=C2CON=C2O)c1O'), ('DB03948', 'O=P(O)(O)OCC1OC(n2cnc3c(Cl)[nH+]cnc32)C(O)C1O'), ('DB07217', 'N#Cc1c(NC(=O)c2ccccc2F)sc2c1CCCC2'), ('DB07165', 'O=C(CN1C(Cl)CN=C(NCCc2ccccn2)C1O)NCc1csc2ccc(Cl)cc12'), ('DB09136', 'CCN(CC)c1ccc(C(=C2C=CC(=[N+](CC)CC)C=C2)c2cc(S(=O)(=O)[O-])ccc2S(=O)(=O)[O-])cc1.[Na+]'), ('DB01092', 'CC1OC(OC2CC(O)C3(CO)C4C(O)CC5(C)C(C6=CC(=O)OC6)CCC5(O)C4CCC3(O)C2)C(O)C(O)C1O'), ('DB04598', 'Nc1c(C(=O)O)ccc(Cl)c1O'), ('DB01881', 'CC(O)CC(C)(O)CO'), ('DB01095', 'CC(C)n1c(C=CC(O)CC(O)CC(=O)O)c(-c2ccc(F)cc2)c2ccccc21'), ('DB04655', 'Cc1nc(N)nc(N)c1-c1ccc(Cl)c(Cl)c1'), ('DB07098', 'O=C(NN=Cc1cc(Br)c(O)c(Br)c1O)c1ccc(Br)cc1'), ('DB03216', 'Nc1ncnc2c1ncn2C1C=CC(O)C1O'), ('DB05508', 'Cl.O=C1CCC2(O)C3Cc4ccc(O)c5c4C2(CCN3CC2CC2)C1O5'), ('DB01672', 'O=C(O)c1cccc(O)c1O'), ('DB09326', 'N'), ('DB04017', 'C#CCN(C)CCCOc1ccc(Cl)cc1Cl'), ('DB00471', 'CC(C)(O)c1ccccc1CCC(SCC1(CC(=O)O)CC1)c1cccc(C=Cc2ccc3ccc(Cl)cc3n2)c1'), ('DB01123', 'Nc1ccc2cc3ccc(N)cc3nc2c1'), ('DB08590', 'CC(C)(C)C(=O)Oc1ccc2c(c1)nc(NC(=O)c1cccc([N+](=O)[O-])c1)n2CCCO'), ('DB00742', 'OCC(O)C(O)C(O)C(O)CO'), ('DB04868', 'Cc1cn(-c2cc(NC(=O)c3ccc(C)c(Nc4nccc(-c5cccnc5)n4)c3)cc(C(F)(F)F)c2)cn1'), ('DB07387', 'CCCCS(=O)(=O)CCC(=O)O'), ('DB01501', 'N#CC(CCN1CCC(C(=O)O)(c2ccccc2)CC1)(c1ccccc1)c1ccccc1'), ('DB01414', 'CC(=O)OCC1=C(C(=O)O)N2C(=O)C(NC(=O)CC#N)C2SC1'), ('DB05302', 'Cl.O=C1CCC2(O)C3Cc4ccc(O)c5c4C2(CCN3CC2CC2)C1O5'), ('DB03840', 'O[Cu+2](O)(n1ccnc1)(n1ccnc1)(n1ccnc1)n1ccnc1'), ('DB00337', 'CCC1C=C(C)CC(C)CC(OC)C2OC(O)(C(=O)C(=O)N3CCCCC3C(=O)OC(C(C)=CC3CCC(Cl)C(OC)C3)C(C)C(O)CC1=O)C(C)CC2OC'), ('DB03974', 'N=C([NH3+])NCCCCC(N)C(=O)O'), ('DB04631', 'COc1[nH]c(=O)c(C(=O)C(C)CC(C)C(Cl)CCl)c(O)c1OC'), ('DB08952', 'CC(C)NCC(O)COc1cccc2c1C=CC2'), ('DB09185', 'CCOc1ccccc1OCC1CNCCO1'), ('DB03615', 'NCC1OC(OC2C(N)CC(N)C(O)C2OC2OC(CO)C(O)C2O)C(N)C(O)C1O'), ('DB01505', 'CCOC(=O)C1(c2ccccc2)CCN(CCOCCO)CC1'), ('DB09477', 'CC(NC(CCc1ccccc1)C(=O)O)C(=O)N1CCCC1C(=O)O.O.O'), ('DB02013', '[N-]=[N+]=N[Fe]O[Fe]'), ('DB09159', 'O.O.O=C([O-])CC(O)(CC(=O)[O-])C(=O)[O-].[Na+].[Na+].[Na+]'), ('DB07719', 'CNC(=O)C1Cc2ccc(NS(=O)(=O)O)cc2CN1C(=O)OC(C)(C)C'), ('DB07605', 'O=C(c1cc2c(ccc[n+]2[O-])s1)N1CCN(S(=O)(=O)c2cc3cc(Cl)ccc3[nH]2)CC1'), ('DB03709', 'O=C(O)CN(CCO)CCO'), ('DB08520', 'CC1(C)COC(=O)CCCCCCCCCCCOC(=O)C2CCCCN2C(=O)C1=O'), ('DB07186', 'CN1CCN(c2ccc(C(=O)Nc3n[nH]c4cn(C(=O)Cc5cccs5)cc34)cc2)CC1'), ('DB07595', 'Brc1cccc(-c2cc(NCc3ccncc3)[n+]3[nH]ccc3n2)c1'), ('DB05446', 'NC(CCC(=O)NC(CSCO)C(=O)NCC(=O)O)C(=O)O'), ('DB06623', 'CCOC(=O)Nc1ccc(NCc2ccc(F)cc2)nc1N'), ('DB00992', 'COC(=O)CCC(=O)CN'), ('DB01058', 'O=C(C1CCCCC1)N1CC(=O)N2CCc3ccccc3C2C1'), ('DB06875', 'N#Cc1cc(-c2ccc(O)c(F)c2)cc2ccc(O)cc12'), ('DB00259', 'Nc1ccc(S(N)(=O)=O)cc1'), ('DB07538', 'N=C1NC(=O)C(=Cc2ccc(-c3ccc(S(N)(=O)=O)c(C(F)(F)F)c3)o2)S1'), ('DB03638', 'Nc1ccn(C2OC(CO)C(O)C2OP(=O)(O)OCC2OC(n3cnc4c(=O)[nH]c(N)nc43)C(O)C2O)c(=O)n1'), ('DB08086', 'CC(C)CC(NC(=O)CCCCCCCCCCCn1ccnc1)C(=O)O'), ('DB08778', 'CC(C)(C)Nc1nc(N)c(C(=O)c2ccccc2)s1'), ('DB07652', 'Cc1cc(C2CC(O)C(COP(=O)(O)O)O2)c(F)cc1F'), ('DB01179', 'COc1cc(C2c3cc4c(cc3C(O)C3COC(=O)C23)OCO4)cc(OC)c1OC'), ('DB11616', 'COc1cccc2c1C(=O)c1c(O)c3c(c(O)c1C2=O)CC(O)(C(=O)CO)CC3OC1CC(N)C(OC2CCCCO2)C(C)O1'), ('DB07462', 'O=C(c1ccccc1)c1ccc(O)c(O)c1[N+](=O)[O-]'), ('DB04083', 'Cc1ncc(COP(=O)(O)O)c(CNCCCCC(N)C(=O)O)c1O'), ('DB07196', 'CNCc1ccccc1-c1cccs1'), ('DB08506', 'CC(N)P(=O)(O)CC(Cc1ccccc1)C(=O)NC(Cc1ccccc1)C(=O)O'), ('DB00855', 'NCC(=O)CCC(=O)O'), ('DB04783', 'COC1C=CC(C)C(C(C)C(OC)C(C)CCC(=O)C(C)C(CC=CN(C)C=O)OC)OC(=O)C=CC=C(C)CC(OC)CC2=CC(=O)OC(C2O)C(C)C(OC)CC(OC)C=CC(C)C(O)C1'), ('DB07056', 'CCN(CC)C(=O)Cc1cccc(NS(=O)(=O)c2cccc(Cl)c2C)n1'), ('DB03217', 'O=P(O)(O)C(O)c1cccc2ccccc12'), ('DB00851', 'CN(C)N=Nc1[nH]cnc1C(N)=O'), ('DB04518', 'Cc1nc(C)c(-c2ccnc(Nc3cccc(O)c3)n2)s1'), ('DB09224', 'CC1CCN(CCCC(=O)c2ccc(F)cc2)CC1'), ('DB02468', 'C=Cc1c(C)c2n3c1=C(c1ccccc1)C1=[N+]4C(=Cc5c(C)c(CCC(=O)O)c6n5[Fe]34[N+]3=C(C=2)C(C)=C(CCC(=O)O)C3=C6)C(C=C)C1C'), ('DB07520', 'NCC1(NC(=O)C(CS(=O)(=O)N2CCOCC2)NC(c2ccc(F)cc2)C(F)(F)F)CC1'), ('DB04754', 'Nc1nc(=O)c2ncn(C3OC(CO)C4OC(CP(=O)(O)O)OC43)c2[nH]1'), ('DB09006', 'CCC(C)(Oc1ccc(C2(c3cccc(OC(C)(CC)C(=O)O)c3)CCCCC2)cc1)C(=O)O'), ('DB08966', 'CC(=C(CCO)SSCC1CCCO1)N(C=O)Cc1cnc(C)[nH]c1=N'), ('DB11581', 'CC1(C)CCC(CN2CCN(c3ccc(C(=O)NS(=O)(=O)c4ccc(NCC5CCOCC5)c([N+](=O)[O-])c4)c(Oc4cnc5[nH]ccc5c4)c3)CC2)=C(c2ccc(Cl)cc2)C1'), ('DB02848', 'CCOc1cc2ncnc(Nc3cccc(-c4csc(CO)n4)c3)c2cc1OCC'), ('DB03447', 'Nc1ncnc2c1ncn2C1OC(COP(=O)(O)OC2C(O)C(CO)OC2n2ccc(=O)[nH]c2=O)C(O)C1O'), ('DB01434', 'CC12CCC3C4CCC(=O)C=C4CCC3C1CCC2=O'), ('DB03134', 'NC(CCCCC(=O)O)C(=O)O'), ('DB02978', 'CC(C)C(O)C(N)C(=O)O'), ('DB05057', 'O=C(O)CSCC(=O)NC1CCSC1=O'), ('DB01809', 'Cc1ccc(-c2nn(C(C)(C)C)c3ncnc(N)c23)cc1'), ('DB07325', 'Cc1cc(CNS(=O)(=O)c2cccc(NC=C3CCOC3=O)c2)nc(N)n1'), ('DB04427', 'CN1CCN(C(=O)NC(Cc2ccccc2)C(=O)NC(CCc2ccccc2)CCS(=O)(=O)NOCc2ccccc2)CC1'), ('DB09313', 'CNC(=O)c1c(I)c(C(=O)NCC(=O)Nc2c(I)c(C(=O)O)c(I)c(C(=O)NCCO)c2I)c(I)c(N(C)C(C)=O)c1I'), ('DB00602', 'CCC(C)C1OC2(CCC1C)CC1CC(CC=C(C)C(OC3CC(OC)C(OC4CC(OC)C(O)C(C)O4)C(C)O3)C(C)C=CC=C3COC4C(O)C(C)=CC(C(=O)O1)C34O)O2.COC1CC(OC2C(C)OC(OC3C(C)=CCC4CC(CC5(CCC(C)C(C(C)C)O5)O4)OC(=O)C4C=C(C)C(O)C5OCC(=CC=CC3C)C45O)CC2OC)OC(C)C1O'), ('DB01948', 'O=C1CCc2c(-c3ccc(F)cc3F)cc(C3CCNCC3)cc2N1c1c(Cl)cccc1Cl'), ('DB03409', 'O=C(O)C1CC2CCCCC2N1'), ('DB04463', 'CC(C)(C)n1nc(-c2cccc(O)c2)c2c(N)ncnc21'), ('DB08524', 'O=CN(O)CCOc1cccc(C(=O)c2ccccc2)c1'), ('DB05252', 'CCOC(=O)C(C)Oc1ccc(Oc2nc3ccc(Cl)cc3o2)cc1'), ('DB00390', 'CC1OC(OC2C(O)CC(OC3C(O)CC(OC4CCC5(C)C(CCC6C5CC(O)C5(C)C(C7=CC(=O)OC7)CCC65O)C4)OC3C)OC2C)CC(O)C1O'), ('DB04760', 'Cc1cc(CNC(=O)c2cc(C(=O)NCc3ccc(F)c(C)c3)ncn2)ccc1F'), ('DB03557', 'NC(=O)C(CS)NC(=O)CCCCCNC(=O)C(Cc1ccc(C(F)(F)P(=O)(O)O)cc1)NC(=O)C(CC(=O)O)NC(=O)Cc1ccc(C(F)(F)P(=O)(O)O)cc1'), ('DB02410', 'CC(=O)c1sc(CCOP(=O)(O)OP(=O)(O)O)c(C)[n+]1Cc1cnc(C)nc1N'), ('DB07610', 'Oc1ccc2ccccc2c1O'), ('DB02549', 'CC(=O)OC1CC(n2cc(C)c(=O)[nH]c2=O)OC1COP(=O)(O)OP(=O)(O)O'), ('DB01879', 'CN(C(=O)c1cc(OS(=O)(=O)c2ccc3ccccc3c2)ccc1NS(=O)(=O)c1ccc2ccccc2c1)C(CC(=O)O)C(=O)O'), ('DB07159', 'COc1cc(Nc2ncc(F)c(Nc3ccc4c(n3)NC(=O)C(C)(C)O4)n2)cc(OC)c1OC'), ('DB09276', 'O=C(O)CC(S[Au])C(=O)[O-].[Na+]'), ('DB07943', 'O=C(CO)N1CCC(c2n[nH]c(-c3ccc(Cl)cc3)c2-c2ccncn2)CC1'), ('DB03625', 'Nc1nc(=O)c2c([nH]1)NCC(CCc1ccc(C(=O)NC(CCC(=O)O)C(=O)O)cc1)C2'), ('DB05128', 'CCCCCCCCOc1ccc(-c2ccc(C(=O)NC3CC(NCCN)CNC(=O)C4C(O)C(C)CN4C(=O)C(CO)NC(=O)C(C(O)Cc4ccccc4)NC(=O)C4CC(O)CN4C(=O)C(C(C)O)NC3=O)cc2)cc1'), ('DB04407', 'CNc1nc(C)c(-c2ccnc(Nc3ccc(O)cc3)n2)s1'), ('DB00810', 'OC(CCN1CCCCC1)(c1ccccc1)C1CC2C=CC1C2'), ('DB04746', 'CCCCCC=CC=CCCCCCCCCC(=O)O'), ('DB01808', 'NC(CS[AsH]O)C(=O)O'), ('DB01412', 'Cn1cnc2c1c(=O)[nH]c(=O)n2C'), ('DB03445', 'CC(Cn1ccnn1)(C(NC=CC=O)C(=O)O)[S](=O)=O'), ('DB03802', 'Oc1ccc2c(c1)CCN(c1ccccc1)C2c1ccc(N2CCN3CCCCC3C2)cc1'), ('DB08363', 'CCn1c2ccccc2c2cc(CNC)ccc21'), ('DB00704', 'O=C1CCC2(O)C3Cc4ccc(O)c5c4C2(CCN3CC2CC2)C1O5'), ('DB08206', 'Oc1c(Br)cc(-c2nc3ccccc3o2)cc1Br'), ('DB01056', 'Cc1cccc(C)c1NC(=O)C(C)N'), ('DB00904', 'Cc1nccn1CC1CCc2c(c3ccccc3n2C)C1=O'), ('DB07129', 'Cc1cccc(C)c1OCC(C)N'), ('DB07421', 'CC(O)(COc1ccc([N+](=O)[O-])cc1)C(O)Nc1ccc(C#N)c(C(F)(F)F)c1'), ('DB00409', 'CCN1CCCC1CNC(=O)c1c(OC)ccc(Br)c1OC'), ('DB00754', 'CCN1C(=O)NC(c2ccccc2)C1=O'), ('DB03782', 'N=C(N)Nc1ccc(CNC(=O)NC23CC4CC(CC(C4)C2)C3)cc1'), ('DB00777', 'CCC(=O)c1ccc2c(c1)N(CC(C)N(C)C)c1ccccc1S2'), ('DB06663', 'NCCCCC1NC(=O)C(Cc2c[nH]c3ccccc23)NC(=O)C(c2ccccc2)NC(=O)C2CC(OC(=O)NCCN)CN2C(=O)C(Cc2ccccc2)NC(=O)C(Cc2ccc(OCc3ccccc3)cc2)NC1=O'), ('DB01427', 'Nc1cc(-c2ccncc2)c[nH]c1=O'), ('DB04313', 'CC(C(=O)O)C(N)C(=O)O'), ('DB06155', 'Cc1c(C(=O)NN2CCCCC2)nn(-c2ccc(Cl)cc2Cl)c1-c1ccc(Cl)cc1'), ('DB01106', 'CC1CN(C2CCC(C#N)(c3ccc(F)cc3)CC2)CCC1(C(=O)O)c1ccccc1'), ('DB00917', 'CCCCCC(O)C=CC1C(O)CC(=O)C1CC=CCCCC(=O)O'), ('DB05294', 'COc1cc2c(Nc3ccc(Br)cc3F)ncnc2cc1OCC1CCN(C)CC1'), ('DB01526', 'CC12CCC(O)C=C1CCC1C2CCC2(C)C(O)CCC12'), ('DB04353', 'CC(C)(C)OC(=O)NC(Cc1ccccc1)C(=O)CC(Cc1ccccc1)C(=O)NC(CCC(N)=O)C(=O)NC(Cc1ccccc1)C(N)=O'), ('DB04504', 'NC1CCC=NC1'), ('DB01288', 'CC(Cc1ccc(O)cc1)NCC(O)c1cc(O)cc(O)c1'), ('DB00161', 'CC(C)C(N)C(=O)O'), ('DB07063', 'O=C(O)Cn1cc(Cc2nc3c(F)c(F)cc(F)c3s2)c2ccccc21'), ('DB00269', 'COc1ccc(C(Cl)=C(c2ccc(OC)cc2)c2ccc(OC)cc2)cc1'), ('DB04368', 'CCCCC(CN(O)C=O)C(=O)NC(C(=O)N(C)C)C(C)(C)C'), ('DB00923', 'NCc1ccccc1CC(=O)NC1C(=O)N2C(C(=O)O)=C(CSc3nnnn3CC(=O)O)CSC12'), ('DB00557', 'OCCOCCN1CCN(C(c2ccccc2)c2ccc(Cl)cc2)CC1'), ('DB08055', 'Clc1ccccc1Nc1ncc(-c2ccccc2)n2cncc12'), ('DB01593', '[Zn]'), ('DB11359', 'COc1ccccc1O'), ('DB01085', 'CCC1C(=O)OCC1Cc1cncn1C'), ('DB00639', 'Clc1ccc(CCC(Cn2ccnc2)Sc2c(Cl)cccc2Cl)cc1'), ('DB01437', 'CCC1(c2ccccc2)CCC(=O)NC1=O'), ('DB03057', 'O=CCC=O'), ('DB08124', 'O=C1Nc2ccc(-c3cnco3)cc2C1=CNc1ccc2c(c1)CS(=O)(=O)C2'), ('DB07970', 'Cc1ccc(C(=O)Nc2cccc(C(F)(F)F)c2)cc1Nc1cncc(C(N)=O)c1'), ('DB08800', 'CN(C)CCN(Cc1ccc(Cl)cc1)c1ccccn1'), ('DB08328', 'CC(C)(C)C(=O)OCC(C)(C)C(O)C(=O)NCCC(=O)NCCO'), ('DB01349', 'Cc1nc(C)c2c(n1)N(Cc1ccc(-c3ccccc3-c3nn[nH]n3)cc1)C(=O)CC2'), ('DB07969', 'CN1CCN(c2cnc3cc(C(F)(F)F)cc(-c4cccc(O)c4)c3n2)CC1'), ('DB06701', 'COC(=O)C(c1ccccc1)C1CCCCN1'), ('DB01149', 'CCc1nn(CCCN2CCN(c3cccc(Cl)c3)CC2)c(=O)n1CCOc1ccccc1'), ('DB01728', 'CCCCCCCCCCCCCCCC(=O)OCC(COP(=O)(O)OCCN)OC(=O)CCCCCCCCCCCCCCC'), ('DB09265', 'CCC(C)C(NC(=O)C(Cc1ccccc1)NC(=O)C(CC(C)C)NC(=O)C(CCCNC(=N)N)NC(=O)C(NC(=O)C(C)NC(=O)C(CCC(=O)O)NC(=O)C(CCC(=O)O)NC(=O)C(CCC(=O)O)NC(=O)C(CCSC)NC(=O)C(CCC(N)=O)NC(=O)C(CCCCN)NC(=O)C(CO)NC(=O)C(CC(C)C)NC(=O)C(CC(=O)O)NC(=O)C(CO)NC(=O)C(NC(=O)C(Cc1ccccc1)NC(=O)C(NC(=O)CNC(=O)C(CCC(=O)O)NC(=O)CNC(=O)C(N)Cc1c[nH]cn1)C(C)O)C(C)O)C(C)C)C(=O)NC(CCC(=O)O)C(=O)NC(Cc1c[nH]c2ccccc12)C(=O)NC(CC(C)C)C(=O)NC(CCCCN)C(=O)NC(CC(N)=O)C(=O)NCC(=O)NCC(=O)N1CCCC1C(=O)NC(CO)C(=O)NC(CO)C(=O)NCC(=O)NC(C)C(=O)N1CCCC1C(=O)N1CCCC1C(=O)NC(CO)C(=O)NC(CCCCN)C(=O)NC(CCCCN)C(=O)NC(CCCCN)C(=O)NC(CCCCN)C(=O)NC(CCCCN)C(=O)NC(CCCCN)C(N)=O'), ('DB01581', 'Cc1ccnc(NS(=O)(=O)c2ccc(N)cc2)n1'), ('DB00820', 'CN1CC(=O)N2C(Cc3c([nH]c4ccccc34)C2c2ccc3c(c2)OCO3)C1=O'), ('DB07406', 'CC1CNC(=O)c2[nH]c3ccc(C(=O)Nc4nc(C(=O)NCCN(C)C)cs4)cc3c21'), ('DB07867', 'CCCc1c(OC2CCCCC2)c2cc(Cl)ccc2[nH]c1=O'), ('DB07688', 'NS(=O)(=O)c1ccc(Nc2cc(OC3CCCCC3)nc3ncnn23)cc1'), ('DB03886', 'CC(O)C(O)c1cnc2nc(N)[nH]c(=O)c2n1'), ('DB00548', 'O=C(O)CCCCCCCC(=O)O'), ('DB07206', 'Nc1cccc(CCc2ccc3cc[nH]c3c2)n1'), ('DB04157', 'NOC(=O)Nc1ccccc1'), ('DB08088', 'Cc1c(N=C2OC(C(F)(F)F)C3C(O)CCN23)ccc(C#N)c1Cl'), ('DB01719', 'OCC1OC(SC2C(CO)OC(OC3C(CO)OC(SC4C(CO)OC(OC5C(CO)OC(S)C(O)C5O)C(O)C4O)C(O)C3O)C(O)C2O)C(O)C(O)C1O'), ('DB02788', 'CC(=O)C(C)O'), ('DB03695', 'COc1ccc(OC)c(Cc2cnc3nc(N)nc(N)c3c2C)c1'), ('DB03000', 'CC(O)Cn1cnc2c(N)ncnc21'), ('DB01096', 'CC(C)NCC1CCc2cc(CO)c([N+](=O)[O-])cc2N1'), ('DB01137', 'CC1COc2c(N3CCN(C)CC3)c(F)cc3c(=O)c(C(=O)O)cn1c23'), ('DB01883', 'CSCCC(NC(=O)C1CCCN1C(=O)C(Cc1ccc(O)cc1)NC(=O)CS)C(N)=O'), ('DB02261', 'CCCCCCCCCCCCCCCCOCC(COP(=O)([O-])OCC[N+](C)(C)C)OC(C)=O'), ('DB08586', 'CCCCCCCC(=O)SCCNC(=O)CCNC(=O)C(O)C(C)(C)COP(=O)(O)O'), ('DB07876', 'Cc1cncc2cccc(S(=O)(=O)N3CCCNCC3C)c12'), ('DB00821', 'CC(C(=O)O)c1ccc2c(c1)[nH]c1ccc(Cl)cc12'), ('DB04607', 'NS(=O)(=O)c1ccc(Nc2cn3cc(C(=O)c4c(Cl)cccc4Cl)ccc3n2)cc1'), ('DB07786', 'CC(O)C(CCc1cccc2nc(-c3ccc(Cl)cc3)oc12)n1cnc(C(N)=O)c1'), ('DB04085', 'O=C1C=CC(=O)N1COCN1C(=O)C=CC1=O'), ('DB08242', 'CNC(=O)c1ccc(C)c(Nc2ncnc3c2cnn3-c2ccccc2)c1'), ('DB00870', 'CC(C(=O)O)c1ccc(C(=O)c2cccs2)cc1'), ('DB01657', 'NC(CC1CC(=NC2CC2c2ccccc2)C(O)=CC1=O)C(=O)O'), ('DB03004', 'CS(=O)CC(C(=O)O)N1C(=O)C(NC(=O)CCCC(N)C(=O)O)C1S'), ('DB06413', 'NC(=O)CS(=O)C(c1ccccc1)c1ccccc1'), ('DB08808', 'Cc1ccc(Cl)c(OCC(O)CNC(C)(C)C)c1'), ('DB02333', 'O=c1ccn(C2CC(O)C(COP(=O)(O)OP(=O)(O)OP(=O)(O)O)O2)c(=O)[nH]1'), ('DB01228', 'COc1ccc(C(=O)Nc2ccccc2CCC2CCCCN2C)cc1'), ('DB02728', 'CCOC(=O)c1cc2ccc(O)cc2oc1=O'), ('DB07411', 'NC(Cc1ccccc1)B(O)O'), ('DB08956', 'CC12CCC(=O)CC1CCC1C2CCC2(C)C(C(=O)CO)CCC12'), ('DB01926', 'CC1CC(O)NC2CCCCN(O[Fe]34Oc5ccccc5C5=NC(CO5)C(=O)NC(CCCCN(O3)C(C=CCCCCCCC(=O)O)O4)C(=O)O1)C2=O'), ('DB02511', 'NC(Cc1cc(NC(=CC=O)COc2ccc3ccccc3c2)c(O)cc1O)C(=O)O'), ('DB01204', 'O=C1c2c(O)ccc(O)c2C(=O)c2c(NCCNCCO)ccc(NCCNCCO)c21'), ('DB01934', 'CC(C)CCCCCCCCC(=O)N(C)C(CO)C(=O)NC(C)C(=O)NCC(=O)N(C)C1C(=O)NC(C)C(=O)NC(C(=O)O)Cc2ccc(O)c(c2)-c2cc1ccc2O'), ('DB00949', 'NC(=O)OCC(COC(N)=O)c1ccccc1'), ('DB02890', 'O=c1cc(O)n(C2OC(COP(=O)(O)O)C(O)C2O)c(=O)[nH]1'), ('DB02290', 'O=c1n(CC(O)C(O)C(O)CO)c2nc(O)nc(O)c2n1CCCOP(=O)(O)O'), ('DB02436', 'CCCCCNC(=O)C(Cc1ccc(OC(C(=O)O)C(=O)O)cc1)NC(=O)NC(Cc1ccccc1)C(=O)O'), ('DB02667', 'COc1ccc2c(c1)ncn2C1OC(CO)C(OP(=O)([O-])OC(C)CNC(=O)CCC2(C)C3=C(C)C4=[N+]5C(=CC6=[N+]7C(=C(C)C8=[N+]9C(C)(C(=[N+]3[Co]579)C2CC(N)=O)C(C)(CC(N)=O)C8CCC(N)=O)C(C)(CC(N)=O)C6CCC(N)=O)C(C)(C)C4CCC(N)=O)C1O'), ('DB08371', 'NC(Cc1ccc(C(=O)c2ccccc2)cc1)C(=O)O'), ('DB03602', 'NC(CCC(=O)NC(CSCc1ccccc1)C(=O)NCC(=O)O)C(=O)O'), ('DB00333', 'CCC(=O)C(CC(C)N(C)C)(c1ccccc1)c1ccccc1'), ('DB02682', 'O=P(O)(O)OCC1OC(n2cnc3c(SP(=O)(O)O)[nH+]cnc32)C(O)C1O'), ('DB01439', 'CCC(=O)N(c1ccccc1)C1CCN(CCc2cccs2)CC1C'), ('DB01909', 'OCC1OC2OC3C(CO)OC(OC4C(CO)OC(OC5C(CO)OC(OC6C(CO)OC(OC7C(CO)OC(OC1C(O)C2O)C(O)C7O)C(O)C6O)C(O)C5O)C(O)C4O)C(O)C3O'), ('DB02091', 'Cc1nc(C)c(-c2ccnc(N)n2)s1'), ('DB03008', 'OCC1(F)OC(F)C(O)C(O)C1O'), ('DB03880', 'CNC(=O)C(Cc1ccccc1)NC(=O)C(CC(C)C)C(CSc1cccs1)C(=O)NO'), ('DB09281', 'O=[Si]([O-])O[Si]([O-])([O-])O[Si](=O)[O-].[Mg+2].[Mg+2]'), ('DB01628', 'Cc1ccc(-c2ncc(Cl)cc2-c2ccc(S(C)(=O)=O)cc2)cn1'), ('DB02001', 'Nc1nc(N)c2c(Sc3ccc(N4CCOCC4)cc3)cccc2n1'), ('DB01858', 'CCCCC(NC(=O)OCC1(Cc2ccc(F)cc2)CCC1)C(=O)C(=O)Nc1ccn[nH]1'), ('DB06891', 'Nc1c(F)cc(S(=O)(=O)Nc2nnc(S(N)(=O)=O)s2)cc1Cl'), ('DB03640', 'NC(C(=O)O)C(O)C(=O)O'), ('DB00507', 'CC(=O)Oc1ccccc1C(=O)Nc1ncc([N+](=O)[O-])s1'), ('DB05284', 'COc1ccc(CC(O)c2cc(OC)c(OC)c(OC)c2)cc1O'), ('DB01267', 'Cc1nc2n(c(=O)c1CCN1CCC(c3noc4cc(F)ccc34)CC1)CCCC2O'), ('DB03013', 'CC(=O)NC1C(O)OC(CO)C(OC2OC(CO)C(O)C(O)C2NC(C)=O)C1O'), ('DB02972', 'CCC(N)Cc1ccccc1'), ('DB02167', 'CC(C(=O)O)N(C)C'), ('DB04713', 'NC(Cc1ccc(I)cc1)C(=O)O'), ('DB03994', 'NCCO'), ('DB02014', 'COC(=O)c1c(O)cccc1OCC=Cc1ccc(F)c(-c2cc(C(=O)O)no2)c1'), ('DB00155', 'NC(=O)NCCCC(N)C(=O)O'), ('DB02908', 'O=P(O)(O)C(c1ccccc1)P(=O)(O)O'), ('DB00803', 'CCC(C)CCCC(O)=NC(CCN)C(O)=NC(C(O)=NC(CCN)C(O)=NC1CCN=C(O)C(C(C)O)N=C(O)C(CCN)N=C(O)C(CCN)N=C(O)C(CC(C)C)N=C(O)C(CC(C)C)N=C(O)C(CCN)N=C1O)C(C)O'), ('DB01530', 'CC12CCC3C(CCC4CC(O)CCC43C)C1CCC2O'), ('DB00497', 'COc1ccc2c3c1OC1C(=O)CCC4(O)C(C2)N(C)CCC314'), ('DB00795', 'O=C(O)c1cc(N=Nc2ccc(S(=O)(=O)Nc3ccccn3)cc2)ccc1O'), ('DB01663', 'CC1=CC2=C3C=C(CCCCCCCCC(=O)NC4C5CC6CC(C5)CC4C6)C=CN3[Ru+2]34(N5C=CC=CC5=C5C=CC=CN53)(N3C=CC=CC3=C3C=CC=CN34)N2C=C1'), ('DB04294', 'O=P(O)(O)CP(=O)(O)OC1OC(COP(=O)(O)O)C(O)C1O'), ('DB08123', 'CNS(=O)(=O)Cc1ccc(NN=C2C(=O)Nc3ccc4ncsc4c32)cc1'), ('DB05016', 'O=C(O)c1cccc(-c2noc(-c3ccccc3F)n2)c1'), ('DB02843', 'O=P(O)(O)OC1OC(CO)C(O)C(O)C1O'), ('DB00944', 'CN(CCCCCCCCCCN(C)C(=O)Oc1cccc([N+](C)(C)C)c1)C(=O)Oc1cccc([N+](C)(C)C)c1'), ('DB08271', 'COc1ccc(S(=O)(=O)N(CC(=O)NO)CC(C)C)cc1'), ('DB04129', 'NC(Cn1ccc(=O)[nH]c1=O)C(=O)O'), ('DB09277', 'C[N+](C)(C)CCO.[Cl-]'), ('DB00515', 'N[Pt](N)(Cl)Cl'), ('DB00792', 'CN(C)CCN(Cc1ccccc1)c1ccccn1'), ('DB00235', 'Cc1[nH]c(=O)c(C#N)cc1-c1ccncc1'), ('DB00135', 'NC(Cc1ccc(O)cc1)C(=O)O'), ('DB07816', 'N#Cc1ccc(NC(=NCC(=O)O)NC(c2ccccc2)c2ccccc2)cc1'), ('DB03007', 'CCC=CCC1C(=O)C=CC1CCCCCCCC(=O)O'), ('DB07840', 'COc1cccc(C(O)=C2C=Nc3nccc(-c4cc(F)cc(F)c4)c32)c1'), ('DB00739', 'CC1(C)SC2C(N3C(=O)C(c4ccccc4)NC3(C)C)C(=O)N2C1C(=O)O'), ('DB08990', 'CCOC(CN1CCN(CC(C)C(=O)c2ccccc2)CC1)c1ccccc1.Cl.Cl'), ('DB02433', 'O=P(O)(O)CN(CC(O)O)CC(O)C(O)C(O)C(O)COP(=O)(O)O'), ('DB03941', 'CCCCCCCc1ccc(O)cc1'), ('DB00648', 'Clc1ccc(C(c2ccccc2Cl)C(Cl)Cl)cc1'), ('DB02500', 'Cc1c(CC(CO)CO)[nH]c(=O)[nH]c1=O'), ('DB08058', 'O=C(c1cc(Cc2n[nH]c(=O)c3ccccc23)ccc1F)N1CCCNCC1'), ('DB03246', 'OCC1OC(O)C(O)C1O'), ('DB04767', 'CCCS(=O)(=O)NC(C(=O)NC(CCSC)C(=O)NCc1ccc(C(=N)N)cc1)C(C)O'), ('DB08481', 'Cc1ccc(S(=O)(=O)NC2=NC(=O)C(=Cc3ccc(C)o3)S2)cc1'), ('DB08786', 'COCCOc1cc(C)nc(N)n1'), ('DB06896', 'O=C(Nc1ccc(Oc2ccnc3[nH]ccc23)c(F)c1)c1cccn(-c2ccc(F)cc2)c1=O'), ('DB04709', 'O=C1C2C3CCC(CC3)C2C(=O)N1c1ccc([N+](=O)[O-])c2ccccc12'), ('DB03921', 'c1ccc(-c2n[nH]cc2-c2ccnc3ccccc23)nc1'), ('DB08482', 'CCOC(=O)C(C)NC(=O)C(CC(C)C)NC(=O)C(CC(=O)NO)CC(C)C'), ('DB02718', 'Nc1nc(=O)c2c([nH]1)N=CC(CNc1ccc(C(=O)NC(CCC(=O)O)C(=O)O)cc1)N2C=O'), ('DB04705', 'CC(CCCC(C)(C)O)C1CCC2C3CC=C4CC(O)CCC4(C)C3CCC12C'), ('DB03971', 'CC1OC(OC2C(CO)OC(OCC3OC(O)C(O)C(O)C3O)C(O)C2O)C(O)C(O)C1NC1C=C(CO)C(OC2OC(CO)C(OC3OC(CO)C(O)C(O)C3O)C(O)C2O)C(O)C1O'), ('DB00216', 'CN1CCCC1Cc1c[nH]c2ccc(CCS(=O)(=O)c3ccccc3)cc12'), ('DB01556', 'CC(C)(N)Cc1ccc(Cl)cc1'), ('DB06209', 'CC(=O)Oc1cc2c(s1)CCN(C(C(=O)C1CC1)c1ccccc1F)C2'), ('DB03735', 'Cc1ncnc2c1ncn2C1CC(O)C(CO)O1'), ('DB03229', 'CC(C)CC(=O)C(=O)O'), ('DB02819', 'Cc1ccc2c(c1)ncn2C1OC(COP(=O)(O)O)C(O)C1O'), ('DB06860', 'Cc1cccc2c1C(=O)N(c1ccnc(Cl)c1)C2=O'), ('DB03897', 'O=C(O)CCc1ccc(O)cc1'), ('DB04498', 'CC(=O)NC1COC(CO)C(OC2OC(CO)C(OC3OC(COC4OC(CO)C(O)C(OC5OC(CO)C(O)C(O)C5O)C4O)C(O)C(OC4OC(CO)C(O)C(O)C4OC4OC(CO)C(O)C(O)C4OC4OC(CO)C(O)C(O)C4O)C3O)C(O)C2NC(C)=O)C1O'), ('DB01248', 'CC(=O)OC12COC1CC(O)C1(C)C(=O)C(O)C3=C(C)C(OC(=O)C(O)C(NC(=O)OC(C)(C)C)c4ccccc4)CC(O)(C(OC(=O)c4ccccc4)C21)C3(C)C'), ('DB02165', 'O[Zn-](O)O'), ('DB02832', 'CC1(CC(=O)O)C2=Cc3c(CC(=O)O)c(CCC(=O)O)c4n3[Fe]35N2C(=C1CCC(=O)O)C=C1N3C(=C(CCC(=O)O)C1(C)CC(=O)O)C=c1c(CC(=O)O)c(CCC(=O)O)c(n15)=C4'), ('DB02583', 'COc1ccc(OC)c(CN(C)c2cnc3nc(N)nc(N)c3c2)c1'), ('DB00392', 'CCN(CC)C(C)CN1c2ccccc2Sc2ccccc21'), ('DB01820', 'CCCCCNC(=O)C(Cc1ccc(N(C(=O)C(=O)O)c2ccccc2C(=O)O)c2ccccc12)NC(C)=O'), ('DB09218', 'Cc1c(Cl)cccc1Nc1ncccc1C(=O)O'), ('DB07985', 'COC(=O)CC(CCc1ccc(C(=N)N)cc1)c1cccc(C(=N)N)c1'), ('DB06848', 'CSc1sc(C(=O)N2CCC3(CC2)COc2ccc(CN)cc23)c2ccccc12'), ('DB01607', 'CC1(C)SC2C(NC(=O)C(C(=O)O)c3ccsc3)C(=O)N2C1C(=O)O'), ('DB00127', 'NCCCNCCCCNCCCN'), ('DB03149', 'CC(=O)C(N)Cc1ccccc1'), ('DB03769', 'Nc1ncnc2c1ncn2CC(O)C(O)C(=O)O'), ('DB04311', 'NCCCCc1ccccc1'), ('DB04341', 'NC(CCC(=O)NC(CSCc1cccc(I)c1)C(=O)NCC(=O)O)C(=O)O'), ('DB00856', 'OCC(O)COc1ccc(Cl)cc1'), ('DB01326', 'Cn1nnnc1SCC1=C(C(=O)O)N2C(=O)C(NC(=O)C(O)c3ccccc3)C2SC1'), ('DB02857', 'Nc1nc2c(ncn2C2OC(CO)C(O)C2O)c(=O)[nH]1'), ('DB01442', 'COc1cc(CC(C)N)cc2c1OCO2'), ('DB09004', 'CC(CN(C)C)C(C)(O)Cc1ccc(Cl)cc1'), ('DB02233', 'NC(CCCCO)C(=O)O'), ('DB01515', 'CN1C2CCC1C(C(=O)O)C(OC(=O)c1ccccc1)C2'), ('DB02597', 'CCCCCC(S)C(=O)NC(Cc1ccccc1)C(=O)NC(C)C(=O)O'), ('DB07666', 'CS(=O)(=O)c1cccc(-c2cc(N3CC(N)C(c4cc(F)c(F)cc4F)C3)ncn2)c1'), ('DB03039', 'NS(=O)(=O)c1ccc(C(=O)NCc2cc(F)ccc2F)cc1'), ('DB02504', 'Cc1c(CC(N)=O)c2cc(OCCCP(=O)(O)O)ccc2n1Cc1ccccc1'), ('DB02000', 'O=C(O)CCCc1ccccc1'), ('DB04537', 'NC(=O)C(N)Cc1c[nH]c2ccccc12'), ('DB02009', 'CC(C)(C)NC(=O)C1CN(Cc2cc3ccccc3o2)CCN1CC(O)CC(Cc1ccccc1)C(=O)NC1c2ccccc2CC1O'), ('DB00524', 'Cc1ccccc1N1C(=O)c2cc(S(N)(=O)=O)c(Cl)cc2NC1C'), ('DB03198', 'OCC1OC(SC2C(CO)OC(OC3C(CO)OC(SC4C(CO)OC(OC5C(CO)OC(SC6C(CO)OC(O)C(O)C6O)C(O)C5O)C(O)C4O)C(O)C3O)C(O)C2O)C(O)C(O)C1O'), ('DB04775', 'CCC(OC)C(C)C(=O)CCC(C)C(OC)C(C)C1OC(=O)C=CC=C(C)CC(OC)CC2=CC(=O)OC(C2)C(C)C(OC)CC(OC)C=CC(C)C(OC)CC(OC)C=CC1C'), ('DB03507', 'O=C1c2cc3sc(-c4cccc([N+](=O)[O-])c4)cc3n2C(=S)N1CCCN1CCOCC1'), ('DB07478', 'Oc1ccc(-c2ccccc2)cc1O'), ('DB03060', 'COc1ccc(OC)c(C=Cc2cnc3nc(N)nc(N)c3c2C)c1'), ('DB02947', 'Nc1nc(F)nc2c1ncn2C1CC(O)C(CO)O1'), ('DB02958', 'C[Se](=O)CCC(N)C(=O)O'), ('DB02391', 'Nc1nc2ncn(CCNC(CO)CO)c2c(=O)[nH]1'), ('DB03939', 'O=C1NC=CC(O)N1'), ('DB02813', 'CC(=O)NC1C(=O)OC(CO)C(O)C1O'), ('DB08268', 'Cc1ccc(CCc2c3nc[nH]c3cc3c(=O)[nH]c(N)nc23)cc1'), ('DB02161', 'CN1C2CCC1CC(OC(=O)C(O)c1ccccc1)C2'), ('DB01471', 'CC1CC2=CC(=O)CCC2(C)C2CCC3(C)C(CCC3(C)O)C12'), ('DB02007', 'O=P(O)(O)OCC1OC(O)C(O)C(O)C1O'), ('DB04571', 'Cc1cc2cc3c(C)cc(=O)oc3c(C)c2o1'), ('DB06793', 'CCC(=O)OC(Cc1ccccc1)(c1ccccc1)C(C)CN(C)C'), ('DB00592', 'C1CNCCN1'), ('DB07686', 'NS(=O)(=O)c1ccc(Nc2cc(NC3CCCCC3)nc3ncnn23)cc1'), ('DB07590', 'NC(CSCCC(=O)c1ccc(Cl)c(Cl)c1)C(=O)O'), ('DB06581', 'C=C(C)C1CCC2(C(=O)O)CCC3(C)C(CCC4C5(C)CCC(OC(=O)CC(C)(C)C(=O)O)C(C)(C)C5CCC43C)C12'), ('DB08613', 'O=C(c1ccc(C(O)(O)C(F)(F)F)s1)N1CCn2c(-c3ccccc3)cnc2C1'), ('DB01786', 'CC(N)C(=O)O'), ('DB03434', 'O=S(=O)(O)CCCN1CCOCC1'), ('DB07964', 'CC#CCOc1ccc(S(=O)(=O)N2CCSC(C)(C)C2C(=O)NO)cc1'), ('DB02181', 'Nc1nc2c(ncn2C2CC(O)C(COP(=O)(O)OP(=O)(O)OP(=O)(O)O)O2)c(=O)[nH]1'), ('DB04502', 'O=C(NC(Cc1ccccc1)C(=O)NC(CCc1ccccc1)CCS(=O)(=O)Oc1ccccc1)OCc1ccccc1'), ('DB03944', 'COc1ccc(C(=O)N2CCCc3cc(C4=NNC(=O)SC4C)ccc32)cc1OC'), ('DB02262', 'O=C(O)c1cc(=O)[nH]c(=O)[nH]1'), ('DB06788', 'CC(=O)O.CC(=O)O.CCN=C(O)C1CCCN1C(=O)C(CCCNC(=N)N)N=C(O)C(CC(C)C)N=C(O)C(Cc1cn(Cc2ccccc2)cn1)N=C(O)C(Cc1ccc(O)cc1)N=C(O)C(CO)N=C(O)C(Cc1c[nH]c2ccccc12)N=C(O)C(Cc1cnc[nH]1)N=C(O)C1CCC(O)=N1'), ('DB06906', 'CCOC(=O)c1cnc(N)nc1O'), ('DB08804', 'CCCCCCCCCC(=O)OC1CCC2C3CCC4=CC(=O)CCC4C3CCC12C'), ('DB08064', 'CC(C)(C)c1cc(NC(=O)Nc2ccc(Cl)c(COc3cccnc3)c2)[nH]n1'), ('DB00740', 'Nc1nc2ccc(OC(F)(F)F)cc2s1'), ('DB04124', 'CC=CC=CC1OC(O)(C(CC)C(O)=NCC=CC=C(C)C(OC)C(C)C2OC(C=CC=CC=C(C)C(=O)c3c(O)ccn(C)c3=O)C(O)C2O)C(O)C(O)C1(C)C'), ('DB04176', 'COc1ccc2c(c1)ncn2C1OC(COP(=O)(O)O)C(O)C1O'), ('DB02448', 'CCCCCCCCCCCCC(=O)O'), ('DB02556', 'NC(Cc1ccccc1)C(=O)O'), ('DB02880', 'CC(NC(=O)c1cc(F)ccc1O)c1ccc(Br)cc1'), ('DB08767', 'COc1ccc(CC(N)=O)cc1'), ('DB07300', 'COCCOc1cc2ncc3c(N)nc(-n4ccnc4)cc3c2cc1OC'), ('DB01539', 'N#CC1(N2CCCCC2)CCCCC1'), ('DB04657', 'CC1=C(C(=O)Nc2ccccc2)SCCO1'), ('DB04056', 'Nc1ccccc1C(=O)O'), ('DB02772', 'OCC1OC(OC2(CO)OC(CO)C(O)C2O)C(O)C(O)C1O'), ('DB00847', 'NCCS'), ('DB09082', 'OCc1cc(C(O)CNCCCCCCOCCOCc2c(Cl)cccc2Cl)ccc1O'), ('DB04441', 'Nc1nc(F)nc2c1ncn2C1OC(CO)C(O)C1O'), ('DB00368', 'NCC(O)c1ccc(O)c(O)c1'), ('DB06691', 'COc1ccc(CN(CCN(C)C)c2ccccn2)cc1'), ('DB00805', 'Cc1cc(-c2ccccc2)nnc1NCCN1CCOCC1'), ('DB04876', 'N#CC1CCCN1C(=O)CNC12CC3CC(CC(O)(C3)C1)C2'), ('DB07715', 'Cc1cc(O)c2c(c1)C(=O)c1cc(O)cc(O)c1C2=O'), ('DB02554', 'O=c1ccn(C2OC(COP(=O)(O)OP(=O)(O)OC3OC(CS(=O)(=O)O)C(O)C(O)C3O)C(O)C2O)c(=O)[nH]1'), ('DB08507', 'CC(C)CC(C(=O)NO)N(Cc1ccccc1)P(C)(=O)c1ccccc1'), ('DB00994', 'NCC1OC(OC2C(CO)OC(OC3C(O)C(N)CC(N)C3OC3OC(CN)C(O)C(O)C3N)C2O)C(N)C(O)C1O'), ('DB08701', 'O=C1c2cccc3c(NCCO)ccc(c23)C(=O)N1c1cccc(Br)c1'), ('DB03936', 'O=P(O)(O)OCC1OCC(O)C1O'), ('DB00125', 'N=C(N)NCCCC(N)C(=O)O'), ('DB00417', 'CC1(C)SC2C(NC(=O)COc3ccccc3)C(=O)N2C1C(=O)O'), ('DB08443', 'O=C(c1c(O)cc(O)cc1O)n1cccc1'), ('DB00445', 'COc1cccc2c1C(=O)c1c(O)c3c(c(O)c1C2=O)CC(O)(C(=O)CO)CC3OC1CC(N)C(O)C(C)O1'), ('DB01133', 'O=P(O)(O)C(Sc1ccc(Cl)cc1)P(=O)(O)O'), ('DB08013', 'CCOC(=O)c1ccc(OCCCC2CCN(c3ccc(C)nn3)CC2)cc1'), ('DB00564', 'NC(=O)N1c2ccccc2C=Cc2ccccc21'), ('DB13154', 'Oc1ccc(Cl)cc1'), ('DB07897', 'OCCCCCCCCNCO'), ('DB05100', 'CC1(C)SCCN(S(=O)(=O)c2ccc(Oc3ccncc3)cc2)C1C(O)=NO'), ('DB08293', 'O=C1CCCC=CCCOC(=O)c2c(O)cc(O)c(Cl)c2C1'), ('DB06840', 'CCOB(OCC)C(N)CCCCN'), ('DB02828', 'O=C(O)CCC(=O)CF'), ('DB00613', 'CCN(CC)Cc1cc(Nc2ccnc3cc(Cl)ccc23)ccc1O'), ('DB06832', 'C=Cc1cc(O)cc2nc(-c3ccc(O)c(F)c3)oc12'), ('DB04514', 'Nc1nc2c(ncn2C2OC(COP(=O)(O)OC3C(O)C(CO)OC3n3ccc(=O)[nH]c3=O)C(O)C2O)c(=O)[nH]1'), ('DB09021', 'CNCC12CCC(c3ccccc31)c1ccccc12'), ('DB07934', 'O=C(CNS(=O)(=O)C1CCCCC1)NC(CCNc1cc[nH+]cc1)C(=O)N1CCCCC1'), ('DB09235', 'CC1=C(C(=O)OCCN(Cc2ccccc2)c2ccccc2)C(c2cccc([N+](=O)[O-])c2)C(P2(=O)OCC(C)(C)CO2)=C(C)N1'), ('DB08033', 'CCN(CC)C(=O)c1c(NC(=O)c2cccs2)sc2c1CC(C)CC2'), ('DB01933', 'CNC1CC2OC(C)(C1OC)n1c3ccccc3c3c4c(c5c6ccccc6n2c5c31)C(O)=NC4O'), ('DB02238', 'CSCCC(=O)C(=O)O'), ('DB01825', 'Cc1cccc2c(=O)nc(N)[nH]c12'), ('DB03844', 'NS(=O)(=O)c1ccc(C(=O)NCc2c(F)cccc2F)cc1'), ('DB04664', 'OCC1OC(OC2C(CO)OC(OCCCCCC3CCCCC3)C(O)C2O)C(O)C(O)C1O'), ('DB07383', 'CC(=O)NC(Cc1ccccc1)C(O)(O)C(F)(F)F'), ('DB04525', 'CCCCCNC(=O)C(Cc1ccc(OCC(=O)O)c(C(=O)O)c1)NC(=O)C(Cc1ccccc1)NC(=O)CCC(=O)O'), ('DB02647', 'O=C(Nc1cc(C2CC2)n[nH]1)c1ccccc1'), ('DB02247', 'CC1=C(C(=O)O)NC(C(NC(=O)Cc2cccs2)C(=O)O)SC1'), ('DB00861', 'O=C(O)c1cc(-c2ccc(F)cc2F)ccc1O'), ('DB08169', 'N#CC(C(=O)Nc1ccc(-c2ccccc2)cc1)=C(O)C1CC1'), ('DB07312', 'O=S(=O)(Nc1nc2cc(Cl)ccc2o1)c1cc(Cl)ccc1Cl'), ('DB04724', 'CNC(=O)C(Cc1ccc2ccccc2c1)N1CCC(=O)N(CC2=CNc3ccccc3C2)C(CC(C)C)C1=O'), ('DB04774', 'COC1C=CC(C)C(C(C)C(OC)C(C)CCC(=O)C(C)C(CC=CN(C)C=O)OC)OC(=O)C=CC=C(C)CC(OC)CC2=CC(=O)OC(C2)C(C)C(OC)CC(OC)C=CC(C)C(OC)C1'), ('DB01210', 'CC(C)(C)NCC(O)COc1cccc2c1CCCC2=O'), ('DB00677', 'CC(C)OP(=O)(F)OC(C)C'), ('DB01576', 'CC(N)Cc1ccccc1'), ('DB07342', 'O=C(Cn1ccnc1)C12CC3CC(CC(C3)C1)C2'), ('DB03969', 'CC(=O)c1ccc[n+](C2OC(COP(=O)([O-])OP(=O)(O)OCC3OC(n4cnc5c(N)ncnc54)C(O)C3O)C(O)C2O)c1'), ('DB01745', 'COC(=O)C1CCN(C(=O)C(Cc2cccc(C(=N)N)c2)NS(=O)(=O)c2ccc3ccccc3c2)CC1'), ('DB01923', 'CC(O)C(O)C(O)COP(=O)(O)O'), ('DB07077', 'N=C(N)Nc1ccc(B2OCC(CO)O2)cc1'), ('DB02593', 'COC1OC(C)Cc2oc3cc(O)c(O)c(C(=O)O)c3c(=O)c21'), ('DB00864', 'C=CCC1C=C(C)CC(C)CC(OC)C2OC(O)(C(=O)C(=O)N3CCCCC3C(=O)OC(C(C)=CC3CCC(O)C(OC)C3)C(C)C(O)CC1=O)C(C)CC2OC'), ('DB08466', 'Oc1ccc(CCc2cc(O)cc(O)c2)cc1'), ('DB04829', 'CCN(CC)C(=O)C1C=C2c3cccc4[nH]cc(c34)CC2N(C)C1'), ('DB02037', 'Nc1nc(O)c(N)c(O)n1'), ('DB03081', 'COc1cc(C)c(S(=O)(=O)NC(CC(=O)O)C(=O)NC(Cc2ccc(C(=N)N)cc2)C(=O)N2CCCCC2)c(C)c1C'), ('DB00540', 'CNCCC=C1c2ccccc2CCc2ccccc21'), ('DB00350', 'Nc1cc(N2CCCCC2)nc(N)[n+]1[O-]'), ('DB01003', 'O=C(O)c1cc(=O)c2c(OCC(O)COc3cccc4oc(C(=O)O)cc(=O)c34)cccc2o1'), ('DB02617', 'CCCCCCC(O)(Cn1ccnc1)c1ccc(Cl)cc1Cl'), ('DB03097', 'Cc1ncc(COP(=O)(O)O)c(CNc2conc2O)c1O'), ('DB06419', 'CCC1OC(=O)C(C)C(=O)C(C)C(OC2OC(C)CC(N(C)C)C2O)C(C)(OCC=Cc2cnc3ccccc3c2)CC(C)C(=O)C(C)C2N=C(O)OC12C'), ('DB08744', 'COc1cc(=O)n(C)c2c3c(ccc12)OCO3'), ('DB07292', 'Nc1nc(-c2ccc(O)cc2)cs1'), ('DB04237', 'NC(CCO)(CCO)CCO'), ('DB03218', 'CC(=O)NC(=O)NC1OC(CO)C(O)C(O)C1O'), ('DB08486', 'Cc1cc(C)cc(NC(=O)Cc2ccc(OC(C)(C)C(=O)O)cc2)c1'), ('DB07161', 'Nc1n[nH]c2ccc(-c3ccccc3)cc12'), ('DB08665', 'CCN1c2cc([N+](=O)[O-])ccc2N(C)C(=O)c2cccnc21'), ('DB05482', 'CCc1c2c(nc3ccc(O)cc13)-c1cc3c(c(=O)n1C2)COC(=O)C3(O)CC'), ('DB01735', '[NH3+]C(CCl)C(=O)[O-]'), ('DB02404', 'OCCOCCOCCOCCOCCOCCOCCS'), ('DB02679', 'N#CN'), ('DB04816', 'O=C1c2cccc(O)c2C(=O)c2c(O)cccc21'), ('DB01691', 'CN(Cc1cn(C)c2ccccc12)C(=O)C=Cc1cnc2c(c1)CCC(=O)N2'), ('DB02710', 'O=C(NC(CO)C(=O)O)c1cccc(O)c1O'), ('DB05659', 'Cc1oc(=O)oc1COC(=O)C1=C(C2CCCO2)SC2C(C(C)O)C(=O)N12'), ('DB01891', 'CC(NC(=O)OCc1ccccc1)C(=O)NC(C(=O)NC(CO)Cc1ccccc1)C(C)C'), ('DB02420', 'NCc1ccc(NC(=O)C(=O)O)cc1'), ('DB01294', 'O=C1O[Bi](O)Oc2ccccc21'), ('DB01544', 'CN1C(=O)CN=C(c2ccccc2F)c2cc([N+](=O)[O-])ccc21'), ('DB01352', 'C=CCC1(C(C)C)C(=O)NC(=O)NC1=O'), ('DB08791', 'NC(=O)c1cnc2ccn(S(=O)(=O)c3ccccc3[N+](=O)[O-])c2c1'), ('DB05382', 'II'), ('DB03281', 'OCC1OC(OC2C(O)CC(O)OC2CO)C(O)C(O)C1O'), ('DB02794', 'Nc1nc(O)c2cc(CC(O)(CNCC(=O)NC3OC(COP(=O)(O)O)C(O)C3O)c3ccc(C(=O)NC(CCC(=O)O)C(=O)O)cc3)ccc2n1'), ('DB07224', 'CCOC(=O)C1OC1C(=O)NC(C(=O)NC(C)C(=O)O)C(C)CC'), ('DB02882', 'NCc1nnc2ccccc2c1N=CC=C(c1ccccc1)c1ccccc1'), ('DB03822', 'CCOP(=O)(O)O'), ('DB01473', 'CCC(=O)OC1(c2ccccc2)CCN(C)CC1C'), ('DB07858', 'NCC(c1ccc(Cl)cc1)c1ccc(-c2cn[nH]c2)cc1'), ('DB03725', 'Nc1nc2c(ncn2C2OC(COP(=O)(O)OP(=O)(O)CP(=O)(O)O)C(O)C2O)c(=O)[nH]1'), ('DB01890', 'CC(CCC(=O)N(CCCN=C(O)C(O)C(O)C(O)C(O)CO)CCCN=C(O)C(O)C(O)C(O)C(O)CO)C1CCC2C3CCC4CC(O)CCC4(C)C3CC(O)C12C'), ('DB07954', 'CC(C)Cn1c(=O)n(C)c(=O)c2nc[nH]c21'), ('DB07618', 'NCC1CCN(CC(=O)Nc2cccc3c2C(=O)c2c-3n[nH]c2C2CCCCC2)CC1'), ('DB02570', 'O=C(O)C(S)Cc1ccc(I)cc1'), ('DB02722', 'COC1C(C(=O)O)OC(O)C(O)C1O'), ('DB08036', 'O=C1NCc2c1c1c3ccccc3[nH]c1c1[nH]c3ccccc3c21'), ('DB03978', 'NC(C=O)Cc1ccc(O)cc1'), ('DB06845', 'N=C(N)c1ccc(CNC(=O)C2CCCN2C(=O)CNC2CCCC2)cc1'), ('DB00750', 'CCCNC(C)C(=O)Nc1ccccc1C'), ('DB07447', 'CC12CCC3C(CCC4CC(=O)CCC43C)C1CCC2O'), ('DB04310', 'CCCCCC(CC(=O)NO)C(=O)NC(C(=O)N1CCCC1CO)C(C)C'), ('DB06826', 'CCCCCCCC(=O)CCC1C(O)CC(O)C1CC=CCCCC(=O)O'), ('DB03210', 'Nc1ccc(CCC(=O)O)cc1'), ('DB07636', 'CCCCCCCC1=C(O)C(=O)c2scnc2C1=O'), ('DB00860', 'CC12C=CC(=O)C=C1CCC1C2C(O)CC2(C)C1CCC2(O)C(=O)CO'), ('DB08991', 'COc1cc(C)nc(-n2nc(C)cc2OC)n1'), ('DB01721', 'CC(c1ccccc1)C(CC(O)CN1CCN(Cc2ccc3c(c2)OCO3)CC1C(=O)NC(C)(C)C)C(=O)NC1c2ccccc2CC1O'), ('DB03386', 'NC(Cc1c[nH]c2cccc(F)c12)C(=O)O'), ('DB08710', 'CCc1ccc(C=C2SC(NC(c3ccc(F)cc3)c3nnn[nH]3)=NC2=O)o1'), ('DB06735', 'CCN(CC)CCOc1ccc(C(=C(Cl)c2ccccc2)c2ccccc2)cc1'), ('DB01896', 'Nc1cccc(B(O)O)c1'), ('DB02798', 'CP(=O)(O)OCC1OC(n2cnc3c(N)ncnc32)C(O)C1O'), ('DB01431', 'C=CCC1(O)CCC2C3CCC4=CCCCC4C3CCC21C'), ('DB02656', 'O=c1cc(N2CCOCC2)oc2c(-c3ccccc3)cccc12'), ('DB01421', 'NCC1OC(OC2C(CO)OC(OC3C(O)C(N)CC(N)C3OC3OC(CO)C(O)C(O)C3N)C2O)C(N)C(O)C1O'), ('DB08982', 'CCOC(=O)C=C1SC(N2CCCCC2)C(=O)N1C'), ('DB09012', 'CN1CC(O)C2=CC(=NNC(N)=O)C(=O)C=C21'), ('DB01795', 'OB(O)c1ccccc1'), ('DB06994', 'CS(=O)(=O)c1ccc(-c2noc(C(CC3CC3)C(N)C(F)=C3CCCC3)n2)c(Cl)c1'), ('DB02119', 'Nc1nc2c(c(=O)[nH]1)N=C(CO)CN2'), ('DB01709', 'O=C(O)C(CO)OP(=O)(O)O'), ('DB03045', 'CC(=O)OCCNC(=O)CCNC(=O)C(O)C(C)(C)COC(=O)C(C)(C)C'), ('DB08210', 'Cn1ccnc1Sc1cc(C(=O)Nc2nccs2)c(N)cc1F'), ('DB07817', 'O=C(Nc1cccc(S(=O)(=O)N2CCN(c3ccccn3)CC2)c1)Nc1nccs1'), ('DB03203', 'CCCCCCCCCCCCCC=CC(O)C(N)CO'), ('DB00500', 'Cc1ccc(C(=O)c2ccc(CC(=O)O)n2C)cc1'), ('DB02082', 'Nc1nc2c(ncn2C2OC(COP(=O)(O)OP(=O)(O)NP(=O)(O)O)C(O)C2O)c(=O)[nH]1'), ('DB08294', 'O=C(O)Cc1ccc(O)c([N+](=O)[O-])c1'), ('DB09221', 'NCCC(=O)[N-]C(Cc1cnc[nH]1)C(=O)[O-].[Zn+2]'), ('DB01611', 'CCN(CCO)CCCC(C)Nc1ccnc2cc(Cl)ccc12'), ('DB03126', 'CNc1ccccc1C(=O)OC1CC(n2cnc3c(N)ncnc32)OC1COP(=O)(O)OP(=O)(O)O'), ('DB03793', 'O=C(O)c1ccccc1'), ('DB00569', 'COC1OC(COS(=O)(=O)[O-])C(OC2OC(C(=O)O)C(OC3OC(COS(=O)(=O)[O-])C(OC4OC(C(=O)O)C(OC5OC(COS(=O)(=O)[O-])C(O)C(O)C5NS(=O)(=O)[O-])C(O)C4O)C(OS(=O)(=O)[O-])C3NS(=O)(=O)[O-])C(O)C2OS(=O)(=O)[O-])C(O)C1NS(=O)(=O)[O-].[Na+].[Na+].[Na+].[Na+].[Na+].[Na+].[Na+].[Na+].[Na+].[Na+]'), ('DB00126', 'O=C1OC(C(O)CO)C(O)=C1O'), ('DB03608', 'N=C(N)c1ccc(N=NNc2ccc(C(=N)N)cc2)cc1'), ('DB06880', 'CC#CC1CCC(CN)N1C(=O)C(N)C1CCCC1'), ('DB04228', 'NC(C(=O)O)c1cc(O)cc(O)c1'), ('DB06935', 'O=C(O)c1ccc(-c2c(F)cccc2F)cc1'), ('DB01935', 'O=C(O)CC(=O)NC(CS)Cc1ccccc1'), ('DB04312', 'OCc1cccc(F)c1F'), ('DB04149', 'COc1ccc(C2CNC(=O)C2)cc1OC1CCCC1'), ('DB09160', 'CCOCCP(CCOCC)CCP(CCOCC)CCOCC.CCOCCP(CCOCC)CCP(CCOCC)CCOCC.O.O.[Tc]'), ('DB08619', 'CC12CCC(=O)C=C1CCC1C2CCC2(C)C(OC(=O)CCC(=O)O)CCC12'), ('DB09069', 'COc1ccc(CN2CCNCC2)c(OC)c1OC'), ('DB02953', 'O=C(O)C(CS)Cc1ccccc1'), ('DB08445', 'COc1ccc(-c2cc(N3CC(N)C(c4cc(F)c(F)cc4F)C3)ncn2)cn1'), ('DB04182', 'NC(CCSCC(O)C(O)C(=O)CO)C(=O)O'), ('DB07669', 'CC1=C(C)C(=O)c2ccccc2C1=O'), ('DB08377', 'CC(NC(=O)CCCP(=O)(O)Oc1ccc([N+](=O)[O-])cc1)C(=O)O'), ('DB02495', 'O=c1[nH]c(Nc2ccccc2)nc2c1ncn2CCCCO'), ('DB02670', 'OCC1CC(O)C(O)C(O)O1'), ('DB01702', 'O=C(O)Cc1ccc(O)c(O)c1'), ('DB01193', 'CCCC(=O)Nc1ccc(OCC(O)CNC(C)C)c(C(C)=O)c1'), ('DB01939', 'NC(=[NH2+])c1ccc2nc[nH]c2c1'), ('DB00203', 'CCCc1nn(C)c2c(=O)nc(-c3cc(S(=O)(=O)N4CCN(C)CC4)ccc3OCC)[nH]c12'), ('DB07864', 'CC(C)c1c(OC#CC2CC2)c2cc(F)ccc2[nH]c1=O'), ('DB04875', 'CCOC1OC(=O)CC1NC(=O)C1CCCN2C(=O)CCC(NC(=O)c3nccc4ccccc34)C(=O)N12'), ('DB02641', 'CCCCCCC(N)=O'), ('DB08670', 'COC(=O)C(CC(C)C)NC(=O)C(C)NC(=O)C(O)C(N)c1ccc(C(C)C)cc1'), ('DB03232', 'CC(C)=CCCC(C)=CCCC(C)=CCCC(C)=CCCC(C)=CCCC(C)=CCCC(C)=CCCC(C)=CCc1ccccc1O'), ('DB04316', 'O=C(NO)NC(Cc1ccccc1)C(=O)O'), ('DB03173', 'NC(=[NH2+])c1ccc2[nH]c(-c3cccc(OC4CCCC4)c3[O-])cc2c1'), ('DB00268', 'CCCN(CCC)CCc1cccc2c1CC(=O)N2'), ('DB08690', 'COC1=C(OC)C(=O)C(CC=C(C)CCC=C(C)C)=C(C)C1=O'), ('DB05891', 'Cl.Cl.NCCc1cnc[nH]1'), ('DB08980', 'CC(NCCC(c1ccccc1)c1ccccc1)c1ccccc1'), ('DB07535', 'Nc1nc(CCc2ccc3cc[nH]c3c2)cc(=O)[nH]1'), ('DB02463', 'NC(=[NH2+])c1ccc2[nH]c(-c3ccccc3O)cc2c1'), ('DB07961', 'N#Cc1ccc(NC(=S)NC(=N)Cc2c(Cl)cccc2Cl)cc1'), ('DB01075', 'CN(C)CCOC(c1ccccc1)c1ccccc1'), ('DB07519', 'COc1cccc(-c2cccc(CCC3(C)CC(=O)N(C)C(N)=N3)c2)c1'), ('DB08089', 'O=c1cc(C(F)(F)F)c2cc(N(CC(F)(F)F)CC(F)(F)F)ccc2[nH]1'), ('DB01044', 'COc1c(N2CCNC(C)C2)c(F)cc2c(=O)c(C(=O)O)cn(C3CC3)c12'), ('DB00411', 'C[N+](C)(C)CCOC(N)=O.[Cl-]'), ('DB09061', 'C=C(C)C1CCC(C)=CC1c1c(O)cc(CCCCC)cc1O'), ('DB09010', 'CCCCCCN=C(O)n1cc(F)c(O)nc1=O'), ('DB03090', 'CCNC(C=O)Cc1ccccc1'), ('DB04133', 'CC1=C(C(=O)O)NC(C(C=O)NC(=O)Cc2cccs2)SC1'), ('DB02631', 'N=C1CCCN1Cc1[nH]c(=O)[nH]c(=O)c1Cl'), ('DB08100', 'Cc1cc(C=Cc2ccccc2)cc(C)c1O'), ('DB00467', 'CCn1cc(C(=O)O)c(=O)c2cc(F)c(N3CCNCC3)nc21'), ('DB01226', 'COc1cc2c(cc1OC)C(Cc1cc(OC)c(OC)c(OC)c1)[N+](C)(CCCOC(=O)CCC=CCCC(=O)OCCC[N+]1(C)CCc3cc(OC)c(OC)cc3C1Cc1cc(OC)c(OC)c(OC)c1)CC2'), ('DB07982', 'Cc1ncc(-c2ccnc(Nc3ccc(N4CCN(C(=O)CO)CC4)cc3)n2)n1C(C)C'), ('DB07656', 'O=C(CCc1cccnc1)NCCCCC1CCN(C(=O)c2ccccc2)CC1'), ('DB08576', 'CNCC(=O)c1nnc(C(C)(C)C)o1'), ('DB08717', 'CN1Cc2ccccc2NC(CC(=O)O)C1=O'), ('DB07830', 'NC1CN(CCc2ccc3c(c2)OCO3)C(=O)CC1c1cc(F)c(F)cc1F'), ('DB02519', 'O=C1Nc2ccc(S(=O)(=O)O)cc2C1=C1Nc2ccccc2C1=O'), ('DB00336', 'NC(=O)NN=Cc1ccc([N+](=O)[O-])o1'), ('DB00836', 'CN(C)C(=O)C(CCN1CCC(O)(c2ccc(Cl)cc2)CC1)(c1ccccc1)c1ccccc1'), ('DB03901', 'O=CC1CCC(=O)N1'), ('DB06872', 'O=c1[nH]c(=O)n(COCCO)cc1Sc1ccccc1'), ('DB03659', 'CCCCN'), ('DB02783', 'Cc1ncc(COP(=O)(O)O)c(CNOCC(=O)O)c1O'), ('DB04745', 'O=c1ccc2ccccc2[nH]1'), ('DB09124', 'CC(=O)C1(C)CCC2C3C=C(C)C4=CC(=O)CCC4(C)C3CCC21C'), ('DB08006', 'Cc1cc(Nc2ccc3cc4ccccc4cc3c2)n2ncnc2n1'), ('DB03371', 'NC(CCC(O)OC1OC(CO)C(O)C1(O)F)C(=O)O'), ('DB05102', 'CCOC(=O)C=CC(CC1CCNC1=O)NC(=O)C(CC(=O)C(NC(=O)c1cc(C)on1)C(C)C)Cc1ccc(F)cc1'), ('DB04139', 'Cc1c(CCCO)[nH]c(=O)[nH]c1=O'), ('DB09526', 'Oc1ccc(O)cc1'), ('DB04608', 'O=C1NC(=O)c2c1c(-c1ccccc1)cc1[nH]c3ccc(O)cc3c21'), ('DB07596', 'COc1cc2c(cc1OS(N)(=O)=O)CCC1C2CCC2(C)C(CC#N)CCC12'), ('DB00713', 'Cc1onc(-c2ccccc2)c1C(=O)NC1C(=O)N2C1SC(C)(C)C2C(=O)O'), ('DB07230', 'O=C1C(c2ccc(O)cc2)=C(Br)c2ccc(O)cc21'), ('DB07917', 'c1ccc(C(OC2CCN(CCCc3nnn[nH]3)CC2)c2ccccc2)cc1'), ('DB02120', 'NC1C=C(CO)C(O)C(O)C1O'), ('DB01146', 'CN1CCC(OC(c2ccccc2)c2ccccc2)CC1'), ('DB07125', 'CCC(CO)Nc1ccc2ncc(-c3ccc(C(=O)O)cc3)n2n1'), ('DB08819', 'CC(C)OC(=O)CCCC=CCC1C(O)CC(O)C1C=CC(F)(F)COc1ccccc1'), ('DB02239', 'CC(=O)CCC(=O)O'), ('DB06955', 'O=C(O)c1[nH]c(C(=O)O)c(-c2c[nH]c3c(Cl)cccc23)c1-c1c[nH]c2c(Cl)cccc12'), ('DB08519', 'COc1cc(Nc2nccc(Nc3ccc4c(C)n[nH]c4c3)n2)cc(OC)c1OC'), ('DB07569', 'CSCCC(NC(=O)C1CCC(C)CC1)C(=O)Nc1ccncc1'), ('DB00881', 'CCOC(=O)C(CCc1ccccc1)NC(C)C(=O)N1Cc2ccccc2CC1C(=O)O'), ('DB02834', 'O=C(O)COc1cc(F)ccc1C(=O)NCc1nc2c(F)c(F)cc(F)c2s1'), ('DB08185', 'CSc1nc(NCCC(C)C)c2ncn(C3OC(COP(=O)(O)O)C(O)C3O)c2n1'), ('DB00406', 'CN(C)c1ccc(C(=C2C=CC(=[N+](C)C)C=C2)c2ccc(N(C)C)cc2)cc1'), ('DB01462', 'CCOc1ccc(Cc2nc3cc([N+](=O)[O-])ccc3n2CCN(CC)CC)cc1'), ('DB06804', 'CCCCCCCCCc1ccc(OCCOCCOCCOCCOCCOCCOCCOCCOCCO)cc1'), ('DB01868', 'CC(NC(=O)CCCCC(NC(=O)C[NH3+])C(=O)[O-])[PH](=O)[O-]'), ('DB03711', 'CCC(=O)CCC(C)(C)O'), ('DB00807', 'CCCOc1ccc(C(=O)OCCN(CC)CC)cc1N'), ('DB01026', 'CC(=O)N1CCN(c2ccc(OCC3COC(Cn4ccnc4)(c4ccc(Cl)cc4Cl)O3)cc2)CC1'), ('DB07814', 'C=C1CC23CC1(O)CCC2C12C=CC(O)C(C)(C(=O)O1)C2C3C(=O)O'), ('DB02049', 'O=C(CC1(S(=O)(=O)c2ccc(Oc3ccc(Cl)cc3)cc2)CCOCC1)NO'), ('DB00585', 'CNC(=C[N+](=O)[O-])NCCSCc1csc(CN(C)C)n1'), ('DB00360', 'CC(O)C(O)C1CNc2[nH]c(N)nc(=O)c2N1'), ('DB08953', 'c1ccc2c(CCC3CCNCC3)c[nH]c2c1'), ('DB03764', 'COc1cc(OO)ccc1O'), ('DB02758', 'O=C(O)CCc1c[nH]c2ccccc12'), ('DB08797', 'NC(=O)c1ccccc1O'), ('DB07712', 'CCc1c2cc(O)ccc2nn1-c1ccc(O)cc1'), ('DB02586', 'Cc1ccnc2c1ccc1c(C)ccnc12'), ('DB08157', 'CCOC(=O)CCc1ccc(S(N)(=O)=O)cc1'), ('DB04562', 'O=C(O)CC(CC(=O)O)C(=O)O'), ('DB08286', 'O=C(O)COc1cccc2ccccc12'), ('DB04619', 'CC(=O)c1ccccc1'), ('DB09158', 'Cc1cc(-c2ccc(N=Nc3c(S(=O)(=O)[O-])cc4cc(S(=O)(=O)[O-])cc(N)c4c3O)c(C)c2)ccc1N=Nc1c(S(=O)(=O)[O-])cc2cc(S(=O)(=O)[O-])cc(N)c2c1O.[Na+].[Na+].[Na+].[Na+]'), ('DB02078', 'COCCOCCOCCOC'), ('DB00123', 'NCCCCC(N)C(=O)O'), ('DB02935', 'COCCOCCOC'), ('DB03321', 'CC(=O)NC1C(N)C=C(C(=O)O)OC1C(O)C(O)CO'), ('DB07885', 'COc1ccc2c(c1)N(C(=O)OC(C)C)C(CSC)C(=S)N2'), ('DB00479', 'NCCC(O)C(=O)NC1CC(N)C(OC2OC(CN)C(O)C(O)C2O)C(O)C1OC1OC(CO)C(O)C(N)C1O'), ('DB07418', 'O=[N+]([O-])c1ccc(OP(=O)(O)Oc2ccc([N+](=O)[O-])cc2)cc1'), ('DB02671', 'Cn1cc[nH+]c1'), ('DB02349', 'NC(=O)c1c[n+](C2OC(COP(=O)(O)OP(=O)(O)OCC3OC(n4cnc5c(N)ncnc54)C(O)C3O)C(O)C2O)ccc1C(O)C(=O)CC(N)C(=O)O'), ('DB06211', 'CC(O)C1C(=O)N2C(C(=O)O)=C(SC3CNC(CNS(N)(=O)=O)C3)C(C)C12'), ('DB04910', 'CCCOc1ccc2nc(NC(=O)OC)[nH]c2c1'), ('DB07696', 'COC(=O)CC(NC(=O)OC(C)(C)C)C(C)=O'), ('DB08818', 'CC(=O)NC1C(O)OC(CO)C(O)C1OC1OC(C(=O)O)C(OC2OC(CO)C(O)C(OC3OC(C(=O)O)C(O)C(O)C3O)C2NC(C)=O)C(O)C1O'), ('DB02993', 'Cc1nc2c(=O)[nH]c(N)nc2o1'), ('DB02955', 'CCCCCCC(O)CC=CCCCCCCCC(=O)O'), ('DB04451', 'CN1CCN(C=O)CC1'), ('DB01250', 'O=C(O)c1cc(N=Nc2ccc(O)c(C(=O)O)c2)ccc1O'), ('DB02348', 'O=P([O-])([O-])F'), ('DB08464', 'COC(=O)c1c(O)cc(O)c(Cl)c1CCC(=O)Nc1cc(O)c(OC)cc1O'), ('DB07625', 'CCOc1ccc(OCC)c(NC(=O)c2cc(C)c(OCCN)c(C)c2)c1'), ('DB09086', 'C=CCc1ccc(O)c(OC)c1'), ('DB07331', 'O=C(O)Cc1ccc([N+](=O)[O-])cc1'), ('DB02736', 'CC(N)=O'), ('DB09123', 'CC12CCC3=C4CCC(=O)C=C4CCC3C1CCC2(O)CC#N'), ('DB08335', 'CC(C)(C)CC(=O)ON=Cc1ccc(O)cc1'), ('DB08691', 'CCOC(=O)c1c(C(C#N)=CN)c2ccc(Cl)c(Cl)c2n1C'), ('DB04252', 'NC(=O)NC(CC(=O)O)C(=O)O'), ('DB03581', 'O=CC(O)C(O)C(O)C(O)COP(=O)(O)O'), ('DB02032', 'CC(CS)C(=O)N1CCCC1C(=O)O'), ('DB00232', 'CN1C(CCl)Nc2cc(Cl)c(S(N)(=O)=O)cc2S1(=O)=O'), ('DB07525', 'COc1cccc(Cc2c[nH]c3ncccc23)c1'), ('DB02067', 'Nc1nc2c(c(=O)[nH]1)N(C=O)C(CNc1ccc(C(=O)NC(CCC(=O)NC(CCC(=O)NC(CCC(=O)O)C(=O)O)C(=O)O)C(=O)O)cc1)CN2'), ('DB07980', 'O=[N+]([O-])N=C1NCCN1Cc1ccc(Cl)nc1'), ('DB09232', 'COCCOC(=O)C1=C(C)NC(C)=C(C(=O)OCC=Cc2ccccc2)C1c1cccc([N+](=O)[O-])c1'), ('DB01478', 'CCC(=O)OC1(c2ccccc2)CCN(C)CC1'), ('DB03156', 'O=C(O)C1OC(O)C(O)C(O)C1O'), ('DB05262', 'O=c1nc2[nH][nH]cc-2c(=O)[nH]1'), ('DB02534', 'C=CCc1ccccc1O'), ('DB02450', 'O=C(O)C(Cc1ccccc1)C(Cc1ccc2c(c1)OCO2)C(=O)O'), ('DB06724', 'O=C([O-])[O-].[Ca+2]'), ('DB03091', 'NC(=O)C(N)CCC(=O)O'), ('DB02259', 'CCc1oc2cc(S(=O)(=O)Nc3ccc(S(N)(=O)=O)cc3)ccc2c1C(=O)c1cc(Br)c(O)c(Br)c1'), ('DB03708', 'Nc1ncnc2c1ncn2C1OC(COP(=O)(O)OS(=O)(=O)O)C(O)C1O'), ('DB00398', 'CNC(=O)c1cc(Oc2ccc(NC(=O)Nc3ccc(Cl)c(C(F)(F)F)c3)cc2)ccn1'), ('DB07010', 'O=C(NCc1ccccc1)c1cc(-c2n[nH]cc2-c2cccc(Cl)c2)c[nH]1'), ('DB01678', 'CC(=O)NC(Cc1ccc(OP(=O)(O)O)c(C=O)c1)C(=O)NC1CCCCN(Cc2ccc(-c3ccccc3)cc2)C1=O'), ('DB08442', 'Cc1ccccc1C1CCCN1C(=O)c1ccc(O)cc1O'), ('DB08093', 'Nc1ncccc1OCc1cccc2ccccc12'), ('DB02358', 'Nc1nc(O)c(N)c(NC(=O)Nc2ccc(C(=O)NC(CCC(=O)O)C(=O)O)cc2)n1'), ('DB00598', 'CC(CCc1ccccc1)NCC(O)c1ccc(O)c(C(N)=O)c1'), ('DB04810', 'O=C1C=CC=CC1=CNc1ccc(C(=O)O)cc1NC=C1C=CC=CC1=O.[Fe]'), ('DB06738', 'CCC(=O)C1(c2cccc(O)c2)CCN(C)CC1'), ('DB01976', 'Nc1cccc2cc3ccccc3cc12'), ('DB01078', 'CC1OC(OC2CCC3(C)C(CCC4C3CC(O)C3(C)C(C5=CC(=O)OC5)CCC43O)C2)CC(O)C1OC1CC(O)C(OC2CC(O)C(OC3OC(CO)C(O)C(O)C3O)C(C)O2)C(C)O1'), ('DB01016', 'COc1ccc(Cl)cc1C(=O)NCCc1ccc(S(=O)(=O)NC(=O)NC2CCCCC2)cc1'), ('DB05009', 'CCNC(=O)C1OC(n2cnc3c(N)nc(C#CCC4CCC(C(=O)OC)CC4)nc32)C(O)C1O'), ('DB03288', 'O=C(NCC(O)N(CCO)C1CCCC1)c1cc2cc(Cl)ccc2[nH]1'), ('DB03509', 'NC(=O)c1cccc2ncc(-c3ccc(Cl)cc3)nc12'), ('DB02163', 'Cc1ccc(C)c(N)c1'), ('DB02733', 'CC(C)C(CO)Nc1nc(Nc2ccc(C(=O)O)c(Cl)c2)c2ncn(C(C)C)c2n1'), ('DB01724', 'CC(O)C(N)CO'), ('DB06706', 'CNC(C)CCC=C(C)C'), ('DB02846', 'O=C(O)C1CSCN1'), ('DB02560', 'CC(=O)NC(Cc1ccc(Cl)cc1)[B-](O)(O)OCC(N)C(=O)O'), ('DB00935', 'Cc1cc(C(C)(C)C)c(O)c(C)c1CC1=NCCN1'), ('DB01563', 'OC(O)C(Cl)(Cl)Cl'), ('DB03516', 'C#Cc1c[nH]c(=O)[nH]c1=O'), ('DB00321', 'CN(C)CCC=C1c2ccccc2CCc2ccccc21'), ('DB07141', 'COc1cc(-c2ccc(C)cc2)cc(C(C)C#Cc2c(C)nc(N)nc2N)c1'), ('DB07833', 'Cc1nnc(-c2ccc(C)c(-c3ccc(C(=O)Nc4cccc(C#N)c4)cc3)c2)o1'), ('DB04285', 'O=P(O)(O)C(F)(F)c1ccc(CC(CC=Cc2ccccc2)(c2nc3ccccc3s2)n2nnc3ccccc32)cc1'), ('DB00653', 'O=S(=O)([O-])[O-].[Mg+2]'), ('DB02745', 'O=c1ccn(C2OC(CO)C(O)C2O)c(=O)[nH]1'), ('DB04626', 'CNC1C(OC2OC(CO)C(N)C(O)C2O)OC2CC(N)C(OC3C(N)CC(N)C(O)C3O)OC2C1O'), ('DB04114', 'CCC1=CC2Cc3nc4cc(Cl)ccc4c(N)c3C(C1)C2'), ('DB02178', 'O=CCc1ccccc1'), ('DB00319', 'CCN1CCN(C(=O)NC(C(=O)NC2C(=O)N3C2SC(C)(C)C3C(=O)O)c2ccccc2)C(=O)C1=O'), ('DB02594', 'Nc1ccn(C2CC(O)C(CO)O2)c(=O)n1'), ('DB03040', 'O=C(O)CN(CC(=O)O)CC(=O)O'), ('DB01608', 'N#Cc1ccc2c(c1)N(CCCN1CCC(O)CC1)c1ccccc1S2'), ('DB13142', 'O=C(O[Ca]OC(=O)C(O)C(O)C(OC1OC(CO)C(O)C(O)C1O)C(O)CO)C(O)C(O)C(O)C(O)CO'), ('DB09008', 'O=C([O-])C1=C(C[n+]2ccccc2)CSC2C(N=C(O)Cc3cccs3)C(=O)N12'), ('DB07480', 'O=P(O)(O)Oc1ccc(Cc2ccc(OP(=O)(O)O)cc2)cc1'), ('DB04752', 'CCCCCCC=CCCCCCCCC(=O)OC(COC(=O)CCCCCCCC=CCCCCCCCC)COP(=O)(O)O'), ('DB03293', 'Cn1c(=O)[nH]c2c(=O)[nH]c(=O)[nH]c21'), ('DB01682', 'Cc1nc(C)c(C[n+]2csc(CCOP(=O)(O)OP(=O)([O-])O)c2C)c(N)n1'), ('DB07225', 'CCOC(=O)C1OC1C(=O)NC(C(=O)NC(C(=O)O)C(C)CC)C(C)CC'), ('DB01710', 'C1=CC2=[N+]3C1=Cc1ccc4n1[Fe+3]31n3c(ccc3=CC3=[N+]1C(=C4)C=C3)=C2'), ('DB03866', 'CCCCCC(C=CC1C2CC(OO2)C1CC=CCCCC(=O)O)OO'), ('DB03805', 'CC(O)C(C#N)C(=O)Nc1ccc(C(F)(F)F)cc1'), ('DB05458', 'Cc1ncccc1OCC1CCCN1'), ('DB07916', 'O=CC(CC(=O)O)NC(=O)C(CCCCNC(=O)c1ccc2cccc(O)c2n1)c1cccs1'), ('DB00455', 'CCOC(=O)N1CCC(=C2c3ccc(Cl)cc3CCc3cccnc32)CC1'), ('DB03490', 'c1ccc2c(c1)Cc1c-2n[nH]c1-c1ccncc1'), ('DB08120', 'NC(=O)CCCCC(S)CCS'), ('DB08203', 'COCC(COC)n1ccc2c3c(N)nc(N)nc3ccc21'), ('DB02652', 'O=C(NO)NC(Cc1ccccc1)C(=O)O'), ('DB03981', 'O=C(O)C1=CC(O)C(OS(=O)(=O)O)CO1'), ('DB01525', 'CN1C2CCC1C(C(=O)O)C(O)C2'), ('DB01452', 'CC(=O)Oc1ccc2c3c1OC1C(OC(C)=O)C=CC4C(C2)N(C)CCC341'), ('DB07831', 'CCCc1ccc(NC(=O)c2ccccc2NCc2ccc(=O)[nH]c2)cc1C(F)(F)F'), ('DB03791', 'O=C(O)Cc1cccc(OCCCN(Cc2cccc(C(F)(F)F)c2Cl)CC(c2ccccc2)C2CCCCC2)c1'), ('DB04812', 'CC(C(=O)O)c1ccc2oc(-c3ccc(Cl)cc3)nc2c1'), ('DB08209', 'CN(C)c1ccc(N=Nc2ccccc2C(=O)O)cc1'), ('DB03501', 'O=c1ccn(C2OC(COP(=O)(O)OP(=O)(O)OC3OC(CO)C(O)C(O)C3O)C(O)C2O)c(=O)[nH]1'), ('DB02144', 'CCCCCCCCC=CCCCCCCCC(=O)OC(COC(=O)CCCCCCCCCCCCCCC)COP(=O)([O-])OC1C(O)C(O)C(O)C(O)C1O'), ('DB02334', 'O=C(O)C(O)CS(=O)(=O)O'), ('DB02353', 'O=C([O-])C1=CC(O)C(OS(=O)(=O)[O-])C(OC2C(CO)OC(O)C(NS(=O)(=O)[O-])C2O)O1'), ('DB08967', 'CC(CN1c2ccccc2Sc2ccc(S(=O)(=O)N(C)C)cc21)N(C)C.CS(=O)(=O)O'), ('DB00142', 'NC(CCC(=O)O)C(=O)O'), ('DB00691', 'CCOC(=O)C(CCc1ccccc1)NC(C)C(=O)N1Cc2cc(OC)c(OC)cc2CC1C(=O)O'), ('DB01046', 'CCCCC(F)(F)C1(O)CCC2C(CC(=O)C2CCCCCCC(=O)O)O1'), ('DB03937', 'O=CC(O)C(O)COP(=O)(O)O'), ('DB02559', 'NC1NC(N)C2CC(CN3CCC4CCCCC43)CCC2N1'), ('DB01727', 'O=C(O)CC(C(=O)O)C(O)C(=O)O'), ('DB06850', 'N=C(N)c1ccc(CNC(=O)C2CCCN2C(=O)CNC2CCCCC2)cc1'), ('DB04643', 'O=C(O)CCCOc1ccc(NC(=O)NC(=O)c2ccc(Cl)cc2Cl)c(Cl)c1'), ('DB04614', 'O=c1ccc2c([nH]1)CCCC2NCCCCCCCCCCNc1c2c(nc3ccccc13)CCCC2'), ('DB00219', 'CC[N+](C)(CC)CCOC(=O)C(O)(c1ccccc1)C1CCCCC1'), ('DB02856', 'CCOC(=O)NC'), ('DB01602', 'CCOC(=O)OC(C)OC(=O)C1N2C(=O)C(NC(=O)C(N)c3ccccc3)C2SC1(C)C'), ('DB07482', 'O=C(C1CCCN1)N1CCCC1B(O)O'), ('DB00278', 'CC1CNc2c(cccc2S(=O)(=O)NC(CCCN=C(N)N)C(=O)N2CCC(C)CC2C(=O)O)C1'), ('DB02323', 'CC12CCC3c4ccc(O)cc4CCC3C1CC(CCCCCCCCC(=O)OCC1OC(n3cnc4c(N)ncnc43)C(O)C1O)C2O'), ('DB04011', 'CN1CCN(c2ccc3nc(-c4ccc5[nH]c(-c6ccc(N(C)C)cc6)nc5c4)[nH]c3c2)CC1'), ('DB01965', 'O=c1ccn(C2CC(O)C(COP(=O)(O)NP(=O)(O)OP(=O)(O)O)O2)c(=O)[nH]1'), ('DB03335', 'CC(O)CBr'), ('DB02024', 'O=C(O)CCc1ccccc1'), ('DB05460', 'CCOC(=O)C(N)CCC(=O)NC(CSCc1ccccc1)C(=O)NC(C(=O)OCC)c1ccccc1'), ('DB06919', 'NC(Cc1ccccc1)C(=O)N1CCCC1C(=O)NCc1cccc(Cl)c1'), ('DB07623', 'c1cc(SSc2ccncc2)ccn1'), ('DB08228', 'COc1ccc(OC)c2c1c(C)cc(=O)n2C'), ('DB02521', 'O=C1C(O)=CC(=O)c2c(O)cc(O)cc21'), ('DB04187', 'NC(CCC(=O)NC(CSC1c2ccccc2-c2ccccc2C1O)C(=O)NCC(=O)O)C(=O)O'), ('DB08229', 'NN(CC(=O)O)C(=O)CC(O)C(=O)N(Cc1ccccc1)Cc1ccccc1'), ('DB00960', 'CC(C)NCC(O)COc1cccc2[nH]ccc12'), ('DB01268', 'CCN(CC)CCNC(=O)c1c(C)[nH]c(C=C2C(=O)Nc3ccc(F)cc32)c1C'), ('DB04702', 'CC(C)=CCCC(C)=CCSP(=O)(O)OP(=O)(O)O'), ('DB06889', 'O=c1c2c3c(sc2ncn1Cc1nnn[nH]1)CCCC3'), ('DB08621', 'CS(=O)(=O)c1ccc(C(O)C(CO)NC(=O)C(Cl)Cl)cc1'), ('DB00525', 'Cc1cccc(N(C)C(=S)Oc2ccc3ccccc3c2)c1'), ('DB02763', 'O=C(O)c1cc(S)ccc1[N+](=O)[O-]'), ('DB04574', 'CC12CCC3c4ccc(OS(=O)(=O)O)cc4CCC3C1CCC2=O'), ('DB08968', 'CN(CC(=O)N1CCOCC1)Cc1c(Cl)cccc1N=C(O)c1ccccc1'), ('DB08470', 'Fc1ccc(-c2nnc(-c3ccccc3)[nH]2)cc1'), ('DB08643', 'COC(=O)C(NC(=O)CNC(=O)C(CS)NCc1ccc(-c2ccccc2)cc1)C(C)C'), ('DB04170', 'CC(O)(CBr)CCOP(=O)(O)OP(=O)(O)O'), ('DB03104', 'CC(=O)NC(=Cc1ccc(CC(=O)O)c(C=O)c1)C(=O)NC1CCCCN(Cc2ccc(-c3ccccc3)cc2)C1=O'), ('DB08191', 'O=C(O)c1ccc(-c2c[nH]c3ncc(-c4ccccc4)cc23)cc1'), ('DB09274', 'CC1CCC2C(C)C(OC(=O)CCC(=O)O)OC3OC4(C)CCC1C32OO4'), ('DB04108', 'CCSCCC(N)C(O)C(=O)NC(C)c1cccc2ccccc12'), ('DB02691', 'CC(CCC(=O)NCC(=O)O)C1CCC2C3C(O)CC4CC(O)CCC4(C)C3CC(O)C12C'), ('DB03297', 'O=S(O)Cc1ccccc1'), ('DB01375', 'CCCCCCCCCCCCCCCCCC(=O)O[AlH3](O)O'), ('DB08205', 'Cc1cc(-c2nc3ccccc3o2)cc(C)c1O'), ('DB08237', 'O=c1[nH]c(NCc2cccc3ccccc23)nc2c1ncn2C1CC(O)C(COP(=O)(O)O)O1'), ('DB08936', 'CN1CCN(C(c2ccccc2)c2ccc(Cl)cc2)CC1'), ('DB02185', 'COc1ccc2c(c1)OC(O)C(=O)N2O'), ('DB00574', 'CCNC(C)Cc1cccc(C(F)(F)F)c1'), ('DB08437', 'COc1ccc(CC(N)C(=O)NC2C(CO)OC(n3cnc4c(N(C)C)ncnc43)C2O)cc1'), ('DB07187', 'Cc1c(S(=O)(=O)c2ccc(=O)[nH]n2)oc2ccc(Cl)cc12'), ('DB06718', 'CC12Cc3c[nH]nc3CC1CCC1C2CCC2(C)C1CCC2(C)O'), ('DB08379', 'O=c1ccc(Cc2ccc(Cl)c(Oc3ccccc3)c2F)n[nH]1'), ('DB01723', 'CCC(C(=O)N1CCCCC1C(=O)OC(CCc1ccc(OC)c(OC)c1)c1cccc(OCC(=O)O)c1)c1cc(OC)c(OC)c(OC)c1'), ('DB04953', 'CCOC(=O)Nc1ccc(NCc2ccc(F)cc2)cc1N'), ('DB04342', 'COC1(NC(=O)C(C(=O)O)c2ccc(O)cc2)C(=O)N2C(C(=O)O)=C(CSc3nnnn3C)COC21'), ('DB03061', 'CCCCCC(C)NC=O'), ('DB04662', 'CCC(CO)Nc1nc(NCc2ccccc2O)c2ncn(C(C)C)c2n1'), ('DB01319', 'CC(C)CN(CC(OP(=O)(O)O)C(Cc1ccccc1)NC(=O)OC1CCOC1)S(=O)(=O)c1ccc(N)cc1'), ('DB02784', 'O=C(CBr)NCCC(=O)NC(CO)C(=O)NCCc1ccc(NC(=O)C(=O)O)cc1'), ('DB07740', 'CC(CCCCC(O)C(C=O)CO)CC(C)CC(C)CC(=O)O'), ('DB09341', 'OCC1OC(O)C(O)C(O)C1O'), ('DB08553', 'ON=C1CCc2cc(-c3cn(C4CCNCC4)nc3-c3ccncc3)ccc21'), ('DB00674', 'COc1ccc2c3c1OC1CC(O)C=CC31CCN(C)C2'), ('DB00532', 'CCC1(c2ccccc2)NC(=O)N(C)C1=O'), ('DB04551', 'O=P(O)(O)OCC1OC(O)(COP(=O)(O)O)C(O)C1O'), ('DB04601', 'N#Cc1ccc(N(Cc2ccc(OS(N)(=O)=O)cc2)n2cnnc2)cc1'), ('DB01231', 'OC(CCCN1CCCCC1)(c1ccccc1)c1ccccc1'), ('DB04222', 'CSCS(=O)CC(CO)NC(=O)C=Cc1c(C)[nH]c(=O)[nH]c1=O'), ('DB01799', 'CC(CO)CCOP(=O)(O)OP(=O)(O)O'), ('DB04892', 'CN1CCC2(C)c3cc(OC(=O)Nc4ccccc4)ccc3N(C)C12'), ('DB07489', 'Nc1[nH+]c(Nc2cccc(Cl)c2)sc1C(=O)c1ccc(F)cc1'), ('DB07477', 'O=C(O)Cc1ccc(-c2ccccc2)cc1'), ('DB00477', 'CN(C)CCCN1c2ccccc2Sc2ccc(Cl)cc21'), ('DB08071', 'CC(CC(C)c1ccccc1)CC1CCCCN1C'), ('DB07369', 'Cc1[nH]c(CC2=c3cc(S(=O)(=O)N(C)c4cccc(Cl)c4)ccc3=NC2=O)c(C)c1C'), ('DB06894', 'CCCCCCCCCCCCO'), ('DB03675', 'CCC(C)(O)C(O)C(=O)O'), ('DB03828', 'Cc1cc(C=O)c(OP(=O)(O)O)c(C=O)c1'), ('DB01910', 'Nc1ncnc2c1ncn2C1OC(CC(N)CCC(N)C(=O)O)C(O)C1O'), ('DB08077', 'CC(C)(Oc1ccc(NC(=O)Nc2cc(Cl)cc(Cl)c2)cc1)C(=O)O'), ('DB03372', 'O=C(CCS)N1CCc2c([nH]c3ccccc23)C1'), ('DB02661', 'Nc1ncnc2c1ncn2C1OC(COP(=O)(O)OP(=O)(O)O)C2O[V](=O)(=O)OC21'), ('DB02277', 'Cn1nc(C(C)(C)C)cc1NC(=O)Nc1ccc(Cl)cc1'), ('DB01410', 'CC(C)C(=O)OCC(=O)C12OC(C3CCCCC3)OC1CC1C3CCC4=CC(=O)C=CC4(C)C3C(O)CC12C'), ('DB06979', 'CCCCCCCCCCCCSc1[nH]nnc1C(=O)O'), ('DB09149', 'CNc1ccc(C=Cc2ccc(OCCOCCOCCF)nc2)cc1'), ('DB07351', 'CC(NC(=O)OCc1ccccc1)C(=O)NCP(=O)(O)OC(Cc1ccccc1)C(=O)O'), ('DB06890', 'CCC(C(=O)Nc1ccncc1)c1ccccc1'), ('DB08806', 'CC(=O)OCC(=O)NCCCOc1cccc(CN2CCCCC2)c1'), ('DB01128', 'CC(O)(CS(=O)(=O)c1ccc(F)cc1)C(=O)Nc1ccc(C#N)c(C(F)(F)F)c1'), ('DB00226', 'NC(N)=NCC1COC2(CCCCC2)O1'), ('DB00528', 'COC(=O)C1=C(C)NC(C)=C(C(=O)OC(C)(C)CN(C)CCC(c2ccccc2)c2ccccc2)C1c1cccc([N+](=O)[O-])c1'), ('DB09065', 'CC(C)c1nc(CN(C)C(=O)NC(CCN2CCOCC2)C(=O)NC(CCC(Cc2ccccc2)NC(=O)OCc2cncs2)Cc2ccccc2)cs1'), ('DB03677', 'CCCCCCCCCCNC(=O)NC1CCCCC1'), ('DB01626', 'C#CCN(C)Cc1ccccc1'), ('DB00567', 'CC1=C(C(=O)O)N2C(=O)C(NC(=O)C(N)c3ccccc3)C2SC1'), ('DB04147', 'CCCCCCCCCCCC[N+](C)(C)[O-]'), ('DB05434', 'CCCC(NC(=O)C(NC(=O)C(NC(=O)C(NC(=O)CNC(=O)CN(C)C(C)=O)C(C)C)C(C)CC)C(C)O)C(=O)NC(C(=O)NC(CCCN=C(N)N)C(=O)N1CCCC1C(=O)NCC)C(C)CC'), ('DB05462', 'CCC(c1ccccc1)C(c1ccccc1)c1ccc(OCCN(C)C)cc1'), ('DB09240', 'CCCOCCOC(=O)C1=C(C)NC(C)=C(C(=O)OCCOCCC)C1c1cccc([N+](=O)[O-])c1'), ('DB00170', 'CC1=CC(=O)c2ccccc2C1=O'), ('DB03887', 'Nc1ncnc2ncn(C3OC(COP(=O)(O)O)C(O)C3O)c12'), ('DB00801', 'O=C1CN=C(c2ccccc2)c2cc(Cl)ccc2N1CC(F)(F)F'), ('DB02229', 'CSCCC(N)C(=O)NS(=O)(=O)OCC1OC(N2C=NC3=C(N)NC=NC32)C(O)C1O'), ('DB02917', 'CN(c1ccc(C(=O)NO)cc1)S(=O)(=O)c1ccc(-c2ccccn2)s1'), ('DB00590', 'COc1cc2nc(N3CCN(C(=O)C4COc5ccccc5O4)CC3)nc(N)c2cc1OC'), ('DB00533', 'CS(=O)(=O)c1ccc(C2=C(c3ccccc3)C(=O)OC2)cc1'), ('DB07021', 'NC1Cn2c(nc3cnccc32)CC1c1cc(F)c(F)cc1F'), ('DB00410', 'CC(=CC(=O)OCCCCCCCCC(=O)O)CC1OCC(CC2OC2C(C)C(C)O)C(O)C1O'), ('DB02337', 'NC(CCSCCCCC(=O)O)C(=O)O'), ('DB07357', 'CCCCCCOC1OC(CO)C(O)C(N)C1O'), ('DB00788', 'COc1ccc2cc(C(C)C(=O)O)ccc2c1'), ('DB01242', 'CN(C)CCCN1c2ccccc2CCc2ccc(Cl)cc21'), ('DB08160', 'CSCCC(N)C(O)(O)c1nccs1'), ('DB01263', 'CCC(C(C)O)n1ncn(-c2ccc(N3CCN(c4ccc(OCC5COC(Cn6cncn6)(c6ccc(F)cc6F)C5)cc4)CC3)cc2)c1=O'), ('DB00914', 'N=C(N)NC(=N)NCCc1ccccc1'), ('DB03124', 'CC(=O)C(CC(=O)O)NC(=O)c1ccc(CNS(=O)(=O)c2ccc(O)c(C(=O)O)c2)cc1'), ('DB08713', 'Cc1cc(CCCOc2c(C)cc(-c3nnn(C)n3)cc2C)on1'), ('DB07798', 'O=S(=O)(NCCC(F)(F)F)c1ccc2c(c1)CNC(CF)C2'), ('DB00458', 'CN(C)CCCN1c2ccccc2CCc2ccccc21'), ('DB04663', 'O=C(O)C1(O)OC(COP(=O)(O)O)C(O)C1O'), ('DB01651', 'COC1OC2COC(C)(C(=O)O)OC2C(O)C1O'), ('DB04555', 'Nc1ccn(C2OC(COP(=O)(O)OP(=O)(O)O)C(O)C2O)c(=O)n1'), ('DB07972', 'Cc1cccc(-n2cnc3cc(N)ccc32)c1'), ('DB01265', 'Cc1cn(C2CC(O)C(CO)O2)c(=O)[nH]c1=O'), ('DB03171', 'O=P(O)(O)OCCCc1c[nH]c2ccccc12'), ('DB04510', 'O=C(O)C(O)COP(=O)(O)O'), ('DB04362', 'Cc1nc(C(=O)[O-])sc1CCOP(=O)([O-])OP(=O)([O-])OCC1OC(n2cnc3c(N)ncnc32)C(O)C1O'), ('DB03364', 'CSCCC(NC(N)=O)C(=O)O'), ('DB08739', 'O=C(C1CC(F)(F)CN1C(=O)CCN1C(=O)c2ccccc2C1=O)N1CCCC1'), ('DB11594', 'CCCCCCCCCCCC[N+](C)(C)CCOc1ccccc1'), ('DB01567', 'CN1C(=O)CN=C(c2ccccc2F)c2cc(Cl)ccc21'), ('DB00975', 'OCCN(CCO)c1nc(N2CCCCC2)c2nc(N(CCO)CCO)nc(N3CCCCC3)c2n1'), ('DB00577', 'CC(C)C(N)C(=O)OCCOCn1cnc2c(=O)nc(N)[nH]c21'), ('DB02044', 'CC(=N)NCc1cccc(CN)c1'), ('DB03834', 'CC(Cn1ccnn1)(C(NC=CC=O)C(=O)O)[S](=O)=O'), ('DB02409', 'CC12CCC(CN1)C2(C)C'), ('DB07248', 'COc1cc(Nc2ncc3ccn(-c4ccccn4)c3n2)cc(OC)c1OC'), ('DB01089', 'COC(=O)C1C2CC3c4[nH]c5ccccc5c4CCN3CC2CC(OC(=O)c2cc(OC)c(OC)c(OC)c2)C1OC'), ('DB11590', 'CC[Hg]Sc1ccccc1C(=O)O[Na]'), ('DB07875', 'O=C(CN1CC(O)C(NC(=O)c2ccc(Cl)s2)C1)Nc1ccc(-n2ccccc2=O)cc1F'), ('DB00797', 'c1ccc(CC2=NCCN2)cc1'), ('DB04511', 'CSCCC(NC(=O)CCC(=O)O)C(=O)O'), ('DB08070', 'Cc1n[nH]cc1-c1ccc(CCN)cc1'), ('DB07416', 'CCCCCCCCC(=O)OCC(CO)OC(=O)CCC'), ('DB00228', 'FC(F)OC(F)(F)C(F)Cl'), ('DB01673', 'CC(=O)NC1C(OP(=O)(O)OP(=O)(O)OCC2OC(n3ccc(=O)[nH]c3=O)C(O)C2O)OC(CO)C(O)C1OC(C)C(=O)NC(C)C(=O)O'), ('DB09063', 'Cc1cc(Nc2ncc(Cl)c(Nc3ccccc3S(=O)(=O)C(C)C)n2)c(OC(C)C)cc1C1CCNCC1'), ('DB07367', 'CCCCCCCCN=C1OCC2C(O)C(O)C(O)C(O)N12'), ('DB02374', 'OC1Cn2ccnc2C(O)C1O'), ('DB08557', 'COCCNc1cc(-n2c3c(c4ccccc42)C(=O)CCC3)ccc1C(N)=O'), ('DB08260', 'CCCCCCCCNC(=S)N1C2COC1C(O)C(O)C2O'), ('DB01141', 'CCCCCOc1ccc(-c2cc(-c3ccc(C(=O)NC4CC(O)C(O)NC(=O)C5C(O)C(C)CN5C(=O)C(C(O)CC(N)=O)NC(=O)C(C(O)C(O)c5ccc(O)c(OS(=O)(=O)O)c5)NC(=O)C5CC(O)CN5C(=O)C(C(C)O)NC4=O)cc3)no2)cc1'), ('DB02241', 'O=C1N2C=C(c3ccc(O)cc3)N=C(Cc3ccccc3)C2=NC1(Cc1ccc(O)cc1)OO'), ('DB02484', 'Nc1ccn(C2OC(COP(=O)(O)OP(=O)(O)OCC(O)CO)C(O)C2O)c(=O)n1'), ('DB01550', 'CC(Cc1ccccc1)NCCC#N'), ('DB09214', 'CC(C(=O)O)c1cccc(C(=O)c2ccccc2)c1'), ('DB02927', 'CC(N)C(CCCCCC(=O)O)NC(=O)OP(=O)(O)O'), ('DB09019', 'CN(Cc1cc(Br)cc(Br)c1N)C1CCCCC1'), ('DB08341', 'CNS(=O)(=O)c1ccc(Nc2ncc(C(F)(F)F)c(NC3CCCC3N(C)C)n2)cc1'), ('DB04659', 'O=S(=O)(O)ON=C(Cc1ccccc1)SC1CC(CO)C(O)C(O)C1O'), ('DB00367', 'C#CC1(O)CCC2C3CCC4=CC(=O)CCC4C3CCC21CC'), ('DB07999', 'O=C(O)COC(=O)c1cc2ccccc2c2c1S(=O)(=O)N(CC(=O)O)C2=O'), ('DB02081', 'N=C(N)c1ccc(CC2CCCCC(Cc3ccc(C(=N)N)cc3)C2=O)cc1'), ('DB03716', 'N=C1N=CN=C2C1N=CN2C1OC(CF)C(O)C1O'), ('DB02088', 'CCCCC(N)P(=O)(O)O'), ('DB01987', 'Cc1ncc(C[n+]2csc(CCOP(=O)(O)OP(=O)([O-])O)c2C)c(N)n1'), ('DB07293', 'CC(=O)CNC(=O)OCc1ccccc1'), ('DB00782', 'CC(C)[N+](C)(CCOC(=O)C1c2ccccc2Oc2ccccc21)C(C)C'), ('DB00177', 'CCCCC(=O)N(Cc1ccc(-c2ccccc2-c2nn[nH]n2)cc1)C(C(=O)O)C(C)C'), ('DB01337', 'CC(=O)OC1CC2CCC3C(CCC4(C)C3CC([N+]3(C)CCCCC3)C4OC(C)=O)C2(C)CC1[N+]1(C)CCCCC1'), ('DB07543', 'CC(C)NCC(O)COc1cccc2[nH]c3ccccc3c12'), ('DB07987', 'O=C(CC(NC(=O)OCc1ccccc1)c1ccccc1)Nc1nnc(S)s1'), ('DB08404', 'CCCCCC(=O)SCCNC(=O)CCNC(=O)C(O)C(C)(C)CO[PH](=O)O'), ('DB03088', 'O=C1CCC(C(=O)O)N1'), ('DB09233', 'COC(=O)C1=C(C)NC(C)=C(C(=O)OCC2COC3(CCN(c4ccc(Cl)cc4)CC3)O2)C1c1cccc([N+](=O)[O-])c1'), ('DB01813', 'Cc1[nH+]cc(COP(=O)(O)O)c(CNC(CCC(=O)O)C(=O)O)c1O'), ('DB00662', 'COc1cc(C(=O)NCc2ccc(OCCN(C)C)cc2)cc(OC)c1OC'), ('DB07659', 'CC(=O)NC(Cc1ccccc1)C(=O)N1CCCC1C(=O)NC(CCCCCN)B(O)O'), ('DB01850', 'COC(Cc1ccccc1)C(C)C=C(C)C=CC(N)C(C)C(=O)O'), ('DB00609', 'CCc1cc(C(N)=S)ccn1'), ('DB04172', 'CC(C)c1cc(C(C)C)c(S(=O)(=O)NC(Cc2cccc(C(=N)N)c2)C(=O)N2CCN(C(=O)CCN)CC2)c(C(C)C)c1'), ('DB01774', 'Nc1ncnc2c1ncn2C1OC(COP(=O)(O)OP(=O)(O)OC2OC(CO)C(O)C(O)C2O)C(O)C1O'), ('DB00347', 'CN1C(=O)OC(C)(C)C1=O'), ('DB08349', 'Cc1ccc(C(=O)NC2CC2)cc1Nc1cc(=O)n(C)c2c1cnn2-c1ccc(F)cc1F'), ('DB02100', 'COC1OC(CO)C(O)C(O)C1O'), ('DB00165', 'Cc1ncc(CO)c(CO)c1O'), ('DB07091', 'N=C(N)c1ccc(CNC(=O)C2CCCN2C(=O)COC2CCCCC2)cc1'), ('DB01874', 'CN1C2CCC1CC(=O)C2'), ('DB00529', 'O=C(O)P(=O)(O)O'), ('DB04153', 'NC(CCC(=O)NC(CSCO)C(=O)NCC(=O)O)C(=O)O'), ('DB02010', 'CNC1CC2OC(C)(C1OC)n1c3ccccc3c3c4c(c5c6ccccc6n2c5c31)C(=O)NC4'), ('DB07219', 'CCCNC(=O)C1OC1C(=O)NC(C(=O)N1CCCC1C(=O)OCc1ccccc1)C(C)CC'), ('DB04349', 'CC(O)CO'), ('DB07190', 'NC(CC1CCCCC1)C(=O)N1CCCC1C(=O)NCc1cccc(Cl)c1'), ('DB01854', 'NC(=O)c1cncc(Br)c1'), ('DB02130', 'COc1cc(C(=O)[O-])ccc1O'), ('DB04706', 'CC(C)CCCC(C)C1CCC2C3C(O)C=C4CC(O)CCC4(C)C3CCC12C'), ('DB07708', 'Oc1ccc(-n2nc3ccc(O)cc3c2Cl)cc1'), ('DB03342', 'CC(=O)Nc1ccc(C(=O)O)cc1NC(N)N'), ('DB07037', 'NCC(O)CNc1ccc([N+](=O)[O-])c2cccnc12'), ('DB00760', 'CC(O)C1C(=O)N2C(C(=O)O)=C(SC3CNC(C(=O)N(C)C)C3)C(C)C12'), ('DB02274', 'CC(N)C(=O)CCCCCC(=O)O'), ('DB02076', 'O=C(O)C(O)C(O)C(O)C(O)COP(=O)(O)O'), ('DB02642', 'O=C(NCP(=O)(O)O)OCc1ccccc1'), ('DB04269', 'N=C(N)NCCCC1N=C(O)C2CCCN2C(=O)C(N=CO)CN=C(O)C=CC(Cc2ccc(O)cc2)N=C(O)C(Cc2ccccc2)NC(=O)C1=O'), ('DB03961', 'CC1(CO)OP(=O)(O)OP(=O)(O)OCC1O'), ('DB03976', 'CC(C)OP(=O)(O)O'), ('DB08045', 'NCCCOc1ccc(-c2cn[nH]c2-c2cc(Cl)c(O)cc2O)cc1'), ('DB01405', 'CC1CN(c2cc3c(cc2F)c(=O)c(C(=O)O)cn3-c2ccc(F)cc2F)CCN1'), ('DB01038', 'CCC(=O)c1ccc2c(c1)N(CCN1CCN(CCO)CC1)c1ccccc1S2'), ('DB02071', 'COc1ccc(S(=O)(=O)N(Cc2cccnc2)c2c(C)cccc2C(=O)NO)cc1'), ('DB03644', 'Nc1c(O)cccc1C(=O)O'), ('DB01130', 'CCOC(=O)OC1(C(=O)COC(=O)CC)CCC2C3CCC4=CC(=O)C=CC4(C)C3C(O)CC21C'), ('DB07832', 'Cc1ccc(O)cc1Nc1ccnc2cc(-c3csc(C=O)n3)ccc12'), ('DB02572', 'NC(COC(=O)NCCCOCCOCCOCCCNc1c(NCCCN2CCN(CCCNC(=O)c3cc(OC4OC(CO)C(O)C(O)C4O)cc([N+](=O)[O-])c3)CC2)c(=O)c1=O)COC(=O)NCCCOCCOCCOCCCNc1c(NCCCN2CCN(CCCNC(=O)c3cc(OC4OC(CO)C(O)C(O)C4O)cc([N+](=O)[O-])c3)CC2)c(=O)c1=O'), ('DB04286', 'OC1COC(O)C(O)C1O'), ('DB08368', 'CC(CC(CC(CCC(=O)O)C(=O)O)C(=O)O)C(=O)O'), ('DB03686', 'NC(CCC(=O)NC(CSCc1ccc([N+](=O)[O-])cc1)C(=O)NCC(=O)O)C(=O)O'), ('DB03468', 'NS(=O)(=O)c1ccc2c(c1)CNCC2'), ('DB03717', 'O=C1NCCC(OC2OCC(O)C(O)C2O)C1O'), ('DB03234', 'C=CCN(C)Cc1ccc(-c2ccc(C(=O)c3ccc(Br)cc3)cc2)cc1'), ('DB00565', 'COc1ccc(CC2c3cc(OC)c(OC)cc3CC[N+]2(C)CCC(=O)OCCCCCOC(=O)CC[N+]2(C)CCc3cc(OC)c(OC)cc3C2Cc2ccc(OC)c(OC)c2)cc1OC.O=S(=O)([O-])c1ccccc1.O=S(=O)([O-])c1ccccc1'), ('DB08530', 'Cn1c(=O)c2c(nc(N3CC[NH2+]CC3)n2Cc2ccccc2)n(C)c1=O'), ('DB04374', 'CCCCCC(CCCCC)Sc1[nH]nnc1C(=O)O'), ('DB02601', 'NC(C(=O)O)c1ccc(O)cc1'), ('DB04006', 'Nc1nc2ccc(C(=O)c3c(F)cccc3F)cn2c1C(=O)c1ccccc1'), ('DB01612', 'CCCCCON=O'), ('DB07661', 'Oc1ccc2c(O)cccc2c1'), ('DB01068', 'O=C1CN=C(c2ccccc2Cl)c2cc([N+](=O)[O-])ccc2N1'), ('DB08275', 'CCCCCCCCCCCC(=O)NC(Cc1ccc(O)cc1)C(=O)O'), ('DB01087', 'COc1cc(NC(C)CCCN)c2ncccc2c1'), ('DB07821', 'CC(O[PH](C)=O)C(C)(C)C'), ('DB00352', 'Nc1nc(=S)c2[nH]cnc2[nH]1'), ('DB00747', 'CN1C2CC(OC(=O)C(CO)c3ccccc3)CC1C1OC12'), ('DB09279', 'CCCCc1nc(C)c(CC(=S)N(C)C)c(=O)n1Cc1ccc(-c2ccccc2-c2nnn[nH]2)cc1'), ('DB02257', 'CC(=O)N(Br)CCOP(=O)(O)O'), ('DB04123', 'O=C(Cc1ccc(I)cc1)NC[PH](=O)O'), ('DB01329', 'CCN1CCN(C(=O)NC(C(=O)NC2C(=O)N3C(C(=O)O)=C(CSc4nnnn4C)CSC23)c2ccc(O)cc2)C(=O)C1=O'), ('DB09074', 'O=C(c1cc(Cc2nnc(O)c3ccccc23)ccc1F)N1CCN(C(=O)C2CC2)CC1'), ('DB01906', 'Nc1nc(O)c2nn(-c3cccc(C(=O)O)c3)nc2n1'), ('DB02787', 'CC(O)NC(CO)C(O)C(O)C(O)CO'), ('DB08753', 'CC(=O)Oc1ccc(C=CC(=O)NCCc2ccccc2)cc1OC(C)=O'), ('DB01743', 'CC(O)C1NC(=O)C(CCCN(O)C=O)NC(=O)C(NC(=O)C(CCCN(O)C=O)NC(=O)C(CO)NC(=O)C(CCCNC(=N)N)NC(=O)C(CO)NC(=O)C2CCNC3C(NC(=O)CCC(=O)O)=Cc4cc(O)c(O)cc4N23)CCCCNC(=O)C(C(C)O)NC1=O'), ('DB01070', 'CC1CCC(O)CC1=CC=C1CCCC2(C)C1CCC2C(C)C=CC(C)C(C)C'), ('DB02970', 'CCCc1ccccc1N'), ('DB04140', 'COc1ccc(S(=O)(=O)N2CN(Cc3ccccc3)C(=O)CC2C(=O)NO)cc1'), ('DB01251', 'COc1ccc2c(c1)C(=O)N(CCc1ccc(S(=O)(=O)NC(=O)NC3CCCCC3)cc1)C(=O)C2(C)C'), ('DB01872', 'CC(=O)NC1C(O)OC(CO)C(OS(=O)(=O)O)C1O'), ('DB07962', 'COC(=O)CCNC(=O)c1cc(-c2ccc(F)cc2F)cc(I)c1O'), ('DB08019', 'Cc1cc(N)nc(CC2CNCC2NCCNCc2cccc(Cl)c2)c1'), ('DB02211', 'C#CCN(C)C1CCc2ccccc21'), ('DB11560', 'O=C(O)CSc1nnc(Br)n1-c1ccc(C2CC2)c2ccccc12'), ('DB00730', 'c1ccc2[nH]c(-c3cscn3)nc2c1'), ('DB00209', 'O=C(OC1CC2CCC(C1)[N+]21CCCC1)C(O)(c1ccccc1)c1ccccc1'), ('DB01582', 'Cc1cc(C)nc(NS(=O)(=O)c2ccc(N)cc2)n1'), ('DB04456', 'O[As](O)O'), ('DB03236', 'NCCC(=O)NCCC(N)C(=O)O'), ('DB08499', 'O=C(CCC(=O)Nc1ccc2c(c1)C(=O)C(=O)NC2=O)Nc1cccc(OCCF)c1'), ('DB03829', 'O=c1[nH]cc(C2OC(COP(=O)(O)O)C(O)C2O)c(=O)[nH]1'), ('DB02836', 'Nc1nc2c(ncn2C2OC(COP(=O)(O)OP(=O)(O)O)C3OP(=O)(O)OC32)c(=O)[nH]1'), ('DB02847', 'CC(O)C(C)(O)CN'), ('DB06952', 'O=C(O)C1(O)C=Cc2ccccc2O1'), ('DB08245', 'O=[N+]([O-])c1ccc2c(ccn2C2CC(O)C(COP(=O)(O)O)O2)c1'), ('DB02581', 'CC(C)CC(NC(=N)N)C(=O)NCC(=O)N1CCC(c2cc(-c3ccc(OCc4ccc(C(=O)O)o4)c(Cl)c3Cl)nn2C)CC1'), ('DB02379', 'OCC1OC(O)C(O)C(O)C1O'), ('DB01754', 'Cn1c(=O)c(O)c(O)c2ccccc21'), ('DB06838', 'COC(=O)C(N)Cc1ccccc1'), ('DB06983', 'OCc1cnn2c(NCc3cccnc3)cc(-c3ccccc3)nc12'), ('DB02702', 'O=C(Nc1nccs1)c1cccc(CN2C(=O)N(Cc3cccc(C(=O)Nc4nccs4)c3)C(Cc3ccccc3)C(O)C(O)C2Cc2ccccc2)c1'), ('DB08074', 'CC(C)=CCn1cnc(N)c2ncnc1-2'), ('DB01859', 'CC(CO)(OP(=O)(O)O)C(O)COP(=O)(O)OP(=O)(O)OCC1OC(n2ccc(N)nc2=O)C(O)C1O'), ('DB08893', 'Nc1nc(CC(=O)Nc2ccc(CCNCC(O)c3ccccc3)cc2)cs1'), ('DB01797', 'NCC1(O)NC(=O)C(O)=[N+]1CC(=O)O'), ('DB02108', 'N=CCN'), ('DB07710', 'NC(Cc1ccccc1)C(=O)NCCOCCOCCNC(=O)c1ccc(S(N)(=O)=O)cc1'), ('DB00115', 'CC1=C2N3=C(C=C4N5=C(C(C)=C6N7C8C(CC(N)=O)C6(C)CCC(=O)NCC(C)OP(=O)(O)OC6C(CO)OC(C6O)n6cn(c9cc(C)c(C)cc96)~[Co]7~5~3(C#N)~N3=C1C(CCC(N)=O)C(C)(CC(N)=O)C83C)C(CCC(N)=O)C4(C)C)C(CCC(N)=O)C2(C)CC(N)=O'), ('DB00614', 'O=C1OCCN1N=Cc1ccc([N+](=O)[O-])o1'), ('DB03621', 'CCC1C=C(C)C(O)C(C)CC(OC)C2OC(O)(C(=O)C(=O)N3CCCCC3C(=O)OC(C(C)=CC3CCC(Oc4ccc5c(ccn5C)c4)C(OC)C3)C(C)C(O)CC1=O)C(C)CC2OC'), ('DB07518', 'CCCCC(CC)COS(=O)(=O)O'), ('DB02322', 'O=C([O-])C1=CC(O)C(OS(=O)(=O)[O-])C(OC2C(COS(=O)(=O)[O-])OC(O)C(NS(=O)(=O)[O-])C2O)O1'), ('DB02961', 'CC(O)C(O)C(O)C(O)C=O'), ('DB00955', 'CCNC1CC(N)C(OC2OC(CN)=CCC2N)C(O)C1OC1OCC(O)C(NC)C1(C)O'), ('DB02118', 'CN1c2ccc(C3CN(Cc4ccccc4)C(=O)CO3)cc2CS1(=O)=O'), ('DB08027', 'Cc1ccc(NC(=O)NCCSCc2ccc(CN(C)C)o2)cc1Cl'), ('DB00911', 'CCS(=O)(=O)CCn1c([N+](=O)[O-])cnc1C'), ('DB02342', 'COc1cc2c(cc1O)CCC1C2CCC2(C)C(O)CCC12'), ('DB04186', 'O=C(Nc1ccccn1)Nc1cccc2c1C1CCCN1C2=O'), ('DB02862', 'OCC1C(O)C(O)C(O)c2nc(-c3ccccc3)cn21'), ('DB01968', 'NC=CS'), ('DB03964', 'O=C([O-])C=C(C(=O)[O-])C(O)C(=O)[O-]'), ('DB05521', 'CCCC(NC(=O)C1C2CCCC2CN1C(=O)C(NC(=O)C(NC(=O)c1cnccn1)C1CCCCC1)C(C)(C)C)C(=O)C(=O)NC1CC1'), ('DB08730', 'O=C(Nc1ccc2ccn(CCc3ccncc3)c2c1)c1cc(F)cc(N2CCOCC2)c1'), ('DB03311', 'CCc1oc2cc(S(=O)(=O)Nc3ccc(S(=O)(=O)Nc4nccs4)cc3)ccc2c1C(=O)c1cc(Br)c(O)c(Br)c1'), ('DB07302', 'CCCCCC=CC=CC(O)CCCCCCCC(=O)O'), ('DB09143', 'Cc1c(C(=O)Nc2ccc(N3CC(C)OC(C)C3)nc2)cccc1-c1ccc(OC(F)(F)F)cc1'), ('DB03283', 'CC1OC(O)C(O)C(O)C1O'), ('DB04084', 'OCC1OC(O)C(F)C(O)C1O'), ('DB04052', 'Cc1ccc(O)cc1C'), ('DB01065', 'COc1ccc2[nH]cc(CCNC(C)=O)c2c1'), ('DB02375', 'O=c1c(O)c(-c2cc(O)c(O)c(O)c2)oc2cc(O)cc(O)c12'), ('DB09007', 'CN(C)CCOC(C)(c1ccccc1)c1ccc(Cl)cc1'), ('DB03147', 'Cc1cc2nc3c(=O)[nH]c(=O)nc-3n(CC(O)C(O)C(O)COP(=O)(O)OP(=O)(O)OCC3OC(n4cnc5c(N)ncnc54)C(O)C3O)c2cc1C'), ('DB03470', 'NC(CCC(=O)NC(CS)C(=O)NCC(=O)NCCCCNCCCNC(=O)CNC(=O)C(CS)NC(=O)CCC(N)C(=O)O)C(=O)O'), ('DB02858', 'O=S(=O)(Nc1cccc(B(O)O)c1)c1cc(S(=O)(=O)c2ccccc2)cs1'), ('DB07142', 'COc1cc(-c2cc(C)cc(C)c2)cc(C(C)C#Cc2c(C)nc(N)nc2N)c1'), ('DB01490', 'NC1=NCC(c2ccccc2)O1'), ('DB00940', 'CC[N+](C)(CC)CCOC(=O)C1c2ccccc2Oc2ccccc21'), ('DB02967', 'CCN1C(=O)C=CC1=O'), ('DB13145', 'N[Pt]1(N)OCC(=O)O1'), ('DB03605', 'O=C(O)C(Cc1ccccc1)N(Cc1cccc(C(F)(F)F)c1)C(=O)c1ccc(Cl)cc1Cl'), ('DB07767', 'COc1cc(C=CC(=O)O)ccc1O'), ('DB01708', 'CC12CCC3C(CC=C4CC(O)CCC43C)C1CCC2=O'), ('DB01862', 'CC(C)SC1OC(CO)C(O)C(O)C1O'), ('DB06981', 'CCCC(C(=O)O)c1c[nH]c2ccccc12'), ('DB04672', 'Cc1cn(C2C=CC(COP(=O)(O)O)O2)c(=O)[nH]c1=O'), ('DB07061', 'Cc1ccc2c(c1)c1c(n2CC(O)CNC2CCCCC2)CCCC1'), ('DB09267', 'N#Cc1c(N(CC(=O)[O-])CC(=O)[O-])sc(C(=O)[O-])c1CC(=O)[O-].[Sr+2].[Sr+2]'), ('DB01220', 'COC1C=COC2(C)Oc3c(C)c(O)c4c(O)c(c5c(nc6cc(C)ccn65)c4c3C2=O)NC(=O)C(C)=CC=CC(C)C(O)C(C)C(O)C(C)C(OC(C)=O)C1C'), ('DB02270', 'CC(C)CCSP(=O)(O)OP(=O)(O)O'), ('DB04661', 'CCCCCCCCC=CCCCCCCCCCCCCCC(=O)NC(COC1OC(CO)C(O)C(OS(=O)(=O)O)C1O)C(O)C=CCCCCCCCCCCCCC'), ('DB04853', 'Nc1nc(NN=CC2CCCCC2)nc2c1ncn2C1OC(CO)C(O)C1O'), ('DB00962', 'CCN(C(C)=O)c1cccc(-c2ccnc3c(C#N)cnn23)c1'), ('DB07844', 'CC(C(=O)N1CCOCC1)N1CCC(NS(=O)(=O)c2cc3ccc(Cl)cc3s2)C1=O'), ('DB08009', 'CCN(CC)CCNC(=O)c1c(C)[nH]c(C=C2C(=O)Nc3ccc(Cl)cc32)c1C'), ('DB05511', 'CNC(=O)C1OC(n2cnc3c(NCc4cccc(I)c4)ncnc32)C(O)C1O'), ('DB07147', 'COC(=O)C1(Cc2ccc(OCc3cc(C)nc4ccccc34)cc2)CC1C(=O)NO'), ('DB00595', 'CN(C)C1C(O)=C(C(N)=O)C(=O)C2(O)C(O)=C3C(=O)c4c(O)cccc4C(C)(O)C3C(O)C12'), ('DB00328', 'COc1ccc2c(c1)c(CC(=O)O)c(C)n2C(=O)c1ccc(Cl)cc1'), ('DB07193', 'CS(=O)(=O)c1ccc2c(c1)nc1n2CC(N)C(c2cc(F)c(F)cc2F)C1'), ('DB04859', 'O=C(CCC1CCN(Cc2ccccc2)CC1)c1ccc2c(c1)NCCCC2'), ('DB01559', 'CCc1cc2c(s1)N(C)C(=O)CN=C2c1ccccc1Cl'), ('DB01147', 'Cc1onc(-c2ccccc2Cl)c1C(=O)NC1C(=O)N2C1SC(C)(C)C2C(=O)O'), ('DB00163', 'Cc1c(C)c2c(c(C)c1O)CCC(C)(CCCC(C)CCCC(C)CCCC(C)C)O2'), ('DB01042', 'NC(Cc1ccc(N(CCCl)CCCl)cc1)C(=O)O'), ('DB01393', 'CC(C)(Oc1ccc(CCNC(=O)c2ccc(Cl)cc2)cc1)C(=O)O'), ('DB01127', 'Clc1ccc(COC(Cn2ccnc2)c2ccc(Cl)cc2Cl)cc1'), ('DB03568', 'CCCC(=O)O'), ('DB03177', 'Cc1ccc2nc[nH]c2c1'), ('DB08644', 'CCC(C=O)C1C(NS(C)(=O)=O)CCN1C(=O)C(NC(=O)OC(C)(C)C)C(C)C'), ('DB06828', 'c1ccn(CCOc2ccc3[nH]ccc3c2)c1'), ('DB06777', 'CC(CCC(=O)O)C1CCC2C3C(O)CC4CC(O)CCC4(C)C3CCC12C'), ('DB04281', 'O=C1C(=C2CCC(c3ccc(Cl)cc3)CC2)C(O)=C(O)c2ccccc21'), ('DB07750', 'CN(C)CC(O)COc1ccc(Nc2nccc(Nc3cc(Cl)ccc3Cl)n2)cc1'), ('DB00611', 'Oc1ccc2c(c1)C13CCCCC1(O)C(C2)N(CC1CCC1)CC3'), ('DB04203', 'Nc1ccc(S(N)(=O)=O)cc1[Hg]'), ('DB04813', 'Oc1c(Cl)cc(Cl)cc1Sc1cc(Cl)cc(Cl)c1O'), ('DB06726', 'CCc1cccc2cc(C(O)CNC(C)(C)C)oc12'), ('DB00362', 'CCCCCOc1ccc(-c2ccc(-c3ccc(C(=O)NC4CC(O)C(O)NC(=O)C5C(O)C(C)CN5C(=O)C(C(C)O)NC(=O)C(C(O)C(O)c5ccc(O)cc5)NC(=O)C5CC(O)CN5C(=O)C(C(C)O)NC4=O)cc3)cc2)cc1'), ('DB04515', 'COC1C(O)OC(C)C(O)C1O'), ('DB02644', 'CCCNC(=[NH2+])NCCCC(N)C(=O)O'), ('DB07612', 'CC(C)(C)Nc1nc(C(F)(F)F)nc2ccc(-c3cccc(N)c3)cc12'), ('DB01493', 'CCC1(O)CCC2C3CCC4=CCCCC4C3CCC21C'), ('DB04540', 'CC(C)CCCC(C)C1CCC2C3CC=C4CC(O)CCC4(C)C3CCC12C'), ('DB07157', 'CC(C)C(NC(=O)OCc1ccccc1)P(=O)(O)OC(C(=O)O)c1cccc(CN)c1'), ('DB03505', 'Nc1ccc2nc(N)nc(O)c2c1'), ('DB07336', 'COc1cc(-c2ccc3c(-c4nc5ccccc5[nH]4)n[nH]c3c2)ccc1O'), ('DB03235', 'NCCCN1CCN(CCCNC(=O)c2cc(OC3OC(CO)C(O)C(O)C3O)cc([N+](=O)[O-])c2)CC1'), ('DB08118', 'CNc1ccc(Sc2nncn2C)cc1C(=O)Nc1nc(C)cs1'), ('DB06750', 'CC(C)=CCCC(C)(OC1OC(CO)C(O)C(O)C1O)C1CCC2(C)C1C(O)CC1C3(C)CCC(O)C(C)(C)C3C(OC3OC(CO)C(O)C(O)C3O)CC12C'), ('DB01487', 'CCC(CC)(CNC(=O)CCCO)c1cccc(OC)c1'), ('DB01243', 'Oc1c(Cl)cc(Cl)c2cccnc12'), ('DB08675', 'CCCCCCC=CC1C2CC(N=N2)C1C=CCCCCC(=O)O'), ('DB07002', 'COc1ccnc(NC2CCN(C(=O)c3ccc(C#N)cc3)CC2)c1'), ('DB03884', 'O=C(O)C(=O)Cc1ccccc1'), ('DB02707', 'CCCCCOP(=O)(O)OP(=O)(O)O'), ('DB00549', 'COc1cc(C(=O)NS(=O)(=O)c2ccccc2C)ccc1Cc1cn(C)c2ccc(NC(=O)OC3CCCC3)cc12'), ('DB04178', 'CCCCCCCCCCCCCCCCCC(=O)OCC(COP(=O)(O)OCC[N+](C)(C)C)OC(=O)CCCCCCCCCCCCCCCCC'), ('DB01866', 'O=C(O)C(c1ccccc1)S(=O)(=O)O'), ('DB04469', 'CCOC(=O)c1c(C)nn(-c2ccc(OC)cc2)c1C'), ('DB09073', 'CC(=O)c1c(C)c2cnc(Nc3ccc(N4CCNCC4)cn3)nc2n(C2CCCC2)c1=O'), ('DB07460', 'CNC(=O)c1ccccc1Nc1nc(Nc2ccc(N3CCOCC3)cc2OC)ncc1Cl'), ('DB02714', 'O=c1nc(O)ccn1C1OC(CO)C(OP(=O)(O)O)C1O'), ('DB09413', 'O=P([O-])(O)O.[K+]'), ('DB01002', 'CCCCN1CCCCC1C(=O)Nc1c(C)cccc1C'), ('DB08454', 'Cc1cc(Nc2nc(-c3ccccc3)nc3ccccc23)n[nH]1'), ('DB03001', 'CC(=O)OC1CC(C)(C)C(=C=CC(C)=CC=CC=CC=C(C)C=C2C=C(C=CC34OC3(C)CC(O)CC4(C)C)C(=O)O2)C(C)(O)C1'), ('DB07631', 'CCCCCCCCCCCC[N+](C)(C)CC(=O)[O-]'), ('DB02867', 'O=P(O)(O)OC1OC(CO)C(O)C(O)C1O'), ('DB08025', 'COC1CCC(C(=O)Nc2cc(-c3ccnc(Nc4ccc(F)cc4)c3)ccn2)CC1'), ('DB04266', 'O=P(O)(O)CCCCCc1c(O)nc(O)nc1NCC(O)C(O)C(O)CO'), ('DB07076', 'N=C(N)c1ccc2cc(C(=O)Nc3cccc(OC4CCCC4)c3)ccc2c1'), ('DB05428', 'CC(=O)[O-].CC(=O)[O-].CCc1c(CC)c2cc3nc(cnc4cc(OCCOCCOCCOC)c(OCCOCCOCCOC)cc4ncc4nc(cc1[n-]2)c(CCCO)c4C)c(C)c3CCCO.[Gd+3]'), ('DB03114', 'O=Cc1ccccc1OP(=O)(O)OCC1CCCCC1'), ('DB08882', 'CC#CCn1c(N2CCCC(N)C2)nc2c1c(=O)n(Cc1nc(C)c3ccccc3n1)c(=O)n2C'), ('DB03352', 'NC(CS[As](=O)(O)O)C(=O)O'), ('DB02498', 'NC(=O)c1ccc[n+](C2CC(COP(=O)([O-])OP(=O)(O)OCC3OC(n4cnc5c(N)ncnc54)C(O)C3O)C(O)C2O)c1'), ('DB00512', 'CNC(CC(C)C)C(=O)NC1C(=O)NC(CC(N)=O)C(=O)NC2C(=O)NC3C(=O)NC(C(=O)NC(C(=O)O)c4cc(O)cc(O)c4-c4cc3ccc4O)C(O)c3ccc(c(Cl)c3)Oc3cc2cc(c3OC2OC(CO)C(O)C(O)C2OC2CC(C)(N)C(O)C(C)O2)Oc2ccc(cc2Cl)C1O'), ('DB04274', 'O=C1CC(c2ccccc2)Oc2cc(O)ccc21'), ('DB07192', 'O=C(Nc1cccc(Br)c1)C1CC(=O)N(C2CCCCC2)C1'), ('DB02145', 'CCCCO'), ('DB00996', 'NCC1(CC(=O)O)CCCCC1'), ('DB09071', 'CCC(O)=NCC1CC1c1cccc2c1CCO2'), ('DB06970', 'CCN(CC)S(=O)(=O)c1ccc(Cl)c(C(=O)Nc2sc3c(c2C#N)CCC3)c1'), ('DB07282', 'COc1ccccc1C=NOCCC(=O)O'), ('DB00378', 'CC(=O)C1CCC2C3C=CC4=CC(=O)CCC4(C)C3CCC12C'), ('DB01211', 'CCC1OC(=O)C(C)C(OC2CC(C)(OC)C(O)C(C)O2)C(C)C(OC2OC(C)CC(N(C)C)C2O)C(C)(OC)CC(C)C(=O)C(C)C(O)C1(C)O'), ('DB07812', 'NCC(NC(=O)c1ccc(-c2ccnc3[nH]ccc23)s1)c1ccccc1'), ('DB09115', 'Oc1c(I)cc(I)c2cccnc12'), ('DB08679', 'CC(C)=CCOc1cc(NC(=S)c2ccoc2C)ccc1Cl'), ('DB00322', 'O=c1[nH]c(=O)n(C2CC(O)C(CO)O2)cc1F'), ('DB08674', 'N#Cc1ccc2cc1Oc1ccc3cccc(c3c1)N1CCC(NCc3cncn3C2)C1=O'), ('DB01076', 'CC(C)c1c(C(=O)Nc2ccccc2)c(-c2ccccc2)c(-c2ccc(F)cc2)n1CCC(O)CC(O)CC(=O)[O-]'), ('DB01209', 'CC12CCCCCC(Cc3ccc(O)cc31)C2N'), ('DB00738', 'N=C(N)c1ccc(OCCCCCOc2ccc(C(=N)N)cc2)cc1'), ('DB00447', 'NC(C(=O)NC1C(=O)N2C(C(=O)O)=C(Cl)CCC12)c1ccccc1'), ('DB02676', 'OCC(CO)(CO)NCCCNC(CO)(CO)CO'), ('DB01494', 'C[N+](C)(C)CC(=O)[O-].OC(O)C(Cl)(Cl)Cl'), ('DB04168', 'Nc1nc(O)c(Br)c(-c2ccccc2)n1'), ('DB04854', 'Cc1nc(-c2ccc(OCC(C)C)c(C#N)c2)sc1C(=O)O'), ('DB09154', 'O=C([O-])CC(O)(CC(=O)[O-])C(=O)[O-].[Na+].[Na+].[Na+]'), ('DB02503', 'O=C(O)C=Cc1ccc(B(O)O)cc1'), ('DB03701', 'Fc1ccc(C(OCCN2CCN(CCCc3ccccc3)CC2)c2ccc(F)cc2)cc1'), ('DB07920', 'O=NC(=O)CNS(=O)(=O)c1ccc(-c2ccccc2)cc1'), ('DB07047', 'O=C(O)c1cc(-c2ccc(Cl)cc2Cl)ccc1O'), ('DB01641', 'CC(O)C(N)C1=NC(=Cc2c[nH]c3cccc(N)c23)C(=O)N1CC(=O)O'), ('DB02539', 'CCSC(=N)N'), ('DB02143', 'CC(C)NC(=N)NO'), ('DB09000', 'CC(CN(C)C)CN1c2ccccc2Sc2ccc(C#N)cc21'), ('DB01570', 'CCC(=O)N(c1ccccc1)C1CCN(CC(O)c2ccccc2)CC1C'), ('DB02825', 'C[PH](=O)[O-]'), ('DB07256', 'NC(=O)c1cccc(Nc2nccc(Nc3c(Cl)ccc4c3OCO4)n2)c1'), ('DB06783', 'N#C[Fe-4](C#N)(C#N)(C#N)(C#N)C#N.N#C[Fe-4](C#N)(C#N)(C#N)(C#N)C#N.N#C[Fe-4](C#N)(C#N)(C#N)(C#N)C#N.[Fe+3].[Fe+3].[Fe+3].[Fe+3]'), ('DB02665', '[NH3+]C1CC1c1ccccc1'), ('DB08745', 'O=C1CN(S(=O)(=O)C=Cc2ccc(Cl)cc2)CCN1CC1CCN(c2ccncc2)CC1'), ('DB04679', 'CC(O)NC1C(O)OC(CO)C(O)C1OC1OC(CO)C(O)C(O)C1OC1OC(C)C(O)C(O)C1O'), ('DB01153', 'Clc1ccc(C(Cn2ccnc2)OCc2csc3c(Cl)cccc23)c(Cl)c1'), ('DB08875', 'COc1cc2nccc(Oc3ccc(NC(=O)C4(C(=O)Nc5ccc(F)cc5)CC4)cc3)c2cc1OC'), ('DB09425', 'O=C([O-])CN(CCN(CC(=O)[O-])CC(=O)[O-])CCN(CC(=O)[O-])CC(=O)[O-].[In+3].[Na+].[Na+]'), ('DB03077', 'CCCOCCOCCOCCCNc1c(N)c(=O)c1=O'), ('DB04162', 'O=c1[nH]c(NCC(O)C(O)C(O)CO)c([N+](=O)[O-])c(=O)[nH]1'), ('DB09330', 'C=CC(=O)Nc1cc(Nc2nccc(-c3cn(C)c4ccccc34)n2)c(OC)cc1N(C)CCN(C)C'), ('DB03830', 'Nc1nc2ncc(CNc3ccc(C(=O)OP(=O)(O)O)cc3)nc2c(=O)[nH]1'), ('DB03161', 'Cc1cn(C2CC(O)C(COP(=O)(O)OP(=O)(O)OC3OCC(O)C(O)C3O)O2)c(=O)[nH]c1=O'), ('DB00190', 'CC(Cc1ccc(O)c(O)c1)(NN)C(=O)O'), ('DB07809', 'Cc1cccc(C(=O)c2ccnc(NCc3ccc(C(=N)N)cc3)c2)c1'), ('DB09213', 'CC(C)Cc1ccc(C(C)C(=O)O)cc1'), ('DB08877', 'N#CCC(C1CCCC1)n1cc(-c2ncnc3[nH]ccc23)cn1'), ('DB07857', 'NCC(c1ccc(Cl)cc1)c1ccc(-c2cn[nH]c2)cc1'), ('DB02486', 'OCCSSCCO'), ('DB00800', 'Oc1ccc(C2CNCCc3c2cc(O)c(O)c3Cl)cc1'), ('DB02715', 'CC(COc1ccc(C2Oc3ccc(O)cc3SC2c2ccc(O)cc2)cc1)N1CCCC1'), ('DB03152', 'CCCCCCCCOC1C(O)OC(CO)C(O)C1O'), ('DB02767', 'CCCCCCCCCCCC(O)CC(=O)O'), ('DB03165', 'CN(C)CCOP(=O)(O)OP(=O)(O)O'), ('DB02811', 'CCO[PH](=O)OCC'), ('DB00966', 'CCCc1nc2c(C)cc(-c3nc4ccccc4n3C)cc2n1Cc1ccc(-c2ccccc2C(=O)O)cc1'), ('DB07216', 'CS(=O)(=O)N1CCC(C2c3ccc(Cl)cc3C(N3CCNCC3)=Cc3cccnc32)CC1'), ('DB03748', 'CN(C(=O)Oc1ccc(Cl)cc1)C1CCC(c2ccc(CN3CCCCC3)cc2)CC1'), ('DB04773', 'CC(O)CC(=O)OC(C)CC(=O)OC(C)CC(=O)O'), ('DB08435', 'CCCCCC=CC=C1C(=O)C=CC1CC=CCCCC(=O)O'), ('DB04723', 'NC(N)=Nc1cccc(C(CS)C(=O)O)c1'), ('DB05295', 'C=C1C(=CC=C2CCCC3(C)C2CCC3C(C)CCCC(C)(C)O)CC(O)C(OCCCO)C1O'), ('DB09561', 'O.O=P([O-])([O-])OCC(O)CO.[Na+].[Na+]'), ('DB02254', 'Cc1c(CCOP(=O)([O-])[O-])sc[n+]1Cc1cnc(C(F)(F)F)nc1N'), ('DB09147', 'O=P([O-])([O-])OP(=O)([O-])[O-].O=P([O-])([O-])OP(=O)([O-])[O-].O=P([O-])([O-])OP(=O)([O-])[O-].[Fe+3].[Fe+3].[Fe+3].[Fe+3]'), ('DB01017', 'CN(C)c1ccc(O)c2c1CC1CC3C(N(C)C)C(O)=C(C(N)=O)C(=O)C3(O)C(O)=C1C2=O'), ('DB04436', 'NC(Cc1ccc(O)c(F)c1)C(=O)O'), ('DB07838', 'O=C1C(=Cc2cccc([N+](=O)[O-])c2O)SC(=S)N1Cc1ccccc1'), ('DB08546', 'N=C(N)c1ccc(C2C3C(=O)N(Cc4ccc5c(c4)OCO5)C(=O)C3C3CC(O)CN32)cc1'), ('DB04179', 'c1ccc2occc2c1'), ('DB08012', 'CCOC(=O)c1ccc(OCCC2CCN(c3ccc(C)nn3)CC2)cc1'), ('DB06261', 'CCCCCCOC(=O)CCC(=O)CN'), ('DB07851', 'COc1ccc(N2CCC(N)C(c3cccc(C)c3)C2)cc1OC'), ('DB06711', 'c1ccc2c(CC3=NCCN3)cccc2c1'), ('DB07464', 'CC(=O)NC(Cc1cccc(C(=O)O)c1O)B(O)O'), ('DB02189', 'Nc1ncnc2c1ncn2C1CCC(COP(=O)(O)OP(=O)(O)OP(=O)(O)O)O1'), ('DB08408', 'CC(C)(C)C(=O)OCC(C)(C)C(O)C(=O)NCCC(=O)NCCS'), ('DB07651', 'CC(=O)NC(Cc1ccccc1)C(=O)NC(Cc1ccc(C(F)(F)P(=O)(O)O)cc1)C(N)=O'), ('DB03551', 'O=C1NC=NC2C(CN3CC(O)C(CO)C3)=CNC12'), ('DB09155', '[He]'), ('DB00806', 'CC(=O)CCCCn1c(=O)c2c(ncn2C)n(C)c1=O'), ('DB02514', 'O=C([O-])C(=COP(=O)=O)c1ccccc1'), ('DB05475', 'NC(CCC(=O)NC(Cc1c[nH]c2ccccc12)C(=O)O)C(=O)O'), ('DB03661', 'NC(CS(=O)(=O)O)C(=O)O'), ('DB01048', 'Nc1nc(NC2CC2)c2ncn(C3C=CC(CO)C3)c2n1'), ('DB07810', 'O=C(CCc1ccc(O)cc1)c1c(O)cc(O)cc1O'), ('DB09254', 'NC(=O)CN1Cc2ccccc2OC1=O'), ('DB02340', 'CC(=O)NC(CO)C(=O)O'), ('DB04836', 'O=C(O)CCCCCC[NH2+]C1c2ccccc2CCc2ccccc21.[Cl-]'), ('DB08267', 'Nc1nc2c(CCc3ccccc3)c3nc[nH]c3cc2c(=O)[nH]1'), ('DB00234', 'CCOc1ccccc1OC(c1ccccc1)C1CNCCO1'), ('DB09291', 'CC(OCC1(c2ccccc2)CCC2(CCC(=O)N2)CN1)c1cc(C(F)(F)F)cc(C(F)(F)F)c1'), ('DB01616', 'CCN(CCCc1ccccc1)CCCc1ccccc1'), ('DB00419', 'CCCCN1CC(O)C(O)C(O)C1CO'), ('DB08342', 'CCCCCCCCCCCCCCCC(=O)SCC(N)C(=O)O'), ('DB07937', 'CCCCOc1nc(NCCN2CCOCC2)c2ncn(Cc3c(F)cccc3F)c2n1'), ('DB03222', 'Nc1ncnc2c1ncn2C1CC(O)C(COP(=O)(O)OP(=O)(O)OP(=O)(O)O)O1'), ('DB08647', 'Cc1cc2c(cc1C(=O)CCC(=O)O)C(C(C)C)C(C)C2(C)C'), ('DB07758', 'O=C(O)c1ccc(-c2cc(Cl)ccc2Cl)o1'), ('DB04220', 'COC1C=COC2(C)OC3=C(C2=O)C2C(O)=C(N4CCOCC4)C(=C(O)C2C(O)=C3C)NC(=O)C(C)=CC=CC(C)C(O)C(C)C(O)C(C)C(OC(=O)COC(=O)CC2=CN(C)C=CC2)C1C'), ('DB00361', 'CCC1=CC2CN(C1)Cc1c([nH]c3ccccc13)C(C(=O)OC)(c1cc3c(cc1OC)N(C)C1C(O)(C(=O)OC)C(OC(C)=O)C4(CC)C=CCN5CCC31C54)C2'), ('DB08582', 'CC1CC(C)CN(C(=O)c2cc(Br)ccc2NC(=O)CCC(=O)N2CCOCC2)C1'), ('DB07201', 'CC(CON=C1c2ccccc2-c2ccccc21)C(=O)O'), ('DB01338', 'CC(=O)OC1CC2CCC3C(CCC4(C)C3CC(N3CC[N+](C)(C)CC3)C4OC(C)=O)C2(C)CC1N1CC[N+](C)(C)CC1'), ('DB00267', 'CON=C(C(=O)NC1C(=O)N2C(C(=O)O)=C(CSc3nnnn3C)CSC12)c1csc(N)n1'), ('DB06769', 'Cn1c(CCCC(=O)O)nc2cc(N(CCCl)CCCl)ccc21'), ('DB03979', 'CCCCCCCCCCCCCCCC(=O)OCC(COP(=O)(O)OCC(O)CO)OC(=O)CCCCCCCC1CC1CCCCCC'), ('DB07252', 'NS(=O)(=O)c1cccc(Nc2nccc(Nc3c(Cl)ccc4c3OCO4)n2)c1'), ('DB03207', 'O=C(O)C1Cc2ccccc2CN1S(=O)(=O)c1ccc(-c2ccccc2)cc1'), ('DB08896', 'CNC(=O)c1cc(Oc2ccc(NC(=O)Nc3ccc(Cl)c(C(F)(F)F)c3)c(F)c2)ccn1'), ('DB07410', 'O=P(O)(O)C(O)(Cc1cccc(-c2cccc3c2oc2ccccc23)c1)P(=O)(O)O'), ('DB01911', 'CCc1c(C)c2cc3c(CC)c(C)c(cc4nc(cc5[nH]c(cc1n2)c(C)c5CCC(=O)O)c(CCC(=O)O)c4C)n3C'), ('DB07093', 'O=C(O)Cn1ccc(=O)n(Cc2nc3cc(Cl)ccc3s2)c1=O'), ('DB04738', 'CCC1C(=O)NC(C(=O)O)C(C)C(=O)NC(C(C)C)C(=O)NC(CCC(C)CC(C)C(Cc2ccccc2)OC)C(C)C(=O)NC(C(=O)O)CCC(=O)N1C'), ('DB03745', 'O=P(O)(O)OCC(O)C(O)C(O)CO'), ('DB07055', 'O=C1c2ccccc2C(=O)N1CCc1nnn[nH]1'), ('DB00594', 'NC(N)=NC(=O)c1nc(Cl)c(N)nc1N'), ('DB03005', 'Nc1ccc2c(c1)c(-c1ccccc1)[n+](CCCCCCc1cnnn1CCNc1c3c(nc4ccccc14)CCCC3)c1cc(N)ccc21'), ('DB03010', 'CC(=Cc1csc(C)n1)C1CC2OC2(C)CCCC(C)C(O)C(C)C(=O)C(C)(C)C(O)CC(=O)O1'), ('DB09199', 'O=C1NC(=O)C(Cc2ccc3cc(OCc4ccccc4F)ccc3c2)S1'), ('DB03002', 'Oc1ccc(I)cc1'), ('DB07532', 'CCCCCC(=O)NC(CCO)C(=O)O'), ('DB01561', 'CC12CCC3C(CCC4CC(=O)CCC43C)C1CCC2=O'), ('DB01356', '[Li+]'), ('DB02122', 'O=C(CI)Nc1cccc(B(O)O)c1'), ('DB00114', 'Cc1ncc(COP(=O)(O)O)c(C=O)c1O'), ('DB09186', 'CNCCC(Oc1ccccc1OC)c1ccccc1'), ('DB07144', 'COc1cc(-c2c(C)cccc2C)cc(C(C)C#Cc2c(C)nc(N)nc2N)c1'), ('DB07324', 'Cc1cc(C#Cc2ccccc2CNn2ccoc2=O)nc(N)n1'), ('DB02930', 'Nc1ncnc2c1ncn2C1OC(COP(=O)(O)OP(=O)(O)OP(O)(O)=S)C(O)C1O'), ('DB07591', 'O=C(Nc1nccs1)C(=O)NC1CCCC1'), ('DB01833', 'N=C(N)NOCCC(N)C(=O)O'), ('DB03537', 'NC(CO)C1NC(Cc2ccc(O)cc2)C(=O)N1CC(=O)O'), ('DB02297', 'Nc1cncc(Cl)n1'), ('DB08495', 'N=C(N)c1ccc(CN2CCN(S(=O)(=O)c3cc4ccc(Cl)cc4s3)CC2=O)cc1'), ('DB01734', 'O=C(O)C(=O)Nc1cc2ccccc2cc1C(=O)O'), ('DB06972', 'N#CC1=C(c2cc(Cl)cc(Cl)c2)C(=O)N2CCCC12Cc1ccc(C#N)cc1'), ('DB02316', 'O=C(O)CCCCCn1c(C(=O)O)cc2cc(OCc3c(Cl)cccc3Cl)ccc21'), ('DB03314', 'NC(Cc1c[nH]c2ccc(F)cc12)C(=O)O'), ('DB04191', 'COC(=O)C(NC(=O)C(NC(=O)CCC(O)C(Cc1ccccc1)NC(=O)C(C)NC(=O)C(C)N)C(C)C)C(C)C'), ('DB03416', 'Cc1ncc(C[n+]2csc(CCOP(=O)([O-])O)c2C)c(N)n1'), ('DB09223', 'CCN1CCN(c2cc(-c3ccc(F)cc3)c3c(n2)CCCCCC3)CC1'), ('DB00400', 'COC1=CC(=O)CC(C)C12Oc1c(Cl)c(OC)cc(OC)c1C2=O'), ('DB00240', 'CC1CC2C3C(Cl)CC4=CC(=O)C=CC4(C)C3C(O)CC2(C)C1(O)C(=O)CO'), ('DB07640', 'CCCCCCCCCCC1=C(C)C(=O)C(OC)=C(OC)C1=O'), ('DB00263', 'Cc1noc(NS(=O)(=O)c2ccc(N)cc2)c1C'), ('DB02136', 'CC(=O)NC(CCC(=O)NC(CCC1=C(C(=O)O)NC(C(NC(=O)Cc2ccccc2)C(=O)O)SC1)C(=O)NC(C)C(=O)NC(C)C(=O)O)C(=O)O'), ('DB04582', 'CC(C)C1(C)N=C(c2nc3ccccc3cc2C(=O)O)NC1=O'), ('DB00311', 'CCOc1ccc2nc(S(N)(=O)=O)sc2c1'), ('DB06147', 'Nc1ccc(S(=O)(=O)Nc2nccs2)cc1'), ('DB05830', 'CC1CC2=CC(=O)CCC2C2CCC3(C)C(O)CCC3C12'), ('DB09293', '[Na]I'), ('DB02916', 'Nc1ncnc2c1ncn2C1OC(COS(N)(=O)=O)C(O)C1O'), ('DB03446', 'O=C(NCc1ccccc1)c1cccc(OC2OC(CO)C(O)C(O)C2O)c1'), ('DB08354', 'N#Cc1cnn2c(Nc3ccccc3)nc(NCc3ccc(Cl)cc3)nc12'), ('DB00472', 'CNCCC(Oc1ccc(C(F)(F)F)cc1)c1ccccc1'), ('DB09191', 'CNCCCC1(c2ccccc2)SC(C)(C)c2ccccc21'), ('DB07398', 'NC(=O)c1c(NC(=O)C2CC2)sc2c1CCCC2'), ('DB01151', 'CNCCCN1c2ccccc2CCc2ccccc21'), ('DB09134', 'O=C(NCC(O)CO)c1c(I)c(C(=O)NCC(O)CO)c(I)c(N(CCO)C(=O)CO)c1I'), ('DB07290', 'Cc1cc(S(=O)(=O)NC(C(=O)NO)C2CCOCC2)ccc1F'), ('DB03582', 'NCCCC(NC(=O)CCC(=O)O)C(=O)O'), ('DB07279', 'CCN(C(=O)c1cc(C)cc(OCC(C)Nc2ccncc2)c1)C(C)C'), ('DB03339', 'OCc1cccc(I)c1'), ('DB11575', 'C=CC1CC1(N=C(O)C1CC2CN1C(=O)C(C(C)(C)C)N=C(O)OC1CC1CCCCCc1nc3ccc(OC)cc3nc1O2)C(O)=NS(=O)(=O)C1CC1'), ('DB01433', 'CCC(OC(C)=O)C(CC(C)N(C)C)(c1ccccc1)c1ccccc1'), ('DB01215', 'Clc1ccc2c(c1)C(c1ccccc1)=NCc1nncn1-2'), ('DB00481', 'O=C(c1ccc(OCCN2CCCCC2)cc1)c1c(-c2ccc(O)cc2)sc2cc(O)ccc12'), ('DB07405', 'N#Cc1ccc(C(=O)N2CCC3(CC2)N=C(N)c2c(F)ccc(F)c2N3)cn1'), ('DB06825', 'CC(C)CC(NC(=O)C(Cc1c[nH]c2ccccc12)NC(=O)C(Cc1ccc(O)cc1)NC(=O)C(CO)NC(=O)C(Cc1c[nH]c2ccccc12)NC(=O)C(Cc1c[nH]cn1)NC(=O)C1CCC(=O)N1)C(=O)NC(CCCNC(=N)N)C(=O)N1CCCC1C(=O)NCC(N)=O'), ('DB07620', 'Cc1cc(S(=O)(=O)c2c([N+](=O)[O-])cc(C(F)(F)F)cc2[N+](=O)[O-])c(Cl)cc1Cl'), ('DB03724', 'CC(O)C(N)c1nccs1'), ('DB03025', 'C=CC(O)CCCCC'), ('DB07513', 'CNCc1cc(=O)oc2cc(OCc3cccc(Cl)c3)ccc12'), ('DB03328', 'O=[Mo](=O)S'), ('DB08261', 'COc1cc(C)c2ccc(O)c(C(=O)OC3C(O)C=CC3O)c2c1'), ('DB08614', 'CNS(=O)(=O)Nc1ccc(-c2ccccc2)n(CC(=O)NC(C(=O)C(F)(F)F)C(C)C)c1=O'), ('DB01138', 'O=C1C(CCS(=O)c2ccccc2)C(=O)N(c2ccccc2)N1c1ccccc1'), ('DB01819', 'C=C(OP(=O)(O)O)C(=O)O'), ('DB07889', 'Cc1nc2ccccn2c1-c1ccnc(Nc2ccc(OCC(O)CN(C)C)cc2)n1'), ('DB02455', 'CCN[S]=CN=C1C=CC(=C2c3ccc(O)cc3Oc3cc(O)ccc32)C(C(=O)O)=C1'), ('DB00514', 'COc1ccc2c(c1)C13CCCCC1C(C2)N(C)CC3'), ('DB02218', 'CC1OC(O)C(O)C(O)C1NC1C=C(CO)C(O)C(O)C1O'), ('DB04708', 'NC(=O)CC1CC(C2=CNC(Cc3ccccc3)(CC(O)C(Cc3ccccc3)NC(=O)OC3CCOC3)C2=O)c2ccccc21'), ('DB04284', 'C[N+]1(C)CCCC1C(=O)O'), ('DB03285', 'O=C(C=Cc1ccc(O)cc1)c1ccc(O)cc1O'), ('DB06912', 'O=CCCCC=C(C=O)CCC=C(C=O)CCC=O'), ('DB09282', 'CCOC(=O)[N-]c1c[n+](N2CCOCC2)no1'), ('DB03600', 'CCCCCCCCCC(=O)O'), ('DB06268', 'Cc1cc2c(cc1CC(=O)c1sccc1S(=O)(=O)Nc1onc(C)c1Cl)OCO2'), ('DB00470', 'CCCCCc1cc(O)c2c(c1)OC(C)(C)C1CCC(C)=CC21'), ('DB00812', 'CCCCC1C(=O)N(c2ccccc2)N(c2ccccc2)C1=O'), ('DB02616', 'NC(N)=Nc1nc(-c2ccc(CNc3nc4ccccc4[nH]3)s2)cs1'), ('DB09169', 'C=CCC1CN(CCc2ccccc2)CCC1N(C(=O)CC)c1ccccc1'), ('DB00050', 'CC(=O)NC(Cc1ccc2ccccc2c1)C(=O)NC(Cc1ccc(Cl)cc1)C(=O)NC(Cc1cccnc1)C(=O)NC(CO)C(=O)NC(Cc1ccc(O)cc1)C(=O)NC(CCCNC(N)=O)C(=O)NC(CC(C)C)C(=O)NC(CCCNC(=N)N)C(=O)N1CCCC1C(=O)NC(C)C(N)=O'), ('DB07717', 'CC12CCC(=O)CC1CCC1C2CCC2(CCOCc3cc(F)cc(F)c3)C(O)CCC12'), ('DB02095', 'O=C1Nc2ccccc2C1=O'), ('DB02124', 'NC1C(C(=O)O)=CC=CC1O'), ('DB08931', 'COC(=O)N(C)c1c(N)nc(-c2nn(Cc3ccccc3F)c3ncccc23)nc1N'), ('DB01759', 'O=c1cc(CO)occ1O'), ('DB08954', 'CC(C(O)c1ccc(O)cc1)N1CCC(Cc2ccccc2)CC1'), ('DB04166', 'Nc1ccccc1C(=O)O'), ('DB00343', 'COc1ccc(C2Sc3ccccc3N(CCN(C)C)C(=O)C2OC(C)=O)cc1'), ('DB00912', 'CCOc1cc(CC(=O)NC(CC(C)C)c2ccccc2N2CCCCC2)ccc1C(=O)O'), ('DB02753', 'OCC1OC(n2cnc3c(=[Se])[nH]cnc32)C(O)C1O'), ('DB04440', 'OCC1OC(n2c[nH+]c3cncnc32)C(O)C1O'), ('DB08542', 'Cc1ccc(O)c(O)c1CCC1C(=O)CCC2(C)C(=O)CCC12'), ('DB00601', 'CC(=O)NCC1CN(c2ccc(N3CCOCC3)c(F)c2)C(=O)O1'), ('DB08060', 'Nc1ccccc1C(=O)CCC(=O)O'), ('DB00976', 'CCC1OC(=O)C(C)C(=O)C(C)C(OC2OC(C)CC(N(C)C)C2O)C(C)(OC)CC(C)C(=O)C(C)C2N(CCCCn3cnc(-c4cccnc4)c3)C(=O)OC12C'), ('DB09144', 'CC(=O)OCC1OC(n2ccc(=O)[nH]c2=O)C(OC(C)=O)C1OC(C)=O'), ('DB03635', 'CCS(=O)(=O)O'), ('DB00779', 'CCn1cc(C(=O)O)c(=O)c2ccc(C)nc21'), ('DB00903', 'C=C(CC)C(=O)c1ccc(OCC(=O)O)c(Cl)c1Cl'), ('DB02152', 'COC(=O)C1(O)CC2OC1(C)n1c3ccccc3c3c4c(c5c6ccccc6n2c5c31)C(=O)NC4'), ('DB07567', 'CC1c2cc(O)ccc2OC(c2ccc(OCCN3CCCC3)cc2)C1c1ccc(O)cc1'), ('DB07772', 'COc1ccc(-c2ccc(S(=O)(=O)NC(C(C)C)P(=O)(O)O)cc2)cc1'), ('DB07255', 'Clc1ccc2c(c1Nc1ccnc(Nc3cccc(N4CCOCC4)c3)n1)OCO2'), ('DB03154', 'O=P(O)(O)C(F)(F)c1ccc2ccc(C(F)(F)P(=O)(O)O)cc2c1'), ('DB09308', 'CCC1OC(=O)C(C)(F)C(=O)C(C)C(OC2OC(C)CC(N(C)C)C2O)C(C)(OC)CC(C)C(=O)C(C)C2N(CCCCn3cc(-c4cccc(N)c4)nn3)C(=O)OC12C'), ('DB01949', 'CNC(=O)C(N)C(C)(C)C'), ('DB08682', 'CC1=C(C(=O)Nc2ccc(Cl)c(C(=O)OC(C)C)c2)SCCO1'), ('DB03934', 'C=CC1=C(C)C2=[N+]3C1=Cc1c(C)c(C=C)c4n1[Zn]31n3c(c(C)c(CCC(=O)O)c3=CC3=[N+]1C(=C4)C(C)=C3CCC(=O)O)=C2'), ('DB06212', 'Cc1ccccc1C(=O)Nc1ccc(C(=O)N2CCCC(O)c3cc(Cl)ccc32)c(C)c1'), ('DB08874', 'CCc1c(Cl)c(O)c(Cl)c(O)c1C(=O)OC1C(C)OC(OCC2=CC=CCC(O)C(C)=CC(CC)C(OC3OC(C)(C)C(OC(=O)C(C)C)C(O)C3O)C(C)=CC(C)=CCC(C(C)O)OC2=O)C(OC)C1O'), ('DB04226', 'CC1OC(OC2C(CO)OC(OC3C(CO)OC(O)C(O)C3O)C(O)C2O)C(O)C(O)C1NC1CC(CO)C(O)C(O)C1O'), ('DB00789', 'CNCC(O)C(O)C(O)C(O)CO.CNCC(O)C(O)C(O)C(O)CO.O=C([O-])CN(CCN(CC(=O)[O-])CC(=O)O)CCN(CC(=O)[O-])CC(=O)O.[Gd+3]'), ('DB04777', 'O=[N+]([O-])c1ccc(C2CO2)cc1'), ('DB08424', 'Nc1c(C(=O)c2cccc(OCC(O)CO)c2)cnn1-c1ccc(F)cc1'), ('DB05025', '[O-][n+]1cccc(C(Cl)=NOCC(O)CN2CCCCC2)c1'), ('DB08329', 'NS(=O)(=O)c1ccc(N2CCCCS2(=O)=O)cc1'), ('DB01792', 'Nc1ncnc2c1ncn2C1OC(CO)C(OP(=O)(O)OCC2OC(n3ccc(=O)[nH]c3=O)C(O)C2OP(=O)(O)O)C1O'), ('DB02818', 'NC(Cn1cc(I)c(=O)[nH]c1=O)C(=O)O'), ('DB06716', 'CC(C)c1cccc(C(C)C)c1OCOP(=O)(O)O'), ('DB01100', 'O=c1[nH]c2ccccc2n1C1CCN(CCCC(c2ccc(F)cc2)c2ccc(F)cc2)CC1'), ('DB04855', 'CCCCc1oc2ccc(NS(C)(=O)=O)cc2c1C(=O)c1ccc(OCCCN(CCCC)CCCC)cc1'), ('DB08287', 'COc1ccc(S(=O)(=O)CC2CCCCC2C(=O)NCCN)cc1'), ('DB07067', 'CC(c1nc(-c2ccc(S(C)(=O)=O)cc2)no1)C(N)C(=O)N1CCCC1'), ('DB05123', 'CC(C)(CCCCOCCCCC(C)(C)C(=O)O)C(=O)O'), ('DB02491', 'CC(C)(N)c1ccc(-c2nc(Nc3ccc(CCN4CCOCC4)cc3)ncc2Cl)cc1'), ('DB02723', 'NC(=NO)N1CCC(CNC(=O)C2CCC3CN(S(=O)(=O)Cc4ccccc4)CC(=O)N32)CC1'), ('DB00272', 'NCCc1ccn[nH]1'), ('DB03274', 'CC1OC(n2ccc(=O)[nH]c2=O)CC1O'), ('DB01440', 'O=C([O-])CCCO'), ('DB04530', 'NC(CSSCCO)C(=O)O'), ('DB00768', 'CN(C)CCC=C1c2ccccc2COc2ccc(CC(=O)O)cc21'), ('DB11619', 'C#CC1(O)CCC2C3CCC4=CC(=O)CCC4=C3C=CC21CC'), ('DB02981', 'CCCCC(NCc1c(COP(=O)(O)O)cnc(C)c1O)C(=O)O'), ('DB06950', 'O=C(NN=Cc1cc(Br)c(O)c(Br)c1O)c1ccc(Cl)cc1'), ('DB00159', 'CCC=CCC=CCC=CCC=CCC=CCCCC(=O)O'), ('DB05087', 'CC(=O)C1CCC2C3CCC4CC(C)(O)CCC4(C)C3CCC12C'), ('DB04209', 'Cc1cc(N)c2ccccc2[n+]1CCCCCCCCCC[n+]1c(C)cc(N)c2ccccc21'), ('DB06876', 'CN1CCN(c2ccc(-c3cnc4[nH]cc(NC(=O)c5cccnc5)c4c3)cc2)CC1'), ('DB08798', 'Cc1nc(NS(=O)(=O)c2ccc(N)cc2)oc1C'), ('DB04197', 'NC(=NCCC[NH3+])NO'), ('DB08079', 'COc1ccc2c(OCc3nnc4ccc(-c5ccccc5)nn34)ccnc2c1'), ('DB03586', '[O-]C1OC(F)C(O)C(O)C1O'), ('DB01640', 'CC1CC(=O)NN=C1c1ccc(NC2=C(Cc3cccc(I)c3)C(=O)CCC2)cc1'), ('DB04480', 'Cc1cccc(-c2nn3c(c2-c2ccc(F)cc2)CCC3)n1'), ('DB05234', 'CC1CCC(C(O)C(F)(F)F)N1c1ccc2[nH]c(=O)cc(C(F)(F)F)c2c1'), ('DB01689', 'Cc1ccccc1CC(=O)Nc1cc(C)c(S(=O)(=O)NCC(=O)O)c(C)c1'), ('DB00580', 'Cc1onc(-c2ccccc2)c1-c1ccc(S(N)(=O)=O)cc1'), ('DB05738', 'Cl.Cl.NC(=O)c1cnc2n1CCc1ccccc1C21CCNCC1'), ('DB05494', 'Nc1ccn(C2OC(CO)C(O)C2O)c(=O)n1'), ('DB07338', 'O=C(O)c1cc(Oc2ccc(C(F)(F)F)cc2Cl)ccc1[N+](=O)[O-]'), ('DB00671', 'C=CC1=C(C(=O)O)N2C(=O)C(NC(=O)C(=NOCC(=O)O)c3csc(N)n3)C2SC1'), ('DB08993', 'N=C(O)NC=C1N=C(O)C(CO)N=C(O)C(CO)N=C(O)C(N=C(O)CC(N)C(O)CCN)CN=C(O)C(C2CCNC(=N)N2)N=C1O'), ('DB01067', 'Cc1cnc(C(=O)NCCc2ccc(S(=O)(=O)NC(=O)NC3CCCCC3)cc2)cn1'), ('DB02357', 'COC1OC(CO)C(O)C(OC2OC(CO)C(O)C(O)C2O)C1O'), ('DB00646', 'CC1C=CC=CCCC=CC=CC=CC=CC(OC2OC(C)C(O)C(N)C2O)CC(O)C(C(=O)O)C(O)CC(=O)CC(O)C(O)CCC(O)CC(O)CC(O)CC(=O)OC(C)C(C)C1O'), ('DB06749', 'CC(C)=CCCC(C)(OC1OC(COC2OC(CO)C(O)C(O)C2O)C(O)C(O)C1O)C1CCC2(C)C1C(O)CC1C3C(C)CC(OC4OC(CO)C(O)C(O)C4OC4OC(CO)C(O)C(O)C4O)C(C)(C)C3CCC12C'), ('DB00415', 'CC1(C)SC2C(NC(=O)C(N)c3ccccc3)C(=O)N2C1C(=O)O'), ('DB07242', 'CN1CCC2(CC1)NC(=O)c1c(c3ccc(Cl)c(Cl)c3n1C)C2C#N'), ('DB03721', 'CC(=O)NC1C(O)CC(O)(C(=O)O)OC1C(O)C(O)CO'), ('DB03560', 'O=Cc1ccc(O)cc1'), ('DB01627', 'CCCC1CC(C(=O)NC(C(C)O)C2OC(SC)C(O)C(O)C2O)N(C)C1'), ('DB01580', 'C=CCOc1ccccc1OCC(O)CNC(C)C'), ('DB02762', 'N#Cc1ccc2cccc(OP(=O)(O)O)c2n1'), ('DB00857', 'CN(CC=CC#CC(C)(C)C)Cc1cccc2ccccc12'), ('DB03889', 'NC(CCC(=O)NC(CSC(O)N(O)c1ccc(Br)cc1)C(=O)NCC(=O)O)C(=O)O'), ('DB04826', 'CN1CCC(N(Cc2cccs2)c2ccccc2)CC1'), ('DB00519', 'CCOC(=O)C(CCc1ccccc1)NC(C)C(=O)N1C(C(=O)O)CC2CCCCC21'), ('DB07537', 'Cc1ccc(C(=O)NCCC2CCCC2)cc1C(=O)Nc1ccc(N)nc1'), ('DB07440', 'CC(C)(C)c1ccc(S(=O)(=O)O)cc1'), ('DB01330', 'COC1(NC(=O)C2SC(=C(C(N)=O)C(=O)O)S2)C(=O)N2C(C(=O)O)=C(CSc3nnnn3C)CSC21'), ('DB07718', 'O=C(O)C(=O)Cc1ccc(O)cc1'), ('DB05015', 'O=C(C=Cc1cccc(S(=O)(=O)Nc2ccccc2)c1)NO'), ('DB07735', 'COc1cccc(OC)c1CN1CCC(NC(=O)CCCS)CC1'), ('DB07597', 'NC1CCc2ccccc2C1O'), ('DB07222', 'Cc1ccc(Cl)cc1NC(=O)C1CC(=O)N(C2CCCCC2)C1'), ('DB02319', 'NC(=O)C1=CN(C2OC(COP(=O)(O)OP(=O)(O)OCC3OC(n4cnc5c(N)ncnc54)C(OP(=O)(O)O)C3O)C(O)C2O)C(O)C(O)C1'), ('DB08697', 'Cc1cc(C(=O)Nc2cc(Cl)cc(N3CCCCC3)c2)cc(C)c1OCCN'), ('DB07981', 'CCC(CO)NC(=O)Cc1c(C)n(C(=O)c2ccc(Cl)cc2)c2ccc(OC)cc12'), ('DB03780', 'Nc1nc2ccccc2c(=O)[nH]1'), ('DB02432', 'COC(=O)c1cc(CC(NC(C)=O)C(=O)NC2CCCCN(Cc3ccc(-c4ccccc4)cc3)C2=O)ccc1C(F)(C(=O)O)C(=O)O'), ('DB07898', 'CCCC(=O)OCC(COP(O)(O)(O)O)OC(=O)CCC'), ('DB03359', 'C[N+](C)(C)c1cccc(C(O)(O)C(F)(F)F)c1'), ('DB03326', 'Nc1ccn(C2CC(OP(=O)(O)OCC3OC(n4cnc5c(=O)[nH]c(N)nc54)CC3O)C(CO)O2)c(=O)n1'), ('DB00627', 'O=C(O)c1cccnc1'), ('DB02172', 'OCC1NC(CO)C(O)C1O'), ('DB00711', 'CCN(CC)C(=O)N1CCN(C)CC1'), ('DB04144', 'COc1ccc(C2=NC(c3ccc(Cl)cc3)C(c3ccc(Cl)cc3)N2C(=O)N2CCNCC2)c(OC(C)C)c1'), ('DB03432', 'CC(CN)C(=O)[O-]'), ('DB04828', 'Cc1cc(CC(=O)O)n(C)c1C(=O)c1ccc(Cl)cc1'), ('DB06723', '[AlH3+3].[OH-].[OH-].[OH-]'), ('DB02680', 'O=[N+]([O-])c1cccc([N+](=O)[O-])c1'), ('DB03176', 'CC(C)c1cc(Oc2c(Cl)cc(CC(=O)O)cc2Cl)ccc1O'), ('DB07966', 'N#CCc1ccc(Nc2nc(Nc3cc(C4CC4)[nH]n3)c3ccccc3n2)cc1'), ('DB08781', 'NCC1CN(c2c(Br)cnc3[nH]ncc23)CCO1'), ('DB02544', 'C=CCN(C)CCCCCCOc1ccc2c(-c3ccc(Br)cc3)nsc2c1'), ('DB07906', 'O=[N+]([O-])c1ccc2c(c1)CNC(CO)C2'), ('DB04205', 'Cc1cn(C2CC(OP(=O)(O)O)C(COP(=O)(O)O)O2)c(=O)[nH]c1=O'), ('DB00838', 'CC1CC2C3CC(F)C4=CC(=O)C=CC4(C)C3(Cl)C(O)CC2(C)C1C(=O)CO'), ('DB00527', 'CCCCOc1cc(C(=O)NCCN(CC)CC)c2ccccc2n1'), ('DB07133', 'Cc1cccc(CNC(=O)C2CCCN2C(=O)C(N)Cc2ccccc2)c1'), ('DB04556', 'CC(c1cccc(O)c1)N(C)C'), ('DB04071', 'NC(=O)c1cccc(C2OC(COP(=O)([O-])OP(=O)(O)OCC3OC(n4cnc5c(N)ncnc54)C(O)C3O)C(O)C2O)[nH+]1'), ('DB01303', 'C[N+](C)(C)CCO.Cn1c(=O)c2[n-]cnc2n(C)c1=O'), ('DB08700', 'CC(Oc1cc(-c2cnn(C3CCNCC3)c2)cnc1N)c1c(Cl)ccc(F)c1Cl'), ('DB07123', 'Cc1ccc(C(=O)N2CCC(Cc3ccccc3)CC2)cc1'), ('DB01791', 'COc1ccc(C(=O)Nc2c(Cl)cncc2Cl)cc1OC1CCCC1'), ('DB07923', 'CCCCCCCCOC1OC(CO)C(O)C(O)C1O'), ('DB08303', 'Cc1cc2c(cc1S(=O)(=O)N1CCN(C)CC1)S(=O)(=O)NC(C1CCCC1)N2'), ('DB07377', 'CC(C)SCCC(N)C(O)C(=O)NNC(=O)c1cccc(Cl)c1'), ('DB03415', 'CCCCCSCC(=O)SCCNC(=O)CCNC(=O)C(O)C(C)(C)COP(=O)(O)OP(=O)(O)OCC1OC(n2cnc3c(N)ncnc32)C(O)C1OP(=O)(O)O'), ('DB03158', 'O=P(O)(O)OC1C(O)C(O)C(OP(=O)(O)O)C(O)C1O'), ('DB08476', 'NC1CCCCCCCCCCNC1=O'), ('DB03870', 'OCC1OC(OC2C(O)COC(O)C2O)C(O)C1O'), ('DB00921', 'COC12CCC3(CC1C(C)(O)C(C)(C)C)C1Cc4ccc(O)c5c4C3(CCN1CC1CC1)C2O5'), ('DB00584', 'CCOC(=O)C(CCc1ccccc1)NC(C)C(=O)N1CCCC1C(=O)O'), ('DB06471', 'CCCC1C(=O)c2nc(C3CC4CC3C3OC43)[nH]c2N(CCC)C1=O'), ('DB08042', 'COc1cc(Nc2nccc(N(C)c3ccc4c(C)n[nH]c4c3)n2)cc(OC)c1OC'), ('DB09180', 'CCC(=O)N(c1ccccc1)C1CCN(CCc2cccs2)CC1'), ('DB04711', 'O=C(CCCCC(=O)Nc1c(I)cc(I)c(C(=O)O)c1I)Nc1c(I)cc(I)c(C(=O)O)c1I'), ('DB08871', 'C=C1CC2CCC34CC5OC6C(OC7CCC(CC(=O)CC8C(CC9OC(CCC1O2)CC(C)C9=C)OC(CC(O)CN)C8OC)OC7C6O3)C5O4'), ('DB08151', 'OCC1OC2(CC(c3ccccc3)=NO2)C(O)C(O)C1O'), ('DB07653', 'O=C(O)CNc1ncnc2oc(-c3ccccc3)c(-c3ccccc3)c12'), ('DB08907', 'Cc1ccc(C2OC(CO)C(O)C(O)C2O)cc1Cc1ccc(-c2ccc(F)cc2)s1'), ('DB02142', 'Cc1ncc(COP(=O)(O)O)c(CN)c1O'), ('DB04487', 'CNC(CC(C)C)C(=O)O'), ('DB03888', 'C=CCN(C)CCCCCCOc1ccc2c(-c3ccc(Br)cc3)nn(C)c2c1'), ('DB01066', 'CON=C(C(=O)NC1C(=O)N2C(C(=O)O)=C(C=Cc3scnc3C)CSC12)c1csc(N)n1'), ('DB02128', 'O=C(NC(Cc1ccccc1)C(=O)NC(CCc1ccccc1)C(=O)CO)OCc1cccnc1'), ('DB04188', 'C=C=CCNCCCCNCC=C=C'), ('DB07101', 'O=C(NOCC(O)CO)c1ccc(F)c(F)c1Nc1ccc(I)cc1F'), ('DB02909', 'O=C(O)c1ccc(-c2ccccc2Cl)o1'), ('DB05107', 'CC12CCC3C(CCC4CC(O)CCC43C)C1CC(Br)C2=O'), ('DB06931', 'CCCCCCCCC(O)(P(=O)(O)O)P(=O)(O)O'), ('DB00245', 'CN1C2CCC1CC(OC(c1ccccc1)c1ccccc1)C2'), ('DB07942', 'Fc1ccc(-c2c[nH]nc2-c2ccnc(F)c2)cc1'), ('DB00773', 'COc1cc(C2c3cc4c(cc3C(OC3OC5COC(C)OC5C(O)C3O)C3COC(=O)C23)OCO4)cc(OC)c1O'), ('DB08101', 'Oc1c(Br)cc(C=Cc2ccccc2)cc1Br'), ('DB07004', 'CCCCC#Cc1ccc(C(=O)NNC(=S)NC)o1'), ('DB03823', 'Oc1cc(O)c2c(c1)OC(c1cc(O)c(O)c(O)c1)C(O)C2'), ('DB04409', 'O=S(=O)([O-])c1ccc2c(S(=O)(=O)[O-])cc(S(=O)(=O)[O-])cc2c1'), ('DB01788', 'C=C1C=NC(C)=NC1=N'), ('DB01325', 'CCC1NC(=O)c2cc(S(N)(=O)=O)c(Cl)cc2N1'), ('DB09249', 'CCCCCCC(C)NN'), ('DB02624', 'NC1CCOC1=O'), ('DB08677', 'CC(C)c1c[nH]c(=NC(=O)Cc2cccnc2)s1'), ('DB07958', 'CCCc1cc(CC(=O)O)c2[nH]c(CC(N)=O)cc2c1'), ('DB01496', 'O=C1NC(=S)NC(=O)C1Cc1ccc(-c2ccccc2C(F)(F)F)o1'), ('DB02876', 'NC(=O)C=CC(C[S](=O)=O)=C(Nc1c(C=O)cc2ccccn12)C(=O)O'), ('DB09323', 'CC1(C)SC2C(NC(=O)Cc3ccccc3)C(=O)N2C1C(=O)[O-].CC1(C)SC2C(NC(=O)Cc3ccccc3)C(=O)N2C1C(=O)[O-].c1ccc(C[NH2+]CC[NH2+]Cc2ccccc2)cc1'), ('DB07929', 'Cc1cc(C)cc(C(=O)N(NC(=O)c2ccc3c(c2C)OCCO3)C(C)(C)C)c1'), ('DB02179', 'O=C(O)c1ccccc1Nc1ccccc1C(F)(F)F'), ('DB00676', 'O=C(OCc1ccccc1)c1ccccc1'), ('DB04295', 'O=C(NC(=O)c1ccccc1)NC1OC(CO)C(O)C(O)C1O'), ('DB01022', 'CC(=CCC1=C(C)C(=O)c2ccccc2C1=O)CCCC(C)CCCC(C)CCCC(C)C'), ('DB04721', 'CN1CCn2c1nc1c(Br)c(Br)c(Br)c(Br)c12'), ('DB01999', '[O-]S(O)(O)c1ccc(-c2c3ccc(n3)c(-c3ccc(S([O-])(O)O)cc3)c3ccc([nH]3)c(-c3ccc(S([O-])(O)O)cc3)c3ccc([nH]3)c(-c3ccc(S([O-])(O)O)cc3)c3ccc2n3)cc1'), ('DB02106', 'Oc1ccc(Oc2c(Br)cc(CC(O)O)cc2Br)cc1C(O)NCCc1ccccc1'), ('DB08531', 'Clc1cccc(-c2cc(NCc3ccncc3)n3nccc3n2)c1Cl'), ('DB04675', 'COC(Cc1ccccc1)C(C)CC(C)CCC1NC(=O)C(C)NC(=O)C(C)C(C(=O)O)NC(=O)C(CC(C)C)NC(=O)C(C)NC(=O)C(C)N(C)C(=O)CCC(C(=O)O)=NC(=O)C1C'), ('DB02760', 'O=P(O)(O)OCC(O)C(O)C(O)C(O)COP(=O)(O)O'), ('DB03706', 'NC(CCC(=O)NC(CSC(CO)COc1ccc([N+](=O)[O-])cc1)C(=O)NCC(=O)O)C(=O)O'), ('DB03033', 'COc1ccc([SH](=O)=O)cc1'), ('DB07439', 'O=c1[nH]c(=O)n(COCCO)c(O)c1Cc1cccc(OCc2ccccc2)c1'), ('DB09250', 'CC(Cc1ccccc1)NN'), ('DB00729', 'COS(=O)(=O)[O-].C[N+]1(C)CCC(=C(c2ccccc2)c2ccccc2)CC1'), ('DB01644', 'O=C(O)CCC1c2ccc(O)cc2Oc2cc(O)ccc21'), ('DB07036', 'COCc1cc(O)cc2c1OC(c1ccc(O)cc1)C1CC(F)(F)CC21'), ('DB00744', 'CC(c1cc2ccccc2s1)N(O)C(N)=O'), ('DB02717', 'OCC1OC(OC2C(CO)OC(OC3C(CO)OC(OC4C(CO)OC(O)(O)C(O)C4O)C(O)C3O)C(O)C2O)C(O)C(O)C1O'), ('DB04351', 'O=C([O-])C=C(CC(=O)[O-])C(=O)[O-]'), ('DB08063', 'COc1ccc(NC2=C(c3ccccc3)C(=O)N(Cc3ccccc3)C2=O)cc1'), ('DB00521', 'CC(C)(C)NCC(O)COc1cccc2c1CCC(=O)N2'), ('DB00678', 'CCCCc1nc(Cl)c(CO)n1Cc1ccc(-c2ccccc2-c2nn[nH]n2)cc1'), ('DB08356', 'COc1ccc(-c2c(-c3ccc(O)cc3O)n[nH]c2C)cc1'), ('DB03361', 'CC1=C(CCOP(=O)(O)OP(=O)(O)O)SC2(C(C)O)Nc3nc(C)ncc3CN12'), ('DB08399', 'Oc1cc(O)cc(C=Cc2ccc(O)c(O)c2)c1'), ('DB07177', 'CCCCCC(=O)C=CC1C(O)CC(=O)C1CC=CCCCC(=O)O'), ('DB02307', 'NC(=O)C(CC(=O)O)NC(=O)C(Cc1ccccc1)NC(CCc1ccccc1)C(=O)O'), ('DB08296', 'O=C(O)CCCCP(=O)([O-])Oc1ccc([N+](=O)[O-])cc1'), ('DB02801', 'O=C(O)C1(O)C=CC(O)C(O)C1'), ('DB00583', 'C[N+](C)(C)CC(O)CC(=O)[O-]'), ('DB03660', 'NC(Cc1ccc(I)cc1)C(=O)O'), ('DB09304', 'CN1CCC2=C(C1)c1ccccc1Cc1ccccc12'), ('DB01653', 'CC(O)C(N)C1=NC(=Cc2c[nH]c3ccccc23)C(=O)N1CCO'), ('DB04377', 'CC(O)(CC(=O)O)CC(=O)O'), ('DB01548', 'COC12CCC3(CC1C(C)(C)O)C1Cc4ccc(O)c5c4C3(CCN1CC1CC1)C2O5'), ('DB11574', 'COC(=O)NC(C(=O)N1CCCC1c1nc(-c2ccc3c(c2)OC(c2ccccc2)n2c-3cc3cc(-c4c[nH]c(C5CCCN5C(=O)C(NC(=O)OC)C(C)C)n4)ccc32)c[nH]1)C(C)C'), ('DB02221', 'NS(=O)(=O)c1ccc(C(=O)NCc2c(F)cc(F)cc2F)cc1'), ('DB08310', 'CCCCC(CN(O)C=O)C(=O)N1CCCC1c1nc2ccccc2o1'), ('DB02306', 'CCCCCC=CCC=CCCCCCCCC(=O)OC(COC(=O)CCCCCCCCCCCCCCC)COP(=O)([O-])OCC[N+](C)(C)C'), ('DB02651', 'O=P(O)(O)C(F)(F)c1ccc(CC(Cc2ccc(C(F)(F)P(=O)(O)O)cc2)(c2ccc(F)c(F)c2)n2nnc3ccccc32)cc1'), ('DB01484', 'COc1cc(CC(C)N)c(OC)cc1Br'), ('DB00630', 'NCCCC(O)(P(=O)(O)O)P(=O)(O)O'), ('DB07866', 'CCCC1(C)SC(NC2CCCCCCC2)=NC1=O'), ('DB09479', '[Cl-].[Rb+]'), ('DB08684', 'CCCCCCCCCCOC(=O)S'), ('DB07825', 'CC(=O)c1ccc(N2CC(C(=O)O)CC2=O)cc1'), ('DB07896', 'O=C(O)C(O)c1ccc(O)cc1'), ('DB07094', 'NCc1ccc(-c2cccs2)s1'), ('DB03322', 'CC(C)NCC(O)COc1cccc2ccccc12'), ('DB02871', 'CCCCC1CCS(=O)C1'), ('DB03963', 'C[As](C)SCC(N)C(=O)O'), ('DB07275', 'CC(C)CCn1c(=O)c(C2=NS(=O)(=O)c3ccccc3N2)c(O)c2ccccc21'), ('DB03255', 'Oc1ccccc1'), ('DB00191', 'CC(C)(N)Cc1ccccc1'), ('DB07882', 'CC12CCC3C(C)(CCC[N+]3([O-])CC(=O)Nc3ccc(NC(=O)CCCC(=O)O)cc3)C1O2'), ('DB03258', 'Nc1ccn(C2CC(O)C(COP(=O)(O)OP(=O)(O)OP(=O)(O)O)O2)c(=O)n1'), ('DB05034', 'CCC(C)C1NC(=O)C(CCCNC(=N)N)NC(=O)C(CC(=O)O)NC(=O)C(CCSC)NC(=O)C(CCCNC(=N)N)NC(=O)CNC(=O)CNC(=O)C(Cc2ccccc2)NC(=O)C(NC(=O)C(CO)NC(=O)C(CO)NC(=O)C(CCCNC(=N)N)NC(=O)C(CCCNC(=N)N)NC(=O)C(CC(C)C)NC(=O)C(CO)NC(=O)C(CCCNC(=N)N)NC(=O)C2CCCN2C(=O)C(C)NC(=O)C(N)C(C)O)CSSCC(C(=O)NC(CC(N)=O)C(=O)NC(CO)C(=O)NC(Cc2ccccc2)C(=O)NC(CCCNC(=N)N)C(=O)NC(Cc2ccc(O)cc2)C(=O)O)NC(=O)CNC(=O)C(CC(C)C)NC(=O)CNC(=O)C(CO)NC(=O)C(CCC(N)=O)NC(=O)C(C)NC(=O)CNC1=O'), ('DB11582', 'COc1c(OC2OC(CO)C(O)C(O)C2O)cc2c(c1OC)-c1ccc(SC)c(=O)cc1C(NC(C)=O)CC2'), ('DB03044', 'Cc1ccc(-n2nc(C(C)(C)C)cc2NC(=O)Nc2ccc(OCCN3CCOCC3)c3ccccc23)cc1'), ('DB03906', 'C=CC1=C(C)C2=[N+]3C1=Cc1c(C)c(CCC(=O)O)c4n1[Fe]31n3c(c(C)c(C=C)c3=C2)=CC2=[N+]1C(=C4c1ccccc1)C(CCC(=O)O)=C2C'), ('DB02395', 'Cn1c(CCCO)c(CO)c2c1C(=O)C=C(N1CC1)C2=O'), ('DB02986', 'NS(=O)(=O)c1ccc(S(=O)(=O)NCc2cccs2)s1'), ('DB01828', 'CN'), ('DB07207', 'N=C(N)c1ccc2[nH]c(-c3n[nH]c(-c4ccccc4)c3O)nc2c1'), ('DB06938', 'CNC(=O)c1cc(Oc2ccc3nc(Nc4ccc(Cl)c(C(F)(F)F)c4)[nH]c3c2)ccn1'), ('DB03456', 'CC(C)CC(NC(=O)OCc1ccccc1)C(=O)NC1CCN(C#N)C1'), ('DB08134', 'NS(=O)(=O)c1ccc(Nc2cncc(Cl)n2)cc1'), ('DB03552', 'NC(Cc1cccc(O)c1)C(=O)O'), ('DB01837', 'CC(=O)OCC(N)C(=O)O'), ('DB07589', 'NCC1(NC(=O)C(CS(=O)(=O)Cc2ccccc2)NC(c2ccc(O)cc2)C(F)(F)F)CC1'), ('DB02079', 'NOCC(=O)O'), ('DB07952', 'O=C(O)CNC(=O)Cc1c[nH]c2ccccc12'), ('DB04103', 'C[n+]1c(N)cc[nH]c1=O'), ('DB00382', 'Nc1c2c(nc3ccccc13)CCCC2'), ('DB02228', 'OCC1OC(O)C(F)C(O)C1O'), ('DB04292', 'CC(C)NCc1ccc(CC(N)C(=O)O)cc1'), ('DB01423', 'CC(SC(=O)c1cccs1)C(=O)NCC(=O)O'), ('DB06893', 'CCCCCCCCCCS(=O)(=O)O'), ('DB07415', 'COc1ccc(C(Cc2cc([N+](=O)[O-])ccc2OC)c2c[nH]c(N)n2)cc1F'), ('DB00941', 'C[N+](C)(CCCCCC[N+](C)(C)C1c2ccccc2-c2ccccc21)C1c2ccccc2-c2ccccc21'), ('DB00178', 'CCOC(=O)C(CCc1ccccc1)NC(C)C(=O)N1C(C(=O)O)CC2CCCC21'), ('DB03664', 'Nc1ncnc2c1ncn2C1OC(COP(=O)(O)OP(=O)(O)OP(=O)(O)OP(=O)(O)OP(=O)(O)OCC2OC(n3ccc(=O)[nH]c3=O)C(O)C2O)C(O)C1O'), ('DB01566', 'CCNC(C)Cc1ccc2c(c1)OCO2'), ('DB01986', 'Cc1c(N)cccc1F'), ('DB00444', 'COc1cc(C2c3cc4c(cc3C(OC3OC5COC(c6cccs6)OC5C(O)C3O)C3COC(=O)C23)OCO4)cc(OC)c1O'), ('DB03789', 'Cc1[nH+]ccn1C'), ('DB06255', 'O=P(O)(O)C(NC1CCCCCC1)P(=O)(O)O'), ('DB04933', 'CCCCCCC=CCCCCCCCCCC(O)=NC1C(OCC2OC(OP(=O)(O)O)C(N=C(O)CC(=O)CCCCCCCCCCC)C(OCCCCCCCCCC)C2O)OC(COC)C(OP(=O)(O)O)C1OCCC(CCCCCCC)OC'), ('DB00835', 'CN(C)CCC(c1ccc(Br)cc1)c1ccccn1'), ('DB01665', 'NC1N=c2ccccc2=N1'), ('DB03206', 'OCC1NCC(O)C(O)C1O'), ('DB07084', 'CC(=O)Nc1ccc2c(c1)OCCOCCOc1ccccc1OCCOCCO2'), ('DB09084', 'CN(C)CCCOc1nn(Cc2ccccc2)c2ccccc12'), ('DB03120', 'Cc1ccc(S(=O)(=O)O)cc1'), ('DB07223', 'CCCNC(=O)C1OC1C(=O)NC(C(=O)N1CCCC1C(=O)OC)C(C)CC'), ('DB03307', 'Nc1cc(Nc2ccc(S(N)(=O)=O)cc2)ncn1'), ('DB09168', 'CCC(=O)N(c1ccccc1)C1(c2ccccc2)CCN(CCc2ccccc2)CC1'), ('DB03643', 'NC(=[NH2+])c1ccc2[nH]c(-c3ccccc3[O-])nc2c1'), ('DB02454', 'Nc1ncnc2c1ncn2C1OCC(OP(=O)(O)O)C1O'), ('DB01884', 'CC(C)C(N)C(=O)N1CCCC1'), ('DB07676', 'O=C1N=c2ccccc2=C1c1[nH]c2ccccc2c1NOCCC(O)CO'), ('DB02326', 'CC(C)CC(C(=O)O)C(=O)NO'), ('DB04934', 'COC1C=COC2(C)Oc3c(C)c(O)c4c(=O)c(c5oc6cc(N7CCN(CC(C)C)CC7)cc(O)c6nc-5c4c3C2=O)NC(=O)C(C)=CC=CC(C)C(O)C(C)C(O)C(C)C(OC(C)=O)C1C'), ('DB03874', 'CC(C)=CCCC(C)=CCCC(C)=CCCC=C(C)CCC=C(C)CCCN(C)C'), ('DB08171', 'O=C(O)CCCCCCCCCCS'), ('DB00858', 'CC1CC2(C)C(CCC3C4CCC(O)C4(C)CCC32)CC1=O'), ('DB07769', 'CC(O)(COc1ccc(F)cc1)C(=O)Nc1ccc([N+](=O)[O-])c(C(F)(F)F)c1'), ('DB03212', 'O=C([O-])C(O)CC(O)C(O)C(=O)[O-]'), ('DB00377', 'O=C1c2cccc3c2C(CCC3)CN1C1CN2CCC1CC2'), ('DB04827', 'CCOC(N)=O'), ('DB00286', 'CC12CCC3c4ccc(OS(=O)(=O)[O-])cc4CCC3C1CCC2=O.[Na+]'), ('DB06963', 'Cc1nn(-c2cccc(CCC(N)=O)c2)c2cc(NC(C)c3ccccc3)ncc12'), ('DB02376', 'OCC1NC(=NO)C(O)C(O)C1O'), ('DB08460', 'N#Cc1cc(Cl)cc(Oc2cc(OCc3n[nH]c4nc(N)ccc34)ccc2Cl)c1'), ('DB02609', 'NC(C(=O)O)C(O)COP(=O)(O)O'), ('DB00675', 'CCC(=C(c1ccccc1)c1ccc(OCCN(C)C)cc1)c1ccccc1'), ('DB04132', 'CCCCCCSCC(NC(=O)CCC([NH3+])C(=O)O)C(=O)NCC(=O)O'), ('DB02855', 'CCCNC(=O)C(O)CC(=O)NC(C(=O)N1CCCC1C(=O)O)C(C)CC'), ('DB01632', 'O=P(O)(O)OCC1OC(OP(=O)(O)OP(=O)(O)O)C(O)C1O'), ('DB04944', 'NC(=O)c1ncn(C2OC(CO)C(O)C2O)c1N'), ('DB08364', 'CCCCCCCCCC(=O)CN=Cc1c(CO[PH](O)(O)O)cnc(C)c1O'), ('DB04636', 'CC(C)(C)OC(=O)C(N)CCC(N)=O'), ('DB01208', 'CC1CN(c2c(F)c(N)c3c(=O)c(C(=O)O)cn(C4CC4)c3c2F)CC(C)N1'), ('DB00148', 'CN(CC(=O)O)C(=N)N'), ('DB07366', 'NCCCCNNC(=O)C1CCCN1C(=O)OCc1ccccc1'), ('DB01365', 'CNC(C)(C)Cc1ccccc1'), ('DB04245', 'CC(O)C(N)Cc1ccccc1'), ('DB01120', 'Cc1ccc(S(=O)(=O)NC(=O)NN2CC3CCCC3C2)cc1'), ('DB04110', 'Cc1ccc(O)c([N+](=O)[O-])c1'), ('DB04060', 'Cc1cc(C2CC(O)C(COP(=O)(O)O)O2)c[nH]c1=O'), ('DB00566', 'O=C(O)C(S)C(S)C(=O)O'), ('DB09190', 'CNCCCC1(c2ccccc2)OC(C)(C)c2ccccc21'), ('DB04405', 'CCOc1ccc(-c2ccc(C(=O)CC(CCN3C(=O)c4ccccc4C3=O)C(=O)O)cc2)cc1'), ('DB02070', 'Nc1ccccc1C(=O)CC(N)C(=O)O'), ('DB08224', 'CC1C=CC2=CCCC(O)C2C1CCC1CC(O)CC(=O)O1'), ('DB00889', 'CN1C2CCCC1CC(NC(=O)c1nn(C)c3ccccc13)C2'), ('DB01880', 'O=C(O)C=Cc1ccc(O)c(O)c1'), ('DB00531', 'O=P1(N(CCCl)CCCl)NCCCO1'), ('DB00383', 'CN1CCCN=C1COC(=O)C(O)(c1ccccc1)C1CCCCC1'), ('DB07308', 'O=C(O)c1ccc(Cc2ccccc2Cl)o1'), ('DB01971', 'O=C(O)C=Cc1c[nH]cn1'), ('DB06877', 'CN(C)C(=O)c1cc(-c2n[nH]cc2-c2ccccc2)c[nH]1'), ('DB08149', 'NCC1(Cc2ccc(Cl)cc2)CCN(c2ncnc3[nH]ccc23)CC1'), ('DB02042', 'COCCOCCOCCOCCOCCO'), ('DB01189', 'FC(F)OC(F)C(F)(F)F'), ('DB08467', 'C=C1C2=C(CC1(C)CC=CC(C)=CC(=O)O)C(C)(C)CCC2'), ('DB08423', 'Nc1c(C(=O)c2cccc(OC3CCNCC3)c2)cnn1-c1ccc(F)cc1'), ('DB09130', '[Cu+2]'), ('DB04714', 'C=C(C)CCOP(=O)(O)OP(=O)(O)O'), ('DB03500', 'CCCCCCCCCCCCCCCCCCCCCCC(=O)O'), ('DB01388', 'COCC(=O)OC1(CCN(C)CCCc2nc3ccccc3[nH]2)CCc2cc(F)ccc2C1C(C)C'), ('DB09421', 'NC(=O)C1CCCN1C(=O)C(Cc1cnc[nH]1)NC(=O)C1CCC(=O)N1'), ('DB02551', 'CCC1CNCc2ccc(NC(=O)c3ccc4cc(C(=N)N)ccc4c3)cc21'), ('DB03418', 'C=C(O)C1=C(C)C2=[N+]3C1=Cc1c(C)c(C(C)=O)c4n1[Fe]31n3c(c(C)c(CCC(=O)O)c3=CC3=[N+]1C(=C4)C(C)=C3CCC(=O)O)=C2'), ('DB04155', 'OCC1OC(OC2C(CO)OC(O)C(O)C2O)C(F)C(O)C1O'), ('DB00635', 'CC12C=CC(=O)C=C1CCC1C2C(=O)CC2(C)C1CCC2(O)C(=O)CO'), ('DB04883', 'COc1cc(OC)nc(OC(C(=O)O)C(OC)(c2ccccc2)c2ccccc2)n1'), ('DB08336', 'CC(C)C(NC(=O)OC(C)(C)C)c1nnco1'), ('DB03486', 'Nc1nc2c(ncn2C2OC(COP(=O)(O)CP(=O)(O)O)C(O)C2O)c(=O)[nH]1'), ('DB07072', 'NC1CC(N2CCn3c(nnc3C(F)(F)F)C2)CCC1c1cc(F)c(F)cc1F'), ('DB07818', 'O=C(C=Cc1ccc(Cl)cc1Cl)NO'), ('DB08815', 'O=C1C2C3CCC(C3)C2C(=O)N1CC1CCCCC1CN1CCN(c2nsc3ccccc23)CC1'), ('DB03471', 'O=C(O)CCC(CCc1ccccc1)NC(=O)CCCCCCc1ccccc1'), ('DB03277', 'OCC1OC(OC2C(CO)OC(OC3C(CO)OC(O)C(O)C3O)C(O)C2O)C(O)C(O)C1O'), ('DB04552', 'O=C(O)c1cccnc1Nc1cccc(C(F)(F)F)c1'), ('DB08366', 'CC12CC34CCC(=O)C(C)(CCC(=O)Nc5c(O)ccc(C(=O)O)c5O)C3C(CC1C4)O2'), ('DB07286', 'Cc1c(N2C(=O)C3C(O)CCN3C2=O)ccc(C#N)c1Cl'), ('DB04099', 'Nc1ncnc2c1ncn2C1OC(COP(=O)(O)OP(=O)(O)OCC2OC([n+]3cccc(C(=O)O)c3)C(O)C2O)C(O)C1O'), ('DB07257', 'Cn1cc(CCO)c2c3c(c(-c4ccccc4Cl)cc21)C(=O)NC3=O'), ('DB09092', 'CN(CCO)CC(O)Cn1cnc2c1c(=O)n(C)c(=O)n2C'), ('DB00552', 'OCC1OC(n2cnc3c2N=CNCC3O)CC1O'), ('DB09309', 'COC1C(O)CC(=O)OC(C)CC=CC=CC(O)C(C)CC(CC=O)C1OC1OC(C)C(OC2CC(C)(O)C(OC(=O)CC(C)C)C(C)O2)C(N(C)C)C1O'), ('DB01577', 'CNC(C)Cc1ccccc1'), ('DB01415', 'Nc1nc(C(=CCC(=O)O)C(=O)NC2C(=O)N3C(C(=O)O)=CCSC23)cs1'), ('DB07424', 'O=P(O[K])(O[K])C(CCCc1ccc(-c2ccccc2)cc1)S(=O)(=O)O[K]'), ('DB00312', 'CCCC(C)C1(CC)C(=O)NC(=O)NC1=O'), ('DB08048', 'Oc1ccc(-c2n[nH]c3cc(O)ccc23)c(O)c1'), ('DB09067', 'CCC(C)C(NC(=O)C(CC(=O)O)NC(=O)C(CC(C)C)NC(=O)C(CC(C)C)NC(=O)C(CCCCN)NC(=O)C(CCCNC(=N)N)NC(=O)C(CC(N)=O)NC(=O)C(CO)NC(=O)C(Cc1cnc[nH]1)NC(=O)C(C)NC(=O)C(CCC(N)=O)NC(=O)C(CCC(N)=O)NC(=O)C(C)NC(=O)C(CC(C)C)NC(=O)C(CCC(N)=O)NC(=O)C(CC(=O)O)NC(=O)C(C)NC(=O)C(CCCCN)NC(=O)C(NC(=O)C(CCSC)NC(=O)C(CCC(=O)O)NC(=O)C(CC(C)C)NC(=O)C(NC(=O)C(CCC(=O)O)NC(=O)C(CCCNC(=N)N)NC(=O)C(CC(C)C)NC(=O)C(CC(C)C)NC(=O)C(Cc1cnc[nH]1)NC(=O)C(Cc1ccccc1)NC(=O)C(NC(=O)C(CC(C)C)NC(=O)C(CC(=O)O)NC(=O)C(CC(C)C)NC(=O)C(CO)NC(=O)C(NC(=O)C1CCCN1C(=O)C1CCCN1C(=O)C(CCC(=O)O)NC(=O)C(CCC(N)=O)NC(=O)C(N)CO)C(C)CC)C(C)O)C(C)C)C(C)O)C(=O)NC(C)C(N)=O'), ('DB00295', 'CN1CCC23c4c5ccc(O)c4OC2C(O)C=CC3C1C5'), ('DB08727', 'Cc1cc(CCCCCCCOc2ccc(C3=NC(C)CO3)cc2)on1'), ('DB08129', 'NCC(O)c1cccc(C(F)(F)F)c1'), ('DB04747', 'CCC=CC=CC=CCCCCCCCCCC(=O)O'), ('DB03815', 'CC(O)C(O)C(O)C(O)CO'), ('DB03858', 'CC(=O)CSCC(N)C(=O)O'), ('DB01975', 'Nc1ncnc2c1ncn2C1OC(COP(=O)(O)CP(=O)(O)OCC2OC(O)C(O)C2O)C(O)C1O'), ('DB00230', 'CC(C)CC(CN)CC(=O)O'), ('DB01588', 'O=C1CN=C(c2ccccc2)c2cc(Cl)ccc2N1CC1CC1'), ('DB09049', 'C=CCN1CCC23c4c5ccc(O)c4OC2C(OCCOCCOCCOCCOCCOCCOCCOC)CCC3(O)C1C5'), ('DB07713', 'COc1ccc(-c2ccc(S(=O)(=O)NC(C(C)C)P(=O)(O)O)cc2)cc1'), ('DB07448', 'NC(CCc1ccccc1)P(=O)(O)CC(Cc1ccccc1)C(=O)O'), ('DB01643', 'Cc1cn(C2CC(O)C(COP(=O)(O)O)O2)c(=O)[nH]c1=O'), ('DB02853', 'O=C(O)C1CCCN1'), ('DB02361', 'CSSCC(N)C(=O)O'), ('DB00756', 'Oc1c(Cl)cc(Cl)c(Cl)c1Cc1c(O)c(Cl)cc(Cl)c1Cl'), ('DB00977', 'C#CC1(O)CCC2C3CCc4cc(O)ccc4C3CCC21C'), ('DB02738', 'Nc1ncnc2c1ncn2C1OC(COP(=O)(O)OP(=O)(O)OP(=O)(O)OP(=O)(O)OP(=O)(O)O)C(O)C1O'), ('DB04656', 'O=C(O)C1(O)CC(O)C(O)C(CCCOc2ccccc2)C1'), ('DB02402', 'COc1ccc(Oc2cccc3nc(N)nc(N)c23)cc1'), ('DB00849', 'CCC1(c2ccccc2)C(=O)NC(=O)N(C)C1=O'), ('DB03482', 'Cc1cc2nc3c(=O)[nH]c(=O)nc-3n(CC(O)C(O)C(O)COP(=O)(O)OP(=O)(O)OCC3OC(n4cnc5c(N)ncnc54)C(O)C3O)c2cc1N(C)C'), ('DB02988', 'N=C(Cc1c[nH]c2ccccc12)C(=O)O'), ('DB04047', 'Nc1nc2ncc(COP(=O)(O)OP(=O)(O)O)nc2c(=O)[nH]1'), ('DB08180', 'CC(C)=CCCC(C)=CCCC(C)=CCCN(C)CCOP(=O)(O)OP(=O)(O)O'), ('DB01061', 'CC1(C)SC2C(NC(=O)C(NC(=O)N3CCNC3=O)c3ccccc3)C(=O)N2C1C(=O)O'), ('DB06717', 'CC(OC1OCCN(Cc2nc(=O)n(P(=O)(O)O)[nH]2)C1c1ccc(F)cc1)c1cc(C(F)(F)F)cc(C(F)(F)F)c1'), ('DB03872', 'CC1OC(O)CCC1O'), ('DB03554', 'O=c1[nH]cc(I)c(=O)[nH]1'), ('DB08152', 'CC(C)(C)OC(=O)NCC(=O)N1CCCC1COC(=O)Cc1cccc(Cl)c1'), ('DB02545', 'COC(=O)C=Cc1cccc(N(Cc2ccc(-c3ccc(N(C)C)cc3)cc2)C(=O)C2CCCCC2)c1'), ('DB07491', 'Nc1c(Br)c(C(=O)O)c(Br)c(C(=O)O)c1Br'), ('DB01855', 'CC1CC(N(C)O)NC1C(=O)O'), ('DB00686', 'O=S(=O)(O)OC1C(O)COC(OC2COC(O)C(OS(=O)(=O)O)C2OS(=O)(=O)O)C1OS(=O)(=O)O'), ('DB02675', 'NC(C(=O)O)c1ccc(OC2OC(CO)C(O)C(O)C2OC2OC(CO)C(O)C(O)C2O)cc1'), ('DB04248', 'OCC1OC(OC2C(CO)OC(OC3C(CO)OC(O)C(O)C3O)C(O)C2O)C(O)C(O)C1O'), ('DB09205', 'CC(=O)Oc1cc(C(C)C)c(OCCN(C)C)cc1C'), ('DB00520', 'CCC(C)CC(C)CCCCCCCCC(=O)NC1CC(O)C(NCCN)NC(=O)C2C(O)CCN2C(=O)C(C(O)CCN)NC(=O)C(C(O)C(O)c2ccc(O)cc2)NC(=O)C2CC(O)CN2C(=O)C(C(C)O)NC1=O'), ('DB02053', 'O=CC(O)C(O)C(O)COP(=O)(O)O'), ('DB07306', 'CCOC(=O)N1CCC(Nc2cc(Cl)ccn2)CC1'), ('DB02129', 'O=C1CC(C(=O)O)NC(=O)N1'), ('DB08908', 'COC(=O)C=CC(=O)OC'), ('DB01456', 'CC12CCC3C(CC=C4CC(=O)CCC43C)C1CCC2=O'), ('DB01190', 'CCCC1CC(C(=O)NC(C(C)Cl)C2OC(SC)C(O)C(O)C2O)N(C)C1'), ('DB07042', 'CC(C)(C)c1nc(NCCc2c[nH]cn2)c2cc(C(N)=O)c(N)nc2n1'), ('DB04152', 'NC(CC1=CCCCc2o[nH]c(=O)c21)C(=O)O'), ('DB07080', 'O=S(=O)(c1ccccc1)N(CC(F)(F)F)c1ccc(C(O)(C(F)(F)F)C(F)(F)F)cc1'), ('DB08475', 'C=CCCCCP(=O)(O)OCC1COC(C)(C)O1'), ('DB03746', 'NC1C=C(C(=O)[O-])CC(O)C1O'), ('DB01814', 'CCCCCCCCCCCCC(=O)OC(CCCCCCCCCCCC)CC(=O)O'), ('DB02279', 'O=C(O)C(=O)c1ccccc1'), ('DB04250', 'CCCC(=O)SCC[N+](C)(C)C'), ('DB08161', 'O=C(O)C(CS)CCCc1ccccc1'), ('DB01979', 'COC1OC(CO)C(O)C(O)C1O'), ('DB00196', 'OC(Cn1cncn1)(Cn1cncn1)c1ccc(F)cc1F'), ('DB03086', 'Cc1ccc(NNC(=O)C(O)C(N)CC2CCCCC2)cc1'), ('DB08641', 'CCC(C=O)C(CNS(=O)(=O)c1ccc([N+](=O)[O-])cc1)C(=O)O'), ('DB08566', 'CC(=O)NC(Cc1cccc2ccccc12)[B-](O)(O)O'), ('DB00663', 'CC1CC2C3CC(F)C4=CC(=O)C=CC4(C)C3(F)C(O)CC2(C)C1(O)C(=O)CO'), ('DB04378', 'Cc1cccc(C)c1OCC(=O)NC(Cc1ccccc1)C(O)CC(CC(C)C)NC(=O)c1ccc(N)cc1'), ('DB07467', 'CC1Cc2ccccc2N1NC(=O)c1ccc(Cl)c(S(N)(=O)=O)c1'), ('DB01768', 'CC(=O)NC1C(O)CC(Oc2ccc3c(C)cc(=O)oc3c2)(C(=O)O)OC1C(O)C(O)CO'), ('DB03968', 'CN1C(=O)CCC1(C)C'), ('DB00989', 'CCN(C)C(=O)Oc1cccc(C(C)N(C)C)c1'), ('DB03843', 'C=O'), ('DB06771', 'NC1CCCCN(c2c(F)cc3c(=O)c(C(=O)O)cn(C4CC4)c3c2Cl)C1'), ('DB09153', '[Cl-].[Na+]'), ('DB08493', 'CC(C)CC(CC(=O)O)C(=O)NC1Cc2cn(c3ccccc23)CCCCCCNC1=O'), ('DB04193', 'NC(CCO)C(=O)O'), ('DB08545', 'CC(=O)Nc1ccc(CP(=O)([O-])OC(C)c2ccccc2)cc1'), ('DB00632', 'CCCCCCCCCCCCCCCCCCCCCCO'), ('DB07046', 'O=C(NOCC(O)CO)c1ccc(F)c(F)c1Nc1ccc(I)cc1Cl'), ('DB03525', 'O=P(O)(O)Oc1cccc2c1NCCC2'), ('DB06902', 'CC(C)(c1ccccc1)c1ccc(O)cc1'), ('DB01244', 'CC(C)COCC(CN(Cc1ccccc1)c1ccccc1)N1CCCC1'), ('DB08789', 'CCNC(=O)c1cc2c(-c3ccc(Cl)cc3Cl)nc(N)nc2s1'), ('DB06847', 'COc1cc(C(C)C#Cc2c(C)nc(N)nc2N)ccc1-c1ccccc1'), ('DB03099', 'Nc1c([N+](=O)[O-])[nH]c(=O)[nH]c1=O'), ('DB08718', 'CCc1ccsc1-c1ccc(O)c(O)c1'), ('DB04335', 'O=c1nc[nH]c2c1ncn2C1OC(CO)C(O)C1O'), ('DB01333', 'CC1=C(C(=O)O)N2C(=O)C(NC(=O)C(N)C3=CCC=CC3)C2SC1'), ('DB07108', 'O=C(O)c1ccc(-c2ccc(F)cc2)cc1'), ('DB07112', 'O=C(O)CNC(=O)c1ncc2c(I)cccc2c1O'), ('DB03069', 'Nc1ccn(C2OC(COP(=O)(O)OP(=O)(O)OC3OCC(O)C(O)C3O)C(O)C2O)c(=O)n1'), ('DB00433', 'CN1CCN(CCCN2c3ccccc3Sc3ccc(Cl)cc32)CC1'), ('DB04007', 'CC1(C)N=C(N)N=C(N)N1OCCCOc1ccc(Br)cc1'), ('DB11561', 'Nc1c2ccccc2nc2ccccc12'), ('DB00987', 'Nc1ccn(C2OC(CO)C(O)C2O)c(=O)n1'), ('DB07472', 'Cc1cccc(C23SCCN2C(=O)c2ccccc23)c1'), ('DB00824', 'CCCn1c(=O)[nH]c(=O)c2[nH]cnc21'), ('DB04684', 'NCCCCCCNCCCCCCN'), ('DB01006', 'N#Cc1ccc(C(c2ccc(C#N)cc2)n2cncn2)cc1'), ('DB04681', 'COC1OC(CO)C(OC2OC(CO)C(O)C(O)C2O)C(O)C1O'), ('DB11620', 'NCCCCCC(O)(P(=O)(O)O)P(=O)(O)O'), ('DB00466', 'C=C(C)C1C2OC(=O)C1C1(O)CC3OC34C(=O)OC2C14C.CC(C)(O)C1C2OC(=O)C1C1(O)CC3OC34C(=O)OC2C14C'), ('DB08698', 'OC1CN(C2=Nc3ccccc3C(c3ccccc3)=NC2c2cccs2)C1'), ('DB08236', 'O=C1CSC(c2cccc(Br)c2)N1c1cc(Cl)ccc1O'), ('DB00293', 'Cc1nc(=O)c2cc(CN(C)c3ccc(C(=O)NC(CCC(=O)O)C(=O)O)s3)ccc2[nH]1'), ('DB07083', 'CCCNC(=O)C1CCCN1C(=O)C(N)C(c1ccccc1)c1ccccc1'), ('DB00221', 'CCC(NC(C)C)C(O)c1ccc(O)c(O)c1'), ('DB03707', 'CCSC(N)=Nc1ccccc1'), ('DB02388', 'CCCn1c(C2CCNCC2)nc(-c2ccc(Cl)c(Cl)c2)c1-c1ccnc(NC2CCCCC2)n1'), ('DB08547', 'CC(=O)C1CCC2C3CCC4=CC(=O)CCC4(C)C3C(OC(=O)CCC(=O)O)CC12C'), ('DB07323', 'CN(C)CC=Cc1cc(F)ccc1S(=O)(=O)Nc1ccc2c(c1C(=O)O)CCCC2'), ('DB03632', 'CNC(=O)NC(=N)NCCCC1NC(=O)C(C)NC(=O)CC(C(=O)O)NC(=O)CC(C(=O)O)NC(=O)C(Cc2ccccc2)N(C)C1=O'), ('DB07986', 'O=C(O)CNS(=O)(=O)c1ccc(N2CCC(c3ccccc3)CC2)cc1'), ('DB00593', 'CCC1(C)CC(=O)NC1=O'), ('DB01857', 'NC(CC(=O)OP(=O)(O)O)C(=O)O'), ('DB02205', 'C=CC(C)(C)c1cc2cc3c(cc2oc1=O)OC(C(C)(C)O)C3'), ('DB05665', 'CC(C)(C)NC(=O)NC(C(=O)N1CC2C(C1C(=O)NC(CC1CCC1)C(=O)C(N)=O)C2(C)C)C(C)(C)C'), ('DB01666', 'O=S(=O)(O)OC1C(OS(=O)(=O)O)C(OS(=O)(=O)O)C(OS(=O)(=O)O)C(OS(=O)(=O)O)C1OS(=O)(=O)O'), ('DB00325', 'N#C[Fe-2](C#N)(C#N)(C#N)(C#N)N=O'), ('DB04468', 'CCC(=C(c1ccc(O)cc1)c1ccc(OCCN(C)C)cc1)c1ccccc1'), ('DB05379', 'CCCCC(C)(O)CC=CC1C(O)CC(=O)C1CCCCCCC(=O)OC'), ('DB08227', 'CC1(C)CC(N2C(=O)CCC2=O)CC(C)(C)N1O'), ('DB02355', 'Nc1ncnc2c1ncn2C1OC(COP(=O)(S)OP(=O)(O)OP(=O)(O)O)C(O)C1O'), ('DB08540', 'CCOC(=O)c1csc(N2CCN(C3=Nc4ccccc4SC3)CC2)n1'), ('DB06969', 'CCNC(=O)c1cc2c(-c3cc(OCCN4CCCC4)c(Cl)cc3Cl)nc(N)nc2s1'), ('DB04113', 'O=CN1CCCCC1'), ('DB08664', 'CCC(c1cccc(NC(=O)CNC(=O)OC(C)(C)C)c1)c1c(O)c2ccccc2oc1=O'), ('DB09352', 'CC(N)Cc1ccc(O)cc1'), ('DB08141', 'O=C(NC1CCCNC1)c1n[nH]cc1NC(=O)c1c(F)cccc1F'), ('DB08389', 'COc1cc2ncnc(N3CCC(Oc4ccc5ccccc5c4)C3)c2cc1OC'), ('DB08688', 'CCCCCCCCCC(C)=O'), ('DB06403', 'COC(c1ccccc1)(c1ccccc1)C(Oc1nc(C)cc(C)n1)C(=O)O'), ('DB01488', 'CN(C)CCc1c[nH]c2ccccc12'), ('DB00964', 'Nc1cc(Cl)c(NC2=NCCN2)c(Cl)c1'), ('DB07390', 'CNC(=O)C(Cc1ccccc1)NC(=O)Nc1nnc(S)s1'), ('DB04851', 'COc1cc(C(=O)C(=O)N2CCCCC2C(=O)OC(CCCc2cccnc2)CCCc2cccnc2)cc(OC)c1OC.O=C(O)CC(O)(CC(=O)O)C(=O)O.O=C(O)CC(O)(CC(=O)O)C(=O)O'), ('DB07793', 'NC(=O)CN1C(=O)C(NC(=O)C2=CC3=CC(Cl)SC3=N2)Cc2ccccc21'), ('DB07570', 'O=C(O)c1ccc2c(C3CCCCC3)c(-c3ccccc3)n(CC(=O)N3CCOCC3)c2c1'), ('DB06290', 'COc1ccc2c(OC3CC4C(=O)N(C)CCCCC=CC5CC5(C(O)=NS(=O)(=O)C5CC5)N=C(O)C4C3)cc(-c3nc(C(C)C)cs3)nc2c1C'), ('DB07153', 'COc1cc(C(C)(C)C#Cc2c(C)nc(N)nc2N)cc(OC)c1OC'), ('DB02623', 'Nc1nc2c(ncn2C2OC(COP(=O)(O)OP(N)(=O)O)C(O)C2O)c(=O)[nH]1'), ('DB06959', 'NC(COc1cncc(-c2ccc3cnccc3c2)c1)CC1C=Nc2ccccc21'), ('DB03875', 'CC1=CC2=C3C=C(CCCCCCCCC(=O)NC4C5CC6CC(C5)CC4C6)C=CN3[Ru+2]34(N5C=CC=CC5=C5C=CC=CN53)(N3C=CC=CC3=C3C=CC=CN34)N2C=C1'), ('DB00863', 'CNC(=C[N+](=O)[O-])NCCSCc1ccc(CN(C)C)o1'), ('DB08615', 'CN(C)c1ccc(-c2sc3cc(O)ccc3[n+]2C)cc1'), ('DB04599', 'COc1ccc(C(=O)N2CCCC2=O)cc1'), ('DB03702', 'CC(C)C(NC(=O)c1ccc(C(=O)NCC(=O)O)cc1)C(=O)N1CCCC1C(=O)NC(C(=O)C(F)(F)F)C(C)C'), ('DB07603', 'CCCCCC(=O)NC(CCS)C(=O)O'), ('DB02805', 'O=c1nc(O)ccn1C1OC(CO)C(OP(=O)(O)O)C1O'), ('DB04315', 'Nc1nc2c(ncn2C2OC(COP(=O)(O)OP(=O)(O)O)C(O)C2O)c(=O)[nH]1'), ('DB00156', 'CC(O)C(N)C(=O)O'), ('DB09296', 'COC(=O)NC(C(=O)N1CCCC1C(=O)Nc1ccc(C2CCC(c3ccc(NC(=O)C4CCCN4C(=O)C(NC(=O)OC)C(C)C)cc3)N2c2ccc(C(C)(C)C)cc2)cc1)C(C)C'), ('DB02320', 'CC(=O)NC1OC(CO)C(O)C(O)C1O'), ('DB00185', 'CC1OC2(CS1)CN1CCC2CC1'), ('DB07775', 'O=C1C(=Cc2cc(Br)c(O)c(Br)c2O)Oc2cc(O)cc(O)c21'), ('DB03596', 'CCC(CNC(=O)c1ccc(S(N)(=O)=O)cc1)c1ccc2[nH]ccc2c1'), ('DB01974', 'NC(CSC1C=C(C(N)C(=O)O)ON1)C(=O)O'), ('DB07527', 'COc1cc(C)c(S(=O)(=O)NCC(O)C(N)Cc2ccccc2)c(C)c1C'), ('DB07178', 'CCCCCc1ccc(Oc2ccccc2)c(O)c1'), ('DB03455', 'O=C(O)C(NOCCS)c1c[nH]c2ccccc12'), ('DB08686', 'CCC(c1ccccc1)c1c(O)c2c(oc1=O)CCCCCC2'), ('DB04865', 'COC(=O)CC(O)(CCCC(C)(C)O)C(=O)OC1C(OC)=CC23CCCN2CCc2cc4c(cc2C13)OCO4'), ('DB01592', '[Fe]'), ('DB01720', 'O=C(O)C(=Cc1ccc(Oc2ccccc2Br)cc1)NC(=O)c1ccccc1'), ('DB02159', 'CC(O)CO'), ('DB07571', 'CC(C)CC(NC(=O)OCc1ccccc1)C(=O)NC(Cc1ccc(O)cc1)C(C)O'), ('DB06985', 'O=C(O)c1ccccc1NC(=O)N1CCC(c2ccccc2C(F)(F)F)CC1'), ('DB02940', 'CC=C(N)C1=NC(C(=O)O)CS1'), ('DB02625', 'CCCCC(CN(O)C=O)C(=O)O'), ('DB00640', 'Nc1ncnc2c1ncn2C1OC(CO)C(O)C1O'), ('DB04894', 'CC(C)C1N=C(O)C(CCCCN)N=C(O)C(Cc2c[nH]c3ccccc23)N=C(O)C(Cc2ccc(O)cc2)N=C(O)C(N=C(O)C(N)Cc2ccccc2)CSSCC(C(O)=NC(Cc2c[nH]c3ccccc23)C(=N)O)N=C1O'), ('DB01158', 'CC[N+](C)(C)Cc1ccccc1Br'), ('DB04216', 'O=c1c(O)c(-c2ccc(O)c(O)c2)oc2cc(O)cc(O)c12'), ('DB00453', 'CN(C)C1C(O)=C(C(=O)NCO)C(=O)C2(O)C(O)=C3C(=O)c4c(O)ccc(Cl)c4C(C)(O)C3CC12'), ('DB00388', 'CNCC(O)c1cccc(O)c1'), ('DB01112', 'CON=C(C(=O)NC1C(=O)N2C(C(=O)O)=C(COC(N)=O)CSC12)c1ccco1'), ('DB07241', 'O=C(O)c1[nH]c(O)c2c1c1c3ccccc3[nH]c1c1[nH]c3ccccc3c12'), ('DB03616', 'COC(CC1OC(=O)CC(OC(N)O)CC(C)CC(O)C(C)C(OC)c2coc(n2)-c2coc(n2)-c2coc(n2)C=CCC(OC)C1C)C(C)CCC(=O)C(C)C(OC)C(C)C=CN(C)CO'), ('DB00909', 'NS(=O)(=O)Cc1noc2ccccc12'), ('DB07412', 'NCc1ccccc1-c1ccccc1'), ('DB04039', 'CCCCCCCCCCCCC(=O)CC(=O)O'), ('DB08958', 'CCCCC(CC)CN1CN(CC(CC)CCCC)CC(C)(N)C1'), ('DB02904', 'NCC(CO)C(=O)O'), ('DB04150', 'CC(=O)NC(Cc1cc(I)c(O)c(I)c1)C(=O)NC(C(=O)O)C(C)O'), ('DB07918', 'CCCCCCCc1cc(O)c2ccccc2[n+]1[O-]'), ('DB03503', 'CCCN(C)C(=O)C1OC(C(=O)O)=CC(NC(=N)N)C1NC(C)=O'), ('DB06861', 'N=C(N)CCCCC(C=O)C1CCCC1O'), ('DB06770', 'OCc1ccccc1'), ('DB05389', 'O.O=O.[O-][Cl+][O-].[O-][Cl+][O-].[O-][Cl+][O-].[O-][Cl+][O-]'), ('DB02191', 'O=C1CN2CCCCC2c2[nH]c3ccccc3c21'), ('DB08277', 'CC(C)(Oc1ccc(F)cc1Cl)C(=O)NC1C2CC3CC1CC(S(C)(=O)=O)(C3)C2'), ('DB01407', 'CC(C)(C)NCC(O)c1cc(Cl)c(N)c(Cl)c1'), ('DB02951', 'O=C(O)C(=O)CO'), ('DB08983', 'CC(C)(Oc1ccc(Cl)cc1)C(=O)OCCOC(=O)c1cccnc1'), ('DB02370', 'CC(NCCCCC(N)C(=O)O)C(=O)O'), ('DB01403', 'COc1ccc2c(c1)N(CC(C)CN(C)C)c1ccccc1S2'), ('DB00968', 'CC(N)(Cc1ccc(O)c(O)c1)C(=O)O'), ('DB04578', 'NC(=O)C1Cc2ccccc2CN1C(=O)CC(N)Cc1ccccc1F'), ('DB00845', 'CC(C)N=c1cc2n(-c3ccc(Cl)cc3)c3ccccc3nc-2cc1Nc1ccc(Cl)cc1'), ('DB00657', 'CNC1(C)C2CCC(C2)C1(C)C'), ('DB02174', 'NC(=O)CCC(N)C(=O)O'), ('DB04808', 'NCC1OC(OC2C(N)CC(N)C(O)C2O)C(N)C(O)C1O'), ('DB03041', 'O=C(O)C1OC(OP(=O)(O)OP(=O)(O)OCC2OC(n3ccc(=O)[nH]c3=O)C(O)C2O)C(O)C(O)C1O'), ('DB09145', 'O'), ('DB09278', '[C]'), ('DB06986', 'O=C(NC1Cc2ccccc2C1O)c1cc2cc(Cl)sc2[nH]1'), ('DB02983', 'O=S(=O)(O)c1ccc([Hg])cc1'), ('DB02806', 'COCCO'), ('DB04338', 'Nc1nccc(-c2c(-c3ccc(F)cc3)ncn2C2CCNCC2)n1'), ('DB08256', 'O=C(O)CNC(=O)NC1CCCCC1'), ('DB00885', 'Cc1cccn2c(=O)c(-c3nn[nH]n3)cnc12'), ('DB04527', 'NC(=O)C(O)C(N)C(=O)O'), ('DB08213', 'CN1C(=O)C(=O)c2cc(S(=O)(=O)N3CCCC3COc3ccccc3)ccc21'), ('DB08960', 'C[N+](C)(C)CCCCCC[N+](C)(C)C'), ('DB01247', 'Cc1cc(C(=O)NNCc2ccccc2)no1'), ('DB03368', 'CC1(c2ccc(Oc3ccccc3)cc2)C(=O)NC(=O)NC1=O'), ('DB08005', 'CCNC(=O)N1CCC(Nc2ncc(Cl)c(-c3c[nH]c4ccccc34)n2)CC1'), ('DB01004', 'Nc1nc2c(ncn2COC(CO)CO)c(=O)[nH]1'), ('DB07268', 'NC(=O)c1ccccc1Nc1ccnc(Nc2cccc(O)c2)n1'), ('DB02125', 'O=C1C2CC3CC(C2)CC1C3'), ('DB06708', 'CCCCN(CCCC)CC(O)c1cc(Cl)cc2c1-c1ccc(Cl)cc1C2=Cc1ccc(Cl)cc1'), ('DB02215', 'CC(C)CC(NC(=O)c1ccco1)C(=O)O'), ('DB02824', 'Cc1ncc(COP(=O)(O)O)c(CNCC(=O)O)c1O'), ('DB07888', 'COC(=O)CC1CC(c2ccc(O)cc2)=NO1'), ('DB04749', 'O=CCCSC(=O)CCS'), ('DB00827', 'CCn1nc(C(=O)O)c(=O)c2cc3c(cc21)OCO3'), ('DB04820', 'O=C(CCNNC(=O)c1ccncc1)NCc1ccccc1'), ('DB03230', 'CCCOP(=O)(O)OCC1OC(n2cnc3c(N)ncnc32)C(O)C1O'), ('DB04164', 'CC1OCC(O)C(O)C1NC1C=C(CO)C(O)C(O)C1O'), ('DB07843', 'CC(C(=O)N1CCOCC1)N1CCC(NS(=O)(=O)c2cc3cc(Cl)ccc3s2)C1=O'), ('DB02816', 'Cn1cc(C2SC=C(C(=O)O)NC=C2C=O)nn1'), ('DB08133', 'NS(=O)(=O)c1ccc(NC(=O)c2n[nH]c3ccccc23)cc1'), ('DB04278', 'CC(NC(=O)CNC(=O)C(NC(=N)N)C1CCCCC1)C(=O)NCCCS'), ('DB05403', 'CCSCc1ccc2c(c1)c1c3c(c4c5cc(CSCC)ccc5n5c4c1n2C1CC(C(=O)OOC)C5(C)O1)CNC3=O'), ('DB00158', 'Nc1nc(=O)c2nc(CNc3ccc(C(=O)NC(CCC(=O)O)C(=O)O)cc3)cnc2[nH]1'), ('DB05246', 'CN1C(=O)CC(C)(c2ccccc2)C1=O'), ('DB00214', 'Cc1cccc(Nc2ccncc2S(=O)(=O)NC(=O)NC(C)C)c1'), ('DB07022', 'N=C(N)c1ccc2cccc(NC(=O)c3cccc(S(=O)(=O)OCCCO)c3)c2c1'), ('DB05456', 'CCCCCCCCC=CCCCCCCCC(=O)OCC(COP(=O)([O-])OCC[N+](C)(C)C)OC(=O)CCCCCCCCCCCCCCC'), ('DB05528', 'COCCOC1C(O)C(COP(O)(=S)OC2C(COP(O)(=S)OC3C(COP(O)(=S)OC4C(COP(O)(=S)OC5C(COP(O)(=S)OC6CC(n7cc(C)c(=N)nc7O)OC6COP(O)(=S)OC6CC(n7cc(C)c(O)nc7=O)OC6COP(O)(=S)OC6CC(n7cc(C)c(O)nc7=O)OC6COP(O)(=S)OC6CC(n7cc(C)c(=N)nc7O)OC6COP(O)(=S)OC6CC(n7cnc8c(O)nc(=N)[nH]c87)OC6COP(O)(=S)OC6CC(n7cc(C)c(O)nc7=O)OC6COP(O)(=S)OC6CC(n7cc(C)c(=N)nc7O)OC6COP(O)(=S)OC6CC(n7cc(C)c(O)nc7=O)OC6COP(O)(=S)OC6CC(n7cnc8c(O)nc(=N)[nH]c87)OC6COP(O)(=S)OC6CC(n7cnc8c(N)ncnc87)OC6COP(O)(=S)OC6C(COP(O)(=S)OC7C(COP(O)(=S)OC8C(COP(O)(=S)OC9C(COP(O)(=S)OC%10C(CO)OC(n%11cnc%12c(O)nc(=N)[nH]c%12%11)C%10OCCOC)OC(n%10cc(C)c(=N)nc%10O)C9OCCOC)OC(n9cc(C)c(=N)nc9O)C8OCCOC)OC(n8cc(C)c(O)nc8=O)C7OCCOC)OC(n7cc(C)c(=N)nc7O)C6OCCOC)OC(n6cnc7c(O)nc(=N)[nH]c76)C5OCCOC)OC(n5cc(C)c(=N)nc5O)C4OCCOC)OC(n4cnc5c(N)ncnc54)C3OCCOC)OC(n3cc(C)c(=N)nc3O)C2OCCOC)OC1n1cc(C)c(=N)nc1O'), ('DB03251', 'N=C(N)NCCCC(NC(=O)C1CCCC1)C(=O)c1nc2ccccc2s1'), ('DB07199', 'CC(C)CC1(C(=O)O)CC(C(=O)O)C(c2nccs2)N1C(=O)c1ccc(C(C)(C)C)cc1'), ('DB09129', '[Cl-].[Cl-].[Cl-].[Cr+3]'), ('DB08831', 'OCC1OC(O)CC(O)C1O'), ('DB09014', 'CCCCSc1ccc(C(SCCN(C)C)c2ccccc2)cc1'), ('DB08130', 'NCCNc1nnc(-c2ccc(F)c(F)c2Nc2ccc(I)cc2F)o1'), ('DB00298', 'Cc1ccccc1N1CCN(CCc2nnc3n2CCCC3)CC1'), ('DB01495', 'Cc1cc(=O)n(-c2ccccc2)n1C.OC(O)C(Cl)(Cl)Cl.OC(O)C(Cl)(Cl)Cl'), ('DB03079', 'O=P(O)(O)OCC1OC(n2cnc3ccccc32)C(O)C1O'), ('DB02804', 'COc1cc(CN2C(=O)N(Cc3ccc(O)c(OC)c3)N(Cc3ccccc3)CC(O)C2Cc2ccccc2)ccc1O'), ('DB02324', 'O=c1[nH]c(=O)n(C2CC(O)C(COP(=O)(O)O)O2)cc1I'), ('DB00978', 'CCn1cc(C(=O)O)c(=O)c2cc(F)c(N3CCNC(C)C3)c(F)c21'), ('DB08841', 'NCCc1ccc(O)cc1'), ('DB08764', 'COc1cc2c(Nc3ccc(Br)cc3F)ncnc2cc1OCC1CCN(C)CC1'), ('DB04748', 'Cc1nc(CN2CCN(C(C(=O)NC(Cc3ccccc3)C(O)CN(CC(C)C)S(=O)(=O)c3ccc(C=NO)cc3)C(C)C)C2=O)cs1'), ('DB03847', 'NC(CC(C(=O)O)C(=O)O)C(=O)O'), ('DB03855', 'O=P(O)(O)OCC(O)C(O)C(O)NO'), ('DB00373', 'CC(C)(C)NCC(O)COc1nsnc1N1CCOCC1'), ('DB08393', 'OCCNc1ncnc2oc(-c3ccccc3)c(-c3ccccc3)c12'), ('DB02861', 'NS(=O)(=O)c1ccc(C(=O)NCc2cc(F)c(F)c(F)c2)cc1'), ('DB01835', 'CC(=N)NCCC(F)CC(N)C(=O)O'), ('DB04102', 'Nc1ncnc2c1ncn2C1OC(CO)C(O)C1N'), ('DB01993', 'Cc1ncc(COP(=O)(O)O)c(CNC(C)C(=O)O)c1O'), ('DB07813', 'CC(NC(=O)CN)C(=O)N1CCCC1C(=O)Nc1ccc2ccccc2c1'), ('DB08397', 'O=C(O)c1ccc2cc(C(F)(F)P(=O)(O)O)ccc2c1'), ('DB07884', 'CCC1C(=O)Nc2ccc(F)cc2N1C(=O)OC(C)C'), ('DB05298', 'CCOc1ccc(-c2nc(-c3cccc(C(=O)O)n3)cs2)cc1OCC'), ('DB08403', 'CNC(=O)C(Cc1ccccc1)NC(=O)C(CC(=O)NO)CC(C)C'), ('DB09280', 'Cc1ccc(NC(=O)C2(c3ccc4c(c3)OC(F)(F)O4)CC2)nc1-c1cccc(C(=O)O)c1'), ('DB04289', 'O=C(c1ccc2[nH]ccc2c1)N1CCN(C2c3ccccc3-c3ccccc32)CC1'), ('DB03837', 'CC(C)CC(NC(=O)N1CCOCC1)C(=O)NC(C=CS(=O)(=O)c1ccccc1)CCc1ccccc1'), ('DB03078', 'O=Cc1ccccc1OP(=O)(O)OCc1ccccc1'), ('DB09284', 'CCN(CC)CCn1c(-c2ccccc2)noc1=N'), ('DB04629', 'COCC(C(=O)OC1CC=CC=CC(=O)OC(C(C)C(O)C(C)CCC(OC(=O)C(C)N(C)C)C(C)C(OC(C)=O)C(C)C=CN(C)C=O)CC=CC(OC)CC(C)CC=C(C)C(OC)CCC(C)C(O)C1C)N(C)C'), ('DB02195', 'On1c(-c2ccncc2)c(-c2ccc(F)cc2)c2ncccc21'), ('DB01924', 'O=C(NO)c1ccccc1'), ('DB08340', 'c1ccc(Nc2nc(Nc3ccccc3)n3nccc3n2)cc1'), ('DB07356', 'C#CC1CCC(CN)N1C(=O)C(N)C1CCCC1'), ('DB05229', 'CC#CCC(C)C(O)C=CC1C(O)CC2Oc3c(CCCC(=O)[O-])cccc3C21.[Na+]'), ('DB00205', 'CCc1nc(N)nc(N)c1-c1ccc(Cl)cc1'), ('DB08076', 'Cc1nc(-c2ccnc(N)n2)cn1Cc1c(Cl)cccc1Cl'), ('DB08650', 'O=C(O)C1CC2(C(=O)O)C=CC(O)C(C2)O1'), ('DB03862', 'OCC1ONCC(O)C1O'), ('DB07976', 'COc1cccc(-c2ccc(NC(=O)c3ccsc3C(=O)O)c(F)c2)c1'), ('DB04105', 'CCCCCCCNC=O'), ('DB08500', 'OCC1OC2(CC(c3ccc4ccccc4c3)NO2)C(O)C(O)C1O'), ('DB06748', 'CC(C)=CCCC(C)(OC1OC(COC2OCC(O)C(O)C2O)C(O)C(O)C1O)C1CCC2(C)C1C(O)CC1C3(C)CCC(OC4OC(CO)C(O)C(O)C4OC4OC(CO)C(O)C(O)C4O)C(C)(C)C3CCC12C'), ('DB03796', 'CCCCCCCCCCCCCCCC(=O)O'), ('DB07283', 'O=C(O)c1cccc2c3c(n(Cc4ccccc4)c12)CCCC3'), ('DB08084', 'O=C(O)COc1cc(F)ccc1C(=S)NCc1ccc(Br)cc1F'), ('DB07868', 'CCCc1c(SC2CCCCC2)c2cc(Cl)ccc2[nH]c1=O'), ('DB07334', 'CCS(=O)(=O)c1ccc(OC)c(Nc2ncc(-c3cccc(-c4ccccn4)c3)o2)c1'), ('DB08810', 'CCOc1cc(N)c([N+](=O)[O-])cc1C(=O)NC1CCN(CC2CC=CCC2)CC1'), ('DB02483', 'O=P(O)(OCC1OC(O)C(O)C1O)OP(=O)(O)OCC1OC(n2cnc3c2ncn2ccnc32)C(O)C1O'), ('DB05838', 'CC(C)NC(=O)CC1CCCN(C(=O)c2ccc(N3CCCC3)cc2Cl)c2ccccc21'), ('DB01094', 'COc1ccc(C2CC(=O)c3c(O)cc(O)cc3O2)cc1O'), ('DB08596', 'Cc1cn(C2CC(O)C(CN3CCCCC3)O2)c(=O)[nH]c1=O'), ('DB08689', 'COC1=C(OC)C(=O)C(CC=C(C)C)=C(C)C1=O'), ('DB03908', 'CCC(C)C(NC(=O)C(OCc1ccccc1)C(O)C(O)C(OCc1ccccc1)C(=O)NC(C(=O)NC)C(C)CC)C(=O)NC'), ('DB08247', 'CC(C)c1nc2c(OCC3CCCCC3)nc(N)nc2[nH]1'), ('DB08032', 'CCN(CC)C(=O)c1c(NC(=O)c2cccs2)sc2c1CCCC2'), ('DB01396', 'CC1OC(OC2C(O)CC(OC3C(O)CC(OC4CCC5(C)C(CCC6C5CCC5(C)C(C7=CC(=O)OC7)CCC65O)C4)OC3C)OC2C)CC(O)C1O'), ('DB04559', 'N=C(NO)Nc1ccc(Cl)cc1'), ('DB08600', 'CC(C)=CCN1Cc2c(Cl)ccc3[nH]c(=S)n(c23)CC1C'), ('DB02441', 'CCCCc1nc2c(=O)[nH][nH]c(=O)c2[nH]1'), ('DB02224', 'O=C1c2c(O)cc(O)cc2OC(c2ccc(O)c(O)c2)C1O'), ('DB06869', 'CCNC(=O)COc1ccc(Cl)cc1CNC(=O)C1CCCN1C(=O)C(N)C1CCCCC1'), ('DB01804', 'C=CC([NH3+])C(=O)[O-]'), ('DB08291', 'NCCCNc1ccccc1[N+](=O)[O-]'), ('DB04421', 'CCC(=O)C(C)c1cc[n+](C2OC(COP(=O)([O-])OP(=O)(O)OCC3OC(n4cnc5c(N)ncnc54)C(O)C3O)C(O)C2O)cc1C(N)=O'), ('DB03531', 'Cc1cc2c(cc1C)[n+](C(=O)C(C)C)c1c(=O)[nH]c(=O)nc-1n2CC(O)C(O)C(O)COP(=O)([O-])OP(=O)(O)OCC1OC(n2cnc3c(N)ncnc32)C(O)C1O'), ('DB01984', 'N=C(N)NCCCC(NC(=O)C(=O)C(CC1CCCCC1)NC(=O)OCc1ccccc1)C(=O)NC(CCC(=O)O)C(=O)NC(CC1CCCCC1)C(=O)O'), ('DB00755', 'CC(C=CC1=C(C)CCCC1(C)C)=CC=CC(C)=CC(=O)O'), ('DB01902', 'CCN1C(=O)CCC1=O'), ('DB00869', 'CCNC1CC(C)S(=O)(=O)c2sc(S(N)(=O)=O)cc21'), ('DB00685', 'NC1C2CN(c3nc4c(cc3F)c(=O)c(C(=O)O)cn4-c3ccc(F)cc3F)CC12'), ('DB04012', 'Cc1ccc(S(=O)(=O)N2CCSCC2C(=O)NC(CC(C)C)C(=O)O)cc1'), ('DB03062', 'Cc1c(C(=O)c2nccn2C)oc2cccc(OCCCNCc3cccnc3)c12'), ('DB07401', 'COC=C(C(=O)OC)c1ccccc1Oc1cc(Oc2ccccc2C#N)ncn1'), ('DB00484', 'Brc1c(NC2=NCCN2)ccc2nccnc12'), ('DB08075', 'Nc1nccc(-c2csc(N)n2)n1'), ('DB08422', 'NC(Cc1ccccc1)C(=O)N1CCCC1C(=O)NCCNc1ccncc1'), ('DB05409', 'CC(=O)Nc1ccc(OC(=O)CCCO[N+](=O)[O-])cc1'), ('DB02154', 'O=C(O)C(Cc1ccc2c(c1)OCO2)C(Cc1ccc2c(c1)OCO2)C(=O)O'), ('DB02308', '[NH3+]CCCCOB1OCCO1'), ('DB07965', 'CN1CCN(CCn2cnc3c(NC4CCCCC4)nc(C#N)nc32)CC1'), ('DB01634', 'NC(CC1C=C(NNc2ccccn2)C(O)=CC1=O)C(=O)O'), ('DB06744', 'CC1C(=O)OC2C(O)C34C5CC(C(C)(C)C)C36C(OC(=O)C6O)OC4(C(=O)O5)C12O'), ('DB00224', 'CC(C)(C)NC(=O)C1CN(Cc2cccnc2)CCN1CC(O)CC(Cc1ccccc1)C(=O)NC1c2ccccc2CC1O'), ('DB07734', 'O=C(CCCS)NC1CCN(Cc2ccccc2)CC1'), ('DB08562', 'O=C(O)CCCC(=O)Nc1ccc(C=Cc2ccccc2)cc1'), ('DB07151', 'Cc1cc(C2=NC(=O)N=C(c3ccccc3)C2)ccc1O'), ('DB03202', 'CC(C)C(NC(=O)Cn1c(-c2ccc(N)cc2)ncc(NS(C)(=O)=O)c1=O)C(=O)C(F)(F)F'), ('DB08361', 'Cc1cccc(Nc2nc(NC3CCCCC3N)ncc2C(N)=O)c1'), ('DB07311', 'O=C1Nc2cncc(n2)OCCCCCOc2ccc(Cl)cc2N1'), ('DB03252', 'NCCCCC(N)C(=O)O'), ('DB04433', 'NC(N)=NCCCC1NC(=O)C2CCCN2C1=O'), ('DB08231', 'CCCCCCCCCCCCCC(=O)O'), ('DB00517', 'CCCC(CCC)C(=O)OC1CC2CCC(C1)[N+]2(C)C.[Br-]'), ('DB08339', 'Cn1c(=O)c(-c2c(Cl)cccc2Cl)cc2cnc(Nc3cccc(CO)c3)nc21'), ('DB03451', 'C=C1C(=CC=C2CCCC3(C)C2CCC3C(C)OCCCC(O)(CC)CC)CC(O)CC1O'), ('DB00194', 'Nc1ncnc2c1ncn2C1OC(CO)C(O)C1O'), ('DB07990', 'CCC(COc1ccccc1)OP(C)(=O)Cl'), ('DB02610', 'NS(=O)(=O)c1ccc(C(=O)NCc2c(F)c(F)c(F)c(F)c2F)cc1'), ('DB03672', 'c1ccc(CNc2c3c(nc4ccccc24)CCCC3)cc1'), ('DB03476', 'N=C(N)c1ccc2cc(C3CC3c3ccccc3)ccc2c1'), ('DB07593', 'CCCCC(C=O)NC(=O)OC1(Cc2ccccc2)CCCC1'), ('DB01054', 'CCOC(=O)C1=C(C)NC(C)=C(C(=O)OC)C1c1cccc([N+](=O)[O-])c1'), ('DB06934', 'OC(CCCl)c1ccccc1'), ('DB08642', 'COc1cc(N(C)CC2CCC3=C(C2)C(N)=NC(N)N3)cc(OC)c1OC'), ('DB01533', 'CCN(CC)C(C)C=C(c1cccs1)c1cccs1'), ('DB02538', 'CC(=O)Nc1nccc(-c2c(C)nc3ccccn23)n1'), ('DB05038', 'Cc1cc(C)c2cccc(OCc3c(Cl)ccc(S(=O)(=O)N4CCCC4C(=O)NCCCNC(=O)c4ccc(C(=N)N)cc4)c3Cl)c2n1'), ('DB08383', 'COc1ccc(-c2nc(-c3cccs3)[nH]c2-c2ccc(OC)cc2)cc1'), ('DB08760', 'O=C(O)C(Cc1ccccc1)Oc1ccc(Cl)cc1'), ('DB03058', 'Nc1ccccc1CO'), ('DB04180', 'NS(=O)(=O)c1ccc(C(=O)NCc2ccc(F)cc2F)cc1'), ('DB02089', 'O=C(NCCOCCOCCNC(=O)c1cc2cc(Cl)ccc2[nH]1)c1cc2cc(Cl)ccc2[nH]1'), ('DB04357', 'Nc1nc(O)c2nc(CNc3ccc(C(=O)O)cc3)cnc2[nH+]1'), ('DB01662', 'CC(Cc1ccccc1O)C(=O)O'), ('DB01132', 'CCc1ccc(CCOc2ccc(CC3SC(=O)NC3=O)cc2)nc1'), ('DB04476', 'NC(=O)c1cccc(O)c1O'), ('DB01011', 'CC(C)(C(=O)c1cccnc1)c1cccnc1'), ('DB00516', 'O.O=[AlH3]O[AlH3]=O.O=[Si]=O'), ('DB00794', 'CCC1(c2ccccc2)C(=O)NCNC1=O'), ('DB08734', 'CC1(C)N=C(N)N=C(N)N1OCCCOc1cc(Cl)c(Cl)cc1Cl'), ('DB03833', 'CC(C)(C)c1nnc(C(=O)C2CCCN2)o1'), ('DB02533', 'N=C(N)NN'), ('DB07522', 'NC(Cc1ccccc1)C(O)CNS(=O)(=O)c1ccc2ccccc2c1'), ('DB07289', 'O=C(O)COc1c(C(=O)O)sc(-c2cccc(NCc3ccccc3)c2)c1Br'), ('DB09041', 'OB1OCc2cc(F)ccc21'), ('DB08390', 'CC(C)Oc1ccc(CCC2(C3CCCC3)CC(O)=CC(=O)O2)cc1F'), ('DB02197', 'NS(=O)(=O)c1ccc(Nc2nccc(-c3cnc4ccccn34)n2)cc1'), ('DB11367', 'COC1=C(C(=O)O)N2C(=O)C(NC(=O)C(N)C3=CCC=CC3)C2SC1'), ('DB01397', 'O=C([O-])c1ccccc1O.O=C([O-])c1ccccc1O.[Mg+2]'), ('DB00905', 'CCNC(=O)CCCC=CCC1C(O)CC(O)C1C=CC(O)CCc1ccccc1'), ('DB01428', 'COc1ccc(C(=O)c2ccccc2)c(O)c1'), ('DB01354', 'CCC1(C2=CCCCCC2)C(=O)NC(=O)NC1=O'), ('DB07350', 'Cn1cc(C(=O)Cc2ccccc2)cc1C=CC(=O)NO'), ('DB00139', 'O=C(O)CCC(=O)O'), ('DB02516', 'CC(C)(COP(=O)([O-])OP(=O)(O)OCC1OC(n2cnc3c(N)ncnc32)C(O)C1OP(=O)(O)O)C(O)C(=O)NCCC(=O)NCCSC(=O)CC(O)C[N+](C)(C)C'), ('DB06151', 'CC(=O)NC(CS)C(=O)O'), ('DB08128', 'NC1C2CCC1c1c2cccc1C(F)(F)F'), ('DB00660', 'Cc1cc(C)cc(OCC2CNC(=O)O2)c1'), ('DB07245', 'COc1cccc(-c2cccc(CCc3cccc(N)n3)c2)c1'), ('DB02943', 'COc1ccc(CSCC(NC(=O)CCCN)C(=O)NCC(=O)O)cc1'), ('DB08305', 'Cc1cc2c(cc1S(=O)(=O)N1CCN(C)CC1)S(=O)(=O)NC(C1CCCC1)C2'), ('DB07678', 'CCC=Cc1cc2c(cc1O)CCC1C2CCC2(C)C(O)CCC12'), ('DB09091', 'CC12CCC(=O)C=C1CCC1C2C(O)CC2(C)C1CCC2(O)C(=O)CS'), ('DB03589', 'O=C(O)C(=O)C(=O)O'), ('DB08069', 'Cc1ccccc1-c1n[nH]c(=S)n1N'), ('DB02977', 'CCCCCNC(O)C(Cc1ccc(OCC(=O)O)c(C(=O)O)c1)NC(O)C(Cc1ccccc1)NC(O)OC(C)(C)C'), ('DB09220', 'O=C(NCCO[N+](=O)[O-])c1cccnc1'), ('DB08307', 'O=C1CCCC(=O)C1=C(O)c1ccc(C(F)(F)F)cc1[N+](=O)[O-]'), ('DB02654', 'Cc1cc2c(nc3c(=O)[nH]c(=O)nc-3n2CC(O)C(O)C(O)COP(=O)(O)OP(=O)(O)OCC2OC(n3cnc4c(N)ncnc43)C(O)C2O)c(O)c1C'), ('DB04954', 'OCC1OC(n2cnc3c(NC4CCOC4)ncnc32)C(O)C1O'), ('DB07498', 'O=C(O)CCCc1nc(-c2cccc([N+](=O)[O-])c2)no1'), ('DB00146', 'C=C1CCC(O)CC1=CC=C1CCCC2(C)C1CCC2C(C)CCCC(C)(C)O'), ('DB08062', 'CSc1nnc(-c2ccc(Cl)cc2)[nH]1'), ('DB00765', 'CC(N)(Cc1ccc(O)cc1)C(=O)O'), ('DB07408', 'O=C(O)c1ccc(-c2ccccc2[N+](=O)[O-])o1'), ('DB02031', 'Nc1nc2c(c(=O)[nH]1)NC(CNc1ccc(C(=O)NC(CCC(=O)O)C(=O)O)cc1)CN2'), ('DB00880', 'NS(=O)(=O)c1cc2c(cc1Cl)NC=NS2(=O)=O'), ('DB00137', 'CC(C=CC=C(C)C=CC1=C(C)CC(O)CC1(C)C)=CC=CC=C(C)C=CC=C(C)C=CC1C(C)=CC(O)CC1(C)C'), ('DB09018', 'CCN(CC)CCN=C(O)c1cc(Br)c(N)cc1OC'), ('DB07427', 'COc1ccc(C)cc1OCc1ccccn1'), ('DB06287', 'COC1CC2CCC(C)C(O)(O2)C(=O)C(=O)N2CCCCC2C(=O)OC(C(C)CC2CCC(OC(=O)C(C)(CO)CO)C(OC)C2)CC(=O)C(C)C=C(C)C(O)C(OC)C(=O)C(C)CC(C)C=CC=CC=C1C'), ('DB00839', 'Cc1ccc(S(=O)(=O)NC(=O)NN2CCCCCC2)cc1'), ('DB06590', 'CCON=C(C(=O)NC1C(=O)N2C(C(=O)[O-])=C(Sc3nc(-c4cc[n+](C)cc4)cs3)CSC12)c1nsc(NP(=O)(O)O)n1'), ('DB06874', 'Cc1cc(C#N)cc(C)c1Oc1nc(Nc2ccc(C#N)cc2)nc(CO)c1Br'), ('DB00271', 'CC(=O)Nc1c(I)c(NC(C)=O)c(I)c(C(=O)O)c1I'), ('DB06792', 'O=C([O-])[O-].O=C([O-])[O-].O=C([O-])[O-].[La+3].[La+3]'), ('DB04844', 'COc1cc2c(cc1OC)C1CC(=O)C(CC(C)C)CN1CC2'), ('DB00822', 'CCN(CC)C(=S)SSC(=S)N(CC)CC'), ('DB07579', 'CC1(C(=O)O)OCC(OC(=O)NCCNC(=O)OC2COC(C)(C(=O)O)OC2)CO1'), ('DB02859', 'COC1C=CC(C)C2OC(O)(C(C)C(=O)OC(c3ccccc3)CCCCC1OC)C(OC)C(O)C2C'), ('DB00423', 'COc1ccccc1OCC(O)COC(N)=O'), ('DB07487', 'Cc1ccc2c(c1)CCC(C[PH](=O)[O-])O2'), ('DB08220', 'CC12CCC(C(=O)O)=CC1=CCC1C2CCC2(C)C(C(=O)c3ccc(O)cc3)CCC12'), ('DB02362', 'Nc1ccc(C(=O)O)cc1'), ('DB02921', 'Cc1cn(C23CC(O)C(CO)C2C3)c(=O)[nH]c1=O'), ('DB00247', 'CCC(CO)NC(=O)C1C=C2c3cccc4c3c(cn4C)CC2N(C)C1'), ('DB04499', 'c1ccc(C2CO2)cc1'), ('DB01546', 'CCC(N)Cc1c[nH]c2ccccc12'), ('DB04610', 'CC1(CCc2ccccc2)Nc2nc(N)[nH]c(=O)c2N=C1CO'), ('DB07820', 'CCOCn1c(Cc2cc(C)cc(C)c2)c(C(C)C)c(=O)[nH]c1=O'), ('DB07912', 'CCCCCC(=O)CP(=O)(O)O'), ('DB02629', 'O=C(NC1c2ccccc2CC1O)C(OCc1ccccc1F)C(O)C(O)C(OCc1ccccc1F)C(=O)NC1c2ccccc2CC1O'), ('DB04392', 'O=C1Oc2ccccc2C(=O)C1CC1C(=O)Oc2ccccc2C1=O'), ('DB01166', 'O=C1CCc2cc(OCCCCc3nnnn3C3CCCCC3)ccc2N1'), ('DB06799', 'C1N2CN3CN1CN(C2)C3'), ('DB03102', 'O=C(O)C(=O)Nc1sc2c(c1C(=O)O)CCOC2'), ('DB07058', 'COc1ccc(-n2cnc3ccc(-c4n[nH]c(=S)o4)cc32)cc1'), ('DB01201', 'COC1C=COC2(C)Oc3c(C)c(O)c4c(O)c(c(C=NN5CCN(C6CCCC6)CC5)c(O)c4c3C2=O)NC(=O)C(C)=CC=CC(C)C(O)C(C)C(O)C(C)C(OC(C)=O)C1C'), ('DB00391', 'CCN1CCCC1CNC(=O)c1cc(S(N)(=O)=O)ccc1OC'), ('DB01200', 'CC(C)CC1C(=O)N2CCCC2C2(O)OC(NC(=O)C3C=C4c5cccc6[nH]c(Br)c(c56)CC4N(C)C3)(C(C)C)C(=O)N12'), ('DB02346', 'CCCCCCCC(=O)OC1C(O)C(CO)OC(OC2(CO)OC(CO)C(O)C2O)C1O'), ('DB03765', 'N=c1ccn(C2OC(CO)C(O)C2OP(=O)(O)O)c(O)n1'), ('DB04195', 'CC1(OP(=O)(O)O)OC(CO)C(O)C(O)C1O'), ('DB01021', 'NS(=O)(=O)c1cc2c(cc1Cl)NC(C(Cl)Cl)NS2(=O)=O'), ('DB08758', 'NNC(=O)c1cn2ccc3ccccc3c2n1'), ('DB07883', 'NC1(C(=O)c2ccccc2)C2CCC(C2)C1c1ccccc1'), ('DB08334', 'O=C(ON=Cc1ccc(O)c(F)c1)C1CCCCC1'), ('DB08478', 'N=C(N)NC(=N)Nc1cc(C(F)(F)F)ccc1Cl'), ('DB01199', 'COc1cc2c3cc1Oc1cc(ccc1O)CC1c4c(cc(OC)c(O)c4Oc4ccc(cc4)CC3N(C)CC2)CC[N+]1(C)C'), ('DB13153', 'CC(C)=CCCC(C)(O)C1CC=C(C)CC1'), ('DB03909', 'Nc1ncnc2c1ncn2C1OC(COP(=O)(O)OP(=O)(O)CP(=O)(O)O)C(O)C1O'), ('DB00817', 'CCn1cc(C(=O)O)c(=O)c2ccc(-c3ccncc3)cc21'), ('DB00223', 'CC1CC2C3CC(F)C4=CC(=O)C=CC4(C)C3(F)C(O)CC2(C)C1(O)C(=O)CO'), ('DB02992', 'O=P(O)(O)CNCC(O)C(O)C(O)C(O)COP(=O)(O)O'), ('DB09070', 'C#CC1(O)CCC2C3C(C)CC4=C(CCC(=O)C4)C3CCC21C'), ('DB01073', 'Nc1nc(F)nc2c1ncn2C1OC(CO)C(O)C1O'), ('DB00210', 'COc1ccc(-c2ccc3cc(C(=O)O)ccc3c2)cc1C12CC3CC(CC(C3)C1)C2'), ('DB09128', 'O=c1ccc2ccc(OCCCCN3CCN(c4cccc5sccc45)CC3)cc2[nH]1'), ('DB04972', 'NC(CCC(O)=NC(CS(=O)(=O)CCOP(=O)(N(CCCl)CCCl)N(CCCl)CCCl)C(O)=NC(C(=O)O)c1ccccc1)C(=O)O'), ('DB04931', 'CCCCC(NC(=O)C(CO)NC(=O)C(Cc1ccc(O)cc1)NC(=O)C(CO)NC(C)=O)C(=O)NC(CCC(=O)O)C(=O)NC(Cc1cnc[nH]1)C(=O)NC(Cc1ccccc1)C(=O)NC(CCCNC(=N)N)C(=O)NC(Cc1c[nH]c2ccccc12)C(=O)NCC(=O)NC(CCCCN)C(=O)N1CCCC1C(=O)NC(C(N)=O)C(C)C'), ('DB01818', 'O=S(=O)(O)OC1C(O)C(O)OC(CO)C1O'), ('DB03129', 'NC(=[NH2+])NCCCOB1OCCO1'), ('DB01342', 'CCCCc1nc(CCCC)n(Cc2ccc(-c3ccccc3-c3nn[nH]n3)nc2)n1'), ('DB04789', 'CN1c2c([nH]c(N)nc2=O)NCC1CNc1ccc(C(=O)NC(CCC(=O)O)C(=O)O)cc1'), ('DB09322', 'O=S(=O)([O-])[O-].[Zn+2]'), ('DB00907', 'COC(=O)C1C(OC(=O)c2ccccc2)CC2CCC1N2C'), ('DB04207', 'NC(CCCCNC(CCC(=O)O)C(=O)O)C(=O)O'), ('DB09119', 'CC(=O)OC1Cc2ccccc2N(C(N)=O)c2ccccc21'), ('DB03473', 'CNC(=O)CCC(N)C(=O)O'), ('DB03034', 'CC1COc2c(N3CCN(C)CC3)c(F)cc3c(=O)c(C(=O)O)cn1c23'), ('DB07012', 'Nc1nc2cc3[nH]cnc3cc2c(=O)[nH]1'), ('DB00338', 'COc1ccc2nc(S(=O)Cc3ncc(C)c(OC)c3C)[nH]c2c1'), ('DB05022', 'CN(C)CCN1C(=O)c2cccc3cc(N)cc(c23)C1=O'), ('DB02494', 'O=C(O)C(O)Cc1ccccc1'), ('DB03852', 'CC12CCC(CC1)C(C)(C)O2'), ('DB05171', 'CCC=CCC=CCC=CCC=CCC=CCCCC(=O)OC'), ('DB07107', 'NC(COc1cncc(C=Cc2ccncc2)c1)Cc1c[nH]c2ccccc12'), ('DB03233', 'Cc1cn(C2CC(N)C(COP(=O)(O)O)O2)c(=O)[nH]c1=O'), ('DB09231', 'COC(=O)C1=C(C)NC(C)=C(C(=O)OC2CCCN(Cc3ccccc3)C2)C1c1cccc([N+](=O)[O-])c1'), ('DB02200', 'O=C(NC(Cc1ccccc1)C(=O)NC(CCc1ccccc1)CCS(=O)(=O)Cc1ccccc1)OCc1ccccc1'), ('DB02840', 'CCc1cc(-c2n[nH]c(C(=O)O)c2-c2ccc3c(c2)OCO3)c(O)cc1O'), ('DB04872', 'CC(=O)N(C)C1(c2ccccc2)CCN(CCCC2(c3ccc(Cl)c(Cl)c3)CCCN(C(=O)c3ccccc3)C2)CC1'), ('DB03841', 'CC(C)(C)COc1ccc(-n2cc(C(=O)O)cn2)cc1C#N'), ('DB01761', 'CC(Nc1nccc(-c2c(-c3cccc(C(F)(F)F)c3)nc(C3CCNCC3)n2C)n1)c1ccccc1'), ('DB04422', 'NC(CCS)C(=O)O'), ('DB07456', 'CN1CCCC1CCn1cc(C2=C(c3c[nH]c4ccccc34)C(=O)NC2=O)c2ccccc21'), ('DB03488', 'O=c1ccn(C2OC(COP(=O)(O)OP(=O)(O)OC3OC(CO)C(O)C(O)C3F)C(O)C2O)c(=O)[nH]1'), ('DB03737', 'COc1cc[nH]c1C=C1C(=O)Nc2ccc(F)c(C#CC(O)C(N)C(C)O)c21'), ('DB02387', 'NC(Cc1cccc(O)c1)C(=O)O'), ('DB11364', 'O=C1CCC(C(=O)N2CSCC2C(=O)O)N1'), ('DB04336', 'N=C(N)c1ccc(NC(=O)Nc2ccc(Cl)cc2)cc1'), ('DB00952', 'CNS(=O)(=O)CCc1ccc2[nH]cc(C3CCN(C)CC3)c2c1'), ('DB08148', 'NCC1(c2ccc(Cl)cc2)CCN(c2ncnc3[nH]ccc23)CC1'), ('DB01989', 'COC(=O)C1CCCN1C(=O)C(C)NP(=O)(O)C(Cc1ccccc1)NC(=O)C(CCCC[NH3+])NC(=O)C1CCCN1C(=O)OCc1ccccc1'), ('DB01419', 'O=C(OCCN1CCN(c2cccc(C(F)(F)F)c2)CC1)c1ccccc1Nc1ccnc2cc(C(F)(F)F)ccc12'), ('DB02677', 'CC(=O)NC(Cc1cccc2ccccc12)[B-](O)(O)OCC(N)C(=O)O'), ('DB06263', 'CC(=O)C1(N)Cc2c(O)c3c(c(O)c2C(OC2CC(O)C(O)CO2)C1)C(=O)c1ccccc1C3=O'), ('DB08156', 'NS(=O)(=O)c1ccc(CCC(=O)O)cc1'), ('DB04127', 'O=P(O)(O)OCC1OC(O)C(O)C1O'), ('DB01165', 'CC1COc2c(N3CCN(C)CC3)c(F)cc3c(=O)c(C(=O)O)cn1c23'), ('DB08868', 'CCCCCCCCc1ccc(CCC(N)(CO)CO)cc1'), ('DB00283', 'CN1CCCC1CCOC(C)(c1ccccc1)c1ccc(Cl)cc1'), ('DB00379', 'Cc1cccc(C)c1OCC(C)N'), ('DB02883', 'Nc1ccn(C2CCC(COP(=O)(O)O)O2)c(=O)n1'), ('DB02069', 'NS(=O)(=O)c1ccc(C(=O)NCc2ccccc2F)cc1'), ('DB04081', 'CNC1CC(C)S(=O)(=O)c2sc(S(N)(=O)=O)cc21'), ('DB04785', 'CN=C(O)C(C)C1C(=O)C(=C(O)C=CC(C)=CC(C)C2OC3(C)OC(C=CC34CO4)C2C)C(=O)N1C1CCC(O)C(C)O1'), ('DB02423', 'O=P(O)(O)OP(=O)(O)[S-]'), ('DB08170', 'COc1ccc(S(=O)(=O)N2CCc3cc(O)c(OC)cc3C2C(=O)NO)cc1'), ('DB08741', 'COc1cc(Cc2cnc(N)nc2N)c2c(c1OC)OC(C1CC1)C=C2'), ('DB07364', 'CCCCc1c(-c2ccc(O)cc2)[nH]c2nccnc12'), ('DB02757', 'c1cn[nH]c1'), ('DB02869', 'NC(CCc1ccccc1)CCS(=O)(=O)c1ccccc1'), ('DB08150', '[NH3+]C1(Cc2ccc(Cl)cc2)CCN(c2ncnc3[nH]ccc23)CC1'), ('DB00700', 'COC(=O)C1CC2=CC(=O)CCC2(C)C23OC2CC2(C)C(CCC24CCC(=O)O4)C13'), ('DB01111', 'CCC(C)CCCCC(=O)NC(CCNCS(=O)(=O)[O-])C(=O)NC(C(=O)NC(CCNCS(=O)(=O)[O-])C(=O)NC1CCNC(=O)C(C(C)O)NC(=O)C(CCNCS(=O)(=O)[O-])NC(=O)C(CCNCS(=O)(=O)[O-])NC(=O)C(CC(C)C)NC(=O)C(CC(C)C)NC(=O)C(CCNCS(=O)(=O)[O-])NC1=O)C(C)O'), ('DB03358', 'CN1CN(C2OC(COP(=O)(O)OP(=O)(O)OP(=O)(O)O)C(O)C2O)c2nc(N)[nH]c(=O)c21'), ('DB00425', 'Cc1ccc(-c2nc3ccc(C)cn3c2CC(=O)N(C)C)cc1'), ('DB03015', 'OCC1OC(n2c[nH+]c3c2N=CNC3O)C(O)C1O'), ('DB04307', 'C#CCNC1CCc2ccc(O)cc21'), ('DB04485', 'Cc1cn(C2CC(O)C(CO)O2)c(=O)[nH]c1=O'), ('DB02051', 'O=C(NC(Cc1ccccc1)C(=O)NC(CCc1ccccc1)CCS(=O)(=O)Oc1ccc([N+](=O)[O-])cc1)OCc1ccccc1'), ('DB06978', 'COc1ccc(C(=O)NN=Cc2cc(Br)c(O)c(Br)c2O)cc1'), ('DB05498', 'CC(O)(C(=O)Nc1cccc2c1C(=O)c1sccc1CS2(=O)=O)C(F)(F)F'), ('DB02153', 'NC(CS(=O)O)C(=O)O'), ('DB00872', 'Cc1nc2c([nH]1)CCN(C(=O)c1ccc(NC(=O)c3ccccc3-c3ccccc3)cc1)c1ccccc1-2'), ('DB01370', '[Al]'), ('DB03461', 'NC(=O)c1ccc[n+](C2OC(COP(=O)([O-])OP(=O)(O)OCC3OC(n4cnc5c(N)ncnc54)C(OP(=O)(O)O)C3O)C(O)C2O)c1'), ('DB00462', 'C[N+]1(C)C2CC(OC(=O)C(CO)c3ccccc3)CC1C1OC12.[Br-]'), ('DB07043', 'CC(C)(C)c1nc(N2CCN(c3ncccn3)CC2)c2cc(C(N)=O)c(N)nc2n1'), ('DB06892', 'O=C(NOCCO)C1=CC=C(F)C(F)C1=Nc1ccc(I)cc1F'), ('DB08312', 'Nc1nc(N)c(N=O)c(OCC2CCCCC2)n1'), ('DB03392', 'COP(=O)(NC1OC(CO)C(O)C(O)C1O)OC'), ('DB08748', 'CN(C)c1ccc(C(=O)O)cc1'), ('DB08358', 'O=C1NCCc2[nH]c(-c3ccnc(-c4cnc5ccccc5c4)c3)cc21'), ('DB03459', 'O=C(O)CC(N=C(O)CP(=O)(O)O)C(=O)O'), ('DB00724', 'CC(C)Cn1cnc2c(N)nc3ccccc3c21'), ('DB07082', 'OC(c1ccc(NCC(F)(F)F)cc1)(C(F)(F)F)C(F)(F)F'), ('DB08458', 'CN(CC=CCOc1ccc(C(=O)c2ccc(Br)cc2)cc1)C1CC1'), ('DB03121', 'COc1ccc2c(c1)c(CC(=O)O)c(C)n2Cc1ccccc1'), ('DB08533', 'Cc1cnc2c(NCc3ccncc3)nccn12'), ('DB01032', 'CCCN(CCC)S(=O)(=O)c1ccc(C(=O)O)cc1'), ('DB03692', 'CCCCCCCCCCCCCCCCS(=O)(=O)OCC(N)C(=O)O'), ('DB07033', 'CC(C1=c2cc(O)ccc2=NC1=O)c1ccc[nH]1'), ('DB09161', '[C-]#[N+]CC(C)(C)OC.[C-]#[N+]CC(C)(C)OC.[C-]#[N+]CC(C)(C)OC.[C-]#[N+]CC(C)(C)OC.[C-]#[N+]CC(C)(C)OC.[C-]#[N+]CC(C)(C)OC.[Tc+]'), ('DB09192', 'CCn1c2c(c3ccccc31)CCSC2(C)CCN(C)C'), ('DB06829', 'O=C(O)COc1c(C(=O)O)sc(-c2cccc(NC3CCCCC3)c2)c1Br'), ('DB07654', 'CN(CCO)c1ncnc2oc(-c3ccccc3)c(-c3ccccc3)c12'), ('DB09340', 'CCCC(=O)Nc1c(I)cc(I)c(CC(CC)C(=O)O)c1I'), ('DB00262', 'O=NN(CCCl)C(=O)NCCCl'), ('DB00220', 'Cc1c(O)cccc1C(=O)NC(CSc1ccccc1)C(O)CN1CC2CCCCC2CC1C(=O)NC(C)(C)C'), ('DB00995', 'CCP(CC)(CC)=[Au]SC1OC(COC(C)=O)C(OC(C)=O)C(OC(C)=O)C1OC(C)=O'), ('DB03272', 'Cn1nc(-c2cc(C(=O)O)c(Cl)cc2F)c(Br)c1C(F)(F)F'), ('DB00197', 'Cc1c(C)c2c(c(C)c1O)CCC(C)(COc1ccc(CC3SC(=O)NC3=O)cc1)O2'), ('DB06997', 'O=C(Cc1ccc(F)cc1)NC(=O)Nc1ccc(Oc2ccnc3[nH]ccc23)c(F)c1'), ('DB01659', 'NC(Cc1ccc2ccc3cccnc3c2n1)C(=O)O'), ('DB02235', 'CS(=O)CCC(N)C(=O)O'), ('DB06690', 'N#[N+][O-]'), ('DB08346', 'O=C1CCCCC=CCCOC(=O)c2c(O)cc(O)c(Cl)c2C1'), ('DB08409', 'O=C(O)CNC(=O)CCCP(=O)(O)OCc1ccc([N+](=O)[O-])cc1'), ('DB04020', 'Oc1ccc(CCNc2nc(SCCCc3ccc(Cl)cc3)nc(N3CCNCC3)n2)cc1'), ('DB01394', 'COc1cc2c(c(OC)c1OC)-c1ccc(OC)c(=O)cc1C(NC(C)=O)CC2'), ('DB08915', 'COC(Cc1ccc(OCCc2nc(-c3ccccc3)oc2C)c2ccsc12)C(=O)O'), ('DB03191', 'NC(CC1CO1)C(=O)O'), ('DB07664', 'Nc1nc(Nc2ccc(S(N)(=O)=O)cc2)nn1C(=S)Nc1c(F)cccc1F'), ('DB02427', 'COc1ccc(OC)c(CN(C)c2ccc3nc(N)nc(N)c3c2)c1'), ('DB03396', 'COC(C(=O)NC1CCC(O)CNC1=O)C(O)C(O)C(O)C=CC(C)(C)C'), ('DB01500', 'CC12CCC3C4CCC(=O)C(O)=C4CCC3C1CCC2O'), ('DB03733', 'ClCCCl'), ('DB09101', 'COc1cc2c(cc1Cc1cccc(Cl)c1F)c(=O)c(C(=O)O)cn2C(CO)C(C)C'), ('DB06933', 'CC(C)(C)NS(=O)(=O)c1ccc(-c2cnc3cccc(Nc4ccccn4)c3c2)cc1'), ('DB06966', 'CCCCCCP(=O)(O)OCC(C)Cc1ccccc1'), ('DB02952', 'CC(C)(N)C(=O)O'), ('DB01039', 'CC(C)OC(=O)C(C)(C)Oc1ccc(C(=O)c2ccc(Cl)cc2)cc1'), ('DB08427', 'O=C(O)C(=O)CC1(C(=O)O)C=CC(O)C=C1'), ('DB05088', 'S=[Mo]=S.[SH-].[SH-]'), ('DB01785', 'CC(C)=CCOP(=O)(O)OP(=O)(O)O'), ('DB04327', 'CCCCCCCCCCCCCCCCCC(=O)OCC(COP(=O)(O)OCC[NH3+])OC(=O)CCCCCCCCCCCCCCCCC'), ('DB05817', 'CNC(=O)N(N(CCCl)S(C)(=O)=O)S(C)(=O)=O'), ('DB02615', 'CC(COc1ccc(C2Oc3ccc(O)cc3SC2c2ccc(O)cc2)cc1)N1CCCC1'), ('DB07628', 'Cc1cc2c(s1)c1cnn(Cc3ccccc3F)c(=O)c1n2C'), ('DB04079', 'CCCCC(O)C(O)CO'), ('DB04824', 'O=C1OC(c2ccc(O)cc2)(c2ccc(O)cc2)c2ccccc21'), ('DB07736', 'O=C(NCCS)C1CN(Cc2ccc(F)cc2)CCN1'), ('DB08172', 'COc1ccccc1-c1ccc(NC(=O)C(C#N)=C(C)O)c(Cl)c1'), ('DB04043', 'O=C(O)CCCCCCC=CC1O[Fe]23Oc4ccccc4C4NC(CO4)C(=O)NC(CCCCN1O2)C(=O)OCCC(=O)NC1CCCCN(O3)C1=O'), ('DB07557', 'CC(=O)C1CCC2C3CCC4CC(=O)CCC4(C)C3CCC12C'), ('DB03475', 'CCC(CC)Nc1cc(C(=O)O)ccc1N1C(=O)CCC1(CO)CO'), ('DB09210', 'N=C(O)CN1CCCC1=O'), ('DB04942', 'CC1(C)CCC(C)(C)c2cc(NC(=O)c3ccc(C(=O)O)cc3)ccc21'), ('DB04111', 'CNC(CC(C)C)C(=O)NC1C(=O)NC(CC(N)=O)C(=O)NC2C(=O)NC3C(=O)NC(C(=O)NC(C(=O)O)c4cc(O)cc(O)c4-c4cc3ccc4O)C(OC3CC(C)(N)C(=O)C(C)O3)c3ccc(c(Cl)c3)Oc3cc2cc(c3OC2OC(CO)C(O)C(O)C2O)Oc2ccc(cc2Cl)C1O'), ('DB08719', 'Cc1cc(CCCCCOc2ccc(C3=NCCO3)cc2Cl)on1'), ('DB01957', 'Oc1cccc(Cl)c1'), ('DB03485', 'CC1OC(O)C(O)C(O)C1O'), ('DB09162', 'O=C([O-])CC(O)(CC(=O)[O-])C(=O)[O-].[Fe+3]'), ('DB03155', 'O=c1ccn(C2OC(CO)C(OP(=O)(O)O)C2F)c(=O)[nH]1'), ('DB03101', 'O=P(O)(O)OC1OC(CO)C(O)C1O'), ('DB07687', 'NC1CCC(Nc2cc(Nc3ccc(S(N)(=O)=O)cc3)n3ncnc3n2)CC1'), ('DB02576', 'CC(O)C[NH3+]'), ('DB07134', 'O=C1CN(c2csc(-c3ccccc3)c2Cl)S(=O)(=O)N1'), ('DB02227', 'O=C(O)C1CC(O)C(O)CO1'), ('DB00943', 'Nc1ccn(C2CCC(CO)O2)c(=O)n1'), ('DB07908', 'Cc1c(CCO)c(=O)oc2cc(O)ccc12'), ('DB08584', 'Cn1cc(-c2ccc3nnc(Sc4ccc5ncccc5c4)n3n2)cn1'), ('DB07757', 'CCCCC12CCC(=O)C(Br)=C1c1ccc(O)cc1C2'), ('DB08790', 'O=C(O)c1cnn(-c2ccccc2)c1'), ('DB02046', 'CC(C)CC(NC(=O)c1ccco1)C(=O)NC(Cc1c[nH]c2ccccc12)P(=O)(O)O'), ('DB00631', 'Nc1nc(Cl)nc2c1ncn2C1OC(CO)C(O)C1F'), ('DB07233', 'CC#CCOc1ccc(S(=O)(=O)NC(Cc2c[nH]c3ccc(C)cc23)C(=O)O)cc1'), ('DB08447', 'CN(C)Cc1c[nH]c2c(CCCO)cccc12'), ('DB03629', 'Cc1c(O)c(C=O)c(COP(=O)(O)O)c[n+]1[O-]'), ('DB06685', 'CCN(C(=O)c1c(O)c2c(Cl)cccc2n(C)c1=O)c1ccccc1'), ('DB04905', 'CCN(CC)CCOc1ccc(Cc2ccccc2)cc1'), ('DB07321', 'COc1cc(-c2ccc(OC)nc2)c2oc(NS(=O)(=O)c3cc(Cl)ccc3Cl)nc2c1'), ('DB04646', 'CC1=C(Br)C(=O)C(C(C)C)=C(Br)C1=O'), ('DB07026', 'O=C(NCc1ccc(-c2ccccc2)cc1)C1OC2CN(C(=O)NO)CC1O2'), ('DB02663', 'CP(=O)(O)CCC(N)C(=O)O'), ('DB01366', 'CCC(NC(C)C)C(O)c1ccc(O)c2[nH]c(=O)ccc12'), ('DB08521', 'CS(=O)c1ccc(-c2nc(-c3ccc(F)cc3)c(-c3ccncc3)[nH]2)cc1'), ('DB09089', 'CCC(COC(=O)c1cc(OC)c(OC)c(OC)c1)(c1ccccc1)N(C)C'), ('DB07320', 'CC1CCC(NCc2ccc3c(c2)Cc2c(-c4ccc(C(=O)O)cc4)n[nH]c2-3)CC1'), ('DB02264', 'O=C(O)C1OC(O)C(OS(=O)(=O)O)C(O)C1O'), ('DB05792', 'CCN(CC=Cc1ccc(C2CCCCC2)c(Cl)c1)C1CCCCC1.Cl'), ('DB04624', 'CCC(O)CC(O)c1c(CC(=O)OC)cc2c(c1O)C(=O)c1c(O)cccc1C2=O'), ('DB02547', 'CC1OC(OP(=O)(O)OP(=O)(O)OCC2OC(n3cnc4c(=O)[nH]c(N)nc43)C(O)C2O)C(O)C(O)C1O'), ('DB02689', 'NC(CSCCS(N)(O)O)C(=O)O'), ('DB08040', 'CC(NC(=O)C(CC(=O)NO)Cc1ccccc1)C(=O)O'), ('DB03754', 'NC(CO)(CO)CO'), ('DB07614', 'c1ccc(-c2ncc(-c3cc[nH]n3)s2)cc1'), ('DB02693', 'OC1CSSCC1O'), ('DB04569', 'O=COCc1ccccc1'), ('DB02220', 'CNC1CN(c2cccc(OC)c2)S(=O)(=O)c2sc(S(N)(=O)=O)cc21'), ('DB00371', 'CCCC(C)(COC(N)=O)COC(N)=O'), ('DB00299', 'Nc1nc(=O)c2ncn(CCC(CO)CO)c2[nH]1'), ('DB07617', 'CNCc1ccc(-c2cccnc2)o1'), ('DB07588', 'O=C(O)c1[nH]c(C(=O)O)c(-c2c[nH]c3ccccc23)c1-c1c[nH]c2ccccc12'), ('DB08125', 'O=C1Nc2ccccc2C1=CNc1ccc(S(=O)(=O)Nc2nccs2)cc1'), ('DB00430', 'Cc1cc(O)c(C(=O)NC(C(=O)NC2C(=O)N3C(C(=O)O)=C(CSc4nnnn4C)CSC23)c2ccc(O)cc2)cn1'), ('DB07182', 'N=C(N)Nc1cccc(C(CP(=O)(O)CCCc2ccccc2)C(=O)O)c1'), ('DB02505', 'CCCCCc1ccc(C(=O)N(Cc2ccc(-c3ccc(CC(=O)OC)cc3)cc2)C2CCN(Cc3ncc[nH]3)CC2)cc1'), ('DB04842', 'O=C1NCN(c2ccccc2)C12CCN(CCCC(c1ccc(F)cc1)c1ccc(F)cc1)CC2'), ('DB03535', 'O=CC1CCCN1C(=O)C1CCCN1C(=O)OCc1ccccc1'), ('DB01658', 'Cc1ccc(C[n+]2csc(CCOP(=O)(O)OP(=O)([O-])O)c2C)c(N)n1'), ('DB02541', '[NH3+]CCCCO'), ('DB01605', 'CC(C)(C)C(=O)OCOC(=O)C1N2C(=O)C(N=CN3CCCCCC3)C2SC1(C)C'), ('DB08673', 'CC(C)c1cnc(Nc2ccc(S(N)(=O)=O)cc2)s1'), ('DB02666', 'O=C(O)C(CCCN1C(=O)NC2(OC(COP(=O)(O)O)C(O)C2O)C1=O)N(O)CO'), ('DB03148', 'Nc1ncnc2c1ncn2C1OC(COP(=O)(O)CP(=O)(O)O)C(O)C1O'), ('DB03655', 'CCC(CC)C(NC(C)=O)C1C(NC(=N)N)CC(C(=O)O)C1O'), ('DB01803', 'C[N+](C)(C)CCS'), ('DB05339', 'Cl.c1ccc2c(c1)OCC(CNCCCOc1ccc3c(c1)OCO3)O2'), ('DB02768', 'CC(C)(C)OC=O'), ('DB08640', 'CCC(C=O)C(CNS(=O)(=O)c1ccc(C)cc1)C(=O)O'), ('DB07691', 'O=C(Nc1ccccc1C(=O)O)c1cccc(S(=O)(=O)N2CCc3ccccc3C2)c1'), ('DB04171', 'CCC(C)(N)C(=O)O'), ('DB04769', 'O=C1NC(=O)C(=Cc2ccc3nccnc3c2)S1'), ('DB08200', 'CCCCCCP(=O)(O)OC1CC(C)CCC1C(C)C'), ('DB02482', 'CC(OP(=O)(O)O)C(N)C(=O)O'), ('DB01296', 'NC1C(O)OC(CO)C(O)C1O'), ('DB04803', 'C=Cc1c(C)c2nc1cc1[n-]c(ccnc(C(=C)C)cc3[n-]c([o+]2)c(C=C)c3C)c(CCC(=O)O)c1C.[Fe+4]'), ('DB07465', 'N#CC1CC2CC2N1C(=O)C(N)C12CC3CC(CC(O)(C3)C1)C2'), ('DB01899', 'NC(Cc1c[nH+]cn1P(=O)(O)O)C(=O)O'), ('DB02041', 'Nc1ccc2c(=O)[nH][nH]c(=O)c2c1'), ('DB04544', 'CC(=O)NC1(C(N)=O)OC(CO)C(O)C(O)C1O'), ('DB00731', 'CC(C)C1CCC(C(=O)NC(Cc2ccccc2)C(=O)O)CC1'), ('DB01180', 'COC(=O)C1C2CC3c4[nH]c5cc(OC)ccc5c4CCN3CC2CC(OC(=O)C=Cc2cc(OC)c(OC)c(OC)c2)C1OC'), ('DB02790', 'O=c1ccn(C2OC(COP(=O)(O)OP(=O)(O)Oc3ccccc3)C(O)C2O)c(=O)[nH]1'), ('DB03465', 'O=C(O)C(CO)OP(=O)(O)O'), ('DB07759', 'O=C(O)c1ccc(-c2ccccc2C(F)(F)F)o1'), ('DB00237', 'CCC(C)C1(CC)C(=O)NC(=O)NC1=O'), ('DB04861', 'OC(CNCC(O)C1CCc2cc(F)ccc2O1)C1CCc2cc(F)ccc2O1'), ('DB07332', 'CC(=O)c1ccc(C)cc1NC(C(N)=O)c1c(Cl)cccc1Cl'), ('DB03440', 'CCCCCCCCCCCCCCCC(=O)NCC(=O)O'), ('DB07779', 'NC(CC(=O)N1CCCC1CNC(=O)c1ccccc1)Cc1ccccc1F'), ('DB08465', 'COc1cc(N)c(OC)c(CCOC(=O)c2cc(Cl)c(O)cc2O)c1OC'), ('DB09060', 'NC(=O)C1CCC2CN1C(=O)N2OS(=O)(=O)O'), ('DB01675', 'C=C(C)C(=O)SCCNC(=O)CCNC(=O)C(O)C(C)(C)COP(=O)(O)OP(=O)(O)OCC1OC(n2cnc3c(N)ncnc32)C(O)C1OP(=O)(O)O'), ('DB00719', 'CN1CCC(=C2c3ccccc3CCc3cccnc32)CC1'), ('DB01139', 'CC(=O)OCC1=C(C(=O)O)N2C(=O)C(NC(=O)CSc3ccncc3)C2SC1'), ('DB07404', 'O=P(O)(O)C(O)(Cc1cccc(-c2cccc(-c3ccccc3)c2)c1)P(=O)(O)O'), ('DB04233', 'CCCCCCCCOCCOCCOCCOCCO'), ('DB04072', 'CC(O)(C(=O)O)C(CC(=O)O)C(=O)O'), ('DB02546', 'O=C(CCCCCCC(=O)Nc1ccccc1)NO'), ('DB07469', 'Cc1ccc2c(c1)N=C1N(c3ccccc3)CCC1(O)C2=O'), ('DB03452', 'C[Si](C)(C)C(CC(=O)O)C(=O)O'), ('DB02569', 'Cc1cn(C2C=CC(COP(=O)(O)OP(=O)(O)O)O2)c(=O)[nH]c1=O'), ('DB09040', 'C=C1CCN(C(C)C(O)(Cn2cncn2)c2ccc(F)cc2F)CC1'), ('DB04455', 'C[N+](C)(C)CC(=O)O'), ('DB01364', 'CNC(C)C(O)c1ccccc1'), ('DB00353', 'CCC(CO)NC(=O)C1C=C2c3cccc4[nH]cc(c34)CC2N(C)C1'), ('DB00393', 'COCCOC(=O)C1=C(C)NC(C)=C(C(=O)OC(C)C)C1c1cccc([N+](=O)[O-])c1'), ('DB01186', 'CCCN1CC(CSC)CC2c3cccc4[nH]cc(c34)CC21'), ('DB02219', 'O=S(=O)(O)CCCNC1CCCCC1'), ('DB01919', 'CCCCC=O'), ('DB02292', 'NS(=O)(=O)Oc1ccc2c3c(c(=O)oc2c1)CCCCC3'), ('DB07486', 'Nc1cccc(Sc2ccc(C=CC(=O)N3CCOCC3)c(C(F)(F)F)c2C(F)(F)F)c1'), ('DB01562', 'CC(=O)OC1(c2ccccc2)CCN(CCc2ccccc2)CC1'), ('DB00829', 'CN1C(=O)CN=C(c2ccccc2)c2cc(Cl)ccc21'), ('DB04173', 'OCC1OC(O)(CO)C(O)C1O'), ('DB01796', 'O=C(O)c1cccnc1C(=O)O'), ('DB04253', 'NC(=O)c1cc(N2CC2)c([N+](=O)[O-])cc1[N+](=O)[O-]'), ('DB02532', 'Nc1ccc2nc(N)nc(N)c2c1'), ('DB00401', 'COC(=O)C1=C(C)NC(C)=C(C(=O)OCC(C)C)C1c1ccccc1[N+](=O)[O-]'), ('DB08050', 'O=C(O)C(=O)CCCc1ccccc1'), ('DB00799', 'CCOC(=O)c1ccc(C#Cc2ccc3c(c2)C(C)(C)CCS3)nc1'), ('DB01807', 'CC(C)(C)c1cc(=NC(=O)Nc2ccc(Cl)cc2)n(-c2ccccc2)[nH]1'), ('DB08981', 'O=C(O)CCC(=O)c1ccc(-c2ccccc2)cc1'), ('DB04565', 'CC(=O)Nc1ccc(C(=O)O)cc1NC(=O)CO'), ('DB00562', 'NS(=O)(=O)c1cc2c(cc1Cl)NC(CSCc1ccccc1)=NS2(=O)=O'), ('DB00429', 'CCCCCC(C)(O)C=CC1C(O)CC(O)C1CC=CCCCC(=O)[O-].[NH3+]C(CO)(CO)CO'), ('DB02936', 'Cc1c(CC(N)=O)c2cc(OCCCC(=O)O)ccc2n1Cc1ccccc1'), ('DB08246', 'CN(C)C(=O)N1CC(c2cc(F)ccc2F)=CC1c1ccccc1'), ('DB00405', 'CN(C)CCC(c1ccc(Br)cc1)c1ccccn1'), ('DB05260', 'O=[N+]([O-])[O-].O=[N+]([O-])[O-].O=[N+]([O-])[O-].[Ga+3]'), ('DB08384', 'c1ccc2nc(COc3ccc(-c4n[nH]cc4Cc4ccncc4)cc3)ccc2c1'), ('DB09237', 'CCOC(=O)C1=C(COCCN)NC(C)=C(C(=O)OC)C1c1ccccc1Cl'), ('DB00752', 'NC1CC1c1ccccc1'), ('DB07425', 'Cc1cc(OCC(=O)O)cc(C)c1Cc1ccc(O)c(C(C)C)c1'), ('DB01844', 'CN(C)C=O'), ('DB08455', 'CC(C=Cc1c(C)cc(O)cc1C)=CC=CC(C)CC(=O)O'), ('DB03224', 'C=CC1C2=Cc3c(C)c(CCC(=O)O)c4n3[Fe]35N2C(=C1C)C=c1c(=CO)c(C)c(n13)C=c1c(C)c(CCC(=O)O)c(n15)=C4'), ('DB02565', 'CN(C)c1ccc(C(=O)NCCCCCCC(O)N=O)cc1'), ('DB06731', 'NCCC(Oc1ccc(C(F)(F)F)cc1)c1ccccc1'), ('DB08082', 'O=C(NCCO)c1ccc(Cl)cc1'), ('DB00206', 'COC(=O)C1C2CC3c4[nH]c5cc(OC)ccc5c4CCN3CC2CC(OC(=O)c2cc(OC)c(OC)c(OC)c2)C1OC'), ('DB02386', 'CC(C)CC(N)P(=O)(O)O'), ('DB04704', 'CC(C)CCCC(C)(O)C1CCC2C3CC=C4CC(O)CCC4(C)C3CCC21C'), ('DB07626', 'CCOc1c(Cl)cc(N2CCCCC2)cc1NC(=O)c1cc(C)c(OCCN)c(C)c1'), ('DB02696', 'NCCCCCCOP(=O)(O)OP(=O)(O)OCC1OC(n2ccc(=O)[nH]c2=O)C(O)C1O'), ('DB07104', 'NCCCC(=O)Nc1ccc(OCc2ccccc2)cc1'), ('DB03112', 'O=C(O)CCCCCC1SCC2NC(=O)NC21'), ('DB08111', 'Oc1ccc(Cc2nnc3ccc(-c4ccccc4)nn23)cc1'), ('DB04639', 'NC(Cc1ccc(-c2ccccc2)cc1)C(=O)O'), ('DB08595', 'CC1=CCC2CC1C(c1ccc(O)cc1)OC2(C)C'), ('DB01537', 'COc1cc(CCN)c(OC)cc1Br'), ('DB04644', 'Cc1c(NC(=O)NC(=O)c2ccc(Cl)cc2Cl)ccc(OCCCC(=O)O)c1C'), ('DB04849', 'COc1cc2c(Oc3ccc4[nH]c(C)cc4c3F)ncnc2cc1OCCCN1CCCC1'), ('DB01523', 'CCN(CC)CCn1c(Cc2ccc(Cl)cc2)nc2cc([N+](=O)[O-])ccc21'), ('DB04163', 'Nc1nc(N)c2c(Sc3ccccc3)cccc2n1'), ('DB00848', 'c1ccc(C2CN3CCSC3=N2)cc1'), ('DB08976', 'O=C(OCC(O)CO)c1ccccc1Nc1ccnc2c(C(F)(F)F)cccc12'), ('DB04031', 'NC(CO[V]([O-])([O-])([O-])O)C(=O)O'), ('DB01905', 'COc1ccc(O)c(-c2nc3cc(C(N)=[NH2+])ccc3[nH]2)c1'), ('DB04528', 'O=[N+]([O-])c1ccc(O)c([N+](=O)[O-])c1'), ('DB02587', 'C=CC1(C)CC(=O)C2(O)C(C)(O1)C(OC(C)=O)C(O)C1C(C)(C)CCC(O)C12C'), ('DB02332', 'Cc1cc2nc3c(=O)[nH]c(=O)nc-3n(CC(O)C(O)C(O)COP(=O)(O)OP(=O)(O)OCC3OC(n4cnc5c(N)ncnc54)C(O)C3O)c2cc1C'), ('DB04332', 'COCCOCCOCCOCCO'), ('DB04075', 'CC(=O)NC(CCC(=O)O)C(=O)O'), ('DB02562', 'CC(O)C(O)C1CNC2=NC(N)=NC(=O)C2=N1'), ('DB11618', 'COc1cccc2c1C(=O)c1c(O)c3c(c(O)c1C2=O)CC(O)(C(C)=NN=C(O)c1ccccc1)CC3OC1CC(N)C(O)C(C)O1'), ('DB07933', 'Oc1ccc(C2Oc3ccc(O)cc3C3CCCC32)cc1'), ('DB07130', 'O=C(O)COc1c(C(=O)O)sc(-c2ccccc2)c1Br'), ('DB07432', 'CCCC(=O)NC1C(=NOC(=O)Nc2ccccc2)OC(CO)C(O)C1O'), ('DB02052', 'O=C1Nc2ccccc2C1=C1Nc2ccccc2C1=NO'), ('DB03404', 'C=Cc1c(C)c2cc3[n-]c(cc4nc(cc5[n-]c(cc1n2)c(C)c5CCC(=O)O)c(CCC(=O)O)c4C)c(C)c3C=C.[Cl-].[Fe+3]'), ('DB06901', 'C=CCC(C=O)C1CCCC1O'), ('DB08814', 'CC(=O)Oc1cc(C(F)(F)F)ccc1C(=O)O'), ('DB03882', 'CC12CCC3C(CCC4CC(O)CCC43C)C1CCC2O'), ('DB01962', 'NC(Cc1ccc(OP(=O)(O)O)cc1)C(=O)O'), ('DB08051', 'NC(CC(=O)N1CCCCCN1C(=O)c1ccccc1)Cc1cc(F)c(F)cc1F'), ('DB04759', 'Cc1cccc(CNC(=O)c2cc(C(=O)NCc3cccc(C)c3)ncn2)c1'), ('DB03093', 'COc1ccc(OC)c(Cc2nc3nc(F)nc(N)c3[nH]2)c1'), ('DB04832', 'CN(C)CC=C(c1ccc(Br)cc1)c1cccnc1'), ('DB06766', 'CN1CCC(=C2c3ccccc3CCn3c(C=O)cnc32)CC1'), ('DB09117', 'CC1OC(C)OC(C)O1'), ('DB08158', 'O=[N+]([O-])c1ccc(OC2OC(CO)C(O)C(O)C2F)c([N+](=O)[O-])c1'), ('DB03821', 'NC(C(=O)O)C(O)OP(=O)(O)O'), ('DB04287', 'O=C(O)CCC(Cc1ccc(OCc2ccccc2)cc1)NC(=O)CCCCCCc1ccccc1'), ('DB02466', 'CC1(C)CCC(C)(C)c2cc(C(=O)C=Cc3ccc(C(=O)O)cc3)ccc21'), ('DB09389', 'C#CC1(O)CCC2C3CCC4=CC(=O)CCC4C3CCC21CC'), ('DB02188', 'CCC1=C(C)C2=CC3=C(CC)C(C)=C4C=C5C(C)=C(CCC(=O)O)C6=[N+]5[Cu]5(n7c(c(C)c(CCC(=O)O)c7=C6)=CC1=[N+]25)[N+]43C'), ('DB04046', 'COC1OC(CO)C(O)C(O)C1O'), ('DB07741', 'NC(N)c1ccc(C2C3C(=O)N(Cc4ccc(F)cc4)C(C(F)F)C3C3CCCN32)cc1'), ('DB03541', 'C#CCN(Cc1ccc2[nH]c(N)nc(=O)c2c1)c1ccc(C(=O)NC(CCC(=O)O)C(=O)O)cc1'), ('DB01800', 'O=[N+]([O-])c1ccc(O)c(OS(=O)(=O)O)c1'), ('DB03367', 'O=C(O)CC(NC(=O)c1cc(-c2ccc(-c3ccncc3)cc2)cs1)c1ccccc1'), ('DB06989', 'COC(=O)C(Cc1ccccc1)(Cc1ccc(NS(=O)(=O)O)cc1)C(=O)OC'), ('DB03797', 'NCc1ccc[n+](C2OC(COP(=O)([O-])OP(=O)(O)OCC3OC(n4cnc5c(N)ncnc54)C(O)C3O)C(O)C2O)c1'), ('DB07313', 'Cc1ccc(NS(=O)(=O)c2ccccc2)c(C(=O)O)c1'), ('DB03085', 'O=C(O)CO'), ('DB00927', 'NC(N)=Nc1nc(CSCCC(N)=NS(N)(=O)=O)cs1'), ('DB08695', 'O=[N+]([O-])c1ccc(-c2cc[nH]n2)cc1'), ('DB06728', 'Nc1ccccc1'), ('DB01966', 'CCCCCCCCCCCCCCCCCC(=O)OCC(COP(=O)(O)OCCN)OC(=O)CCCCCCCCCCCCCCCCC'), ('DB04325', '[NH3+]CCc1ccccc1'), ('DB04757', 'Nc1nc(=O)c2ncn(C3OC(CO)C4OC(P(=O)(O)O)OC43)c2[nH]1'), ('DB06703', 'O=C([O-])CN1CCN(CC(=O)[O-])CCN(C(CO)C(O)CO)CCN(CC(=O)[O-])CC1.[Gd+3]'), ('DB08353', 'N#Cc1cnn2c(Nc3ccccc3)nc(NCC3CCCCC3)nc12'), ('DB00786', 'CNC(=O)C(NC(=O)C(CC(C)C)C(O)C(=O)NO)C(C)(C)C'), ('DB02899', 'CSCCC(NC(=O)O)C(=O)O'), ('DB07663', 'O=C(O)c1ccc2c(c1)C(=O)N(C(Cc1ccc(O)cc1)C(=O)O)C2=O'), ('DB07674', 'CCOP(O)(=S)OCC'), ('DB08957', 'Oc1ccc(C(O)CNCCCCCCNCC(O)c2ccc(O)c(O)c2)cc1O'), ('DB04947', 'COC(=O)C1C(c2ccc(F)cc2)CC2CCC1N2CC=CI'), ('DB05104', 'CN(C(=O)C(c1ccccc1)c1ccccc1)C(CN1CCC(O)C1)c1ccccc1'), ('DB08591', 'COc1ccc(-c2ccccc2)cc1N1CC(=O)NS1(=O)=O'), ('DB00746', 'CC(=O)N(O)CCCCCNC(=O)CCC(=O)N(O)CCCCCNC(=O)CCC(=O)N(O)CCCCCN'), ('DB02364', 'CCOP(=O)(OCC)OCC(N)C(=O)O'), ('DB03767', 'CC(C)CC(NC(=O)N1CCOCC1)C(=O)NC(C#N)COCc1ccccc1'), ('DB03329', 'Sc1ccccn1'), ('DB06858', 'N=C(N)c1ccc(CNC(=O)C2CCCN2C(=O)CNC2CCCCCCC2)cc1'), ('DB01694', 'O=C(O)C(O)C(O)C(=O)O'), ('DB03189', 'C1CN2CCN3CCCN4CCN(C1)[Cu]234'), ('DB08895', 'CC1CCN(C(=O)CC#N)CC1N(C)c1ncnc2[nH]ccc12'), ('DB02371', 'O=S(=O)(O)CCNC(CO)(CO)CO'), ('DB01007', 'Clc1ccc(C(Cn2ccnc2)OCc2ccsc2Cl)c(Cl)c1'), ('DB07345', 'NCCc1ccc(O)c(C2CCCCC2)c1'), ('DB03300', 'Nc1ccn(C2OC(COP(=O)(O)OP(=O)(O)OCC3Oc4nc5nc(N)nc(O)c5nc4C(S)=C3S)C(O)C2O)c(=O)n1'), ('DB07977', 'O=C(Nc1c(F)cc(-c2cccc(OC(F)(F)F)c2)cc1F)c1ccsc1C(=O)O'), ('DB08450', 'Cc1cccc(-c2nc(Nc3ccc4[nH]ncc4c3)c3ccccc3n2)n1'), ('DB04513', 'NCCCCCCNS(=O)(=O)c1cccc2c(Cl)cccc12'), ('DB00741', 'CC12CCC(=O)C=C1CCC1C2C(O)CC2(C)C1CCC2(O)C(=O)CO'), ('DB06909', 'CCn1ncc2c(NC3CCOCC3)c(C(=O)NCc3ccccc3)cnc21'), ('DB04886', 'CCCc1cc(=O)oc2c3c(c4c(c12)OC(C)(C)C=C4)OC(C)C(C)C3O'), ('DB03023', 'CC(C)(C)n1[nH+]c(-c2ccc(Cl)cc2)c2c(N)ncnc21'), ('DB02938', 'CCCCCCC(=O)O'), ('DB00716', 'CCCc1c2oc(C(=O)O)cc(=O)c2cc2c(=O)cc(C(=O)O)n(CC)c12'), ('DB04638', 'CC(C)(C)c1cc(O)c(C(C)(C)C)cc1O'), ('DB01656', 'O=C(Nc1c(Cl)cncc1Cl)c1ccc(OC(F)F)c(OCC2CC2)c1'), ('DB05461', 'CCC(=O)Nc1c(C)cc(C(=O)N2CCC(N(C)CCc3ccccc3)CC2)cc1C.Cl.O'), ('DB01018', 'N=C(N)NC(=O)Cc1c(Cl)cccc1Cl'), ('DB00258', 'CC(=O)[O-].CC(=O)[O-].[Ca+2]'), ('DB04189', 'N=C(N)NCCCC(NCCC(=O)O)C(=O)O'), ('DB02611', 'O=C(NC1CNCCCC1OC(=O)c1ccc(O)cc1)c1ccc(O)cc1'), ('DB00725', 'C[N+]1(C)C2CCC1CC(OC(=O)C(O)c1ccccc1)C2.[Br-]'), ('DB09002', 'Clc1ccc(C(OCCN2CCCCC2)c2ccccc2)cc1'), ('DB08628', 'C=CC=CC1(C)SC(=O)C(C)=C1O'), ('DB08669', 'COC(=O)C(CC(C)C)NC(=O)C(C)NC(=O)C(O)C(N)c1ccc(C)cc1'), ('DB01972', 'Nc1nc2c(ncn2C2OC(COP(=O)(O)O)C(O)C2O)c(=O)[nH]1'), ('DB08971', 'CC1CC2C3CC(F)C4=CC(=O)C=CC4(C)C3C(O)CC2(C)C1C(=O)CO'), ('DB08834', 'CC(CCC(=O)NCCS(=O)(=O)O)C1CCC2C3C(O)CC4CC(O)CCC4(C)C3CCC12C'), ('DB08068', 'O=C(Nc1ccc(Cl)c(COc2cccnc2)c1)C1=CC(F)CC(N2CCOCC2)C1'), ('DB08003', 'CC(=O)NC(Cc1ccccc1)C(=O)NC(Cc1ccc(C2CC(=O)NS2(=O)=O)cc1)C(N)=O'), ('DB07995', 'O=S(=O)(NCCNCC=Cc1ccc(Br)cc1)c1cccc2cnccc12'), ('DB03517', 'CSCC(=O)[O-]'), ('DB02759', 'CC(=O)NC1C(OC2C(CO)OC(Oc3ccc4c(C)cc(=O)oc4c3)C(NC(C)=O)C2O)OC(CO)C(O)C1O'), ('DB03653', 'CCN(C)Cc1cnc(C)nc1N'), ('DB04634', 'CC(NC(=O)OCc1ccccc1)C(=O)O'), ('DB05490', 'N=C(N)NCCCC(N)C(=O)NC(CCCNC(=N)N)C(=O)NC(Cc1ccc(O)cc1)C(=O)NC1CSSCC(C(=O)NC(CCCNC(=N)N)C(=O)O)NC(=O)C(CCCCN)NC(=O)C(CCCNC(=N)N)NC(=O)C(Cc2ccc(O)cc2)NC(=O)C2CCCN2C(=O)C(CCCCN)NC(=O)C(CCCCN)NC(=O)C(CCCNC(=N)N)NC(=O)C(Cc2ccc(O)cc2)NC1=O'), ('DB07407', 'COc1ccccc1-c1ccc(C(=O)O)o1'), ('DB03429', 'CCCCCCCCCCCCCCCCCC(=O)OCC(COP(=O)(O)OCC(O)COP(=O)(O)OCC(COC(=O)CCCCCCCCCCCCCCCCC)OC(=O)CCCCCCCCCCCCCCCCC)OC(=O)CCCCCCCCCCCCCCCCC'), ('DB00275', 'CCCc1nc(C(C)(C)O)c(C(=O)O)n1Cc1ccc(-c2ccccc2-c2nnn[nH]2)cc1'), ('DB02471', 'OCC1C(O)C(O)C(O)c2nnnn21'), ('DB06907', 'O=C(O)c1ccc2nc(-c3c(Cl)cccc3Cl)oc2c1'), ('DB07185', 'O=C(COc1ccc(Cl)cc1)Nc1ccccc1C(=O)O'), ('DB00381', 'CCOC(=O)C1=C(COCCN)NC(C)=C(C(=O)OC)C1c1ccccc1Cl'), ('DB07262', 'N=C(N)NC(=N)SCc1cccc(C(F)(F)F)c1'), ('DB00207', 'CCC1OC(=O)C(C)C(OC2CC(C)(OC)C(O)C(C)O2)C(C)C(OC2OC(C)CC(N(C)C)C2O)C(C)(O)CC(C)CN(C)C(C)C(O)C1(C)O'), ('DB04734', 'CC(=CC(=O)O)C(=O)O'), ('DB03107', 'NCCC(=O)O'), ('DB09570', 'CC(C)CC(N=C(O)CN=C(O)c1cc(Cl)ccc1Cl)B(O)O'), ('DB08505', 'COC(=O)C(Cc1ccc(Br)cc1)NC(=O)CCCCCCC(=O)NO'), ('DB09193', 'CNC1Cc2ccccc2C(c2ccccc2)C1'), ('DB00261', 'O=C1CN2Cc3c(ccc(Cl)c3Cl)N=C2N1'), ('DB04204', 'O=P(O)(O)C(F)(F)c1ccc(CCCCc2ccc(C(F)(F)P(=O)(O)O)cc2)cc1'), ('DB00213', 'COc1ccnc(CS(=O)c2nc3ccc(OC(F)F)cc3[nH]2)c1OC'), ('DB07765', 'COC(=O)C1CCN(C(=O)c2ccc(N(C)Cc3cnc4nc(N)nc(N)c4n3)cc2)CC1'), ('DB03813', 'CCCCCCCC=CC(=O)SCCNC(C)=O'), ('DB08653', 'NCCc1c[nH]c2ccccc12'), ('DB08969', 'FC(F)(F)COCC(F)(F)F'), ('DB08230', 'O=c1cc(-c2cc(O)c(O)c(O)c2)oc2cc(O)cc(O)c12'), ('DB01606', 'CC1(Cn2ccnn2)C(C(=O)O)N2C(=O)CC2S1(=O)=O'), ('DB02170', 'O=c1c2c(O)cccc2oc2c([N+](=O)[O-])ccc(O)c12'), ('DB07234', 'CC(Nc1c(Nc2ccncc2)c(=O)c1=O)c1ccccc1'), ('DB01113', 'COc1ccc(Cc2nccc3cc(OC)c(OC)cc23)cc1OC'), ('DB11623', 'COCCOCC(CC1(C(=O)NC2CCC(C(=O)O)CC2)CCCC1)C(=O)O'), ('DB00356', 'O=c1[nH]c2cc(Cl)ccc2o1'), ('DB07402', 'C=CCC1C(=O)N2C(N(C)C)=Nc3ccc(C)cc3N2C1=O'), ('DB01114', 'CN(C)CCC(c1ccc(Cl)cc1)c1ccccn1'), ('DB03958', 'C[n+]1cn(C2OC(COP(=O)(O)OP(=O)(O)OP(=O)(O)OCC3OC(n4cnc5c(=O)[nH]c(N)nc54)C(O)C3O)C(O)C2O)c2nc(N)[nH]c(=O)c21'), ('DB07209', 'CCCCCC=CCC=CC(O)CC(=O)CCCCC(=O)O'), ('DB03926', 'CC12CCC3C(CCC4CC(O)CCC43C)C1CCC2O'), ('DB02662', 'O=C(O)C(=O)Nc1ccc(I)cc1C(=O)O'), ('DB07534', 'N=C1NC(=O)C(=Cc2ccc(-c3ccc(S(N)(=O)=O)cc3)o2)S1'), ('DB01586', 'CC(CCC(=O)O)C1CCC2C3C(O)CC4CC(O)CCC4(C)C3CCC12C'), ('DB03788', 'Cc1cc(OCC(=O)O)cc(C)c1Cc1ccc(O)c(Cc2ccccc2)c1'), ('DB08096', 'CCn1c(Nc2ccccc2Cl)nc2cnc(Nc3c(F)cccc3F)nc21'), ('DB07892', 'Cc1c(Sc2ccccc2)n(COCCO)c(=O)[nH]c1=O'), ('DB02209', 'Cc1ncc(COP(=O)(O)O)c(CO)c1O'), ('DB01408', 'CN(C)C(=O)Oc1cc(OC(=O)N(C)C)cc(C(O)CNC(C)(C)C)c1'), ('DB05239', 'O=C(c1ccc(F)c(F)c1Nc1ccc(I)cc1F)N1CC(O)(C2CCCCN2)C1'), ('DB00147', 'Cc1ncc(CO)c(C=O)c1O'), ('DB03030', 'Cc1ccc(Cn2cnc(-c3cccs3)c2)cc1'), ('DB02022', 'Cc1ncc(CO)c(N)n1'), ('DB03892', 'C=CC[NH+]=C(N)NCCCC(N)C(=O)O'), ('DB04790', 'N=C(N)c1cccc(OC2COC3C(Oc4cccc(C(=N)N)c4)COC23)c1'), ('DB01956', 'NCCS(=O)(=O)O'), ('DB02158', 'CSCC1NC(c2c[nH]c3c2N=CNC3N)C(O)C1O'), ('DB04522', 'NC(COP(=O)(O)O)C(=O)O'), ('DB07132', 'CC(C1=c2cc(NC(N)=O)ccc2=NC1=O)c1ccc[nH]1'), ('DB08659', 'NNC(=O)c1[nH]c2ccc(S(N)(=O)=O)cc2c1-c1ccccc1'), ('DB06864', 'O=C(O)CCC(=O)C1=CC=CC(O)C1C(=O)O'), ('DB05314', 'C=C1C(=CC=C2CCCC3(C)C2CCC3C(C)CCCC(C)(C)O)CC(O)CC1O'), ('DB06887', 'CNC(=O)C1Cc2ccc(NS(=O)(=O)O)cc2CN1C(=O)OC(C)(C)C'), ('DB02620', 'CC(=O)NCCSSCCNC(=O)C1CCC(NC(=O)c2nccnc2C(=O)O)CC1'), ('DB08429', 'CS(=O)(=O)c1cccc(C(=O)NCC2CCCN2C(=O)CC(N)Cc2cccc(Cl)c2)c1'), ('DB01615', 'CC(=O)c1ccc2c(c1)N(CC(C)N(C)C)c1ccccc1S2'), ('DB03587', 'CC(=O)C=O'), ('DB06980', 'CCCCC(C(=O)O)c1c[nH]c2ccccc12'), ('DB03790', 'CS(=O)(=O)CCC(N)C(=O)O'), ('DB03075', 'O=P(O)(O)NP(=O)(O)OP(=O)(O)O'), ('DB00638', 'OCC1OC(OC2(COC3(COC4(COC5(COC6(COC7(COC8(COC9(COC%10(COC%11(COC%12(COC%13(COC%14(COC%15(COC%16(COC%17(COC%18(COC%19(COC%20(COC%21(COC%22(COC%23(COC%24(COC%25(COC%26(COC%27(COC%28(COC%29(COC%30(COC%31(COC%32(COC%33(COC%34(COC%35(COC%36(COC%37(COC%38(CO)OC(CO)C(O)C%38O)OC(CO)C(O)C%37O)OC(CO)C(O)C%36O)OC(CO)C(O)C%35O)OC(CO)C(O)C%34O)OC(CO)C(O)C%33O)OC(CO)C(O)C%32O)OC(CO)C(O)C%31O)OC(CO)C(O)C%30O)OC(CO)C(O)C%29O)OC(CO)C(O)C%28O)OC(CO)C(O)C%27O)OC(CO)C(O)C%26O)OC(CO)C(O)C%25O)OC(CO)C(O)C%24O)OC(CO)C(O)C%23O)OC(CO)C(O)C%22O)OC(CO)C(O)C%21O)OC(CO)C(O)C%20O)OC(CO)C(O)C%19O)OC(CO)C(O)C%18O)OC(CO)C(O)C%17O)OC(CO)C(O)C%16O)OC(CO)C(O)C%15O)OC(CO)C(O)C%14O)OC(CO)C(O)C%13O)OC(CO)C(O)C%12O)OC(CO)C(O)C%11O)OC(CO)C(O)C%10O)OC(CO)C(O)C9O)OC(CO)C(O)C8O)OC(CO)C(O)C7O)OC(CO)C(O)C6O)OC(CO)C(O)C5O)OC(CO)C(O)C4O)OC(CO)C(O)C3O)OC(CO)C(O)C2O)C(O)C(O)C1O'), ('DB04131', 'CCC1(O)Cc2cc3c(c(O)c2C(OC2CC(N(C)C)C(O)C(C)O2)C1)C(=O)c1c(O)cccc1C3=O'), ('DB06694', 'Cc1cc(C(C)(C)C)cc(C)c1CC1=NCCN1'), ('DB04458', 'CC(NC(=O)C1(S(C)=O)C(C)C1(Cl)Cl)c1ccc(Br)cc1'), ('DB08274', 'CCC(c1ccccc1)c1c(O)c2c(oc1=O)CCCCC2'), ('DB09345', 'CCCCOc1ccc(OCCCN2CCOCC2)cc1'), ('DB05143', 'COc1cc(C=Cc2ccc(OC)c(OP(=O)(O)O)c2OP(=O)(O)O)cc(OC)c1OC'), ('DB04396', 'OCC1OC(SC2OC(CO)C(O)C(O)C2O)C(O)C(O)C1O'), ('DB01275', 'NNc1nncc2ccccc12'), ('DB08137', 'O=C(Nc1c[nH]nc1C(=O)Nc1ccc(F)cc1)c1ccccc1'), ('DB04116', 'OCC1OC(OCC2OC(O)C(O)C(O)C2O)C(O)C(O)C1O'), ('DB07692', 'O=S(=O)(c1ccc2c(c1)OCCO2)N1CCN(S(=O)(=O)c2c(F)cccc2F)CC1'), ('DB08811', 'CCC1C(C)=NN=C(c2ccc(OC)c(OC)c2)c2cc(OC)c(OC)cc21'), ('DB02823', 'O=C(O)CP(=O)(O)O'), ('DB04459', 'O=c1oc(Cl)c(Cl)c2ccccc12'), ('DB04593', 'CCC(C)C(NS(=O)(=O)Cc1cccc(C(=O)O)c1)C(=O)NC(CCC(=N)N)C(=O)NCc1ccc(C(=N)N)cc1'), ('DB02025', 'CC(C)C(NC(=O)C(CS)NC(=O)CCCC(N)C(=O)O)C(=O)O'), ('DB03182', 'CC(C)(COP(=O)(O)OP(=O)(O)OCC1OC(n2cnc3c(N)ncnc32)C(O)C1OP(=O)(O)O)C(O)C(=O)NCCC(=O)NCCC(F)C(=O)O'), ('DB08448', 'Nc1nc(N)c2nc(CN3c4ccc(O)cc4C=CC4=CCC=CC43)cnc2n1'), ('DB03891', 'CC(C)CC(NC(=O)OCc1ccccc1)C(=O)NNC(=O)NNC(=O)C(CC(C)C)NC(=O)OCc1ccccc1'), ('DB01836', 'O=C(C1CCN(c2ccncc2)CC1)N1CCN(S(=O)(=O)c2ccc3cc(Cl)ccc3c2)CC1'), ('DB01849', 'O=C1CCNC(=O)N1'), ('DB03606', 'COc1ccc(C2CNC(=O)C2)cc1OC1CCCC1'), ('DB00451', 'NC(Cc1cc(I)c(Oc2cc(I)c(O)c(I)c2)c(I)c1)C(=O)O'), ('DB04509', 'C=CC[N+]1(C)CCC23c4c5ccc(O)c4OC2C(=O)CCC3(O)C1C5'), ('DB02905', 'O=P(O)(O)OCC1OC(n2cnc3nc(O)ncc32)C(O)C1O'), ('DB00642', 'N=c1nc(O)c2c(CCc3ccc(C(=O)NC(CCC(=O)O)C(=O)O)cc3)c[nH]c2[nH]1'), ('DB04915', 'Oc1ccc(C2=Cc3ccc(O)cc3OC2)cc1'), ('DB08788', 'CCOc1ccc(-c2c(C#N)c(N)nc3sc(C(N)=O)c(N)c23)cc1'), ('DB07925', 'O=S(CCCCP(=O)(O)O)c1ccccc1O'), ('DB05039', 'CCc1cc2c(cc1CC)CC(NCC(O)c1ccc(O)c3[nH]c(=O)ccc13)C2'), ('DB08497', 'CC(=O)OC(C(=O)Nc1cccc2c1C(=O)C(=O)NC2=O)c1ccccc1'), ('DB07910', 'NC(Cc1ccccc1)C(O)O'), ('DB01101', 'CCCCCOC(=O)Nc1nc(=O)n(C2OC(C)C(O)C2O)cc1F'), ('DB03082', 'N=C(N)c1ccc2cc(C(=O)Nc3ccc(CN)cc3)cc(Nc3ncccn3)c2c1'), ('DB04867', 'O=C(O)Cn1c(C(=O)Nc2nc(-c3ccccc3Cl)cs2)cc2ccccc21'), ('DB05812', 'CC12CCC(O)CC1=CCC1C2CCC2(C)C(c3cccnc3)=CCC12'), ('DB06867', 'CCOCCOCCOCCOCCOCCOCC'), ('DB04642', 'O=C(O)CCCCCCOc1c(Cl)cc(NC(=O)NC(=O)c2ccccc2Cl)cc1Cl'), ('DB08725', 'CCC1COC(c2ccc(OCCCCCCCc3cc(C)no3)cc2)=N1'), ('DB03761', 'O=c1[nH]c(=O)n(C2CC(O)C(COP(=O)(O)O)O2)cc1F'), ('DB09229', 'COC(=O)C1=C(C)NC(C)=C(C(=O)OCC(C)=O)C1c1ccccc1[N+](=O)[O-]'), ('DB02918', 'COc1cc(-c2ccc(=O)[nH]n2)ccc1OC(F)F'), ('DB06886', 'CC(NC(=O)OCc1ccccc1)C(=O)N1CCCC1C(=O)NC(Cc1ccccc1)C(C)O'), ('DB07632', 'NS(=O)(=O)c1nnc(-c2ccccc2Cl)s1'), ('DB07227', 'N#Cc1ccc(Cn2cncc2CN2CCN(c3cccc(Cl)c3)C(=O)C2)cc1'), ('DB09187', 'CN1CCC23NC(=O)CC(c4cc(Cl)ccc4O2)C3C1'), ('DB01512', 'CN1CCC23c4c5ccc(O)c4OC2C(O)CCC3(O)C1C5'), ('DB02036', 'O=C(CC1Sc2ccccc2NC1=O)NO'), ('DB04857', 'CON=CC1C(c2ccc(Cl)c(Cl)c2)CC2CCC1N2C'), ('DB01821', 'N=C(NCCCC(N)C(=O)NC(CCN)C(N)=O)N[N+](=O)[O-]'), ('DB03484', 'NCCOP(=O)(O)OCC(O)CO'), ('DB07303', 'COc1cncc(-c2cccc(CNc3cccnc3N)c2)c1'), ('DB08439', 'CCC(=O)NS(=O)(=O)c1ccc(-c2c(-c3ccccc3)noc2C)cc1'), ('DB02406', 'CCCCC(=O)O'), ('DB05197', 'CC(C)=CCOc1ccc(C=CC(=O)c2ccc(OCC=C(C)C)cc2OCC(=O)O)cc1'), ('DB04320', 'C=C(Br)CO'), ('DB06196', 'NC(N)=NCCCC(N)C(=O)NC(CCCN=C(N)N)C(=O)N1CCCC1C(=O)N1CC(O)CC1C(=O)NCC(=O)NC(Cc1cccs1)C(=O)NC(CO)C(=O)N1Cc2ccccc2CC1C(=O)N1C(C(=O)NC(CCCN=C(N)N)C(=O)O)CC2CCCCC21'), ('DB11615', 'Cc1cc(N)c2ccccc2[n+]1CCCCCCCCCC[n+]1c(C)cc(N)c2ccccc21'), ('DB04208', 'COc1ccc(CCC(=O)O)cc1OC'), ('DB00720', 'O=P(O)(O)C(Cl)(Cl)P(=O)(O)O'), ('DB04348', 'CC(CCC(=O)NCCS(=O)(=O)O)C1CCC2C3C(O)CC4CC(O)CCC4(C)C3CC(O)C12C'), ('DB01942', 'O=CO'), ('DB08007', 'O=C(NCc1ccccc1)NCC(O)C(=O)O'), ('DB06927', 'N#CCc1cc(O)cc2cc(-c3ccc(O)cc3)oc12'), ('DB08446', 'N#Cc1cc(Cl)cc(Oc2c(Br)ccc(Cc3n[nH]c4nnccc34)c2F)c1'), ('DB03800', 'O=c1ccn(C2CC(O)C(COP(=O)(O)O)O2)c(=O)[nH]1'), ('DB01824', 'NC(O)OC1Cc2ccccc2C1C1CNC(Cc2ccccc2)(CC(O)C(Cc2ccccc2)NC(=O)OC2CCOC2)C1=O'), ('DB01603', 'COc1cccc(OC)c1C(=O)NC1C(=O)N2C1SC(C)(C)C2C(=O)O'), ('DB01598', 'CC(O)C1C(=O)N2C(C(=O)O)=C(SCCN=CN)CC12'), ('DB03894', 'C#CCNC1CCc2ccccc21'), ('DB01081', 'CCOC(=O)C1(c2ccccc2)CCN(CCC(C#N)(c2ccccc2)c2ccccc2)CC1'), ('DB00717', 'C#CC1(O)CCC2C3CCC4=CC(=O)CCC4C3CCC21C'), ('DB08996', 'CN(C)CCCN1c2ccccc2C(C)(C)c2ccccc21'), ('DB07705', 'Clc1ccc(COC(Cn2ccnc2)c2ccc(Cl)cc2Cl)cc1'), ('DB01102', 'Oc1ccc(CCCCNCC(O)c2ccc(O)c(O)c2)cc1'), ('DB04410', 'NCCCc1ccccc1'), ('DB06751', 'CCOc1ccc(C=C2NCCc3cc(OCC)c(OCC)cc32)cc1OCC'), ('DB07394', 'CCC1OC2(C)C(O)C(C=CC=CC=Cc3oc(=O)cc(OC)c3C)OC1(C)C2OC(C)=O'), ('DB03694', 'NC(=S)Nc1ccccc1'), ('DB07249', 'COc1cc2c(Nc3c(Cl)ccc4c3OCO4)ncnc2cc1OCCCN1CCCCC1'), ('DB01991', 'CCCCCCCCCCCCCC(=O)OC1C(CC(=O)NO)COC(CO)C1O'), ('DB03781', 'CC(Oc1ccc(Oc2ccc(Cl)cc2Cl)cc1)C(=O)O'), ('DB00151', 'NC(CS)C(=O)O'), ('DB08705', 'N#Cc1c(-c2ccccc2)cc(-c2cc(Br)ccc2O)[nH]c1=O'), ('DB04449', 'COc1cc(C=CC(O)O)cc(O)c1O'), ('DB02267', 'N=C(NCCCC(N)C(=O)O)NC(CC(=O)O)C(=O)O'), ('DB03995', 'OCC1OC2OC3C(CO)OC(OC4C(CO)OC(OC5C(CO)OC(OC6C(CO)OC(OC7C(CO)OC(OC8C(CO)OC(OC1C(O)C2O)C(O)C8O)C(O)C7O)C(O)C6O)C(O)C5O)C(O)C4O)C(O)C3O'), ('DB01762', 'CC(=O)CC(=O)O'), ('DB08473', 'OCC1OC(n2cnc3cc(Cl)c(Cl)cc32)C(O)C1O'), ('DB06756', 'C[N+](C)(C)CC(=O)[O-]'), ('DB04426', 'COC1OC(CO)C(O)C(O)C1NC(C)=O'), ('DB03658', 'CC1(C)SC(C(C=O)NC(=O)C(N)c2ccc(O)cc2)NC1C(=O)O'), ('DB04380', 'NC(=O)NC(NC(N)=O)C(=O)[O-]'), ('DB08994', 'OCCN(CCO)c1nc(-c2ccccc2)c(-c2ccccc2)o1'), ('DB02271', 'CCCCCCCCCCCCCC(=O)CSCCNC(=O)CCNC(=O)C(O)C(C)(C)COP(=O)(O)OP(=O)(O)OCC1OC(n2cnc3c(N)ncnc32)C(O)C1OP(=O)(O)O'), ('DB04903', 'CC(C)CCC(=O)CC1c2ccccc2C(=O)N1c1ccc2ccc(Cl)nc2n1'), ('DB08411', 'CC(NC(=O)CCCP(=O)(O)Oc1ccc([N+](=O)[O-])cc1)C(=O)O'), ('DB01353', 'CCCCC1(CC)C(=O)NC(=O)NC1=O'), ('DB07088', 'N=C(N)c1ccc(CNC(=O)C2CCCN2C(=O)COC2CCCC2)cc1'), ('DB03266', 'O=CCCCC=O'), ('DB04500', 'CC(=O)Nc1ccc(C(=O)O)cc1'), ('DB05399', 'CC(C)(Sc1cc(C(C)(C)C)c(O)c(C(C)(C)C)c1)Sc1cc(C(C)(C)C)c(OC(=O)CCC(=O)O)c(C(C)(C)C)c1'), ('DB08402', 'O=C(Nc1ccc(Oc2ncccn2)cc1C(=O)O)c1ccc(Cl)cc1Cl'), ('DB07034', 'O=C(O)COc1ccc2c(c1)C(=NO)c1cc(OCC(=O)O)ccc1-2'), ('DB03523', 'Cc1c(-c2ccc(-c3ccccc3F)cc2)nc2ccc(F)cc2c1C(=O)O'), ('DB03804', 'O=c1[nH]c(=O)n(C2CC(O)C(CO)O2)cc1-c1ccc(Br)s1'), ('DB07728', 'O=C1NCCc2[nH]c(-c3ccnc(-c4ccccc4F)c3)cc21'), ('DB06988', 'NC(Cc1cc(N=CCc2ccccc2)c(O)cc1O)C(=O)O'), ('DB00342', 'CC(C)(C)c1ccc(C(O)CCCN2CCC(C(O)(c3ccccc3)c3ccccc3)CC2)cc1'), ('DB08910', 'Nc1cccc2c1C(=O)N(C1CCC(=O)NC1=O)C2=O'), ('DB06991', 'CCC(C)Nc1ncc(C(=O)Nc2cc(C(=O)NC)ccc2C)s1'), ('DB00543', 'Clc1ccc2c(c1)C(N1CCNCC1)=Nc1ccccc1O2'), ('DB00448', 'Cc1c(OCC(F)(F)F)ccnc1CS(=O)c1nc2ccccc2[nH]1'), ('DB01205', 'CCOC(=O)c1ncn2c1CN(C)C(=O)c1cc(F)ccc1-2'), ('DB00314', 'CC1NC(=O)C(N)CNC(=O)C(C2CCN=C(N)N2)NC(=O)C(=CNC(N)=O)NC(=O)C(CNC(=O)CC(N)CCCN)NC1=O.NCCCC(N)CC(=O)NCC1NC(=O)C(CO)NC(=O)C(N)CNC(=O)C(C2CCN=C(N)N2)NC(=O)C(=CNC(N)=O)NC1=O'), ('DB05796', 'CCOC(=O)C(CCc1ccccc1)CC1(C(=O)NC2CCc3ccccc3N(CC(=O)O)C2=O)CCCC1'), ('DB04439', 'CC1OC(OC2C(CO)=CC(NC3C(C)OC(OC4C(CO)OC(OC5C(CO)OC(O)C(O)C5O)C(O)C4O)C(O)C3O)C(O)C2O)C(O)C(O)C1O'), ('DB00421', 'CC(=O)SC1CC2=CC(=O)CCC2(C)C2CCC3(C)C(CCC34CCC(=O)O4)C12'), ('DB07267', 'Cc1cccc(-c2nc(Nc3ccncc3)c3ccccc3n2)n1'), ('DB08177', 'O=C(O)CCN1C(=O)C(=Cc2ccc(-c3ccc(Cl)cc3)o2)SC1=S'), ('DB02394', 'OCC12OC1CC(O)C(O)C2O'), ('DB08709', 'O=C(O)c1cccc2c(-c3ccccc3)c(-c3ccccc3)[nH]c12'), ('DB04541', 'O=C1NCC(=O)N2CCCC12'), ('DB04779', 'CCSC(Cc1ccccc1)=NOS(=O)(=O)O'), ('DB00581', 'OCC1OC(OC2C(CO)OC(O)(CO)C2O)C(O)C(O)C1O'), ('DB02835', 'O=P([O-])(O)OC1OC(COP(=O)(O)O)C(O)C(O)C1O'), ('DB01936', 'OCC1OC(O)C(O)C1O'), ('DB03345', 'OCCS'), ('DB00767', 'CCN(CC)C(=O)C1CN2CCc3cc(OC)c(OC)cc3C2CC1OC(C)=O'), ('DB09131', 'Cl[Cu]Cl'), ('DB02552', 'CC(C)=CCCC(C)=CCOP(=O)(O)OP(=O)(O)O'), ('DB04526', 'OCC(O)C1OC(O)C(O)C(O)C1O'), ('DB06900', 'N=C(N)Nc1ccc(CO)cc1'), ('DB01646', 'CSCCC(NC(C)=O)C(=O)O'), ('DB02655', 'NC(CC(=O)O)C(=O)O'), ('DB05003', 'NC1=NC(=O)N2CC12'), ('DB04620', 'NC1(C(=O)O)CCCC1'), ('DB08285', 'CCC(CO)Nc1nc(NCc2ccccc2)n2ncc(C(C)C)c2n1'), ('DB02467', 'CS(=O)CCC(N)C(=O)O'), ('DB04087', 'O=P(O)(O)OCC(O)C(O)CCO'), ('DB06868', 'CC(C)CCC(=O)N1CCCC1C(=O)NCc1cccc(Cl)c1'), ('DB02383', 'COc1ccc2c(C(=S)N(C)CC(=O)O)cccc2c1C(F)(F)F'), ('DB09473', '[In+3].[O-]c1cccc2cccnc12.[O-]c1cccc2cccnc12.[O-]c1cccc2cccnc12'), ('DB08762', 'CC(NC(=O)OCc1ccccc1)C(=O)NC(C)P(=O)(O)OC(Cc1ccccc1)C(=O)O'), ('DB07493', 'O=C1Nc2ccc(Br)cc2C1=C1Nc2ccccc2C1=O'), ('DB01571', 'CCC(=O)N(c1ccccc1)C1CCN(CCc2ccccc2)CC1C'), ('DB08010', 'O=C1C(=NO)c2c(C=Cc3ccccc3)cccc2N1Cc1cc(F)cc2c1OCOC2'), ('DB03237', 'O=C([O-])C(=O)CC(O)C(O)C(=O)[O-]'), ('DB06699', 'CC(=O)NC(Cc1ccc2ccccc2c1)C(=O)NC(Cc1ccc(Cl)cc1)C(=O)NC(Cc1cccnc1)C(=O)NC(CO)C(=O)NC(Cc1ccc(NC(=O)C2CC(=O)NC(=O)N2)cc1)C(=O)NC(Cc1ccc(NC(N)=O)cc1)C(=O)NC(CC(C)C)C(=O)NC(CCCCNC(C)C)C(=O)N1CCCC1C(=O)NC(C)C(N)=O'), ('DB04590', 'CCOc1cc(OC2CCOC2)c(F)c(C(Nc2ccc(C(=N)N)cc2)C(=O)O)c1'), ('DB01511', 'O=C1CN=C(c2ccccc2Cl)c2cc(Cl)ccc2N1'), ('DB08400', 'O=C(O)N1CCC(Cc2cccc(Oc3ccc(C(F)(F)F)cn3)c2)CC1'), ('DB00910', 'CC(C=CC(C)C(C)(C)O)C1CCC2C(=CC=C3CC(O)CC(O)C3)CCCC21C'), ('DB03953', 'NC(S)=NCCCC(N)C(=O)O'), ('DB02795', 'COc1ccc(C(=O)O)cc1'), ('DB03011', 'Nc1ncnc2c1ncn2C1OC(COP(=O)(S)S)C(O)C1O'), ('DB03851', 'O=C(O)CCCn1c2ccccc2c2ccccc21'), ('DB03825', 'CCNc1cc2[o+]c3cc(NCC)c(C)cc3c(-c3ccccc3C(=O)OCC)c2cc1C.[Cl-]'), ('DB01438', 'Nc1ccc(N=Nc2ccccc2)c(N)n1'), ('DB09151', 'CNc1ccc(-c2nc3ccc(O)cc3s2)cc1F'), ('DB07992', 'O=S(=O)(O)Oc1c[nH]c2ccccc12'), ('DB03325', 'Nc1ncnc2c1ncn2C1OC(COS(=O)(=O)NC(=O)C(N)Cc2ccc(O)cc2)C(O)C1O'), ('DB01324', 'CN1C(CSCC(F)(F)F)Nc2cc(Cl)c(S(N)(=O)=O)cc2S1(=O)=O'), ('DB08103', 'Oc1c(Br)cc(Oc2ccccc2)cc1Br'), ('DB00387', 'OC(CCN1CCCC1)(c1ccccc1)C1CCCCC1'), ('DB04272', 'O=C(O)CC(O)(CC(=O)O)C(=O)O'), ('DB08779', 'CSc1nc(O)c(Cc2cccs2)[nH]1'), ('DB01274', 'COc1ccc(CC(C)NCC(O)c2ccc(O)c(NC=O)c2)cc1'), ('DB01917', 'NCCCCN'), ('DB00656', 'O=c1n(CCCN2CCN(c3cccc(Cl)c3)CC2)nc2ccccn12'), ('DB08610', 'CC(C)c1ccc(COc2ccc(CC(=O)NCCN)cc2Cl)cc1'), ('DB04279', 'CC(C)C(C(=O)O)C(O)C(=O)O'), ('DB07756', 'Cc1nc2cccc(F)c2c(N)c1CSCc1cccc(C(O)(O)C(F)(F)F)c1'), ('DB08865', 'CC(Oc1cc(-c2cnn(C3CCNCC3)c2)cnc1N)c1c(Cl)ccc(F)c1Cl'), ('DB07979', 'N=C(Cc1ccc(O)c(O)c1)C(=O)O'), ('DB03877', 'CCNC1CN(CCOC)S(=O)(=O)c2sc(S(N)(=O)=O)cc21'), ('DB04822', 'CCN(CC)CCOCCOC(=O)C(CC)(CC)c1ccccc1'), ('DB02860', 'COCC(C(O)C(O)C(=O)NCCC(C)c1nc(C=CCC2OC3(CC(O)C2C)OC(C(CC(O)C(C)C(O)C(C)C=C(C)C(C)=CC=CC(C)=CC#N)OC)C(OP(=O)(O)O)C3(C)C)co1)N(C)C'), ('DB08632', 'O=C(O)c1cc(C(=O)O)cc(C(=O)O)c1'), ('DB01973', 'NC(COS(=O)(=O)Cc1ccccc1)C(=O)O'), ('DB09206', 'COc1cc2c(N)nc(N3CCN(C(=O)OCC(C)(C)O)CC3)nc2c(OC)c1OC'), ('DB03750', 'CC(C)CC(=O)O'), ('DB07466', 'O=C(Cc1ccccc1)NC(Cc1cccc(C(=O)O)c1)B(O)O'), ('DB02030', 'Cc1cc2ncn(C3OC(COP(=O)(O)O)C(O)C3O)c2cc1C'), ('DB01914', 'O=CC(O)C(O)C(O)C(O)CO'), ('DB08061', 'Clc1ccc(-c2cc(C3CCNCC3)[nH]n2)cc1'), ('DB02645', 'OCC1OC(OCCC2CO2)C(O)C(O)C1O'), ('DB00439', 'COCc1c(C(C)C)nc(C(C)C)c(C=CC(O)CC(O)CC(=O)O)c1-c1ccc(F)cc1'), ('DB08309', 'O=S(=O)(CCNCCCO)c1ccc(Nc2nc(OCC3CCCCC3)c3nc[nH]c3n2)cc1'), ('DB11611', 'CS(=O)(=O)c1cccc(CC(NC(=O)c2c(Cl)cc3c(c2Cl)CCN(C(=O)c2ccc4ccoc4c2)C3)C(=O)O)c1'), ('DB07443', 'CC(O)=C(C#N)C(=O)Nc1ccc(-c2ccccc2)cc1'), ('DB04097', 'O=c1ccn(C2OC(COP(=O)(O)OP(=O)(O)OC3OC(CO)C(F)C(O)C3O)C(O)C2O)c(=O)[nH]1'), ('DB07547', 'Cc1ccccc1S(=O)(=O)Nc1cc(-c2ccc(C#N)cc2)sc1C(=O)O'), ('DB09212', 'CC(C(=O)O)c1ccc(CC2CCCC2=O)cc1'), ('DB07066', 'O=C(NC1Cc2ccccc2NC1=O)c1cc2cc(Cl)sc2[nH]1'), ('DB06948', 'c1ccc(Nc2nc(OCC3CCCCC3)c3[nH]cnc3n2)cc1'), ('DB01669', 'CC1=CC(O)CC(=O)Cc2nc(co2)C(=O)N2CCC=C2C(=O)OC(C(C)C)C(C)C=CC(=O)NCC=C1'), ('DB00374', 'CCCCCC(O)CCC1C(O)CC2Cc3c(cccc3OCC(=O)O)CC21'), ('DB08011', 'O=C1C(=NO)c2cc(F)ccc2N1Cc1cc(F)cc2c1OCOC2'), ('DB04781', 'O=C(O)CCCCO'), ('DB02889', 'CC1OC(OC2C(CO)OC(O)C(O)C2O)C(O)C(O)C1NC1C=C(CO)C(O)C(O)C1O'), ('DB01681', 'O=C(O)c1c(C(=O)O)c(C(=O)O)c(C(=O)O)c(C(=O)O)c1C(=O)O'), ('DB02415', 'CCCCCCCCS(=O)CCO'), ('DB01332', 'CON=C(C(=O)NC1C(=O)N2C(C(=O)O)=CCSC12)c1csc(N)n1'), ('DB02384', 'O=C([O-])C(F)=Cc1ccc(O)cc1'), ('DB04881', 'COc1cc2c(cc1OC)CN(CCc1ccc(NC(=O)c3cccc4c(=O)c5cccc(OC)c5[nH]c34)cc1)CC2'), ('DB02699', 'CC(C=CC1=C(C)C(=O)CCC1(C)C)=CC=CC(C)=CCO'), ('DB02946', 'CCC1(C(=O)NC(C)c2ccc(Cl)cc2)C(C)C1(Cl)Cl'), ('DB08319', 'O=S(O)c1ccccc1-c1ccccc1O'), ('DB07380', 'CC(=O)NC(Cc1ccccc1)C(=O)C(F)(F)F'), ('DB00358', 'OC(c1cc(C(F)(F)F)nc2c(C(F)(F)F)cccc12)C1CCCCN1'), ('DB04678', 'CC(=O)NC1C(O)OC(CO)C(OC2OC(CO)C(O)C(O)C2OC2OC(C)C(O)C(O)C2O)C1O'), ('DB01216', 'CC(C)(C)NC(=O)C1CCC2C3CCC4NC(=O)C=CC4(C)C3CCC12C'), ('DB05492', 'Cc1ccc(NCCCN)c([N+](=O)[O-])c1'), ('DB07468', 'Cc1cccc2c1C(=O)C1(O)CCN(c3ccccc3)C1=N2'), ('DB07561', 'CCOc1cccc(-c2ccc(NC(=O)C(C#N)=C(C)O)cc2)c1'), ('DB07035', 'CCc1c(C)[nH]c(=O)c(I)c1Oc1cccc(C=CC#N)c1'), ('DB08333', 'O=C(ON=Cc1ccc(O)cc1)C1CCCCC1'), ('DB01107', 'CCC1(CC)C(=O)NCC(C)C1=O'), ('DB04660', 'C[N+](C)(C)CCOP(=O)([O-])OCC(O)CO'), ('DB09026', 'COCCCOc1cc(CC(CC(N)C(O)CC(C(=O)NCC(C)(C)C(N)=O)C(C)C)C(C)C)ccc1OC'), ('DB04549', 'NS(=O)(=O)c1ccc(C(=O)NCc2ccc(F)c(F)c2F)cc1'), ('DB00189', 'C#CC(O)(C=CCl)CC'), ('DB07232', 'CC1(c2nc3cccc(C(N)=O)c3[nH]2)CCCN1'), ('DB08369', 'c1ccc(-c2ccc(Cn3ccnc3)cc2)cc1'), ('DB02865', 'NC1C(O)OC(CO)C(OP(=O)(O)O)C1O'), ('DB00534', 'COC(CNC(N)=O)C[Hg]Cl'), ('DB01521', 'CC12CCC(=O)C(Cl)=C1CCC1C2CCC2(C)C(O)CCC12'), ('DB08038', 'CC(N)C(=O)NC(C)C(=O)NC(Cc1ccccc1)C(C)O'), ('DB02299', 'NC(=[NH2+])NCCCC(N)C(N)=O'), ('DB01104', 'CNC1CCC(c2ccc(Cl)c(Cl)c2)c2ccccc21'), ('DB02792', 'CNC(CC(C)C)C(=O)NC1C(=O)NC(CC(N)=O)C(=O)NC2C(=O)NC3C(=O)NC(C(=O)NC(C(=O)O)c4cc(O)cc(O)c4-c4cc3ccc4O)C(OC3CC(C)(N)C(O)(O)C(C)O3)c3ccc(c(Cl)c3)Oc3cc2cc(c3O)Oc2ccc(cc2Cl)C1O'), ('DB01751', 'O=C(O)Cc1cc(I)c(Oc2cc(I)c(O)c(I)c2)c(I)c1'), ('DB06819', 'O=C([O-])CCCc1ccccc1.[Na+]'), ('DB02356', 'NC(CO)C1N=C(Cc2cnc[nH]2)C(=O)N1CCO'), ('DB08943', 'Clc1ccc(C(Cn2ccnc2)OCc2c(Cl)cccc2Cl)c(Cl)c1'), ('DB07272', 'CCOc1nc(NC(=O)Cc2cc(OC)c(Br)cc2OC)cc(N)c1C#N'), ('DB02535', 'NCCOCCOCCNC(=O)c1ccc(S(N)(=O)=O)cc1'), ('DB01716', 'C=CCC1(C(=O)O)CC(O)C(NC(C)=O)C(C(O)C(O)CO)O1'), ('DB04505', 'C#CCCCn1c(Cc2cc(OC)c(OC)c(OC)c2Cl)nc2c(N)ncnc21'), ('DB09140', 'O=O'), ('DB02747', 'CC(NC(CCc1ccccc1)C(=O)NC(CCCNC(N)=[NH2+])C(=O)Nc1ccccc1)C(=O)O'), ('DB00868', 'CCCCNc1ccc(C(=O)OCCOCCOCCOCCOCCOCCOCCOCCOCCOC)cc1'), ('DB01697', 'OCC1OC(OC2C(CO)OC(OC3C(CO)OC(O)C(O)C3O)C(O)C2O)C(O)C(O)C1O'), ('DB06923', 'Cc1cccc(-c2cc3cc(C(=N)N)ccc3[nH]2)c1'), ('DB07815', 'C=C1CC23CC1CCC2C12CCC(O)C(C)(C(=O)O1)C2C3C(=O)O'), ('DB08527', 'NC(=O)c1nn(-c2ccc(S(N)(=O)=O)cc2)c2c1ccc1[nH]ncc12'), ('DB00305', 'COC12C(COC(N)=O)C3=C(C(=O)C(C)=C(N)C3=O)N1CC1NC12'), ('DB04477', 'COc1cc(OC)cc(C(=O)NC2C(O)C(CO)OC2n2cnc3c(NC4CCCc5ccccc54)ncnc32)c1'), ('DB07667', 'Cc1cc(N=Nc2ccccc2C(=O)O)cc(C)c1O'), ('DB02566', 'CC(O)c1cc(C(=O)O)nc2c1C=CCC2O'), ('DB08503', 'Cc1ccc(C2CC3(ON2)OC(CO)C(O)C(O)C3O)cc1'), ('DB08215', 'CCNc1nc(NC(C)(C)C)nc(SC)n1'), ('DB02649', 'NC(=O)CC(=O)O'), ('DB07124', 'NC(COc1cncc(C2=NCC3=NN=CC3=C2)c1)CC1=C2C=CCC=C2N=C1'), ('DB07368', 'CS(=O)(=O)c1ccc(C(=N)N)cc1'), ('DB00573', 'CC(C(=O)O)c1cccc(Oc2ccccc2)c1'), ('DB08848', 'O=C(O)C1=CCCNC1'), ('DB04596', 'CC1(C(=O)O)OCC2OC(OC3C(C(=O)O)OC(O)C(O)C3O)C(O)C(O)C2O1'), ('DB00468', 'C=CC1CN2CCC1CC2C(O)c1ccnc2ccc(OC)cc12'), ('DB04795', 'O=C(CC(=O)C(F)(F)F)c1cccs1'), ('DB00193', 'COc1cccc(C2(O)CCCCC2CN(C)C)c1'), ('DB06782', 'OCC(S)CS'), ('DB04878', 'OCC(CO)NC1CC(O)(CO)C(O)C(O)C1O'), ('DB01142', 'CN(C)CCC=C1c2ccccc2COc2ccccc21'), ('DB01733', 'CC(OP(=O)(O)O)C(=O)O'), ('DB01749', 'COCCOC'), ('DB04080', 'O=C(O)C(C(=O)O)c1ccccc1'), ('DB01401', 'C[N+](C)(C)CCO.O=C([O-])c1ccccc1O.O=C([O-])c1ccccc1O.O=C([O-])c1ccccc1O.[Mg+2]'), ('DB05343', 'CCCCCCC(CCC)C(=O)O'), ('DB01967', 'CC(C)S(=O)(=O)NCCCn1c2c(c3ccccc31)C(=O)CN1CCCCC21'), ('DB03453', 'COC(=O)C(Cc1ccc(C#Cc2ccccc2)cc1)NC(=O)CC1CCCN(C(=N)N)C1'), ('DB01779', 'O=P(O)(O)OC(CO)CO'), ('DB08289', 'O=C(O)CCCC(=O)Nc1ccc(CC[N+]2([O-])CCCCC2)cc1'), ('DB01590', 'COC1CC2CCC(C)C(O)(O2)C(=O)C(=O)N2CCCCC2C(=O)OC(C(C)CC2CCC(OCCO)C(OC)C2)CC(=O)C(C)C=C(C)C(O)C(OC)C(=O)C(C)CC(C)C=CC=CC=C1C'), ('DB02730', 'CSC1C(CO)OC(O)C(O)C1O'), ('DB04235', 'CCC(N)CCC(=O)O'), ('DB09028', 'O=c1cccc2n1CC1CNCC2C1'), ('DB07419', 'CC(O)(COc1ccc(Cl)c(F)c1)C(=O)Nc1ccc(C#N)c(C(F)(F)F)c1'), ('DB02674', 'O=C(O)CCCC1SCC2NC(=O)NC21'), ('DB02131', 'CCCCCCC(C)NC=O'), ('DB01043', 'CC12CC3CC(C)(C1)CC(N)(C3)C2'), ('DB03353', 'N=C1NC2CSC(CCCCC(=O)O)C2N1'), ('DB01144', 'NS(=O)(=O)c1cc(Cl)c(Cl)c(S(N)(=O)=O)c1'), ('DB04175', 'O=C(O)CCc1c(C(=O)O)[nH]c2cc(Cl)cc(Cl)c12'), ('DB02550', 'C#CCCCn1c(Cc2cc(OC)c(OC)c(OC)c2Cl)nc2c(N)nc(F)nc21'), ('DB07458', 'CN1CCCC1CCn1cc(C2=C(c3c[nH]c4ccccc34)C(=O)NC2=O)c2ccccc21'), ('DB08297', 'CC1OC(Oc2ccccc2[N+](=O)[O-])C(O)C(O)C1O'), ('DB08623', 'C=C1CSC(C(NC(=O)Cc2cccs2)C(=O)O)=NC1C(=O)O'), ('DB08292', 'O=C1CCCC=CCCOC(=O)c2c(O)cc(O)c(Cl)c2C1'), ('DB03341', 'CC(C)(COP(=O)(O)OP(=O)(O)OCC1OC(n2cnc3c(N)ncnc32)C(O)C1OP(=O)(O)O)C(O)C(=O)NCCC(=O)NCCSCC(=O)NCCc1c[nH]c2ccc(Br)cc12'), ('DB03775', 'CC1NC(=O)NC1CCCCCC(=O)O'), ('DB08112', 'N#Cc1ccc(COc2ccc3cc(S(=O)(=O)NC(CCC(=O)O)C(=O)O)ccc3c2)c(F)c1'), ('DB04880', 'CSc1ccc(C(=O)c2[nH]c(=O)[nH]c2C)cc1'), ('DB08278', 'O=c1c(C2=Nc3ccccc3S(=O)(=O)N2)c(O)c2cc(F)ccc2n1CCC1CC1'), ('DB03943', 'NC(=O)CC(N)C(=O)O'), ('DB08715', 'Cc1cc(CCCOc2c(C)cc(-c3coc(C)n3)cc2C)on1'), ('DB07804', 'CC(C(=O)N1CCOCC1)N1CCC(NS(=O)(=O)c2n[nH]c(-c3ccc(Cl)s3)n2)C1=O'), ('DB01687', 'OCC1OC(OC2C(CO)OC(O)C(O)C2O)C(O)C(O)C1O'), ('DB03740', 'CC(O)=NC1C(O)OC(CO)C(O)C1O'), ('DB02854', 'CC12CCC3C(CCC4CC(O)CCC43C)C1CCC2=O'), ('DB03946', 'O=C(O)c1ccc(O)c(O)c1'), ('DB00850', 'OCCN1CCN(CCCN2c3ccccc3Sc3ccc(Cl)cc32)CC1'), ('DB01712', 'CCOC(=O)C(Cc1ccccc1)NC(=O)C1CSCCN1S(=O)(=O)c1ccc(C)cc1'), ('DB04740', 'C=C1COC(C(NC(=O)C(C(=O)O)c2ccc(O)cc2)(OC)C(=O)O)N=C1C(=O)O'), ('DB03504', 'CCCCn1c(Cc2cc(OC)c(OC)c(OC)c2Cl)nc2c(N)ncnc21'), ('DB02995', '[NH3+]C1CCCCC1'), ('DB01832', 'CP(=O)(O)CC(=O)CC(=O)O'), ('DB03845', 'Cc1cn(C2CC(N=[N+]=[N-])C(COP(=O)([O-])OP(=O)([O-])OP(=O)([O-])OP(=O)([O-])OP(=O)([O-])OCC3OC(n4cnc5c(N)ncnc54)C(O)C3O)O2)c(=O)[nH]c1=O'), ('DB01558', 'O=C1CN=C(c2ccccn2)c2cc(Br)ccc2N1'), ('DB06554', 'O=c1[nH]oc2c1CCNC2'), ('DB02976', 'O=c1ccn(C2OC(COP(=O)(O)OP(=O)(O)OC3OC(CO)C(O)C(O)C3F)C(O)C2O)c(=O)[nH]1'), ('DB08728', 'Cc1cc(CCCOc2c(Cl)cc(C3=NCCO3)cc2Cl)on1'), ('DB01355', 'CN1C(=O)NC(=O)C(C)(C2=CCCCC2)C1=O'), ('DB03157', 'CN(C)c1cccc2c(S(=O)(=O)NC(Cc3ccc(OS(=O)(=O)c4cccc5c(N(C)C)cccc45)cc3)C(=O)O)cccc12'), ('DB03807', 'CCOC(=O)c1c(C)nn(-c2ccccc2Cl)c1C'), ('DB04771', 'CC(C)CC(NC(=O)c1ccc([N+](=O)[O-])cc1)C(=O)N1CCCC1C(=O)NCCCCN=C(N)N'), ('DB02622', 'O=C(O)C(=O)Nc1ccccc1C(=O)O'), ('DB01163', 'CC1(C)SC2C(N=CN3CCCCCC3)C(=O)N2C1C(=O)O'), ('DB07512', 'O=Cc1cc(=O)oc2cc(OCc3cccc(Cl)c3)ccc12'), ('DB08388', 'CCOCCC1(Oc2ccc(Oc3ccc(F)cc3)cc2)C(=O)NC(=O)NC1=O'), ('DB06193', 'NCCNc1ccc(NCCN)c2c1C(=O)c1ccncc1C2=O'), ('DB04870', 'CCCCCCCCC=CCCCCCCCC(=O)Oc1ccc2c(c1)CCC1C2CCC2(C)C(=O)CCC12'), ('DB02536', 'O=CC(O)CO'), ('DB08080', 'CC1=CC(=O)OC2CC(CCC(C)C=CCC1)OC(O)(C1CSC(=O)N1)C2'), ('DB04038', 'CC(C)C(C)C=CC(C)C1CCC2C3=CC=C4CC(O)CCC4(C)C3CCC21C'), ('DB08029', 'O=C(CN(CCO)S(=O)(=O)c1ccc(-c2ccccc2)cc1)NO'), ('DB06228', 'O=C(NCC1CN(c2ccc(N3CCOCC3=O)cc2)C(=O)O1)c1ccc(Cl)s1'), ('DB07783', 'NC(=O)c1cn(C(CO)CCn2ccc3ccc(NC(=O)CCc4ccccc4)cc32)cn1'), ('DB04693', 'CC12CCC3C4CCC(=O)CC4CCC3C1CCC2=O'), ('DB01161', 'CCN(CC)CCOC(=O)c1ccc(N)cc1Cl'), ('DB04588', 'NS(=O)(=O)c1ccc(CNC(=O)c2cn[nH]c2-c2cc(Cl)c(O)cc2O)cc1'), ('DB07878', 'CC=CCC(C(C)=O)n1cc(C(C)(NC(=O)c2ccccc2)C(C)C)nn1'), ('DB00434', 'CN1CCC(=C2c3ccccc3C=Cc3ccccc32)CC1'), ('DB01664', 'NC(Cc1co[nH]c1=O)C(=O)O'), ('DB00122', 'C[N+](C)(C)CCO'), ('DB01964', 'COc1ccc(N2CC(O)c3cc(S(N)(=O)=O)sc3S2(=O)=O)cc1'), ('DB09374', 'CC1(C)C(=CC=CC=CC=CC2=[N+](CCCCS(=O)(=O)[O-])c3ccc4ccccc4c3C2(C)C)N(CCCCS(=O)(=O)[O-])c2ccc3ccccc3c21.[Na+]'), ('DB02065', 'OCC1CC(O)C(O)C(OC2C(CO)OC(O)C(O)C2O)O1'), ('DB00999', 'NS(=O)(=O)c1cc2c(cc1Cl)NCNS2(=O)=O'), ('DB00606', 'NS(=O)(=O)c1cc2c(cc1Cl)NC(C1CC3C=CC1C3)NS2(=O)=O'), ('DB01155', 'CON=C1CN(c2nc3c(cc2F)c(=O)c(C(=O)O)cn3C2CC2)CC1CN'), ('DB00248', 'C=CCN1CC(C(=O)N(CCCN(C)C)C(=O)NCC)CC2c3cccc4[nH]cc(c34)CC21'), ('DB02907', 'NC=COP(=O)(O)O'), ('DB00650', 'Nc1nc2c(c(=O)[nH]1)N(C=O)C(CNc1ccc(C(=O)NC(CCC(=O)O)C(=O)O)cc1)CN2'), ('DB07994', 'Nc1ncccc1NCc1cc(-c2ccc3cc[nH]c3c2)ccc1OCc1ccccn1'), ('DB08933', 'N#CC(=C1SCC(c2ccc(Cl)cc2Cl)S1)n1ccnc1'), ('DB08654', 'NC1CCc2ccccc2C1O'), ('DB01677', 'O=C([O-])C=CC(=O)[O-]'), ('DB05377', 'O=S(=O)(Oc1ccc(Cl)cc1)c1ccc(Cl)cc1'), ('DB06800', 'C[N+]1(CC2CC2)CCC23c4c5ccc(O)c4OC2C(=O)CCC3(O)C1C5'), ('DB07236', 'Oc1ccc2cc(-c3noc4cc(O)ccc34)ccc2c1'), ('DB04215', 'Cc1cc(Br)c([O-])c(-c2cc3cc(C(N)=[NH2+])ccc3[nH]2)c1'), ('DB07621', 'NCc1ccc(-c2cccnc2)o1'), ('DB06973', 'CC(C)(c1ccc(O)cc1)c1ccc(O)cc1'), ('DB11592', 'O=C(Cc1cccs1)NC1C(=O)N2C(C(=O)O)=C(C=Cc3ccc([N+](=O)[O-])cc3[N+](=O)[O-])CSC12'), ('DB00929', 'CCCCC(C)(O)CC=CC1C(O)CC(=O)C1CCCCCCC(=O)OC'), ('DB06145', 'COC1C(O)CC(=O)OC(C)CC=CC=CC(OC2CCC(N(C)C)C(C)O2)C(C)CC(CC=O)C1OC1OC(C)C(OC2CC(C)(O)C(O)C(C)O2)C(N(C)C)C1O'), ('DB03983', 'Nc1nc2c(c(=O)[nH]1)NC1C3=C(S[Mo](=O)(=O)(S)S3)C(COP(=O)(O)O)OC1N2'), ('DB01685', 'N#Cc1cc(-c2n[nH]c(-c3ccncc3)n2)ccn1'), ('DB02872', 'CCOc1cc(OC)ccc1C1=NC(c2ccc(Br)cc2)C(c2ccc(Br)cc2)N1C(=O)N1CCN(CCO)CC1'), ('DB08110', 'CC=C(C=O)C1NC(C(=O)O)=C2C(OC)CCCC21'), ('DB03949', 'O=C(NC(Cc1ccccc1)C(=O)NC(Cc1ccc(O)cc1)C(=O)O)C(S)Cc1ccccc1'), ('DB01767', 'N=C(N)c1ccc2[nH]c(Cc3nc4ccccc4[nH]3)nc2c1'), ('DB09042', 'Cn1nnc(-c2ccc(-c3ccc(N4CC(COP(=O)(O)O)OC4=O)cc3F)cn2)n1'), ('DB07396', 'O=C(NC(=O)c1cc(F)c(F)cc1Cl)Nc1cc(F)ccc1N1CCC(C(=O)O)CC1'), ('DB02192', 'OCCc1ccccc1'), ('DB09333', 'CN(C)C=Nc1c(I)cc(I)c(CCC(=O)O)c1I'), ('DB03053', 'NC1(P(=O)([O-])O)CC1'), ('DB07953', 'CC(C)C(NC(=O)Cc1c[nH]c2ccccc12)C(=O)O'), ('DB01841', 'CC1CC(O)C(O)C(O)O1'), ('DB01573', 'CN1CCC23c4c5ccc(OCc6ccccc6)c4OC2C(O)C=CC3C1C5'), ('DB04112', 'CCCCCCCCCCCCCCCCCCOCC(COP(=O)(O)OCCSC)NC(C)=O'), ('DB07126', 'NS(=O)(=O)c1ccc(Nc2nc(OCC3CCCCC3)c3nc[nH]c3n2)cc1'), ('DB02850', 'COc1ccc(-c2c(S(C)(O)O)ccc(C(=O)c3cnn(C(C)(C)C)c3O)c2C)cc1'), ('DB04300', 'O=P(O)(O)OC1C(O)C(OP(=O)(O)O)C(OP(=O)(O)O)C(O)C1OP(=O)(O)O'), ('DB07251', 'COc1ccc(Nc2ncnc(Nc3cc(OC)c(OC)c(OC)c3)n2)cc1Cl'), ('DB07900', 'CC(C)CC(C=O)C(O)C(=O)NO'), ('DB03742', 'Oc1ccc(C2Sc3cc(O)ccc3OC2c2ccc(OCCN3CCCCC3)cc2)cc1'), ('DB07823', 'CC(C(=O)O)N1C(=O)C2C3CCC(C3)C2C1=O'), ('DB01988', 'c1ccc(CC2CN(c3cc(-c4ccncc4)c(-c4ccc5ccccc5c4)nn3)CCN2)cc1'), ('DB03242', 'Nc1ccc(OC2OC(CO)C(O)C(O)C2O)cc1'), ('DB03200', 'O=P(O)(O)OCC1OC(n2cnc3ncncc32)C(O)C1O'), ('DB08962', 'Cc1ccc(S(=O)(=O)NC(=O)NC2C3CCC(C)(C2O)C3(C)C)cc1'), ('DB00672', 'CCCNC(=O)NS(=O)(=O)c1ccc(Cl)cc1'), ('DB08441', 'O=S1(=O)NCCCNc2nc(ncc2Br)Nc2cccc1c2'), ('DB08805', 'CNC(=S)NCCSCc1nc[nH]c1C'), ('DB08796', 'O=C(OCCOCCN1CCCCC1)N1c2ccccc2Sc2cccnc21'), ('DB03241', 'CCCCC(N)C=O'), ('DB02021', 'N=C(O)C1CC2(N=C(O)N=C2O)c2cc(F)ccc2O1'), ('DB03945', 'C[N+](C)(C)CCOP(=O)(O)O'), ('DB08782', 'NCCc1ccc(S(N)(=O)=O)cc1'), ('DB07829', 'Fc1ccc(-c2n[nH]cc2-c2ccncc2)cc1'), ('DB03052', 'O=C(O)c1ccc(OCCn2ccnc2)cc1'), ('DB03992', 'NC(CNC(=O)c1ccccc1)C(=O)O'), ('DB08572', 'NC(=O)c1ccc(Nc2nc(N)c(N=O)c(OCC3CCCCC3)n2)cc1'), ('DB01829', 'CCNC(=O)CCNC(=O)C(O)C(C)(C)COP(=O)(O)OP(=O)(O)OCC1OC(n2cnc3c(N)ncnc32)C(O)C1OP(=O)(O)O'), ('DB09088', 'CCC(C)(CN(C)C)OC(=O)c1ccccc1'), ('DB03363', 'CC(=O)c1ccc[n+](C2OC(COP(=O)([O-])OP(=O)(O)OCC3OC(n4cnc5c(N)ncnc54)C(O)C3O)C(O)C2O)c1'), ('DB08979', 'OC1=NCC2(CCN(CCc3ccccc3)CC2)O1'), ('DB07655', 'OCCNc1ncnc2[nH]c(-c3ccccc3)c(-c3ccccc3)c12'), ('DB08028', 'C=CCCN=C1NN=C(c2ccc(Cl)cc2)CS1'), ('DB01074', 'C1CCC(C(CC2CCCCN2)C2CCCCC2)CC1'), ('DB02216', 'CSCC(N)C(=O)O'), ('DB00287', 'CC(C)OC(=O)CCCC=CCC1C(O)CC(O)C1C=CC(O)COc1cccc(C(F)(F)F)c1'), ('DB03425', 'CC(CC(N)C(=O)[OH2+])C(=O)O'), ('DB03952', 'Cc1ncnc2c1ncn2C1OC(C(C)O)C(O)C1O'), ('DB02269', 'C[N+](C)(C)c1ccc(CNC(=O)c2cc3cc(OCc4ccccc4)ccc3n2Cc2cccc(C(=N)N)c2)cc1'), ('DB06441', 'CSCCNc1nc(SCCC(F)(F)F)nc2c1ncn2C1OC(COP(=O)(O)OP(=O)(O)C(Cl)(Cl)P(=O)(O)O)C(O)C1O'), ('DB08729', 'CCCc1nn(C)c2c(=O)[nH]c(-c3cc(S(N)(=O)=O)sc3OCC)nc12'), ('DB08239', 'CN(C(=O)N1CC(c2cc(F)ccc2F)=CC1c1ccccc1)C1CCNCC1'), ('DB01079', 'CCCCCNC(=N)NN=Cc1c[nH]c2ccc(OC)cc12'), ('DB13156', 'CC(=O)Nc1ccc(C(=O)O)cc1.CC(=O)Nc1ccc(C(=O)O)cc1.CC(=O)Nc1ccc(C(=O)O)cc1.CC(O)CN(C)C.CC(O)CN(C)C.CC(O)CN(C)C.O=c1[nH]cnc2c1ncn2C1OC(CO)C(O)C1O'), ('DB01798', 'CCOP(=O)(O)OP(=O)(O)O'), ('DB01963', 'OB(O)CCc1ccccc1'), ('DB00404', 'Cc1nnc2n1-c1ccc(Cl)cc1C(c1ccccc1)=NC2'), ('DB03920', 'C=C(NC)C(=O)O'), ('DB03688', 'O=C(O)CCO'), ('DB02638', 'NCCCCC(NC(=O)C1CCCN1C(=O)C1CSSCC(NC(=O)CNC(=O)CNC(=O)CN)C(=O)NC(Cc2ccc(O)cc2)C(=O)NC(Cc2ccccc2)C(=O)NC(CCC(N)=O)C(=O)NC(CC(N)=O)C(=O)N1)C(=O)NCC(N)=O'), ('DB06402', 'CCCCCCCCCCNCCNC1(C)CC(OC2C(Oc3c4cc5cc3Oc3ccc(cc3Cl)C(O)C3NC(=O)C(NC(=O)C5NC(=O)C(CC(N)=O)NC(=O)C(NC(=O)C(CC(C)C)NC)C(O)c5ccc(c(Cl)c5)O4)c4ccc(O)c(c4)-c4c(cc(O)c(CNCP(=O)(O)O)c4O)C(C(=O)O)NC3=O)OC(CO)C(O)C2O)OC(C)C1O'), ('DB04692', 'CCOC(=O)C=CC(CC1CCNC1=O)NC(=O)C(NC(=O)C(NC(=O)OC(C)(C)C)C(C)C)c1ccccc1'), ('DB01264', 'CC(C)CN(CC(O)C(Cc1ccccc1)NC(=O)OC1COC2OCCC12)S(=O)(=O)c1ccc(N)cc1'), ('DB02403', 'Nc1ccccc1F'), ('DB04387', 'NC(CO)CC1CCCCC1'), ('DB03618', 'CC(=O)NC1C(O)OC(CO)C(OC2OC(CO)C(O)C(O)C2O)C1O'), ('DB03637', 'NC(=[NH2+])NCCCO'), ('DB07633', 'CCCCCCCCOC1OC(CO)C(O)CC1OC1OC(C)C(O)C(O)C1O'), ('DB00153', 'C=C1CCC(O)CC1=CC=C1CCCC2(C)C1CCC2C(C)C=CC(C)C(C)C'), ('DB04585', 'NC(CCC=C[B-](O)(O)O)C(=O)O'), ('DB08629', 'CC(C)CC(N)CN1CCCN2CCCC21'), ('DB00130', 'NC(=O)CCC(N)C(=O)O'), ('DB08304', 'CN1CCN(S(=O)(=O)c2ccc3c(c2)S(=O)(=O)NC(C2CCCC2)C3)CC1'), ('DB02273', 'C=CC(C)CCCC(C)(C)O'), ('DB03299', 'O=C(O)CCC(=O)NC(C(=O)O)c1ccccc1'), ('DB03420', 'CC(=O)NC1C(NC(=N)N)CC(C(=O)O)OC1C(O)C(O)CO'), ('DB00541', 'CCC1(O)CC2CN(CCc3c([nH]c4ccccc34)C(C(=O)OC)(c3cc4c(cc3OC)N(C=O)C3C(O)(C(=O)OC)C(OC(C)=O)C5(CC)C=CCN6CCC43C65)C2)C1'), ('DB02595', 'CC(=O)NC1C(OC2CC(C(=O)NCCS(=O)(=O)O)[NH2+]C2CO)OC(CO)C(OS(=O)(=O)O)C1O'), ('DB03691', 'CC(C)CCNC(=O)C(CCc1ccccc1)NC(=O)C(O)CC(=O)O'), ('DB03705', 'CNc1nc(N)[nH]c(=O)c1[N+](=O)[O-]'), ('DB04898', 'CCOC(=O)CNC(C(=O)N1CCC1C(=O)NCc1ccc(C(N)=NO)cc1)C1CCCCC1'), ('DB02155', 'CCC(C)c1cc(C(=O)NC2CNCCCC2OC(=O)c2ccc(C(=O)c3cc(OC)ccc3O)cc2)ccc1O'), ('DB08106', 'CCCCOc1ccc2cc(S(=O)(=O)NC(CCC(=O)O)C(=O)O)ccc2c1'), ('DB00998', 'CNC1CCc2[nH]c3ccc(C(N)=O)cc3c2C1'), ('DB00554', 'CN1C(C(=O)Nc2ccccn2)=C(O)c2ccccc2S1(=O)=O'), ('DB06888', 'CC1CC2CN1CCn1[nH]c3c(cccc3c1=O)-c1nc3c(cccc3[nH]c1=O)O2'), ('DB08536', 'Brc1cnn2c(NCc3cncnc3)cc(-c3ccccc3)cc12'), ('DB02446', 'NC(CCC(=O)NO)C(=O)O'), ('DB08890', 'CC1NC(=O)C2CCCN2C(=O)C(CC(N)=O)NC(=O)C2CSSCC(N)C(=O)NC3CSSCC(NC1=O)C(=O)NC(C(C)O)C(=O)NCC(=O)NC(C(=O)NC(Cc1ccc(O)cc1)C(=O)O)CSSCC(NC(=O)C(Cc1ccc(O)cc1)NC(=O)C(CCC(=O)O)NC3=O)C(=O)N2'), ('DB02317', 'O=P(O)(O)OC1OC(CO)C(O)C(O)C1O'), ('DB04811', 'O=C1C=CC=CC1=CNc1ccccc1NC=C1C=CC=CC1=O.[Fe]'), ('DB06216', 'CN1CC2c3ccccc3Oc3ccc(Cl)cc3C2C1.O=C(O)C=CC(=O)O'), ('DB01486', 'CC(N)C(O)c1ccccc1'), ('DB07606', 'CCc1nn(-c2c(Cl)cc(Cl)cc2Cl)c2nc(Cc3ccc(O)c(O)c3)[nH]c(=O)c12'), ('DB07551', 'CCNc1nc(Cl)nc(NC(C)(C#N)CC)n1'), ('DB00441', 'Nc1ccn(C2OC(CO)C(O)C2(F)F)c(=O)n1'), ('DB04004', 'CN(C)CCSCc1cc(N)cc2c(=O)[nH]c(N)nc12'), ('DB07837', 'O=C(O)Cc1ccc(-c2c[nH]c3ncc(-c4ccc5ccccc5c4)cc23)cc1'), ('DB03305', 'CC(=N)NCCCC(N)C(=O)O'), ('DB02008', 'CCCCn1c(=O)n(Cc2ccccc2F)c(=O)c2[nH]c(Cc3ccc(NC(C)=O)cc3)nc21'), ('DB03480', 'Cc1c(-c2ccc(-c3ccccc3)cc2)nc2ccc(F)cc2c1C(=O)O'), ('DB00776', 'NC(=O)N1c2ccccc2CC(=O)c2ccccc21'), ('DB06636', 'CNCC(=O)OCc1cccnc1N(C)C(=O)OC(C)[n+]1cnn(CC(O)(c2cc(F)ccc2F)C(C)c2nc(-c3ccc(C#N)cc3)cs2)c1'), ('DB07791', 'CNS(=O)(=O)c1ccc(Nc2nccc(-c3cnc(C)n3C3CC3)n2)cc1'), ('DB07459', 'O=C(NCc1ccccn1)c1ccc(Oc2ccccc2)cc1'), ('DB01506', 'NC1(c2ccccc2)CCCCC1'), ('DB01108', 'CC12CCC3C(CCC45OC4C(O)=C(C#N)CC35C)C1CCC2O'), ('DB02141', 'N=C(N)SCCc1ccc(CCSC(=N)N)cc1'), ('DB07215', 'Cc1nc(-c2ccc(C(F)(F)F)cc2)sc1C(=O)NCc1ccc(OC(C)(C)C(=O)O)cc1'), ('DB07119', 'Oc1ccc(-c2ccc3c(Cl)c(O)ccc3c2)cc1'), ('DB04560', 'O=C(O)CCC(=O)CCC(=O)CCC(=O)O'), ('DB05383', 'NC(N)=N[NH3+].[Cl-]'), ('DB04926', 'CC1(C)CC(C)(C)CC(C)(N)C1'), ('DB04482', 'Nc1ccn(C2OC(COP(=O)(O)OC3(C(=O)O)CC(O)C(O)C(C(O)CO)O3)C(O)C2O)c(=O)n1'), ('DB03584', 'OCC1OC(O)C(O)C(O)C1S'), ('DB03988', 'NC(=O)C(N)CCCC[NH3+]'), ('DB04739', 'CN1CCN(Cc2ccc(C(=O)Nc3cccc(Nc4nccc(-c5cccnc5)n4)c3)cc2)CC1'), ('DB04800', 'Cn1nc(-c2ccccc2)cc1NS(=O)(=O)O'), ('DB09230', 'CC1=C(C(=O)OC(C)C)C(c2cccc([N+](=O)[O-])c2)C(C(=O)OC2CN(C(c3ccccc3)c3ccccc3)C2)=C(N)N1'), ('DB08419', 'CCC(COc1ccccc1)OP(C)(=O)Cl'), ('DB02719', 'NC(=O)C1(O)OC(CO)C(O)C(O)C1O'), ('DB01178', 'CN1C(=O)CCS(=O)(=O)C1c1ccc(Cl)cc1'), ('DB07861', 'O=C(NO)C(Cc1ccc2ccccc2c1)NS(=O)(=O)c1ccc2ccccc2c1'), ('DB04021', 'CC1CN(CCCCCCCCNC=O)CC(C)O1'), ('DB08950', 'OC(=NC1CCN(CCc2c[nH]c3ccccc23)CC1)c1ccccc1'), ('DB04364', 'CC(=O)C(C)O'), ('DB01918', 'C[Te]CC(=O)[O-]'), ('DB01652', 'CC(C)(COP(=O)(O)OP(=O)(O)OCC1OC(n2cnc3c(N)ncnc32)C(O)C1OP(=O)(O)O)C(O)C(=O)NCCC(=O)NCCSC(=O)c1ccc(O)cc1'), ('DB07454', 'CC(O)(CBr)C(=O)Nc1ccc([N+](=O)[O-])c(C(F)(F)F)c1'), ('DB06614', 'CCC(CC)C(N=C(C)O)C1C(NC(=N)N)CC(C(=O)O)C1O'), ('DB07007', 'NC1=NC(COc2ccc3c(c2)CNCC3)COc2ccsc21'), ('DB00938', 'OCc1cc(C(O)CNCCCCCCOCCCCc2ccccc2)ccc1O'), ('DB01283', 'Cc1ccc(Nc2c(F)cccc2Cl)c(CC(=O)O)c1'), ('DB03448', 'O=c1ccn(C2CC(OP(=O)(O)O)C(CO)O2)c(=O)[nH]1'), ('DB01235', 'NC(Cc1ccc(O)c(O)c1)C(=O)O'), ('DB04118', 'O=C1N2C=C(c3ccc(O)cc3)NC(Cc3ccccc3)C2=NC1(Cc1ccc2ccccc2c1)OO'), ('DB01802', 'CC1=CCC(N(C)C)CC1'), ('DB04372', 'CCCCCC=CCC=CCCCCCCCC(=O)OCC(COP(=O)([O-])OCC[N+](C)(C)C)OC(=O)CCCCCCCC=CCC=CCCCCC'), ('DB01176', 'CN1CCN(C(c2ccccc2)c2ccccc2)CC1'), ('DB11617', 'CCC1(O)CC(OC2CC(N(C)C)C(OC3CC(O)C(OC4CCC(=O)C(C)O4)C(C)O3)C(C)O2)c2c(cc3c(c2O)C(=O)c2c(O)cccc2C3=O)C1C(=O)OC'), ('DB08257', 'O=C(O)CCCNC(=O)NC1CCCCC1'), ('DB01805', 'CC(C)OP(=O)(O)OCC(N)C(=O)O'), ('DB08178', 'COc1ccnc2[nH]cc(-c3ccnc(N)n3)c12'), ('DB03449', 'N=C(Nc1ccc(CCNCc2cccc(Cl)c2)cc1)c1cccs1'), ('DB00842', 'O=C1Nc2ccc(Cl)cc2C(c2ccccc2)=NC1O'), ('DB13146', 'NC1(C(=O)O)CC(F)C1'), ('DB07113', 'CCc1nc(N)nc(N)c1-c1ccc2c(c1)N(CCCOC)C(=O)C(c1cc(F)cc(F)c1)O2'), ('DB01185', 'CC1(O)CCC2C3CCC4=CC(=O)CCC4(C)C3(F)C(O)CC21C'), ('DB02608', 'CC(=O)NC(CO)C(O)c1ccc([N+](=O)[O-])cc1'), ('DB02982', 'CCCC=CC=CCCCCCCCCCO'), ('DB07945', 'NC(=O)c1cccc(Cn2c3c(c4cccc(C(=O)O)c42)CCCCC3)c1'), ('DB09325', '[F-].[Na+]'), ('DB03982', 'O=C(O)C(=O)N(c1ccccc1C(=O)O)c1cccc2ccccc12'), ('DB07511', 'Cc1cccc2c1C(=O)N(c1ccc(C#N)cc1)C2=O'), ('DB09023', 'CCN(CC)CCOC(=O)C(O)(c1ccccc1)c1ccccc1'), ('DB03384', 'O=C(NCCS)c1cc2cc(F)ccc2[nH]1'), ('DB02492', '[O-]S([O-])([O-])OC(CO)C(O)CN1CC(O)C(O)C1CO'), ('DB07203', 'Clc1cccc(Nc2nc(OCC3CCCCC3)c3[nH]cnc3n2)c1'), ('DB04492', 'CC(=O)NC1C(O)OC(CO)C(OS(=O)(=O)O)C1O'), ('DB03143', 'CCCCCCCCCO'), ('DB13143', 'CCC(c1ccc2cc(OC)ccc2c1)C(C)(C)C(=O)O'), ('DB04432', 'Cc1c(F)c(Oc2cccc(C(=N)N)c2)[nH+]c(Oc2cccc(C(=N)N)c2)c1F'), ('DB03801', 'NC(CCCCNC(=O)O)C(=O)O'), ('DB04142', 'CCc1oc2cc(S(=O)(=O)N(C)C)ccc2c1C(=O)c1cc(Br)c(O)c(Br)c1'), ('DB07582', 'CC(C)C(NC(=O)NC1CCCC1)C(=O)N1CCC(NC(=O)C2CC2)C1C1(C=O)CCC1'), ('DB07045', 'Nc1ncnc2c1nc(NCc1ccc(Cl)c(Cl)c1)n2C1OC(CO)C(O)C1O'), ('DB01037', 'C#CCN(C)C(C)Cc1ccccc1'), ('DB02460', 'CC1=C2N=C(C=C3N=C(C(C)=C4NC(C)(C5N=C1C(C)(CCC(=O)O)C5CC(=O)O)C(C)(CC(=O)O)C4CCC(=O)O)C(C)(CC(=O)O)C3CCC(=O)O)C(C)(C)C2CCC(=O)O'), ('DB04044', 'O=C(Nc1ccccc1Oc1ccc(C(=O)O)c(C(=O)O)c1)c1cccc([N+](=O)[O-])c1'), ('DB01528', 'COc1cc(CC(C)N)c(OC)cc1C'), ('DB06903', 'CC1CCC2C(C(=O)O)=CC3CC(C)(C)CC132'), ('DB08352', 'CC(C)Nc1nc2ccc(-c3ocnc3-c3ccccc3F)cc2s1'), ('DB04602', 'CN(C)c1ncnc2c1ncn2C1OC(COP(=O)(O)O)C(N)C1O'), ('DB02298', 'CC1CC(NO)NC1C(=O)O'), ('DB08502', 'CC(C)c1nc(COC(N)=O)n(Cc2ccncc2)c1Sc1cc(Cl)cc(Cl)c1'), ('DB08703', 'CC(C)Oc1ccc2c(c1)CCc1c-2c2c(c3c4ccccc4n(CCO)c13)C=NC2=O'), ('DB03022', 'O=c1n(CC(O)C(O)C(O)CO)c2nc(O)nc(O)c2n1CCCOP(=O)(O)O'), ('DB00684', 'NCC1OC(OC2C(N)CC(N)C(OC3OC(CO)C(O)C(N)C3O)C2O)C(N)CC1O'), ('DB00882', 'CCN(CC)CCOc1ccc(C(=C(Cl)c2ccccc2)c2ccccc2)cc1'), ('DB08394', 'O=C(O)CNC(=O)CCCP(=O)(O)Oc1ccc([N+](=O)[O-])cc1'), ('DB02385', 'Nc1nc2ncc(C(O)C(O)CO)nc2c(=O)[nH]1'), ('DB00285', 'COc1ccc(C(CN(C)C)C2(O)CCCCC2)cc1'), ('DB03857', 'OCC1OC(S)C(O)C(O)C1S'), ('DB01135', 'COc1cc(CC2c3c(cc(OC)c(OC)c3OC)CC[N+]2(C)CCCOC(=O)CCC(=O)OCCC[N+]2(C)CCc3cc(OC)c(OC)c(OC)c3C2Cc2cc(OC)c(OC)c(OC)c2)cc(OC)c1OC.[Cl-].[Cl-]'), ('DB01203', 'CC(C)(C)NCC(O)COc1cccc2c1CC(O)C(O)C2'), ('DB02300', 'C=C1C(=CC=C2CCCC3(C)C2CCC3C(C)C=CC(O)C2CC2)CC(O)CC1O'), ('DB00974', 'O=C(O)CN(CCN(CC(=O)O)CC(=O)O)CC(=O)O'), ('DB07174', 'CCc1nc(N)nc(N)c1-c1ccc2c(c1)N(CCCOC)C(=O)C(C)(C)O2'), ('DB08469', 'CC(C)(C)OC(=O)N1CCC(c2nc(-c3cccs3)no2)CC1'), ('DB03467', 'O=C1CC(c2ccc(O)cc2)Oc2cc(O)cc(O)c21'), ('DB01467', 'CCc1cc(OC)c(CC(C)N)cc1OC'), ('DB07602', 'NC(CSCCC(=O)Nc1ccc2ncnc(Nc3ccccc3)c2c1)C(=O)O'), ('DB07891', 'CC12CCC3c4ccc(O)cc4CCC3C1CCC2OC(=O)CCC(=O)O'), ('DB08410', 'O=C(O)CNC(=O)CCCC(=O)NCc1ccc([N+](=O)[O-])cc1'), ('DB00284', 'CC1OC(OC2C(CO)OC(OC3C(CO)OC(O)C(O)C3O)C(O)C2O)C(O)C(O)C1NC1C=C(CO)C(O)C(O)C1O'), ('DB04346', 'CC1(O)OCC(O)C1(O)O'), ('DB03649', 'O=P(O)(O)C(Nc1ccc(Cl)cn1)P(=O)(O)O'), ('DB01219', 'O=C1CN(N=Cc2ccc(-c3ccc([N+](=O)[O-])cc3)o2)C(=O)N1'), ('DB01362', 'CC(=O)N(CC(O)CO)c1c(I)c(C(=O)NCC(O)CO)c(I)c(C(=O)NCC(O)CO)c1I'), ('DB03519', 'CCCC(N)C(=O)O'), ('DB00117', 'NC(Cc1cnc[nH]1)C(=O)O'), ('DB08099', 'CCc1nc(N)nc(N)c1-c1ccc2c(c1)N(CCCOC)C(c1ccccc1)CC2'), ('DB09285', 'O=C(OCCN1CCOCC1)c1cccnc1Nc1cccc(C(F)(F)F)c1'), ('DB08491', 'O=C(CC1(S(=O)(=O)c2ccc(Oc3ccccc3)cc2)CCOCC1)NO'), ('DB01187', 'CCOC(=O)CCCCCCCCC(C)c1ccccc1I'), ('DB04579', 'CCOC(=O)C(O)CC(=O)NC(C(=O)NC(C(=O)O)C(C)CC)C(C)O'), ('DB03162', 'O=C(O)c1nsnc1O'), ('DB04200', 'COc1cc(CC2COC(=O)C2Cc2ccc(O)c(OC)c2)ccc1O'), ('DB01297', 'CC(=O)Nc1ccc(OCC(O)CNC(C)C)cc1'), ('DB07276', 'CCOc1nc(C(=O)NCc2cc(OC)ccc2OC)ccc1C#N'), ('DB06974', 'COc1ccc2c(c1)S(=O)(=O)NC(c1c(O)c(-c3ccccc3)nn(CCC(C)C)c1=O)=N2'), ('DB00133', 'NC(CO)C(=O)O'), ('DB07073', 'CC1(C)CC(=O)c2sc(N3CCOCC3)nc2C1'), ('DB04669', 'Brc1cccc(-c2cc(NCc3ccncc3)[n+]3[nH]cnc3n2)c1'), ('DB09239', 'COC(=O)C1=C(C)NC(C)=C(C(=O)OCCCN2CCC(c3ccccc3)(c3ccccc3)CC2)C1c1cccc([N+](=O)[O-])c1'), ('DB07070', 'CCC(Cc1ccc(OC)c(CNC(=O)c2ccc(C(F)(F)F)cc2F)c1)C(=O)O'), ('DB06982', 'CC(C)(C)OC(=O)NCCCCCCC(C(=O)O)c1c[nH]c2ccccc12'), ('DB02716', 'C[n+]1cn(C2OC(COP(=O)(O)OP(=O)(O)OP(=O)(O)O)C(O)C2O)c2nc(N)[nH]c(=O)c21'), ('DB01690', 'Nc1ncnc2c1ncn2C1OC(COP(=O)(O)OP(=O)(O)OP(=O)(O)OCC2OC(n3cnc4c(N)ncnc43)C(O)C2O)C(O)C1O'), ('DB02339', 'C=CCN(C)CCCCCCOc1ccc2c(-c3ccc(Br)cc3)coc2c1'), ('DB01671', 'O=C(O)c1ccc([Hg]O)cc1'), ('DB00808', 'CC1Cc2ccccc2N1NC(=O)c1ccc(Cl)c(S(N)(=O)=O)c1'), ('DB01746', 'CC(C)CC(N)C(=O)O'), ('DB08395', 'CCOCn1oc(=O)c(-c2ccc(F)cc2)c1-c1ccnc(Oc2ccccc2O)n1'), ('DB01369', 'CCC1NC(=O)C(NC(=O)c2ncccc2O)C(C)OC(=O)C(c2ccccc2)NC(=O)C2CC(=O)C(CSC3CN4CCC3CC4)CN2C(=O)C(Cc2ccc(N(C)C)cc2)N(C)C(=O)C2CCCN2C1=O'), ('DB06914', 'Clc1ccc(CCC2(Cn3ccnc3)OCCO2)cc1'), ('DB07988', 'CNC(=O)C(Cc1c(F)c(F)c(F)c(F)c1F)NC(=O)Nc1nnc(S)s1'), ('DB07204', 'NC(COc1cncc2nc(-c3ccncc3)ccc12)Cc1c[nH]c2ccccc12'), ('DB02688', 'C=C(N)C(=O)O'), ('DB00212', 'CC(C)(C)S(=O)(=O)CC(Cc1ccccc1)C(O)=NC(Cc1cnc[nH]1)C(O)=NC(CC1CCCCC1)C(O)C(O)C1CC1'), ('DB01695', 'O=C(CCCP(=O)([O-])[O-])NO'), ('DB00781', 'CCC(C)CCCCC(=O)NC(CCN)C(=O)NC(C(=O)NC(CCN)C(=O)NC1CCNC(=O)C(C(C)O)NC(=O)C(CCN)NC(=O)C(CCN)NC(=O)C(CC(C)C)NC(=O)C(Cc2ccccc2)NC(=O)C(CCN)NC1=O)C(C)O'), ('DB04606', 'CCCOc1ccc2[nH]cc(CC(NS(=O)(=O)CC)C(=O)NC(CCC(N)=O)C(=O)NCc3ccc(C(=N)N)cc3)c2c1'), ('DB04890', 'O=C(O)CCCN1CCC(OC(c2ccc(Cl)cc2)c2ccccn2)CC1'), ('DB00972', 'CN1CCCC(n2nc(Cc3ccc(Cl)cc3)c3ccccc3c2=O)CC1'), ('DB01064', 'CC(C)NCC(O)c1ccc(O)c(O)c1'), ('DB04577', 'NCC1(c2ccccc2)CCCC1'), ('DB00547', 'CC1CC2C3CCC4=CC(=O)C=CC4(C)C3(F)C(O)CC2(C)C1C(=O)CO'), ('DB09135', 'CC(=O)N(CC(O)CO)c1c(I)c(C(=O)NCCO)c(I)c(C(=O)NCC(O)CO)c1I'), ('DB00732', 'COc1ccc(CC2c3cc(OC)c(OC)cc3CC[N+]2(C)CCC(=O)OCCCCCOC(=O)CC[N+]2(C)CCc3cc(OC)c(OC)cc3C2Cc2ccc(OC)c(OC)c2)cc1OC.O=S(=O)([O-])c1ccccc1.O=S(=O)([O-])c1ccccc1'), ('DB08107', 'CCCCCOc1ccc2cc(S(=O)(=O)NC(CCC(=O)O)C(=O)O)ccc2c1'), ('DB06834', 'Cn1cc(-c2cc3cccnc3[nH]2)c2cc(C(=O)NC(C)(C)CO)ccc21'), ('DB02380', 'O=c1[nH]cnc2c1ncn2C1CC(O)C(CO)O1'), ('DB00625', 'O=C1Nc2ccc(Cl)cc2C(C#CC2CC2)(C(F)(F)F)O1'), ('DB02705', 'CC(C)C1NCCc2ccc(NC(=O)c3ccc4cc(C(=N)N)ccc4c3)cc21'), ('DB02363', 'Nc1ncnc2c1ncn2C1OC(COP(=O)(O)OP(=O)(O)O)C(O)C1OP(=O)(O)O'), ('DB00313', 'CCCC(CCC)C(=O)O'), ('DB03933', 'C=C1Oc2cc(OC)cc(C(=O)OC3COC(=O)CC([NH3+])c4cc(O)c(c(Cl)c4)OC4c5ccc3cc5C3=CC=CC34OC3OC(C)(C)C(N(C)C)C(O)C3O)c2NC1=O'), ('DB07939', 'CC(NC(=O)CCS)C(=O)O'), ('DB07317', 'O=C1OCCC1=CNc1ccccc1'), ('DB04219', 'O[V](O)O[V](O)(O)O[V](O)O'), ('DB03636', 'NCC(N)=O'), ('DB06999', 'CCCS(=O)(=O)Nc1ccc(F)c(C(=O)c2c[nH]c3ncc(Cl)cc23)c1F'), ('DB07802', 'Cc1c(Br)c(=O)oc2c(Br)c(O)ccc12'), ('DB02621', 'CC1=CC(=O)OC2CC(CCC(C)C=CC=CCC1)OC(O)(C1CSC(O)=N1)C2'), ('DB06204', 'CCC(c1cccc(O)c1)C(C)CN(C)C'), ('DB01213', 'Cc1cn[nH]c1'), ('DB03194', 'COC1OC(C)C(O)C(O)C1O'), ('DB00953', 'CN(C)CCc1c[nH]c2ccc(Cn3cncn3)cc12'), ('DB04744', 'O=C1C=C(O)c2ccccc2C1=O'), ('DB01922', 'OCC1NC(=NO)C(O)C(O)C1OC1OC(CO)C(OC2OC(CO)C(O)C(O)C2O)C(O)C1O'), ('DB02193', 'NC(=[NH2+])c1ccc2c(c1)NC(=C1C=CC=CC1=O)N2'), ('DB07024', 'Cc1cc(N2CCCS2(=O)=O)c2oc(-c3ccc(O)c(O)c3)c(O)c(=O)c2c1'), ('DB03139', 'O=C(O)CCCCCNC(=O)CCCCC1SCC2NC(=O)NC21'), ('DB00402', 'CN1CCN(C(=O)OC2c3nccnc3C(=O)N2c2ccc(Cl)cn2)CC1'), ('DB01103', 'CCN(CC)CCCC(C)Nc1c2ccc(Cl)cc2nc2ccc(OC)cc12'), ('DB00947', 'CC12CCC3c4ccc(O)cc4CC(CCCCCCCCCS(=O)CCCC(F)(F)C(F)(F)F)C3C1CCC2O'), ('DB00693', 'O=C1OC2(c3ccc(O)cc3Oc3cc(O)ccc32)c2ccccc21'), ('DB07213', 'OCc1n[nH]nc1-c1ccc2c(-c3cc4cc(CN5CCCCC5)ccc4[nH]3)n[nH]c2c1'), ('DB04259', 'CN1CN(C2OC(COP(=O)(O)O)C(O)C2O)c2nc(N)[nH]c(=O)c21'), ('DB01959', 'CCOC(=O)c1c(C)nn(-c2cccc([N+](=O)[O-])c2)c1C'), ('DB06881', 'CCCC(=O)C(O)=COP(=O)(O)O'), ('DB03824', 'Ic1ccc2c(c1)CNCC2'), ('DB07932', 'COC(=O)C1=C(C(=O)OC)C2OC1C(c1ccc(O)cc1)=C2c1ccc(O)cc1'), ('DB07971', 'Nc1ccc(Sc2ccc(N3C(=O)c4ccc(N)cc4C3=O)cc2)cc1'), ('DB02054', 'Nc1cccc(C(=O)O)c1'), ('DB07496', 'O=C(Nc1ccccc1)Nc1ccccc1'), ('DB03247', 'Cc1cc2nc3c(=O)[nH]c(=O)nc-3n(CC(O)C(O)C(O)COP(=O)(O)O)c2cc1C'), ('DB00936', 'O=C(O)c1ccccc1O'), ('DB08116', 'CC(COC(=O)Cc1ccc(O)c(O)c1)(C(Nc1c(C=O)cc2ccccn12)C(=O)O)S(=O)O'), ('DB08568', 'Cc1n[nH]c2ccc(-c3cncc(OCC(N)Cc4ccccc4)c3)cc12'), ('DB08008', 'Cc1cc(Nc2ccc(C(F)(F)F)cc2)n2ncnc2n1'), ('DB06908', 'CCOC(Cc1ccc2c(ccn2Cc2nc(-c3ccccc3Cl)oc2C)c1)C(=O)O'), ('DB04809', 'O=C(O)CCc1ccc(NC=C2C=CC=CC2=O)c(NC=C2C=CC=CC2=O)c1'), ('DB02453', 'O[Sb](O)O'), ('DB01752', 'Nc1ncnc2c1ncn2C1OC(CSCCC(N)C(=O)O)C(O)C1O'), ('DB02810', 'NC(=O)CN(CC(=O)O)CC(=O)O'), ('DB00924', 'CN(C)CCC=C1c2ccccc2C=Cc2ccccc21'), ('DB02080', 'COCCOCCOCCOc1ccc(C(C)(C)CC(C)(C)C)cc1'), ('DB08313', 'COC(=O)Nc1nc2ccc(C(=O)c3cccs3)cc2[nH]1'), ('DB04394', 'NS(=O)(=O)c1ccc(N2CCCC2=O)c([N+](=O)[O-])c1'), ('DB02842', 'CN(C)CCCNC(=O)c1cccc2c(N)c3ccccc3nc12'), ('DB04261', 'NC(=O)O'), ('DB01565', 'CN1CCC23c4c5ccc(O)c4OC2C(O)CCC3C1C5'), ('DB00257', 'Clc1ccccc1C(c1ccccc1)(c1ccccc1)n1ccnc1'), ('DB03427', 'C=CC(NC(=O)C(CS)NC(=O)CCCC(N)C(=O)O)C(=O)O'), ('DB01222', 'CCCC1OC2CC3C4CCC5=CC(=O)C=CC5(C)C4C(O)CC3(C)C2(C(=O)CO)O1'), ('DB03421', 'O=c1[nH]n(CCc2ccccc2)c(=O)c2ccccc12'), ('DB02822', 'OCc1ccc(Br)cc1'), ('DB04057', 'NC(=O)c1ncn(C2OC(COP(=O)(O)O)C(O)C2O)c1C=CC(=O)N(Cc1ccc2nc(N)[nH]c(=O)c2n1)c1ccc(C(=O)NC(CCC(=O)O)C(=O)O)cc1'), ('DB08631', 'O=S(=O)(Nc1ccc(Cl)cc1)c1ccc2c(c1)CNCC2'), ('DB03597', 'NC(CCC(=O)NC(CSCc1ccccc1I)C(=O)NCC(=O)O)C(=O)O'), ('DB00503', 'CC(C)c1nc(CN(C)C(=O)NC(C(=O)NC(Cc2ccccc2)CC(O)C(Cc2ccccc2)NC(=O)OCc2cncs2)C(C)C)cs1'), ('DB07382', 'c1cc(Nc2cc(C3CC3)n[nH]2)nc(Nc2ccc3[nH]cnc3c2)n1'), ('DB07205', 'CC(C)CCNc1ncnc2c1ncn2C1OC(COP(=O)(O)O)C(O)C1O'), ('DB01985', 'CC(=O)NC(CCCNC(=N)N)C(=O)O'), ('DB02845', 'C[PH](=O)O'), ('DB03343', 'O=C([O-])C(O)C=C([O-])O'), ('DB02005', 'CC=CC(=O)C(=O)O'), ('DB08332', 'CC12OOC(CCC(=O)O)(c3ccccc31)c1ccccc12'), ('DB02282', 'CSCC1OC(n2cnc3c(N)ncnc32)C(O)C1O'), ('DB02243', 'CCCC(C=CS(=O)(=O)c1ccccc1)NC(=O)C(Cc1ccccc1)NC(=O)N1CCC(N2CCOCC2)CC1'), ('DB01080', 'C=CC(N)CCC(=O)O'), ('DB03744', 'O=C(NC(Cc1ccccc1)C(=O)N1CC(C(=O)O)C1)c1cc2cc(Cl)ccc2[nH]1'), ('DB00238', 'Cc1ccnc2c1NC(=O)c1cccnc1N2C1CC1'), ('DB00138', 'NC(CSSCC(N)C(=O)O)C(=O)O'), ('DB04627', 'O=c1ccn2c(n1)OC1C(O)C(CO)OC12'), ('DB03130', 'NC(CCC(=O)NC(CSC(O)OCc1ccc([N+](=O)[O-])cc1)C(=O)NCC(=O)O)C(=O)O'), ('DB07436', 'CCC(NC=O)c1ccccc1'), ('DB02761', 'NC(CSS)C(=O)O'), ('DB08108', 'N#Cc1ccc(COc2ccc3cc(S(=O)(=O)NC(CCC(=O)O)C(=O)O)ccc3c2)cc1'), ('DB07753', 'O=C(O)c1ccc(-c2cc(F)cc(F)c2)cc1'), ('DB08020', 'COCc1cc(O)cc2c1OC(c1ccc(O)cc1)C1CCCC21'), ('DB07608', 'NCCC(C(=O)Nc1ccc2[nH]nc(NC(=O)c3ccccc3)c2c1)c1cccc(Cl)c1'), ('DB00454', 'CCOC(=O)C1(c2ccccc2)CCN(C)CC1'), ('DB04121', 'Nc1nc2c(ncn2C2OC(COP(=O)(O)OP(=O)(O)O)C(OP(=O)(O)O)C2O)c(=O)[nH]1'), ('DB07140', 'COc1cc(-c2ccccc2)cc(C(C)C#Cc2c(C)nc(N)nc2N)c1'), ('DB02517', 'NC(CCC(=O)O)C(=O)O'), ('DB07027', 'NC(Cc1ccccc1)C(=O)N1CCCC1C(=O)NCc1cccc(F)c1'), ('DB00784', 'Cc1cccc(Nc2ccccc2C(=O)O)c1C'), ('DB08436', 'CCCCn1c(Cc2ccc3c(c2)OCO3)nc2c(N)ncnc21'), ('DB00698', 'O=C1CN(N=Cc2ccc([N+](=O)[O-])o2)C(=O)N1'), ('DB08905', 'CC12CCC3C(CCC4=C(O)C(=O)CCC43C)C1CCC2=O'), ('DB03256', 'N=c1nc(O)c2c([nH]1)NCC(CNc1ccc(C(=O)NC(CCC(=O)O)C(=O)O)cc1)N2C=O'), ('DB07057', 'O=C(O)C1CC(=O)N(c2ccccc2O)C1'), ('DB08378', 'O=C(O)CCC(O)Nc1ccc(N2C(=O)CCC2=O)cc1'), ('DB04920', 'CCCC(=O)OCOC(=O)C1=C(C)NC(C)=C(C(=O)OC)C1c1cccc(Cl)c1Cl'), ('DB02425', 'CCCCCCCCCCCCCCCOC(=O)CCCCCCC'), ('DB00654', 'CC(C)OC(=O)CCCC=CCC1C(O)CC(O)C1CCC(O)CCc1ccccc1'), ('DB04303', 'COC1C(C(=O)O)OC(O)C(O)C1O'), ('DB03657', 'COC(=O)NC1OC(CO)C(O)C(O)C1O'), ('DB03338', 'CCCCCCCOC1OC(CO)C(O)C(O)C1O'), ('DB04053', 'O=P[O-]'), ('DB03243', '[NH3+]Cc1ccc(F)cc1'), ('DB04632', 'O=S(=O)(Nc1cccc(Oc2ccc(F)cc2)c1)N1CCC(NCc2ccccc2O)CC1'), ('DB05289', 'CC(C(=O)O)c1ccc(-c2ccccc2)c(F)c1'), ('DB03650', 'O=C1Nc2ccccc2C1=Nc1ccc(O)cc1'), ('DB03439', 'CC1OC(O)C(O)C(O)C1N'), ('DB00494', 'CCN(CC)C(=O)C(C#N)=Cc1cc(O)c(O)c([N+](=O)[O-])c1'), ('DB02512', 'O=C(COP(=O)(O)O)C(O)C(O)C(O)COP(=O)(O)O'), ('DB02648', 'C[N+](C)(C)CC(O)CC(=O)O'), ('DB01241', 'Cc1ccc(C)c(OCCCC(C)(C)C(=O)O)c1'), ('DB01738', 'NCCCOP(=O)(O)O'), ('DB00486', 'CCCCCCC(C)(C)c1cc(O)c2c(c1)OC(C)(C)C1CCC(=O)CC21'), ('DB00690', 'CCN(CC)CCN1C(=O)CN=C(c2ccccc2F)c2cc(Cl)ccc21'), ('DB04508', 'COC1OC(C=S)C(O)C(O)C1O'), ('DB02311', 'CSCS(C)=O'), ('DB01630', 'CCCCCc1ccc(C(=O)Nc2ccc(S(=O)(=O)N(CCN3CCOCC3)C(C(=O)NO)C(C)C)cc2)cc1'), ('DB03280', 'Cc1cn(C2CC(O)C(COP(=O)(O)OP(=O)(O)OP(=O)(O)OP(=O)(O)OP(=O)(O)OCC3OC(n4cnc5c(N)ncnc54)C(O)C3O)O2)c(=O)[nH]c1=O'), ('DB00645', 'CCCCOc1ccc(C(=O)CCN2CCCCC2)cc1'), ('DB00600', 'Oc1ccc(OCc2ccccc2)cc1'), ('DB04765', 'Cc1ncc(COP(=O)(O)O)c(CNC(C)(CCC(=O)O)C(=O)O)c1O'), ('DB07437', 'O=c1[nH]c(=O)n(COCCO)cc1Cc1ccccc1'), ('DB02891', 'Cc1cccc2sc3nncn3c12'), ('DB07684', 'CN(C)c1cccc2cc(S(=O)(=O)O)ccc12'), ('DB03827', 'CCCCCC(=O)OCC(CCP(=O)([O-])OCC[N+](C)(C)C)OC(=O)CCCCC'), ('DB01384', 'CC1CC2C3CC(F)C4=CC(=O)C=CC4(C)C3C(O)CC2(C)C1(O)C(=O)CO'), ('DB07533', 'CNS(=O)(=O)c1ccc(-c2ccc(C=C3SC(=N)NC3=O)o2)cc1'), ('DB00862', 'CCCc1nc(C)c2c(=O)nc(-c3cc(S(=O)(=O)N4CCN(CC)CC4)ccc3OCC)[nH]n12'), ('DB00641', 'CCC(C)(C)C(=O)OC1CC(C)C=C2C=CC(C)C(CCC3CC(O)CC(=O)O3)C21'), ('DB04689', 'CCCc1c(OCCCOc2ccc3c(ccn3CC(=O)O)c2)ccc2cc(C(=O)c3ccccc3)ccc12'), ('DB03184', 'CC1CC(N)NC1C(=O)O'), ('DB04096', 'OCC1NC(O)C(O)C(O)C1OC1OC(CO)C(O)C(O)C1O'), ('DB07991', 'CC(CCc1ccc(O)cc1)NC(=O)Cc1c(-c2ccccc2)[nH]c2ccccc12'), ('DB08049', 'O=c1cc(-c2ccccc2)c2ccc(O)c(O)c2o1'), ('DB03178', 'Nc1nc2c(ncn2C2OC(CO)C3OP(O)(=S)OC32)c(=O)[nH]1'), ('DB09152', 'N#N'), ('DB03411', 'OCC1NCC(O)C1O'), ('DB04840', 'N=C(N)N1CCc2ccccc2C1'), ('DB09133', 'CNC(=O)c1c(I)c(NC(C)=O)c(I)c(C(=O)O)c1I'), ('DB01460', 'CCN(CC)CCc1c[nH]c2ccccc12'), ('DB03991', 'CC(=O)NC1C(O)C=C(C(=O)O)OC1C(O)C(O)CO'), ('DB04022', 'Nc1nc2c(ncn2C2OC(COP(=O)(O)OP(=O)(O)O)C(OP(=O)(O)OP(=O)(O)O)C2O)c(=O)[nH]1'), ('DB02592', 'O=C(O)C1(O)CC(O)C(O)C(CP(=O)(O)O)C1'), ('DB04490', 'SCc1cccnc1'), ('DB07874', 'COc1cccc(-c2cccc(C3(C)CC(=O)N(C)C(N)=N3)c2)c1'), ('DB07355', 'CCCCCCCOc1cccc(C(=O)O)c1'), ('DB03633', 'CCCCCCCCCCCCCCCCCCOCC(O)COP(=O)(O)OCC[N+](C)(C)C'), ('DB07041', 'CC(C)(CNC(=O)c1ccc(Oc2ccccc2)cc1)c1ccc2c(N)nc(N)nc2n1'), ('DB01784', 'NS(=O)(=O)c1ccc(F)cc1'), ('DB06786', 'CC1(C)OC2CC3C4CCC5=CC(=O)CCC5(C)C4(F)C(O)CC3(C)C2(C(=O)CCl)O1'), ('DB03548', 'O=C(O)C1(O)CC(O)C(O)C(C(O)CO)O1'), ('DB02023', 'Nc1nc2c([nH]c(=O)n2C2CC(O)C(COP(=O)(O)O)O2)c(=O)[nH]1'), ('DB01198', 'CN1CCN(C(=O)OC2c3nccnc3C(=O)N2c2ccc(Cl)cn2)CC1'), ('DB08574', 'O=C1N=C(S)SC1Cc1ccc(C(F)(F)F)cc1'), ('DB00636', 'CCOC(=O)C(C)(C)Oc1ccc(Cl)cc1'), ('DB01771', 'NC(=[NH2+])c1cc2cc(-c3cccc(OC4CCCC4)c3[O-])[nH]c2cc1Cl'), ('DB08801', 'CC(C1=C(CCN(C)C)Cc2ccccc21)c1ccccn1'), ('DB01230', 'NC1=NC(=O)C(c2ccccc2)O1'), ('DB06090', 'O=C(NC1C2CCN(CC2)C1Cc1cccnc1)c1cc2ccccc2o1'), ('DB02350', 'COc1ccc(S(=O)(=O)N2CCCSC(C)(C)C2C(=O)NO)cc1'), ('DB09016', 'CC(CC1c2ccccc2CCc2ccccc21)CN(C)C'), ('DB03128', 'CC(=O)OCC[N+](C)(C)C'), ('DB03354', 'Cc1nnc(C2OC(CO)C(O)C(O)C2O)o1'), ('DB00260', 'NC1CONC1=O'), ('DB07761', 'CN(C)CC(O)COc1ccc(Nc2cc(Nc3c(F)cccc3F)ncn2)cc1'), ('DB08550', 'Clc1ccc2c(c1Cl)CNCC2'), ('DB00403', 'CSCCC(NC(=O)C(Cc1c[nH]c2ccccc12)NC(=O)CNC(=O)C(NC(=O)C(Cc1ccc(OS(=O)(=O)O)cc1)NC(=O)C(CC(=O)O)NC(=O)C(CCC(N)=O)NC(=O)C1CCC(=O)N1)C(C)O)C(=O)NC(CC(=O)O)C(=O)NC(Cc1ccccc1)C(N)=O'), ('DB04092', 'CC(NC(=O)C1CCCN1C(=O)C1CCCN1C(=O)C(O)C(N)Cc1ccccc1)C(N)=O'), ('DB02888', 'COc1cc(C(F)(F)C(=O)N2CCCCC2C(=O)OC(CCCc2ccccc2)CCCc2cccnc2)cc(OC)c1OC'), ('DB06993', 'CS(=O)(=O)c1ccc(C2NOC(C(CC3CC3)C(N)C(=O)N3CCC(F)C3)N2)c(F)c1'), ('DB07893', 'CCCCC(NC(=O)CCC(=O)O)P(=O)(O)Oc1ccccc1'), ('DB01359', 'CC(C)(C)NCC(O)COc1ccccc1C1CCCC1'), ('DB09248', 'CC(NN)c1ccccc1'), ('DB02253', 'CC(C=CC=C(C)C=CC1=C(C)CC(O)CC1(C)C)=CC=CC=C(C)C=CC=C(C)CO'), ('DB02803', 'OCC(O)Cc1ccccc1'), ('DB04117', 'CN(C)c1ccc(C=CC(=O)SCCNC(=O)CCNC(=O)C(O)C(C)(C)COP(=O)(O)OP(=O)(O)OCC2OC(n3cnc4c(N)ncnc43)C(O)C2OP(=O)(O)O)cc1'), ('DB04319', 'CC1OC(O)C(O)C(O)C1O'), ('DB00330', 'CCC(CO)NCCNC(CC)CO'), ('DB04996', 'CC(=O)[O-].CC(=O)[O-].N.NC1CCCCC1.[Cl-].[Cl-].[Pt+4]'), ('DB00823', 'C#CC1(OC(C)=O)CCC2C3CCC4=CC(OC(C)=O)CCC4C3CCC21C'), ('DB02773', 'CCCOc1ccc(CC(=O)O)cc1Cl'), ('DB08432', 'Cc1cn(C2CC(O)C(COP(O)(O)=S)O2)c(=O)[nH]c1=O'), ('DB07006', 'COc1ccccc1-c1cc2c(c3c1C(=O)NC3=O)c1cc(O)ccc1n2CCCO'), ('DB08597', 'c1cc(-c2cnn3cc(-c4ccc(OCCN5CCCCC5)cc4)cnc23)ccn1'), ('DB08043', 'O=C(Nc1ccc(Oc2ccncc2)cc1)Nc1cccc(C(F)(F)F)c1'), ('DB07484', 'O=C(O)C(Cc1ccccc1)CC(O)(O)C[N+](=O)[O-]'), ('DB06976', 'O=C(Nc1cc(C2CCCN2)[nH]n1)Nc1cccc2c1C1CCCN1C2=O'), ('DB07609', 'CN(C)Cc1ccc(-c2cccnc2)o1'), ('DB00979', 'CN(C)CCOC(=O)C(c1ccccc1)C1(O)CCCC1'), ('DB03072', 'Cc1cccc2c(=O)[nH]c(CCCN3CC=C(c4ccc(F)cc4)CC3)nc12'), ('DB07376', 'CN(C)c1cccc2c(S(=O)(=O)O)cccc12'), ('DB01395', 'CC12CCC(=O)C=C1C1CC1C1C2CCC2(C)C1C1CC1C21CCC(=O)O1'), ('DB09020', 'CC(=O)Oc1ccc(C(c2ccc(OC(C)=O)cc2)c2ccccn2)cc1'), ('DB06904', 'CCCOC(=O)C1=CSC2C(C(C)OC(C)=O)C(=O)N12'), ('DB03576', 'Cc1ncc(COP(=O)(O)O)c(CNC(C(=O)O)C(C)O)c1O'), ('DB03336', 'O=C(CCN1CCN(c2cccc(C(F)(F)F)c2)CC1)c1cc(O)c(O)c([N+](=O)[O-])c1'), ('DB07731', 'Nc1n[nH]c(N)c1N=Nc1ccc(O)cc1'), ('DB00886', 'O=C(NC1CCSC2CCCC(C(=O)O)N2C1=O)C(S)Cc1ccccc1'), ('DB03259', 'Oc1cccc(-c2c(Cl)cccc2Cl)c1O'), ('DB07298', 'O=C(O)COc1c(C(=O)O)sc2ncccc12'), ('DB06710', 'CC12CCC(=O)C=C1CCC1C2CCC2(C)C1CCC2(C)O'), ('DB07229', 'COc1cc(-c2ccccc2)c([O-])c(-c2cc3cc(C(N)=[NH2+])ccc3[nH]2)c1'), ('DB03220', 'CC(O)C(CCc1cccc2ccccc12)n1cnc(C(N)=O)c1'), ('DB08325', 'CC(C)n1cnc2c(=Nc3cccc(Cl)c3)nc(NCCO)[nH]c21'), ('DB07329', 'O=C(O)CCCCN(Cc1ccc([N+](=O)[O-])cc1)CP(=O)(O)O'), ('DB04151', 'Cn1cnc(CC(N)C(=O)O)c1'), ('DB04680', 'COC(=O)CCCCCCCCOC1OC(CO)C(O)C(O)C1O'), ('DB07198', 'N#Cc1cc(O)cc2cc(-c3ccc(O)cc3)oc12'), ('DB09102', 'COC(=O)NC(C(=O)N1CCCC1c1ncc(-c2ccc(-c3ccc(-c4cnc(C5CCCN5C(=O)C(NC(=O)OC)C(C)C)[nH]4)cc3)cc2)[nH]1)C(C)C'), ('DB02497', 'NC(COP(=O)(O)OCC(O)CO)C(=O)O'), ('DB01631', 'CCCCCCCCC(=O)OC'), ('DB03474', 'Nc1nc(N)nc(Nc2cc(S(=O)(=O)O)cc3cc(S(=O)(=O)O)c(N=Nc4ccccc4S(=O)(=O)O)c(O)c23)n1'), ('DB02966', 'NC(Cn1cc(F)c(=O)[nH]c1=O)C(=O)O'), ('DB02607', 'Nc1ncnc2c1ncn2C1OC(COC(=O)CP(=O)(O)O)C(O)C1O'), ('DB01282', 'CCC(C)C1NC(=O)C(Cc2ccc(OC)cc2)NC(=O)CCCSCC(C(=O)N2CCCC2C(=O)NC(CC(C)C)C(=O)NCC(N)=O)NC(=O)C(CC(N)=O)NC(=O)C(CCC(N)=O)NC1=O'), ('DB01516', 'COc1cc(CC(C)N)cc(OC)c1OC'), ('DB03498', 'O=P([O-])([O-])CS'), ('DB02473', 'CC(C)C1=NCCc2ccc(NC(=O)c3ccc4cc(C(=N)N)ccc4c3)cc21'), ('DB04032', 'CN(C)c1cccc2c(S(=O)(=O)NCCCCNC(=O)C34CC5CC(CC(C5)C3)C4)cccc12'), ('DB07188', 'O=C(Nc1cc(Cl)cc(Cl)c1)C1CC(=O)N(C2CCCCC2)C1'), ('DB01655', 'O=C(O)C(O)C(O)C(O)C(O)COP(=O)(O)O'), ('DB07068', 'CCOC(=O)C(CCNC(=O)OC(C)(C)C)(Cc1ccc(NS(=O)(=O)O)cc1)C(=O)OCC'), ('DB04580', 'Cn1c(=O)ccc2ccccc21'), ('DB04009', 'C=Cc1c(C)c2n3c1C=c1c(C)c(CCC(=O)OC)c4n1[Fe]31n3c(c(C)c(CCC(=O)OC)c3C=4)C=c3c(C)c(C=C)c(n31)=C2'), ('DB03556', 'CCOCCOCCOCCOCCOCCOCCOCCOCCO'), ('DB08587', 'COc1cc(C=CC(=O)O)cc(OC)c1O'), ('DB07580', 'CC1(C(=O)O)OCC(OC(=O)N2CCN(C(=O)OC3COC(C)(C(=O)O)OC3)CC2)CO1'), ('DB01327', 'Cc1nnc(SCC2=C(C(=O)O)N3C(=O)C(NC(=O)Cn4cnnn4)C3SC2)s1'), ('DB08044', 'NC1CC(C(=O)N2CCn3c(nnc3C(F)(F)F)C2)=CCC1c1cc(F)c(F)cc1F'), ('DB00171', 'Nc1ncnc2c1ncn2C1OC(COP(=O)(O)OP(=O)(O)OP(=O)(O)O)C(O)C1O'), ('DB07555', 'C[As+](C)(C)CCOC(c1ccccc1[N+](=O)O)C(F)(F)F'), ('DB03204', 'Cc1ncc(CN)c(N)n1'), ('DB04717', 'NCCCNCCOC1C(OC2C(O)C(N)CC(N)C2OC2OC(CO)C(O)C(O)C2N)OC(CO)C1OC1OC(CN)C(O)C(O)C1N'), ('DB04260', 'Nc1nc2c(ncn2CCCCC(F)(F)P(=O)(O)O)c(=O)[nH]1'), ('DB07703', 'CCC1OC(=O)C(C)C(O)C(C)CC(C)C(=O)C=CC1C'), ('DB07646', 'CCCCCCCCCCC[N+](C)(C)[O-]'), ('DB03141', 'N#Cc1cccc(S(=O)(=O)N2CC(O)C(Cc3ccccc3)N(Cc3ccc(O)cc3)C(=O)N2Cc2ccc(O)cc2)c1'), ('DB07506', 'O=C(O)CC(Cc1ccccc1)C(=O)O'), ('DB07548', 'Cc1cnc(NCC(F)(F)c2ccccn2)c(=O)n1CC(=O)NCc1ncccc1F'), ('DB06789', 'CCCCCC(=O)OC1(C(C)=O)CCC2C3CCC4=CC(=O)CCC4(C)C3CCC21C'), ('DB11104', 'FS(F)(F)(F)(F)F'), ('DB04389', 'Nc1ncnc2c1ncn2C1OC(COP(=O)(O)CP(=O)(O)OP(=O)(S)OCC2OC(n3cnc4c(N)ncnc43)C(O)C2O)C(O)C1O'), ('DB00658', 'C=CCN.ClCC1CO1'), ('DB00892', 'CCCCOc1cc(C(=O)OCCN(CC)CC)ccc1N'), ('DB07940', 'Ic1cccc(CNc2c3c(nc4ccccc24)CCCC3)c1'), ('DB04210', 'CCCN1CCN(CCCNC(=O)c2cc(OC3OC(CO)C(O)C(O)C3O)cc([N+](=O)[O-])c2)CC1'), ('DB03424', 'CC(C)CC(N=C(O)C(O)C(N)Cc1ccccc1)C(=O)O'), ('DB01170', 'NC(N)=NCCN1CCCCCCC1'), ('DB04094', 'CC(=O)CCO'), ('DB01377', 'O=[Mg]'), ('DB00183', 'CSCCC(NC(=O)C(Cc1c[nH]c2ccccc12)NC(=O)CCNC(=O)OC(C)(C)C)C(=O)NC(CC(=O)O)C(=O)NC(Cc1ccccc1)C(N)=O'), ('DB01447', 'CC1N=C(N)OC1c1ccccc1'), ('DB07975', 'O=C(O)C1=C(C(=O)Nc2c(F)cc(-c3cccc(OC(F)(F)F)c3)cc2F)CCC1'), ('DB03662', 'CCCC(NCc1c(COP(=O)(O)O)cnc(C)c1O)C(=O)O'), ('DB01055', 'NC(Cn1ccc(=O)c(O)c1)C(=O)O'), ('DB07450', 'O=C1CC2(C(=O)N1)C(=O)N(Cc1ccc(Br)cc1F)C(=O)c1ccc(F)cc12'), ('DB07685', 'NS(=O)(=O)c1ccc(Nc2cc(OCC3CCCCC3)nc3ncnn23)cc1'), ('DB00867', 'CC(NCCc1ccc(O)cc1)C(O)c1ccc(O)cc1'), ('DB03668', 'O=C1CC(=O)N(C2OC(COP(=O)(O)O)C(O)C2O)C(=O)N1'), ('DB04227', 'CC(=O)NC1C(O)C=C(C(=O)O)OC1C(O)C(O)CN'), ('DB08073', 'Cc1n[nH]c2ccc(-c3cncc(OCC(N)Cc4c[nH]c5ccccc45)c3)cc12'), ('DB03240', 'NC(Cn1c2c(c(=O)[nH]c1=O)CCC2)C(=O)O'), ('DB08985', 'CCNCC(O)c1cccc(O)c1'), ('DB02934', 'Cc1ncnc2c1ncn2C1OC(C(C)O)C(O)C1O'), ('DB08279', 'CC1CCC(C(=O)N(c2cc(-c3ccccc3)sc2C(=O)O)C(C)C)CC1'), ('DB07445', 'O=C(NN=Cc1cc(Br)c(O)c(Br)c1O)c1cccnc1'), ('DB04446', 'NC(=[NH2+])c1cc2ccccc2s1'), ('DB08965', 'CC(C)C1OC(=O)C(C(C)C)N(C)C(=O)C(C(C)C)OC(=O)C(C(C)C)N(C)C(=O)C(C(C)C)OC(=O)C(C(C)C)N(C)C1=O'), ('DB01347', 'CCc1nc(C2CC2)c(C(N)=O)n1Cc1ccc2oc(-c3ccccc3NS(=O)(=O)C(F)(F)F)c(Br)c2c1'), ('DB01978', 'Cn1c[n+](C)c2c(O)nc(N)nc21'), ('DB03346', 'Oc1c(Cl)cc(-c2cc(Cl)c(O)c(Cl)c2)cc1Cl'), ('DB01996', 'Cc1cccnc1'), ('DB07451', 'CCC(=O)c1ccc(F)c(C2CC2NC(=O)Nc2ccc(Br)cn2)c1O'), ('DB00469', 'CN1C(C(=O)Nc2ccccn2)=C(O)c2sccc2S1(=O)=O'), ('DB04062', 'CC1OC(O)C(O)C(O)C1O'), ('DB07162', 'CC(C)(C)NS(=O)(=O)c1ccc(-c2ccc3[nH]nc(N)c3c2)cc1'), ('DB04652', 'CC12CCC(=O)C=C1CCC1C2C(O)CC2(C)C(C(=O)CO)CCC12'), ('DB07191', 'Cc1cc(C#N)cc(C)c1Oc1nc(Nc2ccc(C#N)cc2)nc(N)c1Br'), ('DB07782', 'Nc1nc(C(F)(F)F)ncc1COP(=O)(O)OP(=O)(O)O'), ('DB04564', 'O=C1OC(CO)C(O)C(O)C1O'), ('DB00852', 'CNC(C)C(O)c1ccccc1'), ('DB08474', 'CCC(CC)NC(=O)CC(C(N)=O)C(C)(C)C'), ('DB04649', 'CN(CCC(N)CC(=O)NC1C=CC(N2C=CC(N)(O)NC2=O)OC1C(=O)O)C(=N)N'), ('DB08122', 'CNS(=O)(=O)c1ccc(NC=C2C(=O)Nc3ccccc32)cc1'), ('DB08579', 'CC1CC(C)CN(C(=O)c2cc(Br)ccc2N)C1'), ('DB01481', 'CC12C=CC(=O)CC1CCC1C2CCC2(C)C(O)CCC12'), ('DB00859', 'CC(C)(S)C(N)C(=O)O'), ('DB03291', 'NC1C(CO)OC(O)C(O)C1O'), ('DB08416', 'COc1cc2c(cc1OS(N)(=O)=O)CCC1C2CCC2(C)C(OS(N)(=O)=O)CCC12'), ('DB01683', 'CC(C)CC(NC(=O)C(NC(=O)NC(Cc1ccccc1)C(=O)O)C1CCNC(=N)N1)C(=O)NC(C=O)Cc1ccccc1'), ('DB02294', 'OCC1C(O)C(O)C(O)c2nnnn21'), ('DB06951', 'CCC(C(=O)O)C(NS(=O)(=O)c1ccc(C)cc1)C(=O)O'), ('DB08569', 'Cc1n[nH]c2ccc(-c3cncc(OCC(N)Cc4ccc(Br)cc4)c3)cc12'), ('DB02296', 'CC(C)CCO'), ('DB04690', 'CCC1(O)C(=O)OCc2c1cc1n(c2=O)Cc2cc3ccccc3nc2-1'), ('DB04232', 'COc1ccc(S(=O)(=O)N2CCN(C(=O)OCc3ccccc3)CC2C(=O)NO)cc1'), ('DB02335', 'NC1=NCCS1'), ('DB00655', 'CC12CCC3c4ccc(O)cc4CCC3C1CCC2=O'), ('DB03296', 'CC(=O)NC1C(O)CC(OC2C(O)C(CO)OC(OC3C(CO)OC(O)C(O)C3O)C2O)(C(=O)O)OC1C(O)C(O)CO'), ('DB03151', '[Cu]12S34[Cu]5[Cu]13[Cu]254'), ('DB08988', 'CCOC(=O)C1(c2ccccc2)CCCN(C)CC1'), ('DB03536', 'CC(=O)C(C)NC(=O)C(CCCNC(N)N)NC(=O)OCc1ccccc1'), ('DB02750', 'C[Hg]SCC(N)C(=O)O'), ('DB03850', 'COC(CC1OC(=O)CC(O)CC(O)CC(=O)C(C)C(OC)c2coc(n2)-c2coc(n2)-c2coc(n2)C=CCCC1C)C(C)CCC(=O)C(C)C(CC=CN(C)CO)OC'), ('DB03144', 'N=C(NO)NCCCC(N)C(=O)O'), ('DB07139', 'O=C(O)CCc1ccc(-c2cccc([N+](=O)[O-])c2)s1'), ('DB04742', 'O=CC(NC(=O)Cc1cccs1)C1N=C(C(=O)O)CCS1'), ('DB02897', 'CC(=O)OP(=O)(O)O'), ('DB03859', 'OCC1OC(S)C(O)C(O)C1O'), ('DB03734', 'O=C([O-])C(O)C(O)C(O)C(=O)NO'), ('DB08184', 'Cc1ccccc1-c1cc2cc(C(=N)N)ccc2[nH]1'), ('DB07724', 'COc1ccc(S(=O)(=O)n2cc(CCC(=O)O)c3cc(OC)ccc32)cc1'), ('DB07371', 'Cc1c2ccccc2c(CCC(=O)O)c2ccccc12'), ('DB06747', 'CC1C(=O)OC2C1C13OC4OC(=O)C(O)C45C(C(C)(C)C)C(O)C(OC1=O)C35C2O'), ('DB03998', 'NCC1=NC(=Cc2ccc(O)cc2)C(=O)N1CC=O'), ('DB08720', 'Cc1cc(CCCCCOc2ccc(C3=NCCO3)cc2)on1'), ('DB03054', 'BrC(Br)Br'), ('DB00707', 'CC1=C(CCC(=O)O)C2=NC1=Cc1[nH]c(c(C(C)OC(=O)CCc3c(C)c4[nH]c3=CC3=NC(=Cc5[nH]c(c(C(C)OC(C)c6c7[nH]c(c6C)C=C6N=C(C=c8[nH]c(c(C)c8CCC(=O)O)=CC8=NC(C7)C(C)=C8C)C(CCC(=O)O)=C6C)c5C)CC5N=C(C=4)C(C)=C5C)C(C)=C3CCC(=O)O)c1C)CC1N=C(C=c3[nH]c(c(CCC(=O)O)c3C)=C2)C(C)=C1C'), ('DB02058', 'O=CN1CCN(c2ccc(CC3C(=O)Nc4ccccc43)cc2)CC1'), ('DB00696', 'CN1CC(C(=O)NC2(C)OC3(O)C4CCCN4C(=O)C(Cc4ccccc4)N3C2=O)C=C2c3cccc4[nH]cc(c34)CC21'), ('DB00351', 'CC(=O)OC1(C(C)=O)CCC2C3C=CC4=CC(=O)CCC4(C)C3CCC21C'), ('DB03540', 'O=C1CC2CCC1C2'), ('DB07184', 'CCOCn1c(SC2CCCCC2)c(C(C)C)c(=O)[nH]c1=O'), ('DB05442', 'CCOC(=O)C1(OC(=O)C(Cl)Cl)CCC2C3CCC4=CC(=O)C=CC4(C)C3C(O)CC21C'), ('DB01162', 'COc1cc2nc(N3CCN(C(=O)C4CCCO4)CC3)nc(N)c2cc1OC'), ('DB02635', 'CCC(C)C(NCc1c(COP(=O)(O)O)cnc(C)c1O)C(=O)O'), ('DB04641', 'O=C(O)c1cc2cc(O)ccc2cc1O'), ('DB00982', 'CC(C=CC1=C(C)CCCC1(C)C)=CC=CC(C)=CC(=O)O'), ('DB00140', 'Cc1cc2nc3c(=O)[nH]c(=O)nc-3n(CC(O)C(O)C(O)CO)c2cc1C'), ('DB03783', 'CCOc1ccc(NC(C)=O)cc1'), ('DB05708', 'COc1ccc(C=C2CCCN=C2c2cccnc2)c(OC)c1'), ('DB09513', 'NC(N)=O'), ('DB06953', 'Cn1cncc1C(OCc1nc(Cl)c(C#N)cc1-c1cccc(Cl)c1)c1ccc(C#N)cc1'), ('DB07319', 'Nc1nc(N)nc(-c2cc3ccccc3cc2Br)n1'), ('DB07090', 'Cc1c(Cl)cccc1NC(=O)C1CC(=O)N(C2CCCCC2)C1'), ('DB02713', 'CC(=O)NCC(=O)O'), ('DB03999', 'CCCCP(=O)(O)O'), ('DB01229', 'CC(=O)OC1C(=O)C2(C)C(O)CC3OCC3(OC(C)=O)C2C(OC(=O)c2ccccc2)C2(O)CC(OC(=O)C(O)C(NC(=O)c3ccccc3)c3ccccc3)C(C)=C1C2(C)C'), ('DB06899', 'CCc1nc(N)nc(N)c1-c1ccc2c(c1)N(CCNC(C)=O)C(=O)C(C)(C)S2'), ('DB02991', 'CCSC(N)=Nc1ccc(C(F)(F)F)cc1'), ('DB01202', 'CCC(C(N)=O)N1CCCC1=O'), ('DB08232', 'Nc1ccc2[nH]c(-c3cc(CC(=O)O)cc(-c4cccc([N+](=O)[O-])c4)c3O)cc2n1'), ('DB08087', 'N#Cc1ccc(N2C(=O)C3C(O)CCN3C2=O)c2ccccc12'), ('DB00323', 'Cc1ccc(C(=O)c2cc(O)c(O)c([N+](=O)[O-])c2)cc1'), ('DB06702', 'CC(C)C(=O)Oc1ccc(CO)cc1C(CCN(C(C)C)C(C)C)c1ccccc1'), ('DB03140', 'O=C(O)c1ccc(B(O)O)cc1'), ('DB02579', 'C=CC(=O)O'), ('DB02027', 'N=C(NCCCC(N)CNCCN)N[N+](=O)[O-]'), ('DB00971', 'S=[Se]=S'), ('DB07135', 'CN(C)C(=O)C(C1CCC(c2cccc3ncnn23)CC1)C(N)C(=O)N1CCC(F)C1'), ('DB01679', 'CCCOP(=O)(O)OP(=O)(O)O'), ('DB08471', 'O=C(Cc1cccs1)N1CCC(c2nc(-c3cccs3)no2)CC1'), ('DB03348', 'CC1=CC2Cc3[nH]c(=O)ccc3C3(C1)NCCCC23'), ('DB04863', 'COC(=O)CC1CC(COc2ccc(-c3ccc(C(N)=NC(=O)OC)cc3)cc2)NC1=O'), ('DB07221', 'CCCCCCCCCCCC[P+](C)(C)CC(P(=O)(O)O)P(=O)(O)O'), ('DB06781', 'CCCC(=O)OC1(C(=O)COC(C)=O)CCC2C3CC(F)C4=CC(=O)C=CC4(C)C3(F)C(O)CC21C'), ('DB04484', 'NC(CO)Cc1ccccc1'), ('DB07697', 'COc1ccc(S(=O)(=O)N2CCN(S(=O)(=O)c3ccc4c(c3)OCCO4)CC2)cc1'), ('DB08770', 'Nc1nc(NCCc2ccc(O)cc2)nc2nc(-c3ccco3)nn12'), ('DB09315', '[Xe]'), ('DB03865', 'NC(=[NH2+])c1cc2cc(-c3cccc(-c4ccccc4)c3O)[nH]c2cc1Cl'), ('DB00218', 'COc1c(N2CC3CCCNC3C2)c(F)cc2c(=O)c(C(=O)O)cn(C3CC3)c12'), ('DB03910', 'N=C(N)SCCc1cccc(CCSC(=N)N)c1'), ('DB11256', 'CN1c2c([nH]c(N)nc2=O)NCC1CNc1ccc(C(=O)NC(CCC(=O)O)C(=O)O)cc1'), ('DB08828', 'CS(=O)(=O)c1ccc(C(=O)Nc2ccc(Cl)c(-c3ccccn3)c2)c(Cl)c1'), ('DB08687', 'O=C(O)CNC(=O)c1nc(Cl)c2ccccc2c1O'), ('DB04397', 'O=P(O)(O)OC1OC(CO[V](=O)(=O)O)C(O)C(O)C1O'), ('DB00575', 'Clc1cccc(Cl)c1NC1=NCCN1'), ('DB07053', 'CCCc1c(OCCCOc2ccc3c(ccn3CC(=O)O)c2)ccc2c(C(F)(F)F)noc12'), ('DB04329', 'c1ccc2cnccc2c1'), ('DB00501', 'CN=C(NC#N)NCCSCc1nc[nH]c1C'), ('DB01625', 'CC(C)[N+](C)(CCC(C(N)=O)(c1ccccc1)c1ccccc1)C(C)C'), ('DB06984', 'CSC1C(O)C(O)C(O)C1NCc1ccccc1'), ('DB08078', 'CCCc1c(OCCCOc2ccc(OCC(=O)O)cc2)ccc(C(C)=O)c1O'), ('DB04438', 'O=c1[nH]c(=O)n(C2CC(O)C(COP(=O)(O)O)O2)cc1C=CBr'), ('DB03238', 'Nc1cc(F)cc(F)c1'), ('DB08947', 'CC(O)C(O)=Nc1c(I)c(C(O)=NC(CO)CO)c(I)c(C(O)=NC(CO)CO)c1I'), ('DB02359', 'CCCCn1c(Cc2cc(OC)ccc2OC)nc2c(N)ncnc21'), ('DB01847', 'CC(C)C(NC(N)=O)C(=O)O'), ('DB08326', 'O=C1CSC(c2nc3ccc(O)cc3s2)=N1'), ('DB07808', 'O=C(O)C1CC1C(=O)Nc1cc(F)ccc1F'), ('DB09099', 'CC(N)C(=O)NCC(=O)NC1CSSCC(C(=O)O)NC(=O)C(CO)NC(=O)C(C(C)O)NC(=O)C(Cc2ccccc2)NC(=O)C(C(C)O)NC(=O)C(CCCCN)NC(=O)C(Cc2c[nH]c3ccccc23)NC(=O)C(Cc2ccccc2)NC(=O)C(Cc2ccccc2)NC(=O)C(CC(N)=O)NC(=O)C(CCCCN)NC1=O'), ('DB03250', 'Cc1ccc2sc(C3OC(CO)C(O)C(O)C3O)nc2c1'), ('DB04821', 'CN1Cc2c(N)cccc2C(c2ccccc2)C1'), ('DB04074', 'CC(C)C(=O)C(=O)O'), ('DB08707', 'Nc1nccc(-c2ccc3noc(-c4ccc(Cl)cc4)c3c2)n1'), ('DB00763', 'Cn1cc[nH]c1=S'), ('DB09203', 'CNCC(O)c1ccc(O)cc1'), ('DB03938', 'CC1=C(C(=O)O)N2C(=O)C(NC(=O)CCCC(N)C(=O)O)C2SC1'), ('DB01150', 'CC=CC1=C(C(=O)O)N2C(=O)C(NC(=O)C(N)c3ccc(O)cc3)C2SC1'), ('DB04600', 'N#Cc1ccc(N(Cc2ccc(OS(N)(=O)=O)c(Br)c2)n2cnnc2)cc1'), ('DB04400', 'CC(O)C(O)C1=Nc2c(nc(N)[nH]c2=O)NC1'), ('DB07577', 'CCc1nc(N)nc(N)c1-c1ccccc1'), ('DB07935', 'Cc1n[nH]c2ccc(F)c(Oc3cc(C#N)cc(C#N)c3)c12'), ('DB04547', 'CNC(=O)C(NC(=O)C(OCc1ccc(-c2ccsc2)cc1)C(O)C(O)C(OCc1ccc(-c2ccsc2)cc1)C(=O)NC(C(=O)NC)C(C)C)C(C)C'), ('DB04685', 'O=c1ccn(C2CC(F)C(COC(c3ccccc3)(c3ccccc3)c3ccccc3)O2)c(=O)[nH]1'), ('DB09245', 'Cc1cccc(N2CC(CO)OC2=O)c1'), ('DB04612', 'CNC(C)C(=O)NC(C(=O)N1CC(Oc2ccccc2)CC1C(=O)NC1CCCc2ccccc21)C(C)(C)C'), ('DB07086', 'CC1=CCC2(CO)COC(c3ccc(O)cc3)C1C2'), ('DB07585', 'Clc1c[nH]c2ncnc(N3CCc4[nH]cnc4C3)c12'), ('DB00307', 'C=C(c1ccc(C(=O)O)cc1)c1cc2c(cc1C)C(C)(C)CCC2(C)C'), ('DB00482', 'Cc1ccc(-c2cc(C(F)(F)F)nn2-c2ccc(S(N)(=O)=O)cc2)cc1'), ('DB01491', 'CCC(=O)C(CC(C)N1CCCCC1)(c1ccccc1)c1ccccc1'), ('DB08263', 'O=C(O)C(=O)NC(Cc1ccccc1)C(=O)O'), ('DB07304', 'O=C(O)c1ccc(-c2ccccc2OC(F)(F)F)o1'), ('DB03032', 'CCCCCCCCSCC(NC(=O)CCC(N)C(=O)O)C(=O)NCC(=O)O'), ('DB03190', 'CCCCCCCC(=O)OCC1OC(CO)(OC2OC(CO)C(O)C(O)C2O)C(O)C1O'), ('DB00380', 'CC(CN1CC(=O)NC(=O)C1)N1CC(=O)NC(=O)C1'), ('DB08986', 'CCN=C1Nc2ccc(Cl)cc2C(C)(c2ccccc2)O1.Cl'), ('DB02684', 'Nc1ncnc2c1ncn2C1OC(COS(=O)(=O)NC(=O)C(N)CS)C(O)C1O'), ('DB01001', 'CC(C)(C)NCC(O)c1ccc(O)c(CO)c1'), ('DB00204', 'CN(CCOc1ccc(NS(C)(=O)=O)cc1)CCc1ccc(NS(C)(=O)=O)cc1'), ('DB07938', 'COc1cc(Cc2cnc(N)nc2N)c2c(c1OC)OC(C1CC1)CC2'), ('DB01620', 'CN(C)CCC(c1ccccc1)c1ccccn1'), ('DB08456', 'CC1(C)C(CSSCC(N)C(=O)O)=C(c2ccccc2)C(C)(C)[N+]1=O'), ('DB05676', 'CCOc1cc(C(CS(C)(=O)=O)N2C(=O)c3cccc(N=C(C)O)c3C2=O)ccc1OC'), ('DB00490', 'O=C1CC2(CCCC2)CC(=O)N1CCCCN1CCN(c2ncccn2)CC1'), ('DB01591', 'O=C(OC1CN2CCC1CC2)N1CCc2ccccc2C1c1ccccc1'), ('DB06945', 'O=C(NO)C1(S(=O)(=O)c2ccc(Oc3ccc(C(F)(F)F)cc3)cc2)CCOCC1'), ('DB00689', 'CC(=O)OCC1=C(C(=O)O)N2C(=O)C(NC(=O)C(N)c3ccccc3)C2SC1'), ('DB00424', 'CN1C2CCC1CC(OC(=O)C(CO)c1ccccc1)C2'), ('DB06841', 'NC(=[NH2+])NCCCC(NC(=O)C1CCCN1C(=O)C(N)Cc1ccccc1)C(=O)CCl'), ('DB07907', 'CCCCCCC(O)C(=O)O'), ('DB08164', 'CS(=O)(=O)c1cccc(-c2cc(N3CCC(c4cc(F)c(F)cc4F)C(N)C3)ncn2)c1'), ('DB03666', 'Cc1cn(C2CC(N=[N+]=[N-])C(COP(=O)(O)O)O2)c(=O)[nH]c1=O'), ('DB07379', 'CC(C)C(CO)Nc1nc(Nc2cc(N)cc(Cl)c2)c2ncn(C(C)C)c2n1'), ('DB03312', 'O=c1[nH]c(=O)n(C2CC(O)C(CO)O2)cc1C=CBr'), ('DB08176', 'C=C(C=N)CCc1ccc(F)cc1'), ('DB00252', 'O=C1NC(=O)C(c2ccccc2)(c2ccccc2)N1'), ('DB06742', 'Nc1c(Br)cc(Br)cc1CNC1CCC(O)CC1'), ('DB08837', 'CC[N+](CC)(CC)CC'), ('DB08581', 'CC1CC(C)CN(C(=O)c2cc(Br)ccc2NC(=O)CCC(=O)O)C1'), ('DB08374', 'NC(Cc1ccccc1)C(=O)CCl'), ('DB03730', 'Cn1cnc2c(N)nc[n+](C)c21'), ('DB02807', 'O=C(O)C(O)CC(O)C(O)CO'), ('DB02957', 'O=C(O)c1cc(=O)[nH]c(=O)n1C1OC(COP(=O)(O)O)C(O)C1O'), ('DB00420', 'CN(C)CCCN1c2ccccc2Sc2ccccc21'), ('DB00705', 'CC(C)Nc1cccnc1N1CCN(C(=O)c2cc3cc(NS(C)(=O)=O)ccc3[nH]2)CC1'), ('DB02203', 'CC(C)(O)C#N'), ('DB07552', 'CCNc1nc(Cl)nc(NC(C)(C#N)CC)n1'), ('DB04088', 'C=CCOC(=O)NC(Cc1ccc(N(C(=O)C(=O)O)c2ccccc2C(=O)O)cc1)C(=O)NCCCCOc1cccc(O)c1C(=O)OC'), ('DB01882', 'CSCCC(N)C(O)(O)c1ccccn1'), ('DB08578', 'O=C(O)CCC(=O)Nc1ccc(Br)cn1'), ('DB04792', 'N=C(N)c1ccc(OC2COC3C(Oc4ccc(C(=N)N)cc4)COC23)cc1'), ('DB02114', 'CC(C)c1ccc(N)cc1'), ('DB04265', 'CC(=O)NC1C(O)CC(O)(C(=O)O)OC1C(O)C(O)CO'), ('DB01888', 'CC(C)c1cnn2c(Nc3ccc(S(=O)(=O)N(C)C)cc3)cc(NC3CCC(N)CC3)nc12'), ('DB07505', 'CC(C)CN(CC1CNCC1COCc1ccccc1)S(=O)(=O)c1ccccc1'), ('DB01140', 'CC1=C(C(=O)O)N2C(=O)C(NC(=O)C(N)c3ccc(O)cc3)C2SC1'), ('DB02990', 'CCCCCCCCCCCCCCCC(=O)SCCNC(C)=O'), ('DB08724', 'Cc1cc(CCCCCOc2ccc(C3=NC(C)CO3)cc2)on1'), ('DB08194', 'Cc1nc(N)nc2c1CSCC2'), ('DB07471', 'COc1cc2ncn(-c3cc(OC(C)c4ccccc4Cl)c(C(N)=O)s3)c2cc1OC'), ('DB09085', 'CCCCNc1ccc(C(=O)OCCN(C)C)cc1'), ('DB02884', 'NC(CC1CCCCC1)C(=O)O'), ('DB07658', 'CC(=O)NC(Cc1ccccc1)C(=O)N1CCCC1C(=O)NC(CCCCN)B(O)O'), ('DB00120', 'NC(Cc1ccccc1)C(=O)O'), ('DB00735', 'CN(CC=Cc1ccccc1)Cc1cccc2ccccc12'), ('DB01000', 'CC1(C)SC2C(NC(=O)C3(N)CCCCC3)C(=O)N2C1C(=O)O'), ('DB04877', 'CC=C1CN(C)C2Cc3c([nH]c4ccccc34)C(c3cc4[nH]c5c(c4cc3OC)CCN3CC4CC(CC)C3C5(C(=O)OC)C4)CC1C2C(=O)OC'), ('DB00610', 'CC(N)C(O)c1cccc(O)c1'), ('DB02325', 'CC(C)O'), ('DB07680', 'O=C(Nc1ccc2ccccc2c1)C(c1csc2ccc(Cl)cc12)P(=O)(O)O'), ('DB02741', 'CC1(C)CCC(C)(C)c2cc(C(=O)c3ccc4cc(C(=O)O)ccc4c3)ccc21'), ('DB08656', 'Cc1ccc(N)cc1C(=O)NC(C)c1cccc2ccccc12'), ('DB05251', 'Cc1c(O)cccc1C(=O)NC(CSc1ccccc1)C(O)CN1CC2CCCCC2CC1C(=O)NC(C)(C)C'), ('DB07854', 'CNCc1ccc(-c2ncnc3[nH]cnc23)cc1'), ('DB01465', 'COc1ccc(OC)c(CC(C)N)c1'), ('DB04064', 'COC(=O)C1=C(C)CC(=O)c2c1cc1c(c2O)C(=O)c2c(O)cccc2C1=O'), ('DB08195', 'N#CCNC(=O)C(CS(=O)(=O)Cc1ccccc1OC(F)F)OC(=O)N1CCOCC1'), ('DB08939', 'CCOC(=O)CSCCC1NC(C(=O)O)CS1'), ('DB01453', 'CCC(=O)N(c1ccccc1)C1CCN(CC(O)c2ccccc2)CC1'), ('DB00289', 'CNCCC(Oc1ccccc1C)c1ccccc1'), ('DB08606', 'CSCC1CN(Cc2c[nH]c3c(N)ncnc23)CC1O'), ('DB03810', 'CC(CC(=O)O)C(N)C(=O)O'), ('DB04591', 'FC(F)(CNc1nccc2oc(Cc3ccccc3-n3cncn3)nc12)C1CCCCN1'), ('DB09283', 'CCN(CC)c1cc(C)nc2ncnn12'), ('DB04050', '[C-]#[N+]CCC'), ('DB04030', 'O=C(c1ccc(O)cc1)N1CCc2c(n(Cc3ccc(O)cc3)c3ccccc23)C1'), ('DB03624', 'CC(N)C(CCCCCC(=O)O)NC(=O)O'), ('DB01930', 'CC(C)(CO)C(O)C(=O)[O-]'), ('DB12332', 'CNCc1ccc(-c2[nH]c3cc(F)cc4c3c2CCNC4=O)cc1'), ('DB03849', 'COc1ccc(C2(C#N)CCC(C(=O)O)CC2)cc1OC1CCCC1'), ('DB05266', 'CC(C)C(=O)c1c(C(C)C)nn2ccccc12'), ('DB04360', 'OB(O)c1cc2ccccc2s1'), ('DB07642', 'Nc1nc(N)c2c(OCC3CCN(Cc4ccccc4F)CC3)cccc2n1'), ('DB07693', 'Cc1cccc(C)c1C(=O)Nc1cc(Br)c(O)c(Br)c1'), ('DB03331', 'COc1cc(OC)cc(C(=O)NC2C(O)C(CO)OC2n2cnc3c(NCc4cccc5ccccc45)ncnc32)c1'), ('DB04796', 'CC(CC#CC(C)(C)O)C1CCC2C(=CC=C3CC(O)CC(O)C3)CCCC21C'), ('DB04404', 'CN(C)C1=NC2C(O)C(O)C(CO)C2O1'), ('DB01843', 'NN1C(=O)NC2(OC(CO)C(O)C(O)C2O)C1=O'), ('DB03292', 'NC(CP(=O)(O)O)C(=O)O'), ('DB02408', 'CCCCC(N)C(O)(O)CNC1CC1'), ('DB06884', 'CC(C)c1ccc(CNNC(=O)c2ccc(O)cc2)cc1'), ('DB08145', 'COc1cccc(OC)c1-c1cc2cnc(N)nc2nc1N'), ('DB01892', 'CC(C)=CCCC1(C)C(CC=C(C)C)CC2(CC=C(C)C)C(=O)C(CC=C(C)C)=C(O)C1(C(=O)C(C)C)C2=O'), ('DB02954', 'O=C(O)CN(O)C(=O)O'), ('DB08376', 'CCCCCCC(=O)OCC(COP(=O)(O)O)OC(=O)CCCCCC'), ('DB07627', 'CC(C)CC(NC(=S)Nc1ccccc1)C(=O)NC1COC(O)C1'), ('DB08373', 'CS(=O)(=O)c1cc(Cl)c(-c2cc(Cl)c(S(C)(=O)=O)cc2Cl)cc1Cl'), ('DB02598', 'CC(=O)NC(Cc1cc(I)c(O)c(I)c1)C(=O)NCC(=O)O'), ('DB02237', 'O=CC(O)C(O)C(OC1OC(CO)C(OC2OC(CO)C(OC3OC(CO)C(O)C(O)C3O)C(O)C2O)C(O)C1O)C(O)CO'), ('DB08752', 'CN1CCC(C#N)(NC(=O)C(CC2CCCCC2)NC(=O)N2CCOCC2)CC1'), ('DB07604', 'CC(=O)C1=C(O)N2C(C1=O)C1c3c[nH]c4cccc(c34)CC1C2(C)C'), ('DB00591', 'CC1(C)OC2CC3C4CC(F)C5=CC(=O)C=CC5(C)C4(F)C(O)CC3(C)C2(C(=O)CO)O1'), ('DB07598', 'O=C1c2cc3c(cc2OC2CCCN12)OCCO3'), ('DB07150', 'ON=Cc1ccc(-c2ccc(O)cc2)c2ccccc12'), ('DB04697', 'NC(=O)C(CCCCN=C(N)N)NC(=O)C(Cc1ccc(O)cc1)NC(=O)C1CCN1C(=O)C(CC1CCCCC1)NC(=O)C1CCC(CN=C(N)N)CC1'), ('DB04687', 'COP(O)(=S)OC')])"
      ]
     },
     "execution_count": 38,
     "metadata": {},
     "output_type": "execute_result"
    }
   ],
   "source": [
    "drug_smiles.items()"
   ]
  },
  {
   "cell_type": "code",
   "execution_count": 39,
   "metadata": {
    "collapsed": true,
    "deletable": true,
    "editable": true,
    "run_control": {
     "frozen": false,
     "read_only": false
    }
   },
   "outputs": [],
   "source": [
    "def extract_gene_info(target, drugbank_id):\n",
    "    target_id = target.find('{http://www.drugbank.ca}id').text\n",
    "    target_name = target.find('{http://www.drugbank.ca}name').text\n",
    "    target_organism = target.find('{http://www.drugbank.ca}organism').text\n",
    "\n",
    "    target_action = \"\"\n",
    "    if target.find('{http://www.drugbank.ca}actions') is not None:\n",
    "        target_action = \"|\".join([act.text for act in\n",
    "                                  target.find('{http://www.drugbank.ca}actions').\n",
    "                                  findall('{http://www.drugbank.ca}action')])\n",
    "    target_known_action = target.find('{http://www.drugbank.ca}known-action').text\n",
    "\n",
    "    gene_symbol = \"\"\n",
    "    hgnc_id = \"\"\n",
    "    if target.find('{http://www.drugbank.ca}polypeptide') is not None:\n",
    "        gene_symbol = target.find('{http://www.drugbank.ca}polypeptide').\\\n",
    "            find('{http://www.drugbank.ca}gene-name').text\n",
    "        if target.find('{http://www.drugbank.ca}polypeptide').\\\n",
    "                find('{http://www.drugbank.ca}external-identifiers') is not None:\n",
    "            for external in target.find('{http://www.drugbank.ca}polypeptide').\\\n",
    "                    find('{http://www.drugbank.ca}external-identifiers').\\\n",
    "                    findall('{http://www.drugbank.ca}external-identifier'):\n",
    "                if external.find('{http://www.drugbank.ca}resource').text ==\\\n",
    "                        \"HUGO Gene Nomenclature Committee (HGNC)\":\n",
    "                    hgnc_id = external.find('{http://www.drugbank.ca}identifier').text\n",
    "\n",
    "    refs = []\n",
    "    if target.find('{http://www.drugbank.ca}references') is not None:\n",
    "        if target.find('{http://www.drugbank.ca}references').\\\n",
    "                find('{http://www.drugbank.ca}articles') is not None:\n",
    "            for article in target.find('{http://www.drugbank.ca}references').\\\n",
    "                    find('{http://www.drugbank.ca}articles').\\\n",
    "                    findall('{http://www.drugbank.ca}article'):\n",
    "                refs.append(article.find('{http://www.drugbank.ca}pubmed-id').text)\n",
    "    refs = \"|\".join(refs)\n",
    "\n",
    "    row = [drugbank_id, target_id, target_name, target_organism,\n",
    "           target_action, target_known_action, gene_symbol, hgnc_id, refs]\n",
    "    row = [r or \"\" for r in row]\n",
    "    return row"
   ]
  },
  {
   "cell_type": "code",
   "execution_count": null,
   "metadata": {
    "collapsed": false,
    "deletable": true,
    "editable": true
   },
   "outputs": [],
   "source": []
  },
  {
   "cell_type": "code",
   "execution_count": 40,
   "metadata": {
    "collapsed": false,
    "deletable": true,
    "editable": true,
    "run_control": {
     "frozen": false,
     "read_only": false
    }
   },
   "outputs": [],
   "source": [
    "tree = ET.parse(DRUGBANK_FILE)\n",
    "root = tree.getroot()\n",
    "version = root.attrib.get('version')\n",
    "\n",
    "drug_synonyms = []\n",
    "drug_atc = {}\n",
    "lists = []\n",
    "for record in root.iterfind('{http://www.drugbank.ca}drug'):\n",
    "    if len(record.find('{http://www.drugbank.ca}drugbank-id')) == 1:\n",
    "        drugbank_id = record.find('{http://www.drugbank.ca}drugbank-id').text\n",
    "    else:\n",
    "        drugbank_id = [x.text for x in record.findall('{http://www.drugbank.ca}drugbank-id')\n",
    "                       if x.attrib.get('primary', 'false') == 'true'][0]\n",
    "    \n",
    "    create_date = record.attrib.get('created')\n",
    "    update_date = record.attrib.get('updated')\n",
    "    drug_type = record.attrib.get('type')\n",
    "\n",
    "    drug_name = record.find('{http://www.drugbank.ca}name').text.encode('utf-8')\n",
    "    \n",
    "    drug_synonyms += [(drugbank_id, syn.text.encode('utf-8').lower()) for syn in record.\\\n",
    "                       find('{http://www.drugbank.ca}synonyms').\\\n",
    "                       findall('{http://www.drugbank.ca}synonym')]\n",
    "    \n",
    "    atc_code_list = []\n",
    "    if record.find('{http://www.drugbank.ca}atc-codes') is not None:\n",
    "        atc_code_list = []\n",
    "        for atc_code in record.find('{http://www.drugbank.ca}atc-codes').\\\n",
    "                findall('{http://www.drugbank.ca}atc-code'):\n",
    "            atc_code_list.append(atc_code.attrib.get('code'))\n",
    "        drug_atc[drugbank_id] = \"|\".join(atc_code_list)\n",
    "    \n",
    "    drugbank_data = [drug_name, create_date, update_date, drug_type]\n",
    "    # extract targets\n",
    "    if record.find('{http://www.drugbank.ca}targets') is not None:\n",
    "        for target in record.find('{http://www.drugbank.ca}targets').\\\n",
    "                findall('{http://www.drugbank.ca}target'):\n",
    "            target_info = extract_gene_info(target, drugbank_id)\n",
    "            row = target_info + ['target', version]\n",
    "            lists.append(row + drugbank_data)\n",
    "    # extract enzymes\n",
    "    if record.find('{http://www.drugbank.ca}enzymes') is not None:\n",
    "        for enzyme in record.find('{http://www.drugbank.ca}enzymes').\\\n",
    "                findall('{http://www.drugbank.ca}enzyme'):\n",
    "            row = extract_gene_info(enzyme, drugbank_id) + ['enzyme', version]\n",
    "            lists.append(row + drugbank_data)\n",
    "    # extract carriers\n",
    "    if record.find('{http://www.drugbank.ca}carriers') is not None:\n",
    "        for carrier in record.find('{http://www.drugbank.ca}carriers').\\\n",
    "                findall('{http://www.drugbank.ca}carrier'):\n",
    "            row = extract_gene_info(carrier, drugbank_id) + ['carrier', version]\n",
    "            lists.append(row + drugbank_data)\n",
    "    # extract transporters\n",
    "    if record.find('{http://www.drugbank.ca}transporters') is not None:\n",
    "        for transporter in record.find('{http://www.drugbank.ca}transporters').\\\n",
    "                findall('{http://www.drugbank.ca}transporter'):\n",
    "            row = extract_gene_info(transporter, drugbank_id) + ['transporter', version]\n",
    "            lists.append(row + drugbank_data)\n",
    "\n",
    "cols = ['drugbank_id', 'target_id', 'target_name', 'target_organism',\n",
    "        'target_action', 'target_known_action', 'gene_symbol',\n",
    "        'hgnc_id', 'pmid', 'interaction_type', 'version', 'drug_name',\n",
    "        'create_date', 'update_date', 'drug_type']\n",
    "drug2gene_drugbank = pd.DataFrame(lists, columns=cols)"
   ]
  },
  {
   "cell_type": "code",
   "execution_count": 41,
   "metadata": {
    "collapsed": false,
    "deletable": true,
    "editable": true,
    "scrolled": true
   },
   "outputs": [
    {
     "name": "stdout",
     "output_type": "stream",
     "text": [
      "b'Lepirudin'\n"
     ]
    }
   ],
   "source": [
    "print(str(drug2gene_drugbank.ix[0].drug_name))"
   ]
  },
  {
   "cell_type": "code",
   "execution_count": 42,
   "metadata": {
    "collapsed": true,
    "deletable": true,
    "editable": true
   },
   "outputs": [],
   "source": [
    "s = b\"raw string\""
   ]
  },
  {
   "cell_type": "code",
   "execution_count": 43,
   "metadata": {
    "collapsed": false,
    "deletable": true,
    "editable": true
   },
   "outputs": [
    {
     "data": {
      "text/plain": [
       "b'raw stringabc'"
      ]
     },
     "execution_count": 43,
     "metadata": {},
     "output_type": "execute_result"
    }
   ],
   "source": [
    "s + b\"abc\""
   ]
  },
  {
   "cell_type": "code",
   "execution_count": 44,
   "metadata": {
    "collapsed": false,
    "deletable": true,
    "editable": true
   },
   "outputs": [
    {
     "name": "stdout",
     "output_type": "stream",
     "text": [
      "b'raw string'\n"
     ]
    }
   ],
   "source": [
    "print(s)"
   ]
  },
  {
   "cell_type": "code",
   "execution_count": 45,
   "metadata": {
    "collapsed": false,
    "deletable": true,
    "editable": true,
    "run_control": {
     "frozen": false,
     "read_only": false
    }
   },
   "outputs": [],
   "source": [
    "drug2gene_drugbank = drug2gene_drugbank.loc[drug2gene_drugbank.target_organism == 'Human']"
   ]
  },
  {
   "cell_type": "code",
   "execution_count": 46,
   "metadata": {
    "collapsed": false,
    "deletable": true,
    "editable": true,
    "run_control": {
     "frozen": false,
     "read_only": false
    }
   },
   "outputs": [],
   "source": [
    "drug2gene_drugbank[\"hgnc_id\"] = pd.to_numeric(drug2gene_drugbank[\"hgnc_id\"].str.replace(\"HGNC:\", \"\"))"
   ]
  },
  {
   "cell_type": "code",
   "execution_count": 47,
   "metadata": {
    "collapsed": true,
    "deletable": true,
    "editable": true,
    "run_control": {
     "frozen": false,
     "read_only": false
    }
   },
   "outputs": [],
   "source": [
    "db_name = \"DrugBank\"\n",
    "drug2gene_drugbank = drug2gene_drugbank.assign(source_name=db_name, download_date=datetime.date.today().strftime(\"%Y-%m-%d\"))"
   ]
  },
  {
   "cell_type": "code",
   "execution_count": 48,
   "metadata": {
    "collapsed": false,
    "deletable": true,
    "editable": true
   },
   "outputs": [],
   "source": [
    "drug_data_containers[db_name] = drug2gene_drugbank"
   ]
  },
  {
   "cell_type": "code",
   "execution_count": 49,
   "metadata": {
    "collapsed": false,
    "deletable": true,
    "editable": true,
    "run_control": {
     "frozen": false,
     "read_only": false
    }
   },
   "outputs": [],
   "source": [
    "drugbank_xrefs = pd.read_csv(DRUGBANK_XREF_FILE)\n",
    "drugbank_xrefs = drugbank_xrefs[[\"DrugBank ID\", \"Name\", \"PubChem Compound ID\", \"PharmGKB ID\", \"TTD ID\"]]\n",
    "drugbank_xrefs[\"name\"] = drugbank_xrefs[\"Name\"].str.lower()"
   ]
  },
  {
   "cell_type": "code",
   "execution_count": 50,
   "metadata": {
    "collapsed": false,
    "deletable": true,
    "editable": true,
    "run_control": {
     "frozen": false,
     "read_only": false
    }
   },
   "outputs": [],
   "source": [
    "drugbank_synonyms = pd.DataFrame(drug_synonyms, columns=[\"DrugBank ID\", \"name\"])\n",
    "drugbank_synonyms = pd.concat([drugbank_xrefs[[\"DrugBank ID\", \"name\"]], drugbank_synonyms])"
   ]
  },
  {
   "cell_type": "code",
   "execution_count": null,
   "metadata": {
    "collapsed": true,
    "deletable": true,
    "editable": true
   },
   "outputs": [],
   "source": []
  },
  {
   "cell_type": "markdown",
   "metadata": {
    "deletable": true,
    "editable": true
   },
   "source": [
    "## TTD"
   ]
  },
  {
   "cell_type": "code",
   "execution_count": 51,
   "metadata": {
    "collapsed": true,
    "deletable": true,
    "editable": true,
    "run_control": {
     "frozen": false,
     "read_only": false
    }
   },
   "outputs": [],
   "source": [
    "TTD_TARGETS_DOWNLOAD = \"http://database.idrb.cqu.edu.cn/TTD/download/TTD_download.txt\"\n",
    "TTD_DRUGS_XREFS_DOWNLOAD = \"http://database.idrb.cqu.edu.cn/TTD/download/TTD_crossmatching.txt\"\n",
    "TTD_XREFS_DOWNLOAD = \"http://bidd.nus.edu.sg/BIDD-Databases/TTD/download/TTD_uniprot_all.txt\"\n",
    "TTD_DRUGS_DOWNLOAD = \"http://database.idrb.cqu.edu.cn/TTD/download/All.sdf\"\n",
    "TTD_SDF_FILE = data_path + \"TTD_molecules.sdf\""
   ]
  },
  {
   "cell_type": "markdown",
   "metadata": {
    "deletable": true,
    "editable": true
   },
   "source": [
    "Read TTD molecules"
   ]
  },
  {
   "cell_type": "code",
   "execution_count": 52,
   "metadata": {
    "collapsed": false,
    "deletable": true,
    "editable": true,
    "run_control": {
     "frozen": false,
     "read_only": false
    }
   },
   "outputs": [
    {
     "name": "stdout",
     "output_type": "stream",
     "text": [
      "0\n"
     ]
    }
   ],
   "source": [
    "exit_code_ttd_sdf = 1\n",
    "while exit_code_ttd_sdf > 0 or i < 10:\n",
    "    exit_code_ttd_sdf = subprocess.call(\"wget -O \" + TTD_SDF_FILE + \" \" +  TTD_DRUGS_DOWNLOAD, shell=True)\n",
    "    print(exit_code_ttd_sdf)\n",
    "    i += 1"
   ]
  },
  {
   "cell_type": "code",
   "execution_count": 53,
   "metadata": {
    "collapsed": false,
    "deletable": true,
    "editable": true,
    "run_control": {
     "frozen": false,
     "read_only": false
    }
   },
   "outputs": [],
   "source": [
    "ttd2cid = {}\n",
    "ttd_smiles = {}\n",
    "structures = Chem.SDMolSupplier(TTD_SDF_FILE)\n",
    "for s in structures:\n",
    "    if s is not None:\n",
    "        db_id  = s.GetProp(\"_Name\")\n",
    "        db_cid = s.GetPropsAsDict().get(\"PUBCHEM_COMPOUND_CID\")\n",
    "        ttd_smiles[db_id] = Chem.MolToSmiles(s)\n",
    "        if db_cid is not None:\n",
    "            ttd2cid[db_id] = db_cid\n",
    "ttd2smiles = pd.DataFrame(list(ttd_smiles.items()), columns=[\"ttd_drug_id\", 'SMILES'])"
   ]
  },
  {
   "cell_type": "code",
   "execution_count": 54,
   "metadata": {
    "collapsed": false,
    "deletable": true,
    "editable": true,
    "run_control": {
     "frozen": false,
     "read_only": false
    }
   },
   "outputs": [
    {
     "name": "stderr",
     "output_type": "stream",
     "text": [
      "/Users/Heisenberg/anaconda/envs/clinicalreporting/lib/python3.5/site-packages/pandas/core/frame.py:2834: SettingWithCopyWarning: \n",
      "A value is trying to be set on a copy of a slice from a DataFrame\n",
      "\n",
      "See the caveats in the documentation: http://pandas.pydata.org/pandas-docs/stable/indexing.html#indexing-view-versus-copy\n",
      "  **kwargs)\n",
      "/Users/Heisenberg/anaconda/envs/clinicalreporting/lib/python3.5/site-packages/ipykernel/__main__.py:19: SettingWithCopyWarning: \n",
      "A value is trying to be set on a copy of a slice from a DataFrame.\n",
      "Try using .loc[row_indexer,col_indexer] = value instead\n",
      "\n",
      "See the caveats in the documentation: http://pandas.pydata.org/pandas-docs/stable/indexing.html#indexing-view-versus-copy\n"
     ]
    }
   ],
   "source": [
    "ttd_drugs = pd.read_csv(TTD_DRUGS_XREFS_DOWNLOAD, skiprows=12, sep=\"\\t\",\n",
    "                        names=[\"ttd_drug_id\", \"ign\", \"interaction_type\", \"drug_name\"])\n",
    "ttd_drugs = ttd_drugs.loc[ttd_drugs.interaction_type == 'DrugName'][[\"ttd_drug_id\", \"drug_name\"]]\n",
    "ttd2uniprot = pd.read_table(TTD_XREFS_DOWNLOAD, skiprows=12)\\\n",
    "                .rename(columns={\"TTD Target ID\": \"target_id\", \"Uniprot ID\": \"uniprot_id\"})\n",
    "\n",
    "ttd_targets = pd.read_csv(TTD_TARGETS_DOWNLOAD, skiprows=12, sep=\"\\t\",\n",
    "                          names=[\"target_id\", \"edge_type\", \"target\"])\\\n",
    "    .rename(columns={'ttd_id': 'target_id'})\\\n",
    "    .drop_duplicates()\n",
    "\n",
    "ttd2drug = ttd_targets.loc[ttd_targets.edge_type == \"Drug(s)\"]\n",
    "ttd2drug.rename(columns={\"target\": \"drug_name\"}, inplace=True)\n",
    "ttd2drug = ttd2drug.merge(ttd_drugs)\n",
    "ttd2drug[\"drug_name\"] = ttd2drug[\"drug_name\"].str.lower()\n",
    "\n",
    "\n",
    "ttd2drug_subtype = ttd_targets.loc[ttd_targets.edge_type.isin([\"Inhibitor\", \"Agonist\", \"Antagonist\", \"Modulator\", \"Binder\"])]\n",
    "ttd2drug_subtype.rename(columns={\"edge_type\": \"target_action\", \"target\": \"drug_name\"}, inplace=True)\n",
    "ttd2drug_subtype[\"drug_name\"] = ttd2drug_subtype[\"drug_name\"].str.lower()"
   ]
  },
  {
   "cell_type": "code",
   "execution_count": 55,
   "metadata": {
    "collapsed": false,
    "deletable": true,
    "editable": true,
    "run_control": {
     "frozen": false,
     "read_only": false
    }
   },
   "outputs": [],
   "source": [
    "drug2gene_ttd = ttd2drug.merge(ttd2drug_subtype, left_on=[\"target_id\", \"drug_name\"], right_on=[\"target_id\", \"drug_name\"], how=\"outer\")\\\n",
    "        .merge(ttd2smiles, left_on=\"ttd_drug_id\", right_on=\"ttd_drug_id\")\\\n",
    "        .merge(drugbank_xrefs[[\"DrugBank ID\", \"TTD ID\"]], left_on=\"ttd_drug_id\", right_on=\"TTD ID\", how=\"left\")\\\n",
    "        .merge(drugbank_xrefs[[\"DrugBank ID\", \"Name\"]], left_on=\"drug_name\", right_on=\"Name\", how=\"left\")\\\n",
    "        .merge(drugbank2smiles, left_on=\"SMILES\", right_on=\"SMILES\", how=\"left\")\\\n",
    "        .merge(ttd2uniprot, left_on=\"target_id\", right_on=\"target_id\")\\\n",
    "        .drop_duplicates()"
   ]
  },
  {
   "cell_type": "code",
   "execution_count": 56,
   "metadata": {
    "collapsed": true,
    "deletable": true,
    "editable": true
   },
   "outputs": [],
   "source": [
    "drug2gene_ttd[\"drugbank_id\"] = drug2gene_ttd.apply(combine_cols, args=([\"DrugBank ID_x\", \"DrugBank ID_y\", 'drugbank_id'],), axis=1)\n",
    "drug2gene_ttd = drug2gene_ttd[['drugbank_id', \"drug_name\", \"target_id\", \"uniprot_id\", \"target_action\", \"ttd_drug_id\"]]\n",
    "drug2gene_ttd = drug2gene_ttd.dropna(subset=['drugbank_id'])"
   ]
  },
  {
   "cell_type": "code",
   "execution_count": 57,
   "metadata": {
    "collapsed": false,
    "deletable": true,
    "editable": true
   },
   "outputs": [],
   "source": [
    "uniprot_split = pd.DataFrame([(i, x.split(\" (\")[0].strip()) for i, row in drug2gene_ttd.iterrows()\n",
    "                              for x in row['uniprot_id'].split(';')], columns=['df_index', 'uniprot_id'])\n",
    "uniprot_split.set_index('df_index', inplace=True)\n",
    "drug2gene_ttd = drug2gene_ttd.join(uniprot_split, lsuffix=\"s\")\\\n",
    "                             .drop(\"uniprot_ids\", axis=1)\\\n",
    "                             .merge(genes2uniprot, left_on=\"uniprot_id\", right_on=\"uniprot_ids\")\\\n",
    "                             .drop(\"uniprot_ids\", axis=1)"
   ]
  },
  {
   "cell_type": "code",
   "execution_count": 58,
   "metadata": {
    "collapsed": false,
    "deletable": true,
    "editable": true
   },
   "outputs": [],
   "source": [
    "drug2gene_ttd = drug2gene_ttd.merge(genes[[\"hgnc_id\", \"gene_symbol\"]], left_on=\"hgnc_id\", right_on=\"hgnc_id\",\n",
    "                                    suffixes=[\"\", \"_dup\"])"
   ]
  },
  {
   "cell_type": "code",
   "execution_count": 59,
   "metadata": {
    "collapsed": true,
    "deletable": true,
    "editable": true
   },
   "outputs": [],
   "source": [
    "db_name = \"TTD\"\n",
    "db_pmid = \"PMC4702870\"\n",
    "interaction_type = 'target'\n",
    "\n",
    "drug2gene_ttd = drug2gene_ttd.assign(source_name=db_name, pmid=db_pmid,\n",
    "                                     interaction_type=interaction_type,\n",
    "                                     download_date=datetime.date.today().strftime(\"%Y-%m-%d\"))"
   ]
  },
  {
   "cell_type": "code",
   "execution_count": 60,
   "metadata": {
    "collapsed": false,
    "deletable": true,
    "editable": true
   },
   "outputs": [
    {
     "data": {
      "text/html": [
       "<div>\n",
       "<table border=\"1\" class=\"dataframe\">\n",
       "  <thead>\n",
       "    <tr style=\"text-align: right;\">\n",
       "      <th></th>\n",
       "      <th>drugbank_id</th>\n",
       "      <th>drug_name</th>\n",
       "      <th>target_id</th>\n",
       "      <th>target_action</th>\n",
       "      <th>ttd_drug_id</th>\n",
       "      <th>uniprot_id</th>\n",
       "      <th>hgnc_id</th>\n",
       "      <th>gene_symbol</th>\n",
       "      <th>download_date</th>\n",
       "      <th>interaction_type</th>\n",
       "      <th>pmid</th>\n",
       "      <th>source_name</th>\n",
       "    </tr>\n",
       "  </thead>\n",
       "  <tbody>\n",
       "    <tr>\n",
       "      <th>0</th>\n",
       "      <td>DB00293</td>\n",
       "      <td>raltitrexed</td>\n",
       "      <td>TTDS00301</td>\n",
       "      <td>Inhibitor</td>\n",
       "      <td>DAP000759</td>\n",
       "      <td>P04818</td>\n",
       "      <td>12441</td>\n",
       "      <td>TYMS</td>\n",
       "      <td>2017-03-27</td>\n",
       "      <td>target</td>\n",
       "      <td>PMC4702870</td>\n",
       "      <td>TTD</td>\n",
       "    </tr>\n",
       "    <tr>\n",
       "      <th>1</th>\n",
       "      <td>DB00642</td>\n",
       "      <td>ly231514</td>\n",
       "      <td>TTDS00301</td>\n",
       "      <td>Inhibitor</td>\n",
       "      <td>DCL000320</td>\n",
       "      <td>P04818</td>\n",
       "      <td>12441</td>\n",
       "      <td>TYMS</td>\n",
       "      <td>2017-03-27</td>\n",
       "      <td>target</td>\n",
       "      <td>PMC4702870</td>\n",
       "      <td>TTD</td>\n",
       "    </tr>\n",
       "    <tr>\n",
       "      <th>2</th>\n",
       "      <td>DB00432</td>\n",
       "      <td>trifluridine</td>\n",
       "      <td>TTDS00301</td>\n",
       "      <td>Inhibitor</td>\n",
       "      <td>DAP000760</td>\n",
       "      <td>P04818</td>\n",
       "      <td>12441</td>\n",
       "      <td>TYMS</td>\n",
       "      <td>2017-03-27</td>\n",
       "      <td>target</td>\n",
       "      <td>PMC4702870</td>\n",
       "      <td>TTD</td>\n",
       "    </tr>\n",
       "    <tr>\n",
       "      <th>3</th>\n",
       "      <td>DB00322</td>\n",
       "      <td>floxuridine/5-fluorouracil</td>\n",
       "      <td>TTDS00301</td>\n",
       "      <td>Inhibitor</td>\n",
       "      <td>DAP001245</td>\n",
       "      <td>P04818</td>\n",
       "      <td>12441</td>\n",
       "      <td>TYMS</td>\n",
       "      <td>2017-03-27</td>\n",
       "      <td>target</td>\n",
       "      <td>PMC4702870</td>\n",
       "      <td>TTD</td>\n",
       "    </tr>\n",
       "    <tr>\n",
       "      <th>4</th>\n",
       "      <td>DB01101</td>\n",
       "      <td>capecitabine</td>\n",
       "      <td>TTDS00301</td>\n",
       "      <td>Inhibitor</td>\n",
       "      <td>DAP000761</td>\n",
       "      <td>P04818</td>\n",
       "      <td>12441</td>\n",
       "      <td>TYMS</td>\n",
       "      <td>2017-03-27</td>\n",
       "      <td>target</td>\n",
       "      <td>PMC4702870</td>\n",
       "      <td>TTD</td>\n",
       "    </tr>\n",
       "    <tr>\n",
       "      <th>5</th>\n",
       "      <td>DB00544</td>\n",
       "      <td>fluorouracil</td>\n",
       "      <td>TTDS00301</td>\n",
       "      <td>Inhibitor</td>\n",
       "      <td>DAP000829</td>\n",
       "      <td>P04818</td>\n",
       "      <td>12441</td>\n",
       "      <td>TYMS</td>\n",
       "      <td>2017-03-27</td>\n",
       "      <td>target</td>\n",
       "      <td>PMC4702870</td>\n",
       "      <td>TTD</td>\n",
       "    </tr>\n",
       "    <tr>\n",
       "      <th>6</th>\n",
       "      <td>DB00441</td>\n",
       "      <td>gemcitabine</td>\n",
       "      <td>TTDS00301</td>\n",
       "      <td>Inhibitor</td>\n",
       "      <td>DAP001246</td>\n",
       "      <td>P04818</td>\n",
       "      <td>12441</td>\n",
       "      <td>TYMS</td>\n",
       "      <td>2017-03-27</td>\n",
       "      <td>target</td>\n",
       "      <td>PMC4702870</td>\n",
       "      <td>TTD</td>\n",
       "    </tr>\n",
       "    <tr>\n",
       "      <th>7</th>\n",
       "      <td>DB01099</td>\n",
       "      <td>flucytosine</td>\n",
       "      <td>TTDS00301</td>\n",
       "      <td>Inhibitor</td>\n",
       "      <td>DAP001542</td>\n",
       "      <td>P04818</td>\n",
       "      <td>12441</td>\n",
       "      <td>TYMS</td>\n",
       "      <td>2017-03-27</td>\n",
       "      <td>target</td>\n",
       "      <td>PMC4702870</td>\n",
       "      <td>TTD</td>\n",
       "    </tr>\n",
       "    <tr>\n",
       "      <th>8</th>\n",
       "      <td>DB00650</td>\n",
       "      <td>leucovorin/5-fluorouracil</td>\n",
       "      <td>TTDS00301</td>\n",
       "      <td>Inhibitor</td>\n",
       "      <td>DAP001244</td>\n",
       "      <td>P04818</td>\n",
       "      <td>12441</td>\n",
       "      <td>TYMS</td>\n",
       "      <td>2017-03-27</td>\n",
       "      <td>target</td>\n",
       "      <td>PMC4702870</td>\n",
       "      <td>TTD</td>\n",
       "    </tr>\n",
       "    <tr>\n",
       "      <th>9</th>\n",
       "      <td>DB01131</td>\n",
       "      <td>proguanil</td>\n",
       "      <td>TTDS00208</td>\n",
       "      <td>Inhibitor</td>\n",
       "      <td>DAP000634</td>\n",
       "      <td>P00374</td>\n",
       "      <td>2861</td>\n",
       "      <td>DHFR</td>\n",
       "      <td>2017-03-27</td>\n",
       "      <td>target</td>\n",
       "      <td>PMC4702870</td>\n",
       "      <td>TTD</td>\n",
       "    </tr>\n",
       "    <tr>\n",
       "      <th>10</th>\n",
       "      <td>DB08878</td>\n",
       "      <td>aminopterin</td>\n",
       "      <td>TTDS00208</td>\n",
       "      <td>Inhibitor</td>\n",
       "      <td>DAP001346</td>\n",
       "      <td>P00374</td>\n",
       "      <td>2861</td>\n",
       "      <td>DHFR</td>\n",
       "      <td>2017-03-27</td>\n",
       "      <td>target</td>\n",
       "      <td>PMC4702870</td>\n",
       "      <td>TTD</td>\n",
       "    </tr>\n",
       "    <tr>\n",
       "      <th>11</th>\n",
       "      <td>DB04655</td>\n",
       "      <td>metoprine</td>\n",
       "      <td>TTDS00208</td>\n",
       "      <td>Inhibitor</td>\n",
       "      <td>DCL000304</td>\n",
       "      <td>P00374</td>\n",
       "      <td>2861</td>\n",
       "      <td>DHFR</td>\n",
       "      <td>2017-03-27</td>\n",
       "      <td>target</td>\n",
       "      <td>PMC4702870</td>\n",
       "      <td>TTD</td>\n",
       "    </tr>\n",
       "    <tr>\n",
       "      <th>12</th>\n",
       "      <td>DB00205</td>\n",
       "      <td>pyrimethamine</td>\n",
       "      <td>TTDS00208</td>\n",
       "      <td>Inhibitor</td>\n",
       "      <td>DAP000633</td>\n",
       "      <td>P00374</td>\n",
       "      <td>2861</td>\n",
       "      <td>DHFR</td>\n",
       "      <td>2017-03-27</td>\n",
       "      <td>target</td>\n",
       "      <td>PMC4702870</td>\n",
       "      <td>TTD</td>\n",
       "    </tr>\n",
       "    <tr>\n",
       "      <th>13</th>\n",
       "      <td>DB06813</td>\n",
       "      <td>pralatrexate</td>\n",
       "      <td>TTDS00208</td>\n",
       "      <td>Inhibitor</td>\n",
       "      <td>DAP001549</td>\n",
       "      <td>P00374</td>\n",
       "      <td>2861</td>\n",
       "      <td>DHFR</td>\n",
       "      <td>2017-03-27</td>\n",
       "      <td>target</td>\n",
       "      <td>PMC4702870</td>\n",
       "      <td>TTD</td>\n",
       "    </tr>\n",
       "    <tr>\n",
       "      <th>14</th>\n",
       "      <td>DB01157</td>\n",
       "      <td>trimetrexate</td>\n",
       "      <td>TTDS00208</td>\n",
       "      <td>Inhibitor</td>\n",
       "      <td>DAP000635</td>\n",
       "      <td>P00374</td>\n",
       "      <td>2861</td>\n",
       "      <td>DHFR</td>\n",
       "      <td>2017-03-27</td>\n",
       "      <td>target</td>\n",
       "      <td>PMC4702870</td>\n",
       "      <td>TTD</td>\n",
       "    </tr>\n",
       "    <tr>\n",
       "      <th>15</th>\n",
       "      <td>DB00440</td>\n",
       "      <td>trimethoprim</td>\n",
       "      <td>TTDS00208</td>\n",
       "      <td>Inhibitor</td>\n",
       "      <td>DAP000927</td>\n",
       "      <td>P00374</td>\n",
       "      <td>2861</td>\n",
       "      <td>DHFR</td>\n",
       "      <td>2017-03-27</td>\n",
       "      <td>target</td>\n",
       "      <td>PMC4702870</td>\n",
       "      <td>TTD</td>\n",
       "    </tr>\n",
       "    <tr>\n",
       "      <th>16</th>\n",
       "      <td>DB00371</td>\n",
       "      <td>proquanil</td>\n",
       "      <td>TTDS00208</td>\n",
       "      <td>Inhibitor</td>\n",
       "      <td>DAP001507</td>\n",
       "      <td>P00374</td>\n",
       "      <td>2861</td>\n",
       "      <td>DHFR</td>\n",
       "      <td>2017-03-27</td>\n",
       "      <td>target</td>\n",
       "      <td>PMC4702870</td>\n",
       "      <td>TTD</td>\n",
       "    </tr>\n",
       "    <tr>\n",
       "      <th>17</th>\n",
       "      <td>DB08741</td>\n",
       "      <td>iclaprim</td>\n",
       "      <td>TTDS00208</td>\n",
       "      <td>Binder</td>\n",
       "      <td>DCL000840</td>\n",
       "      <td>P00374</td>\n",
       "      <td>2861</td>\n",
       "      <td>DHFR</td>\n",
       "      <td>2017-03-27</td>\n",
       "      <td>target</td>\n",
       "      <td>PMC4702870</td>\n",
       "      <td>TTD</td>\n",
       "    </tr>\n",
       "    <tr>\n",
       "      <th>18</th>\n",
       "      <td>DB03695</td>\n",
       "      <td>piritrexim</td>\n",
       "      <td>TTDS00208</td>\n",
       "      <td>Inhibitor</td>\n",
       "      <td>DNC003511</td>\n",
       "      <td>P00374</td>\n",
       "      <td>2861</td>\n",
       "      <td>DHFR</td>\n",
       "      <td>2017-03-27</td>\n",
       "      <td>target</td>\n",
       "      <td>PMC4702870</td>\n",
       "      <td>TTD</td>\n",
       "    </tr>\n",
       "    <tr>\n",
       "      <th>19</th>\n",
       "      <td>DB01131</td>\n",
       "      <td>proguanil</td>\n",
       "      <td>TTDS00208</td>\n",
       "      <td>Inhibitor</td>\n",
       "      <td>DAP000634</td>\n",
       "      <td>Q9HBH1</td>\n",
       "      <td>30012</td>\n",
       "      <td>PDF</td>\n",
       "      <td>2017-03-27</td>\n",
       "      <td>target</td>\n",
       "      <td>PMC4702870</td>\n",
       "      <td>TTD</td>\n",
       "    </tr>\n",
       "    <tr>\n",
       "      <th>20</th>\n",
       "      <td>DB08878</td>\n",
       "      <td>aminopterin</td>\n",
       "      <td>TTDS00208</td>\n",
       "      <td>Inhibitor</td>\n",
       "      <td>DAP001346</td>\n",
       "      <td>Q9HBH1</td>\n",
       "      <td>30012</td>\n",
       "      <td>PDF</td>\n",
       "      <td>2017-03-27</td>\n",
       "      <td>target</td>\n",
       "      <td>PMC4702870</td>\n",
       "      <td>TTD</td>\n",
       "    </tr>\n",
       "    <tr>\n",
       "      <th>21</th>\n",
       "      <td>DB04655</td>\n",
       "      <td>metoprine</td>\n",
       "      <td>TTDS00208</td>\n",
       "      <td>Inhibitor</td>\n",
       "      <td>DCL000304</td>\n",
       "      <td>Q9HBH1</td>\n",
       "      <td>30012</td>\n",
       "      <td>PDF</td>\n",
       "      <td>2017-03-27</td>\n",
       "      <td>target</td>\n",
       "      <td>PMC4702870</td>\n",
       "      <td>TTD</td>\n",
       "    </tr>\n",
       "    <tr>\n",
       "      <th>22</th>\n",
       "      <td>DB00205</td>\n",
       "      <td>pyrimethamine</td>\n",
       "      <td>TTDS00208</td>\n",
       "      <td>Inhibitor</td>\n",
       "      <td>DAP000633</td>\n",
       "      <td>Q9HBH1</td>\n",
       "      <td>30012</td>\n",
       "      <td>PDF</td>\n",
       "      <td>2017-03-27</td>\n",
       "      <td>target</td>\n",
       "      <td>PMC4702870</td>\n",
       "      <td>TTD</td>\n",
       "    </tr>\n",
       "    <tr>\n",
       "      <th>23</th>\n",
       "      <td>DB06813</td>\n",
       "      <td>pralatrexate</td>\n",
       "      <td>TTDS00208</td>\n",
       "      <td>Inhibitor</td>\n",
       "      <td>DAP001549</td>\n",
       "      <td>Q9HBH1</td>\n",
       "      <td>30012</td>\n",
       "      <td>PDF</td>\n",
       "      <td>2017-03-27</td>\n",
       "      <td>target</td>\n",
       "      <td>PMC4702870</td>\n",
       "      <td>TTD</td>\n",
       "    </tr>\n",
       "    <tr>\n",
       "      <th>24</th>\n",
       "      <td>DB01157</td>\n",
       "      <td>trimetrexate</td>\n",
       "      <td>TTDS00208</td>\n",
       "      <td>Inhibitor</td>\n",
       "      <td>DAP000635</td>\n",
       "      <td>Q9HBH1</td>\n",
       "      <td>30012</td>\n",
       "      <td>PDF</td>\n",
       "      <td>2017-03-27</td>\n",
       "      <td>target</td>\n",
       "      <td>PMC4702870</td>\n",
       "      <td>TTD</td>\n",
       "    </tr>\n",
       "    <tr>\n",
       "      <th>25</th>\n",
       "      <td>DB00440</td>\n",
       "      <td>trimethoprim</td>\n",
       "      <td>TTDS00208</td>\n",
       "      <td>Inhibitor</td>\n",
       "      <td>DAP000927</td>\n",
       "      <td>Q9HBH1</td>\n",
       "      <td>30012</td>\n",
       "      <td>PDF</td>\n",
       "      <td>2017-03-27</td>\n",
       "      <td>target</td>\n",
       "      <td>PMC4702870</td>\n",
       "      <td>TTD</td>\n",
       "    </tr>\n",
       "    <tr>\n",
       "      <th>26</th>\n",
       "      <td>DB00371</td>\n",
       "      <td>proquanil</td>\n",
       "      <td>TTDS00208</td>\n",
       "      <td>Inhibitor</td>\n",
       "      <td>DAP001507</td>\n",
       "      <td>Q9HBH1</td>\n",
       "      <td>30012</td>\n",
       "      <td>PDF</td>\n",
       "      <td>2017-03-27</td>\n",
       "      <td>target</td>\n",
       "      <td>PMC4702870</td>\n",
       "      <td>TTD</td>\n",
       "    </tr>\n",
       "    <tr>\n",
       "      <th>27</th>\n",
       "      <td>DB08741</td>\n",
       "      <td>iclaprim</td>\n",
       "      <td>TTDS00208</td>\n",
       "      <td>Binder</td>\n",
       "      <td>DCL000840</td>\n",
       "      <td>Q9HBH1</td>\n",
       "      <td>30012</td>\n",
       "      <td>PDF</td>\n",
       "      <td>2017-03-27</td>\n",
       "      <td>target</td>\n",
       "      <td>PMC4702870</td>\n",
       "      <td>TTD</td>\n",
       "    </tr>\n",
       "    <tr>\n",
       "      <th>28</th>\n",
       "      <td>DB03695</td>\n",
       "      <td>piritrexim</td>\n",
       "      <td>TTDS00208</td>\n",
       "      <td>Inhibitor</td>\n",
       "      <td>DNC003511</td>\n",
       "      <td>Q9HBH1</td>\n",
       "      <td>30012</td>\n",
       "      <td>PDF</td>\n",
       "      <td>2017-03-27</td>\n",
       "      <td>target</td>\n",
       "      <td>PMC4702870</td>\n",
       "      <td>TTD</td>\n",
       "    </tr>\n",
       "    <tr>\n",
       "      <th>29</th>\n",
       "      <td>DB04115</td>\n",
       "      <td>berberine</td>\n",
       "      <td>TTDC00195</td>\n",
       "      <td>Inhibitor</td>\n",
       "      <td>DNC000303</td>\n",
       "      <td>O14746</td>\n",
       "      <td>11730</td>\n",
       "      <td>TERT</td>\n",
       "      <td>2017-03-27</td>\n",
       "      <td>target</td>\n",
       "      <td>PMC4702870</td>\n",
       "      <td>TTD</td>\n",
       "    </tr>\n",
       "    <tr>\n",
       "      <th>...</th>\n",
       "      <td>...</td>\n",
       "      <td>...</td>\n",
       "      <td>...</td>\n",
       "      <td>...</td>\n",
       "      <td>...</td>\n",
       "      <td>...</td>\n",
       "      <td>...</td>\n",
       "      <td>...</td>\n",
       "      <td>...</td>\n",
       "      <td>...</td>\n",
       "      <td>...</td>\n",
       "      <td>...</td>\n",
       "    </tr>\n",
       "    <tr>\n",
       "      <th>1564</th>\n",
       "      <td>DB05246</td>\n",
       "      <td>methsuximide</td>\n",
       "      <td>TTDS00161</td>\n",
       "      <td>NaN</td>\n",
       "      <td>DAP001253</td>\n",
       "      <td>O43497</td>\n",
       "      <td>1394</td>\n",
       "      <td>CACNA1G</td>\n",
       "      <td>2017-03-27</td>\n",
       "      <td>target</td>\n",
       "      <td>PMC4702870</td>\n",
       "      <td>TTD</td>\n",
       "    </tr>\n",
       "    <tr>\n",
       "      <th>1565</th>\n",
       "      <td>DB00331</td>\n",
       "      <td>metformin</td>\n",
       "      <td>TTDS00357</td>\n",
       "      <td>NaN</td>\n",
       "      <td>DAP000205</td>\n",
       "      <td>O00763</td>\n",
       "      <td>85</td>\n",
       "      <td>ACACB</td>\n",
       "      <td>2017-03-27</td>\n",
       "      <td>target</td>\n",
       "      <td>PMC4702870</td>\n",
       "      <td>TTD</td>\n",
       "    </tr>\n",
       "    <tr>\n",
       "      <th>1566</th>\n",
       "      <td>DB00818</td>\n",
       "      <td>propofol</td>\n",
       "      <td>TTDS00177</td>\n",
       "      <td>Inhibitor</td>\n",
       "      <td>DAP000662</td>\n",
       "      <td>O00519</td>\n",
       "      <td>3553</td>\n",
       "      <td>FAAH</td>\n",
       "      <td>2017-03-27</td>\n",
       "      <td>target</td>\n",
       "      <td>PMC4702870</td>\n",
       "      <td>TTD</td>\n",
       "    </tr>\n",
       "    <tr>\n",
       "      <th>1567</th>\n",
       "      <td>DB00599</td>\n",
       "      <td>thiopental</td>\n",
       "      <td>TTDS00177</td>\n",
       "      <td>Inhibitor</td>\n",
       "      <td>DAP000661</td>\n",
       "      <td>O00519</td>\n",
       "      <td>3553</td>\n",
       "      <td>FAAH</td>\n",
       "      <td>2017-03-27</td>\n",
       "      <td>target</td>\n",
       "      <td>PMC4702870</td>\n",
       "      <td>TTD</td>\n",
       "    </tr>\n",
       "    <tr>\n",
       "      <th>1568</th>\n",
       "      <td>DB00162</td>\n",
       "      <td>vitamin a</td>\n",
       "      <td>TTDS00354</td>\n",
       "      <td>Binder</td>\n",
       "      <td>DAP001543</td>\n",
       "      <td>P19793</td>\n",
       "      <td>10477</td>\n",
       "      <td>RXRA</td>\n",
       "      <td>2017-03-27</td>\n",
       "      <td>target</td>\n",
       "      <td>PMC4702870</td>\n",
       "      <td>TTD</td>\n",
       "    </tr>\n",
       "    <tr>\n",
       "      <th>1569</th>\n",
       "      <td>DB00307</td>\n",
       "      <td>bexarotene</td>\n",
       "      <td>TTDS00354</td>\n",
       "      <td>Agonist</td>\n",
       "      <td>DAP000276</td>\n",
       "      <td>P19793</td>\n",
       "      <td>10477</td>\n",
       "      <td>RXRA</td>\n",
       "      <td>2017-03-27</td>\n",
       "      <td>target</td>\n",
       "      <td>PMC4702870</td>\n",
       "      <td>TTD</td>\n",
       "    </tr>\n",
       "    <tr>\n",
       "      <th>1570</th>\n",
       "      <td>DB00162</td>\n",
       "      <td>vitamin a</td>\n",
       "      <td>TTDS00354</td>\n",
       "      <td>Binder</td>\n",
       "      <td>DAP001543</td>\n",
       "      <td>P28702</td>\n",
       "      <td>10478</td>\n",
       "      <td>RXRB</td>\n",
       "      <td>2017-03-27</td>\n",
       "      <td>target</td>\n",
       "      <td>PMC4702870</td>\n",
       "      <td>TTD</td>\n",
       "    </tr>\n",
       "    <tr>\n",
       "      <th>1571</th>\n",
       "      <td>DB00307</td>\n",
       "      <td>bexarotene</td>\n",
       "      <td>TTDS00354</td>\n",
       "      <td>Agonist</td>\n",
       "      <td>DAP000276</td>\n",
       "      <td>P28702</td>\n",
       "      <td>10478</td>\n",
       "      <td>RXRB</td>\n",
       "      <td>2017-03-27</td>\n",
       "      <td>target</td>\n",
       "      <td>PMC4702870</td>\n",
       "      <td>TTD</td>\n",
       "    </tr>\n",
       "    <tr>\n",
       "      <th>1572</th>\n",
       "      <td>DB00162</td>\n",
       "      <td>vitamin a</td>\n",
       "      <td>TTDS00354</td>\n",
       "      <td>Binder</td>\n",
       "      <td>DAP001543</td>\n",
       "      <td>P48443</td>\n",
       "      <td>10479</td>\n",
       "      <td>RXRG</td>\n",
       "      <td>2017-03-27</td>\n",
       "      <td>target</td>\n",
       "      <td>PMC4702870</td>\n",
       "      <td>TTD</td>\n",
       "    </tr>\n",
       "    <tr>\n",
       "      <th>1573</th>\n",
       "      <td>DB00307</td>\n",
       "      <td>bexarotene</td>\n",
       "      <td>TTDS00354</td>\n",
       "      <td>Agonist</td>\n",
       "      <td>DAP000276</td>\n",
       "      <td>P48443</td>\n",
       "      <td>10479</td>\n",
       "      <td>RXRG</td>\n",
       "      <td>2017-03-27</td>\n",
       "      <td>target</td>\n",
       "      <td>PMC4702870</td>\n",
       "      <td>TTD</td>\n",
       "    </tr>\n",
       "    <tr>\n",
       "      <th>1574</th>\n",
       "      <td>DB00222</td>\n",
       "      <td>glimepiride</td>\n",
       "      <td>TTDS00331</td>\n",
       "      <td>NaN</td>\n",
       "      <td>DAP000132</td>\n",
       "      <td>Q09428</td>\n",
       "      <td>59</td>\n",
       "      <td>ABCC8</td>\n",
       "      <td>2017-03-27</td>\n",
       "      <td>target</td>\n",
       "      <td>PMC4702870</td>\n",
       "      <td>TTD</td>\n",
       "    </tr>\n",
       "    <tr>\n",
       "      <th>1575</th>\n",
       "      <td>DB01124</td>\n",
       "      <td>tolbutamide</td>\n",
       "      <td>TTDS00331</td>\n",
       "      <td>NaN</td>\n",
       "      <td>DAP000136</td>\n",
       "      <td>Q09428</td>\n",
       "      <td>59</td>\n",
       "      <td>ABCC8</td>\n",
       "      <td>2017-03-27</td>\n",
       "      <td>target</td>\n",
       "      <td>PMC4702870</td>\n",
       "      <td>TTD</td>\n",
       "    </tr>\n",
       "    <tr>\n",
       "      <th>1576</th>\n",
       "      <td>DB01120</td>\n",
       "      <td>gliclazide</td>\n",
       "      <td>TTDS00331</td>\n",
       "      <td>NaN</td>\n",
       "      <td>DAP000522</td>\n",
       "      <td>Q09428</td>\n",
       "      <td>59</td>\n",
       "      <td>ABCC8</td>\n",
       "      <td>2017-03-27</td>\n",
       "      <td>target</td>\n",
       "      <td>PMC4702870</td>\n",
       "      <td>TTD</td>\n",
       "    </tr>\n",
       "    <tr>\n",
       "      <th>1577</th>\n",
       "      <td>DB00912</td>\n",
       "      <td>repaglinide</td>\n",
       "      <td>TTDS00331</td>\n",
       "      <td>NaN</td>\n",
       "      <td>DAP000133</td>\n",
       "      <td>Q09428</td>\n",
       "      <td>59</td>\n",
       "      <td>ABCC8</td>\n",
       "      <td>2017-03-27</td>\n",
       "      <td>target</td>\n",
       "      <td>PMC4702870</td>\n",
       "      <td>TTD</td>\n",
       "    </tr>\n",
       "    <tr>\n",
       "      <th>1578</th>\n",
       "      <td>DB00222</td>\n",
       "      <td>glimepiride</td>\n",
       "      <td>TTDS00332</td>\n",
       "      <td>NaN</td>\n",
       "      <td>DAP000132</td>\n",
       "      <td>O60706</td>\n",
       "      <td>60</td>\n",
       "      <td>ABCC9</td>\n",
       "      <td>2017-03-27</td>\n",
       "      <td>target</td>\n",
       "      <td>PMC4702870</td>\n",
       "      <td>TTD</td>\n",
       "    </tr>\n",
       "    <tr>\n",
       "      <th>1579</th>\n",
       "      <td>DB01124</td>\n",
       "      <td>tolbutamide</td>\n",
       "      <td>TTDS00332</td>\n",
       "      <td>NaN</td>\n",
       "      <td>DAP000136</td>\n",
       "      <td>O60706</td>\n",
       "      <td>60</td>\n",
       "      <td>ABCC9</td>\n",
       "      <td>2017-03-27</td>\n",
       "      <td>target</td>\n",
       "      <td>PMC4702870</td>\n",
       "      <td>TTD</td>\n",
       "    </tr>\n",
       "    <tr>\n",
       "      <th>1580</th>\n",
       "      <td>DB00912</td>\n",
       "      <td>repaglinide</td>\n",
       "      <td>TTDS00332</td>\n",
       "      <td>NaN</td>\n",
       "      <td>DAP000133</td>\n",
       "      <td>O60706</td>\n",
       "      <td>60</td>\n",
       "      <td>ABCC9</td>\n",
       "      <td>2017-03-27</td>\n",
       "      <td>target</td>\n",
       "      <td>PMC4702870</td>\n",
       "      <td>TTD</td>\n",
       "    </tr>\n",
       "    <tr>\n",
       "      <th>1581</th>\n",
       "      <td>DB09220</td>\n",
       "      <td>nicorandil</td>\n",
       "      <td>TTDS00332</td>\n",
       "      <td>NaN</td>\n",
       "      <td>DAP001409</td>\n",
       "      <td>O60706</td>\n",
       "      <td>60</td>\n",
       "      <td>ABCC9</td>\n",
       "      <td>2017-03-27</td>\n",
       "      <td>target</td>\n",
       "      <td>PMC4702870</td>\n",
       "      <td>TTD</td>\n",
       "    </tr>\n",
       "    <tr>\n",
       "      <th>1582</th>\n",
       "      <td>DB05792</td>\n",
       "      <td>sr-31747</td>\n",
       "      <td>TTDI02057</td>\n",
       "      <td>Modulator</td>\n",
       "      <td>DIB010786</td>\n",
       "      <td>Q15125</td>\n",
       "      <td>3133</td>\n",
       "      <td>EBP</td>\n",
       "      <td>2017-03-27</td>\n",
       "      <td>target</td>\n",
       "      <td>PMC4702870</td>\n",
       "      <td>TTD</td>\n",
       "    </tr>\n",
       "    <tr>\n",
       "      <th>1583</th>\n",
       "      <td>DB05460</td>\n",
       "      <td>ezatiostat</td>\n",
       "      <td>TTDI02088</td>\n",
       "      <td>Modulator</td>\n",
       "      <td>DNCL003497</td>\n",
       "      <td>P09211</td>\n",
       "      <td>4638</td>\n",
       "      <td>GSTP1</td>\n",
       "      <td>2017-03-27</td>\n",
       "      <td>target</td>\n",
       "      <td>PMC4702870</td>\n",
       "      <td>TTD</td>\n",
       "    </tr>\n",
       "    <tr>\n",
       "      <th>1584</th>\n",
       "      <td>DB04209</td>\n",
       "      <td>dequalinium</td>\n",
       "      <td>TTDI03120</td>\n",
       "      <td>NaN</td>\n",
       "      <td>DIB018049</td>\n",
       "      <td>P29973</td>\n",
       "      <td>2148</td>\n",
       "      <td>CNGA1</td>\n",
       "      <td>2017-03-27</td>\n",
       "      <td>target</td>\n",
       "      <td>PMC4702870</td>\n",
       "      <td>TTD</td>\n",
       "    </tr>\n",
       "    <tr>\n",
       "      <th>1585</th>\n",
       "      <td>DB11615</td>\n",
       "      <td>dequalinium</td>\n",
       "      <td>TTDI03120</td>\n",
       "      <td>NaN</td>\n",
       "      <td>DIB018049</td>\n",
       "      <td>P29973</td>\n",
       "      <td>2148</td>\n",
       "      <td>CNGA1</td>\n",
       "      <td>2017-03-27</td>\n",
       "      <td>target</td>\n",
       "      <td>PMC4702870</td>\n",
       "      <td>TTD</td>\n",
       "    </tr>\n",
       "    <tr>\n",
       "      <th>1586</th>\n",
       "      <td>DB04209</td>\n",
       "      <td>dequalinium</td>\n",
       "      <td>TTDI03121</td>\n",
       "      <td>NaN</td>\n",
       "      <td>DIB018049</td>\n",
       "      <td>Q16280</td>\n",
       "      <td>2149</td>\n",
       "      <td>CNGA2</td>\n",
       "      <td>2017-03-27</td>\n",
       "      <td>target</td>\n",
       "      <td>PMC4702870</td>\n",
       "      <td>TTD</td>\n",
       "    </tr>\n",
       "    <tr>\n",
       "      <th>1587</th>\n",
       "      <td>DB11615</td>\n",
       "      <td>dequalinium</td>\n",
       "      <td>TTDI03121</td>\n",
       "      <td>NaN</td>\n",
       "      <td>DIB018049</td>\n",
       "      <td>Q16280</td>\n",
       "      <td>2149</td>\n",
       "      <td>CNGA2</td>\n",
       "      <td>2017-03-27</td>\n",
       "      <td>target</td>\n",
       "      <td>PMC4702870</td>\n",
       "      <td>TTD</td>\n",
       "    </tr>\n",
       "    <tr>\n",
       "      <th>1588</th>\n",
       "      <td>DB04209</td>\n",
       "      <td>dequalinium</td>\n",
       "      <td>TTDI03307</td>\n",
       "      <td>NaN</td>\n",
       "      <td>DIB018049</td>\n",
       "      <td>Q92952</td>\n",
       "      <td>6290</td>\n",
       "      <td>KCNN1</td>\n",
       "      <td>2017-03-27</td>\n",
       "      <td>target</td>\n",
       "      <td>PMC4702870</td>\n",
       "      <td>TTD</td>\n",
       "    </tr>\n",
       "    <tr>\n",
       "      <th>1589</th>\n",
       "      <td>DB11615</td>\n",
       "      <td>dequalinium</td>\n",
       "      <td>TTDI03307</td>\n",
       "      <td>NaN</td>\n",
       "      <td>DIB018049</td>\n",
       "      <td>Q92952</td>\n",
       "      <td>6290</td>\n",
       "      <td>KCNN1</td>\n",
       "      <td>2017-03-27</td>\n",
       "      <td>target</td>\n",
       "      <td>PMC4702870</td>\n",
       "      <td>TTD</td>\n",
       "    </tr>\n",
       "    <tr>\n",
       "      <th>1590</th>\n",
       "      <td>DB04209</td>\n",
       "      <td>dequalinium</td>\n",
       "      <td>TTDI03308</td>\n",
       "      <td>NaN</td>\n",
       "      <td>DIB018049</td>\n",
       "      <td>Q9H2S1</td>\n",
       "      <td>6291</td>\n",
       "      <td>KCNN2</td>\n",
       "      <td>2017-03-27</td>\n",
       "      <td>target</td>\n",
       "      <td>PMC4702870</td>\n",
       "      <td>TTD</td>\n",
       "    </tr>\n",
       "    <tr>\n",
       "      <th>1591</th>\n",
       "      <td>DB11615</td>\n",
       "      <td>dequalinium</td>\n",
       "      <td>TTDI03308</td>\n",
       "      <td>NaN</td>\n",
       "      <td>DIB018049</td>\n",
       "      <td>Q9H2S1</td>\n",
       "      <td>6291</td>\n",
       "      <td>KCNN2</td>\n",
       "      <td>2017-03-27</td>\n",
       "      <td>target</td>\n",
       "      <td>PMC4702870</td>\n",
       "      <td>TTD</td>\n",
       "    </tr>\n",
       "    <tr>\n",
       "      <th>1592</th>\n",
       "      <td>DB04209</td>\n",
       "      <td>dequalinium</td>\n",
       "      <td>TTDI03309</td>\n",
       "      <td>NaN</td>\n",
       "      <td>DIB018049</td>\n",
       "      <td>Q9UGI6</td>\n",
       "      <td>6292</td>\n",
       "      <td>KCNN3</td>\n",
       "      <td>2017-03-27</td>\n",
       "      <td>target</td>\n",
       "      <td>PMC4702870</td>\n",
       "      <td>TTD</td>\n",
       "    </tr>\n",
       "    <tr>\n",
       "      <th>1593</th>\n",
       "      <td>DB11615</td>\n",
       "      <td>dequalinium</td>\n",
       "      <td>TTDI03309</td>\n",
       "      <td>NaN</td>\n",
       "      <td>DIB018049</td>\n",
       "      <td>Q9UGI6</td>\n",
       "      <td>6292</td>\n",
       "      <td>KCNN3</td>\n",
       "      <td>2017-03-27</td>\n",
       "      <td>target</td>\n",
       "      <td>PMC4702870</td>\n",
       "      <td>TTD</td>\n",
       "    </tr>\n",
       "  </tbody>\n",
       "</table>\n",
       "<p>1594 rows × 12 columns</p>\n",
       "</div>"
      ],
      "text/plain": [
       "     drugbank_id                   drug_name  target_id target_action  \\\n",
       "0        DB00293                 raltitrexed  TTDS00301     Inhibitor   \n",
       "1        DB00642                    ly231514  TTDS00301     Inhibitor   \n",
       "2        DB00432                trifluridine  TTDS00301     Inhibitor   \n",
       "3        DB00322  floxuridine/5-fluorouracil  TTDS00301     Inhibitor   \n",
       "4        DB01101                capecitabine  TTDS00301     Inhibitor   \n",
       "5        DB00544                fluorouracil  TTDS00301     Inhibitor   \n",
       "6        DB00441                 gemcitabine  TTDS00301     Inhibitor   \n",
       "7        DB01099                 flucytosine  TTDS00301     Inhibitor   \n",
       "8        DB00650   leucovorin/5-fluorouracil  TTDS00301     Inhibitor   \n",
       "9        DB01131                   proguanil  TTDS00208     Inhibitor   \n",
       "10       DB08878                 aminopterin  TTDS00208     Inhibitor   \n",
       "11       DB04655                   metoprine  TTDS00208     Inhibitor   \n",
       "12       DB00205               pyrimethamine  TTDS00208     Inhibitor   \n",
       "13       DB06813                pralatrexate  TTDS00208     Inhibitor   \n",
       "14       DB01157                trimetrexate  TTDS00208     Inhibitor   \n",
       "15       DB00440                trimethoprim  TTDS00208     Inhibitor   \n",
       "16       DB00371                   proquanil  TTDS00208     Inhibitor   \n",
       "17       DB08741                    iclaprim  TTDS00208        Binder   \n",
       "18       DB03695                  piritrexim  TTDS00208     Inhibitor   \n",
       "19       DB01131                   proguanil  TTDS00208     Inhibitor   \n",
       "20       DB08878                 aminopterin  TTDS00208     Inhibitor   \n",
       "21       DB04655                   metoprine  TTDS00208     Inhibitor   \n",
       "22       DB00205               pyrimethamine  TTDS00208     Inhibitor   \n",
       "23       DB06813                pralatrexate  TTDS00208     Inhibitor   \n",
       "24       DB01157                trimetrexate  TTDS00208     Inhibitor   \n",
       "25       DB00440                trimethoprim  TTDS00208     Inhibitor   \n",
       "26       DB00371                   proquanil  TTDS00208     Inhibitor   \n",
       "27       DB08741                    iclaprim  TTDS00208        Binder   \n",
       "28       DB03695                  piritrexim  TTDS00208     Inhibitor   \n",
       "29       DB04115                   berberine  TTDC00195     Inhibitor   \n",
       "...          ...                         ...        ...           ...   \n",
       "1564     DB05246                methsuximide  TTDS00161           NaN   \n",
       "1565     DB00331                   metformin  TTDS00357           NaN   \n",
       "1566     DB00818                    propofol  TTDS00177     Inhibitor   \n",
       "1567     DB00599                  thiopental  TTDS00177     Inhibitor   \n",
       "1568     DB00162                   vitamin a  TTDS00354        Binder   \n",
       "1569     DB00307                  bexarotene  TTDS00354       Agonist   \n",
       "1570     DB00162                   vitamin a  TTDS00354        Binder   \n",
       "1571     DB00307                  bexarotene  TTDS00354       Agonist   \n",
       "1572     DB00162                   vitamin a  TTDS00354        Binder   \n",
       "1573     DB00307                  bexarotene  TTDS00354       Agonist   \n",
       "1574     DB00222                 glimepiride  TTDS00331           NaN   \n",
       "1575     DB01124                 tolbutamide  TTDS00331           NaN   \n",
       "1576     DB01120                  gliclazide  TTDS00331           NaN   \n",
       "1577     DB00912                 repaglinide  TTDS00331           NaN   \n",
       "1578     DB00222                 glimepiride  TTDS00332           NaN   \n",
       "1579     DB01124                 tolbutamide  TTDS00332           NaN   \n",
       "1580     DB00912                 repaglinide  TTDS00332           NaN   \n",
       "1581     DB09220                  nicorandil  TTDS00332           NaN   \n",
       "1582     DB05792                    sr-31747  TTDI02057     Modulator   \n",
       "1583     DB05460                  ezatiostat  TTDI02088     Modulator   \n",
       "1584     DB04209                 dequalinium  TTDI03120           NaN   \n",
       "1585     DB11615                 dequalinium  TTDI03120           NaN   \n",
       "1586     DB04209                 dequalinium  TTDI03121           NaN   \n",
       "1587     DB11615                 dequalinium  TTDI03121           NaN   \n",
       "1588     DB04209                 dequalinium  TTDI03307           NaN   \n",
       "1589     DB11615                 dequalinium  TTDI03307           NaN   \n",
       "1590     DB04209                 dequalinium  TTDI03308           NaN   \n",
       "1591     DB11615                 dequalinium  TTDI03308           NaN   \n",
       "1592     DB04209                 dequalinium  TTDI03309           NaN   \n",
       "1593     DB11615                 dequalinium  TTDI03309           NaN   \n",
       "\n",
       "     ttd_drug_id uniprot_id  hgnc_id gene_symbol download_date  \\\n",
       "0      DAP000759     P04818    12441        TYMS    2017-03-27   \n",
       "1      DCL000320     P04818    12441        TYMS    2017-03-27   \n",
       "2      DAP000760     P04818    12441        TYMS    2017-03-27   \n",
       "3      DAP001245     P04818    12441        TYMS    2017-03-27   \n",
       "4      DAP000761     P04818    12441        TYMS    2017-03-27   \n",
       "5      DAP000829     P04818    12441        TYMS    2017-03-27   \n",
       "6      DAP001246     P04818    12441        TYMS    2017-03-27   \n",
       "7      DAP001542     P04818    12441        TYMS    2017-03-27   \n",
       "8      DAP001244     P04818    12441        TYMS    2017-03-27   \n",
       "9      DAP000634     P00374     2861        DHFR    2017-03-27   \n",
       "10     DAP001346     P00374     2861        DHFR    2017-03-27   \n",
       "11     DCL000304     P00374     2861        DHFR    2017-03-27   \n",
       "12     DAP000633     P00374     2861        DHFR    2017-03-27   \n",
       "13     DAP001549     P00374     2861        DHFR    2017-03-27   \n",
       "14     DAP000635     P00374     2861        DHFR    2017-03-27   \n",
       "15     DAP000927     P00374     2861        DHFR    2017-03-27   \n",
       "16     DAP001507     P00374     2861        DHFR    2017-03-27   \n",
       "17     DCL000840     P00374     2861        DHFR    2017-03-27   \n",
       "18     DNC003511     P00374     2861        DHFR    2017-03-27   \n",
       "19     DAP000634     Q9HBH1    30012         PDF    2017-03-27   \n",
       "20     DAP001346     Q9HBH1    30012         PDF    2017-03-27   \n",
       "21     DCL000304     Q9HBH1    30012         PDF    2017-03-27   \n",
       "22     DAP000633     Q9HBH1    30012         PDF    2017-03-27   \n",
       "23     DAP001549     Q9HBH1    30012         PDF    2017-03-27   \n",
       "24     DAP000635     Q9HBH1    30012         PDF    2017-03-27   \n",
       "25     DAP000927     Q9HBH1    30012         PDF    2017-03-27   \n",
       "26     DAP001507     Q9HBH1    30012         PDF    2017-03-27   \n",
       "27     DCL000840     Q9HBH1    30012         PDF    2017-03-27   \n",
       "28     DNC003511     Q9HBH1    30012         PDF    2017-03-27   \n",
       "29     DNC000303     O14746    11730        TERT    2017-03-27   \n",
       "...          ...        ...      ...         ...           ...   \n",
       "1564   DAP001253     O43497     1394     CACNA1G    2017-03-27   \n",
       "1565   DAP000205     O00763       85       ACACB    2017-03-27   \n",
       "1566   DAP000662     O00519     3553        FAAH    2017-03-27   \n",
       "1567   DAP000661     O00519     3553        FAAH    2017-03-27   \n",
       "1568   DAP001543     P19793    10477        RXRA    2017-03-27   \n",
       "1569   DAP000276     P19793    10477        RXRA    2017-03-27   \n",
       "1570   DAP001543     P28702    10478        RXRB    2017-03-27   \n",
       "1571   DAP000276     P28702    10478        RXRB    2017-03-27   \n",
       "1572   DAP001543     P48443    10479        RXRG    2017-03-27   \n",
       "1573   DAP000276     P48443    10479        RXRG    2017-03-27   \n",
       "1574   DAP000132     Q09428       59       ABCC8    2017-03-27   \n",
       "1575   DAP000136     Q09428       59       ABCC8    2017-03-27   \n",
       "1576   DAP000522     Q09428       59       ABCC8    2017-03-27   \n",
       "1577   DAP000133     Q09428       59       ABCC8    2017-03-27   \n",
       "1578   DAP000132     O60706       60       ABCC9    2017-03-27   \n",
       "1579   DAP000136     O60706       60       ABCC9    2017-03-27   \n",
       "1580   DAP000133     O60706       60       ABCC9    2017-03-27   \n",
       "1581   DAP001409     O60706       60       ABCC9    2017-03-27   \n",
       "1582   DIB010786     Q15125     3133         EBP    2017-03-27   \n",
       "1583  DNCL003497     P09211     4638       GSTP1    2017-03-27   \n",
       "1584   DIB018049     P29973     2148       CNGA1    2017-03-27   \n",
       "1585   DIB018049     P29973     2148       CNGA1    2017-03-27   \n",
       "1586   DIB018049     Q16280     2149       CNGA2    2017-03-27   \n",
       "1587   DIB018049     Q16280     2149       CNGA2    2017-03-27   \n",
       "1588   DIB018049     Q92952     6290       KCNN1    2017-03-27   \n",
       "1589   DIB018049     Q92952     6290       KCNN1    2017-03-27   \n",
       "1590   DIB018049     Q9H2S1     6291       KCNN2    2017-03-27   \n",
       "1591   DIB018049     Q9H2S1     6291       KCNN2    2017-03-27   \n",
       "1592   DIB018049     Q9UGI6     6292       KCNN3    2017-03-27   \n",
       "1593   DIB018049     Q9UGI6     6292       KCNN3    2017-03-27   \n",
       "\n",
       "     interaction_type        pmid source_name  \n",
       "0              target  PMC4702870         TTD  \n",
       "1              target  PMC4702870         TTD  \n",
       "2              target  PMC4702870         TTD  \n",
       "3              target  PMC4702870         TTD  \n",
       "4              target  PMC4702870         TTD  \n",
       "5              target  PMC4702870         TTD  \n",
       "6              target  PMC4702870         TTD  \n",
       "7              target  PMC4702870         TTD  \n",
       "8              target  PMC4702870         TTD  \n",
       "9              target  PMC4702870         TTD  \n",
       "10             target  PMC4702870         TTD  \n",
       "11             target  PMC4702870         TTD  \n",
       "12             target  PMC4702870         TTD  \n",
       "13             target  PMC4702870         TTD  \n",
       "14             target  PMC4702870         TTD  \n",
       "15             target  PMC4702870         TTD  \n",
       "16             target  PMC4702870         TTD  \n",
       "17             target  PMC4702870         TTD  \n",
       "18             target  PMC4702870         TTD  \n",
       "19             target  PMC4702870         TTD  \n",
       "20             target  PMC4702870         TTD  \n",
       "21             target  PMC4702870         TTD  \n",
       "22             target  PMC4702870         TTD  \n",
       "23             target  PMC4702870         TTD  \n",
       "24             target  PMC4702870         TTD  \n",
       "25             target  PMC4702870         TTD  \n",
       "26             target  PMC4702870         TTD  \n",
       "27             target  PMC4702870         TTD  \n",
       "28             target  PMC4702870         TTD  \n",
       "29             target  PMC4702870         TTD  \n",
       "...               ...         ...         ...  \n",
       "1564           target  PMC4702870         TTD  \n",
       "1565           target  PMC4702870         TTD  \n",
       "1566           target  PMC4702870         TTD  \n",
       "1567           target  PMC4702870         TTD  \n",
       "1568           target  PMC4702870         TTD  \n",
       "1569           target  PMC4702870         TTD  \n",
       "1570           target  PMC4702870         TTD  \n",
       "1571           target  PMC4702870         TTD  \n",
       "1572           target  PMC4702870         TTD  \n",
       "1573           target  PMC4702870         TTD  \n",
       "1574           target  PMC4702870         TTD  \n",
       "1575           target  PMC4702870         TTD  \n",
       "1576           target  PMC4702870         TTD  \n",
       "1577           target  PMC4702870         TTD  \n",
       "1578           target  PMC4702870         TTD  \n",
       "1579           target  PMC4702870         TTD  \n",
       "1580           target  PMC4702870         TTD  \n",
       "1581           target  PMC4702870         TTD  \n",
       "1582           target  PMC4702870         TTD  \n",
       "1583           target  PMC4702870         TTD  \n",
       "1584           target  PMC4702870         TTD  \n",
       "1585           target  PMC4702870         TTD  \n",
       "1586           target  PMC4702870         TTD  \n",
       "1587           target  PMC4702870         TTD  \n",
       "1588           target  PMC4702870         TTD  \n",
       "1589           target  PMC4702870         TTD  \n",
       "1590           target  PMC4702870         TTD  \n",
       "1591           target  PMC4702870         TTD  \n",
       "1592           target  PMC4702870         TTD  \n",
       "1593           target  PMC4702870         TTD  \n",
       "\n",
       "[1594 rows x 12 columns]"
      ]
     },
     "execution_count": 60,
     "metadata": {},
     "output_type": "execute_result"
    }
   ],
   "source": [
    "drug2gene_ttd"
   ]
  },
  {
   "cell_type": "code",
   "execution_count": 61,
   "metadata": {
    "collapsed": true,
    "deletable": true,
    "editable": true
   },
   "outputs": [],
   "source": [
    "drug_data_containers[db_name] = drug2gene_ttd"
   ]
  },
  {
   "cell_type": "markdown",
   "metadata": {
    "deletable": true,
    "editable": true
   },
   "source": [
    "## IUPHAR"
   ]
  },
  {
   "cell_type": "code",
   "execution_count": 4,
   "metadata": {
    "collapsed": true,
    "deletable": true,
    "editable": true,
    "run_control": {
     "frozen": false,
     "read_only": false
    }
   },
   "outputs": [],
   "source": [
    "IUPHAR_INTERACTIONS_DOWNLOAD=\"http://www.guidetopharmacology.org/DATA/interactions.csv\"\n",
    "IUPHAR_HGNC_MAPPING_DOWNLOAD=\"http://www.guidetopharmacology.org/DATA/GtP_to_HGNC_mapping.csv\"\n",
    "IUPHAR_LIGANDS_DOWNLOAD=\"http://www.guidetopharmacology.org/DATA/ligands.csv\""
   ]
  },
  {
   "cell_type": "code",
   "execution_count": 5,
   "metadata": {
    "collapsed": false,
    "deletable": true,
    "editable": true,
    "run_control": {
     "frozen": false,
     "read_only": false
    }
   },
   "outputs": [
    {
     "name": "stdout",
     "output_type": "stream",
     "text": [
      "8832 ligands in IUPHAR.\n",
      "0\n",
      "500\n",
      "1000\n",
      "2000\n",
      "2500\n",
      "3000\n",
      "3500\n",
      "4000\n",
      "4500\n",
      "5000\n",
      "5500\n",
      "6000\n",
      "6500\n",
      "7000\n",
      "7500\n",
      "8000\n",
      "6608  ligands without drugbank id.\n"
     ]
    }
   ],
   "source": [
    "iuphar_ligands = pd.read_csv(IUPHAR_LIGANDS_DOWNLOAD)\n",
    "drug_ids = iuphar_ligands[\"Ligand id\"].tolist()\n",
    "\n",
    "xrefs_drugs = []\n",
    "url_db_xlink_base = \"http://www.guidetopharmacology.org/services/ligands/{}/databaseLinks\"\n",
    "missed = []\n",
    "iuphar2drugbank = []\n",
    "print(len(drug_ids), \"ligands in IUPHAR.\")\n",
    "\n",
    "for i, x in enumerate(drug_ids):\n",
    "    r = requests.get(url_db_xlink_base.format(x))\n",
    "    if r.status_code == 200:\n",
    "        if i % 500 == 0:\n",
    "            print(i)\n",
    "        drugbank_ids = [d[\"accession\"] for d in r.json() if d['database'] == 'DrugBank Ligand']\n",
    "        if len(drugbank_ids) > 0:\n",
    "            for d in drugbank_ids:\n",
    "                iuphar2drugbank.append([x, d])\n",
    "        else:\n",
    "            missed.append(x)\n",
    "\n",
    "iuphar2drugbank = pd.DataFrame(iuphar2drugbank, columns=[\"iuphar_id\", \"drugbank_id\"])\n",
    "print(len(set(missed)), \" ligands without drugbank id.\")"
   ]
  },
  {
   "cell_type": "code",
   "execution_count": 64,
   "metadata": {
    "collapsed": true,
    "deletable": true,
    "editable": true,
    "run_control": {
     "frozen": false,
     "read_only": false
    }
   },
   "outputs": [],
   "source": [
    "iuphar2hgnc = pd.read_csv(IUPHAR_HGNC_MAPPING_DOWNLOAD)"
   ]
  },
  {
   "cell_type": "code",
   "execution_count": 65,
   "metadata": {
    "collapsed": false,
    "deletable": true,
    "editable": true,
    "run_control": {
     "frozen": false,
     "read_only": false
    }
   },
   "outputs": [
    {
     "name": "stderr",
     "output_type": "stream",
     "text": [
      "/Users/Heisenberg/anaconda/envs/clinicalreporting/lib/python3.5/site-packages/IPython/core/interactiveshell.py:2717: DtypeWarning: Columns (4,6,7,20,31) have mixed types. Specify dtype option on import or set low_memory=False.\n",
      "  interactivity=interactivity, compiler=compiler, result=result)\n"
     ]
    }
   ],
   "source": [
    "iuphar_interactions = pd.read_csv(IUPHAR_INTERACTIONS_DOWNLOAD)\\\n",
    "                        .rename(columns={'type': 'target_action',\n",
    "                                         'action': 'target_action_detailed',\n",
    "                                         'pubmed_id': 'pmid',\n",
    "                                         'target': 'target_name',\n",
    "                                         'target_species': 'target_organism',\n",
    "                                         'target_gene_symbol': 'gene_symbol',\n",
    "                                         'target_uniprot': 'uniprot_id',\n",
    "                                         'ligand': 'drug_name',\n",
    "                                         'target_id': 'iuphar_id'})"
   ]
  },
  {
   "cell_type": "code",
   "execution_count": 66,
   "metadata": {
    "collapsed": false,
    "deletable": true,
    "editable": true,
    "run_control": {
     "frozen": false,
     "read_only": false
    }
   },
   "outputs": [],
   "source": [
    "drug2gene_iuphar = iuphar_interactions.merge(iuphar2hgnc[['iuphar_id', 'hgnc_id']],\n",
    "                                             left_on=\"iuphar_id\", right_on=\"iuphar_id\")\\\n",
    "                                      .merge(iuphar2drugbank,\n",
    "                                             left_on=\"ligand_id\", right_on=\"iuphar_id\")"
   ]
  },
  {
   "cell_type": "code",
   "execution_count": 67,
   "metadata": {
    "collapsed": false,
    "deletable": true,
    "editable": true,
    "run_control": {
     "frozen": false,
     "read_only": false
    }
   },
   "outputs": [],
   "source": [
    "drug2gene_iuphar = drug2gene_iuphar.loc[drug2gene_iuphar.target_organism == 'Human']"
   ]
  },
  {
   "cell_type": "code",
   "execution_count": 68,
   "metadata": {
    "collapsed": false,
    "deletable": true,
    "editable": true,
    "run_control": {
     "frozen": false,
     "read_only": false
    }
   },
   "outputs": [],
   "source": [
    "drug2gene_iuphar = drug2gene_iuphar[[x for x in drug2gene_iuphar.columns\n",
    "                                     if not x.startswith(\"target_ligand\") and not x.endswith(\"_x\")\n",
    "                                     and not x.endswith(\"_y\") and not \"original\" in x\n",
    "                                     and not x in ['ligand_gene_symbol', 'ligand_species', 'ligand_pubchem_sid']]]"
   ]
  },
  {
   "cell_type": "code",
   "execution_count": 69,
   "metadata": {
    "collapsed": true,
    "deletable": true,
    "editable": true
   },
   "outputs": [],
   "source": [
    "db_name = \"IUPHAR\"\n",
    "interaction_type = 'target'\n",
    "drug2gene_iuphar = drug2gene_iuphar.assign(source_name=db_name, interaction_type=interaction_type,\n",
    "                                           download_date=datetime.date.today().strftime(\"%Y-%m-%d\"))\n"
   ]
  },
  {
   "cell_type": "code",
   "execution_count": 70,
   "metadata": {
    "collapsed": true,
    "deletable": true,
    "editable": true
   },
   "outputs": [],
   "source": [
    "drug_data_containers[db_name] = drug2gene_iuphar"
   ]
  },
  {
   "cell_type": "markdown",
   "metadata": {
    "deletable": true,
    "editable": true
   },
   "source": [
    "## Santos dataset\n",
    "this is the supplement from the following paper. A frequently maintained version should be available on Pharos, but downloading the relevant data would require downloading and extracting the database dump first.\n"
   ]
  },
  {
   "cell_type": "code",
   "execution_count": 10,
   "metadata": {
    "collapsed": true,
    "deletable": true,
    "editable": true,
    "run_control": {
     "frozen": false,
     "read_only": false
    }
   },
   "outputs": [],
   "source": [
    "SANTOS_SUPPLEMENT_DOWNLOAD=\"http://www.nature.com/nrd/journal/v16/n1/extref/nrd.2016.230-s2.xlsx\""
   ]
  },
  {
   "cell_type": "code",
   "execution_count": 11,
   "metadata": {
    "collapsed": false,
    "deletable": true,
    "editable": true,
    "run_control": {
     "frozen": false,
     "read_only": false
    }
   },
   "outputs": [],
   "source": [
    "rename_cols = {\"ACCESSION\": \"uniprot_id\",\n",
    "               \"ORGANISM\": \"target_species\",\n",
    "               \"PROTEIN_NAME\": \"target_name\",\n",
    "               \"PARENT_PREF_NAME\": \"drug_name\",\n",
    "#                                       \"PARENT_PREF_NAME\": \"drug_name\",\n",
    "               \"MECHANISM_OF_ACTION\": \"action_comment\"}\n",
    "drug2gene_santos = pd.read_excel(SANTOS_SUPPLEMENT_DOWNLOAD)\\\n",
    "                     .rename(columns=rename_cols)"
   ]
  },
  {
   "cell_type": "code",
   "execution_count": 12,
   "metadata": {
    "collapsed": false,
    "deletable": true,
    "editable": true,
    "run_control": {
     "frozen": false,
     "read_only": false
    }
   },
   "outputs": [],
   "source": [
    "drug2gene_santos = drug2gene_santos.loc[drug2gene_santos[\"target_species\"] == \"Homo sapiens\"]\n",
    "drug2gene_santos = drug2gene_santos.dropna(subset=[\"uniprot_id\"])\n",
    "drug2gene_santos[\"drug_name\"] = drug2gene_santos[\"drug_name\"].str.lower()"
   ]
  },
  {
   "cell_type": "code",
   "execution_count": 13,
   "metadata": {
    "collapsed": false,
    "deletable": true,
    "editable": true,
    "run_control": {
     "frozen": false,
     "read_only": false
    }
   },
   "outputs": [
    {
     "ename": "NameError",
     "evalue": "name 'drugbank_synonyms' is not defined",
     "output_type": "error",
     "traceback": [
      "\u001b[0;31m---------------------------------------------------------------------------\u001b[0m",
      "\u001b[0;31mNameError\u001b[0m                                 Traceback (most recent call last)",
      "\u001b[0;32m<ipython-input-13-1566a1c01bbe>\u001b[0m in \u001b[0;36m<module>\u001b[0;34m()\u001b[0m\n\u001b[0;32m----> 1\u001b[0;31m \u001b[0mdrug2gene_santos\u001b[0m \u001b[0;34m=\u001b[0m \u001b[0mdrug2gene_santos\u001b[0m\u001b[0;34m.\u001b[0m\u001b[0mmerge\u001b[0m\u001b[0;34m(\u001b[0m\u001b[0mdrugbank_synonyms\u001b[0m\u001b[0;34m,\u001b[0m \u001b[0mleft_on\u001b[0m\u001b[0;34m=\u001b[0m\u001b[0;34m\"drug_name\"\u001b[0m\u001b[0;34m,\u001b[0m \u001b[0mright_on\u001b[0m\u001b[0;34m=\u001b[0m\u001b[0;34m\"name\"\u001b[0m\u001b[0;34m)\u001b[0m                                   \u001b[0;34m.\u001b[0m\u001b[0mrename\u001b[0m\u001b[0;34m(\u001b[0m\u001b[0mcolumns\u001b[0m\u001b[0;34m=\u001b[0m\u001b[0;34m{\u001b[0m\u001b[0;34m\"DrugBank ID\"\u001b[0m\u001b[0;34m:\u001b[0m \u001b[0;34m\"drugbank_id\"\u001b[0m\u001b[0;34m}\u001b[0m\u001b[0;34m)\u001b[0m\u001b[0;34m\u001b[0m\u001b[0m\n\u001b[0m",
      "\u001b[0;31mNameError\u001b[0m: name 'drugbank_synonyms' is not defined"
     ]
    }
   ],
   "source": [
    "drug2gene_santos = drug2gene_santos.merge(drugbank_synonyms, left_on=\"drug_name\", right_on=\"name\")\\\n",
    "                                   .rename(columns={\"DrugBank ID\": \"drugbank_id\"})"
   ]
  },
  {
   "cell_type": "code",
   "execution_count": 75,
   "metadata": {
    "collapsed": false,
    "deletable": true,
    "editable": true
   },
   "outputs": [
    {
     "data": {
      "text/plain": [
       "['uniprot_id', 'target_name', 'action_comment', 'target_species', 'drug_name']"
      ]
     },
     "execution_count": 75,
     "metadata": {},
     "output_type": "execute_result"
    }
   ],
   "source": [
    "list(rename_cols.values())"
   ]
  },
  {
   "cell_type": "code",
   "execution_count": 76,
   "metadata": {
    "collapsed": false,
    "deletable": true,
    "editable": true,
    "run_control": {
     "frozen": false,
     "read_only": false
    }
   },
   "outputs": [],
   "source": [
    "drug2gene_santos = drug2gene_santos[list(rename_cols.values()) + [\"drugbank_id\"]]\\\n",
    "    .merge(genes2uniprot, left_on=\"uniprot_id\", right_on=\"uniprot_ids\")\\\n",
    "    .drop(\"uniprot_ids\", axis=1)\\\n",
    "    .merge(genes[[\"hgnc_id\", \"gene_symbol\"]], left_on=\"hgnc_id\", right_on=\"hgnc_id\",\n",
    "                  suffixes=[\"\", \"_dup\"])\n"
   ]
  },
  {
   "cell_type": "code",
   "execution_count": 9,
   "metadata": {
    "collapsed": false,
    "deletable": true,
    "editable": true,
    "run_control": {
     "frozen": false,
     "read_only": false
    }
   },
   "outputs": [
    {
     "ename": "NameError",
     "evalue": "name 'drug2gene_santos' is not defined",
     "output_type": "error",
     "traceback": [
      "\u001b[0;31m---------------------------------------------------------------------------\u001b[0m",
      "\u001b[0;31mNameError\u001b[0m                                 Traceback (most recent call last)",
      "\u001b[0;32m<ipython-input-9-187ee790e560>\u001b[0m in \u001b[0;36m<module>\u001b[0;34m()\u001b[0m\n\u001b[1;32m      2\u001b[0m \u001b[0mpmid\u001b[0m \u001b[0;34m=\u001b[0m \u001b[0;34m\"27910877\"\u001b[0m\u001b[0;34m\u001b[0m\u001b[0m\n\u001b[1;32m      3\u001b[0m \u001b[0minteraction_type\u001b[0m \u001b[0;34m=\u001b[0m \u001b[0;34m'target'\u001b[0m\u001b[0;34m\u001b[0m\u001b[0m\n\u001b[0;32m----> 4\u001b[0;31m drug2gene_santos = drug2gene_santos.assign(source_name=db_name, pmid=pmid,\n\u001b[0m\u001b[1;32m      5\u001b[0m                                            \u001b[0mdownload_date\u001b[0m\u001b[0;34m=\u001b[0m\u001b[0mdatetime\u001b[0m\u001b[0;34m.\u001b[0m\u001b[0mdate\u001b[0m\u001b[0;34m.\u001b[0m\u001b[0mtoday\u001b[0m\u001b[0;34m(\u001b[0m\u001b[0;34m)\u001b[0m\u001b[0;34m.\u001b[0m\u001b[0mstrftime\u001b[0m\u001b[0;34m(\u001b[0m\u001b[0;34m\"%Y-%m-%d\"\u001b[0m\u001b[0;34m)\u001b[0m\u001b[0;34m,\u001b[0m\u001b[0;34m\u001b[0m\u001b[0m\n\u001b[1;32m      6\u001b[0m                                            interaction_type=interaction_type)\n",
      "\u001b[0;31mNameError\u001b[0m: name 'drug2gene_santos' is not defined"
     ]
    }
   ],
   "source": [
    "db_name = \"Santos\"\n",
    "pmid = \"27910877\"\n",
    "interaction_type = 'target'\n",
    "drug2gene_santos = drug2gene_santos.assign(source_name=db_name, pmid=pmid,\n",
    "                                           download_date=datetime.date.today().strftime(\"%Y-%m-%d\"),\n",
    "                                           interaction_type=interaction_type)"
   ]
  },
  {
   "cell_type": "code",
   "execution_count": 8,
   "metadata": {
    "collapsed": false,
    "deletable": true,
    "editable": true
   },
   "outputs": [
    {
     "ename": "NameError",
     "evalue": "name 'drug2gene_santos' is not defined",
     "output_type": "error",
     "traceback": [
      "\u001b[0;31m---------------------------------------------------------------------------\u001b[0m",
      "\u001b[0;31mNameError\u001b[0m                                 Traceback (most recent call last)",
      "\u001b[0;32m<ipython-input-8-e0bc077e1212>\u001b[0m in \u001b[0;36m<module>\u001b[0;34m()\u001b[0m\n\u001b[0;32m----> 1\u001b[0;31m \u001b[0mdrug_data_containers\u001b[0m\u001b[0;34m[\u001b[0m\u001b[0mdb_name\u001b[0m\u001b[0;34m]\u001b[0m \u001b[0;34m=\u001b[0m \u001b[0mdrug2gene_santos\u001b[0m\u001b[0;34m\u001b[0m\u001b[0m\n\u001b[0m",
      "\u001b[0;31mNameError\u001b[0m: name 'drug2gene_santos' is not defined"
     ]
    }
   ],
   "source": [
    "drug_data_containers[db_name] = drug2gene_santos"
   ]
  },
  {
   "cell_type": "code",
   "execution_count": 7,
   "metadata": {
    "collapsed": false,
    "deletable": true,
    "editable": true
   },
   "outputs": [
    {
     "ename": "NameError",
     "evalue": "name 'drug_data_containers' is not defined",
     "output_type": "error",
     "traceback": [
      "\u001b[0;31m---------------------------------------------------------------------------\u001b[0m",
      "\u001b[0;31mNameError\u001b[0m                                 Traceback (most recent call last)",
      "\u001b[0;32m<ipython-input-7-0166a05f1db4>\u001b[0m in \u001b[0;36m<module>\u001b[0;34m()\u001b[0m\n\u001b[1;32m      4\u001b[0m                 u'pmid', u'source_name', u'download_date' ]\n\u001b[1;32m      5\u001b[0m drug_df_final = reduce(lambda left,right: pd.concat([left,right], ignore_index=True,\n\u001b[0;32m----> 6\u001b[0;31m                                                     join='outer'), drug_data_containers.values())[include_cols]\n\u001b[0m\u001b[1;32m      7\u001b[0m \u001b[0mdrug_df_final\u001b[0m \u001b[0;34m=\u001b[0m \u001b[0mdrug_df_final\u001b[0m\u001b[0;34m.\u001b[0m\u001b[0mreplace\u001b[0m\u001b[0;34m(\u001b[0m\u001b[0;34mr'\\s'\u001b[0m\u001b[0;34m,\u001b[0m \u001b[0mnp\u001b[0m\u001b[0;34m.\u001b[0m\u001b[0mnan\u001b[0m\u001b[0;34m,\u001b[0m \u001b[0mregex\u001b[0m\u001b[0;34m=\u001b[0m\u001b[0;32mTrue\u001b[0m\u001b[0;34m)\u001b[0m\u001b[0;34m.\u001b[0m\u001b[0mreplace\u001b[0m\u001b[0;34m(\u001b[0m\u001b[0;34m''\u001b[0m\u001b[0;34m,\u001b[0m\u001b[0mnp\u001b[0m\u001b[0;34m.\u001b[0m\u001b[0mnan\u001b[0m\u001b[0;34m)\u001b[0m\u001b[0;34m\u001b[0m\u001b[0m\n",
      "\u001b[0;31mNameError\u001b[0m: name 'drug_data_containers' is not defined"
     ]
    }
   ],
   "source": [
    "include_cols = [u'hgnc_id', u'gene_symbol', u'drugbank_id', u'drug_name',\n",
    "                u'target_action', 'target_id', u'interaction_type', u'target_action_detailed',\n",
    "                u'primary_target', 'target_known_action',\n",
    "                u'pmid', u'source_name', u'download_date' ]\n",
    "drug_df_final = reduce(lambda left,right: pd.concat([left,right], ignore_index=True,\n",
    "                                                    join='outer'), drug_data_containers.values())[include_cols]\n",
    "drug_df_final = drug_df_final.replace(r'\\s', np.nan, regex=True).replace('',np.nan)"
   ]
  },
  {
   "cell_type": "code",
   "execution_count": 6,
   "metadata": {
    "collapsed": false,
    "deletable": true,
    "editable": true
   },
   "outputs": [
    {
     "ename": "NameError",
     "evalue": "name 'drug_df_final' is not defined",
     "output_type": "error",
     "traceback": [
      "\u001b[0;31m---------------------------------------------------------------------------\u001b[0m",
      "\u001b[0;31mNameError\u001b[0m                                 Traceback (most recent call last)",
      "\u001b[0;32m<ipython-input-6-a11535e5b6e1>\u001b[0m in \u001b[0;36m<module>\u001b[0;34m()\u001b[0m\n\u001b[0;32m----> 1\u001b[0;31m \u001b[0mdrug_df_final\u001b[0m \u001b[0;34m=\u001b[0m \u001b[0mdrug_df_final\u001b[0m\u001b[0;34m.\u001b[0m\u001b[0mmerge\u001b[0m\u001b[0;34m(\u001b[0m\u001b[0mpd\u001b[0m\u001b[0;34m.\u001b[0m\u001b[0mDataFrame\u001b[0m\u001b[0;34m(\u001b[0m\u001b[0mlist\u001b[0m\u001b[0;34m(\u001b[0m\u001b[0mdrug_atc\u001b[0m\u001b[0;34m.\u001b[0m\u001b[0mitems\u001b[0m\u001b[0;34m(\u001b[0m\u001b[0;34m)\u001b[0m\u001b[0;34m)\u001b[0m\u001b[0;34m,\u001b[0m \u001b[0mcolumns\u001b[0m\u001b[0;34m=\u001b[0m\u001b[0;34m[\u001b[0m\u001b[0;34m\"drugbank_id\"\u001b[0m\u001b[0;34m,\u001b[0m \u001b[0;34m\"ATC_code\"\u001b[0m\u001b[0;34m]\u001b[0m\u001b[0;34m)\u001b[0m\u001b[0;34m)\u001b[0m\u001b[0;34m\u001b[0m\u001b[0m\n\u001b[0m",
      "\u001b[0;31mNameError\u001b[0m: name 'drug_df_final' is not defined"
     ]
    }
   ],
   "source": [
    "drug_df_final = drug_df_final.merge(pd.DataFrame(list(drug_atc.items()), columns=[\"drugbank_id\", \"ATC_code\"]))"
   ]
  },
  {
   "cell_type": "code",
   "execution_count": null,
   "metadata": {
    "collapsed": true,
    "deletable": true,
    "editable": true
   },
   "outputs": [],
   "source": [
    "drug_df_final['drug_name'] = drug_df_final['drug_name'].to_string()"
   ]
  },
  {
   "cell_type": "code",
   "execution_count": null,
   "metadata": {
    "collapsed": false,
    "deletable": true,
    "editable": true
   },
   "outputs": [],
   "source": [
    "group_cols = [\"hgnc_id\"]\n",
    "exclude_cols = group_cols + [\"gene_symbol\"]\n",
    "groups = drug_df_final.groupby(group_cols)\n",
    "for n, g in groups:\n",
    "    all_genes[int(n)]['drugs'] = g[[c for c in g.columns if c not in exclude_cols]].to_dict('records')   "
   ]
  },
  {
   "cell_type": "markdown",
   "metadata": {
    "deletable": true,
    "editable": true
   },
   "source": [
    "# Dump json to file - for fun"
   ]
  },
  {
   "cell_type": "code",
   "execution_count": null,
   "metadata": {
    "collapsed": true,
    "deletable": true,
    "editable": true
   },
   "outputs": [],
   "source": [
    "import json"
   ]
  },
  {
   "cell_type": "code",
   "execution_count": null,
   "metadata": {
    "collapsed": true,
    "deletable": true,
    "editable": true
   },
   "outputs": [],
   "source": [
    "all_genes_json = json.dumps(all_genes.values(), indent=4, sort_keys=True)"
   ]
  },
  {
   "cell_type": "code",
   "execution_count": null,
   "metadata": {
    "collapsed": true,
    "deletable": true,
    "editable": true
   },
   "outputs": [],
   "source": [
    "with open(\"../driver_db_dump.json\", 'w') as f:\n",
    "    f.write(all_genes_json)"
   ]
  },
  {
   "cell_type": "markdown",
   "metadata": {
    "deletable": true,
    "editable": true
   },
   "source": [
    "# MongoDB stuff\n",
    "\n",
    "Install MongoDB: https://docs.mongodb.com/getting-started/shell/tutorial/install-mongodb-on-os-x/\n",
    "You could just save everyting to a .json and import it at the command line: https://docs.mongodb.com/getting-started/shell/import-data/\n",
    "\n",
    "Or,Use pymongo to place the documents into the database one by one. here is a link to a helpful tutorial: http://api.mongodb.com/python/current/tutorial.html\n",
    "\n",
    "You can use ```conda install pymongo```\n",
    "\n",
    "Although the already mentioned tutorial seems quicker, for completeness: https://docs.mongodb.com/getting-started/python/introduction/\n",
    "\n",
    "### MongoDB Compass\n",
    "It's a seperate install. Intall after you have mongoDB installed. You'll need a running instance of your db up and running. You can do this by calling ```mongod``` on the command line. Then open up Compass and you'll see all the databases that you currently have running. After running the code below, you won't see the changes immediatly in a running Compass session, you'll have to press the sync button somewhere on the top left hand side of the interface."
   ]
  },
  {
   "cell_type": "code",
   "execution_count": null,
   "metadata": {
    "collapsed": true,
    "deletable": true,
    "editable": true,
    "run_control": {
     "frozen": false,
     "read_only": false
    }
   },
   "outputs": [],
   "source": [
    "# need pymongo\n",
    "#import pymongo\n",
    "#from pymongo import MongoClient"
   ]
  },
  {
   "cell_type": "code",
   "execution_count": null,
   "metadata": {
    "collapsed": true,
    "deletable": true,
    "editable": true,
    "run_control": {
     "frozen": false,
     "read_only": false
    }
   },
   "outputs": [],
   "source": [
    "#client = MongoClient()\n",
    "# you can call the database what you want; I chose \"drivers\"\n",
    "#db = client['drivers']\n",
    "# the collection will be called posts; change accordingly\n",
    "#posts = db.cancer_genes"
   ]
  },
  {
   "cell_type": "markdown",
   "metadata": {
    "deletable": true,
    "editable": true
   },
   "source": [
    "# alright pop it into the database"
   ]
  },
  {
   "cell_type": "code",
   "execution_count": null,
   "metadata": {
    "collapsed": false,
    "deletable": true,
    "editable": true
   },
   "outputs": [],
   "source": [
    "#posts.insert_many(all_genes.values())"
   ]
  },
  {
   "cell_type": "code",
   "execution_count": null,
   "metadata": {
    "collapsed": true,
    "deletable": true,
    "editable": true,
    "run_control": {
     "frozen": false,
     "read_only": false
    }
   },
   "outputs": [],
   "source": [
    "# for i in range(len(df_scored)):\n",
    "#     posts.insert_one(df_scored.iloc[i].to_dict())"
   ]
  },
  {
   "cell_type": "markdown",
   "metadata": {
    "deletable": true,
    "editable": true
   },
   "source": [
    "# Check that it happened with example query"
   ]
  },
  {
   "cell_type": "code",
   "execution_count": null,
   "metadata": {
    "collapsed": false,
    "deletable": true,
    "editable": true
   },
   "outputs": [],
   "source": [
    "#for post in posts.find({\"gene_symbol\": \"BRAF\"}):\n",
    "#    print(post)"
   ]
  },
  {
   "cell_type": "code",
   "execution_count": null,
   "metadata": {
    "collapsed": false,
    "deletable": true,
    "editable": true
   },
   "outputs": [],
   "source": [
    "#post[\"cancer\"]"
   ]
  },
  {
   "cell_type": "code",
   "execution_count": null,
   "metadata": {
    "collapsed": false,
    "deletable": true,
    "editable": true
   },
   "outputs": [],
   "source": [
    "#found_targets = []\n",
    "#for post in posts.find({\"drugs\":  {\"$elemMatch\": {\"drugbank_id\": \"DB00002\"}}}):\n",
    "    found_targets.append((post[\"gene_symbol\"])\n",
    "    print(post)"
   ]
  },
  {
   "cell_type": "code",
   "execution_count": null,
   "metadata": {
    "collapsed": false,
    "deletable": true,
    "editable": true
   },
   "outputs": [],
   "source": [
    "#post[\"gene_symbol\"]"
   ]
  },
  {
   "cell_type": "code",
   "execution_count": null,
   "metadata": {
    "collapsed": false,
    "deletable": true,
    "editable": true
   },
   "outputs": [],
   "source": [
    "#found_targets"
   ]
  },
  {
   "cell_type": "code",
   "execution_count": null,
   "metadata": {
    "collapsed": false,
    "deletable": true,
    "editable": true
   },
   "outputs": [],
   "source": [
    "#len(post[\"drugs\"]), post[\"drugs\"]"
   ]
  },
  {
   "cell_type": "code",
   "execution_count": null,
   "metadata": {
    "collapsed": true,
    "deletable": true,
    "editable": true,
    "run_control": {
     "frozen": false,
     "read_only": false
    }
   },
   "outputs": [],
   "source": []
  }
 ],
 "metadata": {
  "hide_input": false,
  "kernelspec": {
   "display_name": "Python 2",
   "language": "python",
   "name": "python2"
  },
  "language_info": {
   "codemirror_mode": {
    "name": "ipython",
    "version": 2
   },
   "file_extension": ".py",
   "mimetype": "text/x-python",
   "name": "python",
   "nbconvert_exporter": "python",
   "pygments_lexer": "ipython2",
   "version": "2.7.12"
  },
  "toc": {
   "toc_cell": false,
   "toc_number_sections": true,
   "toc_threshold": 6,
   "toc_window_display": false
  }
 },
 "nbformat": 4,
 "nbformat_minor": 2
}
