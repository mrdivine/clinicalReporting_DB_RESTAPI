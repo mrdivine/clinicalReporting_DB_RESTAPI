{
 "cells": [
  {
   "cell_type": "markdown",
   "metadata": {
    "deletable": true,
    "editable": true
   },
   "source": [
    "# Collect Driver Genes from Various Sources\n",
    "\n",
    "Collect the various driver genes from the various sources listed in the README.md, placing them into\n",
    "the predifined json-schema outlined in \"driversValidationSchemaLight.json\". Start\n",
    "at the top of the list in the README, and just collect...\n",
    "\n",
    "When collecting, try to stay with a particular column naming\n",
    "\n",
    "\"gene_symbol\",\"driver_type\",\"pmid\",\"source_name\""
   ]
  },
  {
   "cell_type": "code",
   "execution_count": 1,
   "metadata": {
    "collapsed": true,
    "deletable": true,
    "editable": true,
    "run_control": {
     "frozen": false,
     "read_only": false
    }
   },
   "outputs": [],
   "source": [
    "import pandas as pd\n",
    "import os\n",
    "import datetime\n",
    "import numpy as np"
   ]
  },
  {
   "cell_type": "code",
   "execution_count": 2,
   "metadata": {
    "collapsed": false,
    "deletable": true,
    "editable": true,
    "run_control": {
     "frozen": false,
     "read_only": false
    }
   },
   "outputs": [],
   "source": [
    "import lxml.etree as ET\n",
    "import codecs\n",
    "import subprocess\n",
    "from rdkit import Chem\n",
    "import gzip\n",
    "import requests\n",
    "from functools import reduce"
   ]
  },
  {
   "cell_type": "code",
   "execution_count": 3,
   "metadata": {
    "collapsed": true,
    "deletable": true,
    "editable": true,
    "run_control": {
     "frozen": false,
     "read_only": false
    }
   },
   "outputs": [],
   "source": [
    "def combine_cols(series, colname):\n",
    "    ret_val = np.nan\n",
    "    for col in colname:\n",
    "        if not pd.isnull(series[col]):\n",
    "            ret_val = series[col]\n",
    "            break\n",
    "    return ret_val"
   ]
  },
  {
   "cell_type": "code",
   "execution_count": 4,
   "metadata": {
    "collapsed": true,
    "deletable": true,
    "editable": true,
    "run_control": {
     "frozen": false,
     "read_only": false
    }
   },
   "outputs": [],
   "source": [
    "#set data path with your own\n",
    "data_path = \"../../clinicalreporting/drivers/Data/\""
   ]
  },
  {
   "cell_type": "code",
   "execution_count": 146,
   "metadata": {
    "collapsed": true
   },
   "outputs": [],
   "source": [
    "all_genes = pd.read_pickle(data_path + \"all_genes.pkl\")"
   ]
  },
  {
   "cell_type": "code",
   "execution_count": 116,
   "metadata": {
    "collapsed": true
   },
   "outputs": [],
   "source": [
    "genes2uniprot = pd.read_pickle(data_path + \"genes2uniprot.pkl\")"
   ]
  },
  {
   "cell_type": "code",
   "execution_count": 147,
   "metadata": {
    "collapsed": false,
    "deletable": true,
    "editable": true,
    "run_control": {
     "frozen": false,
     "read_only": false
    }
   },
   "outputs": [
    {
     "data": {
      "text/plain": [
       "{'edges': {},\n",
       " 'meta_information': {'alias_symbol': 'ERBB1',\n",
       "  'date_approved_reserved': '1986-01-01',\n",
       "  'date_modified': '2017-03-24',\n",
       "  'date_symbol_changed': nan,\n",
       "  'driver_information': [{'Core pathway': nan,\n",
       "    'Process': nan,\n",
       "    'driver_type': 'Unknown',\n",
       "    'pmid': '14993899',\n",
       "    'source_name': 'Cosmic'},\n",
       "   {'Core pathway': 'PI3K; RAS',\n",
       "    'Process': 'Cell Survival',\n",
       "    'driver_type': 'Oncogene',\n",
       "    'pmid': '23539594',\n",
       "    'source_name': 'Vogelstein'},\n",
       "   {'Core pathway': nan,\n",
       "    'Process': nan,\n",
       "    'driver_type': 'Oncogene',\n",
       "    'pmid': '14681372',\n",
       "    'source_name': 'Uniprot'},\n",
       "   {'Core pathway': nan,\n",
       "    'Process': nan,\n",
       "    'driver_type': 'Oncogene',\n",
       "    'pmid': '25759023',\n",
       "    'source_name': 'Rubio-Perez'}],\n",
       "  'ensembl_gene_id': 'ENSG00000146648',\n",
       "  'entrez_id': 1956.0,\n",
       "  'gene_family': 'Erb-b2 receptor tyrosine kinases',\n",
       "  'gene_symbol': 'EGFR',\n",
       "  'hgnc_id': 3236,\n",
       "  'location': '7p11.2',\n",
       "  'locus_group': 'protein-coding gene',\n",
       "  'locus_type': 'gene with protein product',\n",
       "  'name': 'epidermal growth factor receptor',\n",
       "  'node_type': 'gene',\n",
       "  'prev_symbol': 'ERBB',\n",
       "  'species': 'hsa',\n",
       "  'status': 'Approved',\n",
       "  'uniprot_ids': 'P00533'},\n",
       " 'nodes': {'OncodriveROLE_prob': 'True',\n",
       "  'driver_score': 4.0,\n",
       "  'is_cancer_drug_target': 0,\n",
       "  'is_driver': 1}}"
      ]
     },
     "execution_count": 147,
     "metadata": {},
     "output_type": "execute_result"
    }
   ],
   "source": [
    "all_genes['3236']"
   ]
  },
  {
   "cell_type": "markdown",
   "metadata": {
    "deletable": true,
    "editable": true
   },
   "source": [
    "# Target stuff"
   ]
  },
  {
   "cell_type": "code",
   "execution_count": 27,
   "metadata": {
    "collapsed": true,
    "deletable": true,
    "editable": true,
    "run_control": {
     "frozen": false,
     "read_only": false
    }
   },
   "outputs": [],
   "source": [
    "drug_data_containers = {}"
   ]
  },
  {
   "cell_type": "markdown",
   "metadata": {
    "deletable": true,
    "editable": true
   },
   "source": [
    "## DrugBank"
   ]
  },
  {
   "cell_type": "code",
   "execution_count": 28,
   "metadata": {
    "collapsed": false,
    "deletable": true,
    "editable": true,
    "run_control": {
     "frozen": false,
     "read_only": false
    }
   },
   "outputs": [],
   "source": [
    "DRUGBANK_DOWNLOAD = \"http://www.drugbank.ca/releases/latest/downloads/all-full-database\"\n",
    "DRUGBANK_STRUCTURES_DOWNLOAD = \"http://www.drugbank.ca/releases/latest/downloads/all-structures\"\n",
    "DRUGBANK_XREFS_DOWNLAOD = \"http://www.drugbank.ca/releases/latest/downloads/all-drug-links\"\n",
    "DRUGBANK_USER = \"c.schaerfe@gmail.com\"\n",
    "DRUGBANK_PASSWORD = \"themirrorcracked\""
   ]
  },
  {
   "cell_type": "code",
   "execution_count": 29,
   "metadata": {
    "collapsed": true,
    "deletable": true,
    "editable": true,
    "run_control": {
     "frozen": false,
     "read_only": false
    }
   },
   "outputs": [],
   "source": [
    "DRUGBANK_FILE = os.path.join(data_path, \"drugbank.xml.zip\")\n",
    "DRUGBANK_SDF_FILE = os.path.join(data_path, \"drugbank_molecules.sdf.zip\")\n",
    "DRUGBANK_XREF_FILE = os.path.join(data_path, \"drugbank_xrefs.csv.zip\")"
   ]
  },
  {
   "cell_type": "code",
   "execution_count": 30,
   "metadata": {
    "collapsed": false,
    "deletable": true,
    "editable": true,
    "run_control": {
     "frozen": false,
     "read_only": false
    }
   },
   "outputs": [
    {
     "data": {
      "text/plain": [
       "'../../clinicalreporting/drivers/Data/drugbank.xml.zip'"
      ]
     },
     "execution_count": 30,
     "metadata": {},
     "output_type": "execute_result"
    }
   ],
   "source": [
    "DRUGBANK_FILE"
   ]
  },
  {
   "cell_type": "code",
   "execution_count": 31,
   "metadata": {
    "collapsed": false,
    "deletable": true,
    "editable": true,
    "run_control": {
     "frozen": false,
     "read_only": false
    }
   },
   "outputs": [
    {
     "name": "stdout",
     "output_type": "stream",
     "text": [
      "trying download now for round number 1\n",
      "('xml', 0)\n",
      "('sdf', 0)\n",
      "('xref', 0)\n"
     ]
    }
   ],
   "source": [
    "i = 1\n",
    "exit_code_xml, exit_code_sdf, exit_code_xref = 1, 1, 1\n",
    "while exit_code_xml + exit_code_sdf + exit_code_xref > 0 and i < 11:\n",
    "    print(\"trying download now for round number {}\".format(i))\n",
    "    \n",
    "    if exit_code_xml > 0:\n",
    "        exit_code_xml = subprocess.call(['curl', '-L', '-H', \n",
    "                                         '\"Accept: application/xml\"', \n",
    "                                         '-o', DRUGBANK_FILE,\n",
    "                                         '-u', DRUGBANK_USER + ':' + DRUGBANK_PASSWORD,\n",
    "                                         DRUGBANK_DOWNLOAD])\n",
    " \n",
    "        print(\"xml\", exit_code_xml)\n",
    "    if exit_code_sdf > 0:\n",
    "        exit_code_sdf = subprocess.call(['curl', '-L', \n",
    "                                         '-o', DRUGBANK_SDF_FILE,\n",
    "                                         '-u', DRUGBANK_USER + ':' + DRUGBANK_PASSWORD,\n",
    "                                         DRUGBANK_STRUCTURES_DOWNLOAD])\n",
    "        print(\"sdf\", exit_code_sdf)\n",
    "    if exit_code_xref > 0:\n",
    "        exit_code_xref= subprocess.call(['curl', '-L',\n",
    "                                         '-o', DRUGBANK_XREF_FILE,\n",
    "                                         '-u', DRUGBANK_USER + ':' + DRUGBANK_PASSWORD,\n",
    "                                         DRUGBANK_XREFS_DOWNLAOD])\n",
    " \n",
    "        print(\"xref\", exit_code_xref)\n",
    "    i += 1\n",
    "    "
   ]
  },
  {
   "cell_type": "code",
   "execution_count": 33,
   "metadata": {
    "collapsed": true,
    "deletable": true,
    "editable": true,
    "run_control": {
     "frozen": false,
     "read_only": false
    }
   },
   "outputs": [],
   "source": [
    "if exit_code_xml == 0:\n",
    "    exit_code_xml = subprocess.call(\"unzip -p \" + DRUGBANK_FILE +\" \\*.xml | cat > \" + DRUGBANK_FILE.replace(\".zip\", \"\"), shell=True)\n",
    "if exit_code_sdf == 0:\n",
    "    exit_code_sdf = subprocess.call(\"unzip -p \" + DRUGBANK_SDF_FILE +\" \\*.sdf | cat > \" + DRUGBANK_SDF_FILE.replace(\".zip\", \"\"), shell=True)\n",
    "if exit_code_xref == 0:\n",
    "    exit_code_xref = subprocess.call(\"unzip -p \" + DRUGBANK_XREF_FILE +\" \\*.csv | cat > \" + DRUGBANK_XREF_FILE.replace(\".zip\", \"\"), shell=True)"
   ]
  },
  {
   "cell_type": "code",
   "execution_count": 34,
   "metadata": {
    "collapsed": false,
    "deletable": true,
    "editable": true,
    "run_control": {
     "frozen": false,
     "read_only": false
    }
   },
   "outputs": [
    {
     "name": "stdout",
     "output_type": "stream",
     "text": [
      "0\n"
     ]
    }
   ],
   "source": [
    "print(exit_code_sdf)"
   ]
  },
  {
   "cell_type": "code",
   "execution_count": 35,
   "metadata": {
    "collapsed": false,
    "deletable": true,
    "editable": true,
    "run_control": {
     "frozen": false,
     "read_only": false
    }
   },
   "outputs": [],
   "source": [
    "# i = 0\n",
    "# exit_code_xml, exit_code_sdf, exit_code_xref = 1, 1, 1\n",
    "# while exit_code_sdf  > 0 or i < 10:\n",
    "#     if exit_code_sdf > 0:\n",
    "#         exit_code_sdf = subprocess.call(['curl', '-L', \n",
    "#                                          '-o', DRUGBANK_SDF_FILE,\n",
    "#                                          '-u', DRUGBANK_USER + ':' + DRUGBANK_PASSWORD,\n",
    "#                                          DRUGBANK_STRUCTURES_DOWNLOAD])\n",
    "#         if exit_code_sdf == 0:\n",
    "#             exit_code_sdf = subprocess.call(\"unzip -p \" + DRUGBANK_SDF_FILE +\" \\*.sdf | cat > \" + DRUGBANK_SDF_FILE.replace(\".zip\", \"\"), shell=True)\n",
    "#         print(\"sdf\", exit_code_sdf)\n",
    "#     i += 1\n",
    "#     print(\"trying now for round number {}\".format(i))"
   ]
  },
  {
   "cell_type": "code",
   "execution_count": 36,
   "metadata": {
    "collapsed": false,
    "deletable": true,
    "editable": true,
    "run_control": {
     "frozen": false,
     "read_only": false
    }
   },
   "outputs": [
    {
     "name": "stdout",
     "output_type": "stream",
     "text": [
      "(0, 0, 0)\n"
     ]
    }
   ],
   "source": [
    "print( exit_code_xml, exit_code_sdf, exit_code_xref )"
   ]
  },
  {
   "cell_type": "markdown",
   "metadata": {
    "deletable": true,
    "editable": true
   },
   "source": [
    "Reading the drug molecules"
   ]
  },
  {
   "cell_type": "code",
   "execution_count": 31,
   "metadata": {
    "collapsed": false,
    "deletable": true,
    "editable": true,
    "run_control": {
     "frozen": false,
     "read_only": false
    }
   },
   "outputs": [],
   "source": [
    "DRUGBANK_FILE = DRUGBANK_FILE.replace(\".zip\", \"\")\n",
    "DRUGBANK_SDF_FILE = DRUGBANK_SDF_FILE.replace(\".zip\", \"\")\n",
    "DRUGBANK_XREF_FILE = DRUGBANK_XREF_FILE.replace(\".zip\", \"\")"
   ]
  },
  {
   "cell_type": "code",
   "execution_count": 32,
   "metadata": {
    "collapsed": false,
    "deletable": true,
    "editable": true,
    "run_control": {
     "frozen": false,
     "read_only": false
    }
   },
   "outputs": [
    {
     "data": {
      "text/plain": [
       "'../../clinicalreporting/drivers/Data/drugbank_molecules.sdf'"
      ]
     },
     "execution_count": 32,
     "metadata": {},
     "output_type": "execute_result"
    }
   ],
   "source": [
    "DRUGBANK_SDF_FILE"
   ]
  },
  {
   "cell_type": "code",
   "execution_count": 33,
   "metadata": {
    "collapsed": false,
    "deletable": true,
    "editable": true,
    "run_control": {
     "frozen": false,
     "read_only": false
    }
   },
   "outputs": [],
   "source": [
    "drug_smiles = {}\n",
    "structures = Chem.SDMolSupplier(DRUGBANK_SDF_FILE)\n",
    "for s in structures:\n",
    "    if s is not None:\n",
    "        db_id = s.GetPropsAsDict().get(\"DRUGBANK_ID\")\n",
    "        smi = Chem.MolToSmiles(s)\n",
    "        drug_smiles[db_id] = smi\n",
    "drugbank2smiles = pd.DataFrame(list(drug_smiles.items()), columns=[\"drugbank_id\", \"SMILES\"])"
   ]
  },
  {
   "cell_type": "code",
   "execution_count": 34,
   "metadata": {
    "collapsed": false,
    "deletable": true,
    "editable": true,
    "run_control": {
     "frozen": false,
     "read_only": false
    }
   },
   "outputs": [
    {
     "data": {
      "text/html": [
       "<div>\n",
       "<table border=\"1\" class=\"dataframe\">\n",
       "  <thead>\n",
       "    <tr style=\"text-align: right;\">\n",
       "      <th></th>\n",
       "      <th>drugbank_id</th>\n",
       "      <th>SMILES</th>\n",
       "    </tr>\n",
       "  </thead>\n",
       "  <tbody>\n",
       "    <tr>\n",
       "      <th>0</th>\n",
       "      <td>DB12781</td>\n",
       "      <td>Cn1c(COc2ccc(CC3SC(=O)NC3=O)cc2)nc2ccccc2c1=O</td>\n",
       "    </tr>\n",
       "    <tr>\n",
       "      <th>1</th>\n",
       "      <td>DB12780</td>\n",
       "      <td>O=C(Oc1ccc2c(c1)CCCN2C(=O)C(Cl)Cl)c1ccco1</td>\n",
       "    </tr>\n",
       "    <tr>\n",
       "      <th>2</th>\n",
       "      <td>DB12783</td>\n",
       "      <td>NC(CO)C(O)=NNCc1ccc(O)c(O)c1O</td>\n",
       "    </tr>\n",
       "    <tr>\n",
       "      <th>3</th>\n",
       "      <td>DB12782</td>\n",
       "      <td>OC1(c2ncccn2)CC2CCC(C1)N2C(c1ccccc1Cl)c1ccccc1Cl</td>\n",
       "    </tr>\n",
       "    <tr>\n",
       "      <th>4</th>\n",
       "      <td>DB12785</td>\n",
       "      <td>CC(C)Oc1ccc(-c2nc(OC3CC4C(=O)NC5(C(=O)NS(=O)(=...</td>\n",
       "    </tr>\n",
       "    <tr>\n",
       "      <th>5</th>\n",
       "      <td>DB12784</td>\n",
       "      <td>CC(Nc1cc(-c2cnn(C)c2)cc(Nc2cnccn2)n1)c1ccc(F)cc1</td>\n",
       "    </tr>\n",
       "    <tr>\n",
       "      <th>6</th>\n",
       "      <td>DB12039</td>\n",
       "      <td>Oc1cc(O)c2c(c1)OC(c1ccc(O)c(O)c1)C(O)C2</td>\n",
       "    </tr>\n",
       "    <tr>\n",
       "      <th>7</th>\n",
       "      <td>DB12037</td>\n",
       "      <td>CCC1CC1(NC(=O)C1CC(Oc2cc(-c3csc(NC(C)C)n3)nc3c...</td>\n",
       "    </tr>\n",
       "    <tr>\n",
       "      <th>8</th>\n",
       "      <td>DB12036</td>\n",
       "      <td>C=CC(=O)N1CCC(Oc2nc(Nc3ccc(N4CCC(N5CCN(C)CC5)C...</td>\n",
       "    </tr>\n",
       "    <tr>\n",
       "      <th>9</th>\n",
       "      <td>DB12035</td>\n",
       "      <td>CON(C)Cc1ccc(O)c2c1CC1CC3C(N(C)C)C(O)=C(C(N)=O...</td>\n",
       "    </tr>\n",
       "    <tr>\n",
       "      <th>10</th>\n",
       "      <td>DB12032</td>\n",
       "      <td>CC1CC(CN)(CC(=O)O)CC1C</td>\n",
       "    </tr>\n",
       "    <tr>\n",
       "      <th>11</th>\n",
       "      <td>DB12030</td>\n",
       "      <td>CC(CCC(=O)NC(CCCCNC(=S)Nc1ccc(C2c3ccc(O)cc3Oc3...</td>\n",
       "    </tr>\n",
       "    <tr>\n",
       "      <th>12</th>\n",
       "      <td>DB05107</td>\n",
       "      <td>CC12CCC3C(CCC4CC(O)CCC43C)C1CC(Br)C2=O</td>\n",
       "    </tr>\n",
       "    <tr>\n",
       "      <th>13</th>\n",
       "      <td>DB08426</td>\n",
       "      <td>O=C1C(NS(=O)(=O)c2cc3ncccc3s2)CCN1Cc1cc2ccncc2...</td>\n",
       "    </tr>\n",
       "    <tr>\n",
       "      <th>14</th>\n",
       "      <td>DB05105</td>\n",
       "      <td>Cc1cc(CCCOc2c(C)cc(-c3noc(C(F)(F)F)n3)cc2C)on1</td>\n",
       "    </tr>\n",
       "    <tr>\n",
       "      <th>15</th>\n",
       "      <td>DB05104</td>\n",
       "      <td>CN(C(=O)C(c1ccccc1)c1ccccc1)C(CN1CCC(O)C1)c1cc...</td>\n",
       "    </tr>\n",
       "    <tr>\n",
       "      <th>16</th>\n",
       "      <td>DB05103</td>\n",
       "      <td>CCCC(=O)OCOC(=O)C(C)(C)C</td>\n",
       "    </tr>\n",
       "    <tr>\n",
       "      <th>17</th>\n",
       "      <td>DB05102</td>\n",
       "      <td>CCOC(=O)C=CC(CC1CCNC1=O)NC(=O)C(CC(=O)C(NC(=O)...</td>\n",
       "    </tr>\n",
       "    <tr>\n",
       "      <th>18</th>\n",
       "      <td>DB08421</td>\n",
       "      <td>CC(C)(C)NC(=O)C1CCCCN1</td>\n",
       "    </tr>\n",
       "    <tr>\n",
       "      <th>19</th>\n",
       "      <td>DB05100</td>\n",
       "      <td>CC1(C)SCCN(S(=O)(=O)c2ccc(Oc3ccncc3)cc2)C1C(O)=NO</td>\n",
       "    </tr>\n",
       "    <tr>\n",
       "      <th>20</th>\n",
       "      <td>DB09300</td>\n",
       "      <td>CCCC[N+]1(C)C2CC(OC(=O)C(CO)c3ccccc3)CC1C1OC12...</td>\n",
       "    </tr>\n",
       "    <tr>\n",
       "      <th>21</th>\n",
       "      <td>DB05109</td>\n",
       "      <td>COc1cc2c(cc1O)CCNC21CSC2c3c(OC(C)=O)c(C)c4c(c3...</td>\n",
       "    </tr>\n",
       "    <tr>\n",
       "      <th>22</th>\n",
       "      <td>DB08428</td>\n",
       "      <td>CC(O)C(N)Cc1ccccc1</td>\n",
       "    </tr>\n",
       "    <tr>\n",
       "      <th>23</th>\n",
       "      <td>DB12265</td>\n",
       "      <td>CSc1ccc(OCc2ncc([N+](=O)[O-])n2C)cc1</td>\n",
       "    </tr>\n",
       "    <tr>\n",
       "      <th>24</th>\n",
       "      <td>DB12259</td>\n",
       "      <td>CN(C)CCCNC(=O)C(=CCCCCC(=O)NO)COc1cccc2ccccc12</td>\n",
       "    </tr>\n",
       "    <tr>\n",
       "      <th>25</th>\n",
       "      <td>DB01958</td>\n",
       "      <td>CC(C)(C)c1ccc(Sc2cccc3nc(N)nc(N)c23)cc1</td>\n",
       "    </tr>\n",
       "    <tr>\n",
       "      <th>26</th>\n",
       "      <td>DB01959</td>\n",
       "      <td>CCOC(=O)c1c(C)nn(-c2cccc([N+](=O)[O-])c2)c1C</td>\n",
       "    </tr>\n",
       "    <tr>\n",
       "      <th>27</th>\n",
       "      <td>DB01488</td>\n",
       "      <td>CN(C)CCc1c[nH]c2ccccc12</td>\n",
       "    </tr>\n",
       "    <tr>\n",
       "      <th>28</th>\n",
       "      <td>DB01489</td>\n",
       "      <td>CN(C)C(=O)OC1N=C(c2ccccc2)c2cc(Cl)ccc2N(C)C1=O</td>\n",
       "    </tr>\n",
       "    <tr>\n",
       "      <th>29</th>\n",
       "      <td>DB01486</td>\n",
       "      <td>CC(N)C(O)c1ccccc1</td>\n",
       "    </tr>\n",
       "    <tr>\n",
       "      <th>...</th>\n",
       "      <td>...</td>\n",
       "      <td>...</td>\n",
       "    </tr>\n",
       "    <tr>\n",
       "      <th>8517</th>\n",
       "      <td>DB12251</td>\n",
       "      <td>CCc1cc2cc(OC)c(OC)cc2c(Cc2ccccc2)n1</td>\n",
       "    </tr>\n",
       "    <tr>\n",
       "      <th>8518</th>\n",
       "      <td>DB02458</td>\n",
       "      <td>NC(CCC(=O)NC(CSc1ccc([N+](=O)[O-])cc1[N+](=O)[...</td>\n",
       "    </tr>\n",
       "    <tr>\n",
       "      <th>8519</th>\n",
       "      <td>DB02459</td>\n",
       "      <td>N=C(N)Nc1ccc(C(=O)O)cc1</td>\n",
       "    </tr>\n",
       "    <tr>\n",
       "      <th>8520</th>\n",
       "      <td>DB02450</td>\n",
       "      <td>O=C(O)C(Cc1ccccc1)C(Cc1ccc2c(c1)OCO2)C(=O)O</td>\n",
       "    </tr>\n",
       "    <tr>\n",
       "      <th>8521</th>\n",
       "      <td>DB02452</td>\n",
       "      <td>Cc1cn(C2CC(O)C(COP(=O)(O)OP(=O)(O)OP(=O)(O)O)O...</td>\n",
       "    </tr>\n",
       "    <tr>\n",
       "      <th>8522</th>\n",
       "      <td>DB02453</td>\n",
       "      <td>O[Sb](O)O</td>\n",
       "    </tr>\n",
       "    <tr>\n",
       "      <th>8523</th>\n",
       "      <td>DB02454</td>\n",
       "      <td>Nc1ncnc2c1ncn2C1OCC(OP(=O)(O)O)C1O</td>\n",
       "    </tr>\n",
       "    <tr>\n",
       "      <th>8524</th>\n",
       "      <td>DB02455</td>\n",
       "      <td>CCN=C(S)Nc1ccc(-c2c3ccc(=O)cc-3oc3cc(O)ccc23)c...</td>\n",
       "    </tr>\n",
       "    <tr>\n",
       "      <th>8525</th>\n",
       "      <td>DB02456</td>\n",
       "      <td>N=c1ccn(C2OC(COP(=O)(O)O)C(O)C2O)c(O)n1</td>\n",
       "    </tr>\n",
       "    <tr>\n",
       "      <th>8526</th>\n",
       "      <td>DB02457</td>\n",
       "      <td>CCCCCCCCCCC[PH](=O)OCCCC</td>\n",
       "    </tr>\n",
       "    <tr>\n",
       "      <th>8527</th>\n",
       "      <td>DB13171</td>\n",
       "      <td>CCCCCCCCC=CCCCCCCCC(=O)OCC(O)CO</td>\n",
       "    </tr>\n",
       "    <tr>\n",
       "      <th>8528</th>\n",
       "      <td>DB09019</td>\n",
       "      <td>CN(Cc1cc(Br)cc(Br)c1N)C1CCCCC1</td>\n",
       "    </tr>\n",
       "    <tr>\n",
       "      <th>8529</th>\n",
       "      <td>DB09018</td>\n",
       "      <td>CCN(CC)CCN=C(O)c1cc(Br)c(N)cc1OC</td>\n",
       "    </tr>\n",
       "    <tr>\n",
       "      <th>8530</th>\n",
       "      <td>DB09015</td>\n",
       "      <td>CC12CCC(=O)C=C1C=CC1C2CCC2(C)C1CCC2(O)CCC(=O)O</td>\n",
       "    </tr>\n",
       "    <tr>\n",
       "      <th>8531</th>\n",
       "      <td>DB09014</td>\n",
       "      <td>CCCCSc1ccc(C(SCCN(C)C)c2ccccc2)cc1</td>\n",
       "    </tr>\n",
       "    <tr>\n",
       "      <th>8532</th>\n",
       "      <td>DB09017</td>\n",
       "      <td>Cc1nnc2n1-c1sc(Br)cc1C(c1ccccc1Cl)=NC2</td>\n",
       "    </tr>\n",
       "    <tr>\n",
       "      <th>8533</th>\n",
       "      <td>DB09016</td>\n",
       "      <td>CC(CC1c2ccccc2CCc2ccccc21)CN(C)C</td>\n",
       "    </tr>\n",
       "    <tr>\n",
       "      <th>8534</th>\n",
       "      <td>DB09011</td>\n",
       "      <td>O=C(CCCl)NCc1ccccc1</td>\n",
       "    </tr>\n",
       "    <tr>\n",
       "      <th>8535</th>\n",
       "      <td>DB09010</td>\n",
       "      <td>CCCCCCN=C(O)n1cc(F)c(O)nc1=O</td>\n",
       "    </tr>\n",
       "    <tr>\n",
       "      <th>8536</th>\n",
       "      <td>DB09013</td>\n",
       "      <td>CC(=O)c1cc2cccc(OCC(O)CNC(C)C)c2o1</td>\n",
       "    </tr>\n",
       "    <tr>\n",
       "      <th>8537</th>\n",
       "      <td>DB09012</td>\n",
       "      <td>CN1CC(O)C2=CC(=NNC(N)=O)C(=O)C=C21</td>\n",
       "    </tr>\n",
       "    <tr>\n",
       "      <th>8538</th>\n",
       "      <td>DB01228</td>\n",
       "      <td>COc1ccc(C(=O)Nc2ccccc2CCC2CCCCN2C)cc1</td>\n",
       "    </tr>\n",
       "    <tr>\n",
       "      <th>8539</th>\n",
       "      <td>DB01229</td>\n",
       "      <td>CC(=O)OC1C(=O)C2(C)C(O)CC3OCC3(OC(C)=O)C2C(OC(...</td>\n",
       "    </tr>\n",
       "    <tr>\n",
       "      <th>8540</th>\n",
       "      <td>DB01222</td>\n",
       "      <td>CCCC1OC2CC3C4CCC5=CC(=O)C=CC5(C)C4C(O)CC3(C)C2...</td>\n",
       "    </tr>\n",
       "    <tr>\n",
       "      <th>8541</th>\n",
       "      <td>DB01223</td>\n",
       "      <td>Cn1c(=O)c2[nH]cnc2n(C)c1=O.Cn1c(=O)c2[nH]cnc2n...</td>\n",
       "    </tr>\n",
       "    <tr>\n",
       "      <th>8542</th>\n",
       "      <td>DB01220</td>\n",
       "      <td>COC1C=COC2(C)Oc3c(C)c(O)c4c(O)c(c5c(nc6cc(C)cc...</td>\n",
       "    </tr>\n",
       "    <tr>\n",
       "      <th>8543</th>\n",
       "      <td>DB01221</td>\n",
       "      <td>CNC1(c2ccccc2Cl)CCCCC1=O</td>\n",
       "    </tr>\n",
       "    <tr>\n",
       "      <th>8544</th>\n",
       "      <td>DB01226</td>\n",
       "      <td>COc1cc2c(cc1OC)C(Cc1cc(OC)c(OC)c(OC)c1)[N+](C)...</td>\n",
       "    </tr>\n",
       "    <tr>\n",
       "      <th>8545</th>\n",
       "      <td>DB01227</td>\n",
       "      <td>CCC(OC(C)=O)C(CC(C)N(C)C)(c1ccccc1)c1ccccc1</td>\n",
       "    </tr>\n",
       "    <tr>\n",
       "      <th>8546</th>\n",
       "      <td>DB01224</td>\n",
       "      <td>OCCOCCN1CCN(C2=Nc3ccccc3Sc3ccccc32)CC1</td>\n",
       "    </tr>\n",
       "  </tbody>\n",
       "</table>\n",
       "<p>8547 rows × 2 columns</p>\n",
       "</div>"
      ],
      "text/plain": [
       "     drugbank_id                                             SMILES\n",
       "0        DB12781      Cn1c(COc2ccc(CC3SC(=O)NC3=O)cc2)nc2ccccc2c1=O\n",
       "1        DB12780          O=C(Oc1ccc2c(c1)CCCN2C(=O)C(Cl)Cl)c1ccco1\n",
       "2        DB12783                      NC(CO)C(O)=NNCc1ccc(O)c(O)c1O\n",
       "3        DB12782   OC1(c2ncccn2)CC2CCC(C1)N2C(c1ccccc1Cl)c1ccccc1Cl\n",
       "4        DB12785  CC(C)Oc1ccc(-c2nc(OC3CC4C(=O)NC5(C(=O)NS(=O)(=...\n",
       "5        DB12784   CC(Nc1cc(-c2cnn(C)c2)cc(Nc2cnccn2)n1)c1ccc(F)cc1\n",
       "6        DB12039            Oc1cc(O)c2c(c1)OC(c1ccc(O)c(O)c1)C(O)C2\n",
       "7        DB12037  CCC1CC1(NC(=O)C1CC(Oc2cc(-c3csc(NC(C)C)n3)nc3c...\n",
       "8        DB12036  C=CC(=O)N1CCC(Oc2nc(Nc3ccc(N4CCC(N5CCN(C)CC5)C...\n",
       "9        DB12035  CON(C)Cc1ccc(O)c2c1CC1CC3C(N(C)C)C(O)=C(C(N)=O...\n",
       "10       DB12032                             CC1CC(CN)(CC(=O)O)CC1C\n",
       "11       DB12030  CC(CCC(=O)NC(CCCCNC(=S)Nc1ccc(C2c3ccc(O)cc3Oc3...\n",
       "12       DB05107             CC12CCC3C(CCC4CC(O)CCC43C)C1CC(Br)C2=O\n",
       "13       DB08426  O=C1C(NS(=O)(=O)c2cc3ncccc3s2)CCN1Cc1cc2ccncc2...\n",
       "14       DB05105     Cc1cc(CCCOc2c(C)cc(-c3noc(C(F)(F)F)n3)cc2C)on1\n",
       "15       DB05104  CN(C(=O)C(c1ccccc1)c1ccccc1)C(CN1CCC(O)C1)c1cc...\n",
       "16       DB05103                           CCCC(=O)OCOC(=O)C(C)(C)C\n",
       "17       DB05102  CCOC(=O)C=CC(CC1CCNC1=O)NC(=O)C(CC(=O)C(NC(=O)...\n",
       "18       DB08421                             CC(C)(C)NC(=O)C1CCCCN1\n",
       "19       DB05100  CC1(C)SCCN(S(=O)(=O)c2ccc(Oc3ccncc3)cc2)C1C(O)=NO\n",
       "20       DB09300  CCCC[N+]1(C)C2CC(OC(=O)C(CO)c3ccccc3)CC1C1OC12...\n",
       "21       DB05109  COc1cc2c(cc1O)CCNC21CSC2c3c(OC(C)=O)c(C)c4c(c3...\n",
       "22       DB08428                                 CC(O)C(N)Cc1ccccc1\n",
       "23       DB12265               CSc1ccc(OCc2ncc([N+](=O)[O-])n2C)cc1\n",
       "24       DB12259     CN(C)CCCNC(=O)C(=CCCCCC(=O)NO)COc1cccc2ccccc12\n",
       "25       DB01958            CC(C)(C)c1ccc(Sc2cccc3nc(N)nc(N)c23)cc1\n",
       "26       DB01959       CCOC(=O)c1c(C)nn(-c2cccc([N+](=O)[O-])c2)c1C\n",
       "27       DB01488                            CN(C)CCc1c[nH]c2ccccc12\n",
       "28       DB01489     CN(C)C(=O)OC1N=C(c2ccccc2)c2cc(Cl)ccc2N(C)C1=O\n",
       "29       DB01486                                  CC(N)C(O)c1ccccc1\n",
       "...          ...                                                ...\n",
       "8517     DB12251                CCc1cc2cc(OC)c(OC)cc2c(Cc2ccccc2)n1\n",
       "8518     DB02458  NC(CCC(=O)NC(CSc1ccc([N+](=O)[O-])cc1[N+](=O)[...\n",
       "8519     DB02459                            N=C(N)Nc1ccc(C(=O)O)cc1\n",
       "8520     DB02450        O=C(O)C(Cc1ccccc1)C(Cc1ccc2c(c1)OCO2)C(=O)O\n",
       "8521     DB02452  Cc1cn(C2CC(O)C(COP(=O)(O)OP(=O)(O)OP(=O)(O)O)O...\n",
       "8522     DB02453                                          O[Sb](O)O\n",
       "8523     DB02454                 Nc1ncnc2c1ncn2C1OCC(OP(=O)(O)O)C1O\n",
       "8524     DB02455  CCN=C(S)Nc1ccc(-c2c3ccc(=O)cc-3oc3cc(O)ccc23)c...\n",
       "8525     DB02456            N=c1ccn(C2OC(COP(=O)(O)O)C(O)C2O)c(O)n1\n",
       "8526     DB02457                           CCCCCCCCCCC[PH](=O)OCCCC\n",
       "8527     DB13171                    CCCCCCCCC=CCCCCCCCC(=O)OCC(O)CO\n",
       "8528     DB09019                     CN(Cc1cc(Br)cc(Br)c1N)C1CCCCC1\n",
       "8529     DB09018                   CCN(CC)CCN=C(O)c1cc(Br)c(N)cc1OC\n",
       "8530     DB09015     CC12CCC(=O)C=C1C=CC1C2CCC2(C)C1CCC2(O)CCC(=O)O\n",
       "8531     DB09014                 CCCCSc1ccc(C(SCCN(C)C)c2ccccc2)cc1\n",
       "8532     DB09017             Cc1nnc2n1-c1sc(Br)cc1C(c1ccccc1Cl)=NC2\n",
       "8533     DB09016                   CC(CC1c2ccccc2CCc2ccccc21)CN(C)C\n",
       "8534     DB09011                                O=C(CCCl)NCc1ccccc1\n",
       "8535     DB09010                       CCCCCCN=C(O)n1cc(F)c(O)nc1=O\n",
       "8536     DB09013                 CC(=O)c1cc2cccc(OCC(O)CNC(C)C)c2o1\n",
       "8537     DB09012                 CN1CC(O)C2=CC(=NNC(N)=O)C(=O)C=C21\n",
       "8538     DB01228              COc1ccc(C(=O)Nc2ccccc2CCC2CCCCN2C)cc1\n",
       "8539     DB01229  CC(=O)OC1C(=O)C2(C)C(O)CC3OCC3(OC(C)=O)C2C(OC(...\n",
       "8540     DB01222  CCCC1OC2CC3C4CCC5=CC(=O)C=CC5(C)C4C(O)CC3(C)C2...\n",
       "8541     DB01223  Cn1c(=O)c2[nH]cnc2n(C)c1=O.Cn1c(=O)c2[nH]cnc2n...\n",
       "8542     DB01220  COC1C=COC2(C)Oc3c(C)c(O)c4c(O)c(c5c(nc6cc(C)cc...\n",
       "8543     DB01221                           CNC1(c2ccccc2Cl)CCCCC1=O\n",
       "8544     DB01226  COc1cc2c(cc1OC)C(Cc1cc(OC)c(OC)c(OC)c1)[N+](C)...\n",
       "8545     DB01227        CCC(OC(C)=O)C(CC(C)N(C)C)(c1ccccc1)c1ccccc1\n",
       "8546     DB01224             OCCOCCN1CCN(C2=Nc3ccccc3Sc3ccccc32)CC1\n",
       "\n",
       "[8547 rows x 2 columns]"
      ]
     },
     "execution_count": 34,
     "metadata": {},
     "output_type": "execute_result"
    }
   ],
   "source": [
    "drugbank2smiles"
   ]
  },
  {
   "cell_type": "code",
   "execution_count": 35,
   "metadata": {
    "collapsed": false,
    "deletable": true,
    "editable": true,
    "run_control": {
     "frozen": false,
     "read_only": false
    }
   },
   "outputs": [],
   "source": [
    "def extract_gene_info(target, drugbank_id):\n",
    "    target_id = target.find('{http://www.drugbank.ca}id').text\n",
    "    target_name = target.find('{http://www.drugbank.ca}name').text\n",
    "    target_organism = target.find('{http://www.drugbank.ca}organism').text\n",
    "\n",
    "    target_action = \"\"\n",
    "    if target.find('{http://www.drugbank.ca}actions') is not None:\n",
    "        target_action = \"|\".join([act.text for act in\n",
    "                                  target.find('{http://www.drugbank.ca}actions').\n",
    "                                  findall('{http://www.drugbank.ca}action')])\n",
    "    target_known_action = target.find('{http://www.drugbank.ca}known-action').text\n",
    "\n",
    "    gene_symbol = \"\"\n",
    "    hgnc_id = \"\"\n",
    "    if target.find('{http://www.drugbank.ca}polypeptide') is not None:\n",
    "        gene_symbol = target.find('{http://www.drugbank.ca}polypeptide').\\\n",
    "            find('{http://www.drugbank.ca}gene-name').text\n",
    "        if target.find('{http://www.drugbank.ca}polypeptide').\\\n",
    "                find('{http://www.drugbank.ca}external-identifiers') is not None:\n",
    "            for external in target.find('{http://www.drugbank.ca}polypeptide').\\\n",
    "                    find('{http://www.drugbank.ca}external-identifiers').\\\n",
    "                    findall('{http://www.drugbank.ca}external-identifier'):\n",
    "                if external.find('{http://www.drugbank.ca}resource').text ==\\\n",
    "                        \"HUGO Gene Nomenclature Committee (HGNC)\":\n",
    "                    hgnc_id = external.find('{http://www.drugbank.ca}identifier').text\n",
    "\n",
    "    refs = []\n",
    "    try:\n",
    "        if target.find('{http://www.drugbank.ca}references') is not None:\n",
    "            if target.find('{http://www.drugbank.ca}references').\\\n",
    "                    find('{http://www.drugbank.ca}articles') is not None:\n",
    "                for article in target.find('{http://www.drugbank.ca}references').\\\n",
    "                        find('{http://www.drugbank.ca}articles').\\\n",
    "                        findall('{http://www.drugbank.ca}article'):\n",
    "                    pmid = article.find('{http://www.drugbank.ca}pubmed-id').text\n",
    "                    if pmid is not None:\n",
    "                        refs.append(pmid)\n",
    "        refs = \"|\".join(refs)\n",
    "    except:\n",
    "        print drugbank_id\n",
    "        print refs, len(refs)\n",
    "\n",
    "    row = [drugbank_id, target_id, target_name, target_organism,\n",
    "           target_action, target_known_action, gene_symbol, hgnc_id, refs]\n",
    "    row = [r or \"\" for r in row]\n",
    "    return row"
   ]
  },
  {
   "cell_type": "code",
   "execution_count": 36,
   "metadata": {
    "collapsed": false,
    "deletable": true,
    "editable": true,
    "run_control": {
     "frozen": false,
     "read_only": false
    }
   },
   "outputs": [
    {
     "data": {
      "text/plain": [
       "'../../clinicalreporting/drivers/Data/drugbank.xml'"
      ]
     },
     "execution_count": 36,
     "metadata": {},
     "output_type": "execute_result"
    }
   ],
   "source": [
    "DRUGBANK_FILE"
   ]
  },
  {
   "cell_type": "code",
   "execution_count": 37,
   "metadata": {
    "collapsed": false,
    "deletable": true,
    "editable": true,
    "run_control": {
     "frozen": false,
     "read_only": false
    }
   },
   "outputs": [],
   "source": [
    "tree = ET.parse(DRUGBANK_FILE)\n",
    "root = tree.getroot()\n",
    "version = root.attrib.get('version')\n",
    "\n",
    "drug_synonyms = []\n",
    "drug_atc = {}\n",
    "cancer_drugs = {}\n",
    "lists = []\n",
    "for record in root.iterfind('{http://www.drugbank.ca}drug'):\n",
    "    if len(record.find('{http://www.drugbank.ca}drugbank-id')) == 1:\n",
    "        drugbank_id = record.find('{http://www.drugbank.ca}drugbank-id').text\n",
    "    else:\n",
    "        drugbank_id = [x.text for x in record.findall('{http://www.drugbank.ca}drugbank-id')\n",
    "                       if x.attrib.get('primary', 'false') == 'true'][0]\n",
    "    \n",
    "    create_date = record.attrib.get('created')\n",
    "    update_date = record.attrib.get('updated')\n",
    "    drug_type = record.attrib.get('type')\n",
    "\n",
    "    drug_name = record.find('{http://www.drugbank.ca}name').text.lower()\n",
    "    \n",
    "    drug_synonyms += [(drugbank_id, syn.text.encode('utf-8').lower()) for syn in record.\\\n",
    "                       find('{http://www.drugbank.ca}synonyms').\\\n",
    "                       findall('{http://www.drugbank.ca}synonym')]\n",
    "    \n",
    "    groups = \"|\".join([group.text.encode('utf-8') for group in record.\\\n",
    "                           find('{http://www.drugbank.ca}groups').\\\n",
    "                           findall('{http://www.drugbank.ca}group')])\n",
    "    \n",
    "    atc_code_list = []\n",
    "    is_cancer_drug = 0\n",
    "    if record.find('{http://www.drugbank.ca}atc-codes') is not None:\n",
    "        atc_code_list = []\n",
    "        for atc_code in record.find('{http://www.drugbank.ca}atc-codes').\\\n",
    "                findall('{http://www.drugbank.ca}atc-code'):\n",
    "            atc_code_list.append(atc_code.attrib.get('code'))\n",
    "            if atc_code.attrib.get('code').startswith('L01'):\n",
    "                is_cancer_drug = 1\n",
    "                cancer_drugs[drugbank_id] = True\n",
    "            else:\n",
    "                cancer_drugs[drugbank_id] = False\n",
    "        drug_atc[drugbank_id] = \"|\".join(atc_code_list) \n",
    "    \n",
    "    drugbank_data = [drug_name, create_date, update_date, drug_type, is_cancer_drug, groups]\n",
    "    # extract targets\n",
    "    if record.find('{http://www.drugbank.ca}targets') is not None:\n",
    "        for target in record.find('{http://www.drugbank.ca}targets').\\\n",
    "                findall('{http://www.drugbank.ca}target'):\n",
    "            target_info = extract_gene_info(target, drugbank_id)\n",
    "            row = target_info + ['target', version]\n",
    "            lists.append(row + drugbank_data)\n",
    "    # extract enzymes\n",
    "    if record.find('{http://www.drugbank.ca}enzymes') is not None:\n",
    "        for enzyme in record.find('{http://www.drugbank.ca}enzymes').\\\n",
    "                findall('{http://www.drugbank.ca}enzyme'):\n",
    "            row = extract_gene_info(enzyme, drugbank_id) + ['enzyme', version]\n",
    "            lists.append(row + drugbank_data)\n",
    "    # extract carriers\n",
    "    if record.find('{http://www.drugbank.ca}carriers') is not None:\n",
    "        for carrier in record.find('{http://www.drugbank.ca}carriers').\\\n",
    "                findall('{http://www.drugbank.ca}carrier'):\n",
    "            row = extract_gene_info(carrier, drugbank_id) + ['carrier', version]\n",
    "            lists.append(row + drugbank_data)\n",
    "    # extract transporters\n",
    "    if record.find('{http://www.drugbank.ca}transporters') is not None:\n",
    "        for transporter in record.find('{http://www.drugbank.ca}transporters').\\\n",
    "                findall('{http://www.drugbank.ca}transporter'):\n",
    "            row = extract_gene_info(transporter, drugbank_id) + ['transporter', version]\n",
    "            lists.append(row + drugbank_data)\n",
    "\n",
    "cols = ['drugbank_id', 'target_id', 'target_name', 'target_organism',\n",
    "        'target_action', 'target_known_action', 'gene_symbol',\n",
    "        'hgnc_id', 'pmid', 'interaction_type', 'version', 'drug_name',\n",
    "        'create_date', 'update_date', 'drug_type', 'is_cancer_drug', 'approval_status']\n",
    "drug2gene_drugbank = pd.DataFrame(lists, columns=cols)"
   ]
  },
  {
   "cell_type": "code",
   "execution_count": 38,
   "metadata": {
    "collapsed": false,
    "deletable": true,
    "editable": true,
    "run_control": {
     "frozen": false,
     "read_only": false
    },
    "scrolled": true
   },
   "outputs": [
    {
     "name": "stdout",
     "output_type": "stream",
     "text": [
      "lepirudin\n"
     ]
    }
   ],
   "source": [
    "print(str(drug2gene_drugbank.ix[0].drug_name))"
   ]
  },
  {
   "cell_type": "code",
   "execution_count": 39,
   "metadata": {
    "collapsed": false,
    "deletable": true,
    "editable": true,
    "run_control": {
     "frozen": false,
     "read_only": false
    }
   },
   "outputs": [],
   "source": [
    "drug2gene_drugbank = drug2gene_drugbank.loc[drug2gene_drugbank.target_organism == 'Human']"
   ]
  },
  {
   "cell_type": "code",
   "execution_count": 40,
   "metadata": {
    "collapsed": false,
    "deletable": true,
    "editable": true,
    "run_control": {
     "frozen": false,
     "read_only": false
    }
   },
   "outputs": [],
   "source": [
    "drug2gene_drugbank[\"hgnc_id\"] = pd.to_numeric(drug2gene_drugbank[\"hgnc_id\"].str.replace(\"HGNC:\", \"\"))"
   ]
  },
  {
   "cell_type": "code",
   "execution_count": 41,
   "metadata": {
    "collapsed": true,
    "deletable": true,
    "editable": true,
    "run_control": {
     "frozen": false,
     "read_only": false
    }
   },
   "outputs": [],
   "source": [
    "db_name = \"DrugBank\"\n",
    "drug2gene_drugbank = drug2gene_drugbank.assign(source_name=db_name, download_date=datetime.date.today().strftime(\"%Y-%m-%d\"))"
   ]
  },
  {
   "cell_type": "code",
   "execution_count": 42,
   "metadata": {
    "collapsed": false,
    "deletable": true,
    "editable": true,
    "run_control": {
     "frozen": false,
     "read_only": false
    }
   },
   "outputs": [],
   "source": [
    "drug_data_containers[db_name] = drug2gene_drugbank"
   ]
  },
  {
   "cell_type": "code",
   "execution_count": 43,
   "metadata": {
    "collapsed": false,
    "deletable": true,
    "editable": true,
    "run_control": {
     "frozen": false,
     "read_only": false
    }
   },
   "outputs": [],
   "source": [
    "drugbank_xrefs = pd.read_csv(DRUGBANK_XREF_FILE)\n",
    "drugbank_xrefs = drugbank_xrefs[[\"DrugBank ID\", \"Name\", \"PubChem Compound ID\", \"PharmGKB ID\", \"TTD ID\"]]\n",
    "drugbank_xrefs[\"name\"] = drugbank_xrefs[\"Name\"].str.lower()"
   ]
  },
  {
   "cell_type": "code",
   "execution_count": 44,
   "metadata": {
    "collapsed": false,
    "deletable": true,
    "editable": true,
    "run_control": {
     "frozen": false,
     "read_only": false
    }
   },
   "outputs": [],
   "source": [
    "drugbank_synonyms = pd.DataFrame(drug_synonyms, columns=[\"DrugBank ID\", \"name\"])\n",
    "drugbank_synonyms = pd.concat([drugbank_xrefs[[\"DrugBank ID\", \"name\"]], drugbank_synonyms])"
   ]
  },
  {
   "cell_type": "code",
   "execution_count": 46,
   "metadata": {
    "collapsed": false,
    "deletable": true,
    "editable": true,
    "run_control": {
     "frozen": false,
     "read_only": false
    }
   },
   "outputs": [
    {
     "data": {
      "text/html": [
       "<div>\n",
       "<table border=\"1\" class=\"dataframe\">\n",
       "  <thead>\n",
       "    <tr style=\"text-align: right;\">\n",
       "      <th></th>\n",
       "      <th>drugbank_id</th>\n",
       "      <th>target_id</th>\n",
       "      <th>target_name</th>\n",
       "      <th>target_organism</th>\n",
       "      <th>target_action</th>\n",
       "      <th>target_known_action</th>\n",
       "      <th>gene_symbol</th>\n",
       "      <th>hgnc_id</th>\n",
       "      <th>pmid</th>\n",
       "      <th>interaction_type</th>\n",
       "      <th>version</th>\n",
       "      <th>drug_name</th>\n",
       "      <th>create_date</th>\n",
       "      <th>update_date</th>\n",
       "      <th>drug_type</th>\n",
       "      <th>is_cancer_drug</th>\n",
       "      <th>approval_status</th>\n",
       "      <th>download_date</th>\n",
       "      <th>source_name</th>\n",
       "    </tr>\n",
       "  </thead>\n",
       "  <tbody>\n",
       "  </tbody>\n",
       "</table>\n",
       "</div>"
      ],
      "text/plain": [
       "Empty DataFrame\n",
       "Columns: [drugbank_id, target_id, target_name, target_organism, target_action, target_known_action, gene_symbol, hgnc_id, pmid, interaction_type, version, drug_name, create_date, update_date, drug_type, is_cancer_drug, approval_status, download_date, source_name]\n",
       "Index: []"
      ]
     },
     "execution_count": 46,
     "metadata": {},
     "output_type": "execute_result"
    }
   ],
   "source": [
    "drug2gene_drugbank.loc[drug2gene_drugbank.drug_name.isnull()]"
   ]
  },
  {
   "cell_type": "markdown",
   "metadata": {
    "deletable": true,
    "editable": true
   },
   "source": [
    "## TTD"
   ]
  },
  {
   "cell_type": "code",
   "execution_count": 47,
   "metadata": {
    "collapsed": true,
    "deletable": true,
    "editable": true,
    "run_control": {
     "frozen": false,
     "read_only": false
    }
   },
   "outputs": [],
   "source": [
    "TTD_TARGETS_DOWNLOAD = \"http://database.idrb.cqu.edu.cn/TTD/download/TTD_download.txt\"\n",
    "TTD_DRUGS_XREFS_DOWNLOAD = \"http://database.idrb.cqu.edu.cn/TTD/download/TTD_crossmatching.txt\"\n",
    "TTD_XREFS_DOWNLOAD = \"http://bidd.nus.edu.sg/BIDD-Databases/TTD/download/TTD_uniprot_all.txt\"\n",
    "TTD_DRUGS_DOWNLOAD = \"http://database.idrb.cqu.edu.cn/TTD/download/All.sdf\"\n",
    "TTD_SDF_FILE = data_path + \"TTD_molecules.sdf\""
   ]
  },
  {
   "cell_type": "markdown",
   "metadata": {
    "deletable": true,
    "editable": true
   },
   "source": [
    "Read TTD molecules"
   ]
  },
  {
   "cell_type": "code",
   "execution_count": 49,
   "metadata": {
    "collapsed": false,
    "deletable": true,
    "editable": true,
    "run_control": {
     "frozen": false,
     "read_only": false
    }
   },
   "outputs": [
    {
     "name": "stdout",
     "output_type": "stream",
     "text": [
      "0\n"
     ]
    }
   ],
   "source": [
    "exit_code_ttd_sdf = 1\n",
    "i = 0\n",
    "while exit_code_ttd_sdf > 0 and i < 10:\n",
    "    exit_code_ttd_sdf = subprocess.call(\"wget -O \" + TTD_SDF_FILE + \" \" +  TTD_DRUGS_DOWNLOAD, shell=True)\n",
    "    print(exit_code_ttd_sdf)\n",
    "    i += 1"
   ]
  },
  {
   "cell_type": "code",
   "execution_count": 48,
   "metadata": {
    "collapsed": false,
    "deletable": true,
    "editable": true,
    "run_control": {
     "frozen": false,
     "read_only": false
    }
   },
   "outputs": [],
   "source": [
    "ttd2cid = {}\n",
    "ttd_smiles = {}\n",
    "structures = Chem.SDMolSupplier(TTD_SDF_FILE)\n",
    "for s in structures:\n",
    "    if s is not None:\n",
    "        db_id  = s.GetProp(\"_Name\")\n",
    "        db_cid = s.GetPropsAsDict().get(\"PUBCHEM_COMPOUND_CID\")\n",
    "        ttd_smiles[db_id] = Chem.MolToSmiles(s)\n",
    "        if db_cid is not None:\n",
    "            ttd2cid[db_id] = db_cid\n",
    "ttd2smiles = pd.DataFrame(list(ttd_smiles.items()), columns=[\"ttd_drug_id\", 'SMILES'])"
   ]
  },
  {
   "cell_type": "code",
   "execution_count": 49,
   "metadata": {
    "collapsed": false,
    "deletable": true,
    "editable": true,
    "run_control": {
     "frozen": false,
     "read_only": false
    }
   },
   "outputs": [
    {
     "name": "stderr",
     "output_type": "stream",
     "text": [
      "/Users/schaerfe/Documents/Privat/Dropbox/anaconda/lib/python2.7/site-packages/pandas/core/frame.py:2834: SettingWithCopyWarning: \n",
      "A value is trying to be set on a copy of a slice from a DataFrame\n",
      "\n",
      "See the caveats in the documentation: http://pandas.pydata.org/pandas-docs/stable/indexing.html#indexing-view-versus-copy\n",
      "  **kwargs)\n",
      "/Users/schaerfe/Documents/Privat/Dropbox/anaconda/lib/python2.7/site-packages/ipykernel/__main__.py:19: SettingWithCopyWarning: \n",
      "A value is trying to be set on a copy of a slice from a DataFrame.\n",
      "Try using .loc[row_indexer,col_indexer] = value instead\n",
      "\n",
      "See the caveats in the documentation: http://pandas.pydata.org/pandas-docs/stable/indexing.html#indexing-view-versus-copy\n"
     ]
    }
   ],
   "source": [
    "ttd_drugs = pd.read_csv(TTD_DRUGS_XREFS_DOWNLOAD, skiprows=12, sep=\"\\t\",\n",
    "                        names=[\"ttd_drug_id\", \"ign\", \"interaction_type\", \"drug_name\"])\n",
    "ttd_drugs = ttd_drugs.loc[ttd_drugs.interaction_type == 'DrugName'][[\"ttd_drug_id\", \"drug_name\"]]\n",
    "ttd2uniprot = pd.read_table(TTD_XREFS_DOWNLOAD, skiprows=12)\\\n",
    "                .rename(columns={\"TTD Target ID\": \"target_id\", \"Uniprot ID\": \"uniprot_id\"})\n",
    "\n",
    "ttd_targets = pd.read_csv(TTD_TARGETS_DOWNLOAD, skiprows=12, sep=\"\\t\",\n",
    "                          names=[\"target_id\", \"edge_type\", \"target\"])\\\n",
    "    .rename(columns={'ttd_id': 'target_id'})\\\n",
    "    .drop_duplicates()\n",
    "\n",
    "ttd2drug = ttd_targets.loc[ttd_targets.edge_type == \"Drug(s)\"]\n",
    "ttd2drug.rename(columns={\"target\": \"drug_name\"}, inplace=True)\n",
    "ttd2drug = ttd2drug.merge(ttd_drugs)\n",
    "ttd2drug[\"drug_name\"] = ttd2drug[\"drug_name\"].str.lower()\n",
    "\n",
    "\n",
    "ttd2drug_subtype = ttd_targets.loc[ttd_targets.edge_type.isin([\"Inhibitor\", \"Agonist\", \"Antagonist\", \"Modulator\", \"Binder\"])]\n",
    "ttd2drug_subtype.rename(columns={\"edge_type\": \"target_action\", \"target\": \"drug_name\"}, inplace=True)\n",
    "ttd2drug_subtype[\"drug_name\"] = ttd2drug_subtype[\"drug_name\"].str.lower()"
   ]
  },
  {
   "cell_type": "code",
   "execution_count": 50,
   "metadata": {
    "collapsed": false,
    "deletable": true,
    "editable": true,
    "run_control": {
     "frozen": false,
     "read_only": false
    }
   },
   "outputs": [],
   "source": [
    "drug2gene_ttd = ttd2drug.merge(ttd2drug_subtype, left_on=[\"target_id\", \"drug_name\"], right_on=[\"target_id\", \"drug_name\"], how=\"outer\")\\\n",
    "        .merge(ttd2smiles, left_on=\"ttd_drug_id\", right_on=\"ttd_drug_id\")\\\n",
    "        .merge(drugbank_xrefs[[\"DrugBank ID\", \"TTD ID\"]], left_on=\"ttd_drug_id\", right_on=\"TTD ID\", how=\"left\")\\\n",
    "        .merge(drugbank_xrefs[[\"DrugBank ID\", \"Name\"]], left_on=\"drug_name\", right_on=\"Name\", how=\"left\")\\\n",
    "        .merge(drugbank2smiles, left_on=\"SMILES\", right_on=\"SMILES\", how=\"left\")\\\n",
    "        .merge(ttd2uniprot, left_on=\"target_id\", right_on=\"target_id\")\\\n",
    "        .drop_duplicates()"
   ]
  },
  {
   "cell_type": "code",
   "execution_count": 51,
   "metadata": {
    "collapsed": true,
    "deletable": true,
    "editable": true,
    "run_control": {
     "frozen": false,
     "read_only": false
    }
   },
   "outputs": [],
   "source": [
    "drug2gene_ttd[\"drugbank_id\"] = drug2gene_ttd.apply(combine_cols, args=([\"DrugBank ID_x\", \"DrugBank ID_y\", 'drugbank_id'],), axis=1)\n",
    "drug2gene_ttd = drug2gene_ttd[['drugbank_id', \"drug_name\", \"target_id\", \"uniprot_id\", \"target_action\", \"ttd_drug_id\"]]\n",
    "drug2gene_ttd = drug2gene_ttd.dropna(subset=['drugbank_id'])"
   ]
  },
  {
   "cell_type": "code",
   "execution_count": 52,
   "metadata": {
    "collapsed": false,
    "deletable": true,
    "editable": true,
    "run_control": {
     "frozen": false,
     "read_only": false
    }
   },
   "outputs": [],
   "source": [
    "uniprot_split = pd.DataFrame([(i, x.split(\" (\")[0].strip()) for i, row in drug2gene_ttd.iterrows()\n",
    "                              for x in row['uniprot_id'].split(';')], columns=['df_index', 'uniprot_id'])\n",
    "uniprot_split.set_index('df_index', inplace=True)\n",
    "drug2gene_ttd = drug2gene_ttd.join(uniprot_split, lsuffix=\"s\")\\\n",
    "                             .drop(\"uniprot_ids\", axis=1)\\\n",
    "                             .merge(genes2uniprot, left_on=\"uniprot_id\", right_on=\"uniprot_ids\")\\\n",
    "                             .drop(\"uniprot_ids\", axis=1)"
   ]
  },
  {
   "cell_type": "code",
   "execution_count": 53,
   "metadata": {
    "collapsed": false,
    "deletable": true,
    "editable": true,
    "run_control": {
     "frozen": false,
     "read_only": false
    }
   },
   "outputs": [],
   "source": [
    "drug2gene_ttd = drug2gene_ttd.merge(genes[[\"hgnc_id\", \"gene_symbol\"]], left_on=\"hgnc_id\", right_on=\"hgnc_id\",\n",
    "                                    suffixes=[\"\", \"_dup\"])"
   ]
  },
  {
   "cell_type": "code",
   "execution_count": 54,
   "metadata": {
    "collapsed": true,
    "deletable": true,
    "editable": true,
    "run_control": {
     "frozen": false,
     "read_only": false
    }
   },
   "outputs": [],
   "source": [
    "db_name = \"TTD\"\n",
    "db_pmid = \"PMC4702870\"\n",
    "interaction_type = 'target'\n",
    "\n",
    "drug2gene_ttd = drug2gene_ttd.assign(source_name=db_name, pmid=db_pmid,\n",
    "                                     interaction_type=interaction_type,\n",
    "                                     download_date=datetime.date.today().strftime(\"%Y-%m-%d\"))"
   ]
  },
  {
   "cell_type": "code",
   "execution_count": 56,
   "metadata": {
    "collapsed": true,
    "deletable": true,
    "editable": true,
    "run_control": {
     "frozen": false,
     "read_only": false
    }
   },
   "outputs": [],
   "source": [
    "drug_data_containers[db_name] = drug2gene_ttd"
   ]
  },
  {
   "cell_type": "markdown",
   "metadata": {
    "deletable": true,
    "editable": true
   },
   "source": [
    "## IUPHAR"
   ]
  },
  {
   "cell_type": "code",
   "execution_count": 57,
   "metadata": {
    "collapsed": true,
    "deletable": true,
    "editable": true,
    "run_control": {
     "frozen": false,
     "read_only": false
    }
   },
   "outputs": [],
   "source": [
    "IUPHAR_INTERACTIONS_DOWNLOAD=\"http://www.guidetopharmacology.org/DATA/interactions.csv\"\n",
    "IUPHAR_HGNC_MAPPING_DOWNLOAD=\"http://www.guidetopharmacology.org/DATA/GtP_to_HGNC_mapping.csv\"\n",
    "IUPHAR_LIGANDS_DOWNLOAD=\"http://www.guidetopharmacology.org/DATA/ligands.csv\""
   ]
  },
  {
   "cell_type": "code",
   "execution_count": 58,
   "metadata": {
    "collapsed": false,
    "deletable": true,
    "editable": true,
    "run_control": {
     "frozen": false,
     "read_only": false
    }
   },
   "outputs": [
    {
     "name": "stdout",
     "output_type": "stream",
     "text": [
      "(8900, 'ligands in IUPHAR.')\n",
      "0\n",
      "1000\n",
      "2000\n",
      "2500\n",
      "3000\n",
      "3500\n",
      "4000\n",
      "4500\n",
      "5000\n",
      "5500\n",
      "6000\n",
      "6500\n",
      "7000\n",
      "8000\n",
      "8500\n",
      "(6667, ' ligands without drugbank id.')\n"
     ]
    }
   ],
   "source": [
    "# this section may take a while because it queries IUPHAR db links\n",
    "iuphar_ligands = pd.read_csv(IUPHAR_LIGANDS_DOWNLOAD)\n",
    "drug_ids = iuphar_ligands[\"Ligand id\"].tolist()\n",
    "\n",
    "xrefs_drugs = []\n",
    "url_db_xlink_base = \"http://www.guidetopharmacology.org/services/ligands/{}/databaseLinks\"\n",
    "missed = []\n",
    "iuphar2drugbank = []\n",
    "print(len(drug_ids), \"ligands in IUPHAR.\")\n",
    "\n",
    "for i, x in enumerate(drug_ids):\n",
    "    r = requests.get(url_db_xlink_base.format(x))\n",
    "    if r.status_code == 200:\n",
    "        if i % 500 == 0:\n",
    "            print(i)\n",
    "        drugbank_ids = [d[\"accession\"] for d in r.json() if d['database'] == 'DrugBank Ligand']\n",
    "        if len(drugbank_ids) > 0:\n",
    "            for d in drugbank_ids:\n",
    "                iuphar2drugbank.append([x, d])\n",
    "        else:\n",
    "            missed.append(x)\n",
    "\n",
    "iuphar2drugbank = pd.DataFrame(iuphar2drugbank, columns=[\"iuphar_id\", \"drugbank_id\"])\n",
    "print(len(set(missed)), \" ligands without drugbank id.\")"
   ]
  },
  {
   "cell_type": "code",
   "execution_count": 59,
   "metadata": {
    "collapsed": true,
    "deletable": true,
    "editable": true,
    "run_control": {
     "frozen": false,
     "read_only": false
    }
   },
   "outputs": [],
   "source": [
    "iuphar2drugbank.to_csv(data_path + \"\\iuphar2drugbank.csv\", sep=\"\\t\")"
   ]
  },
  {
   "cell_type": "code",
   "execution_count": 60,
   "metadata": {
    "collapsed": true,
    "deletable": true,
    "editable": true,
    "run_control": {
     "frozen": false,
     "read_only": false
    }
   },
   "outputs": [],
   "source": [
    "iuphar2hgnc = pd.read_csv(IUPHAR_HGNC_MAPPING_DOWNLOAD)"
   ]
  },
  {
   "cell_type": "code",
   "execution_count": 61,
   "metadata": {
    "collapsed": false,
    "deletable": true,
    "editable": true,
    "run_control": {
     "frozen": false,
     "read_only": false
    }
   },
   "outputs": [
    {
     "name": "stderr",
     "output_type": "stream",
     "text": [
      "/Users/schaerfe/Documents/Privat/Dropbox/anaconda/lib/python2.7/site-packages/IPython/core/interactiveshell.py:2717: DtypeWarning: Columns (4,6,7,20,31) have mixed types. Specify dtype option on import or set low_memory=False.\n",
      "  interactivity=interactivity, compiler=compiler, result=result)\n"
     ]
    }
   ],
   "source": [
    "iuphar_interactions = pd.read_csv(IUPHAR_INTERACTIONS_DOWNLOAD)\\\n",
    "                        .rename(columns={'type': 'target_action',\n",
    "                                         'action': 'target_action_detailed',\n",
    "                                         'pubmed_id': 'pmid',\n",
    "                                         'target': 'target_name',\n",
    "                                         'target_species': 'target_organism',\n",
    "                                         'target_gene_symbol': 'gene_symbol',\n",
    "                                         'target_uniprot': 'uniprot_id',\n",
    "                                         'ligand': 'drug_name',\n",
    "                                         'target_id': 'iuphar_id'})"
   ]
  },
  {
   "cell_type": "code",
   "execution_count": 62,
   "metadata": {
    "collapsed": false,
    "deletable": true,
    "editable": true,
    "run_control": {
     "frozen": false,
     "read_only": false
    }
   },
   "outputs": [],
   "source": [
    "drug2gene_iuphar = iuphar_interactions.merge(iuphar2hgnc[['iuphar_id', 'hgnc_id']],\n",
    "                                             left_on=\"iuphar_id\", right_on=\"iuphar_id\")\\\n",
    "                                      .merge(iuphar2drugbank,\n",
    "                                             left_on=\"ligand_id\", right_on=\"iuphar_id\")"
   ]
  },
  {
   "cell_type": "code",
   "execution_count": 63,
   "metadata": {
    "collapsed": false,
    "deletable": true,
    "editable": true,
    "run_control": {
     "frozen": false,
     "read_only": false
    }
   },
   "outputs": [],
   "source": [
    "drug2gene_iuphar = drug2gene_iuphar.loc[drug2gene_iuphar.target_organism == 'Human']"
   ]
  },
  {
   "cell_type": "code",
   "execution_count": 64,
   "metadata": {
    "collapsed": false,
    "deletable": true,
    "editable": true,
    "run_control": {
     "frozen": false,
     "read_only": false
    }
   },
   "outputs": [],
   "source": [
    "drug2gene_iuphar = drug2gene_iuphar[[x for x in drug2gene_iuphar.columns\n",
    "                                     if not x.startswith(\"target_ligand\") and not x.endswith(\"_x\")\n",
    "                                     and not x.endswith(\"_y\") and not \"original\" in x\n",
    "                                     and not x in ['ligand_gene_symbol', 'ligand_species', 'ligand_pubchem_sid']]]"
   ]
  },
  {
   "cell_type": "code",
   "execution_count": 65,
   "metadata": {
    "collapsed": true,
    "deletable": true,
    "editable": true,
    "run_control": {
     "frozen": false,
     "read_only": false
    }
   },
   "outputs": [],
   "source": [
    "db_name = \"IUPHAR\"\n",
    "interaction_type = 'target'\n",
    "drug2gene_iuphar = drug2gene_iuphar.assign(source_name=db_name, interaction_type=interaction_type,\n",
    "                                           download_date=datetime.date.today().strftime(\"%Y-%m-%d\"))\n"
   ]
  },
  {
   "cell_type": "code",
   "execution_count": 66,
   "metadata": {
    "collapsed": true,
    "deletable": true,
    "editable": true,
    "run_control": {
     "frozen": false,
     "read_only": false
    }
   },
   "outputs": [],
   "source": [
    "drug_data_containers[db_name] = drug2gene_iuphar"
   ]
  },
  {
   "cell_type": "markdown",
   "metadata": {
    "deletable": true,
    "editable": true
   },
   "source": [
    "## Santos dataset\n",
    "this is the supplement from the following paper. A frequently maintained version should be available on Pharos, but downloading the relevant data would require downloading and extracting the database dump first.\n"
   ]
  },
  {
   "cell_type": "code",
   "execution_count": 67,
   "metadata": {
    "collapsed": true,
    "deletable": true,
    "editable": true,
    "run_control": {
     "frozen": false,
     "read_only": false
    }
   },
   "outputs": [],
   "source": [
    "SANTOS_SUPPLEMENT_DOWNLOAD=\"http://www.nature.com/nrd/journal/v16/n1/extref/nrd.2016.230-s2.xlsx\""
   ]
  },
  {
   "cell_type": "code",
   "execution_count": 68,
   "metadata": {
    "collapsed": false,
    "deletable": true,
    "editable": true,
    "run_control": {
     "frozen": false,
     "read_only": false
    }
   },
   "outputs": [],
   "source": [
    "rename_cols = {\"ACCESSION\": \"uniprot_id\",\n",
    "               \"ORGANISM\": \"target_species\",\n",
    "               \"PROTEIN_NAME\": \"target_name\",\n",
    "               \"PARENT_PREF_NAME\": \"drug_name\",\n",
    "#                                       \"PARENT_PREF_NAME\": \"drug_name\",\n",
    "               \"MECHANISM_OF_ACTION\": \"action_comment\"}\n",
    "drug2gene_santos = pd.read_excel(SANTOS_SUPPLEMENT_DOWNLOAD)\\\n",
    "                     .rename(columns=rename_cols)"
   ]
  },
  {
   "cell_type": "code",
   "execution_count": 69,
   "metadata": {
    "collapsed": false,
    "deletable": true,
    "editable": true,
    "run_control": {
     "frozen": false,
     "read_only": false
    }
   },
   "outputs": [],
   "source": [
    "drug2gene_santos = drug2gene_santos.loc[drug2gene_santos[\"target_species\"] == \"Homo sapiens\"]\n",
    "drug2gene_santos = drug2gene_santos.dropna(subset=[\"uniprot_id\"])\n",
    "drug2gene_santos[\"drug_name\"] = drug2gene_santos[\"drug_name\"].str.lower()"
   ]
  },
  {
   "cell_type": "code",
   "execution_count": 70,
   "metadata": {
    "collapsed": false,
    "deletable": true,
    "editable": true,
    "run_control": {
     "frozen": false,
     "read_only": false
    }
   },
   "outputs": [
    {
     "name": "stderr",
     "output_type": "stream",
     "text": [
      "/Users/schaerfe/Documents/Privat/Dropbox/anaconda/lib/python2.7/site-packages/pandas/tools/merge.py:1324: UnicodeWarning: Unicode equal comparison failed to convert both arguments to Unicode - interpreting them as being unequal\n",
      "  rlab = rizer.factorize(rk)\n"
     ]
    }
   ],
   "source": [
    "drug2gene_santos = drug2gene_santos.merge(drugbank_synonyms, left_on=\"drug_name\", right_on=\"name\")\\\n",
    "                                   .rename(columns={\"DrugBank ID\": \"drugbank_id\"})"
   ]
  },
  {
   "cell_type": "code",
   "execution_count": 71,
   "metadata": {
    "collapsed": false,
    "deletable": true,
    "editable": true,
    "run_control": {
     "frozen": false,
     "read_only": false
    }
   },
   "outputs": [
    {
     "data": {
      "text/plain": [
       "['action_comment', 'drug_name', 'target_species', 'uniprot_id', 'target_name']"
      ]
     },
     "execution_count": 71,
     "metadata": {},
     "output_type": "execute_result"
    }
   ],
   "source": [
    "list(rename_cols.values())"
   ]
  },
  {
   "cell_type": "code",
   "execution_count": 72,
   "metadata": {
    "collapsed": false,
    "deletable": true,
    "editable": true,
    "run_control": {
     "frozen": false,
     "read_only": false
    }
   },
   "outputs": [],
   "source": [
    "drug2gene_santos = drug2gene_santos[list(rename_cols.values()) + [\"drugbank_id\"]]\\\n",
    "    .merge(genes2uniprot, left_on=\"uniprot_id\", right_on=\"uniprot_ids\")\\\n",
    "    .drop(\"uniprot_ids\", axis=1)\\\n",
    "    .merge(genes[[\"hgnc_id\", \"gene_symbol\"]], left_on=\"hgnc_id\", right_on=\"hgnc_id\",\n",
    "                  suffixes=[\"\", \"_dup\"])\n"
   ]
  },
  {
   "cell_type": "code",
   "execution_count": 73,
   "metadata": {
    "collapsed": false,
    "deletable": true,
    "editable": true,
    "run_control": {
     "frozen": false,
     "read_only": false
    }
   },
   "outputs": [],
   "source": [
    "db_name = \"Santos\"\n",
    "pmid = \"27910877\"\n",
    "interaction_type = 'target'\n",
    "drug2gene_santos = drug2gene_santos.assign(source_name=db_name, pmid=pmid,\n",
    "                                           download_date=datetime.date.today().strftime(\"%Y-%m-%d\"),\n",
    "                                           interaction_type=interaction_type)"
   ]
  },
  {
   "cell_type": "code",
   "execution_count": 74,
   "metadata": {
    "collapsed": false,
    "deletable": true,
    "editable": true,
    "run_control": {
     "frozen": false,
     "read_only": false
    }
   },
   "outputs": [],
   "source": [
    "drug_data_containers[db_name] = drug2gene_santos"
   ]
  },
  {
   "cell_type": "code",
   "execution_count": 75,
   "metadata": {
    "collapsed": false,
    "deletable": true,
    "editable": true,
    "run_control": {
     "frozen": false,
     "read_only": false
    }
   },
   "outputs": [],
   "source": [
    "include_cols = [u'hgnc_id', u'gene_symbol', u'drugbank_id', u'drug_name',\n",
    "                u'target_action', 'target_id', u'interaction_type',\n",
    "                #u'target_action_detailed',\n",
    "                #u'primary_target', \n",
    "                u'target_known_action',\n",
    "                u'pmid', u'source_name', u'download_date' ]\n",
    "drug_df_final = reduce(lambda left,right: pd.concat([left,right], ignore_index=True,\n",
    "                                                    join='outer'), drug_data_containers.values())[include_cols]\n",
    "drug_df_final = drug_df_final.replace('', np.nan)"
   ]
  },
  {
   "cell_type": "code",
   "execution_count": 76,
   "metadata": {
    "collapsed": false,
    "deletable": true,
    "editable": true,
    "run_control": {
     "frozen": false,
     "read_only": false
    }
   },
   "outputs": [],
   "source": [
    "drug_df_final = drug_df_final.merge(pd.DataFrame(list(drug_atc.items()), columns=[\"drugbank_id\", \"ATC_code\"]))\\\n",
    "                             .merge(drug_data_containers[\"DrugBank\"][[\"drugbank_id\", \"approval_status\"]], how=\"outer\")\\\n",
    "                             .merge(pd.DataFrame(list(cancer_drugs.items()), columns=[\"drugbank_id\", \"is_cancer_drug\"]))\\\n",
    "                             .drop_duplicates()"
   ]
  },
  {
   "cell_type": "code",
   "execution_count": 77,
   "metadata": {
    "collapsed": false,
    "deletable": true,
    "editable": true,
    "run_control": {
     "frozen": false,
     "read_only": false
    }
   },
   "outputs": [
    {
     "data": {
      "text/html": [
       "<div>\n",
       "<table border=\"1\" class=\"dataframe\">\n",
       "  <thead>\n",
       "    <tr style=\"text-align: right;\">\n",
       "      <th></th>\n",
       "      <th>hgnc_id</th>\n",
       "      <th>gene_symbol</th>\n",
       "      <th>drugbank_id</th>\n",
       "      <th>drug_name</th>\n",
       "      <th>target_action</th>\n",
       "      <th>target_id</th>\n",
       "      <th>interaction_type</th>\n",
       "      <th>target_known_action</th>\n",
       "      <th>pmid</th>\n",
       "      <th>source_name</th>\n",
       "      <th>download_date</th>\n",
       "      <th>ATC_code</th>\n",
       "      <th>approval_status</th>\n",
       "      <th>is_cancer_drug</th>\n",
       "    </tr>\n",
       "  </thead>\n",
       "  <tbody>\n",
       "    <tr>\n",
       "      <th>0</th>\n",
       "      <td>3535.0</td>\n",
       "      <td>F2</td>\n",
       "      <td>DB00001</td>\n",
       "      <td>lepirudin</td>\n",
       "      <td>inhibitor</td>\n",
       "      <td>BE0000048</td>\n",
       "      <td>target</td>\n",
       "      <td>yes</td>\n",
       "      <td>10505536|10912644|11055889|11467439|11807012|1...</td>\n",
       "      <td>DrugBank</td>\n",
       "      <td>2017-07-22</td>\n",
       "      <td>B01AE02</td>\n",
       "      <td>approved</td>\n",
       "      <td>False</td>\n",
       "    </tr>\n",
       "    <tr>\n",
       "      <th>1</th>\n",
       "      <td>3535.0</td>\n",
       "      <td>F2</td>\n",
       "      <td>DB00001</td>\n",
       "      <td>lepirudin</td>\n",
       "      <td>NaN</td>\n",
       "      <td>NaN</td>\n",
       "      <td>target</td>\n",
       "      <td>NaN</td>\n",
       "      <td>27910877</td>\n",
       "      <td>Santos</td>\n",
       "      <td>2017-07-22</td>\n",
       "      <td>B01AE02</td>\n",
       "      <td>approved</td>\n",
       "      <td>False</td>\n",
       "    </tr>\n",
       "    <tr>\n",
       "      <th>2</th>\n",
       "      <td>3535.0</td>\n",
       "      <td>F2</td>\n",
       "      <td>DB00001</td>\n",
       "      <td>lepirudin</td>\n",
       "      <td>Inhibitor</td>\n",
       "      <td>NaN</td>\n",
       "      <td>target</td>\n",
       "      <td>NaN</td>\n",
       "      <td>16363236</td>\n",
       "      <td>IUPHAR</td>\n",
       "      <td>2017-07-22</td>\n",
       "      <td>B01AE02</td>\n",
       "      <td>approved</td>\n",
       "      <td>False</td>\n",
       "    </tr>\n",
       "    <tr>\n",
       "      <th>3</th>\n",
       "      <td>3535.0</td>\n",
       "      <td>F2</td>\n",
       "      <td>DB00001</td>\n",
       "      <td>lepirudin</td>\n",
       "      <td>Inhibitor</td>\n",
       "      <td>TTDS00202</td>\n",
       "      <td>target</td>\n",
       "      <td>NaN</td>\n",
       "      <td>PMC4702870</td>\n",
       "      <td>TTD</td>\n",
       "      <td>2017-07-22</td>\n",
       "      <td>B01AE02</td>\n",
       "      <td>approved</td>\n",
       "      <td>False</td>\n",
       "    </tr>\n",
       "    <tr>\n",
       "      <th>4</th>\n",
       "      <td>3236.0</td>\n",
       "      <td>EGFR</td>\n",
       "      <td>DB00002</td>\n",
       "      <td>cetuximab</td>\n",
       "      <td>antagonist</td>\n",
       "      <td>BE0000767</td>\n",
       "      <td>target</td>\n",
       "      <td>yes</td>\n",
       "      <td>10480573|10601294|10628369|11408594|11431346|1...</td>\n",
       "      <td>DrugBank</td>\n",
       "      <td>2017-07-22</td>\n",
       "      <td>L01XC06</td>\n",
       "      <td>approved</td>\n",
       "      <td>True</td>\n",
       "    </tr>\n",
       "    <tr>\n",
       "      <th>16</th>\n",
       "      <td>3620.0</td>\n",
       "      <td>FCGR3B</td>\n",
       "      <td>DB00002</td>\n",
       "      <td>cetuximab</td>\n",
       "      <td>NaN</td>\n",
       "      <td>BE0000901</td>\n",
       "      <td>target</td>\n",
       "      <td>unknown</td>\n",
       "      <td>16336752</td>\n",
       "      <td>DrugBank</td>\n",
       "      <td>2017-07-22</td>\n",
       "      <td>L01XC06</td>\n",
       "      <td>approved</td>\n",
       "      <td>True</td>\n",
       "    </tr>\n",
       "    <tr>\n",
       "      <th>28</th>\n",
       "      <td>1246.0</td>\n",
       "      <td>C1R</td>\n",
       "      <td>DB00002</td>\n",
       "      <td>cetuximab</td>\n",
       "      <td>NaN</td>\n",
       "      <td>BE0002093</td>\n",
       "      <td>target</td>\n",
       "      <td>unknown</td>\n",
       "      <td>17139284|17016423</td>\n",
       "      <td>DrugBank</td>\n",
       "      <td>2017-07-22</td>\n",
       "      <td>L01XC06</td>\n",
       "      <td>approved</td>\n",
       "      <td>True</td>\n",
       "    </tr>\n",
       "    <tr>\n",
       "      <th>40</th>\n",
       "      <td>1241.0</td>\n",
       "      <td>C1QA</td>\n",
       "      <td>DB00002</td>\n",
       "      <td>cetuximab</td>\n",
       "      <td>NaN</td>\n",
       "      <td>BE0002094</td>\n",
       "      <td>target</td>\n",
       "      <td>unknown</td>\n",
       "      <td>17139284|17016423</td>\n",
       "      <td>DrugBank</td>\n",
       "      <td>2017-07-22</td>\n",
       "      <td>L01XC06</td>\n",
       "      <td>approved</td>\n",
       "      <td>True</td>\n",
       "    </tr>\n",
       "    <tr>\n",
       "      <th>52</th>\n",
       "      <td>1242.0</td>\n",
       "      <td>C1QB</td>\n",
       "      <td>DB00002</td>\n",
       "      <td>cetuximab</td>\n",
       "      <td>NaN</td>\n",
       "      <td>BE0002095</td>\n",
       "      <td>target</td>\n",
       "      <td>unknown</td>\n",
       "      <td>17139284|17016423</td>\n",
       "      <td>DrugBank</td>\n",
       "      <td>2017-07-22</td>\n",
       "      <td>L01XC06</td>\n",
       "      <td>approved</td>\n",
       "      <td>True</td>\n",
       "    </tr>\n",
       "    <tr>\n",
       "      <th>64</th>\n",
       "      <td>1245.0</td>\n",
       "      <td>C1QC</td>\n",
       "      <td>DB00002</td>\n",
       "      <td>cetuximab</td>\n",
       "      <td>NaN</td>\n",
       "      <td>BE0002096</td>\n",
       "      <td>target</td>\n",
       "      <td>unknown</td>\n",
       "      <td>17139284|17016423</td>\n",
       "      <td>DrugBank</td>\n",
       "      <td>2017-07-22</td>\n",
       "      <td>L01XC06</td>\n",
       "      <td>approved</td>\n",
       "      <td>True</td>\n",
       "    </tr>\n",
       "    <tr>\n",
       "      <th>76</th>\n",
       "      <td>3619.0</td>\n",
       "      <td>FCGR3A</td>\n",
       "      <td>DB00002</td>\n",
       "      <td>cetuximab</td>\n",
       "      <td>NaN</td>\n",
       "      <td>BE0002097</td>\n",
       "      <td>target</td>\n",
       "      <td>unknown</td>\n",
       "      <td>17139284|17016423|17704420</td>\n",
       "      <td>DrugBank</td>\n",
       "      <td>2017-07-22</td>\n",
       "      <td>L01XC06</td>\n",
       "      <td>approved</td>\n",
       "      <td>True</td>\n",
       "    </tr>\n",
       "    <tr>\n",
       "      <th>88</th>\n",
       "      <td>1247.0</td>\n",
       "      <td>C1S</td>\n",
       "      <td>DB00002</td>\n",
       "      <td>cetuximab</td>\n",
       "      <td>NaN</td>\n",
       "      <td>BE0001529</td>\n",
       "      <td>target</td>\n",
       "      <td>unknown</td>\n",
       "      <td>17139284|17016423</td>\n",
       "      <td>DrugBank</td>\n",
       "      <td>2017-07-22</td>\n",
       "      <td>L01XC06</td>\n",
       "      <td>approved</td>\n",
       "      <td>True</td>\n",
       "    </tr>\n",
       "    <tr>\n",
       "      <th>100</th>\n",
       "      <td>3613.0</td>\n",
       "      <td>FCGR1A</td>\n",
       "      <td>DB00002</td>\n",
       "      <td>cetuximab</td>\n",
       "      <td>NaN</td>\n",
       "      <td>BE0000710</td>\n",
       "      <td>target</td>\n",
       "      <td>unknown</td>\n",
       "      <td>7547242</td>\n",
       "      <td>DrugBank</td>\n",
       "      <td>2017-07-22</td>\n",
       "      <td>L01XC06</td>\n",
       "      <td>approved</td>\n",
       "      <td>True</td>\n",
       "    </tr>\n",
       "    <tr>\n",
       "      <th>112</th>\n",
       "      <td>3616.0</td>\n",
       "      <td>FCGR2A</td>\n",
       "      <td>DB00002</td>\n",
       "      <td>cetuximab</td>\n",
       "      <td>NaN</td>\n",
       "      <td>BE0002098</td>\n",
       "      <td>target</td>\n",
       "      <td>unknown</td>\n",
       "      <td>17139284|17016423|17704420</td>\n",
       "      <td>DrugBank</td>\n",
       "      <td>2017-07-22</td>\n",
       "      <td>L01XC06</td>\n",
       "      <td>approved</td>\n",
       "      <td>True</td>\n",
       "    </tr>\n",
       "    <tr>\n",
       "      <th>124</th>\n",
       "      <td>3618.0</td>\n",
       "      <td>FCGR2B</td>\n",
       "      <td>DB00002</td>\n",
       "      <td>cetuximab</td>\n",
       "      <td>NaN</td>\n",
       "      <td>BE0002099</td>\n",
       "      <td>target</td>\n",
       "      <td>unknown</td>\n",
       "      <td>17139284|17016423</td>\n",
       "      <td>DrugBank</td>\n",
       "      <td>2017-07-22</td>\n",
       "      <td>L01XC06</td>\n",
       "      <td>approved</td>\n",
       "      <td>True</td>\n",
       "    </tr>\n",
       "    <tr>\n",
       "      <th>136</th>\n",
       "      <td>15626.0</td>\n",
       "      <td>FCGR2C</td>\n",
       "      <td>DB00002</td>\n",
       "      <td>cetuximab</td>\n",
       "      <td>NaN</td>\n",
       "      <td>BE0002100</td>\n",
       "      <td>target</td>\n",
       "      <td>unknown</td>\n",
       "      <td>17139284|17016423</td>\n",
       "      <td>DrugBank</td>\n",
       "      <td>2017-07-22</td>\n",
       "      <td>L01XC06</td>\n",
       "      <td>approved</td>\n",
       "      <td>True</td>\n",
       "    </tr>\n",
       "    <tr>\n",
       "      <th>148</th>\n",
       "      <td>3236.0</td>\n",
       "      <td>EGFR</td>\n",
       "      <td>DB00002</td>\n",
       "      <td>cetuximab</td>\n",
       "      <td>NaN</td>\n",
       "      <td>NaN</td>\n",
       "      <td>target</td>\n",
       "      <td>NaN</td>\n",
       "      <td>27910877</td>\n",
       "      <td>Santos</td>\n",
       "      <td>2017-07-22</td>\n",
       "      <td>L01XC06</td>\n",
       "      <td>approved</td>\n",
       "      <td>True</td>\n",
       "    </tr>\n",
       "    <tr>\n",
       "      <th>172</th>\n",
       "      <td>NaN</td>\n",
       "      <td>NaN</td>\n",
       "      <td>DB00003</td>\n",
       "      <td>dornase alfa</td>\n",
       "      <td>NaN</td>\n",
       "      <td>BE0004796</td>\n",
       "      <td>target</td>\n",
       "      <td>yes</td>\n",
       "      <td>8792953</td>\n",
       "      <td>DrugBank</td>\n",
       "      <td>2017-07-22</td>\n",
       "      <td>R05CB13</td>\n",
       "      <td>approved</td>\n",
       "      <td>False</td>\n",
       "    </tr>\n",
       "    <tr>\n",
       "      <th>173</th>\n",
       "      <td>6008.0</td>\n",
       "      <td>IL2RA</td>\n",
       "      <td>DB00004</td>\n",
       "      <td>denileukin diftitox</td>\n",
       "      <td>binder</td>\n",
       "      <td>BE0000658</td>\n",
       "      <td>target</td>\n",
       "      <td>yes</td>\n",
       "      <td>17139284|17016423|2786749|3124610|18684057|171...</td>\n",
       "      <td>DrugBank</td>\n",
       "      <td>2017-07-22</td>\n",
       "      <td>L01XX29</td>\n",
       "      <td>approved|investigational</td>\n",
       "      <td>True</td>\n",
       "    </tr>\n",
       "    <tr>\n",
       "      <th>176</th>\n",
       "      <td>6009.0</td>\n",
       "      <td>IL2RB</td>\n",
       "      <td>DB00004</td>\n",
       "      <td>denileukin diftitox</td>\n",
       "      <td>agonist</td>\n",
       "      <td>BE0000651</td>\n",
       "      <td>target</td>\n",
       "      <td>yes</td>\n",
       "      <td>15811959|16516670|18684057|17187516|11752352</td>\n",
       "      <td>DrugBank</td>\n",
       "      <td>2017-07-22</td>\n",
       "      <td>L01XX29</td>\n",
       "      <td>approved|investigational</td>\n",
       "      <td>True</td>\n",
       "    </tr>\n",
       "    <tr>\n",
       "      <th>179</th>\n",
       "      <td>6010.0</td>\n",
       "      <td>IL2RG</td>\n",
       "      <td>DB00004</td>\n",
       "      <td>denileukin diftitox</td>\n",
       "      <td>NaN</td>\n",
       "      <td>BE0002102</td>\n",
       "      <td>target</td>\n",
       "      <td>unknown</td>\n",
       "      <td>15811959|16516670|11707860</td>\n",
       "      <td>DrugBank</td>\n",
       "      <td>2017-07-22</td>\n",
       "      <td>L01XX29</td>\n",
       "      <td>approved|investigational</td>\n",
       "      <td>True</td>\n",
       "    </tr>\n",
       "    <tr>\n",
       "      <th>182</th>\n",
       "      <td>6008.0</td>\n",
       "      <td>IL2RA</td>\n",
       "      <td>DB00004</td>\n",
       "      <td>denileukin diftitox</td>\n",
       "      <td>NaN</td>\n",
       "      <td>NaN</td>\n",
       "      <td>target</td>\n",
       "      <td>NaN</td>\n",
       "      <td>27910877</td>\n",
       "      <td>Santos</td>\n",
       "      <td>2017-07-22</td>\n",
       "      <td>L01XX29</td>\n",
       "      <td>approved|investigational</td>\n",
       "      <td>True</td>\n",
       "    </tr>\n",
       "    <tr>\n",
       "      <th>185</th>\n",
       "      <td>3214.0</td>\n",
       "      <td>EEF2</td>\n",
       "      <td>DB00004</td>\n",
       "      <td>denileukin diftitox</td>\n",
       "      <td>NaN</td>\n",
       "      <td>NaN</td>\n",
       "      <td>target</td>\n",
       "      <td>NaN</td>\n",
       "      <td>27910877</td>\n",
       "      <td>Santos</td>\n",
       "      <td>2017-07-22</td>\n",
       "      <td>L01XX29</td>\n",
       "      <td>approved|investigational</td>\n",
       "      <td>True</td>\n",
       "    </tr>\n",
       "    <tr>\n",
       "      <th>188</th>\n",
       "      <td>6009.0</td>\n",
       "      <td>IL2RB</td>\n",
       "      <td>DB00004</td>\n",
       "      <td>denileukin diftitox</td>\n",
       "      <td>NaN</td>\n",
       "      <td>NaN</td>\n",
       "      <td>target</td>\n",
       "      <td>NaN</td>\n",
       "      <td>27910877</td>\n",
       "      <td>Santos</td>\n",
       "      <td>2017-07-22</td>\n",
       "      <td>L01XX29</td>\n",
       "      <td>approved|investigational</td>\n",
       "      <td>True</td>\n",
       "    </tr>\n",
       "    <tr>\n",
       "      <th>191</th>\n",
       "      <td>11892.0</td>\n",
       "      <td>TNF</td>\n",
       "      <td>DB00005</td>\n",
       "      <td>etanercept</td>\n",
       "      <td>antibody</td>\n",
       "      <td>BE0000704</td>\n",
       "      <td>target</td>\n",
       "      <td>yes</td>\n",
       "      <td>10206649|10338381|10357816|10375846|10405518|1...</td>\n",
       "      <td>DrugBank</td>\n",
       "      <td>2017-07-22</td>\n",
       "      <td>L04AB01</td>\n",
       "      <td>approved|investigational</td>\n",
       "      <td>False</td>\n",
       "    </tr>\n",
       "    <tr>\n",
       "      <th>206</th>\n",
       "      <td>11917.0</td>\n",
       "      <td>TNFRSF1B</td>\n",
       "      <td>DB00005</td>\n",
       "      <td>etanercept</td>\n",
       "      <td>NaN</td>\n",
       "      <td>BE0000949</td>\n",
       "      <td>target</td>\n",
       "      <td>unknown</td>\n",
       "      <td>11752352</td>\n",
       "      <td>DrugBank</td>\n",
       "      <td>2017-07-22</td>\n",
       "      <td>L04AB01</td>\n",
       "      <td>approved|investigational</td>\n",
       "      <td>False</td>\n",
       "    </tr>\n",
       "    <tr>\n",
       "      <th>221</th>\n",
       "      <td>3613.0</td>\n",
       "      <td>FCGR1A</td>\n",
       "      <td>DB00005</td>\n",
       "      <td>etanercept</td>\n",
       "      <td>NaN</td>\n",
       "      <td>BE0000710</td>\n",
       "      <td>target</td>\n",
       "      <td>unknown</td>\n",
       "      <td>17139284|17016423</td>\n",
       "      <td>DrugBank</td>\n",
       "      <td>2017-07-22</td>\n",
       "      <td>L04AB01</td>\n",
       "      <td>approved|investigational</td>\n",
       "      <td>False</td>\n",
       "    </tr>\n",
       "    <tr>\n",
       "      <th>236</th>\n",
       "      <td>3619.0</td>\n",
       "      <td>FCGR3A</td>\n",
       "      <td>DB00005</td>\n",
       "      <td>etanercept</td>\n",
       "      <td>NaN</td>\n",
       "      <td>BE0002097</td>\n",
       "      <td>target</td>\n",
       "      <td>unknown</td>\n",
       "      <td>15457442|15526004</td>\n",
       "      <td>DrugBank</td>\n",
       "      <td>2017-07-22</td>\n",
       "      <td>L04AB01</td>\n",
       "      <td>approved|investigational</td>\n",
       "      <td>False</td>\n",
       "    </tr>\n",
       "    <tr>\n",
       "      <th>251</th>\n",
       "      <td>3616.0</td>\n",
       "      <td>FCGR2A</td>\n",
       "      <td>DB00005</td>\n",
       "      <td>etanercept</td>\n",
       "      <td>NaN</td>\n",
       "      <td>BE0002098</td>\n",
       "      <td>target</td>\n",
       "      <td>unknown</td>\n",
       "      <td>15457442|15526004</td>\n",
       "      <td>DrugBank</td>\n",
       "      <td>2017-07-22</td>\n",
       "      <td>L04AB01</td>\n",
       "      <td>approved|investigational</td>\n",
       "      <td>False</td>\n",
       "    </tr>\n",
       "    <tr>\n",
       "      <th>266</th>\n",
       "      <td>3618.0</td>\n",
       "      <td>FCGR2B</td>\n",
       "      <td>DB00005</td>\n",
       "      <td>etanercept</td>\n",
       "      <td>NaN</td>\n",
       "      <td>BE0002099</td>\n",
       "      <td>target</td>\n",
       "      <td>unknown</td>\n",
       "      <td>17139284|17016423</td>\n",
       "      <td>DrugBank</td>\n",
       "      <td>2017-07-22</td>\n",
       "      <td>L04AB01</td>\n",
       "      <td>approved|investigational</td>\n",
       "      <td>False</td>\n",
       "    </tr>\n",
       "    <tr>\n",
       "      <th>...</th>\n",
       "      <td>...</td>\n",
       "      <td>...</td>\n",
       "      <td>...</td>\n",
       "      <td>...</td>\n",
       "      <td>...</td>\n",
       "      <td>...</td>\n",
       "      <td>...</td>\n",
       "      <td>...</td>\n",
       "      <td>...</td>\n",
       "      <td>...</td>\n",
       "      <td>...</td>\n",
       "      <td>...</td>\n",
       "      <td>...</td>\n",
       "      <td>...</td>\n",
       "    </tr>\n",
       "    <tr>\n",
       "      <th>231756</th>\n",
       "      <td>7154.0</td>\n",
       "      <td>MME</td>\n",
       "      <td>DB12923</td>\n",
       "      <td>gsk 796406</td>\n",
       "      <td>Inhibitor</td>\n",
       "      <td>TTDS00449</td>\n",
       "      <td>target</td>\n",
       "      <td>NaN</td>\n",
       "      <td>PMC4702870</td>\n",
       "      <td>TTD</td>\n",
       "      <td>2017-07-22</td>\n",
       "      <td>C08DA02</td>\n",
       "      <td>NaN</td>\n",
       "      <td>False</td>\n",
       "    </tr>\n",
       "    <tr>\n",
       "      <th>231757</th>\n",
       "      <td>812.0</td>\n",
       "      <td>ATP2A2</td>\n",
       "      <td>DB12923</td>\n",
       "      <td>gallopamil</td>\n",
       "      <td>Inhibitor</td>\n",
       "      <td>TTDR00513</td>\n",
       "      <td>target</td>\n",
       "      <td>NaN</td>\n",
       "      <td>PMC4702870</td>\n",
       "      <td>TTD</td>\n",
       "      <td>2017-07-22</td>\n",
       "      <td>C08DA02</td>\n",
       "      <td>NaN</td>\n",
       "      <td>False</td>\n",
       "    </tr>\n",
       "    <tr>\n",
       "      <th>231758</th>\n",
       "      <td>93.0</td>\n",
       "      <td>ACAT1</td>\n",
       "      <td>DB04812</td>\n",
       "      <td>benoxaprofen</td>\n",
       "      <td>Inhibitor</td>\n",
       "      <td>TTDC00313</td>\n",
       "      <td>target</td>\n",
       "      <td>NaN</td>\n",
       "      <td>PMC4702870</td>\n",
       "      <td>TTD</td>\n",
       "      <td>2017-07-22</td>\n",
       "      <td>M01AE06</td>\n",
       "      <td>NaN</td>\n",
       "      <td>False</td>\n",
       "    </tr>\n",
       "    <tr>\n",
       "      <th>231759</th>\n",
       "      <td>5286.0</td>\n",
       "      <td>HTR1A</td>\n",
       "      <td>DB12184</td>\n",
       "      <td>gepirone</td>\n",
       "      <td>Agonist</td>\n",
       "      <td>TTDS00098</td>\n",
       "      <td>target</td>\n",
       "      <td>NaN</td>\n",
       "      <td>PMC4702870</td>\n",
       "      <td>TTD</td>\n",
       "      <td>2017-07-22</td>\n",
       "      <td>N06AX19</td>\n",
       "      <td>NaN</td>\n",
       "      <td>False</td>\n",
       "    </tr>\n",
       "    <tr>\n",
       "      <th>231760</th>\n",
       "      <td>5286.0</td>\n",
       "      <td>HTR1A</td>\n",
       "      <td>DB12184</td>\n",
       "      <td>org-13011</td>\n",
       "      <td>Antagonist</td>\n",
       "      <td>TTDS00098</td>\n",
       "      <td>target</td>\n",
       "      <td>NaN</td>\n",
       "      <td>PMC4702870</td>\n",
       "      <td>TTD</td>\n",
       "      <td>2017-07-22</td>\n",
       "      <td>N06AX19</td>\n",
       "      <td>NaN</td>\n",
       "      <td>False</td>\n",
       "    </tr>\n",
       "    <tr>\n",
       "      <th>231761</th>\n",
       "      <td>5286.0</td>\n",
       "      <td>HTR1A</td>\n",
       "      <td>DB12661</td>\n",
       "      <td>urapidil</td>\n",
       "      <td>Agonist</td>\n",
       "      <td>TTDS00098</td>\n",
       "      <td>target</td>\n",
       "      <td>NaN</td>\n",
       "      <td>PMC4702870</td>\n",
       "      <td>TTD</td>\n",
       "      <td>2017-07-22</td>\n",
       "      <td>C02CA06</td>\n",
       "      <td>NaN</td>\n",
       "      <td>False</td>\n",
       "    </tr>\n",
       "    <tr>\n",
       "      <th>231762</th>\n",
       "      <td>11892.0</td>\n",
       "      <td>TNF</td>\n",
       "      <td>DB12661</td>\n",
       "      <td>tgaac-94</td>\n",
       "      <td>Inhibitor</td>\n",
       "      <td>TTDS00131</td>\n",
       "      <td>target</td>\n",
       "      <td>NaN</td>\n",
       "      <td>PMC4702870</td>\n",
       "      <td>TTD</td>\n",
       "      <td>2017-07-22</td>\n",
       "      <td>C02CA06</td>\n",
       "      <td>NaN</td>\n",
       "      <td>False</td>\n",
       "    </tr>\n",
       "    <tr>\n",
       "      <th>231763</th>\n",
       "      <td>11916.0</td>\n",
       "      <td>TNFRSF1A</td>\n",
       "      <td>DB12661</td>\n",
       "      <td>tgaav-tnfr:fc</td>\n",
       "      <td>Inhibitor</td>\n",
       "      <td>TTDNC00502</td>\n",
       "      <td>target</td>\n",
       "      <td>NaN</td>\n",
       "      <td>PMC4702870</td>\n",
       "      <td>TTD</td>\n",
       "      <td>2017-07-22</td>\n",
       "      <td>C02CA06</td>\n",
       "      <td>NaN</td>\n",
       "      <td>False</td>\n",
       "    </tr>\n",
       "    <tr>\n",
       "      <th>231764</th>\n",
       "      <td>277.0</td>\n",
       "      <td>ADRA1A</td>\n",
       "      <td>DB09206</td>\n",
       "      <td>trimazosin</td>\n",
       "      <td>Modulator</td>\n",
       "      <td>TTDI01762</td>\n",
       "      <td>target</td>\n",
       "      <td>NaN</td>\n",
       "      <td>PMC4702870</td>\n",
       "      <td>TTD</td>\n",
       "      <td>2017-07-22</td>\n",
       "      <td>C02CA03</td>\n",
       "      <td>NaN</td>\n",
       "      <td>False</td>\n",
       "    </tr>\n",
       "    <tr>\n",
       "      <th>231765</th>\n",
       "      <td>280.0</td>\n",
       "      <td>ADRA1D</td>\n",
       "      <td>DB09206</td>\n",
       "      <td>trimazosin</td>\n",
       "      <td>Modulator</td>\n",
       "      <td>TTDI01762</td>\n",
       "      <td>target</td>\n",
       "      <td>NaN</td>\n",
       "      <td>PMC4702870</td>\n",
       "      <td>TTD</td>\n",
       "      <td>2017-07-22</td>\n",
       "      <td>C02CA03</td>\n",
       "      <td>NaN</td>\n",
       "      <td>False</td>\n",
       "    </tr>\n",
       "    <tr>\n",
       "      <th>231766</th>\n",
       "      <td>277.0</td>\n",
       "      <td>ADRA1A</td>\n",
       "      <td>DB09205</td>\n",
       "      <td>moxisylyte</td>\n",
       "      <td>Modulator</td>\n",
       "      <td>TTDI01762</td>\n",
       "      <td>target</td>\n",
       "      <td>NaN</td>\n",
       "      <td>PMC4702870</td>\n",
       "      <td>TTD</td>\n",
       "      <td>2017-07-22</td>\n",
       "      <td>C04AX10|G04BE06</td>\n",
       "      <td>NaN</td>\n",
       "      <td>False</td>\n",
       "    </tr>\n",
       "    <tr>\n",
       "      <th>231767</th>\n",
       "      <td>280.0</td>\n",
       "      <td>ADRA1D</td>\n",
       "      <td>DB09205</td>\n",
       "      <td>moxisylyte</td>\n",
       "      <td>Modulator</td>\n",
       "      <td>TTDI01762</td>\n",
       "      <td>target</td>\n",
       "      <td>NaN</td>\n",
       "      <td>PMC4702870</td>\n",
       "      <td>TTD</td>\n",
       "      <td>2017-07-22</td>\n",
       "      <td>C04AX10|G04BE06</td>\n",
       "      <td>NaN</td>\n",
       "      <td>False</td>\n",
       "    </tr>\n",
       "    <tr>\n",
       "      <th>231768</th>\n",
       "      <td>5294.0</td>\n",
       "      <td>HTR2B</td>\n",
       "      <td>DB08980</td>\n",
       "      <td>fendiline</td>\n",
       "      <td>Inhibitor</td>\n",
       "      <td>TTDS00104</td>\n",
       "      <td>target</td>\n",
       "      <td>NaN</td>\n",
       "      <td>PMC4702870</td>\n",
       "      <td>TTD</td>\n",
       "      <td>2017-07-22</td>\n",
       "      <td>C08EA01</td>\n",
       "      <td>NaN</td>\n",
       "      <td>False</td>\n",
       "    </tr>\n",
       "    <tr>\n",
       "      <th>231769</th>\n",
       "      <td>281.0</td>\n",
       "      <td>ADRA2A</td>\n",
       "      <td>DB11738</td>\n",
       "      <td>rilmenidine</td>\n",
       "      <td>Modulator</td>\n",
       "      <td>TTDI01750</td>\n",
       "      <td>target</td>\n",
       "      <td>NaN</td>\n",
       "      <td>PMC4702870</td>\n",
       "      <td>TTD</td>\n",
       "      <td>2017-07-22</td>\n",
       "      <td>C02AC06</td>\n",
       "      <td>NaN</td>\n",
       "      <td>False</td>\n",
       "    </tr>\n",
       "    <tr>\n",
       "      <th>231770</th>\n",
       "      <td>283.0</td>\n",
       "      <td>ADRA2C</td>\n",
       "      <td>DB11738</td>\n",
       "      <td>rilmenidine</td>\n",
       "      <td>Modulator</td>\n",
       "      <td>TTDI01750</td>\n",
       "      <td>target</td>\n",
       "      <td>NaN</td>\n",
       "      <td>PMC4702870</td>\n",
       "      <td>TTD</td>\n",
       "      <td>2017-07-22</td>\n",
       "      <td>C02AC06</td>\n",
       "      <td>NaN</td>\n",
       "      <td>False</td>\n",
       "    </tr>\n",
       "    <tr>\n",
       "      <th>231771</th>\n",
       "      <td>15631.0</td>\n",
       "      <td>TLR7</td>\n",
       "      <td>DB00632</td>\n",
       "      <td>docosanol</td>\n",
       "      <td>Agonist</td>\n",
       "      <td>TTDS00311</td>\n",
       "      <td>target</td>\n",
       "      <td>NaN</td>\n",
       "      <td>PMC4702870</td>\n",
       "      <td>TTD</td>\n",
       "      <td>2017-07-22</td>\n",
       "      <td>D06BB11</td>\n",
       "      <td>NaN</td>\n",
       "      <td>False</td>\n",
       "    </tr>\n",
       "    <tr>\n",
       "      <th>231772</th>\n",
       "      <td>2867.0</td>\n",
       "      <td>DHODH</td>\n",
       "      <td>DB13132</td>\n",
       "      <td>artemisinin</td>\n",
       "      <td>Inhibitor</td>\n",
       "      <td>TTDS00059</td>\n",
       "      <td>target</td>\n",
       "      <td>NaN</td>\n",
       "      <td>PMC4702870</td>\n",
       "      <td>TTD</td>\n",
       "      <td>2017-07-22</td>\n",
       "      <td>P01BE01</td>\n",
       "      <td>NaN</td>\n",
       "      <td>False</td>\n",
       "    </tr>\n",
       "    <tr>\n",
       "      <th>231773</th>\n",
       "      <td>1389.0</td>\n",
       "      <td>CACNA1B</td>\n",
       "      <td>DB09232</td>\n",
       "      <td>cilnidipine</td>\n",
       "      <td>NaN</td>\n",
       "      <td>TTDS00529</td>\n",
       "      <td>target</td>\n",
       "      <td>NaN</td>\n",
       "      <td>PMC4702870</td>\n",
       "      <td>TTD</td>\n",
       "      <td>2017-07-22</td>\n",
       "      <td>C08CA14</td>\n",
       "      <td>NaN</td>\n",
       "      <td>False</td>\n",
       "    </tr>\n",
       "    <tr>\n",
       "      <th>231774</th>\n",
       "      <td>9376.0</td>\n",
       "      <td>PRKAA1</td>\n",
       "      <td>DB04944</td>\n",
       "      <td>acadesine</td>\n",
       "      <td>Inhibitor</td>\n",
       "      <td>TTDS00209</td>\n",
       "      <td>target</td>\n",
       "      <td>NaN</td>\n",
       "      <td>PMC4702870</td>\n",
       "      <td>TTD</td>\n",
       "      <td>2017-07-22</td>\n",
       "      <td>C01EB13</td>\n",
       "      <td>NaN</td>\n",
       "      <td>False</td>\n",
       "    </tr>\n",
       "    <tr>\n",
       "      <th>231775</th>\n",
       "      <td>9378.0</td>\n",
       "      <td>PRKAB1</td>\n",
       "      <td>DB04944</td>\n",
       "      <td>acadesine</td>\n",
       "      <td>Inhibitor</td>\n",
       "      <td>TTDS00209</td>\n",
       "      <td>target</td>\n",
       "      <td>NaN</td>\n",
       "      <td>PMC4702870</td>\n",
       "      <td>TTD</td>\n",
       "      <td>2017-07-22</td>\n",
       "      <td>C01EB13</td>\n",
       "      <td>NaN</td>\n",
       "      <td>False</td>\n",
       "    </tr>\n",
       "    <tr>\n",
       "      <th>231776</th>\n",
       "      <td>9385.0</td>\n",
       "      <td>PRKAG1</td>\n",
       "      <td>DB04944</td>\n",
       "      <td>acadesine</td>\n",
       "      <td>Inhibitor</td>\n",
       "      <td>TTDS00209</td>\n",
       "      <td>target</td>\n",
       "      <td>NaN</td>\n",
       "      <td>PMC4702870</td>\n",
       "      <td>TTD</td>\n",
       "      <td>2017-07-22</td>\n",
       "      <td>C01EB13</td>\n",
       "      <td>NaN</td>\n",
       "      <td>False</td>\n",
       "    </tr>\n",
       "    <tr>\n",
       "      <th>231777</th>\n",
       "      <td>6001.0</td>\n",
       "      <td>IL2</td>\n",
       "      <td>DB11366</td>\n",
       "      <td>roquinimex</td>\n",
       "      <td>Modulator</td>\n",
       "      <td>TTDR00141</td>\n",
       "      <td>target</td>\n",
       "      <td>NaN</td>\n",
       "      <td>PMC4702870</td>\n",
       "      <td>TTD</td>\n",
       "      <td>2017-07-22</td>\n",
       "      <td>L03AX02</td>\n",
       "      <td>NaN</td>\n",
       "      <td>False</td>\n",
       "    </tr>\n",
       "    <tr>\n",
       "      <th>231778</th>\n",
       "      <td>1571.0</td>\n",
       "      <td>CCKBR</td>\n",
       "      <td>DB09142</td>\n",
       "      <td>sincalide</td>\n",
       "      <td>Inhibitor</td>\n",
       "      <td>TTDS00043</td>\n",
       "      <td>target</td>\n",
       "      <td>NaN</td>\n",
       "      <td>PMC4702870</td>\n",
       "      <td>TTD</td>\n",
       "      <td>2017-07-22</td>\n",
       "      <td>V04CC03</td>\n",
       "      <td>NaN</td>\n",
       "      <td>False</td>\n",
       "    </tr>\n",
       "    <tr>\n",
       "      <th>231779</th>\n",
       "      <td>1570.0</td>\n",
       "      <td>CCKAR</td>\n",
       "      <td>DB09142</td>\n",
       "      <td>sincalide</td>\n",
       "      <td>Inhibitor</td>\n",
       "      <td>TTDC00082</td>\n",
       "      <td>target</td>\n",
       "      <td>NaN</td>\n",
       "      <td>PMC4702870</td>\n",
       "      <td>TTD</td>\n",
       "      <td>2017-07-22</td>\n",
       "      <td>V04CC03</td>\n",
       "      <td>NaN</td>\n",
       "      <td>False</td>\n",
       "    </tr>\n",
       "    <tr>\n",
       "      <th>231780</th>\n",
       "      <td>5973.0</td>\n",
       "      <td>IL13</td>\n",
       "      <td>DB12554</td>\n",
       "      <td>cat-354</td>\n",
       "      <td>NaN</td>\n",
       "      <td>TTDC00177</td>\n",
       "      <td>target</td>\n",
       "      <td>NaN</td>\n",
       "      <td>PMC4702870</td>\n",
       "      <td>TTD</td>\n",
       "      <td>2017-07-22</td>\n",
       "      <td>A03AA04</td>\n",
       "      <td>NaN</td>\n",
       "      <td>False</td>\n",
       "    </tr>\n",
       "    <tr>\n",
       "      <th>231781</th>\n",
       "      <td>2357.0</td>\n",
       "      <td>CRHR1</td>\n",
       "      <td>DB06402</td>\n",
       "      <td>telavancin</td>\n",
       "      <td>Antagonist</td>\n",
       "      <td>TTDC00073</td>\n",
       "      <td>target</td>\n",
       "      <td>NaN</td>\n",
       "      <td>PMC4702870</td>\n",
       "      <td>TTD</td>\n",
       "      <td>2017-07-22</td>\n",
       "      <td>J01XA03</td>\n",
       "      <td>NaN</td>\n",
       "      <td>False</td>\n",
       "    </tr>\n",
       "    <tr>\n",
       "      <th>231782</th>\n",
       "      <td>51.0</td>\n",
       "      <td>ABCC1</td>\n",
       "      <td>DB12319</td>\n",
       "      <td>benzbromarone</td>\n",
       "      <td>NaN</td>\n",
       "      <td>TTDS00288</td>\n",
       "      <td>target</td>\n",
       "      <td>NaN</td>\n",
       "      <td>PMC4702870</td>\n",
       "      <td>TTD</td>\n",
       "      <td>2017-07-22</td>\n",
       "      <td>M04AB03</td>\n",
       "      <td>NaN</td>\n",
       "      <td>False</td>\n",
       "    </tr>\n",
       "    <tr>\n",
       "      <th>231783</th>\n",
       "      <td>11279.0</td>\n",
       "      <td>SQLE</td>\n",
       "      <td>DB00525</td>\n",
       "      <td>tolnaftate</td>\n",
       "      <td>Inhibitor</td>\n",
       "      <td>TTDS00302</td>\n",
       "      <td>target</td>\n",
       "      <td>NaN</td>\n",
       "      <td>PMC4702870</td>\n",
       "      <td>TTD</td>\n",
       "      <td>2017-07-22</td>\n",
       "      <td>D01AE18</td>\n",
       "      <td>NaN</td>\n",
       "      <td>False</td>\n",
       "    </tr>\n",
       "    <tr>\n",
       "      <th>231784</th>\n",
       "      <td>9155.0</td>\n",
       "      <td>PNLIP</td>\n",
       "      <td>DB06219</td>\n",
       "      <td>dalbavancin</td>\n",
       "      <td>Inhibitor</td>\n",
       "      <td>TTDC00295</td>\n",
       "      <td>target</td>\n",
       "      <td>NaN</td>\n",
       "      <td>PMC4702870</td>\n",
       "      <td>TTD</td>\n",
       "      <td>2017-07-22</td>\n",
       "      <td>J01XA04</td>\n",
       "      <td>NaN</td>\n",
       "      <td>False</td>\n",
       "    </tr>\n",
       "    <tr>\n",
       "      <th>231785</th>\n",
       "      <td>60.0</td>\n",
       "      <td>ABCC9</td>\n",
       "      <td>DB09220</td>\n",
       "      <td>nicorandil</td>\n",
       "      <td>NaN</td>\n",
       "      <td>TTDS00332</td>\n",
       "      <td>target</td>\n",
       "      <td>NaN</td>\n",
       "      <td>PMC4702870</td>\n",
       "      <td>TTD</td>\n",
       "      <td>2017-07-22</td>\n",
       "      <td>C01DX16</td>\n",
       "      <td>NaN</td>\n",
       "      <td>False</td>\n",
       "    </tr>\n",
       "  </tbody>\n",
       "</table>\n",
       "<p>16986 rows × 14 columns</p>\n",
       "</div>"
      ],
      "text/plain": [
       "        hgnc_id gene_symbol drugbank_id            drug_name target_action  \\\n",
       "0        3535.0          F2     DB00001            lepirudin     inhibitor   \n",
       "1        3535.0          F2     DB00001            lepirudin           NaN   \n",
       "2        3535.0          F2     DB00001            lepirudin     Inhibitor   \n",
       "3        3535.0          F2     DB00001            lepirudin     Inhibitor   \n",
       "4        3236.0        EGFR     DB00002            cetuximab    antagonist   \n",
       "16       3620.0      FCGR3B     DB00002            cetuximab           NaN   \n",
       "28       1246.0         C1R     DB00002            cetuximab           NaN   \n",
       "40       1241.0        C1QA     DB00002            cetuximab           NaN   \n",
       "52       1242.0        C1QB     DB00002            cetuximab           NaN   \n",
       "64       1245.0        C1QC     DB00002            cetuximab           NaN   \n",
       "76       3619.0      FCGR3A     DB00002            cetuximab           NaN   \n",
       "88       1247.0         C1S     DB00002            cetuximab           NaN   \n",
       "100      3613.0      FCGR1A     DB00002            cetuximab           NaN   \n",
       "112      3616.0      FCGR2A     DB00002            cetuximab           NaN   \n",
       "124      3618.0      FCGR2B     DB00002            cetuximab           NaN   \n",
       "136     15626.0      FCGR2C     DB00002            cetuximab           NaN   \n",
       "148      3236.0        EGFR     DB00002            cetuximab           NaN   \n",
       "172         NaN         NaN     DB00003         dornase alfa           NaN   \n",
       "173      6008.0       IL2RA     DB00004  denileukin diftitox        binder   \n",
       "176      6009.0       IL2RB     DB00004  denileukin diftitox       agonist   \n",
       "179      6010.0       IL2RG     DB00004  denileukin diftitox           NaN   \n",
       "182      6008.0       IL2RA     DB00004  denileukin diftitox           NaN   \n",
       "185      3214.0        EEF2     DB00004  denileukin diftitox           NaN   \n",
       "188      6009.0       IL2RB     DB00004  denileukin diftitox           NaN   \n",
       "191     11892.0         TNF     DB00005           etanercept      antibody   \n",
       "206     11917.0    TNFRSF1B     DB00005           etanercept           NaN   \n",
       "221      3613.0      FCGR1A     DB00005           etanercept           NaN   \n",
       "236      3619.0      FCGR3A     DB00005           etanercept           NaN   \n",
       "251      3616.0      FCGR2A     DB00005           etanercept           NaN   \n",
       "266      3618.0      FCGR2B     DB00005           etanercept           NaN   \n",
       "...         ...         ...         ...                  ...           ...   \n",
       "231756   7154.0         MME     DB12923           gsk 796406     Inhibitor   \n",
       "231757    812.0      ATP2A2     DB12923           gallopamil     Inhibitor   \n",
       "231758     93.0       ACAT1     DB04812         benoxaprofen     Inhibitor   \n",
       "231759   5286.0       HTR1A     DB12184             gepirone       Agonist   \n",
       "231760   5286.0       HTR1A     DB12184            org-13011    Antagonist   \n",
       "231761   5286.0       HTR1A     DB12661             urapidil       Agonist   \n",
       "231762  11892.0         TNF     DB12661             tgaac-94     Inhibitor   \n",
       "231763  11916.0    TNFRSF1A     DB12661        tgaav-tnfr:fc     Inhibitor   \n",
       "231764    277.0      ADRA1A     DB09206           trimazosin     Modulator   \n",
       "231765    280.0      ADRA1D     DB09206           trimazosin     Modulator   \n",
       "231766    277.0      ADRA1A     DB09205           moxisylyte     Modulator   \n",
       "231767    280.0      ADRA1D     DB09205           moxisylyte     Modulator   \n",
       "231768   5294.0       HTR2B     DB08980            fendiline     Inhibitor   \n",
       "231769    281.0      ADRA2A     DB11738          rilmenidine     Modulator   \n",
       "231770    283.0      ADRA2C     DB11738          rilmenidine     Modulator   \n",
       "231771  15631.0        TLR7     DB00632            docosanol       Agonist   \n",
       "231772   2867.0       DHODH     DB13132          artemisinin     Inhibitor   \n",
       "231773   1389.0     CACNA1B     DB09232          cilnidipine           NaN   \n",
       "231774   9376.0      PRKAA1     DB04944            acadesine     Inhibitor   \n",
       "231775   9378.0      PRKAB1     DB04944            acadesine     Inhibitor   \n",
       "231776   9385.0      PRKAG1     DB04944            acadesine     Inhibitor   \n",
       "231777   6001.0         IL2     DB11366           roquinimex     Modulator   \n",
       "231778   1571.0       CCKBR     DB09142            sincalide     Inhibitor   \n",
       "231779   1570.0       CCKAR     DB09142            sincalide     Inhibitor   \n",
       "231780   5973.0        IL13     DB12554              cat-354           NaN   \n",
       "231781   2357.0       CRHR1     DB06402           telavancin    Antagonist   \n",
       "231782     51.0       ABCC1     DB12319        benzbromarone           NaN   \n",
       "231783  11279.0        SQLE     DB00525           tolnaftate     Inhibitor   \n",
       "231784   9155.0       PNLIP     DB06219          dalbavancin     Inhibitor   \n",
       "231785     60.0       ABCC9     DB09220           nicorandil           NaN   \n",
       "\n",
       "         target_id interaction_type target_known_action  \\\n",
       "0        BE0000048           target                 yes   \n",
       "1              NaN           target                 NaN   \n",
       "2              NaN           target                 NaN   \n",
       "3        TTDS00202           target                 NaN   \n",
       "4        BE0000767           target                 yes   \n",
       "16       BE0000901           target             unknown   \n",
       "28       BE0002093           target             unknown   \n",
       "40       BE0002094           target             unknown   \n",
       "52       BE0002095           target             unknown   \n",
       "64       BE0002096           target             unknown   \n",
       "76       BE0002097           target             unknown   \n",
       "88       BE0001529           target             unknown   \n",
       "100      BE0000710           target             unknown   \n",
       "112      BE0002098           target             unknown   \n",
       "124      BE0002099           target             unknown   \n",
       "136      BE0002100           target             unknown   \n",
       "148            NaN           target                 NaN   \n",
       "172      BE0004796           target                 yes   \n",
       "173      BE0000658           target                 yes   \n",
       "176      BE0000651           target                 yes   \n",
       "179      BE0002102           target             unknown   \n",
       "182            NaN           target                 NaN   \n",
       "185            NaN           target                 NaN   \n",
       "188            NaN           target                 NaN   \n",
       "191      BE0000704           target                 yes   \n",
       "206      BE0000949           target             unknown   \n",
       "221      BE0000710           target             unknown   \n",
       "236      BE0002097           target             unknown   \n",
       "251      BE0002098           target             unknown   \n",
       "266      BE0002099           target             unknown   \n",
       "...            ...              ...                 ...   \n",
       "231756   TTDS00449           target                 NaN   \n",
       "231757   TTDR00513           target                 NaN   \n",
       "231758   TTDC00313           target                 NaN   \n",
       "231759   TTDS00098           target                 NaN   \n",
       "231760   TTDS00098           target                 NaN   \n",
       "231761   TTDS00098           target                 NaN   \n",
       "231762   TTDS00131           target                 NaN   \n",
       "231763  TTDNC00502           target                 NaN   \n",
       "231764   TTDI01762           target                 NaN   \n",
       "231765   TTDI01762           target                 NaN   \n",
       "231766   TTDI01762           target                 NaN   \n",
       "231767   TTDI01762           target                 NaN   \n",
       "231768   TTDS00104           target                 NaN   \n",
       "231769   TTDI01750           target                 NaN   \n",
       "231770   TTDI01750           target                 NaN   \n",
       "231771   TTDS00311           target                 NaN   \n",
       "231772   TTDS00059           target                 NaN   \n",
       "231773   TTDS00529           target                 NaN   \n",
       "231774   TTDS00209           target                 NaN   \n",
       "231775   TTDS00209           target                 NaN   \n",
       "231776   TTDS00209           target                 NaN   \n",
       "231777   TTDR00141           target                 NaN   \n",
       "231778   TTDS00043           target                 NaN   \n",
       "231779   TTDC00082           target                 NaN   \n",
       "231780   TTDC00177           target                 NaN   \n",
       "231781   TTDC00073           target                 NaN   \n",
       "231782   TTDS00288           target                 NaN   \n",
       "231783   TTDS00302           target                 NaN   \n",
       "231784   TTDC00295           target                 NaN   \n",
       "231785   TTDS00332           target                 NaN   \n",
       "\n",
       "                                                     pmid source_name  \\\n",
       "0       10505536|10912644|11055889|11467439|11807012|1...    DrugBank   \n",
       "1                                                27910877      Santos   \n",
       "2                                                16363236      IUPHAR   \n",
       "3                                              PMC4702870         TTD   \n",
       "4       10480573|10601294|10628369|11408594|11431346|1...    DrugBank   \n",
       "16                                               16336752    DrugBank   \n",
       "28                                      17139284|17016423    DrugBank   \n",
       "40                                      17139284|17016423    DrugBank   \n",
       "52                                      17139284|17016423    DrugBank   \n",
       "64                                      17139284|17016423    DrugBank   \n",
       "76                             17139284|17016423|17704420    DrugBank   \n",
       "88                                      17139284|17016423    DrugBank   \n",
       "100                                               7547242    DrugBank   \n",
       "112                            17139284|17016423|17704420    DrugBank   \n",
       "124                                     17139284|17016423    DrugBank   \n",
       "136                                     17139284|17016423    DrugBank   \n",
       "148                                              27910877      Santos   \n",
       "172                                               8792953    DrugBank   \n",
       "173     17139284|17016423|2786749|3124610|18684057|171...    DrugBank   \n",
       "176          15811959|16516670|18684057|17187516|11752352    DrugBank   \n",
       "179                            15811959|16516670|11707860    DrugBank   \n",
       "182                                              27910877      Santos   \n",
       "185                                              27910877      Santos   \n",
       "188                                              27910877      Santos   \n",
       "191     10206649|10338381|10357816|10375846|10405518|1...    DrugBank   \n",
       "206                                              11752352    DrugBank   \n",
       "221                                     17139284|17016423    DrugBank   \n",
       "236                                     15457442|15526004    DrugBank   \n",
       "251                                     15457442|15526004    DrugBank   \n",
       "266                                     17139284|17016423    DrugBank   \n",
       "...                                                   ...         ...   \n",
       "231756                                         PMC4702870         TTD   \n",
       "231757                                         PMC4702870         TTD   \n",
       "231758                                         PMC4702870         TTD   \n",
       "231759                                         PMC4702870         TTD   \n",
       "231760                                         PMC4702870         TTD   \n",
       "231761                                         PMC4702870         TTD   \n",
       "231762                                         PMC4702870         TTD   \n",
       "231763                                         PMC4702870         TTD   \n",
       "231764                                         PMC4702870         TTD   \n",
       "231765                                         PMC4702870         TTD   \n",
       "231766                                         PMC4702870         TTD   \n",
       "231767                                         PMC4702870         TTD   \n",
       "231768                                         PMC4702870         TTD   \n",
       "231769                                         PMC4702870         TTD   \n",
       "231770                                         PMC4702870         TTD   \n",
       "231771                                         PMC4702870         TTD   \n",
       "231772                                         PMC4702870         TTD   \n",
       "231773                                         PMC4702870         TTD   \n",
       "231774                                         PMC4702870         TTD   \n",
       "231775                                         PMC4702870         TTD   \n",
       "231776                                         PMC4702870         TTD   \n",
       "231777                                         PMC4702870         TTD   \n",
       "231778                                         PMC4702870         TTD   \n",
       "231779                                         PMC4702870         TTD   \n",
       "231780                                         PMC4702870         TTD   \n",
       "231781                                         PMC4702870         TTD   \n",
       "231782                                         PMC4702870         TTD   \n",
       "231783                                         PMC4702870         TTD   \n",
       "231784                                         PMC4702870         TTD   \n",
       "231785                                         PMC4702870         TTD   \n",
       "\n",
       "       download_date         ATC_code           approval_status is_cancer_drug  \n",
       "0         2017-07-22          B01AE02                  approved          False  \n",
       "1         2017-07-22          B01AE02                  approved          False  \n",
       "2         2017-07-22          B01AE02                  approved          False  \n",
       "3         2017-07-22          B01AE02                  approved          False  \n",
       "4         2017-07-22          L01XC06                  approved           True  \n",
       "16        2017-07-22          L01XC06                  approved           True  \n",
       "28        2017-07-22          L01XC06                  approved           True  \n",
       "40        2017-07-22          L01XC06                  approved           True  \n",
       "52        2017-07-22          L01XC06                  approved           True  \n",
       "64        2017-07-22          L01XC06                  approved           True  \n",
       "76        2017-07-22          L01XC06                  approved           True  \n",
       "88        2017-07-22          L01XC06                  approved           True  \n",
       "100       2017-07-22          L01XC06                  approved           True  \n",
       "112       2017-07-22          L01XC06                  approved           True  \n",
       "124       2017-07-22          L01XC06                  approved           True  \n",
       "136       2017-07-22          L01XC06                  approved           True  \n",
       "148       2017-07-22          L01XC06                  approved           True  \n",
       "172       2017-07-22          R05CB13                  approved          False  \n",
       "173       2017-07-22          L01XX29  approved|investigational           True  \n",
       "176       2017-07-22          L01XX29  approved|investigational           True  \n",
       "179       2017-07-22          L01XX29  approved|investigational           True  \n",
       "182       2017-07-22          L01XX29  approved|investigational           True  \n",
       "185       2017-07-22          L01XX29  approved|investigational           True  \n",
       "188       2017-07-22          L01XX29  approved|investigational           True  \n",
       "191       2017-07-22          L04AB01  approved|investigational          False  \n",
       "206       2017-07-22          L04AB01  approved|investigational          False  \n",
       "221       2017-07-22          L04AB01  approved|investigational          False  \n",
       "236       2017-07-22          L04AB01  approved|investigational          False  \n",
       "251       2017-07-22          L04AB01  approved|investigational          False  \n",
       "266       2017-07-22          L04AB01  approved|investigational          False  \n",
       "...              ...              ...                       ...            ...  \n",
       "231756    2017-07-22          C08DA02                       NaN          False  \n",
       "231757    2017-07-22          C08DA02                       NaN          False  \n",
       "231758    2017-07-22          M01AE06                       NaN          False  \n",
       "231759    2017-07-22          N06AX19                       NaN          False  \n",
       "231760    2017-07-22          N06AX19                       NaN          False  \n",
       "231761    2017-07-22          C02CA06                       NaN          False  \n",
       "231762    2017-07-22          C02CA06                       NaN          False  \n",
       "231763    2017-07-22          C02CA06                       NaN          False  \n",
       "231764    2017-07-22          C02CA03                       NaN          False  \n",
       "231765    2017-07-22          C02CA03                       NaN          False  \n",
       "231766    2017-07-22  C04AX10|G04BE06                       NaN          False  \n",
       "231767    2017-07-22  C04AX10|G04BE06                       NaN          False  \n",
       "231768    2017-07-22          C08EA01                       NaN          False  \n",
       "231769    2017-07-22          C02AC06                       NaN          False  \n",
       "231770    2017-07-22          C02AC06                       NaN          False  \n",
       "231771    2017-07-22          D06BB11                       NaN          False  \n",
       "231772    2017-07-22          P01BE01                       NaN          False  \n",
       "231773    2017-07-22          C08CA14                       NaN          False  \n",
       "231774    2017-07-22          C01EB13                       NaN          False  \n",
       "231775    2017-07-22          C01EB13                       NaN          False  \n",
       "231776    2017-07-22          C01EB13                       NaN          False  \n",
       "231777    2017-07-22          L03AX02                       NaN          False  \n",
       "231778    2017-07-22          V04CC03                       NaN          False  \n",
       "231779    2017-07-22          V04CC03                       NaN          False  \n",
       "231780    2017-07-22          A03AA04                       NaN          False  \n",
       "231781    2017-07-22          J01XA03                       NaN          False  \n",
       "231782    2017-07-22          M04AB03                       NaN          False  \n",
       "231783    2017-07-22          D01AE18                       NaN          False  \n",
       "231784    2017-07-22          J01XA04                       NaN          False  \n",
       "231785    2017-07-22          C01DX16                       NaN          False  \n",
       "\n",
       "[16986 rows x 14 columns]"
      ]
     },
     "execution_count": 77,
     "metadata": {},
     "output_type": "execute_result"
    }
   ],
   "source": [
    "drug_df_final"
   ]
  },
  {
   "cell_type": "code",
   "execution_count": null,
   "metadata": {
    "collapsed": true,
    "deletable": true,
    "editable": true,
    "run_control": {
     "frozen": false,
     "read_only": false
    }
   },
   "outputs": [],
   "source": [
    "# drug_df_final['drug_name'] = drug_df_final['drug_name'].to_string()"
   ]
  },
  {
   "cell_type": "code",
   "execution_count": 131,
   "metadata": {
    "collapsed": true
   },
   "outputs": [],
   "source": [
    "# drug_info = ['drug_name', 'drugbank_id', 'approval_status', 'ATC_code', 'is_cancer_drug']"
   ]
  },
  {
   "cell_type": "code",
   "execution_count": 150,
   "metadata": {
    "collapsed": false,
    "deletable": true,
    "editable": true,
    "run_control": {
     "frozen": false,
     "read_only": false
    }
   },
   "outputs": [],
   "source": [
    "group_cols = [\"hgnc_id\"]\n",
    "exclude_cols = group_cols + [\"gene_symbol\"]\n",
    "# drug_info = ['drug_name', 'approval_status', 'ATC_code', 'is_cancer_drug']\n",
    "groups = drug_df_final.groupby(group_cols)\n",
    "for n, g in groups:\n",
    "    all_genes[str(int(n))]['meta_information']['drug_information'] = g[[c for c in g.columns if c not in exclude_cols]].to_dict('records')\n",
    "    all_genes[str(int(n))]['nodes']['drug_score'] = g.groupby(['drug_name'])\\\n",
    "        .agg({'source_name': lambda x: len(x)})\\\n",
    "        .reset_index()\\\n",
    "        .rename(columns={'source_name': 'drug_evidence'})\\\n",
    "        .to_dict('records')\n",
    "    all_genes[str(int(n))]['nodes']['is_cancer_drug_target'] = int(g['is_cancer_drug'].any())"
   ]
  },
  {
   "cell_type": "markdown",
   "metadata": {
    "deletable": true,
    "editable": true
   },
   "source": [
    "# Dump json to file - for fun"
   ]
  },
  {
   "cell_type": "code",
   "execution_count": 151,
   "metadata": {
    "collapsed": false
   },
   "outputs": [
    {
     "data": {
      "text/plain": [
       "{'edges': {},\n",
       " 'meta_information': {'alias_symbol': 'ERBB1',\n",
       "  'date_approved_reserved': '1986-01-01',\n",
       "  'date_modified': '2017-03-24',\n",
       "  'date_symbol_changed': nan,\n",
       "  'driver_information': [{'Core pathway': nan,\n",
       "    'Process': nan,\n",
       "    'driver_type': 'Unknown',\n",
       "    'pmid': '14993899',\n",
       "    'source_name': 'Cosmic'},\n",
       "   {'Core pathway': 'PI3K; RAS',\n",
       "    'Process': 'Cell Survival',\n",
       "    'driver_type': 'Oncogene',\n",
       "    'pmid': '23539594',\n",
       "    'source_name': 'Vogelstein'},\n",
       "   {'Core pathway': nan,\n",
       "    'Process': nan,\n",
       "    'driver_type': 'Oncogene',\n",
       "    'pmid': '14681372',\n",
       "    'source_name': 'Uniprot'},\n",
       "   {'Core pathway': nan,\n",
       "    'Process': nan,\n",
       "    'driver_type': 'Oncogene',\n",
       "    'pmid': '25759023',\n",
       "    'source_name': 'Rubio-Perez'}],\n",
       "  'drug_information': [{'ATC_code': 'L01XC06',\n",
       "    'approval_status': 'approved',\n",
       "    'download_date': '2017-07-22',\n",
       "    'drug_name': 'cetuximab',\n",
       "    'drugbank_id': 'DB00002',\n",
       "    'interaction_type': 'target',\n",
       "    'is_cancer_drug': True,\n",
       "    'pmid': '10480573|10601294|10628369|11408594|11431346|11752352',\n",
       "    'source_name': 'DrugBank',\n",
       "    'target_action': 'antagonist',\n",
       "    'target_id': 'BE0000767',\n",
       "    'target_known_action': 'yes'},\n",
       "   {'ATC_code': 'L01XC06',\n",
       "    'approval_status': 'approved',\n",
       "    'download_date': '2017-07-22',\n",
       "    'drug_name': u'cetuximab',\n",
       "    'drugbank_id': 'DB00002',\n",
       "    'interaction_type': 'target',\n",
       "    'is_cancer_drug': True,\n",
       "    'pmid': '27910877',\n",
       "    'source_name': 'Santos',\n",
       "    'target_action': nan,\n",
       "    'target_id': nan,\n",
       "    'target_known_action': nan},\n",
       "   {'ATC_code': 'L01XC03',\n",
       "    'approval_status': 'approved|investigational',\n",
       "    'download_date': '2017-07-22',\n",
       "    'drug_name': 'trastuzumab',\n",
       "    'drugbank_id': 'DB00072',\n",
       "    'interaction_type': 'target',\n",
       "    'is_cancer_drug': True,\n",
       "    'pmid': '11752352',\n",
       "    'source_name': 'DrugBank',\n",
       "    'target_action': nan,\n",
       "    'target_id': 'BE0000767',\n",
       "    'target_known_action': 'unknown'},\n",
       "   {'ATC_code': 'L01XX10',\n",
       "    'approval_status': 'approved',\n",
       "    'download_date': '2017-07-22',\n",
       "    'drug_name': 'emd 55900',\n",
       "    'drugbank_id': 'DB00179',\n",
       "    'interaction_type': 'target',\n",
       "    'is_cancer_drug': True,\n",
       "    'pmid': 'PMC4702870',\n",
       "    'source_name': 'TTD',\n",
       "    'target_action': nan,\n",
       "    'target_id': 'TTDS00355',\n",
       "    'target_known_action': nan},\n",
       "   {'ATC_code': 'C01BB01|D04AB01|N01BB02|R02AD02|S02DA01|S01HA07|C05AD01|N01BB52',\n",
       "    'approval_status': 'approved|vet_approved',\n",
       "    'download_date': '2017-07-22',\n",
       "    'drug_name': 'lidocaine',\n",
       "    'drugbank_id': 'DB00281',\n",
       "    'interaction_type': 'target',\n",
       "    'is_cancer_drug': False,\n",
       "    'pmid': '16551906',\n",
       "    'source_name': 'DrugBank',\n",
       "    'target_action': 'antagonist',\n",
       "    'target_id': 'BE0000767',\n",
       "    'target_known_action': 'unknown'},\n",
       "   {'ATC_code': 'L01XE02',\n",
       "    'approval_status': 'approved|investigational',\n",
       "    'download_date': '2017-07-22',\n",
       "    'drug_name': 'gefitinib',\n",
       "    'drugbank_id': 'DB00317',\n",
       "    'interaction_type': 'target',\n",
       "    'is_cancer_drug': True,\n",
       "    'pmid': '10815932|11522647|11566608|11585753|11673690|11752352',\n",
       "    'source_name': 'DrugBank',\n",
       "    'target_action': 'antagonist',\n",
       "    'target_id': 'BE0000767',\n",
       "    'target_known_action': 'yes'},\n",
       "   {'ATC_code': 'L01XE02',\n",
       "    'approval_status': 'approved|investigational',\n",
       "    'download_date': '2017-07-22',\n",
       "    'drug_name': u'gefitinib',\n",
       "    'drugbank_id': 'DB00317',\n",
       "    'interaction_type': 'target',\n",
       "    'is_cancer_drug': True,\n",
       "    'pmid': '27910877',\n",
       "    'source_name': 'Santos',\n",
       "    'target_action': nan,\n",
       "    'target_id': nan,\n",
       "    'target_known_action': nan},\n",
       "   {'ATC_code': 'L01XE02',\n",
       "    'approval_status': 'approved|investigational',\n",
       "    'download_date': '2017-07-22',\n",
       "    'drug_name': 'gefitinib',\n",
       "    'drugbank_id': u'DB00317',\n",
       "    'interaction_type': 'target',\n",
       "    'is_cancer_drug': True,\n",
       "    'pmid': '17416531',\n",
       "    'source_name': 'IUPHAR',\n",
       "    'target_action': 'Inhibitor',\n",
       "    'target_id': nan,\n",
       "    'target_known_action': nan},\n",
       "   {'ATC_code': 'L01XE02',\n",
       "    'approval_status': 'approved|investigational',\n",
       "    'download_date': '2017-07-22',\n",
       "    'drug_name': 'gefitinib',\n",
       "    'drugbank_id': u'DB00317',\n",
       "    'interaction_type': 'target',\n",
       "    'is_cancer_drug': True,\n",
       "    'pmid': '22037378',\n",
       "    'source_name': 'IUPHAR',\n",
       "    'target_action': 'Inhibitor',\n",
       "    'target_id': nan,\n",
       "    'target_known_action': nan},\n",
       "   {'ATC_code': 'L01XE02',\n",
       "    'approval_status': 'approved|investigational',\n",
       "    'download_date': '2017-07-22',\n",
       "    'drug_name': 'gefitinib',\n",
       "    'drugbank_id': 'DB00317',\n",
       "    'interaction_type': 'target',\n",
       "    'is_cancer_drug': True,\n",
       "    'pmid': 'PMC4702870',\n",
       "    'source_name': 'TTD',\n",
       "    'target_action': 'Inhibitor',\n",
       "    'target_id': 'TTDS00355',\n",
       "    'target_known_action': nan},\n",
       "   {'ATC_code': 'L01XE03',\n",
       "    'approval_status': 'approved|investigational',\n",
       "    'download_date': '2017-07-22',\n",
       "    'drug_name': 'erlotinib',\n",
       "    'drugbank_id': 'DB00530',\n",
       "    'interaction_type': 'target',\n",
       "    'is_cancer_drug': True,\n",
       "    'pmid': '12498017|12517254|12814826|12820772|12840797|11752352',\n",
       "    'source_name': 'DrugBank',\n",
       "    'target_action': 'antagonist',\n",
       "    'target_id': 'BE0000767',\n",
       "    'target_known_action': 'yes'},\n",
       "   {'ATC_code': 'L01XE03',\n",
       "    'approval_status': 'approved|investigational',\n",
       "    'download_date': '2017-07-22',\n",
       "    'drug_name': u'erlotinib',\n",
       "    'drugbank_id': 'DB00530',\n",
       "    'interaction_type': 'target',\n",
       "    'is_cancer_drug': True,\n",
       "    'pmid': '27910877',\n",
       "    'source_name': 'Santos',\n",
       "    'target_action': nan,\n",
       "    'target_id': nan,\n",
       "    'target_known_action': nan},\n",
       "   {'ATC_code': 'L01XE03',\n",
       "    'approval_status': 'approved|investigational',\n",
       "    'download_date': '2017-07-22',\n",
       "    'drug_name': 'erlotinib',\n",
       "    'drugbank_id': u'DB00530',\n",
       "    'interaction_type': 'target',\n",
       "    'is_cancer_drug': True,\n",
       "    'pmid': '22037378',\n",
       "    'source_name': 'IUPHAR',\n",
       "    'target_action': 'Inhibitor',\n",
       "    'target_id': nan,\n",
       "    'target_known_action': nan},\n",
       "   {'ATC_code': 'L01XE03',\n",
       "    'approval_status': 'approved|investigational',\n",
       "    'download_date': '2017-07-22',\n",
       "    'drug_name': 'erlotinib',\n",
       "    'drugbank_id': u'DB00530',\n",
       "    'interaction_type': 'target',\n",
       "    'is_cancer_drug': True,\n",
       "    'pmid': '14684309',\n",
       "    'source_name': 'IUPHAR',\n",
       "    'target_action': 'Inhibitor',\n",
       "    'target_id': nan,\n",
       "    'target_known_action': nan},\n",
       "   {'ATC_code': 'L01XE03',\n",
       "    'approval_status': 'approved|investigational',\n",
       "    'download_date': '2017-07-22',\n",
       "    'drug_name': 'erlotinib',\n",
       "    'drugbank_id': 'DB00530',\n",
       "    'interaction_type': 'target',\n",
       "    'is_cancer_drug': True,\n",
       "    'pmid': 'PMC4702870',\n",
       "    'source_name': 'TTD',\n",
       "    'target_action': 'Inhibitor',\n",
       "    'target_id': 'TTDS00355',\n",
       "    'target_known_action': nan},\n",
       "   {'ATC_code': 'C05AE01|C01DA52|C01DA02',\n",
       "    'approval_status': 'approved|investigational',\n",
       "    'download_date': '2017-07-22',\n",
       "    'drug_name': 'dwp-401',\n",
       "    'drugbank_id': 'DB00727',\n",
       "    'interaction_type': 'target',\n",
       "    'is_cancer_drug': False,\n",
       "    'pmid': 'PMC4702870',\n",
       "    'source_name': 'TTD',\n",
       "    'target_action': nan,\n",
       "    'target_id': 'TTDS00355',\n",
       "    'target_known_action': nan},\n",
       "   {'ATC_code': 'L01XE07',\n",
       "    'approval_status': 'approved|investigational',\n",
       "    'download_date': '2017-07-22',\n",
       "    'drug_name': 'lapatinib',\n",
       "    'drugbank_id': 'DB01259',\n",
       "    'interaction_type': 'target',\n",
       "    'is_cancer_drug': True,\n",
       "    'pmid': '12214266|14633707|14737100|14751502|14967461|15163842|15374980|20658522|16894399|20110044|18803986|11752352',\n",
       "    'source_name': 'DrugBank',\n",
       "    'target_action': 'antagonist',\n",
       "    'target_id': 'BE0000767',\n",
       "    'target_known_action': 'yes'},\n",
       "   {'ATC_code': 'L01XE07',\n",
       "    'approval_status': 'approved|investigational',\n",
       "    'download_date': '2017-07-22',\n",
       "    'drug_name': u'lapatinib',\n",
       "    'drugbank_id': 'DB01259',\n",
       "    'interaction_type': 'target',\n",
       "    'is_cancer_drug': True,\n",
       "    'pmid': '27910877',\n",
       "    'source_name': 'Santos',\n",
       "    'target_action': nan,\n",
       "    'target_id': nan,\n",
       "    'target_known_action': nan},\n",
       "   {'ATC_code': 'L01XE07',\n",
       "    'approval_status': 'approved|investigational',\n",
       "    'download_date': '2017-07-22',\n",
       "    'drug_name': 'lapatinib',\n",
       "    'drugbank_id': u'DB01259',\n",
       "    'interaction_type': 'target',\n",
       "    'is_cancer_drug': True,\n",
       "    'pmid': '12467226',\n",
       "    'source_name': 'IUPHAR',\n",
       "    'target_action': 'Inhibitor',\n",
       "    'target_id': nan,\n",
       "    'target_known_action': nan},\n",
       "   {'ATC_code': 'L01XE07',\n",
       "    'approval_status': 'approved|investigational',\n",
       "    'download_date': '2017-07-22',\n",
       "    'drug_name': 'tykerb',\n",
       "    'drugbank_id': 'DB01259',\n",
       "    'interaction_type': 'target',\n",
       "    'is_cancer_drug': True,\n",
       "    'pmid': 'PMC4702870',\n",
       "    'source_name': 'TTD',\n",
       "    'target_action': 'Inhibitor',\n",
       "    'target_id': 'TTDS00355',\n",
       "    'target_known_action': nan},\n",
       "   {'ATC_code': 'L01XE07',\n",
       "    'approval_status': 'approved|investigational',\n",
       "    'download_date': '2017-07-22',\n",
       "    'drug_name': 'lapatinib',\n",
       "    'drugbank_id': 'DB01259',\n",
       "    'interaction_type': 'target',\n",
       "    'is_cancer_drug': True,\n",
       "    'pmid': 'PMC4702870',\n",
       "    'source_name': 'TTD',\n",
       "    'target_action': 'Inhibitor',\n",
       "    'target_id': 'TTDS00355',\n",
       "    'target_known_action': nan},\n",
       "   {'ATC_code': 'L01XC08',\n",
       "    'approval_status': 'approved|investigational',\n",
       "    'download_date': '2017-07-22',\n",
       "    'drug_name': 'panitumumab',\n",
       "    'drugbank_id': 'DB01269',\n",
       "    'interaction_type': 'target',\n",
       "    'is_cancer_drug': True,\n",
       "    'pmid': '11894013|12620146|14967460|16012181|16857825|11255078|20623992|18343240|17355997|18503402|20481659|11752352',\n",
       "    'source_name': 'DrugBank',\n",
       "    'target_action': 'suppressor',\n",
       "    'target_id': 'BE0000767',\n",
       "    'target_known_action': 'yes'},\n",
       "   {'ATC_code': 'L01XC08',\n",
       "    'approval_status': 'approved|investigational',\n",
       "    'download_date': '2017-07-22',\n",
       "    'drug_name': u'panitumumab',\n",
       "    'drugbank_id': 'DB01269',\n",
       "    'interaction_type': 'target',\n",
       "    'is_cancer_drug': True,\n",
       "    'pmid': '27910877',\n",
       "    'source_name': 'Santos',\n",
       "    'target_action': nan,\n",
       "    'target_id': nan,\n",
       "    'target_known_action': nan},\n",
       "   {'ATC_code': 'L01XE12',\n",
       "    'approval_status': 'approved',\n",
       "    'download_date': '2017-07-22',\n",
       "    'drug_name': 'vandetanib',\n",
       "    'drugbank_id': 'DB05294',\n",
       "    'interaction_type': 'target',\n",
       "    'is_cancer_drug': True,\n",
       "    'pmid': nan,\n",
       "    'source_name': 'DrugBank',\n",
       "    'target_action': 'inhibitor',\n",
       "    'target_id': 'BE0000767',\n",
       "    'target_known_action': 'unknown'},\n",
       "   {'ATC_code': 'L01XE12',\n",
       "    'approval_status': 'approved',\n",
       "    'download_date': '2017-07-22',\n",
       "    'drug_name': u'vandetanib',\n",
       "    'drugbank_id': 'DB05294',\n",
       "    'interaction_type': 'target',\n",
       "    'is_cancer_drug': True,\n",
       "    'pmid': '27910877',\n",
       "    'source_name': 'Santos',\n",
       "    'target_action': nan,\n",
       "    'target_id': nan,\n",
       "    'target_known_action': nan},\n",
       "   {'ATC_code': 'L01XE12',\n",
       "    'approval_status': 'approved',\n",
       "    'download_date': '2017-07-22',\n",
       "    'drug_name': 'vandetanib',\n",
       "    'drugbank_id': u'DB05294',\n",
       "    'interaction_type': 'target',\n",
       "    'is_cancer_drug': True,\n",
       "    'pmid': '12499271',\n",
       "    'source_name': 'IUPHAR',\n",
       "    'target_action': 'Inhibitor',\n",
       "    'target_id': nan,\n",
       "    'target_known_action': nan},\n",
       "   {'ATC_code': 'L01XE12',\n",
       "    'approval_status': 'approved',\n",
       "    'download_date': '2017-07-22',\n",
       "    'drug_name': 'vandetanib',\n",
       "    'drugbank_id': 'DB05294',\n",
       "    'interaction_type': 'target',\n",
       "    'is_cancer_drug': True,\n",
       "    'pmid': 'PMC4702870',\n",
       "    'source_name': 'TTD',\n",
       "    'target_action': 'Inhibitor',\n",
       "    'target_id': 'TTDS00355',\n",
       "    'target_known_action': nan},\n",
       "   {'ATC_code': 'L01XE13',\n",
       "    'approval_status': 'approved',\n",
       "    'download_date': '2017-07-22',\n",
       "    'drug_name': 'afatinib',\n",
       "    'drugbank_id': 'DB08916',\n",
       "    'interaction_type': 'target',\n",
       "    'is_cancer_drug': True,\n",
       "    'pmid': nan,\n",
       "    'source_name': 'DrugBank',\n",
       "    'target_action': 'inhibitor',\n",
       "    'target_id': 'BE0000767',\n",
       "    'target_known_action': 'yes'},\n",
       "   {'ATC_code': 'L01XE13',\n",
       "    'approval_status': 'approved',\n",
       "    'download_date': '2017-07-22',\n",
       "    'drug_name': u'afatinib',\n",
       "    'drugbank_id': 'DB08916',\n",
       "    'interaction_type': 'target',\n",
       "    'is_cancer_drug': True,\n",
       "    'pmid': '27910877',\n",
       "    'source_name': 'Santos',\n",
       "    'target_action': nan,\n",
       "    'target_id': nan,\n",
       "    'target_known_action': nan},\n",
       "   {'ATC_code': 'L01XE13',\n",
       "    'approval_status': 'approved',\n",
       "    'download_date': '2017-07-22',\n",
       "    'drug_name': 'afatinib',\n",
       "    'drugbank_id': u'DB08916',\n",
       "    'interaction_type': 'target',\n",
       "    'is_cancer_drug': True,\n",
       "    'pmid': '20550212|18408761',\n",
       "    'source_name': 'IUPHAR',\n",
       "    'target_action': 'Inhibitor',\n",
       "    'target_id': nan,\n",
       "    'target_known_action': nan},\n",
       "   {'ATC_code': 'L01XE13',\n",
       "    'approval_status': 'approved',\n",
       "    'download_date': '2017-07-22',\n",
       "    'drug_name': 'afatinib',\n",
       "    'drugbank_id': u'DB08916',\n",
       "    'interaction_type': 'target',\n",
       "    'is_cancer_drug': True,\n",
       "    'pmid': '22037378',\n",
       "    'source_name': 'IUPHAR',\n",
       "    'target_action': 'Inhibitor',\n",
       "    'target_id': nan,\n",
       "    'target_known_action': nan},\n",
       "   {'ATC_code': 'L01XE13',\n",
       "    'approval_status': 'approved',\n",
       "    'download_date': '2017-07-22',\n",
       "    'drug_name': 'bibw 2992',\n",
       "    'drugbank_id': 'DB08916',\n",
       "    'interaction_type': 'target',\n",
       "    'is_cancer_drug': True,\n",
       "    'pmid': 'PMC4702870',\n",
       "    'source_name': 'TTD',\n",
       "    'target_action': 'Inhibitor',\n",
       "    'target_id': 'TTDS00355',\n",
       "    'target_known_action': nan},\n",
       "   {'ATC_code': 'L01XC22',\n",
       "    'approval_status': 'approved',\n",
       "    'download_date': '2017-07-22',\n",
       "    'drug_name': 'necitumumab',\n",
       "    'drugbank_id': 'DB09559',\n",
       "    'interaction_type': 'target',\n",
       "    'is_cancer_drug': True,\n",
       "    'pmid': '20197484',\n",
       "    'source_name': 'DrugBank',\n",
       "    'target_action': 'antagonist',\n",
       "    'target_id': 'BE0000767',\n",
       "    'target_known_action': 'yes'}],\n",
       "  'ensembl_gene_id': 'ENSG00000146648',\n",
       "  'entrez_id': 1956.0,\n",
       "  'gene_family': 'Erb-b2 receptor tyrosine kinases',\n",
       "  'gene_symbol': 'EGFR',\n",
       "  'hgnc_id': 3236,\n",
       "  'location': '7p11.2',\n",
       "  'locus_group': 'protein-coding gene',\n",
       "  'locus_type': 'gene with protein product',\n",
       "  'name': 'epidermal growth factor receptor',\n",
       "  'node_type': 'gene',\n",
       "  'prev_symbol': 'ERBB',\n",
       "  'species': 'hsa',\n",
       "  'status': 'Approved',\n",
       "  'uniprot_ids': 'P00533'},\n",
       " 'nodes': {'OncodriveROLE_prob': 'True',\n",
       "  'driver_score': 4.0,\n",
       "  'drug_score': [{'drug_evidence': 4, 'drug_name': 'afatinib'},\n",
       "   {'drug_evidence': 1, 'drug_name': 'bibw 2992'},\n",
       "   {'drug_evidence': 2, 'drug_name': 'cetuximab'},\n",
       "   {'drug_evidence': 1, 'drug_name': 'dwp-401'},\n",
       "   {'drug_evidence': 1, 'drug_name': 'emd 55900'},\n",
       "   {'drug_evidence': 5, 'drug_name': 'erlotinib'},\n",
       "   {'drug_evidence': 5, 'drug_name': 'gefitinib'},\n",
       "   {'drug_evidence': 4, 'drug_name': 'lapatinib'},\n",
       "   {'drug_evidence': 1, 'drug_name': 'lidocaine'},\n",
       "   {'drug_evidence': 1, 'drug_name': 'necitumumab'},\n",
       "   {'drug_evidence': 2, 'drug_name': 'panitumumab'},\n",
       "   {'drug_evidence': 1, 'drug_name': 'trastuzumab'},\n",
       "   {'drug_evidence': 1, 'drug_name': 'tykerb'},\n",
       "   {'drug_evidence': 4, 'drug_name': 'vandetanib'}],\n",
       "  'is_cancer_drug_target': 1,\n",
       "  'is_driver': 1}}"
      ]
     },
     "execution_count": 151,
     "metadata": {},
     "output_type": "execute_result"
    }
   ],
   "source": [
    "all_genes['3236']"
   ]
  },
  {
   "cell_type": "code",
   "execution_count": 138,
   "metadata": {
    "collapsed": true,
    "deletable": true,
    "editable": true,
    "run_control": {
     "frozen": false,
     "read_only": false
    }
   },
   "outputs": [],
   "source": [
    "import json"
   ]
  },
  {
   "cell_type": "code",
   "execution_count": 152,
   "metadata": {
    "collapsed": false,
    "deletable": true,
    "editable": true,
    "run_control": {
     "frozen": false,
     "read_only": false
    }
   },
   "outputs": [],
   "source": [
    "all_genes_json = json.dumps(all_genes.values(), indent=4, sort_keys=True)\n",
    "# True and False are not json serializable --- e need to be e.g. string"
   ]
  },
  {
   "cell_type": "code",
   "execution_count": 153,
   "metadata": {
    "collapsed": false
   },
   "outputs": [],
   "source": [
    "# !pwd .."
   ]
  },
  {
   "cell_type": "code",
   "execution_count": 154,
   "metadata": {
    "collapsed": true,
    "deletable": true,
    "editable": true,
    "run_control": {
     "frozen": false,
     "read_only": false
    }
   },
   "outputs": [],
   "source": [
    "with open(\"../driver_db_dump.json\", 'w') as f:\n",
    "    f.write(all_genes_json)"
   ]
  },
  {
   "cell_type": "markdown",
   "metadata": {
    "deletable": true,
    "editable": true
   },
   "source": [
    "# MongoDB stuff\n",
    "\n",
    "Install MongoDB: https://docs.mongodb.com/getting-started/shell/tutorial/install-mongodb-on-os-x/\n",
    "You could just save everyting to a .json and import it at the command line: https://docs.mongodb.com/getting-started/shell/import-data/\n",
    "\n",
    "Or,Use pymongo to place the documents into the database one by one. here is a link to a helpful tutorial: http://api.mongodb.com/python/current/tutorial.html\n",
    "\n",
    "You can use ```conda install pymongo```\n",
    "\n",
    "Although the already mentioned tutorial seems quicker, for completeness: https://docs.mongodb.com/getting-started/python/introduction/\n",
    "\n",
    "### MongoDB Compass\n",
    "It's a seperate install. Intall after you have mongoDB installed. You'll need a running instance of your db up and running. You can do this by calling ```mongod``` on the command line. Then open up Compass and you'll see all the databases that you currently have running. After running the code below, you won't see the changes immediatly in a running Compass session, you'll have to press the sync button somewhere on the top left hand side of the interface."
   ]
  },
  {
   "cell_type": "code",
   "execution_count": 140,
   "metadata": {
    "collapsed": true,
    "deletable": true,
    "editable": true,
    "run_control": {
     "frozen": false,
     "read_only": false
    }
   },
   "outputs": [],
   "source": [
    "# need pymongo\n",
    "import pymongo\n",
    "from pymongo import MongoClient"
   ]
  },
  {
   "cell_type": "code",
   "execution_count": 155,
   "metadata": {
    "collapsed": true,
    "deletable": true,
    "editable": true,
    "run_control": {
     "frozen": false,
     "read_only": false
    }
   },
   "outputs": [],
   "source": [
    "client = MongoClient()\n",
    "# you can call the database what you want; I chose \"drivers\"\n",
    "db = client['drivers_new2']\n",
    "# the collection will be called posts; change accordingly\n",
    "posts = db.cancer_genes"
   ]
  },
  {
   "cell_type": "markdown",
   "metadata": {
    "deletable": true,
    "editable": true
   },
   "source": [
    "# alright pop it into the database"
   ]
  },
  {
   "cell_type": "code",
   "execution_count": 156,
   "metadata": {
    "collapsed": false,
    "deletable": true,
    "editable": true,
    "run_control": {
     "frozen": false,
     "read_only": false
    }
   },
   "outputs": [
    {
     "data": {
      "text/plain": [
       "<pymongo.results.InsertManyResult at 0x270ccbfa0>"
      ]
     },
     "execution_count": 156,
     "metadata": {},
     "output_type": "execute_result"
    }
   ],
   "source": [
    "posts.insert_many(all_genes.values())"
   ]
  },
  {
   "cell_type": "code",
   "execution_count": null,
   "metadata": {
    "collapsed": true,
    "deletable": true,
    "editable": true,
    "run_control": {
     "frozen": false,
     "read_only": false
    }
   },
   "outputs": [],
   "source": [
    "# for i in range(len(df_scored)):\n",
    "#     posts.insert_one(df_scored.iloc[i].to_dict())"
   ]
  },
  {
   "cell_type": "markdown",
   "metadata": {
    "deletable": true,
    "editable": true
   },
   "source": [
    "# Check that it happened with example query"
   ]
  },
  {
   "cell_type": "code",
   "execution_count": 159,
   "metadata": {
    "collapsed": false,
    "deletable": true,
    "editable": true,
    "run_control": {
     "frozen": false,
     "read_only": false
    }
   },
   "outputs": [],
   "source": [
    "for post in posts.find({\"meta_information\": {\"$elemMatch\": {\"gene_symbol\": \"BRAF\"}}}):\n",
    "    print(post)"
   ]
  },
  {
   "cell_type": "code",
   "execution_count": 161,
   "metadata": {
    "collapsed": false
   },
   "outputs": [
    {
     "data": {
      "text/plain": [
       "<pymongo.cursor.Cursor at 0x25c487610>"
      ]
     },
     "execution_count": 161,
     "metadata": {},
     "output_type": "execute_result"
    }
   ],
   "source": [
    "posts.find({\"meta_information\": {\"$elemMatch\": {\"gene_symbol\": \"BRAF\"}}})"
   ]
  },
  {
   "cell_type": "code",
   "execution_count": null,
   "metadata": {
    "collapsed": false,
    "deletable": true,
    "editable": true,
    "run_control": {
     "frozen": false,
     "read_only": false
    }
   },
   "outputs": [],
   "source": [
    "#post[\"cancer\"]"
   ]
  },
  {
   "cell_type": "code",
   "execution_count": 163,
   "metadata": {
    "collapsed": false,
    "deletable": true,
    "editable": true,
    "run_control": {
     "frozen": false,
     "read_only": false
    }
   },
   "outputs": [],
   "source": [
    "found_targets = []\n",
    "for post in posts.find({\"drugs\":  {\"$elemMatch\": {\"drugbank_id\": \"DB00002\"}}}):\n",
    "    found_targets.append((post[\"gene_symbol\"]))\n",
    "    print(post)"
   ]
  },
  {
   "cell_type": "code",
   "execution_count": null,
   "metadata": {
    "collapsed": false,
    "deletable": true,
    "editable": true,
    "run_control": {
     "frozen": false,
     "read_only": false
    }
   },
   "outputs": [],
   "source": [
    "#post[\"gene_symbol\"]"
   ]
  },
  {
   "cell_type": "code",
   "execution_count": null,
   "metadata": {
    "collapsed": false,
    "deletable": true,
    "editable": true,
    "run_control": {
     "frozen": false,
     "read_only": false
    }
   },
   "outputs": [],
   "source": [
    "#found_targets"
   ]
  },
  {
   "cell_type": "code",
   "execution_count": null,
   "metadata": {
    "collapsed": false,
    "deletable": true,
    "editable": true,
    "run_control": {
     "frozen": false,
     "read_only": false
    }
   },
   "outputs": [],
   "source": [
    "#len(post[\"drugs\"]), post[\"drugs\"]"
   ]
  },
  {
   "cell_type": "code",
   "execution_count": null,
   "metadata": {
    "collapsed": true,
    "deletable": true,
    "editable": true,
    "run_control": {
     "frozen": false,
     "read_only": false
    }
   },
   "outputs": [],
   "source": []
  }
 ],
 "metadata": {
  "hide_input": false,
  "kernelspec": {
   "display_name": "Python 2",
   "language": "python",
   "name": "python2"
  },
  "language_info": {
   "codemirror_mode": {
    "name": "ipython",
    "version": 2
   },
   "file_extension": ".py",
   "mimetype": "text/x-python",
   "name": "python",
   "nbconvert_exporter": "python",
   "pygments_lexer": "ipython2",
   "version": "2.7.12"
  },
  "toc": {
   "toc_cell": false,
   "toc_number_sections": true,
   "toc_threshold": 6,
   "toc_window_display": false
  }
 },
 "nbformat": 4,
 "nbformat_minor": 2
}
